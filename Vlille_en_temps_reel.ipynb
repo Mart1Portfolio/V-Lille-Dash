{
 "cells": [
  {
   "cell_type": "code",
   "execution_count": 8,
   "metadata": {},
   "outputs": [],
   "source": [
    "import requests\n",
    "import json\n",
    "import pandas as pd\n",
    "import geopandas as gpd\n",
    "import matplotlib.pyplot as plt\n",
    "import pandas as pd\n",
    "from adress_to_coordinates import geopy_script as gs\n"
   ]
  },
  {
   "cell_type": "code",
   "execution_count": 9,
   "metadata": {},
   "outputs": [],
   "source": [
    "api_url = \"https://data.lillemetropole.fr/data/ogcapi/collections/ilevia:vlille_temps_reel/items?f=geojson&limit=-1\"\n",
    "api_call = requests.get(api_url)\n"
   ]
  },
  {
   "cell_type": "code",
   "execution_count": 10,
   "metadata": {},
   "outputs": [],
   "source": [
    "api_data = api_call.text\n",
    "api_data = json.loads(api_data)\n",
    "df = [feature for feature in api_data['features']]\n",
    "df = pd.json_normalize(df)\n"
   ]
  },
  {
   "cell_type": "code",
   "execution_count": 11,
   "metadata": {},
   "outputs": [
    {
     "data": {
      "text/html": [
       "<div>\n",
       "<style scoped>\n",
       "    .dataframe tbody tr th:only-of-type {\n",
       "        vertical-align: middle;\n",
       "    }\n",
       "\n",
       "    .dataframe tbody tr th {\n",
       "        vertical-align: top;\n",
       "    }\n",
       "\n",
       "    .dataframe thead th {\n",
       "        text-align: right;\n",
       "    }\n",
       "</style>\n",
       "<table border=\"1\" class=\"dataframe\">\n",
       "  <thead>\n",
       "    <tr style=\"text-align: right;\">\n",
       "      <th></th>\n",
       "      <th>type</th>\n",
       "      <th>@typeName</th>\n",
       "      <th>@id</th>\n",
       "      <th>geometry.type</th>\n",
       "      <th>geometry.@name</th>\n",
       "      <th>geometry.@srs</th>\n",
       "      <th>geometry.coordinates</th>\n",
       "      <th>properties.nom</th>\n",
       "      <th>properties.adresse</th>\n",
       "      <th>properties.code_insee</th>\n",
       "      <th>properties.commune</th>\n",
       "      <th>properties.etat</th>\n",
       "      <th>properties.type</th>\n",
       "      <th>properties.nb_places_dispo</th>\n",
       "      <th>properties.nb_velos_dispo</th>\n",
       "      <th>properties.etat_connexion</th>\n",
       "      <th>properties.x</th>\n",
       "      <th>properties.y</th>\n",
       "      <th>properties.date_modification</th>\n",
       "    </tr>\n",
       "  </thead>\n",
       "  <tbody>\n",
       "    <tr>\n",
       "      <th>0</th>\n",
       "      <td>Feature</td>\n",
       "      <td>ilevia:vlille_temps_reel</td>\n",
       "      <td>vlille_temps_reel.1</td>\n",
       "      <td>Point</td>\n",
       "      <td>geom</td>\n",
       "      <td>EPSG:4326</td>\n",
       "      <td>[3.075992, 50.641926]</td>\n",
       "      <td>METROPOLE EUROPEENNE DE LILLE</td>\n",
       "      <td>MEL RUE DU BALLON</td>\n",
       "      <td>None</td>\n",
       "      <td>LILLE</td>\n",
       "      <td>RÉFORMÉ</td>\n",
       "      <td>AVEC TPE</td>\n",
       "      <td>0</td>\n",
       "      <td>0</td>\n",
       "      <td>DÉCONNECTÉ</td>\n",
       "      <td>3.075992</td>\n",
       "      <td>50.641926</td>\n",
       "      <td>2022-11-29T10:47:16.181+00:00</td>\n",
       "    </tr>\n",
       "    <tr>\n",
       "      <th>1</th>\n",
       "      <td>Feature</td>\n",
       "      <td>ilevia:vlille_temps_reel</td>\n",
       "      <td>vlille_temps_reel.105</td>\n",
       "      <td>Point</td>\n",
       "      <td>geom</td>\n",
       "      <td>EPSG:4326</td>\n",
       "      <td>[3.10231, 50.638126]</td>\n",
       "      <td>VERDUN</td>\n",
       "      <td>69 AVENUE DE VERDUN</td>\n",
       "      <td>None</td>\n",
       "      <td>MONS EN BAROEUL</td>\n",
       "      <td>RÉFORMÉ</td>\n",
       "      <td>AVEC TPE</td>\n",
       "      <td>0</td>\n",
       "      <td>0</td>\n",
       "      <td>DÉCONNECTÉ</td>\n",
       "      <td>3.102310</td>\n",
       "      <td>50.638126</td>\n",
       "      <td>2022-11-29T10:47:16.183+00:00</td>\n",
       "    </tr>\n",
       "    <tr>\n",
       "      <th>2</th>\n",
       "      <td>Feature</td>\n",
       "      <td>ilevia:vlille_temps_reel</td>\n",
       "      <td>vlille_temps_reel.106</td>\n",
       "      <td>Point</td>\n",
       "      <td>geom</td>\n",
       "      <td>EPSG:4326</td>\n",
       "      <td>[3.112704, 50.638123]</td>\n",
       "      <td>CONCORDE</td>\n",
       "      <td>27 BOULEVARD ALPHONSE GAYET</td>\n",
       "      <td>None</td>\n",
       "      <td>MONS EN BAROEUL</td>\n",
       "      <td>RÉFORMÉ</td>\n",
       "      <td>AVEC TPE</td>\n",
       "      <td>0</td>\n",
       "      <td>0</td>\n",
       "      <td>DÉCONNECTÉ</td>\n",
       "      <td>3.112704</td>\n",
       "      <td>50.638123</td>\n",
       "      <td>2022-11-29T10:47:16.183+00:00</td>\n",
       "    </tr>\n",
       "    <tr>\n",
       "      <th>3</th>\n",
       "      <td>Feature</td>\n",
       "      <td>ilevia:vlille_temps_reel</td>\n",
       "      <td>vlille_temps_reel.109</td>\n",
       "      <td>Point</td>\n",
       "      <td>geom</td>\n",
       "      <td>EPSG:4326</td>\n",
       "      <td>[3.030667, 50.623466]</td>\n",
       "      <td>SQUARE DU PORTUGAL</td>\n",
       "      <td>FACE AU 204 RUE DE LA BASSEE</td>\n",
       "      <td>None</td>\n",
       "      <td>LILLE</td>\n",
       "      <td>RÉFORMÉ</td>\n",
       "      <td>AVEC TPE</td>\n",
       "      <td>0</td>\n",
       "      <td>0</td>\n",
       "      <td>DÉCONNECTÉ</td>\n",
       "      <td>3.030667</td>\n",
       "      <td>50.623466</td>\n",
       "      <td>2022-11-29T10:47:16.184+00:00</td>\n",
       "    </tr>\n",
       "    <tr>\n",
       "      <th>4</th>\n",
       "      <td>Feature</td>\n",
       "      <td>ilevia:vlille_temps_reel</td>\n",
       "      <td>vlille_temps_reel.112</td>\n",
       "      <td>Point</td>\n",
       "      <td>geom</td>\n",
       "      <td>EPSG:4326</td>\n",
       "      <td>[3.115101, 50.626846]</td>\n",
       "      <td>SQUARE CHARLES DE GAULLE</td>\n",
       "      <td>4, RUE FERDINAND BUISSON</td>\n",
       "      <td>None</td>\n",
       "      <td>HELLEMMES</td>\n",
       "      <td>RÉFORMÉ</td>\n",
       "      <td>AVEC TPE</td>\n",
       "      <td>0</td>\n",
       "      <td>0</td>\n",
       "      <td>DÉCONNECTÉ</td>\n",
       "      <td>3.115101</td>\n",
       "      <td>50.626846</td>\n",
       "      <td>2022-11-29T10:47:16.184+00:00</td>\n",
       "    </tr>\n",
       "    <tr>\n",
       "      <th>...</th>\n",
       "      <td>...</td>\n",
       "      <td>...</td>\n",
       "      <td>...</td>\n",
       "      <td>...</td>\n",
       "      <td>...</td>\n",
       "      <td>...</td>\n",
       "      <td>...</td>\n",
       "      <td>...</td>\n",
       "      <td>...</td>\n",
       "      <td>...</td>\n",
       "      <td>...</td>\n",
       "      <td>...</td>\n",
       "      <td>...</td>\n",
       "      <td>...</td>\n",
       "      <td>...</td>\n",
       "      <td>...</td>\n",
       "      <td>...</td>\n",
       "      <td>...</td>\n",
       "      <td>...</td>\n",
       "    </tr>\n",
       "    <tr>\n",
       "      <th>297</th>\n",
       "      <td>Feature</td>\n",
       "      <td>ilevia:vlille_temps_reel</td>\n",
       "      <td>vlille_temps_reel.995</td>\n",
       "      <td>Point</td>\n",
       "      <td>geom</td>\n",
       "      <td>EPSG:4326</td>\n",
       "      <td>[3.086592765398914, 50.61487204991714]</td>\n",
       "      <td>STATION MOBILE</td>\n",
       "      <td>4 Rue du Professeur Langevin</td>\n",
       "      <td>None</td>\n",
       "      <td>Lille</td>\n",
       "      <td>HORS SERVICE</td>\n",
       "      <td>AVEC TPE</td>\n",
       "      <td>20</td>\n",
       "      <td>0</td>\n",
       "      <td>DÉCONNECTÉ</td>\n",
       "      <td>3.086593</td>\n",
       "      <td>50.614872</td>\n",
       "      <td>2025-03-19T22:43:24.907+00:00</td>\n",
       "    </tr>\n",
       "    <tr>\n",
       "      <th>298</th>\n",
       "      <td>Feature</td>\n",
       "      <td>ilevia:vlille_temps_reel</td>\n",
       "      <td>vlille_temps_reel.996</td>\n",
       "      <td>Point</td>\n",
       "      <td>geom</td>\n",
       "      <td>EPSG:4326</td>\n",
       "      <td>[3.086178, 50.615795]</td>\n",
       "      <td>STATION MOBILE 1</td>\n",
       "      <td>4 Rue du Professeur Langevin</td>\n",
       "      <td>None</td>\n",
       "      <td>Lille</td>\n",
       "      <td>HORS SERVICE</td>\n",
       "      <td>AVEC TPE</td>\n",
       "      <td>20</td>\n",
       "      <td>0</td>\n",
       "      <td>DÉCONNECTÉ</td>\n",
       "      <td>3.086178</td>\n",
       "      <td>50.615795</td>\n",
       "      <td>2025-03-19T22:43:24.907+00:00</td>\n",
       "    </tr>\n",
       "    <tr>\n",
       "      <th>299</th>\n",
       "      <td>Feature</td>\n",
       "      <td>ilevia:vlille_temps_reel</td>\n",
       "      <td>vlille_temps_reel.997</td>\n",
       "      <td>Point</td>\n",
       "      <td>geom</td>\n",
       "      <td>EPSG:4326</td>\n",
       "      <td>[3.088049, 50.614968]</td>\n",
       "      <td>STATION MOBILE 2</td>\n",
       "      <td>4 Rue du Professeur Langevin</td>\n",
       "      <td>None</td>\n",
       "      <td>Lille</td>\n",
       "      <td>HORS SERVICE</td>\n",
       "      <td>AVEC TPE</td>\n",
       "      <td>20</td>\n",
       "      <td>0</td>\n",
       "      <td>DÉCONNECTÉ</td>\n",
       "      <td>3.088049</td>\n",
       "      <td>50.614968</td>\n",
       "      <td>2025-03-19T22:43:24.907+00:00</td>\n",
       "    </tr>\n",
       "    <tr>\n",
       "      <th>300</th>\n",
       "      <td>Feature</td>\n",
       "      <td>ilevia:vlille_temps_reel</td>\n",
       "      <td>vlille_temps_reel.998</td>\n",
       "      <td>Point</td>\n",
       "      <td>geom</td>\n",
       "      <td>EPSG:4326</td>\n",
       "      <td>[3.087023, 50.616138]</td>\n",
       "      <td>STATION MOBILE 3</td>\n",
       "      <td>4 Rue du Professeur Langevin</td>\n",
       "      <td>None</td>\n",
       "      <td>Lille</td>\n",
       "      <td>HORS SERVICE</td>\n",
       "      <td>AVEC TPE</td>\n",
       "      <td>20</td>\n",
       "      <td>0</td>\n",
       "      <td>DÉCONNECTÉ</td>\n",
       "      <td>3.087023</td>\n",
       "      <td>50.616138</td>\n",
       "      <td>2025-03-19T22:43:24.908+00:00</td>\n",
       "    </tr>\n",
       "    <tr>\n",
       "      <th>301</th>\n",
       "      <td>Feature</td>\n",
       "      <td>ilevia:vlille_temps_reel</td>\n",
       "      <td>vlille_temps_reel.999</td>\n",
       "      <td>Point</td>\n",
       "      <td>geom</td>\n",
       "      <td>EPSG:4326</td>\n",
       "      <td>[3.086507, 50.616626]</td>\n",
       "      <td>STATION TEST</td>\n",
       "      <td>4 Rue du Professeur Langevin</td>\n",
       "      <td>None</td>\n",
       "      <td>Lille</td>\n",
       "      <td>HORS SERVICE</td>\n",
       "      <td>AVEC TPE</td>\n",
       "      <td>2</td>\n",
       "      <td>0</td>\n",
       "      <td>DÉCONNECTÉ</td>\n",
       "      <td>3.086507</td>\n",
       "      <td>50.616626</td>\n",
       "      <td>2025-03-19T22:43:24.908+00:00</td>\n",
       "    </tr>\n",
       "  </tbody>\n",
       "</table>\n",
       "<p>302 rows × 19 columns</p>\n",
       "</div>"
      ],
      "text/plain": [
       "        type                 @typeName                    @id geometry.type  \\\n",
       "0    Feature  ilevia:vlille_temps_reel    vlille_temps_reel.1         Point   \n",
       "1    Feature  ilevia:vlille_temps_reel  vlille_temps_reel.105         Point   \n",
       "2    Feature  ilevia:vlille_temps_reel  vlille_temps_reel.106         Point   \n",
       "3    Feature  ilevia:vlille_temps_reel  vlille_temps_reel.109         Point   \n",
       "4    Feature  ilevia:vlille_temps_reel  vlille_temps_reel.112         Point   \n",
       "..       ...                       ...                    ...           ...   \n",
       "297  Feature  ilevia:vlille_temps_reel  vlille_temps_reel.995         Point   \n",
       "298  Feature  ilevia:vlille_temps_reel  vlille_temps_reel.996         Point   \n",
       "299  Feature  ilevia:vlille_temps_reel  vlille_temps_reel.997         Point   \n",
       "300  Feature  ilevia:vlille_temps_reel  vlille_temps_reel.998         Point   \n",
       "301  Feature  ilevia:vlille_temps_reel  vlille_temps_reel.999         Point   \n",
       "\n",
       "    geometry.@name geometry.@srs                    geometry.coordinates  \\\n",
       "0             geom     EPSG:4326                   [3.075992, 50.641926]   \n",
       "1             geom     EPSG:4326                    [3.10231, 50.638126]   \n",
       "2             geom     EPSG:4326                   [3.112704, 50.638123]   \n",
       "3             geom     EPSG:4326                   [3.030667, 50.623466]   \n",
       "4             geom     EPSG:4326                   [3.115101, 50.626846]   \n",
       "..             ...           ...                                     ...   \n",
       "297           geom     EPSG:4326  [3.086592765398914, 50.61487204991714]   \n",
       "298           geom     EPSG:4326                   [3.086178, 50.615795]   \n",
       "299           geom     EPSG:4326                   [3.088049, 50.614968]   \n",
       "300           geom     EPSG:4326                   [3.087023, 50.616138]   \n",
       "301           geom     EPSG:4326                   [3.086507, 50.616626]   \n",
       "\n",
       "                    properties.nom            properties.adresse  \\\n",
       "0    METROPOLE EUROPEENNE DE LILLE             MEL RUE DU BALLON   \n",
       "1                           VERDUN           69 AVENUE DE VERDUN   \n",
       "2                         CONCORDE   27 BOULEVARD ALPHONSE GAYET   \n",
       "3               SQUARE DU PORTUGAL  FACE AU 204 RUE DE LA BASSEE   \n",
       "4         SQUARE CHARLES DE GAULLE      4, RUE FERDINAND BUISSON   \n",
       "..                             ...                           ...   \n",
       "297                 STATION MOBILE  4 Rue du Professeur Langevin   \n",
       "298               STATION MOBILE 1  4 Rue du Professeur Langevin   \n",
       "299               STATION MOBILE 2  4 Rue du Professeur Langevin   \n",
       "300               STATION MOBILE 3  4 Rue du Professeur Langevin   \n",
       "301                   STATION TEST  4 Rue du Professeur Langevin   \n",
       "\n",
       "    properties.code_insee properties.commune properties.etat properties.type  \\\n",
       "0                    None              LILLE         RÉFORMÉ        AVEC TPE   \n",
       "1                    None    MONS EN BAROEUL         RÉFORMÉ        AVEC TPE   \n",
       "2                    None    MONS EN BAROEUL         RÉFORMÉ        AVEC TPE   \n",
       "3                    None              LILLE         RÉFORMÉ        AVEC TPE   \n",
       "4                    None          HELLEMMES         RÉFORMÉ        AVEC TPE   \n",
       "..                    ...                ...             ...             ...   \n",
       "297                  None              Lille    HORS SERVICE        AVEC TPE   \n",
       "298                  None              Lille    HORS SERVICE        AVEC TPE   \n",
       "299                  None              Lille    HORS SERVICE        AVEC TPE   \n",
       "300                  None              Lille    HORS SERVICE        AVEC TPE   \n",
       "301                  None              Lille    HORS SERVICE        AVEC TPE   \n",
       "\n",
       "     properties.nb_places_dispo  properties.nb_velos_dispo  \\\n",
       "0                             0                          0   \n",
       "1                             0                          0   \n",
       "2                             0                          0   \n",
       "3                             0                          0   \n",
       "4                             0                          0   \n",
       "..                          ...                        ...   \n",
       "297                          20                          0   \n",
       "298                          20                          0   \n",
       "299                          20                          0   \n",
       "300                          20                          0   \n",
       "301                           2                          0   \n",
       "\n",
       "    properties.etat_connexion  properties.x  properties.y  \\\n",
       "0                  DÉCONNECTÉ      3.075992     50.641926   \n",
       "1                  DÉCONNECTÉ      3.102310     50.638126   \n",
       "2                  DÉCONNECTÉ      3.112704     50.638123   \n",
       "3                  DÉCONNECTÉ      3.030667     50.623466   \n",
       "4                  DÉCONNECTÉ      3.115101     50.626846   \n",
       "..                        ...           ...           ...   \n",
       "297                DÉCONNECTÉ      3.086593     50.614872   \n",
       "298                DÉCONNECTÉ      3.086178     50.615795   \n",
       "299                DÉCONNECTÉ      3.088049     50.614968   \n",
       "300                DÉCONNECTÉ      3.087023     50.616138   \n",
       "301                DÉCONNECTÉ      3.086507     50.616626   \n",
       "\n",
       "      properties.date_modification  \n",
       "0    2022-11-29T10:47:16.181+00:00  \n",
       "1    2022-11-29T10:47:16.183+00:00  \n",
       "2    2022-11-29T10:47:16.183+00:00  \n",
       "3    2022-11-29T10:47:16.184+00:00  \n",
       "4    2022-11-29T10:47:16.184+00:00  \n",
       "..                             ...  \n",
       "297  2025-03-19T22:43:24.907+00:00  \n",
       "298  2025-03-19T22:43:24.907+00:00  \n",
       "299  2025-03-19T22:43:24.907+00:00  \n",
       "300  2025-03-19T22:43:24.908+00:00  \n",
       "301  2025-03-19T22:43:24.908+00:00  \n",
       "\n",
       "[302 rows x 19 columns]"
      ]
     },
     "execution_count": 11,
     "metadata": {},
     "output_type": "execute_result"
    }
   ],
   "source": [
    "df"
   ]
  },
  {
   "cell_type": "code",
   "execution_count": 12,
   "metadata": {},
   "outputs": [],
   "source": [
    "def create_map(df):\n",
    "    fig = px.scatter_map(df,\n",
    "                        lat=\"properties.y\",\n",
    "                        lon=\"properties.x\", \n",
    "                        hover_data = {\"properties.nb_places_dispo\" : True,\n",
    "                            \"properties.nb_velos_dispo\" : True},\n",
    "                        color=\"properties.nom\",\n",
    "                        color_continuous_scale=px.colors.cyclical.IceFire,\n",
    "                        zoom=13, \n",
    "                        height=800,\n",
    "                        )\n",
    "    fig.update_traces(marker=dict(size=15))\n",
    "    fig.update_layout(mapbox_style=\"open-street-map\")\n",
    "    return fig\n"
   ]
  },
  {
   "cell_type": "code",
   "execution_count": 13,
   "metadata": {},
   "outputs": [
    {
     "data": {
      "application/vnd.plotly.v1+json": {
       "config": {
        "plotlyServerURL": "https://plot.ly"
       },
       "data": [
        {
         "customdata": {
          "bdata": "AAA=",
          "dtype": "i1",
          "shape": "1, 2"
         },
         "hovertemplate": "properties.nom=METROPOLE EUROPEENNE DE LILLE<br>properties.y=%{lat}<br>properties.x=%{lon}<br>properties.nb_places_dispo=%{customdata[0]}<br>properties.nb_velos_dispo=%{customdata[1]}<extra></extra>",
         "lat": {
          "bdata": "3jmUoSpSSUA=",
          "dtype": "f8"
         },
         "legendgroup": "METROPOLE EUROPEENNE DE LILLE",
         "lon": {
          "bdata": "oQ+WsaGbCEA=",
          "dtype": "f8"
         },
         "marker": {
          "color": "#636efa",
          "size": 15
         },
         "mode": "markers",
         "name": "METROPOLE EUROPEENNE DE LILLE",
         "showlegend": true,
         "subplot": "map",
         "type": "scattermap"
        },
        {
         "customdata": {
          "bdata": "AAA=",
          "dtype": "i1",
          "shape": "1, 2"
         },
         "hovertemplate": "properties.nom=VERDUN<br>properties.y=%{lat}<br>properties.x=%{lon}<br>properties.nb_places_dispo=%{customdata[0]}<br>properties.nb_velos_dispo=%{customdata[1]}<extra></extra>",
         "lat": {
          "bdata": "GF3eHK5RSUA=",
          "dtype": "f8"
         },
         "legendgroup": "VERDUN",
         "lon": {
          "bdata": "Gm7A54fRCEA=",
          "dtype": "f8"
         },
         "marker": {
          "color": "#EF553B",
          "size": 15
         },
         "mode": "markers",
         "name": "VERDUN",
         "showlegend": true,
         "subplot": "map",
         "type": "scattermap"
        },
        {
         "customdata": {
          "bdata": "AAA=",
          "dtype": "i1",
          "shape": "1, 2"
         },
         "hovertemplate": "properties.nom=CONCORDE<br>properties.y=%{lat}<br>properties.x=%{lon}<br>properties.nb_places_dispo=%{customdata[0]}<br>properties.nb_velos_dispo=%{customdata[1]}<extra></extra>",
         "lat": {
          "bdata": "p+mzA65RSUA=",
          "dtype": "f8"
         },
         "legendgroup": "CONCORDE",
         "lon": {
          "bdata": "7gbRWtHmCEA=",
          "dtype": "f8"
         },
         "marker": {
          "color": "#00cc96",
          "size": 15
         },
         "mode": "markers",
         "name": "CONCORDE",
         "showlegend": true,
         "subplot": "map",
         "type": "scattermap"
        },
        {
         "customdata": {
          "bdata": "AAA=",
          "dtype": "i1",
          "shape": "1, 2"
         },
         "hovertemplate": "properties.nom=SQUARE DU PORTUGAL<br>properties.y=%{lat}<br>properties.x=%{lon}<br>properties.nb_places_dispo=%{customdata[0]}<br>properties.nb_velos_dispo=%{customdata[1]}<extra></extra>",
         "lat": {
          "bdata": "fxXgu81PSUA=",
          "dtype": "f8"
         },
         "legendgroup": "SQUARE DU PORTUGAL",
         "lon": {
          "bdata": "DogQV84+CEA=",
          "dtype": "f8"
         },
         "marker": {
          "color": "#ab63fa",
          "size": 15
         },
         "mode": "markers",
         "name": "SQUARE DU PORTUGAL",
         "showlegend": true,
         "subplot": "map",
         "type": "scattermap"
        },
        {
         "customdata": {
          "bdata": "AAA=",
          "dtype": "i1",
          "shape": "1, 2"
         },
         "hovertemplate": "properties.nom=SQUARE CHARLES DE GAULLE<br>properties.y=%{lat}<br>properties.x=%{lon}<br>properties.nb_places_dispo=%{customdata[0]}<br>properties.nb_velos_dispo=%{customdata[1]}<extra></extra>",
         "lat": {
          "bdata": "cNBefTxQSUA=",
          "dtype": "f8"
         },
         "legendgroup": "SQUARE CHARLES DE GAULLE",
         "lon": {
          "bdata": "KuW1ErrrCEA=",
          "dtype": "f8"
         },
         "marker": {
          "color": "#FFA15A",
          "size": 15
         },
         "mode": "markers",
         "name": "SQUARE CHARLES DE GAULLE",
         "showlegend": true,
         "subplot": "map",
         "type": "scattermap"
        },
        {
         "customdata": {
          "bdata": "AAA=",
          "dtype": "i1",
          "shape": "1, 2"
         },
         "hovertemplate": "properties.nom=COLLEGE LAVOISIER<br>properties.y=%{lat}<br>properties.x=%{lon}<br>properties.nb_places_dispo=%{customdata[0]}<br>properties.nb_velos_dispo=%{customdata[1]}<extra></extra>",
         "lat": {
          "bdata": "/rrTnSdSSUA=",
          "dtype": "f8"
         },
         "legendgroup": "COLLEGE LAVOISIER",
         "lon": {
          "bdata": "qdxELc0tCEA=",
          "dtype": "f8"
         },
         "marker": {
          "color": "#19d3f3",
          "size": 15
         },
         "mode": "markers",
         "name": "COLLEGE LAVOISIER",
         "showlegend": true,
         "subplot": "map",
         "type": "scattermap"
        },
        {
         "customdata": {
          "bdata": "AwA=",
          "dtype": "i1",
          "shape": "1, 2"
         },
         "hovertemplate": "properties.nom=LE POLYEDRE<br>properties.y=%{lat}<br>properties.x=%{lon}<br>properties.nb_places_dispo=%{customdata[0]}<br>properties.nb_velos_dispo=%{customdata[1]}<extra></extra>",
         "lat": {
          "bdata": "PGagMv5RSUA=",
          "dtype": "f8"
         },
         "legendgroup": "LE POLYEDRE",
         "lon": {
          "bdata": "mu0KfbDsCEA=",
          "dtype": "f8"
         },
         "marker": {
          "color": "#FF6692",
          "size": 15
         },
         "mode": "markers",
         "name": "LE POLYEDRE",
         "showlegend": true,
         "subplot": "map",
         "type": "scattermap"
        },
        {
         "customdata": {
          "bdata": "AAA=",
          "dtype": "i1",
          "shape": "1, 2"
         },
         "hovertemplate": "properties.nom=FLERS MAIRIE<br>properties.y=%{lat}<br>properties.x=%{lon}<br>properties.nb_places_dispo=%{customdata[0]}<br>properties.nb_velos_dispo=%{customdata[1]}<extra></extra>",
         "lat": {
          "bdata": "xHdi1otRSUA=",
          "dtype": "f8"
         },
         "legendgroup": "FLERS MAIRIE",
         "lon": {
          "bdata": "04VY/REGCUA=",
          "dtype": "f8"
         },
         "marker": {
          "color": "#B6E880",
          "size": 15
         },
         "mode": "markers",
         "name": "FLERS MAIRIE",
         "showlegend": true,
         "subplot": "map",
         "type": "scattermap"
        },
        {
         "customdata": {
          "bdata": "AQA=",
          "dtype": "i1",
          "shape": "1, 2"
         },
         "hovertemplate": "properties.nom=RUE LOUISE MICHEL<br>properties.y=%{lat}<br>properties.x=%{lon}<br>properties.nb_places_dispo=%{customdata[0]}<br>properties.nb_velos_dispo=%{customdata[1]}<extra></extra>",
         "lat": {
          "bdata": "ZmoSvCFRSUA=",
          "dtype": "f8"
         },
         "legendgroup": "RUE LOUISE MICHEL",
         "lon": {
          "bdata": "2xZlNsgECUA=",
          "dtype": "f8"
         },
         "marker": {
          "color": "#FF97FF",
          "size": 15
         },
         "mode": "markers",
         "name": "RUE LOUISE MICHEL",
         "showlegend": true,
         "subplot": "map",
         "type": "scattermap"
        },
        {
         "customdata": {
          "bdata": "AAA=",
          "dtype": "i1",
          "shape": "1, 2"
         },
         "hovertemplate": "properties.nom=FLERS CHATEAU<br>properties.y=%{lat}<br>properties.x=%{lon}<br>properties.nb_places_dispo=%{customdata[0]}<br>properties.nb_velos_dispo=%{customdata[1]}<extra></extra>",
         "lat": {
          "bdata": "4dHGEWtRSUA=",
          "dtype": "f8"
         },
         "legendgroup": "FLERS CHATEAU",
         "lon": {
          "bdata": "/KpcqPwLCUA=",
          "dtype": "f8"
         },
         "marker": {
          "color": "#FECB52",
          "size": 15
         },
         "mode": "markers",
         "name": "FLERS CHATEAU",
         "showlegend": true,
         "subplot": "map",
         "type": "scattermap"
        },
        {
         "customdata": {
          "bdata": "AAA=",
          "dtype": "i1",
          "shape": "1, 2"
         },
         "hovertemplate": "properties.nom=RUE DES VICTOIRES<br>properties.y=%{lat}<br>properties.x=%{lon}<br>properties.nb_places_dispo=%{customdata[0]}<br>properties.nb_velos_dispo=%{customdata[1]}<extra></extra>",
         "lat": {
          "bdata": "umsJ+aBPSUA=",
          "dtype": "f8"
         },
         "legendgroup": "RUE DES VICTOIRES",
         "lon": {
          "bdata": "7X4V4LsNCUA=",
          "dtype": "f8"
         },
         "marker": {
          "color": "#636efa",
          "size": 15
         },
         "mode": "markers",
         "name": "RUE DES VICTOIRES",
         "showlegend": true,
         "subplot": "map",
         "type": "scattermap"
        },
        {
         "customdata": {
          "bdata": "AQA=",
          "dtype": "i1",
          "shape": "1, 2"
         },
         "hovertemplate": "properties.nom=ROND POINT DE TOURNAI<br>properties.y=%{lat}<br>properties.x=%{lon}<br>properties.nb_places_dispo=%{customdata[0]}<br>properties.nb_velos_dispo=%{customdata[1]}<extra></extra>",
         "lat": {
          "bdata": "c2N6whJPSUA=",
          "dtype": "f8"
         },
         "legendgroup": "ROND POINT DE TOURNAI",
         "lon": {
          "bdata": "8uzyrQ8rCUA=",
          "dtype": "f8"
         },
         "marker": {
          "color": "#EF553B",
          "size": 15
         },
         "mode": "markers",
         "name": "ROND POINT DE TOURNAI",
         "showlegend": true,
         "subplot": "map",
         "type": "scattermap"
        },
        {
         "customdata": {
          "bdata": "AQA=",
          "dtype": "i1",
          "shape": "1, 2"
         },
         "hovertemplate": "properties.nom=RESIDENCE<br>properties.y=%{lat}<br>properties.x=%{lon}<br>properties.nb_places_dispo=%{customdata[0]}<br>properties.nb_velos_dispo=%{customdata[1]}<extra></extra>",
         "lat": {
          "bdata": "cxHfiVlPSUA=",
          "dtype": "f8"
         },
         "legendgroup": "RESIDENCE",
         "lon": {
          "bdata": "YRqGj4gpCUA=",
          "dtype": "f8"
         },
         "marker": {
          "color": "#00cc96",
          "size": 15
         },
         "mode": "markers",
         "name": "RESIDENCE",
         "showlegend": true,
         "subplot": "map",
         "type": "scattermap"
        },
        {
         "customdata": {
          "bdata": "AAA=",
          "dtype": "i1",
          "shape": "1, 2"
         },
         "hovertemplate": "properties.nom=TROIS PONTS<br>properties.y=%{lat}<br>properties.x=%{lon}<br>properties.nb_places_dispo=%{customdata[0]}<br>properties.nb_velos_dispo=%{customdata[1]}<extra></extra>",
         "lat": {
          "bdata": "BwlRvqBXSUA=",
          "dtype": "f8"
         },
         "legendgroup": "TROIS PONTS",
         "lon": {
          "bdata": "WI6QgTybCUA=",
          "dtype": "f8"
         },
         "marker": {
          "color": "#ab63fa",
          "size": 15
         },
         "mode": "markers",
         "name": "TROIS PONTS",
         "showlegend": true,
         "subplot": "map",
         "type": "scattermap"
        },
        {
         "customdata": {
          "bdata": "GAA=",
          "dtype": "i1",
          "shape": "1, 2"
         },
         "hovertemplate": "properties.nom=PLACE SPRIET<br>properties.y=%{lat}<br>properties.x=%{lon}<br>properties.nb_places_dispo=%{customdata[0]}<br>properties.nb_velos_dispo=%{customdata[1]}<extra></extra>",
         "lat": {
          "bdata": "Zw+0AkNWSUA=",
          "dtype": "f8"
         },
         "legendgroup": "PLACE SPRIET",
         "lon": {
          "bdata": "l3Mprip7CUA=",
          "dtype": "f8"
         },
         "marker": {
          "color": "#FFA15A",
          "size": 15
         },
         "mode": "markers",
         "name": "PLACE SPRIET",
         "showlegend": true,
         "subplot": "map",
         "type": "scattermap"
        },
        {
         "customdata": {
          "bdata": "DAA=",
          "dtype": "i1",
          "shape": "1, 2"
         },
         "hovertemplate": "properties.nom=LES GOBELINS<br>properties.y=%{lat}<br>properties.x=%{lon}<br>properties.nb_places_dispo=%{customdata[0]}<br>properties.nb_velos_dispo=%{customdata[1]}<extra></extra>",
         "lat": {
          "bdata": "qRPQRNhYSUA=",
          "dtype": "f8"
         },
         "legendgroup": "LES GOBELINS",
         "lon": {
          "bdata": "cSAkC5hgCUA=",
          "dtype": "f8"
         },
         "marker": {
          "color": "#19d3f3",
          "size": 15
         },
         "mode": "markers",
         "name": "LES GOBELINS",
         "showlegend": true,
         "subplot": "map",
         "type": "scattermap"
        },
        {
         "customdata": {
          "bdata": "BwA=",
          "dtype": "i1",
          "shape": "1, 2"
         },
         "hovertemplate": "properties.nom=PELLART<br>properties.y=%{lat}<br>properties.x=%{lon}<br>properties.nb_places_dispo=%{customdata[0]}<br>properties.nb_velos_dispo=%{customdata[1]}<extra></extra>",
         "lat": {
          "bdata": "BaOSOgFZSUA=",
          "dtype": "f8"
         },
         "legendgroup": "PELLART",
         "lon": {
          "bdata": "vW2mQjxyCUA=",
          "dtype": "f8"
         },
         "marker": {
          "color": "#FF6692",
          "size": 15
         },
         "mode": "markers",
         "name": "PELLART",
         "showlegend": true,
         "subplot": "map",
         "type": "scattermap"
        },
        {
         "customdata": {
          "bdata": "CgA=",
          "dtype": "i1",
          "shape": "1, 2"
         },
         "hovertemplate": "properties.nom=MOTTE BOSSUT<br>properties.y=%{lat}<br>properties.x=%{lon}<br>properties.nb_places_dispo=%{customdata[0]}<br>properties.nb_velos_dispo=%{customdata[1]}<extra></extra>",
         "lat": {
          "bdata": "BAMIH0pYSUA=",
          "dtype": "f8"
         },
         "legendgroup": "MOTTE BOSSUT",
         "lon": {
          "bdata": "y03U0txqCUA=",
          "dtype": "f8"
         },
         "marker": {
          "color": "#B6E880",
          "size": 15
         },
         "mode": "markers",
         "name": "MOTTE BOSSUT",
         "showlegend": true,
         "subplot": "map",
         "type": "scattermap"
        },
        {
         "customdata": {
          "bdata": "EAA=",
          "dtype": "i1",
          "shape": "1, 2"
         },
         "hovertemplate": "properties.nom=RUE DE TOURCOING<br>properties.y=%{lat}<br>properties.x=%{lon}<br>properties.nb_places_dispo=%{customdata[0]}<br>properties.nb_velos_dispo=%{customdata[1]}<extra></extra>",
         "lat": {
          "bdata": "iXjr/NtZSUA=",
          "dtype": "f8"
         },
         "legendgroup": "RUE DE TOURCOING",
         "lon": {
          "bdata": "TTCca5hhCUA=",
          "dtype": "f8"
         },
         "marker": {
          "color": "#FF97FF",
          "size": 15
         },
         "mode": "markers",
         "name": "RUE DE TOURCOING",
         "showlegend": true,
         "subplot": "map",
         "type": "scattermap"
        },
        {
         "customdata": {
          "bdata": "AQA=",
          "dtype": "i1",
          "shape": "1, 2"
         },
         "hovertemplate": "properties.nom=WATTRELOS PLACE<br>properties.y=%{lat}<br>properties.x=%{lon}<br>properties.nb_places_dispo=%{customdata[0]}<br>properties.nb_velos_dispo=%{customdata[1]}<extra></extra>",
         "lat": {
          "bdata": "r7DgfsBZSUA=",
          "dtype": "f8"
         },
         "legendgroup": "WATTRELOS PLACE",
         "lon": {
          "bdata": "9z3qr1e4CUA=",
          "dtype": "f8"
         },
         "marker": {
          "color": "#FECB52",
          "size": 15
         },
         "mode": "markers",
         "name": "WATTRELOS PLACE",
         "showlegend": true,
         "subplot": "map",
         "type": "scattermap"
        },
        {
         "customdata": {
          "bdata": "AQA=",
          "dtype": "i1",
          "shape": "1, 2"
         },
         "hovertemplate": "properties.nom=STALINGRAD<br>properties.y=%{lat}<br>properties.x=%{lon}<br>properties.nb_places_dispo=%{customdata[0]}<br>properties.nb_velos_dispo=%{customdata[1]}<extra></extra>",
         "lat": {
          "bdata": "qcE0DB9ZSUA=",
          "dtype": "f8"
         },
         "legendgroup": "STALINGRAD",
         "lon": {
          "bdata": "8Bge+1msCUA=",
          "dtype": "f8"
         },
         "marker": {
          "color": "#636efa",
          "size": 15
         },
         "mode": "markers",
         "name": "STALINGRAD",
         "showlegend": true,
         "subplot": "map",
         "type": "scattermap"
        },
        {
         "customdata": {
          "bdata": "AAA=",
          "dtype": "i1",
          "shape": "1, 2"
         },
         "hovertemplate": "properties.nom=REPUBLIQUE<br>properties.y=%{lat}<br>properties.x=%{lon}<br>properties.nb_places_dispo=%{customdata[0]}<br>properties.nb_velos_dispo=%{customdata[1]}<extra></extra>",
         "lat": {
          "bdata": "XoWUn1RZSUA=",
          "dtype": "f8"
         },
         "legendgroup": "REPUBLIQUE",
         "lon": {
          "bdata": "chqiCn+mCUA=",
          "dtype": "f8"
         },
         "marker": {
          "color": "#EF553B",
          "size": 15
         },
         "mode": "markers",
         "name": "REPUBLIQUE",
         "showlegend": true,
         "subplot": "map",
         "type": "scattermap"
        },
        {
         "customdata": {
          "bdata": "AQA=",
          "dtype": "i1",
          "shape": "1, 2"
         },
         "hovertemplate": "properties.nom=BELFORT<br>properties.y=%{lat}<br>properties.x=%{lon}<br>properties.nb_places_dispo=%{customdata[0]}<br>properties.nb_velos_dispo=%{customdata[1]}<extra></extra>",
         "lat": {
          "bdata": "1ejVAKVPSUA=",
          "dtype": "f8"
         },
         "legendgroup": "BELFORT",
         "lon": {
          "bdata": "1hu1wvSdCEA=",
          "dtype": "f8"
         },
         "marker": {
          "color": "#00cc96",
          "size": 15
         },
         "mode": "markers",
         "name": "BELFORT",
         "showlegend": true,
         "subplot": "map",
         "type": "scattermap"
        },
        {
         "customdata": {
          "bdata": "AAA=",
          "dtype": "i1",
          "shape": "1, 2"
         },
         "hovertemplate": "properties.nom=JULES GUESDE<br>properties.y=%{lat}<br>properties.x=%{lon}<br>properties.nb_places_dispo=%{customdata[0]}<br>properties.nb_velos_dispo=%{customdata[1]}<extra></extra>",
         "lat": {
          "bdata": "E5z6QPJQSUA=",
          "dtype": "f8"
         },
         "legendgroup": "JULES GUESDE",
         "lon": {
          "bdata": "vXK9babiCEA=",
          "dtype": "f8"
         },
         "marker": {
          "color": "#ab63fa",
          "size": 15
         },
         "mode": "markers",
         "name": "JULES GUESDE",
         "showlegend": true,
         "subplot": "map",
         "type": "scattermap"
        },
        {
         "customdata": {
          "bdata": "AAA=",
          "dtype": "i1",
          "shape": "1, 2"
         },
         "hovertemplate": "properties.nom=BOULEVARD DE METZ<br>properties.y=%{lat}<br>properties.x=%{lon}<br>properties.nb_places_dispo=%{customdata[0]}<br>properties.nb_velos_dispo=%{customdata[1]}<extra></extra>",
         "lat": {
          "bdata": "mwKZnUVPSUA=",
          "dtype": "f8"
         },
         "legendgroup": "BOULEVARD DE METZ",
         "lon": {
          "bdata": "K9zykZRUCEA=",
          "dtype": "f8"
         },
         "marker": {
          "color": "#FFA15A",
          "size": 15
         },
         "mode": "markers",
         "name": "BOULEVARD DE METZ",
         "showlegend": true,
         "subplot": "map",
         "type": "scattermap"
        },
        {
         "customdata": {
          "bdata": "AAA=",
          "dtype": "i1",
          "shape": "1, 2"
         },
         "hovertemplate": "properties.nom=RUE DE LA GAITE<br>properties.y=%{lat}<br>properties.x=%{lon}<br>properties.nb_places_dispo=%{customdata[0]}<br>properties.nb_velos_dispo=%{customdata[1]}<extra></extra>",
         "lat": {
          "bdata": "zH9Iv31RSUA=",
          "dtype": "f8"
         },
         "legendgroup": "RUE DE LA GAITE",
         "lon": {
          "bdata": "SMFTyJW6CEA=",
          "dtype": "f8"
         },
         "marker": {
          "color": "#19d3f3",
          "size": 15
         },
         "mode": "markers",
         "name": "RUE DE LA GAITE",
         "showlegend": true,
         "subplot": "map",
         "type": "scattermap"
        },
        {
         "customdata": {
          "bdata": "AAA=",
          "dtype": "i1",
          "shape": "1, 2"
         },
         "hovertemplate": "properties.nom=RUE CHAMBORD<br>properties.y=%{lat}<br>properties.x=%{lon}<br>properties.nb_places_dispo=%{customdata[0]}<br>properties.nb_velos_dispo=%{customdata[1]}<extra></extra>",
         "lat": {
          "bdata": "jdE6qppQSUA=",
          "dtype": "f8"
         },
         "legendgroup": "RUE CHAMBORD",
         "lon": {
          "bdata": "DYrmASwSCUA=",
          "dtype": "f8"
         },
         "marker": {
          "color": "#FF6692",
          "size": 15
         },
         "mode": "markers",
         "name": "RUE CHAMBORD",
         "showlegend": true,
         "subplot": "map",
         "type": "scattermap"
        },
        {
         "customdata": {
          "bdata": "DgA=",
          "dtype": "i1",
          "shape": "1, 2"
         },
         "hovertemplate": "properties.nom=RUE CORNEILLE<br>properties.y=%{lat}<br>properties.x=%{lon}<br>properties.nb_places_dispo=%{customdata[0]}<br>properties.nb_velos_dispo=%{customdata[1]}<extra></extra>",
         "lat": {
          "bdata": "RDS6g9hPSUA=",
          "dtype": "f8"
         },
         "legendgroup": "RUE CORNEILLE",
         "lon": {
          "bdata": "DcNHxJQoCUA=",
          "dtype": "f8"
         },
         "marker": {
          "color": "#B6E880",
          "size": 15
         },
         "mode": "markers",
         "name": "RUE CORNEILLE",
         "showlegend": true,
         "subplot": "map",
         "type": "scattermap"
        },
        {
         "customdata": {
          "bdata": "AAAIAA==",
          "dtype": "i1",
          "shape": "2, 2"
         },
         "hovertemplate": "properties.nom=BLANCHEMAILLE<br>properties.y=%{lat}<br>properties.x=%{lon}<br>properties.nb_places_dispo=%{customdata[0]}<br>properties.nb_velos_dispo=%{customdata[1]}<extra></extra>",
         "lat": {
          "bdata": "MCk+PiFZSUDfpGlQNFlJQA==",
          "dtype": "f8"
         },
         "legendgroup": "BLANCHEMAILLE",
         "lon": {
          "bdata": "n3HhQEhWCUCxGeCCbFkJQA==",
          "dtype": "f8"
         },
         "marker": {
          "color": "#FF97FF",
          "size": 15
         },
         "mode": "markers",
         "name": "BLANCHEMAILLE",
         "showlegend": true,
         "subplot": "map",
         "type": "scattermap"
        },
        {
         "customdata": {
          "bdata": "AwA=",
          "dtype": "i1",
          "shape": "1, 2"
         },
         "hovertemplate": "properties.nom=LAËNNEC<br>properties.y=%{lat}<br>properties.x=%{lon}<br>properties.nb_places_dispo=%{customdata[0]}<br>properties.nb_velos_dispo=%{customdata[1]}<extra></extra>",
         "lat": {
          "bdata": "dXPxtz1VSUA=",
          "dtype": "f8"
         },
         "legendgroup": "LAËNNEC",
         "lon": {
          "bdata": "bXAi+rWVCUA=",
          "dtype": "f8"
         },
         "marker": {
          "color": "#FECB52",
          "size": 15
         },
         "mode": "markers",
         "name": "LAËNNEC",
         "showlegend": true,
         "subplot": "map",
         "type": "scattermap"
        },
        {
         "customdata": {
          "bdata": "HwA=",
          "dtype": "i1",
          "shape": "1, 2"
         },
         "hovertemplate": "properties.nom=UNIVERSITE CATHOLIQUE<br>properties.y=%{lat}<br>properties.x=%{lon}<br>properties.nb_places_dispo=%{customdata[0]}<br>properties.nb_velos_dispo=%{customdata[1]}<extra></extra>",
         "lat": {
          "bdata": "2jnNAu1QSUA=",
          "dtype": "f8"
         },
         "legendgroup": "UNIVERSITE CATHOLIQUE",
         "lon": {
          "bdata": "i96pgHteCEA=",
          "dtype": "f8"
         },
         "marker": {
          "color": "#636efa",
          "size": 15
         },
         "mode": "markers",
         "name": "UNIVERSITE CATHOLIQUE",
         "showlegend": true,
         "subplot": "map",
         "type": "scattermap"
        },
        {
         "customdata": {
          "bdata": "AhA=",
          "dtype": "i1",
          "shape": "1, 2"
         },
         "hovertemplate": "properties.nom=JARDIN VAUBAN<br>properties.y=%{lat}<br>properties.x=%{lon}<br>properties.nb_places_dispo=%{customdata[0]}<br>properties.nb_velos_dispo=%{customdata[1]}<extra></extra>",
         "lat": {
          "bdata": "dhvUfmtRSUA=",
          "dtype": "f8"
         },
         "legendgroup": "JARDIN VAUBAN",
         "lon": {
          "bdata": "VHO5wVBnCEA=",
          "dtype": "f8"
         },
         "marker": {
          "color": "#EF553B",
          "size": 15
         },
         "mode": "markers",
         "name": "JARDIN VAUBAN",
         "showlegend": true,
         "subplot": "map",
         "type": "scattermap"
        },
        {
         "customdata": {
          "bdata": "CQs=",
          "dtype": "i1",
          "shape": "1, 2"
         },
         "hovertemplate": "properties.nom=MAISON FOLIE WAZEMMES<br>properties.y=%{lat}<br>properties.x=%{lon}<br>properties.nb_places_dispo=%{customdata[0]}<br>properties.nb_velos_dispo=%{customdata[1]}<extra></extra>",
         "lat": {
          "bdata": "xHx5AfZPSUA=",
          "dtype": "f8"
         },
         "legendgroup": "MAISON FOLIE WAZEMMES",
         "lon": {
          "bdata": "UzwuqkVkCEA=",
          "dtype": "f8"
         },
         "marker": {
          "color": "#00cc96",
          "size": 15
         },
         "mode": "markers",
         "name": "MAISON FOLIE WAZEMMES",
         "showlegend": true,
         "subplot": "map",
         "type": "scattermap"
        },
        {
         "customdata": {
          "bdata": "ASc=",
          "dtype": "i1",
          "shape": "1, 2"
         },
         "hovertemplate": "properties.nom=MASSENA<br>properties.y=%{lat}<br>properties.x=%{lon}<br>properties.nb_places_dispo=%{customdata[0]}<br>properties.nb_velos_dispo=%{customdata[1]}<extra></extra>",
         "lat": {
          "bdata": "G7tE9dZQSUA=",
          "dtype": "f8"
         },
         "legendgroup": "MASSENA",
         "lon": {
          "bdata": "n8n+eRpwCEA=",
          "dtype": "f8"
         },
         "marker": {
          "color": "#ab63fa",
          "size": 15
         },
         "mode": "markers",
         "name": "MASSENA",
         "showlegend": true,
         "subplot": "map",
         "type": "scattermap"
        },
        {
         "customdata": {
          "bdata": "GAA=",
          "dtype": "i1",
          "shape": "1, 2"
         },
         "hovertemplate": "properties.nom=REPUBLIQUE BEAUX ARTS<br>properties.y=%{lat}<br>properties.x=%{lon}<br>properties.nb_places_dispo=%{customdata[0]}<br>properties.nb_velos_dispo=%{customdata[1]}<extra></extra>",
         "lat": {
          "bdata": "8FF/vcJQSUA=",
          "dtype": "f8"
         },
         "legendgroup": "REPUBLIQUE BEAUX ARTS",
         "lon": {
          "bdata": "H9rHCn57CEA=",
          "dtype": "f8"
         },
         "marker": {
          "color": "#FFA15A",
          "size": 15
         },
         "mode": "markers",
         "name": "REPUBLIQUE BEAUX ARTS",
         "showlegend": true,
         "subplot": "map",
         "type": "scattermap"
        },
        {
         "customdata": {
          "bdata": "Bwk=",
          "dtype": "i1",
          "shape": "1, 2"
         },
         "hovertemplate": "properties.nom=PLACE DE STRASBOURG<br>properties.y=%{lat}<br>properties.x=%{lon}<br>properties.nb_places_dispo=%{customdata[0]}<br>properties.nb_velos_dispo=%{customdata[1]}<extra></extra>",
         "lat": {
          "bdata": "nUfF/x1RSUA=",
          "dtype": "f8"
         },
         "legendgroup": "PLACE DE STRASBOURG",
         "lon": {
          "bdata": "Quvhy0RxCEA=",
          "dtype": "f8"
         },
         "marker": {
          "color": "#19d3f3",
          "size": 15
         },
         "mode": "markers",
         "name": "PLACE DE STRASBOURG",
         "showlegend": true,
         "subplot": "map",
         "type": "scattermap"
        },
        {
         "customdata": {
          "bdata": "IwU=",
          "dtype": "i1",
          "shape": "1, 2"
         },
         "hovertemplate": "properties.nom=PLACE RICHEBE<br>properties.y=%{lat}<br>properties.x=%{lon}<br>properties.nb_places_dispo=%{customdata[0]}<br>properties.nb_velos_dispo=%{customdata[1]}<extra></extra>",
         "lat": {
          "bdata": "GY18XvFQSUA=",
          "dtype": "f8"
         },
         "legendgroup": "PLACE RICHEBE",
         "lon": {
          "bdata": "2exI9Z1/CEA=",
          "dtype": "f8"
         },
         "marker": {
          "color": "#FF6692",
          "size": 15
         },
         "mode": "markers",
         "name": "PLACE RICHEBE",
         "showlegend": true,
         "subplot": "map",
         "type": "scattermap"
        },
        {
         "customdata": {
          "bdata": "DBg=",
          "dtype": "i1",
          "shape": "1, 2"
         },
         "hovertemplate": "properties.nom=RUE DE TOUL<br>properties.y=%{lat}<br>properties.x=%{lon}<br>properties.nb_places_dispo=%{customdata[0]}<br>properties.nb_velos_dispo=%{customdata[1]}<extra></extra>",
         "lat": {
          "bdata": "BfpEniRRSUA=",
          "dtype": "f8"
         },
         "legendgroup": "RUE DE TOUL",
         "lon": {
          "bdata": "DTm2niFcCEA=",
          "dtype": "f8"
         },
         "marker": {
          "color": "#B6E880",
          "size": 15
         },
         "mode": "markers",
         "name": "RUE DE TOUL",
         "showlegend": true,
         "subplot": "map",
         "type": "scattermap"
        },
        {
         "customdata": {
          "bdata": "HgI=",
          "dtype": "i1",
          "shape": "1, 2"
         },
         "hovertemplate": "properties.nom=RIHOUR<br>properties.y=%{lat}<br>properties.x=%{lon}<br>properties.nb_places_dispo=%{customdata[0]}<br>properties.nb_velos_dispo=%{customdata[1]}<extra></extra>",
         "lat": {
          "bdata": "Pu3w12RRSUA=",
          "dtype": "f8"
         },
         "legendgroup": "RIHOUR",
         "lon": {
          "bdata": "W5avy/B/CEA=",
          "dtype": "f8"
         },
         "marker": {
          "color": "#FF97FF",
          "size": 15
         },
         "mode": "markers",
         "name": "RIHOUR",
         "showlegend": true,
         "subplot": "map",
         "type": "scattermap"
        },
        {
         "customdata": {
          "bdata": "GgY=",
          "dtype": "i1",
          "shape": "1, 2"
         },
         "hovertemplate": "properties.nom=NOUVEAU SIECLE<br>properties.y=%{lat}<br>properties.x=%{lon}<br>properties.nb_places_dispo=%{customdata[0]}<br>properties.nb_velos_dispo=%{customdata[1]}<extra></extra>",
         "lat": {
          "bdata": "YTdsW5RRSUA=",
          "dtype": "f8"
         },
         "legendgroup": "NOUVEAU SIECLE",
         "lon": {
          "bdata": "LXdmguF8CEA=",
          "dtype": "f8"
         },
         "marker": {
          "color": "#FECB52",
          "size": 15
         },
         "mode": "markers",
         "name": "NOUVEAU SIECLE",
         "showlegend": true,
         "subplot": "map",
         "type": "scattermap"
        },
        {
         "customdata": {
          "bdata": "GQA=",
          "dtype": "i1",
          "shape": "1, 2"
         },
         "hovertemplate": "properties.nom=OPERA<br>properties.y=%{lat}<br>properties.x=%{lon}<br>properties.nb_places_dispo=%{customdata[0]}<br>properties.nb_velos_dispo=%{customdata[1]}<extra></extra>",
         "lat": {
          "bdata": "NdQoJJlRSUA=",
          "dtype": "f8"
         },
         "legendgroup": "OPERA",
         "lon": {
          "bdata": "je21oPeGCEA=",
          "dtype": "f8"
         },
         "marker": {
          "color": "#636efa",
          "size": 15
         },
         "mode": "markers",
         "name": "OPERA",
         "showlegend": true,
         "subplot": "map",
         "type": "scattermap"
        },
        {
         "customdata": {
          "bdata": "BA4=",
          "dtype": "i1",
          "shape": "1, 2"
         },
         "hovertemplate": "properties.nom=QUAI DU WAULT<br>properties.y=%{lat}<br>properties.x=%{lon}<br>properties.nb_places_dispo=%{customdata[0]}<br>properties.nb_velos_dispo=%{customdata[1]}<extra></extra>",
         "lat": {
          "bdata": "oYSZtn9RSUA=",
          "dtype": "f8"
         },
         "legendgroup": "QUAI DU WAULT",
         "lon": {
          "bdata": "ZqGd0yxwCEA=",
          "dtype": "f8"
         },
         "marker": {
          "color": "#EF553B",
          "size": 15
         },
         "mode": "markers",
         "name": "QUAI DU WAULT",
         "showlegend": true,
         "subplot": "map",
         "type": "scattermap"
        },
        {
         "customdata": {
          "bdata": "JgI=",
          "dtype": "i1",
          "shape": "1, 2"
         },
         "hovertemplate": "properties.nom=CHAMP DE MARS<br>properties.y=%{lat}<br>properties.x=%{lon}<br>properties.nb_places_dispo=%{customdata[0]}<br>properties.nb_velos_dispo=%{customdata[1]}<extra></extra>",
         "lat": {
          "bdata": "fQVpxqJRSUA=",
          "dtype": "f8"
         },
         "legendgroup": "CHAMP DE MARS",
         "lon": {
          "bdata": "FHZR9MBnCEA=",
          "dtype": "f8"
         },
         "marker": {
          "color": "#00cc96",
          "size": 15
         },
         "mode": "markers",
         "name": "CHAMP DE MARS",
         "showlegend": true,
         "subplot": "map",
         "type": "scattermap"
        },
        {
         "customdata": {
          "bdata": "DAw=",
          "dtype": "i1",
          "shape": "1, 2"
         },
         "hovertemplate": "properties.nom=ESPLANADE<br>properties.y=%{lat}<br>properties.x=%{lon}<br>properties.nb_places_dispo=%{customdata[0]}<br>properties.nb_velos_dispo=%{customdata[1]}<extra></extra>",
         "lat": {
          "bdata": "X5hMFYxSSUA=",
          "dtype": "f8"
         },
         "legendgroup": "ESPLANADE",
         "lon": {
          "bdata": "uaXVkLhnCEA=",
          "dtype": "f8"
         },
         "marker": {
          "color": "#ab63fa",
          "size": 15
         },
         "mode": "markers",
         "name": "ESPLANADE",
         "showlegend": true,
         "subplot": "map",
         "type": "scattermap"
        },
        {
         "customdata": {
          "bdata": "ABA=",
          "dtype": "i1",
          "shape": "1, 2"
         },
         "hovertemplate": "properties.nom=MAGASIN<br>properties.y=%{lat}<br>properties.x=%{lon}<br>properties.nb_places_dispo=%{customdata[0]}<br>properties.nb_velos_dispo=%{customdata[1]}<extra></extra>",
         "lat": {
          "bdata": "xm00gLdSSUA=",
          "dtype": "f8"
         },
         "legendgroup": "MAGASIN",
         "lon": {
          "bdata": "G/M64pBtCEA=",
          "dtype": "f8"
         },
         "marker": {
          "color": "#FFA15A",
          "size": 15
         },
         "mode": "markers",
         "name": "MAGASIN",
         "showlegend": true,
         "subplot": "map",
         "type": "scattermap"
        },
        {
         "customdata": {
          "bdata": "AxA=",
          "dtype": "i1",
          "shape": "1, 2"
         },
         "hovertemplate": "properties.nom=HALLE AUX SUCRES<br>properties.y=%{lat}<br>properties.x=%{lon}<br>properties.nb_places_dispo=%{customdata[0]}<br>properties.nb_velos_dispo=%{customdata[1]}<extra></extra>",
         "lat": {
          "bdata": "hnKiXYVSSUA=",
          "dtype": "f8"
         },
         "legendgroup": "HALLE AUX SUCRES",
         "lon": {
          "bdata": "vD5z1qd8CEA=",
          "dtype": "f8"
         },
         "marker": {
          "color": "#19d3f3",
          "size": 15
         },
         "mode": "markers",
         "name": "HALLE AUX SUCRES",
         "showlegend": true,
         "subplot": "map",
         "type": "scattermap"
        },
        {
         "customdata": {
          "bdata": "DQE=",
          "dtype": "i1",
          "shape": "1, 2"
         },
         "hovertemplate": "properties.nom=VOLTAIRE<br>properties.y=%{lat}<br>properties.x=%{lon}<br>properties.nb_places_dispo=%{customdata[0]}<br>properties.nb_velos_dispo=%{customdata[1]}<extra></extra>",
         "lat": {
          "bdata": "Ne84RUdSSUA=",
          "dtype": "f8"
         },
         "legendgroup": "VOLTAIRE",
         "lon": {
          "bdata": "I2b2eYxyCEA=",
          "dtype": "f8"
         },
         "marker": {
          "color": "#FF6692",
          "size": 15
         },
         "mode": "markers",
         "name": "VOLTAIRE",
         "showlegend": true,
         "subplot": "map",
         "type": "scattermap"
        },
        {
         "customdata": {
          "bdata": "FwE=",
          "dtype": "i1",
          "shape": "1, 2"
         },
         "hovertemplate": "properties.nom=RUE ROYALE<br>properties.y=%{lat}<br>properties.x=%{lon}<br>properties.nb_places_dispo=%{customdata[0]}<br>properties.nb_velos_dispo=%{customdata[1]}<extra></extra>",
         "lat": {
          "bdata": "oKaWrfVRSUA=",
          "dtype": "f8"
         },
         "legendgroup": "RUE ROYALE",
         "lon": {
          "bdata": "Sl6dY0B2CEA=",
          "dtype": "f8"
         },
         "marker": {
          "color": "#B6E880",
          "size": 15
         },
         "mode": "markers",
         "name": "RUE ROYALE",
         "showlegend": true,
         "subplot": "map",
         "type": "scattermap"
        },
        {
         "customdata": {
          "bdata": "Egw=",
          "dtype": "i1",
          "shape": "1, 2"
         },
         "hovertemplate": "properties.nom=N.D. DE LA TREILLE<br>properties.y=%{lat}<br>properties.x=%{lon}<br>properties.nb_places_dispo=%{customdata[0]}<br>properties.nb_velos_dispo=%{customdata[1]}<extra></extra>",
         "lat": {
          "bdata": "q+y7IvhRSUA=",
          "dtype": "f8"
         },
         "legendgroup": "N.D. DE LA TREILLE",
         "lon": {
          "bdata": "E/OspBV/CEA=",
          "dtype": "f8"
         },
         "marker": {
          "color": "#FF97FF",
          "size": 15
         },
         "mode": "markers",
         "name": "N.D. DE LA TREILLE",
         "showlegend": true,
         "subplot": "map",
         "type": "scattermap"
        },
        {
         "customdata": {
          "bdata": "EwE=",
          "dtype": "i1",
          "shape": "1, 2"
         },
         "hovertemplate": "properties.nom=PLACE DU CONCERT<br>properties.y=%{lat}<br>properties.x=%{lon}<br>properties.nb_places_dispo=%{customdata[0]}<br>properties.nb_velos_dispo=%{customdata[1]}<extra></extra>",
         "lat": {
          "bdata": "ICkiwypSSUA=",
          "dtype": "f8"
         },
         "legendgroup": "PLACE DU CONCERT",
         "lon": {
          "bdata": "4fHtXYN+CEA=",
          "dtype": "f8"
         },
         "marker": {
          "color": "#FECB52",
          "size": 15
         },
         "mode": "markers",
         "name": "PLACE DU CONCERT",
         "showlegend": true,
         "subplot": "map",
         "type": "scattermap"
        },
        {
         "customdata": {
          "bdata": "DRE=",
          "dtype": "i1",
          "shape": "1, 2"
         },
         "hovertemplate": "properties.nom=LOUISE DE BETTIGNIES<br>properties.y=%{lat}<br>properties.x=%{lon}<br>properties.nb_places_dispo=%{customdata[0]}<br>properties.nb_velos_dispo=%{customdata[1]}<extra></extra>",
         "lat": {
          "bdata": "Uiy3tBpSSUA=",
          "dtype": "f8"
         },
         "legendgroup": "LOUISE DE BETTIGNIES",
         "lon": {
          "bdata": "8bioFhGFCEA=",
          "dtype": "f8"
         },
         "marker": {
          "color": "#636efa",
          "size": 15
         },
         "mode": "markers",
         "name": "LOUISE DE BETTIGNIES",
         "showlegend": true,
         "subplot": "map",
         "type": "scattermap"
        },
        {
         "customdata": {
          "bdata": "EgA=",
          "dtype": "i1",
          "shape": "1, 2"
         },
         "hovertemplate": "properties.nom=RUE DES ARTS<br>properties.y=%{lat}<br>properties.x=%{lon}<br>properties.nb_places_dispo=%{customdata[0]}<br>properties.nb_velos_dispo=%{customdata[1]}<extra></extra>",
         "lat": {
          "bdata": "hdIXQs5RSUA=",
          "dtype": "f8"
         },
         "legendgroup": "RUE DES ARTS",
         "lon": {
          "bdata": "jj9R2bCGCEA=",
          "dtype": "f8"
         },
         "marker": {
          "color": "#EF553B",
          "size": 15
         },
         "mode": "markers",
         "name": "RUE DES ARTS",
         "showlegend": true,
         "subplot": "map",
         "type": "scattermap"
        },
        {
         "customdata": {
          "bdata": "JgI=",
          "dtype": "i1",
          "shape": "1, 2"
         },
         "hovertemplate": "properties.nom=FLANDRES EURALILLE<br>properties.y=%{lat}<br>properties.x=%{lon}<br>properties.nb_places_dispo=%{customdata[0]}<br>properties.nb_velos_dispo=%{customdata[1]}<extra></extra>",
         "lat": {
          "bdata": "JICbxYtRSUA=",
          "dtype": "f8"
         },
         "legendgroup": "FLANDRES EURALILLE",
         "lon": {
          "bdata": "wEF79fGQCEA=",
          "dtype": "f8"
         },
         "marker": {
          "color": "#00cc96",
          "size": 15
         },
         "mode": "markers",
         "name": "FLANDRES EURALILLE",
         "showlegend": true,
         "subplot": "map",
         "type": "scattermap"
        },
        {
         "customdata": {
          "bdata": "IAA=",
          "dtype": "i1",
          "shape": "1, 2"
         },
         "hovertemplate": "properties.nom=GARE LILLE FLANDRES<br>properties.y=%{lat}<br>properties.x=%{lon}<br>properties.nb_places_dispo=%{customdata[0]}<br>properties.nb_velos_dispo=%{customdata[1]}<extra></extra>",
         "lat": {
          "bdata": "ghq+hXVRSUA=",
          "dtype": "f8"
         },
         "legendgroup": "GARE LILLE FLANDRES",
         "lon": {
          "bdata": "N8ZOeAmOCEA=",
          "dtype": "f8"
         },
         "marker": {
          "color": "#ab63fa",
          "size": 15
         },
         "mode": "markers",
         "name": "GARE LILLE FLANDRES",
         "showlegend": true,
         "subplot": "map",
         "type": "scattermap"
        },
        {
         "customdata": {
          "bdata": "FgA=",
          "dtype": "i1",
          "shape": "1, 2"
         },
         "hovertemplate": "properties.nom=MOLINEL<br>properties.y=%{lat}<br>properties.x=%{lon}<br>properties.nb_places_dispo=%{customdata[0]}<br>properties.nb_velos_dispo=%{customdata[1]}<extra></extra>",
         "lat": {
          "bdata": "6IL6ljlRSUA=",
          "dtype": "f8"
         },
         "legendgroup": "MOLINEL",
         "lon": {
          "bdata": "TTEHQUeLCEA=",
          "dtype": "f8"
         },
         "marker": {
          "color": "#FFA15A",
          "size": 15
         },
         "mode": "markers",
         "name": "MOLINEL",
         "showlegend": true,
         "subplot": "map",
         "type": "scattermap"
        },
        {
         "customdata": {
          "bdata": "HwU=",
          "dtype": "i1",
          "shape": "1, 2"
         },
         "hovertemplate": "properties.nom=TANNEURS<br>properties.y=%{lat}<br>properties.x=%{lon}<br>properties.nb_places_dispo=%{customdata[0]}<br>properties.nb_velos_dispo=%{customdata[1]}<extra></extra>",
         "lat": {
          "bdata": "RkCFI0hRSUA=",
          "dtype": "f8"
         },
         "legendgroup": "TANNEURS",
         "lon": {
          "bdata": "H7k16baECEA=",
          "dtype": "f8"
         },
         "marker": {
          "color": "#19d3f3",
          "size": 15
         },
         "mode": "markers",
         "name": "TANNEURS",
         "showlegend": true,
         "subplot": "map",
         "type": "scattermap"
        },
        {
         "customdata": {
          "bdata": "JwE=",
          "dtype": "i1",
          "shape": "1, 2"
         },
         "hovertemplate": "properties.nom=PALAIS RAMEAU<br>properties.y=%{lat}<br>properties.x=%{lon}<br>properties.nb_places_dispo=%{customdata[0]}<br>properties.nb_velos_dispo=%{customdata[1]}<extra></extra>",
         "lat": {
          "bdata": "Up0OZD1RSUA=",
          "dtype": "f8"
         },
         "legendgroup": "PALAIS RAMEAU",
         "lon": {
          "bdata": "oKnXLQJjCEA=",
          "dtype": "f8"
         },
         "marker": {
          "color": "#FF6692",
          "size": 15
         },
         "mode": "markers",
         "name": "PALAIS RAMEAU",
         "showlegend": true,
         "subplot": "map",
         "type": "scattermap"
        },
        {
         "customdata": {
          "bdata": "ABw=",
          "dtype": "i1",
          "shape": "1, 2"
         },
         "hovertemplate": "properties.nom=ST SEBASTIEN<br>properties.y=%{lat}<br>properties.x=%{lon}<br>properties.nb_places_dispo=%{customdata[0]}<br>properties.nb_velos_dispo=%{customdata[1]}<extra></extra>",
         "lat": {
          "bdata": "nWUWodhSSUA=",
          "dtype": "f8"
         },
         "legendgroup": "ST SEBASTIEN",
         "lon": {
          "bdata": "n1bRH5p5CEA=",
          "dtype": "f8"
         },
         "marker": {
          "color": "#B6E880",
          "size": 15
         },
         "mode": "markers",
         "name": "ST SEBASTIEN",
         "showlegend": true,
         "subplot": "map",
         "type": "scattermap"
        },
        {
         "customdata": {
          "bdata": "EgE=",
          "dtype": "i1",
          "shape": "1, 2"
         },
         "hovertemplate": "properties.nom=RUE DE GAND<br>properties.y=%{lat}<br>properties.x=%{lon}<br>properties.nb_places_dispo=%{customdata[0]}<br>properties.nb_velos_dispo=%{customdata[1]}<extra></extra>",
         "lat": {
          "bdata": "kSdJ10xSSUA=",
          "dtype": "f8"
         },
         "legendgroup": "RUE DE GAND",
         "lon": {
          "bdata": "RIts5/uJCEA=",
          "dtype": "f8"
         },
         "marker": {
          "color": "#FF97FF",
          "size": 15
         },
         "mode": "markers",
         "name": "RUE DE GAND",
         "showlegend": true,
         "subplot": "map",
         "type": "scattermap"
        },
        {
         "customdata": {
          "bdata": "Bw0=",
          "dtype": "i1",
          "shape": "1, 2"
         },
         "hovertemplate": "properties.nom=PONT NEUF<br>properties.y=%{lat}<br>properties.x=%{lon}<br>properties.nb_places_dispo=%{customdata[0]}<br>properties.nb_velos_dispo=%{customdata[1]}<extra></extra>",
         "lat": {
          "bdata": "vf4kPndSSUA=",
          "dtype": "f8"
         },
         "legendgroup": "PONT NEUF",
         "lon": {
          "bdata": "qTC2EOSACEA=",
          "dtype": "f8"
         },
         "marker": {
          "color": "#FECB52",
          "size": 15
         },
         "mode": "markers",
         "name": "PONT NEUF",
         "showlegend": true,
         "subplot": "map",
         "type": "scattermap"
        },
        {
         "customdata": {
          "bdata": "DQM=",
          "dtype": "i1",
          "shape": "1, 2"
         },
         "hovertemplate": "properties.nom=PLACE AUX BLEUETS<br>properties.y=%{lat}<br>properties.x=%{lon}<br>properties.nb_places_dispo=%{customdata[0]}<br>properties.nb_velos_dispo=%{customdata[1]}<extra></extra>",
         "lat": {
          "bdata": "CoDxDBpSSUA=",
          "dtype": "f8"
         },
         "legendgroup": "PLACE AUX BLEUETS",
         "lon": {
          "bdata": "U0Da/wCLCEA=",
          "dtype": "f8"
         },
         "marker": {
          "color": "#636efa",
          "size": 15
         },
         "mode": "markers",
         "name": "PLACE AUX BLEUETS",
         "showlegend": true,
         "subplot": "map",
         "type": "scattermap"
        },
        {
         "customdata": {
          "bdata": "CBI=",
          "dtype": "i1",
          "shape": "1, 2"
         },
         "hovertemplate": "properties.nom=PORT DE LILLE<br>properties.y=%{lat}<br>properties.x=%{lon}<br>properties.nb_places_dispo=%{customdata[0]}<br>properties.nb_velos_dispo=%{customdata[1]}<extra></extra>",
         "lat": {
          "bdata": "f6SIDKtQSUA=",
          "dtype": "f8"
         },
         "legendgroup": "PORT DE LILLE",
         "lon": {
          "bdata": "Z7XAHhNJCEA=",
          "dtype": "f8"
         },
         "marker": {
          "color": "#EF553B",
          "size": 15
         },
         "mode": "markers",
         "name": "PORT DE LILLE",
         "showlegend": true,
         "subplot": "map",
         "type": "scattermap"
        },
        {
         "customdata": {
          "bdata": "ABQ=",
          "dtype": "i1",
          "shape": "1, 2"
         },
         "hovertemplate": "properties.nom=PLACE CATINAT<br>properties.y=%{lat}<br>properties.x=%{lon}<br>properties.nb_places_dispo=%{customdata[0]}<br>properties.nb_velos_dispo=%{customdata[1]}<extra></extra>",
         "lat": {
          "bdata": "zLT9KytRSUA=",
          "dtype": "f8"
         },
         "legendgroup": "PLACE CATINAT",
         "lon": {
          "bdata": "K2haYmVUCEA=",
          "dtype": "f8"
         },
         "marker": {
          "color": "#00cc96",
          "size": 15
         },
         "mode": "markers",
         "name": "PLACE CATINAT",
         "showlegend": true,
         "subplot": "map",
         "type": "scattermap"
        },
        {
         "customdata": {
          "bdata": "ChI=",
          "dtype": "i1",
          "shape": "1, 2"
         },
         "hovertemplate": "properties.nom=LECLERC<br>properties.y=%{lat}<br>properties.x=%{lon}<br>properties.nb_places_dispo=%{customdata[0]}<br>properties.nb_velos_dispo=%{customdata[1]}<extra></extra>",
         "lat": {
          "bdata": "asGLvoJQSUA=",
          "dtype": "f8"
         },
         "legendgroup": "LECLERC",
         "lon": {
          "bdata": "w4AlV7FYCEA=",
          "dtype": "f8"
         },
         "marker": {
          "color": "#ab63fa",
          "size": 15
         },
         "mode": "markers",
         "name": "LECLERC",
         "showlegend": true,
         "subplot": "map",
         "type": "scattermap"
        },
        {
         "customdata": {
          "bdata": "GQs=",
          "dtype": "i1",
          "shape": "1, 2"
         },
         "hovertemplate": "properties.nom=CORMONTAIGNE<br>properties.y=%{lat}<br>properties.x=%{lon}<br>properties.nb_places_dispo=%{customdata[0]}<br>properties.nb_velos_dispo=%{customdata[1]}<extra></extra>",
         "lat": {
          "bdata": "ObnfoShQSUA=",
          "dtype": "f8"
         },
         "legendgroup": "CORMONTAIGNE",
         "lon": {
          "bdata": "WAG+27xRCEA=",
          "dtype": "f8"
         },
         "marker": {
          "color": "#FFA15A",
          "size": 15
         },
         "mode": "markers",
         "name": "CORMONTAIGNE",
         "showlegend": true,
         "subplot": "map",
         "type": "scattermap"
        },
        {
         "customdata": {
          "bdata": "AAw=",
          "dtype": "i1",
          "shape": "1, 2"
         },
         "hovertemplate": "properties.nom=FULTON<br>properties.y=%{lat}<br>properties.x=%{lon}<br>properties.nb_places_dispo=%{customdata[0]}<br>properties.nb_velos_dispo=%{customdata[1]}<extra></extra>",
         "lat": {
          "bdata": "XaeRlspPSUA=",
          "dtype": "f8"
         },
         "legendgroup": "FULTON",
         "lon": {
          "bdata": "+u5WluhMCEA=",
          "dtype": "f8"
         },
         "marker": {
          "color": "#19d3f3",
          "size": 15
         },
         "mode": "markers",
         "name": "FULTON",
         "showlegend": true,
         "subplot": "map",
         "type": "scattermap"
        },
        {
         "customdata": {
          "bdata": "Bgw=",
          "dtype": "i1",
          "shape": "1, 2"
         },
         "hovertemplate": "properties.nom=PLACE CASQUETTE<br>properties.y=%{lat}<br>properties.x=%{lon}<br>properties.nb_places_dispo=%{customdata[0]}<br>properties.nb_velos_dispo=%{customdata[1]}<extra></extra>",
         "lat": {
          "bdata": "JJwWvOhPSUA=",
          "dtype": "f8"
         },
         "legendgroup": "PLACE CASQUETTE",
         "lon": {
          "bdata": "fZOmQdFcCEA=",
          "dtype": "f8"
         },
         "marker": {
          "color": "#FF6692",
          "size": 15
         },
         "mode": "markers",
         "name": "PLACE CASQUETTE",
         "showlegend": true,
         "subplot": "map",
         "type": "scattermap"
        },
        {
         "customdata": {
          "bdata": "BBM=",
          "dtype": "i1",
          "shape": "1, 2"
         },
         "hovertemplate": "properties.nom=MARCHE DE WAZEMMES<br>properties.y=%{lat}<br>properties.x=%{lon}<br>properties.nb_places_dispo=%{customdata[0]}<br>properties.nb_velos_dispo=%{customdata[1]}<extra></extra>",
         "lat": {
          "bdata": "VkYjn1dQSUA=",
          "dtype": "f8"
         },
         "legendgroup": "MARCHE DE WAZEMMES",
         "lon": {
          "bdata": "PiMRGsFmCEA=",
          "dtype": "f8"
         },
         "marker": {
          "color": "#B6E880",
          "size": 15
         },
         "mode": "markers",
         "name": "MARCHE DE WAZEMMES",
         "showlegend": true,
         "subplot": "map",
         "type": "scattermap"
        },
        {
         "customdata": {
          "bdata": "ChI=",
          "dtype": "i1",
          "shape": "1, 2"
         },
         "hovertemplate": "properties.nom=METRO GAMBETTA<br>properties.y=%{lat}<br>properties.x=%{lon}<br>properties.nb_places_dispo=%{customdata[0]}<br>properties.nb_velos_dispo=%{customdata[1]}<extra></extra>",
         "lat": {
          "bdata": "1VsDWyVQSUA=",
          "dtype": "f8"
         },
         "legendgroup": "METRO GAMBETTA",
         "lon": {
          "bdata": "zAna5PBpCEA=",
          "dtype": "f8"
         },
         "marker": {
          "color": "#FF97FF",
          "size": 15
         },
         "mode": "markers",
         "name": "METRO GAMBETTA",
         "showlegend": true,
         "subplot": "map",
         "type": "scattermap"
        },
        {
         "customdata": {
          "bdata": "CQc=",
          "dtype": "i1",
          "shape": "1, 2"
         },
         "hovertemplate": "properties.nom=BUISSON<br>properties.y=%{lat}<br>properties.x=%{lon}<br>properties.nb_places_dispo=%{customdata[0]}<br>properties.nb_velos_dispo=%{customdata[1]}<extra></extra>",
         "lat": {
          "bdata": "5J8ZxAdUSUA=",
          "dtype": "f8"
         },
         "legendgroup": "BUISSON",
         "lon": {
          "bdata": "ZVbvcDu0CEA=",
          "dtype": "f8"
         },
         "marker": {
          "color": "#FECB52",
          "size": 15
         },
         "mode": "markers",
         "name": "BUISSON",
         "showlegend": true,
         "subplot": "map",
         "type": "scattermap"
        },
        {
         "customdata": {
          "bdata": "EgA=",
          "dtype": "i1",
          "shape": "1, 2"
         },
         "hovertemplate": "properties.nom=PLACE PHILIPPE LEBON<br>properties.y=%{lat}<br>properties.x=%{lon}<br>properties.nb_places_dispo=%{customdata[0]}<br>properties.nb_velos_dispo=%{customdata[1]}<extra></extra>",
         "lat": {
          "bdata": "I74Ts15QSUA=",
          "dtype": "f8"
         },
         "legendgroup": "PLACE PHILIPPE LEBON",
         "lon": {
          "bdata": "5US7Cil/CEA=",
          "dtype": "f8"
         },
         "marker": {
          "color": "#636efa",
          "size": 15
         },
         "mode": "markers",
         "name": "PLACE PHILIPPE LEBON",
         "showlegend": true,
         "subplot": "map",
         "type": "scattermap"
        },
        {
         "customdata": {
          "bdata": "Bho=",
          "dtype": "i1",
          "shape": "1, 2"
         },
         "hovertemplate": "properties.nom=THEATRE SEBASTOPOL<br>properties.y=%{lat}<br>properties.x=%{lon}<br>properties.nb_places_dispo=%{customdata[0]}<br>properties.nb_velos_dispo=%{customdata[1]}<extra></extra>",
         "lat": {
          "bdata": "Xd+Hg4RQSUA=",
          "dtype": "f8"
         },
         "legendgroup": "THEATRE SEBASTOPOL",
         "lon": {
          "bdata": "dv7tsl93CEA=",
          "dtype": "f8"
         },
         "marker": {
          "color": "#EF553B",
          "size": 15
         },
         "mode": "markers",
         "name": "THEATRE SEBASTOPOL",
         "showlegend": true,
         "subplot": "map",
         "type": "scattermap"
        },
        {
         "customdata": {
          "bdata": "Aw8=",
          "dtype": "i1",
          "shape": "1, 2"
         },
         "hovertemplate": "properties.nom=GAMBETTA UTRECHT<br>properties.y=%{lat}<br>properties.x=%{lon}<br>properties.nb_places_dispo=%{customdata[0]}<br>properties.nb_velos_dispo=%{customdata[1]}<extra></extra>",
         "lat": {
          "bdata": "1A/qIoVQSUA=",
          "dtype": "f8"
         },
         "legendgroup": "GAMBETTA UTRECHT",
         "lon": {
          "bdata": "0HtjCABuCEA=",
          "dtype": "f8"
         },
         "marker": {
          "color": "#00cc96",
          "size": 15
         },
         "mode": "markers",
         "name": "GAMBETTA UTRECHT",
         "showlegend": true,
         "subplot": "map",
         "type": "scattermap"
        },
        {
         "customdata": {
          "bdata": "ABI=",
          "dtype": "i1",
          "shape": "1, 2"
         },
         "hovertemplate": "properties.nom=BRULE MAISON<br>properties.y=%{lat}<br>properties.x=%{lon}<br>properties.nb_places_dispo=%{customdata[0]}<br>properties.nb_velos_dispo=%{customdata[1]}<extra></extra>",
         "lat": {
          "bdata": "eUDZlCtQSUA=",
          "dtype": "f8"
         },
         "legendgroup": "BRULE MAISON",
         "lon": {
          "bdata": "wD46deVzCEA=",
          "dtype": "f8"
         },
         "marker": {
          "color": "#ab63fa",
          "size": 15
         },
         "mode": "markers",
         "name": "BRULE MAISON",
         "showlegend": true,
         "subplot": "map",
         "type": "scattermap"
        },
        {
         "customdata": {
          "bdata": "AQA=",
          "dtype": "i1",
          "shape": "1, 2"
         },
         "hovertemplate": "properties.nom=ARTOIS<br>properties.y=%{lat}<br>properties.x=%{lon}<br>properties.nb_places_dispo=%{customdata[0]}<br>properties.nb_velos_dispo=%{customdata[1]}<extra></extra>",
         "lat": {
          "bdata": "6udNRSpQSUA=",
          "dtype": "f8"
         },
         "legendgroup": "ARTOIS",
         "lon": {
          "bdata": "FqWEYFV9CEA=",
          "dtype": "f8"
         },
         "marker": {
          "color": "#FFA15A",
          "size": 15
         },
         "mode": "markers",
         "name": "ARTOIS",
         "showlegend": true,
         "subplot": "map",
         "type": "scattermap"
        },
        {
         "customdata": {
          "bdata": "Ewc=",
          "dtype": "i1",
          "shape": "1, 2"
         },
         "hovertemplate": "properties.nom=BOULEVARD LOUIS XIV<br>properties.y=%{lat}<br>properties.x=%{lon}<br>properties.nb_places_dispo=%{customdata[0]}<br>properties.nb_velos_dispo=%{customdata[1]}<extra></extra>",
         "lat": {
          "bdata": "41MAjGdQSUA=",
          "dtype": "f8"
         },
         "legendgroup": "BOULEVARD LOUIS XIV",
         "lon": {
          "bdata": "Dd/CuvGOCEA=",
          "dtype": "f8"
         },
         "marker": {
          "color": "#19d3f3",
          "size": 15
         },
         "mode": "markers",
         "name": "BOULEVARD LOUIS XIV",
         "showlegend": true,
         "subplot": "map",
         "type": "scattermap"
        },
        {
         "customdata": {
          "bdata": "GAI=",
          "dtype": "i1",
          "shape": "1, 2"
         },
         "hovertemplate": "properties.nom=PORTE DE DOUAI<br>properties.y=%{lat}<br>properties.x=%{lon}<br>properties.nb_places_dispo=%{customdata[0]}<br>properties.nb_velos_dispo=%{customdata[1]}<extra></extra>",
         "lat": {
          "bdata": "wW7YtihPSUA=",
          "dtype": "f8"
         },
         "legendgroup": "PORTE DE DOUAI",
         "lon": {
          "bdata": "FTqvsUuUCEA=",
          "dtype": "f8"
         },
         "marker": {
          "color": "#FF6692",
          "size": 15
         },
         "mode": "markers",
         "name": "PORTE DE DOUAI",
         "showlegend": true,
         "subplot": "map",
         "type": "scattermap"
        },
        {
         "customdata": {
          "bdata": "FQM=",
          "dtype": "i1",
          "shape": "1, 2"
         },
         "hovertemplate": "properties.nom=PLACE DELIOT<br>properties.y=%{lat}<br>properties.x=%{lon}<br>properties.nb_places_dispo=%{customdata[0]}<br>properties.nb_velos_dispo=%{customdata[1]}<extra></extra>",
         "lat": {
          "bdata": "l8rbEU5PSUA=",
          "dtype": "f8"
         },
         "legendgroup": "PLACE DELIOT",
         "lon": {
          "bdata": "vcXDew6MCEA=",
          "dtype": "f8"
         },
         "marker": {
          "color": "#B6E880",
          "size": 15
         },
         "mode": "markers",
         "name": "PLACE DELIOT",
         "showlegend": true,
         "subplot": "map",
         "type": "scattermap"
        },
        {
         "customdata": {
          "bdata": "GAE=",
          "dtype": "i1",
          "shape": "1, 2"
         },
         "hovertemplate": "properties.nom=RUE D'ARRAS<br>properties.y=%{lat}<br>properties.x=%{lon}<br>properties.nb_places_dispo=%{customdata[0]}<br>properties.nb_velos_dispo=%{customdata[1]}<extra></extra>",
         "lat": {
          "bdata": "qyFxj6VPSUA=",
          "dtype": "f8"
         },
         "legendgroup": "RUE D'ARRAS",
         "lon": {
          "bdata": "BpylZDmJCEA=",
          "dtype": "f8"
         },
         "marker": {
          "color": "#FF97FF",
          "size": 15
         },
         "mode": "markers",
         "name": "RUE D'ARRAS",
         "showlegend": true,
         "subplot": "map",
         "type": "scattermap"
        },
        {
         "customdata": {
          "bdata": "JAQ=",
          "dtype": "i1",
          "shape": "1, 2"
         },
         "hovertemplate": "properties.nom=JB LEBAS<br>properties.y=%{lat}<br>properties.x=%{lon}<br>properties.nb_places_dispo=%{customdata[0]}<br>properties.nb_velos_dispo=%{customdata[1]}<extra></extra>",
         "lat": {
          "bdata": "gPEMGvpPSUA=",
          "dtype": "f8"
         },
         "legendgroup": "JB LEBAS",
         "lon": {
          "bdata": "csKE0ayMCEA=",
          "dtype": "f8"
         },
         "marker": {
          "color": "#FECB52",
          "size": 15
         },
         "mode": "markers",
         "name": "JB LEBAS",
         "showlegend": true,
         "subplot": "map",
         "type": "scattermap"
        },
        {
         "customdata": {
          "bdata": "CA4=",
          "dtype": "i1",
          "shape": "1, 2"
         },
         "hovertemplate": "properties.nom=PLACE COLETTE BESSON<br>properties.y=%{lat}<br>properties.x=%{lon}<br>properties.nb_places_dispo=%{customdata[0]}<br>properties.nb_velos_dispo=%{customdata[1]}<extra></extra>",
         "lat": {
          "bdata": "5KCEmbZPSUA=",
          "dtype": "f8"
         },
         "legendgroup": "PLACE COLETTE BESSON",
         "lon": {
          "bdata": "2SPUDKmCCEA=",
          "dtype": "f8"
         },
         "marker": {
          "color": "#636efa",
          "size": 15
         },
         "mode": "markers",
         "name": "PLACE COLETTE BESSON",
         "showlegend": true,
         "subplot": "map",
         "type": "scattermap"
        },
        {
         "customdata": {
          "bdata": "JAI=",
          "dtype": "i1",
          "shape": "1, 2"
         },
         "hovertemplate": "properties.nom=PORTE DES POSTES<br>properties.y=%{lat}<br>properties.x=%{lon}<br>properties.nb_places_dispo=%{customdata[0]}<br>properties.nb_velos_dispo=%{customdata[1]}<extra></extra>",
         "lat": {
          "bdata": "kE5d+SxPSUA=",
          "dtype": "f8"
         },
         "legendgroup": "PORTE DES POSTES",
         "lon": {
          "bdata": "xFxStd1kCEA=",
          "dtype": "f8"
         },
         "marker": {
          "color": "#EF553B",
          "size": 15
         },
         "mode": "markers",
         "name": "PORTE DES POSTES",
         "showlegend": true,
         "subplot": "map",
         "type": "scattermap"
        },
        {
         "customdata": {
          "bdata": "Cwk=",
          "dtype": "i1",
          "shape": "1, 2"
         },
         "hovertemplate": "properties.nom=METRO WAZEMMES<br>properties.y=%{lat}<br>properties.x=%{lon}<br>properties.nb_places_dispo=%{customdata[0]}<br>properties.nb_velos_dispo=%{customdata[1]}<extra></extra>",
         "lat": {
          "bdata": "gH106spPSUA=",
          "dtype": "f8"
         },
         "legendgroup": "METRO WAZEMMES",
         "lon": {
          "bdata": "KPIk6ZppCEA=",
          "dtype": "f8"
         },
         "marker": {
          "color": "#00cc96",
          "size": 15
         },
         "mode": "markers",
         "name": "METRO WAZEMMES",
         "showlegend": true,
         "subplot": "map",
         "type": "scattermap"
        },
        {
         "customdata": {
          "bdata": "FwE=",
          "dtype": "i1",
          "shape": "1, 2"
         },
         "hovertemplate": "properties.nom=PORTE D'ARRAS<br>properties.y=%{lat}<br>properties.x=%{lon}<br>properties.nb_places_dispo=%{customdata[0]}<br>properties.nb_velos_dispo=%{customdata[1]}<extra></extra>",
         "lat": {
          "bdata": "QndJnBVPSUA=",
          "dtype": "f8"
         },
         "legendgroup": "PORTE D'ARRAS",
         "lon": {
          "bdata": "hiFy+np+CEA=",
          "dtype": "f8"
         },
         "marker": {
          "color": "#ab63fa",
          "size": 15
         },
         "mode": "markers",
         "name": "PORTE D'ARRAS",
         "showlegend": true,
         "subplot": "map",
         "type": "scattermap"
        },
        {
         "customdata": {
          "bdata": "CAo=",
          "dtype": "i1",
          "shape": "1, 2"
         },
         "hovertemplate": "properties.nom=BD VICTOR HUGO<br>properties.y=%{lat}<br>properties.x=%{lon}<br>properties.nb_places_dispo=%{customdata[0]}<br>properties.nb_velos_dispo=%{customdata[1]}<extra></extra>",
         "lat": {
          "bdata": "+8kYH2ZPSUA=",
          "dtype": "f8"
         },
         "legendgroup": "BD VICTOR HUGO",
         "lon": {
          "bdata": "5gKXx5pxCEA=",
          "dtype": "f8"
         },
         "marker": {
          "color": "#FFA15A",
          "size": 15
         },
         "mode": "markers",
         "name": "BD VICTOR HUGO",
         "showlegend": true,
         "subplot": "map",
         "type": "scattermap"
        },
        {
         "customdata": {
          "bdata": "ABI=",
          "dtype": "i1",
          "shape": "1, 2"
         },
         "hovertemplate": "properties.nom=BARTHELEMY DELESPAUL<br>properties.y=%{lat}<br>properties.x=%{lon}<br>properties.nb_places_dispo=%{customdata[0]}<br>properties.nb_velos_dispo=%{customdata[1]}<extra></extra>",
         "lat": {
          "bdata": "nWhXIeVPSUA=",
          "dtype": "f8"
         },
         "legendgroup": "BARTHELEMY DELESPAUL",
         "lon": {
          "bdata": "GFqdnKF4CEA=",
          "dtype": "f8"
         },
         "marker": {
          "color": "#19d3f3",
          "size": 15
         },
         "mode": "markers",
         "name": "BARTHELEMY DELESPAUL",
         "showlegend": true,
         "subplot": "map",
         "type": "scattermap"
        },
        {
         "customdata": {
          "bdata": "DwU=",
          "dtype": "i1",
          "shape": "1, 2"
         },
         "hovertemplate": "properties.nom=PORTE DE VALENCIENNES<br>properties.y=%{lat}<br>properties.x=%{lon}<br>properties.nb_places_dispo=%{customdata[0]}<br>properties.nb_velos_dispo=%{customdata[1]}<extra></extra>",
         "lat": {
          "bdata": "s9KkFHRPSUA=",
          "dtype": "f8"
         },
         "legendgroup": "PORTE DE VALENCIENNES",
         "lon": {
          "bdata": "UiegibChCEA=",
          "dtype": "f8"
         },
         "marker": {
          "color": "#FF6692",
          "size": 15
         },
         "mode": "markers",
         "name": "PORTE DE VALENCIENNES",
         "showlegend": true,
         "subplot": "map",
         "type": "scattermap"
        },
        {
         "customdata": {
          "bdata": "EAQ=",
          "dtype": "i1",
          "shape": "1, 2"
         },
         "hovertemplate": "properties.nom=TREVISE<br>properties.y=%{lat}<br>properties.x=%{lon}<br>properties.nb_places_dispo=%{customdata[0]}<br>properties.nb_velos_dispo=%{customdata[1]}<extra></extra>",
         "lat": {
          "bdata": "BOJ1/YJPSUA=",
          "dtype": "f8"
         },
         "legendgroup": "TREVISE",
         "lon": {
          "bdata": "CoZzDTOUCEA=",
          "dtype": "f8"
         },
         "marker": {
          "color": "#B6E880",
          "size": 15
         },
         "mode": "markers",
         "name": "TREVISE",
         "showlegend": true,
         "subplot": "map",
         "type": "scattermap"
        },
        {
         "customdata": {
          "bdata": "EQc=",
          "dtype": "i1",
          "shape": "1, 2"
         },
         "hovertemplate": "properties.nom=LILLE GRAND PALAIS<br>properties.y=%{lat}<br>properties.x=%{lon}<br>properties.nb_places_dispo=%{customdata[0]}<br>properties.nb_velos_dispo=%{customdata[1]}<extra></extra>",
         "lat": {
          "bdata": "xZEHIotQSUA=",
          "dtype": "f8"
         },
         "legendgroup": "LILLE GRAND PALAIS",
         "lon": {
          "bdata": "cZAQ5QuaCEA=",
          "dtype": "f8"
         },
         "marker": {
          "color": "#FF97FF",
          "size": 15
         },
         "mode": "markers",
         "name": "LILLE GRAND PALAIS",
         "showlegend": true,
         "subplot": "map",
         "type": "scattermap"
        },
        {
         "customdata": {
          "bdata": "HgA=",
          "dtype": "i1",
          "shape": "1, 2"
         },
         "hovertemplate": "properties.nom=ZENITH<br>properties.y=%{lat}<br>properties.x=%{lon}<br>properties.nb_places_dispo=%{customdata[0]}<br>properties.nb_velos_dispo=%{customdata[1]}<extra></extra>",
         "lat": {
          "bdata": "nkFD/wRRSUA=",
          "dtype": "f8"
         },
         "legendgroup": "ZENITH",
         "lon": {
          "bdata": "g6J5AIucCEA=",
          "dtype": "f8"
         },
         "marker": {
          "color": "#FECB52",
          "size": 15
         },
         "mode": "markers",
         "name": "ZENITH",
         "showlegend": true,
         "subplot": "map",
         "type": "scattermap"
        },
        {
         "customdata": {
          "bdata": "HwE=",
          "dtype": "i1",
          "shape": "1, 2"
         },
         "hovertemplate": "properties.nom=HOTEL DE REGION<br>properties.y=%{lat}<br>properties.x=%{lon}<br>properties.nb_places_dispo=%{customdata[0]}<br>properties.nb_velos_dispo=%{customdata[1]}<extra></extra>",
         "lat": {
          "bdata": "NIY5QZtQSUA=",
          "dtype": "f8"
         },
         "legendgroup": "HOTEL DE REGION",
         "lon": {
          "bdata": "MxmO5zOgCEA=",
          "dtype": "f8"
         },
         "marker": {
          "color": "#636efa",
          "size": 15
         },
         "mode": "markers",
         "name": "HOTEL DE REGION",
         "showlegend": true,
         "subplot": "map",
         "type": "scattermap"
        },
        {
         "customdata": {
          "bdata": "EgI=",
          "dtype": "i1",
          "shape": "1, 2"
         },
         "hovertemplate": "properties.nom=MAIRIE DE LILLE<br>properties.y=%{lat}<br>properties.x=%{lon}<br>properties.nb_places_dispo=%{customdata[0]}<br>properties.nb_velos_dispo=%{customdata[1]}<extra></extra>",
         "lat": {
          "bdata": "cM6I0t5QSUA=",
          "dtype": "f8"
         },
         "legendgroup": "MAIRIE DE LILLE",
         "lon": {
          "bdata": "eZEJ+DWSCEA=",
          "dtype": "f8"
         },
         "marker": {
          "color": "#EF553B",
          "size": 15
         },
         "mode": "markers",
         "name": "MAIRIE DE LILLE",
         "showlegend": true,
         "subplot": "map",
         "type": "scattermap"
        },
        {
         "customdata": {
          "bdata": "ARE=",
          "dtype": "i1",
          "shape": "1, 2"
         },
         "hovertemplate": "properties.nom=PLACE TACQ<br>properties.y=%{lat}<br>properties.x=%{lon}<br>properties.nb_places_dispo=%{customdata[0]}<br>properties.nb_velos_dispo=%{customdata[1]}<extra></extra>",
         "lat": {
          "bdata": "oFBPH4FPSUA=",
          "dtype": "f8"
         },
         "legendgroup": "PLACE TACQ",
         "lon": {
          "bdata": "AoOkT6tICEA=",
          "dtype": "f8"
         },
         "marker": {
          "color": "#00cc96",
          "size": 15
         },
         "mode": "markers",
         "name": "PLACE TACQ",
         "showlegend": true,
         "subplot": "map",
         "type": "scattermap"
        },
        {
         "customdata": {
          "bdata": "EQE=",
          "dtype": "i1",
          "shape": "1, 2"
         },
         "hovertemplate": "properties.nom=DELESALLE MEDIATHEQUE<br>properties.y=%{lat}<br>properties.x=%{lon}<br>properties.nb_places_dispo=%{customdata[0]}<br>properties.nb_velos_dispo=%{customdata[1]}<extra></extra>",
         "lat": {
          "bdata": "W3wKgPFQSUA=",
          "dtype": "f8"
         },
         "legendgroup": "DELESALLE MEDIATHEQUE",
         "lon": {
          "bdata": "ytx8I7qHCEA=",
          "dtype": "f8"
         },
         "marker": {
          "color": "#ab63fa",
          "size": 15
         },
         "mode": "markers",
         "name": "DELESALLE MEDIATHEQUE",
         "showlegend": true,
         "subplot": "map",
         "type": "scattermap"
        },
        {
         "customdata": {
          "bdata": "BhI=",
          "dtype": "i1",
          "shape": "1, 2"
         },
         "hovertemplate": "properties.nom=MONTEBELLO<br>properties.y=%{lat}<br>properties.x=%{lon}<br>properties.nb_places_dispo=%{customdata[0]}<br>properties.nb_velos_dispo=%{customdata[1]}<extra></extra>",
         "lat": {
          "bdata": "RdeFH5xPSUA=",
          "dtype": "f8"
         },
         "legendgroup": "MONTEBELLO",
         "lon": {
          "bdata": "6ZrJN9tcCEA=",
          "dtype": "f8"
         },
         "marker": {
          "color": "#FFA15A",
          "size": 15
         },
         "mode": "markers",
         "name": "MONTEBELLO",
         "showlegend": true,
         "subplot": "map",
         "type": "scattermap"
        },
        {
         "customdata": {
          "bdata": "Dgo=",
          "dtype": "i1",
          "shape": "1, 2"
         },
         "hovertemplate": "properties.nom=NATIONALE RUE DU PORT<br>properties.y=%{lat}<br>properties.x=%{lon}<br>properties.nb_places_dispo=%{customdata[0]}<br>properties.nb_velos_dispo=%{customdata[1]}<extra></extra>",
         "lat": {
          "bdata": "2pHqO79QSUA=",
          "dtype": "f8"
         },
         "legendgroup": "NATIONALE RUE DU PORT",
         "lon": {
          "bdata": "Dr+bbtlhCEA=",
          "dtype": "f8"
         },
         "marker": {
          "color": "#19d3f3",
          "size": 15
         },
         "mode": "markers",
         "name": "NATIONALE RUE DU PORT",
         "showlegend": true,
         "subplot": "map",
         "type": "scattermap"
        },
        {
         "customdata": {
          "bdata": "FgA=",
          "dtype": "i1",
          "shape": "1, 2"
         },
         "hovertemplate": "properties.nom=CHASSEURS DE DRIANT<br>properties.y=%{lat}<br>properties.x=%{lon}<br>properties.nb_places_dispo=%{customdata[0]}<br>properties.nb_velos_dispo=%{customdata[1]}<extra></extra>",
         "lat": {
          "bdata": "s0EmGTlPSUA=",
          "dtype": "f8"
         },
         "legendgroup": "CHASSEURS DE DRIANT",
         "lon": {
          "bdata": "oMGmzqNCCEA=",
          "dtype": "f8"
         },
         "marker": {
          "color": "#FF6692",
          "size": 15
         },
         "mode": "markers",
         "name": "CHASSEURS DE DRIANT",
         "showlegend": true,
         "subplot": "map",
         "type": "scattermap"
        },
        {
         "customdata": {
          "bdata": "CwU=",
          "dtype": "i1",
          "shape": "1, 2"
         },
         "hovertemplate": "properties.nom=CITE ADMINISTRATIVE<br>properties.y=%{lat}<br>properties.x=%{lon}<br>properties.nb_places_dispo=%{customdata[0]}<br>properties.nb_velos_dispo=%{customdata[1]}<extra></extra>",
         "lat": {
          "bdata": "U+i8xi5RSUA=",
          "dtype": "f8"
         },
         "legendgroup": "CITE ADMINISTRATIVE",
         "lon": {
          "bdata": "MZbpl4iXCEA=",
          "dtype": "f8"
         },
         "marker": {
          "color": "#B6E880",
          "size": 15
         },
         "mode": "markers",
         "name": "CITE ADMINISTRATIVE",
         "showlegend": true,
         "subplot": "map",
         "type": "scattermap"
        },
        {
         "customdata": {
          "bdata": "EgQ=",
          "dtype": "i1",
          "shape": "1, 2"
         },
         "hovertemplate": "properties.nom=BOIS BLANCS<br>properties.y=%{lat}<br>properties.x=%{lon}<br>properties.nb_places_dispo=%{customdata[0]}<br>properties.nb_velos_dispo=%{customdata[1]}<extra></extra>",
         "lat": {
          "bdata": "npj1YihRSUA=",
          "dtype": "f8"
         },
         "legendgroup": "BOIS BLANCS",
         "lon": {
          "bdata": "hX07iQg/CEA=",
          "dtype": "f8"
         },
         "marker": {
          "color": "#FF97FF",
          "size": 15
         },
         "mode": "markers",
         "name": "BOIS BLANCS",
         "showlegend": true,
         "subplot": "map",
         "type": "scattermap"
        },
        {
         "customdata": {
          "bdata": "DwM=",
          "dtype": "i1",
          "shape": "1, 2"
         },
         "hovertemplate": "properties.nom=CANTELEU<br>properties.y=%{lat}<br>properties.x=%{lon}<br>properties.nb_places_dispo=%{customdata[0]}<br>properties.nb_velos_dispo=%{customdata[1]}<extra></extra>",
         "lat": {
          "bdata": "c9anHJNRSUA=",
          "dtype": "f8"
         },
         "legendgroup": "CANTELEU",
         "lon": {
          "bdata": "963WicsxCEA=",
          "dtype": "f8"
         },
         "marker": {
          "color": "#FECB52",
          "size": 15
         },
         "mode": "markers",
         "name": "CANTELEU",
         "showlegend": true,
         "subplot": "map",
         "type": "scattermap"
        },
        {
         "customdata": {
          "bdata": "EwU=",
          "dtype": "i1",
          "shape": "1, 2"
         },
         "hovertemplate": "properties.nom=ST MAURICE PELLEVOISIN<br>properties.y=%{lat}<br>properties.x=%{lon}<br>properties.nb_places_dispo=%{customdata[0]}<br>properties.nb_velos_dispo=%{customdata[1]}<extra></extra>",
         "lat": {
          "bdata": "eV2/YDdSSUA=",
          "dtype": "f8"
         },
         "legendgroup": "ST MAURICE PELLEVOISIN",
         "lon": {
          "bdata": "1uB9VS60CEA=",
          "dtype": "f8"
         },
         "marker": {
          "color": "#636efa",
          "size": 15
         },
         "mode": "markers",
         "name": "ST MAURICE PELLEVOISIN",
         "showlegend": true,
         "subplot": "map",
         "type": "scattermap"
        },
        {
         "customdata": {
          "bdata": "ARM=",
          "dtype": "i1",
          "shape": "1, 2"
         },
         "hovertemplate": "properties.nom=FAUBOURG DE ROUBAIX<br>properties.y=%{lat}<br>properties.x=%{lon}<br>properties.nb_places_dispo=%{customdata[0]}<br>properties.nb_velos_dispo=%{customdata[1]}<extra></extra>",
         "lat": {
          "bdata": "6nk3FhRSSUA=",
          "dtype": "f8"
         },
         "legendgroup": "FAUBOURG DE ROUBAIX",
         "lon": {
          "bdata": "J8KGp1eqCEA=",
          "dtype": "f8"
         },
         "marker": {
          "color": "#EF553B",
          "size": 15
         },
         "mode": "markers",
         "name": "FAUBOURG DE ROUBAIX",
         "showlegend": true,
         "subplot": "map",
         "type": "scattermap"
        },
        {
         "customdata": {
          "bdata": "DQg=",
          "dtype": "i1",
          "shape": "1, 2"
         },
         "hovertemplate": "properties.nom=EUGENE JACQUET<br>properties.y=%{lat}<br>properties.x=%{lon}<br>properties.nb_places_dispo=%{customdata[0]}<br>properties.nb_velos_dispo=%{customdata[1]}<extra></extra>",
         "lat": {
          "bdata": "8MNBQpRRSUA=",
          "dtype": "f8"
         },
         "legendgroup": "EUGENE JACQUET",
         "lon": {
          "bdata": "UwPN59ytCEA=",
          "dtype": "f8"
         },
         "marker": {
          "color": "#00cc96",
          "size": 15
         },
         "mode": "markers",
         "name": "EUGENE JACQUET",
         "showlegend": true,
         "subplot": "map",
         "type": "scattermap"
        },
        {
         "customdata": {
          "bdata": "Cw0=",
          "dtype": "i1",
          "shape": "1, 2"
         },
         "hovertemplate": "properties.nom=FIVES<br>properties.y=%{lat}<br>properties.x=%{lon}<br>properties.nb_places_dispo=%{customdata[0]}<br>properties.nb_velos_dispo=%{customdata[1]}<extra></extra>",
         "lat": {
          "bdata": "2T9PAwZRSUA=",
          "dtype": "f8"
         },
         "legendgroup": "FIVES",
         "lon": {
          "bdata": "+G2I8Zq3CEA=",
          "dtype": "f8"
         },
         "marker": {
          "color": "#ab63fa",
          "size": 15
         },
         "mode": "markers",
         "name": "FIVES",
         "showlegend": true,
         "subplot": "map",
         "type": "scattermap"
        },
        {
         "customdata": {
          "bdata": "CAo=",
          "dtype": "i1",
          "shape": "1, 2"
         },
         "hovertemplate": "properties.nom=MONT DE TERRE<br>properties.y=%{lat}<br>properties.x=%{lon}<br>properties.nb_places_dispo=%{customdata[0]}<br>properties.nb_velos_dispo=%{customdata[1]}<extra></extra>",
         "lat": {
          "bdata": "SP5g4LlPSUA=",
          "dtype": "f8"
         },
         "legendgroup": "MONT DE TERRE",
         "lon": {
          "bdata": "0NVW7C+7CEA=",
          "dtype": "f8"
         },
         "marker": {
          "color": "#FFA15A",
          "size": 15
         },
         "mode": "markers",
         "name": "MONT DE TERRE",
         "showlegend": true,
         "subplot": "map",
         "type": "scattermap"
        },
        {
         "customdata": {
          "bdata": "DQM=",
          "dtype": "i1",
          "shape": "1, 2"
         },
         "hovertemplate": "properties.nom=HOTEL DE POLICE<br>properties.y=%{lat}<br>properties.x=%{lon}<br>properties.nb_places_dispo=%{customdata[0]}<br>properties.nb_velos_dispo=%{customdata[1]}<extra></extra>",
         "lat": {
          "bdata": "XcE24slOSUA=",
          "dtype": "f8"
         },
         "legendgroup": "HOTEL DE POLICE",
         "lon": {
          "bdata": "fSO6Z11jCEA=",
          "dtype": "f8"
         },
         "marker": {
          "color": "#19d3f3",
          "size": 15
         },
         "mode": "markers",
         "name": "HOTEL DE POLICE",
         "showlegend": true,
         "subplot": "map",
         "type": "scattermap"
        },
        {
         "customdata": {
          "bdata": "DgY=",
          "dtype": "i1",
          "shape": "1, 2"
         },
         "hovertemplate": "properties.nom=CIMETIERE DU SUD<br>properties.y=%{lat}<br>properties.x=%{lon}<br>properties.nb_places_dispo=%{customdata[0]}<br>properties.nb_velos_dispo=%{customdata[1]}<extra></extra>",
         "lat": {
          "bdata": "pgpGJXVOSUA=",
          "dtype": "f8"
         },
         "legendgroup": "CIMETIERE DU SUD",
         "lon": {
          "bdata": "ui2RC85gCEA=",
          "dtype": "f8"
         },
         "marker": {
          "color": "#FF6692",
          "size": 15
         },
         "mode": "markers",
         "name": "CIMETIERE DU SUD",
         "showlegend": true,
         "subplot": "map",
         "type": "scattermap"
        },
        {
         "customdata": {
          "bdata": "GwM=",
          "dtype": "i1",
          "shape": "1, 2"
         },
         "hovertemplate": "properties.nom=PETIT MAROC<br>properties.y=%{lat}<br>properties.x=%{lon}<br>properties.nb_places_dispo=%{customdata[0]}<br>properties.nb_velos_dispo=%{customdata[1]}<extra></extra>",
         "lat": {
          "bdata": "CI82jlhPSUA=",
          "dtype": "f8"
         },
         "legendgroup": "PETIT MAROC",
         "lon": {
          "bdata": "ZoLhXMOsCEA=",
          "dtype": "f8"
         },
         "marker": {
          "color": "#B6E880",
          "size": 15
         },
         "mode": "markers",
         "name": "PETIT MAROC",
         "showlegend": true,
         "subplot": "map",
         "type": "scattermap"
        },
        {
         "customdata": {
          "bdata": "BgQ=",
          "dtype": "i1",
          "shape": "1, 2"
         },
         "hovertemplate": "properties.nom=GUINGUETTE<br>properties.y=%{lat}<br>properties.x=%{lon}<br>properties.nb_places_dispo=%{customdata[0]}<br>properties.nb_velos_dispo=%{customdata[1]}<extra></extra>",
         "lat": {
          "bdata": "6LzGLlFRSUA=",
          "dtype": "f8"
         },
         "legendgroup": "GUINGUETTE",
         "lon": {
          "bdata": "4EvhQbPrCEA=",
          "dtype": "f8"
         },
         "marker": {
          "color": "#FF97FF",
          "size": 15
         },
         "mode": "markers",
         "name": "GUINGUETTE",
         "showlegend": true,
         "subplot": "map",
         "type": "scattermap"
        },
        {
         "customdata": {
          "bdata": "IAA=",
          "dtype": "i1",
          "shape": "1, 2"
         },
         "hovertemplate": "properties.nom=GARE LILLE EUROPE<br>properties.y=%{lat}<br>properties.x=%{lon}<br>properties.nb_places_dispo=%{customdata[0]}<br>properties.nb_velos_dispo=%{customdata[1]}<extra></extra>",
         "lat": {
          "bdata": "LuI7MetRSUA=",
          "dtype": "f8"
         },
         "legendgroup": "GARE LILLE EUROPE",
         "lon": {
          "bdata": "IToEjgSaCEA=",
          "dtype": "f8"
         },
         "marker": {
          "color": "#FECB52",
          "size": 15
         },
         "mode": "markers",
         "name": "GARE LILLE EUROPE",
         "showlegend": true,
         "subplot": "map",
         "type": "scattermap"
        },
        {
         "customdata": {
          "bdata": "FQM=",
          "dtype": "i1",
          "shape": "1, 2"
         },
         "hovertemplate": "properties.nom=EURATECHNOLOGIES<br>properties.y=%{lat}<br>properties.x=%{lon}<br>properties.nb_places_dispo=%{customdata[0]}<br>properties.nb_velos_dispo=%{customdata[1]}<extra></extra>",
         "lat": {
          "bdata": "8G36sx9RSUA=",
          "dtype": "f8"
         },
         "legendgroup": "EURATECHNOLOGIES",
         "lon": {
          "bdata": "Q/8EFysqCEA=",
          "dtype": "f8"
         },
         "marker": {
          "color": "#636efa",
          "size": 15
         },
         "mode": "markers",
         "name": "EURATECHNOLOGIES",
         "showlegend": true,
         "subplot": "map",
         "type": "scattermap"
        },
        {
         "customdata": {
          "bdata": "Dwk=",
          "dtype": "i1",
          "shape": "1, 2"
         },
         "hovertemplate": "properties.nom=MAIRIE D'HELLEMMES<br>properties.y=%{lat}<br>properties.x=%{lon}<br>properties.nb_places_dispo=%{customdata[0]}<br>properties.nb_velos_dispo=%{customdata[1]}<extra></extra>",
         "lat": {
          "bdata": "jdKlf0lQSUA=",
          "dtype": "f8"
         },
         "legendgroup": "MAIRIE D'HELLEMMES",
         "lon": {
          "bdata": "lIRE2sbfCEA=",
          "dtype": "f8"
         },
         "marker": {
          "color": "#EF553B",
          "size": 15
         },
         "mode": "markers",
         "name": "MAIRIE D'HELLEMMES",
         "showlegend": true,
         "subplot": "map",
         "type": "scattermap"
        },
        {
         "customdata": {
          "bdata": "Ago=",
          "dtype": "i1",
          "shape": "1, 2"
         },
         "hovertemplate": "properties.nom=CHANZY<br>properties.y=%{lat}<br>properties.x=%{lon}<br>properties.nb_places_dispo=%{customdata[0]}<br>properties.nb_velos_dispo=%{customdata[1]}<extra></extra>",
         "lat": {
          "bdata": "jliLTwFQSUA=",
          "dtype": "f8"
         },
         "legendgroup": "CHANZY",
         "lon": {
          "bdata": "kX77OnDOCEA=",
          "dtype": "f8"
         },
         "marker": {
          "color": "#00cc96",
          "size": 15
         },
         "mode": "markers",
         "name": "CHANZY",
         "showlegend": true,
         "subplot": "map",
         "type": "scattermap"
        },
        {
         "customdata": {
          "bdata": "BQc=",
          "dtype": "i1",
          "shape": "1, 2"
         },
         "hovertemplate": "properties.nom=ROGER SALENGRO<br>properties.y=%{lat}<br>properties.x=%{lon}<br>properties.nb_places_dispo=%{customdata[0]}<br>properties.nb_velos_dispo=%{customdata[1]}<extra></extra>",
         "lat": {
          "bdata": "+BkXDoRQSUA=",
          "dtype": "f8"
         },
         "legendgroup": "ROGER SALENGRO",
         "lon": {
          "bdata": "UPwYc9fSCEA=",
          "dtype": "f8"
         },
         "marker": {
          "color": "#ab63fa",
          "size": 15
         },
         "mode": "markers",
         "name": "ROGER SALENGRO",
         "showlegend": true,
         "subplot": "map",
         "type": "scattermap"
        },
        {
         "customdata": {
          "bdata": "HAI=",
          "dtype": "i1",
          "shape": "1, 2"
         },
         "hovertemplate": "properties.nom=RUE NATIONALE<br>properties.y=%{lat}<br>properties.x=%{lon}<br>properties.nb_places_dispo=%{customdata[0]}<br>properties.nb_velos_dispo=%{customdata[1]}<extra></extra>",
         "lat": {
          "bdata": "niPyXUpRSUA=",
          "dtype": "f8"
         },
         "legendgroup": "RUE NATIONALE",
         "lon": {
          "bdata": "Zmt9kdB2CEA=",
          "dtype": "f8"
         },
         "marker": {
          "color": "#FFA15A",
          "size": 15
         },
         "mode": "markers",
         "name": "RUE NATIONALE",
         "showlegend": true,
         "subplot": "map",
         "type": "scattermap"
        },
        {
         "customdata": {
          "bdata": "CQs=",
          "dtype": "i1",
          "shape": "1, 2"
         },
         "hovertemplate": "properties.nom=LOUVIERE<br>properties.y=%{lat}<br>properties.x=%{lon}<br>properties.nb_places_dispo=%{customdata[0]}<br>properties.nb_velos_dispo=%{customdata[1]}<extra></extra>",
         "lat": {
          "bdata": "WK1M+KVSSUA=",
          "dtype": "f8"
         },
         "legendgroup": "LOUVIERE",
         "lon": {
          "bdata": "wA9iwsOvCEA=",
          "dtype": "f8"
         },
         "marker": {
          "color": "#19d3f3",
          "size": 15
         },
         "mode": "markers",
         "name": "LOUVIERE",
         "showlegend": true,
         "subplot": "map",
         "type": "scattermap"
        },
        {
         "customdata": {
          "bdata": "Cw4=",
          "dtype": "i1",
          "shape": "1, 2"
         },
         "hovertemplate": "properties.nom=SQUARE DES MERES<br>properties.y=%{lat}<br>properties.x=%{lon}<br>properties.nb_places_dispo=%{customdata[0]}<br>properties.nb_velos_dispo=%{customdata[1]}<extra></extra>",
         "lat": {
          "bdata": "Wg2JeyxRSUA=",
          "dtype": "f8"
         },
         "legendgroup": "SQUARE DES MERES",
         "lon": {
          "bdata": "CVG+oIXECEA=",
          "dtype": "f8"
         },
         "marker": {
          "color": "#FF6692",
          "size": 15
         },
         "mode": "markers",
         "name": "SQUARE DES MERES",
         "showlegend": true,
         "subplot": "map",
         "type": "scattermap"
        },
        {
         "customdata": {
          "bdata": "ABI=",
          "dtype": "i1",
          "shape": "1, 2"
         },
         "hovertemplate": "properties.nom=STADE BALLET<br>properties.y=%{lat}<br>properties.x=%{lon}<br>properties.nb_places_dispo=%{customdata[0]}<br>properties.nb_velos_dispo=%{customdata[1]}<extra></extra>",
         "lat": {
          "bdata": "0O6QYoBQSUA=",
          "dtype": "f8"
         },
         "legendgroup": "STADE BALLET",
         "lon": {
          "bdata": "kuwRaoa0CEA=",
          "dtype": "f8"
         },
         "marker": {
          "color": "#B6E880",
          "size": 15
         },
         "mode": "markers",
         "name": "STADE BALLET",
         "showlegend": true,
         "subplot": "map",
         "type": "scattermap"
        },
        {
         "customdata": {
          "bdata": "CQ8=",
          "dtype": "i1",
          "shape": "1, 2"
         },
         "hovertemplate": "properties.nom=MARX DORMOY<br>properties.y=%{lat}<br>properties.x=%{lon}<br>properties.nb_places_dispo=%{customdata[0]}<br>properties.nb_velos_dispo=%{customdata[1]}<extra></extra>",
         "lat": {
          "bdata": "2o8UkWFRSUA=",
          "dtype": "f8"
         },
         "legendgroup": "MARX DORMOY",
         "lon": {
          "bdata": "kIe+u5VFCEA=",
          "dtype": "f8"
         },
         "marker": {
          "color": "#FF97FF",
          "size": 15
         },
         "mode": "markers",
         "name": "MARX DORMOY",
         "showlegend": true,
         "subplot": "map",
         "type": "scattermap"
        },
        {
         "customdata": {
          "bdata": "EQE=",
          "dtype": "i1",
          "shape": "1, 2"
         },
         "hovertemplate": "properties.nom=MARBRERIE<br>properties.y=%{lat}<br>properties.x=%{lon}<br>properties.nb_places_dispo=%{customdata[0]}<br>properties.nb_velos_dispo=%{customdata[1]}<extra></extra>",
         "lat": {
          "bdata": "IoleRrFQSUA=",
          "dtype": "f8"
         },
         "legendgroup": "MARBRERIE",
         "lon": {
          "bdata": "/wOsVbvGCEA=",
          "dtype": "f8"
         },
         "marker": {
          "color": "#FECB52",
          "size": 15
         },
         "mode": "markers",
         "name": "MARBRERIE",
         "showlegend": true,
         "subplot": "map",
         "type": "scattermap"
        },
        {
         "customdata": {
          "bdata": "CxA=",
          "dtype": "i1",
          "shape": "1, 2"
         },
         "hovertemplate": "properties.nom=ROMARIN<br>properties.y=%{lat}<br>properties.x=%{lon}<br>properties.nb_places_dispo=%{customdata[0]}<br>properties.nb_velos_dispo=%{customdata[1]}<extra></extra>",
         "lat": {
          "bdata": "u+1Cc51SSUA=",
          "dtype": "f8"
         },
         "legendgroup": "ROMARIN",
         "lon": {
          "bdata": "LUDbataZCEA=",
          "dtype": "f8"
         },
         "marker": {
          "color": "#636efa",
          "size": 15
         },
         "mode": "markers",
         "name": "ROMARIN",
         "showlegend": true,
         "subplot": "map",
         "type": "scattermap"
        },
        {
         "customdata": {
          "bdata": "Ag8=",
          "dtype": "i1",
          "shape": "1, 2"
         },
         "hovertemplate": "properties.nom=LA MADELEINE GARE<br>properties.y=%{lat}<br>properties.x=%{lon}<br>properties.nb_places_dispo=%{customdata[0]}<br>properties.nb_velos_dispo=%{customdata[1]}<extra></extra>",
         "lat": {
          "bdata": "Vft0PGZUSUA=",
          "dtype": "f8"
         },
         "legendgroup": "LA MADELEINE GARE",
         "lon": {
          "bdata": "qFFIMquXCEA=",
          "dtype": "f8"
         },
         "marker": {
          "color": "#EF553B",
          "size": 15
         },
         "mode": "markers",
         "name": "LA MADELEINE GARE",
         "showlegend": true,
         "subplot": "map",
         "type": "scattermap"
        },
        {
         "customdata": {
          "bdata": "CAw=",
          "dtype": "i1",
          "shape": "1, 2"
         },
         "hovertemplate": "properties.nom=PLACE DU MARCHE<br>properties.y=%{lat}<br>properties.x=%{lon}<br>properties.nb_places_dispo=%{customdata[0]}<br>properties.nb_velos_dispo=%{customdata[1]}<extra></extra>",
         "lat": {
          "bdata": "QBNhw9NTSUA=",
          "dtype": "f8"
         },
         "legendgroup": "PLACE DU MARCHE",
         "lon": {
          "bdata": "7zob8s+MCEA=",
          "dtype": "f8"
         },
         "marker": {
          "color": "#00cc96",
          "size": 15
         },
         "mode": "markers",
         "name": "PLACE DU MARCHE",
         "showlegend": true,
         "subplot": "map",
         "type": "scattermap"
        },
        {
         "customdata": {
          "bdata": "EQc=",
          "dtype": "i1",
          "shape": "1, 2"
         },
         "hovertemplate": "properties.nom=LA MADELEINE MAIRIE<br>properties.y=%{lat}<br>properties.x=%{lon}<br>properties.nb_places_dispo=%{customdata[0]}<br>properties.nb_velos_dispo=%{customdata[1]}<extra></extra>",
         "lat": {
          "bdata": "tvKS/8lTSUA=",
          "dtype": "f8"
         },
         "legendgroup": "LA MADELEINE MAIRIE",
         "lon": {
          "bdata": "EEBqEyeXCEA=",
          "dtype": "f8"
         },
         "marker": {
          "color": "#ab63fa",
          "size": 15
         },
         "mode": "markers",
         "name": "LA MADELEINE MAIRIE",
         "showlegend": true,
         "subplot": "map",
         "type": "scattermap"
        },
        {
         "customdata": {
          "bdata": "EwU=",
          "dtype": "i1",
          "shape": "1, 2"
         },
         "hovertemplate": "properties.nom=SAINT MAUR<br>properties.y=%{lat}<br>properties.x=%{lon}<br>properties.nb_places_dispo=%{customdata[0]}<br>properties.nb_velos_dispo=%{customdata[1]}<extra></extra>",
         "lat": {
          "bdata": "WWq932hTSUA=",
          "dtype": "f8"
         },
         "legendgroup": "SAINT MAUR",
         "lon": {
          "bdata": "ukkMAiunCEA=",
          "dtype": "f8"
         },
         "marker": {
          "color": "#FFA15A",
          "size": 15
         },
         "mode": "markers",
         "name": "SAINT MAUR",
         "showlegend": true,
         "subplot": "map",
         "type": "scattermap"
        },
        {
         "customdata": {
          "bdata": "GAA=",
          "dtype": "i1",
          "shape": "1, 2"
         },
         "hovertemplate": "properties.nom=MONS SARTS<br>properties.y=%{lat}<br>properties.x=%{lon}<br>properties.nb_places_dispo=%{customdata[0]}<br>properties.nb_velos_dispo=%{customdata[1]}<extra></extra>",
         "lat": {
          "bdata": "Qxzr4jZSSUA=",
          "dtype": "f8"
         },
         "legendgroup": "MONS SARTS",
         "lon": {
          "bdata": "DkxuFFnLCEA=",
          "dtype": "f8"
         },
         "marker": {
          "color": "#19d3f3",
          "size": 15
         },
         "mode": "markers",
         "name": "MONS SARTS",
         "showlegend": true,
         "subplot": "map",
         "type": "scattermap"
        },
        {
         "customdata": {
          "bdata": "CgY=",
          "dtype": "i1",
          "shape": "1, 2"
         },
         "hovertemplate": "properties.nom=MAIRIE DE MONS<br>properties.y=%{lat}<br>properties.x=%{lon}<br>properties.nb_places_dispo=%{customdata[0]}<br>properties.nb_velos_dispo=%{customdata[1]}<extra></extra>",
         "lat": {
          "bdata": "mRJJ9DJSSUA=",
          "dtype": "f8"
         },
         "legendgroup": "MAIRIE DE MONS",
         "lon": {
          "bdata": "MjuL3qngCEA=",
          "dtype": "f8"
         },
         "marker": {
          "color": "#FF6692",
          "size": 15
         },
         "mode": "markers",
         "name": "MAIRIE DE MONS",
         "showlegend": true,
         "subplot": "map",
         "type": "scattermap"
        },
        {
         "customdata": {
          "bdata": "CAg=",
          "dtype": "i1",
          "shape": "1, 2"
         },
         "hovertemplate": "properties.nom=LACORDAIRE<br>properties.y=%{lat}<br>properties.x=%{lon}<br>properties.nb_places_dispo=%{customdata[0]}<br>properties.nb_velos_dispo=%{customdata[1]}<extra></extra>",
         "lat": {
          "bdata": "VYhH4uVRSUA=",
          "dtype": "f8"
         },
         "legendgroup": "LACORDAIRE",
         "lon": {
          "bdata": "FeKReHnaCEA=",
          "dtype": "f8"
         },
         "marker": {
          "color": "#B6E880",
          "size": 15
         },
         "mode": "markers",
         "name": "LACORDAIRE",
         "showlegend": true,
         "subplot": "map",
         "type": "scattermap"
        },
        {
         "customdata": {
          "bdata": "Cgg=",
          "dtype": "i1",
          "shape": "1, 2"
         },
         "hovertemplate": "properties.nom=MENDES FRANCE<br>properties.y=%{lat}<br>properties.x=%{lon}<br>properties.nb_places_dispo=%{customdata[0]}<br>properties.nb_velos_dispo=%{customdata[1]}<extra></extra>",
         "lat": {
          "bdata": "bTmX4qpSSUA=",
          "dtype": "f8"
         },
         "legendgroup": "MENDES FRANCE",
         "lon": {
          "bdata": "0o+GU+bmCEA=",
          "dtype": "f8"
         },
         "marker": {
          "color": "#FF97FF",
          "size": 15
         },
         "mode": "markers",
         "name": "MENDES FRANCE",
         "showlegend": true,
         "subplot": "map",
         "type": "scattermap"
        },
        {
         "customdata": {
          "bdata": "Awk=",
          "dtype": "i1",
          "shape": "1, 2"
         },
         "hovertemplate": "properties.nom=LAVOISIER<br>properties.y=%{lat}<br>properties.x=%{lon}<br>properties.nb_places_dispo=%{customdata[0]}<br>properties.nb_velos_dispo=%{customdata[1]}<extra></extra>",
         "lat": {
          "bdata": "Oul942tRSUA=",
          "dtype": "f8"
         },
         "legendgroup": "LAVOISIER",
         "lon": {
          "bdata": "xmmIKvzZCEA=",
          "dtype": "f8"
         },
         "marker": {
          "color": "#FECB52",
          "size": 15
         },
         "mode": "markers",
         "name": "LAVOISIER",
         "showlegend": true,
         "subplot": "map",
         "type": "scattermap"
        },
        {
         "customdata": {
          "bdata": "Cwk=",
          "dtype": "i1",
          "shape": "1, 2"
         },
         "hovertemplate": "properties.nom=GENERAL DE GAULLE<br>properties.y=%{lat}<br>properties.x=%{lon}<br>properties.nb_places_dispo=%{customdata[0]}<br>properties.nb_velos_dispo=%{customdata[1]}<extra></extra>",
         "lat": {
          "bdata": "ERjrG5hSSUA=",
          "dtype": "f8"
         },
         "legendgroup": "GENERAL DE GAULLE",
         "lon": {
          "bdata": "QswlVdvNCEA=",
          "dtype": "f8"
         },
         "marker": {
          "color": "#636efa",
          "size": 15
         },
         "mode": "markers",
         "name": "GENERAL DE GAULLE",
         "showlegend": true,
         "subplot": "map",
         "type": "scattermap"
        },
        {
         "customdata": {
          "bdata": "ABA=",
          "dtype": "i1",
          "shape": "1, 2"
         },
         "hovertemplate": "properties.nom=RUE BONTE-POLLET<br>properties.y=%{lat}<br>properties.x=%{lon}<br>properties.nb_places_dispo=%{customdata[0]}<br>properties.nb_velos_dispo=%{customdata[1]}<extra></extra>",
         "lat": {
          "bdata": "MiB7vftPSUA=",
          "dtype": "f8"
         },
         "legendgroup": "RUE BONTE-POLLET",
         "lon": {
          "bdata": "RUqzeRxGCEA=",
          "dtype": "f8"
         },
         "marker": {
          "color": "#EF553B",
          "size": 15
         },
         "mode": "markers",
         "name": "RUE BONTE-POLLET",
         "showlegend": true,
         "subplot": "map",
         "type": "scattermap"
        },
        {
         "customdata": {
          "bdata": "CAQ=",
          "dtype": "i1",
          "shape": "1, 2"
         },
         "hovertemplate": "properties.nom=HELLEMMES CIMETIERE<br>properties.y=%{lat}<br>properties.x=%{lon}<br>properties.nb_places_dispo=%{customdata[0]}<br>properties.nb_velos_dispo=%{customdata[1]}<extra></extra>",
         "lat": {
          "bdata": "DkqYaftPSUA=",
          "dtype": "f8"
         },
         "legendgroup": "HELLEMMES CIMETIERE",
         "lon": {
          "bdata": "KpDZWfTuCEA=",
          "dtype": "f8"
         },
         "marker": {
          "color": "#00cc96",
          "size": 15
         },
         "mode": "markers",
         "name": "HELLEMMES CIMETIERE",
         "showlegend": true,
         "subplot": "map",
         "type": "scattermap"
        },
        {
         "customdata": {
          "bdata": "BA4=",
          "dtype": "i1",
          "shape": "1, 2"
         },
         "hovertemplate": "properties.nom=AVENUE DE MORMAL<br>properties.y=%{lat}<br>properties.x=%{lon}<br>properties.nb_places_dispo=%{customdata[0]}<br>properties.nb_velos_dispo=%{customdata[1]}<extra></extra>",
         "lat": {
          "bdata": "XtbEAl9TSUA=",
          "dtype": "f8"
         },
         "legendgroup": "AVENUE DE MORMAL",
         "lon": {
          "bdata": "gQTFjzG3CEA=",
          "dtype": "f8"
         },
         "marker": {
          "color": "#ab63fa",
          "size": 15
         },
         "mode": "markers",
         "name": "AVENUE DE MORMAL",
         "showlegend": true,
         "subplot": "map",
         "type": "scattermap"
        },
        {
         "customdata": {
          "bdata": "DAU=",
          "dtype": "i1",
          "shape": "1, 2"
         },
         "hovertemplate": "properties.nom=BOIS HABITE<br>properties.y=%{lat}<br>properties.x=%{lon}<br>properties.nb_places_dispo=%{customdata[0]}<br>properties.nb_velos_dispo=%{customdata[1]}<extra></extra>",
         "lat": {
          "bdata": "+U7MejFQSUA=",
          "dtype": "f8"
         },
         "legendgroup": "BOIS HABITE",
         "lon": {
          "bdata": "Ht5zYDmiCEA=",
          "dtype": "f8"
         },
         "marker": {
          "color": "#FFA15A",
          "size": 15
         },
         "mode": "markers",
         "name": "BOIS HABITE",
         "showlegend": true,
         "subplot": "map",
         "type": "scattermap"
        },
        {
         "customdata": {
          "bdata": "CAo=",
          "dtype": "i1",
          "shape": "1, 2"
         },
         "hovertemplate": "properties.nom=DE GAULLE<br>properties.y=%{lat}<br>properties.x=%{lon}<br>properties.nb_places_dispo=%{customdata[0]}<br>properties.nb_velos_dispo=%{customdata[1]}<extra></extra>",
         "lat": {
          "bdata": "lzjyQGRTSUA=",
          "dtype": "f8"
         },
         "legendgroup": "DE GAULLE",
         "lon": {
          "bdata": "/tE3aRqUCEA=",
          "dtype": "f8"
         },
         "marker": {
          "color": "#19d3f3",
          "size": 15
         },
         "mode": "markers",
         "name": "DE GAULLE",
         "showlegend": true,
         "subplot": "map",
         "type": "scattermap"
        },
        {
         "customdata": {
          "bdata": "Bwk=",
          "dtype": "i1",
          "shape": "1, 2"
         },
         "hovertemplate": "properties.nom=BOTANIQUE<br>properties.y=%{lat}<br>properties.x=%{lon}<br>properties.nb_places_dispo=%{customdata[0]}<br>properties.nb_velos_dispo=%{customdata[1]}<extra></extra>",
         "lat": {
          "bdata": "EAaeew9TSUA=",
          "dtype": "f8"
         },
         "legendgroup": "BOTANIQUE",
         "lon": {
          "bdata": "sMvwn26gCEA=",
          "dtype": "f8"
         },
         "marker": {
          "color": "#FF6692",
          "size": 15
         },
         "mode": "markers",
         "name": "BOTANIQUE",
         "showlegend": true,
         "subplot": "map",
         "type": "scattermap"
        },
        {
         "customdata": {
          "bdata": "Cgs=",
          "dtype": "i1",
          "shape": "1, 2"
         },
         "hovertemplate": "properties.nom=HIPPODROME<br>properties.y=%{lat}<br>properties.x=%{lon}<br>properties.nb_places_dispo=%{customdata[0]}<br>properties.nb_velos_dispo=%{customdata[1]}<extra></extra>",
         "lat": {
          "bdata": "YMd/gSBSSUA=",
          "dtype": "f8"
         },
         "legendgroup": "HIPPODROME",
         "lon": {
          "bdata": "x0s3iUFACEA=",
          "dtype": "f8"
         },
         "marker": {
          "color": "#B6E880",
          "size": 15
         },
         "mode": "markers",
         "name": "HIPPODROME",
         "showlegend": true,
         "subplot": "map",
         "type": "scattermap"
        },
        {
         "customdata": {
          "bdata": "Cwc=",
          "dtype": "i1",
          "shape": "1, 2"
         },
         "hovertemplate": "properties.nom=LOMME-LAMBERSART<br>properties.y=%{lat}<br>properties.x=%{lon}<br>properties.nb_places_dispo=%{customdata[0]}<br>properties.nb_velos_dispo=%{customdata[1]}<extra></extra>",
         "lat": {
          "bdata": "NpIE4QpSSUA=",
          "dtype": "f8"
         },
         "legendgroup": "LOMME-LAMBERSART",
         "lon": {
          "bdata": "lIjwL4ImCEA=",
          "dtype": "f8"
         },
         "marker": {
          "color": "#FF97FF",
          "size": 15
         },
         "mode": "markers",
         "name": "LOMME-LAMBERSART",
         "showlegend": true,
         "subplot": "map",
         "type": "scattermap"
        },
        {
         "customdata": {
          "bdata": "CQk=",
          "dtype": "i1",
          "shape": "1, 2"
         },
         "hovertemplate": "properties.nom=LOMME MAIRIE<br>properties.y=%{lat}<br>properties.x=%{lon}<br>properties.nb_places_dispo=%{customdata[0]}<br>properties.nb_velos_dispo=%{customdata[1]}<extra></extra>",
         "lat": {
          "bdata": "SzygbMpRSUA=",
          "dtype": "f8"
         },
         "legendgroup": "LOMME MAIRIE",
         "lon": {
          "bdata": "SMSUSKIXCEA=",
          "dtype": "f8"
         },
         "marker": {
          "color": "#FECB52",
          "size": 15
         },
         "mode": "markers",
         "name": "LOMME MAIRIE",
         "showlegend": true,
         "subplot": "map",
         "type": "scattermap"
        },
        {
         "customdata": {
          "bdata": "Aw0=",
          "dtype": "i1",
          "shape": "1, 2"
         },
         "hovertemplate": "properties.nom=PONT SUPERIEUR<br>properties.y=%{lat}<br>properties.x=%{lon}<br>properties.nb_places_dispo=%{customdata[0]}<br>properties.nb_velos_dispo=%{customdata[1]}<extra></extra>",
         "lat": {
          "bdata": "v9TPm4pSSUA=",
          "dtype": "f8"
         },
         "legendgroup": "PONT SUPERIEUR",
         "lon": {
          "bdata": "/YNIhhwbCEA=",
          "dtype": "f8"
         },
         "marker": {
          "color": "#636efa",
          "size": 15
         },
         "mode": "markers",
         "name": "PONT SUPERIEUR",
         "showlegend": true,
         "subplot": "map",
         "type": "scattermap"
        },
        {
         "customdata": {
          "bdata": "CwU=",
          "dtype": "i1",
          "shape": "1, 2"
         },
         "hovertemplate": "properties.nom=PISCINE DE MARCQ<br>properties.y=%{lat}<br>properties.x=%{lon}<br>properties.nb_places_dispo=%{customdata[0]}<br>properties.nb_velos_dispo=%{customdata[1]}<extra></extra>",
         "lat": {
          "bdata": "RIfAkUBVSUA=",
          "dtype": "f8"
         },
         "legendgroup": "PISCINE DE MARCQ",
         "lon": {
          "bdata": "OWQD6WKzCEA=",
          "dtype": "f8"
         },
         "marker": {
          "color": "#EF553B",
          "size": 15
         },
         "mode": "markers",
         "name": "PISCINE DE MARCQ",
         "showlegend": true,
         "subplot": "map",
         "type": "scattermap"
        },
        {
         "customdata": {
          "bdata": "CQg=",
          "dtype": "i1",
          "shape": "1, 2"
         },
         "hovertemplate": "properties.nom=RUE DE L'EGLISE<br>properties.y=%{lat}<br>properties.x=%{lon}<br>properties.nb_places_dispo=%{customdata[0]}<br>properties.nb_velos_dispo=%{customdata[1]}<extra></extra>",
         "lat": {
          "bdata": "wTqOHypVSUA=",
          "dtype": "f8"
         },
         "legendgroup": "RUE DE L'EGLISE",
         "lon": {
          "bdata": "MGMK1jibCEA=",
          "dtype": "f8"
         },
         "marker": {
          "color": "#00cc96",
          "size": 15
         },
         "mode": "markers",
         "name": "RUE DE L'EGLISE",
         "showlegend": true,
         "subplot": "map",
         "type": "scattermap"
        },
        {
         "customdata": {
          "bdata": "DwM=",
          "dtype": "i1",
          "shape": "1, 2"
         },
         "hovertemplate": "properties.nom=CLEMENCEAU HIPPODROME<br>properties.y=%{lat}<br>properties.x=%{lon}<br>properties.nb_places_dispo=%{customdata[0]}<br>properties.nb_velos_dispo=%{customdata[1]}<extra></extra>",
         "lat": {
          "bdata": "FD/G3LVUSUA=",
          "dtype": "f8"
         },
         "legendgroup": "CLEMENCEAU HIPPODROME",
         "lon": {
          "bdata": "MNgN2xbFCEA=",
          "dtype": "f8"
         },
         "marker": {
          "color": "#ab63fa",
          "size": 15
         },
         "mode": "markers",
         "name": "CLEMENCEAU HIPPODROME",
         "showlegend": true,
         "subplot": "map",
         "type": "scattermap"
        },
        {
         "customdata": {
          "bdata": "CQs=",
          "dtype": "i1",
          "shape": "1, 2"
         },
         "hovertemplate": "properties.nom=FORT DE MONS<br>properties.y=%{lat}<br>properties.x=%{lon}<br>properties.nb_places_dispo=%{customdata[0]}<br>properties.nb_velos_dispo=%{customdata[1]}<extra></extra>",
         "lat": {
          "bdata": "prkVwmpSSUA=",
          "dtype": "f8"
         },
         "legendgroup": "FORT DE MONS",
         "lon": {
          "bdata": "Z/D3i9nyCEA=",
          "dtype": "f8"
         },
         "marker": {
          "color": "#FFA15A",
          "size": 15
         },
         "mode": "markers",
         "name": "FORT DE MONS",
         "showlegend": true,
         "subplot": "map",
         "type": "scattermap"
        },
        {
         "customdata": {
          "bdata": "FAo=",
          "dtype": "i1",
          "shape": "1, 2"
         },
         "hovertemplate": "properties.nom=PONT DE BOIS<br>properties.y=%{lat}<br>properties.x=%{lon}<br>properties.nb_places_dispo=%{customdata[0]}<br>properties.nb_velos_dispo=%{customdata[1]}<extra></extra>",
         "lat": {
          "bdata": "+aBns+pPSUA=",
          "dtype": "f8"
         },
         "legendgroup": "PONT DE BOIS",
         "lon": {
          "bdata": "SZ2AJsIGCUA=",
          "dtype": "f8"
         },
         "marker": {
          "color": "#19d3f3",
          "size": 15
         },
         "mode": "markers",
         "name": "PONT DE BOIS",
         "showlegend": true,
         "subplot": "map",
         "type": "scattermap"
        },
        {
         "customdata": {
          "bdata": "EAk=",
          "dtype": "i1",
          "shape": "1, 2"
         },
         "hovertemplate": "properties.nom=V.ASCQ HOTEL DE VILLE<br>properties.y=%{lat}<br>properties.x=%{lon}<br>properties.nb_places_dispo=%{customdata[0]}<br>properties.nb_velos_dispo=%{customdata[1]}<extra></extra>",
         "lat": {
          "bdata": "okRLHk9PSUA=",
          "dtype": "f8"
         },
         "legendgroup": "V.ASCQ HOTEL DE VILLE",
         "lon": {
          "bdata": "ymyQSUYOCUA=",
          "dtype": "f8"
         },
         "marker": {
          "color": "#FF6692",
          "size": 15
         },
         "mode": "markers",
         "name": "V.ASCQ HOTEL DE VILLE",
         "showlegend": true,
         "subplot": "map",
         "type": "scattermap"
        },
        {
         "customdata": {
          "bdata": "DQY=",
          "dtype": "i1",
          "shape": "1, 2"
         },
         "hovertemplate": "properties.nom=CENTRE COMMERCIAL V2<br>properties.y=%{lat}<br>properties.x=%{lon}<br>properties.nb_places_dispo=%{customdata[0]}<br>properties.nb_velos_dispo=%{customdata[1]}<extra></extra>",
         "lat": {
          "bdata": "1y/YDdtOSUA=",
          "dtype": "f8"
         },
         "legendgroup": "CENTRE COMMERCIAL V2",
         "lon": {
          "bdata": "lwFnKVkOCUA=",
          "dtype": "f8"
         },
         "marker": {
          "color": "#B6E880",
          "size": 15
         },
         "mode": "markers",
         "name": "CENTRE COMMERCIAL V2",
         "showlegend": true,
         "subplot": "map",
         "type": "scattermap"
        },
        {
         "customdata": {
          "bdata": "Cgg=",
          "dtype": "i1",
          "shape": "1, 2"
         },
         "hovertemplate": "properties.nom=BOULEVARD DE VALMY<br>properties.y=%{lat}<br>properties.x=%{lon}<br>properties.nb_places_dispo=%{customdata[0]}<br>properties.nb_velos_dispo=%{customdata[1]}<extra></extra>",
         "lat": {
          "bdata": "waikTkBPSUA=",
          "dtype": "f8"
         },
         "legendgroup": "BOULEVARD DE VALMY",
         "lon": {
          "bdata": "VkrP9BIDCUA=",
          "dtype": "f8"
         },
         "marker": {
          "color": "#FF97FF",
          "size": 15
         },
         "mode": "markers",
         "name": "BOULEVARD DE VALMY",
         "showlegend": true,
         "subplot": "map",
         "type": "scattermap"
        },
        {
         "customdata": {
          "bdata": "DQs=",
          "dtype": "i1",
          "shape": "1, 2"
         },
         "hovertemplate": "properties.nom=FLERS MASQUELIER<br>properties.y=%{lat}<br>properties.x=%{lon}<br>properties.nb_places_dispo=%{customdata[0]}<br>properties.nb_velos_dispo=%{customdata[1]}<extra></extra>",
         "lat": {
          "bdata": "6Gor9pdRSUA=",
          "dtype": "f8"
         },
         "legendgroup": "FLERS MASQUELIER",
         "lon": {
          "bdata": "zlMdcjP8CEA=",
          "dtype": "f8"
         },
         "marker": {
          "color": "#FECB52",
          "size": 15
         },
         "mode": "markers",
         "name": "FLERS MASQUELIER",
         "showlegend": true,
         "subplot": "map",
         "type": "scattermap"
        },
        {
         "customdata": {
          "bdata": "Fwc=",
          "dtype": "i1",
          "shape": "1, 2"
         },
         "hovertemplate": "properties.nom=HERON PARC<br>properties.y=%{lat}<br>properties.x=%{lon}<br>properties.nb_places_dispo=%{customdata[0]}<br>properties.nb_velos_dispo=%{customdata[1]}<extra></extra>",
         "lat": {
          "bdata": "k1M7w9ROSUA=",
          "dtype": "f8"
         },
         "legendgroup": "HERON PARC",
         "lon": {
          "bdata": "LxUb8zoCCUA=",
          "dtype": "f8"
         },
         "marker": {
          "color": "#636efa",
          "size": 15
         },
         "mode": "markers",
         "name": "HERON PARC",
         "showlegend": true,
         "subplot": "map",
         "type": "scattermap"
        },
        {
         "customdata": {
          "bdata": "Cgo=",
          "dtype": "i1",
          "shape": "1, 2"
         },
         "hovertemplate": "properties.nom=LADRIERE<br>properties.y=%{lat}<br>properties.x=%{lon}<br>properties.nb_places_dispo=%{customdata[0]}<br>properties.nb_velos_dispo=%{customdata[1]}<extra></extra>",
         "lat": {
          "bdata": "3gN0X85QSUA=",
          "dtype": "f8"
         },
         "legendgroup": "LADRIERE",
         "lon": {
          "bdata": "gjy7fOsDCUA=",
          "dtype": "f8"
         },
         "marker": {
          "color": "#EF553B",
          "size": 15
         },
         "mode": "markers",
         "name": "LADRIERE",
         "showlegend": true,
         "subplot": "map",
         "type": "scattermap"
        },
        {
         "customdata": {
          "bdata": "CAg=",
          "dtype": "i1",
          "shape": "1, 2"
         },
         "hovertemplate": "properties.nom=RUE DE LILLE<br>properties.y=%{lat}<br>properties.x=%{lon}<br>properties.nb_places_dispo=%{customdata[0]}<br>properties.nb_velos_dispo=%{customdata[1]}<extra></extra>",
         "lat": {
          "bdata": "smg6OxlQSUA=",
          "dtype": "f8"
         },
         "legendgroup": "RUE DE LILLE",
         "lon": {
          "bdata": "zy9K0F8oCUA=",
          "dtype": "f8"
         },
         "marker": {
          "color": "#00cc96",
          "size": 15
         },
         "mode": "markers",
         "name": "RUE DE LILLE",
         "showlegend": true,
         "subplot": "map",
         "type": "scattermap"
        },
        {
         "customdata": {
          "bdata": "DQs=",
          "dtype": "i1",
          "shape": "1, 2"
         },
         "hovertemplate": "properties.nom=METRO TRIOLO<br>properties.y=%{lat}<br>properties.x=%{lon}<br>properties.nb_places_dispo=%{customdata[0]}<br>properties.nb_velos_dispo=%{customdata[1]}<extra></extra>",
         "lat": {
          "bdata": "ZcIv9fNOSUA=",
          "dtype": "f8"
         },
         "legendgroup": "METRO TRIOLO",
         "lon": {
          "bdata": "EB/Y8V8gCUA=",
          "dtype": "f8"
         },
         "marker": {
          "color": "#ab63fa",
          "size": 15
         },
         "mode": "markers",
         "name": "METRO TRIOLO",
         "showlegend": true,
         "subplot": "map",
         "type": "scattermap"
        },
        {
         "customdata": {
          "bdata": "Cgo=",
          "dtype": "i1",
          "shape": "1, 2"
         },
         "hovertemplate": "properties.nom=TREMIERE<br>properties.y=%{lat}<br>properties.x=%{lon}<br>properties.nb_places_dispo=%{customdata[0]}<br>properties.nb_velos_dispo=%{customdata[1]}<extra></extra>",
         "lat": {
          "bdata": "5fIf0m9PSUA=",
          "dtype": "f8"
         },
         "legendgroup": "TREMIERE",
         "lon": {
          "bdata": "TaCIRQwbCUA=",
          "dtype": "f8"
         },
         "marker": {
          "color": "#FFA15A",
          "size": 15
         },
         "mode": "markers",
         "name": "TREMIERE",
         "showlegend": true,
         "subplot": "map",
         "type": "scattermap"
        },
        {
         "customdata": {
          "bdata": "Dgo=",
          "dtype": "i1",
          "shape": "1, 2"
         },
         "hovertemplate": "properties.nom=ANNAPPES REPUBLIQUE<br>properties.y=%{lat}<br>properties.x=%{lon}<br>properties.nb_places_dispo=%{customdata[0]}<br>properties.nb_velos_dispo=%{customdata[1]}<extra></extra>",
         "lat": {
          "bdata": "HOviNhpQSUA=",
          "dtype": "f8"
         },
         "legendgroup": "ANNAPPES REPUBLIQUE",
         "lon": {
          "bdata": "jkC8rl8wCUA=",
          "dtype": "f8"
         },
         "marker": {
          "color": "#19d3f3",
          "size": 15
         },
         "mode": "markers",
         "name": "ANNAPPES REPUBLIQUE",
         "showlegend": true,
         "subplot": "map",
         "type": "scattermap"
        },
        {
         "customdata": {
          "bdata": "ABM=",
          "dtype": "i1",
          "shape": "1, 2"
         },
         "hovertemplate": "properties.nom=SOLFERINO NATIONALE<br>properties.y=%{lat}<br>properties.x=%{lon}<br>properties.nb_places_dispo=%{customdata[0]}<br>properties.nb_velos_dispo=%{customdata[1]}<extra></extra>",
         "lat": {
          "bdata": "qWqCqPtQSUA=",
          "dtype": "f8"
         },
         "legendgroup": "SOLFERINO NATIONALE",
         "lon": {
          "bdata": "i8QENXxrCEA=",
          "dtype": "f8"
         },
         "marker": {
          "color": "#FF6692",
          "size": 15
         },
         "mode": "markers",
         "name": "SOLFERINO NATIONALE",
         "showlegend": true,
         "subplot": "map",
         "type": "scattermap"
        },
        {
         "customdata": {
          "bdata": "DQM=",
          "dtype": "i1",
          "shape": "1, 2"
         },
         "hovertemplate": "properties.nom=FAUBOURG D'ARRAS<br>properties.y=%{lat}<br>properties.x=%{lon}<br>properties.nb_places_dispo=%{customdata[0]}<br>properties.nb_velos_dispo=%{customdata[1]}<extra></extra>",
         "lat": {
          "bdata": "jgWFQZlOSUA=",
          "dtype": "f8"
         },
         "legendgroup": "FAUBOURG D'ARRAS",
         "lon": {
          "bdata": "OsyXF2B/CEA=",
          "dtype": "f8"
         },
         "marker": {
          "color": "#B6E880",
          "size": 15
         },
         "mode": "markers",
         "name": "FAUBOURG D'ARRAS",
         "showlegend": true,
         "subplot": "map",
         "type": "scattermap"
        },
        {
         "customdata": {
          "bdata": "DgY=",
          "dtype": "i1",
          "shape": "1, 2"
         },
         "hovertemplate": "properties.nom=P.I. DE DOUAI<br>properties.y=%{lat}<br>properties.x=%{lon}<br>properties.nb_places_dispo=%{customdata[0]}<br>properties.nb_velos_dispo=%{customdata[1]}<extra></extra>",
         "lat": {
          "bdata": "Wmd8X1xOSUA=",
          "dtype": "f8"
         },
         "legendgroup": "P.I. DE DOUAI",
         "lon": {
          "bdata": "iSgmb4CZCEA=",
          "dtype": "f8"
         },
         "marker": {
          "color": "#FF97FF",
          "size": 15
         },
         "mode": "markers",
         "name": "P.I. DE DOUAI",
         "showlegend": true,
         "subplot": "map",
         "type": "scattermap"
        },
        {
         "customdata": {
          "bdata": "DwI=",
          "dtype": "i1",
          "shape": "1, 2"
         },
         "hovertemplate": "properties.nom=JEAN JAURES<br>properties.y=%{lat}<br>properties.x=%{lon}<br>properties.nb_places_dispo=%{customdata[0]}<br>properties.nb_velos_dispo=%{customdata[1]}<extra></extra>",
         "lat": {
          "bdata": "nfNTHAdOSUA=",
          "dtype": "f8"
         },
         "legendgroup": "JEAN JAURES",
         "lon": {
          "bdata": "VDvD1JaaCEA=",
          "dtype": "f8"
         },
         "marker": {
          "color": "#FECB52",
          "size": 15
         },
         "mode": "markers",
         "name": "JEAN JAURES",
         "showlegend": true,
         "subplot": "map",
         "type": "scattermap"
        },
        {
         "customdata": {
          "bdata": "Cw0=",
          "dtype": "i1",
          "shape": "1, 2"
         },
         "hovertemplate": "properties.nom=RONCHIN MAIRIE<br>properties.y=%{lat}<br>properties.x=%{lon}<br>properties.nb_places_dispo=%{customdata[0]}<br>properties.nb_velos_dispo=%{customdata[1]}<extra></extra>",
         "lat": {
          "bdata": "6DBfXoBNSUA=",
          "dtype": "f8"
         },
         "legendgroup": "RONCHIN MAIRIE",
         "lon": {
          "bdata": "1Jl7SPieCEA=",
          "dtype": "f8"
         },
         "marker": {
          "color": "#636efa",
          "size": 15
         },
         "mode": "markers",
         "name": "RONCHIN MAIRIE",
         "showlegend": true,
         "subplot": "map",
         "type": "scattermap"
        },
        {
         "customdata": {
          "bdata": "CwI=",
          "dtype": "i1",
          "shape": "1, 2"
         },
         "hovertemplate": "properties.nom=CH. DES MARGUERITOIS<br>properties.y=%{lat}<br>properties.x=%{lon}<br>properties.nb_places_dispo=%{customdata[0]}<br>properties.nb_velos_dispo=%{customdata[1]}<extra></extra>",
         "lat": {
          "bdata": "9tGpK59NSUA=",
          "dtype": "f8"
         },
         "legendgroup": "CH. DES MARGUERITOIS",
         "lon": {
          "bdata": "ntDrT+KTCEA=",
          "dtype": "f8"
         },
         "marker": {
          "color": "#EF553B",
          "size": 15
         },
         "mode": "markers",
         "name": "CH. DES MARGUERITOIS",
         "showlegend": true,
         "subplot": "map",
         "type": "scattermap"
        },
        {
         "customdata": {
          "bdata": "BQs=",
          "dtype": "i1",
          "shape": "1, 2"
         },
         "hovertemplate": "properties.nom=CHEMIN ROUGE<br>properties.y=%{lat}<br>properties.x=%{lon}<br>properties.nb_places_dispo=%{customdata[0]}<br>properties.nb_velos_dispo=%{customdata[1]}<extra></extra>",
         "lat": {
          "bdata": "XcMMjSdOSUA=",
          "dtype": "f8"
         },
         "legendgroup": "CHEMIN ROUGE",
         "lon": {
          "bdata": "z/i+uFSFCEA=",
          "dtype": "f8"
         },
         "marker": {
          "color": "#00cc96",
          "size": 15
         },
         "mode": "markers",
         "name": "CHEMIN ROUGE",
         "showlegend": true,
         "subplot": "map",
         "type": "scattermap"
        },
        {
         "customdata": {
          "bdata": "EgY=",
          "dtype": "i1",
          "shape": "1, 2"
         },
         "hovertemplate": "properties.nom=POMPIDOU<br>properties.y=%{lat}<br>properties.x=%{lon}<br>properties.nb_places_dispo=%{customdata[0]}<br>properties.nb_velos_dispo=%{customdata[1]}<extra></extra>",
         "lat": {
          "bdata": "K8HicOZTSUA=",
          "dtype": "f8"
         },
         "legendgroup": "POMPIDOU",
         "lon": {
          "bdata": "R8zs8xiFCEA=",
          "dtype": "f8"
         },
         "marker": {
          "color": "#ab63fa",
          "size": 15
         },
         "mode": "markers",
         "name": "POMPIDOU",
         "showlegend": true,
         "subplot": "map",
         "type": "scattermap"
        },
        {
         "customdata": {
          "bdata": "ABA=",
          "dtype": "i1",
          "shape": "1, 2"
         },
         "hovertemplate": "properties.nom=CHAUFFERIE<br>properties.y=%{lat}<br>properties.x=%{lon}<br>properties.nb_places_dispo=%{customdata[0]}<br>properties.nb_velos_dispo=%{customdata[1]}<extra></extra>",
         "lat": {
          "bdata": "FjWYhuFTSUA=",
          "dtype": "f8"
         },
         "legendgroup": "CHAUFFERIE",
         "lon": {
          "bdata": "Iy2VtyN8CEA=",
          "dtype": "f8"
         },
         "marker": {
          "color": "#FFA15A",
          "size": 15
         },
         "mode": "markers",
         "name": "CHAUFFERIE",
         "showlegend": true,
         "subplot": "map",
         "type": "scattermap"
        },
        {
         "customdata": {
          "bdata": "CAc=",
          "dtype": "i1",
          "shape": "1, 2"
         },
         "hovertemplate": "properties.nom=BAILLY<br>properties.y=%{lat}<br>properties.x=%{lon}<br>properties.nb_places_dispo=%{customdata[0]}<br>properties.nb_velos_dispo=%{customdata[1]}<extra></extra>",
         "lat": {
          "bdata": "Z9ZSQNpTSUA=",
          "dtype": "f8"
         },
         "legendgroup": "BAILLY",
         "lon": {
          "bdata": "Ei7kEdxoCEA=",
          "dtype": "f8"
         },
         "marker": {
          "color": "#19d3f3",
          "size": 15
         },
         "mode": "markers",
         "name": "BAILLY",
         "showlegend": true,
         "subplot": "map",
         "type": "scattermap"
        },
        {
         "customdata": {
          "bdata": "Cw0=",
          "dtype": "i1",
          "shape": "1, 2"
         },
         "hovertemplate": "properties.nom=ST ANDRE MAIRIE<br>properties.y=%{lat}<br>properties.x=%{lon}<br>properties.nb_places_dispo=%{customdata[0]}<br>properties.nb_velos_dispo=%{customdata[1]}<extra></extra>",
         "lat": {
          "bdata": "7nvUX69USUA=",
          "dtype": "f8"
         },
         "legendgroup": "ST ANDRE MAIRIE",
         "lon": {
          "bdata": "jSeCOA9nCEA=",
          "dtype": "f8"
         },
         "marker": {
          "color": "#FF6692",
          "size": 15
         },
         "mode": "markers",
         "name": "ST ANDRE MAIRIE",
         "showlegend": true,
         "subplot": "map",
         "type": "scattermap"
        },
        {
         "customdata": {
          "bdata": "AQ8=",
          "dtype": "i1",
          "shape": "1, 2"
         },
         "hovertemplate": "properties.nom=CANON D'OR<br>properties.y=%{lat}<br>properties.x=%{lon}<br>properties.nb_places_dispo=%{customdata[0]}<br>properties.nb_velos_dispo=%{customdata[1]}<extra></extra>",
         "lat": {
          "bdata": "rP9zmC9TSUA=",
          "dtype": "f8"
         },
         "legendgroup": "CANON D'OR",
         "lon": {
          "bdata": "vK5fsBtWCEA=",
          "dtype": "f8"
         },
         "marker": {
          "color": "#B6E880",
          "size": 15
         },
         "mode": "markers",
         "name": "CANON D'OR",
         "showlegend": true,
         "subplot": "map",
         "type": "scattermap"
        },
        {
         "customdata": {
          "bdata": "ABQ=",
          "dtype": "i1",
          "shape": "1, 2"
         },
         "hovertemplate": "properties.nom=DELECAUX<br>properties.y=%{lat}<br>properties.x=%{lon}<br>properties.nb_places_dispo=%{customdata[0]}<br>properties.nb_velos_dispo=%{customdata[1]}<extra></extra>",
         "lat": {
          "bdata": "XmQCfo1SSUA=",
          "dtype": "f8"
         },
         "legendgroup": "DELECAUX",
         "lon": {
          "bdata": "MGghAaNLCEA=",
          "dtype": "f8"
         },
         "marker": {
          "color": "#FF97FF",
          "size": 15
         },
         "mode": "markers",
         "name": "DELECAUX",
         "showlegend": true,
         "subplot": "map",
         "type": "scattermap"
        },
        {
         "customdata": {
          "bdata": "KAA=",
          "dtype": "i1",
          "shape": "1, 2"
         },
         "hovertemplate": "properties.nom=EURALILLE<br>properties.y=%{lat}<br>properties.x=%{lon}<br>properties.nb_places_dispo=%{customdata[0]}<br>properties.nb_velos_dispo=%{customdata[1]}<extra></extra>",
         "lat": {
          "bdata": "iudsAaFRSUA=",
          "dtype": "f8"
         },
         "legendgroup": "EURALILLE",
         "lon": {
          "bdata": "lMDmHDyTCEA=",
          "dtype": "f8"
         },
         "marker": {
          "color": "#FECB52",
          "size": 15
         },
         "mode": "markers",
         "name": "EURALILLE",
         "showlegend": true,
         "subplot": "map",
         "type": "scattermap"
        },
        {
         "customdata": {
          "bdata": "EwE=",
          "dtype": "i1",
          "shape": "1, 2"
         },
         "hovertemplate": "properties.nom=PARVIS ROTTERDAM<br>properties.y=%{lat}<br>properties.x=%{lon}<br>properties.nb_places_dispo=%{customdata[0]}<br>properties.nb_velos_dispo=%{customdata[1]}<extra></extra>",
         "lat": {
          "bdata": "tK7RcqBRSUA=",
          "dtype": "f8"
         },
         "legendgroup": "PARVIS ROTTERDAM",
         "lon": {
          "bdata": "okYhyayeCEA=",
          "dtype": "f8"
         },
         "marker": {
          "color": "#636efa",
          "size": 15
         },
         "mode": "markers",
         "name": "PARVIS ROTTERDAM",
         "showlegend": true,
         "subplot": "map",
         "type": "scattermap"
        },
        {
         "customdata": {
          "bdata": "CAc=",
          "dtype": "i1",
          "shape": "1, 2"
         },
         "hovertemplate": "properties.nom=CHAUDE RIVIÈRE<br>properties.y=%{lat}<br>properties.x=%{lon}<br>properties.nb_places_dispo=%{customdata[0]}<br>properties.nb_velos_dispo=%{customdata[1]}<extra></extra>",
         "lat": {
          "bdata": "YoOFkzRRSUA=",
          "dtype": "f8"
         },
         "legendgroup": "CHAUDE RIVIÈRE",
         "lon": {
          "bdata": "Tq7O1maoCEA=",
          "dtype": "f8"
         },
         "marker": {
          "color": "#EF553B",
          "size": 15
         },
         "mode": "markers",
         "name": "CHAUDE RIVIÈRE",
         "showlegend": true,
         "subplot": "map",
         "type": "scattermap"
        },
        {
         "customdata": {
          "bdata": "FwM=",
          "dtype": "i1",
          "shape": "1, 2"
         },
         "hovertemplate": "properties.nom=ANGELLIER<br>properties.y=%{lat}<br>properties.x=%{lon}<br>properties.nb_places_dispo=%{customdata[0]}<br>properties.nb_velos_dispo=%{customdata[1]}<extra></extra>",
         "lat": {
          "bdata": "aww6IXRQSUA=",
          "dtype": "f8"
         },
         "legendgroup": "ANGELLIER",
         "lon": {
          "bdata": "2v6VlSaFCEA=",
          "dtype": "f8"
         },
         "marker": {
          "color": "#00cc96",
          "size": 15
         },
         "mode": "markers",
         "name": "ANGELLIER",
         "showlegend": true,
         "subplot": "map",
         "type": "scattermap"
        },
        {
         "customdata": {
          "bdata": "Bg4=",
          "dtype": "i1",
          "shape": "1, 2"
         },
         "hovertemplate": "properties.nom=JEANNE D'ARC<br>properties.y=%{lat}<br>properties.x=%{lon}<br>properties.nb_places_dispo=%{customdata[0]}<br>properties.nb_velos_dispo=%{customdata[1]}<extra></extra>",
         "lat": {
          "bdata": "5Lz/jxNQSUA=",
          "dtype": "f8"
         },
         "legendgroup": "JEANNE D'ARC",
         "lon": {
          "bdata": "WYXNABeECEA=",
          "dtype": "f8"
         },
         "marker": {
          "color": "#ab63fa",
          "size": 15
         },
         "mode": "markers",
         "name": "JEANNE D'ARC",
         "showlegend": true,
         "subplot": "map",
         "type": "scattermap"
        },
        {
         "customdata": {
          "bdata": "DwE=",
          "dtype": "i1",
          "shape": "1, 2"
         },
         "hovertemplate": "properties.nom=HOPITAL MILITAIRE<br>properties.y=%{lat}<br>properties.x=%{lon}<br>properties.nb_places_dispo=%{customdata[0]}<br>properties.nb_velos_dispo=%{customdata[1]}<extra></extra>",
         "lat": {
          "bdata": "BfpEniRRSUA=",
          "dtype": "f8"
         },
         "legendgroup": "HOPITAL MILITAIRE",
         "lon": {
          "bdata": "8rT8wFV+CEA=",
          "dtype": "f8"
         },
         "marker": {
          "color": "#FFA15A",
          "size": 15
         },
         "mode": "markers",
         "name": "HOPITAL MILITAIRE",
         "showlegend": true,
         "subplot": "map",
         "type": "scattermap"
        },
        {
         "customdata": {
          "bdata": "Agw=",
          "dtype": "i1",
          "shape": "1, 2"
         },
         "hovertemplate": "properties.nom=JEAN SANS PEUR<br>properties.y=%{lat}<br>properties.x=%{lon}<br>properties.nb_places_dispo=%{customdata[0]}<br>properties.nb_velos_dispo=%{customdata[1]}<extra></extra>",
         "lat": {
          "bdata": "fh6jPPNQSUA=",
          "dtype": "f8"
         },
         "legendgroup": "JEAN SANS PEUR",
         "lon": {
          "bdata": "8zy4O2t3CEA=",
          "dtype": "f8"
         },
         "marker": {
          "color": "#19d3f3",
          "size": 15
         },
         "mode": "markers",
         "name": "JEAN SANS PEUR",
         "showlegend": true,
         "subplot": "map",
         "type": "scattermap"
        },
        {
         "customdata": {
          "bdata": "DgI=",
          "dtype": "i1",
          "shape": "1, 2"
         },
         "hovertemplate": "properties.nom=CAMPUS ST RAPHAEL<br>properties.y=%{lat}<br>properties.x=%{lon}<br>properties.nb_places_dispo=%{customdata[0]}<br>properties.nb_velos_dispo=%{customdata[1]}<extra></extra>",
         "lat": {
          "bdata": "G4F4Xb9QSUA=",
          "dtype": "f8"
         },
         "legendgroup": "CAMPUS ST RAPHAEL",
         "lon": {
          "bdata": "lgm/1M9bCEA=",
          "dtype": "f8"
         },
         "marker": {
          "color": "#FF6692",
          "size": 15
         },
         "mode": "markers",
         "name": "CAMPUS ST RAPHAEL",
         "showlegend": true,
         "subplot": "map",
         "type": "scattermap"
        },
        {
         "customdata": {
          "bdata": "CAw=",
          "dtype": "i1",
          "shape": "1, 2"
         },
         "hovertemplate": "properties.nom=TRANQUILLITÉ<br>properties.y=%{lat}<br>properties.x=%{lon}<br>properties.nb_places_dispo=%{customdata[0]}<br>properties.nb_velos_dispo=%{customdata[1]}<extra></extra>",
         "lat": {
          "bdata": "+WUwRiRQSUA=",
          "dtype": "f8"
         },
         "legendgroup": "TRANQUILLITÉ",
         "lon": {
          "bdata": "H7+36c9eCEA=",
          "dtype": "f8"
         },
         "marker": {
          "color": "#B6E880",
          "size": 15
         },
         "mode": "markers",
         "name": "TRANQUILLITÉ",
         "showlegend": true,
         "subplot": "map",
         "type": "scattermap"
        },
        {
         "customdata": {
          "bdata": "Aws=",
          "dtype": "i1",
          "shape": "1, 2"
         },
         "hovertemplate": "properties.nom=RIVES DE LA HAUTE DEULE<br>properties.y=%{lat}<br>properties.x=%{lon}<br>properties.nb_places_dispo=%{customdata[0]}<br>properties.nb_velos_dispo=%{customdata[1]}<extra></extra>",
         "lat": {
          "bdata": "hH6mXrdQSUA=",
          "dtype": "f8"
         },
         "legendgroup": "RIVES DE LA HAUTE DEULE",
         "lon": {
          "bdata": "zjP2JRsvCEA=",
          "dtype": "f8"
         },
         "marker": {
          "color": "#FF97FF",
          "size": 15
         },
         "mode": "markers",
         "name": "RIVES DE LA HAUTE DEULE",
         "showlegend": true,
         "subplot": "map",
         "type": "scattermap"
        },
        {
         "customdata": {
          "bdata": "Awk=",
          "dtype": "i1",
          "shape": "1, 2"
         },
         "hovertemplate": "properties.nom=JEMMAPES<br>properties.y=%{lat}<br>properties.x=%{lon}<br>properties.nb_places_dispo=%{customdata[0]}<br>properties.nb_velos_dispo=%{customdata[1]}<extra></extra>",
         "lat": {
          "bdata": "Y5y/CYVSSUA=",
          "dtype": "f8"
         },
         "legendgroup": "JEMMAPES",
         "lon": {
          "bdata": "BaT9D7B2CEA=",
          "dtype": "f8"
         },
         "marker": {
          "color": "#FECB52",
          "size": 15
         },
         "mode": "markers",
         "name": "JEMMAPES",
         "showlegend": true,
         "subplot": "map",
         "type": "scattermap"
        },
        {
         "customdata": {
          "bdata": "Ago=",
          "dtype": "i1",
          "shape": "1, 2"
         },
         "hovertemplate": "properties.nom=GANTOIS<br>properties.y=%{lat}<br>properties.x=%{lon}<br>properties.nb_places_dispo=%{customdata[0]}<br>properties.nb_velos_dispo=%{customdata[1]}<extra></extra>",
         "lat": {
          "bdata": "pN++DpxPSUA=",
          "dtype": "f8"
         },
         "legendgroup": "GANTOIS",
         "lon": {
          "bdata": "66hqgqh7CEA=",
          "dtype": "f8"
         },
         "marker": {
          "color": "#636efa",
          "size": 15
         },
         "mode": "markers",
         "name": "GANTOIS",
         "showlegend": true,
         "subplot": "map",
         "type": "scattermap"
        },
        {
         "customdata": {
          "bdata": "AgQ=",
          "dtype": "i1",
          "shape": "1, 2"
         },
         "hovertemplate": "properties.nom=AUBERGE DE JEUNESSE<br>properties.y=%{lat}<br>properties.x=%{lon}<br>properties.nb_places_dispo=%{customdata[0]}<br>properties.nb_velos_dispo=%{customdata[1]}<extra></extra>",
         "lat": {
          "bdata": "FW9kHvlPSUA=",
          "dtype": "f8"
         },
         "legendgroup": "AUBERGE DE JEUNESSE",
         "lon": {
          "bdata": "A0Lr4cukCEA=",
          "dtype": "f8"
         },
         "marker": {
          "color": "#EF553B",
          "size": 15
         },
         "mode": "markers",
         "name": "AUBERGE DE JEUNESSE",
         "showlegend": true,
         "subplot": "map",
         "type": "scattermap"
        },
        {
         "customdata": {
          "bdata": "BAg=",
          "dtype": "i1",
          "shape": "1, 2"
         },
         "hovertemplate": "properties.nom=PLACE DE LA GARONNE<br>properties.y=%{lat}<br>properties.x=%{lon}<br>properties.nb_places_dispo=%{customdata[0]}<br>properties.nb_velos_dispo=%{customdata[1]}<extra></extra>",
         "lat": {
          "bdata": "RrHc0mpOSUA=",
          "dtype": "f8"
         },
         "legendgroup": "PLACE DE LA GARONNE",
         "lon": {
          "bdata": "EW3H1F15CEA=",
          "dtype": "f8"
         },
         "marker": {
          "color": "#00cc96",
          "size": 15
         },
         "mode": "markers",
         "name": "PLACE DE LA GARONNE",
         "showlegend": true,
         "subplot": "map",
         "type": "scattermap"
        },
        {
         "customdata": {
          "bdata": "FAA=",
          "dtype": "i1",
          "shape": "1, 2"
         },
         "hovertemplate": "properties.nom=CHU - CENTRE OSCAR LAMBRET<br>properties.y=%{lat}<br>properties.x=%{lon}<br>properties.nb_places_dispo=%{customdata[0]}<br>properties.nb_velos_dispo=%{customdata[1]}<extra></extra>",
         "lat": {
          "bdata": "kbjH0odOSUA=",
          "dtype": "f8"
         },
         "legendgroup": "CHU - CENTRE OSCAR LAMBRET",
         "lon": {
          "bdata": "l8rbEU5LCEA=",
          "dtype": "f8"
         },
         "marker": {
          "color": "#ab63fa",
          "size": 15
         },
         "mode": "markers",
         "name": "CHU - CENTRE OSCAR LAMBRET",
         "showlegend": true,
         "subplot": "map",
         "type": "scattermap"
        },
        {
         "customdata": {
          "bdata": "HAA=",
          "dtype": "i1",
          "shape": "1, 2"
         },
         "hovertemplate": "properties.nom=CHU - EURASANTÉ<br>properties.y=%{lat}<br>properties.x=%{lon}<br>properties.nb_places_dispo=%{customdata[0]}<br>properties.nb_velos_dispo=%{customdata[1]}<extra></extra>",
         "lat": {
          "bdata": "cHoX78dNSUA=",
          "dtype": "f8"
         },
         "legendgroup": "CHU - EURASANTÉ",
         "lon": {
          "bdata": "t5vgm6ZPCEA=",
          "dtype": "f8"
         },
         "marker": {
          "color": "#FFA15A",
          "size": 15
         },
         "mode": "markers",
         "name": "CHU - EURASANTÉ",
         "showlegend": true,
         "subplot": "map",
         "type": "scattermap"
        },
        {
         "customdata": {
          "bdata": "DgI=",
          "dtype": "i1",
          "shape": "1, 2"
         },
         "hovertemplate": "properties.nom=RECHERCHE<br>properties.y=%{lat}<br>properties.x=%{lon}<br>properties.nb_places_dispo=%{customdata[0]}<br>properties.nb_velos_dispo=%{customdata[1]}<extra></extra>",
         "lat": {
          "bdata": "mpSCbi9NSUA=",
          "dtype": "f8"
         },
         "legendgroup": "RECHERCHE",
         "lon": {
          "bdata": "NCxGXWtPCEA=",
          "dtype": "f8"
         },
         "marker": {
          "color": "#19d3f3",
          "size": 15
         },
         "mode": "markers",
         "name": "RECHERCHE",
         "showlegend": true,
         "subplot": "map",
         "type": "scattermap"
        },
        {
         "customdata": {
          "bdata": "EAA=",
          "dtype": "i1",
          "shape": "1, 2"
         },
         "hovertemplate": "properties.nom=FACULTÉ DE MÉDECINE<br>properties.y=%{lat}<br>properties.x=%{lon}<br>properties.nb_places_dispo=%{customdata[0]}<br>properties.nb_velos_dispo=%{customdata[1]}<extra></extra>",
         "lat": {
          "bdata": "e7slOWBNSUA=",
          "dtype": "f8"
         },
         "legendgroup": "FACULTÉ DE MÉDECINE",
         "lon": {
          "bdata": "zEI7p1lACEA=",
          "dtype": "f8"
         },
         "marker": {
          "color": "#FF6692",
          "size": 15
         },
         "mode": "markers",
         "name": "FACULTÉ DE MÉDECINE",
         "showlegend": true,
         "subplot": "map",
         "type": "scattermap"
        },
        {
         "customdata": {
          "bdata": "AA4=",
          "dtype": "i1",
          "shape": "1, 2"
         },
         "hovertemplate": "properties.nom=RUE DE LONDRES<br>properties.y=%{lat}<br>properties.x=%{lon}<br>properties.nb_places_dispo=%{customdata[0]}<br>properties.nb_velos_dispo=%{customdata[1]}<extra></extra>",
         "lat": {
          "bdata": "ATEJF/JOSUA=",
          "dtype": "f8"
         },
         "legendgroup": "RUE DE LONDRES",
         "lon": {
          "bdata": "fxe2ZisvCEA=",
          "dtype": "f8"
         },
         "marker": {
          "color": "#B6E880",
          "size": 15
         },
         "mode": "markers",
         "name": "RUE DE LONDRES",
         "showlegend": true,
         "subplot": "map",
         "type": "scattermap"
        },
        {
         "customdata": {
          "bdata": "ABI=",
          "dtype": "i1",
          "shape": "1, 2"
         },
         "hovertemplate": "properties.nom=LA FILEUSE<br>properties.y=%{lat}<br>properties.x=%{lon}<br>properties.nb_places_dispo=%{customdata[0]}<br>properties.nb_velos_dispo=%{customdata[1]}<extra></extra>",
         "lat": {
          "bdata": "mdamsb1OSUA=",
          "dtype": "f8"
         },
         "legendgroup": "LA FILEUSE",
         "lon": {
          "bdata": "NGWnH9QlCEA=",
          "dtype": "f8"
         },
         "marker": {
          "color": "#FF97FF",
          "size": 15
         },
         "mode": "markers",
         "name": "LA FILEUSE",
         "showlegend": true,
         "subplot": "map",
         "type": "scattermap"
        },
        {
         "customdata": {
          "bdata": "AhI=",
          "dtype": "i1",
          "shape": "1, 2"
         },
         "hovertemplate": "properties.nom=BOURSE DU TRAVAIL<br>properties.y=%{lat}<br>properties.x=%{lon}<br>properties.nb_places_dispo=%{customdata[0]}<br>properties.nb_velos_dispo=%{customdata[1]}<extra></extra>",
         "lat": {
          "bdata": "NszQeCJQSUA=",
          "dtype": "f8"
         },
         "legendgroup": "BOURSE DU TRAVAIL",
         "lon": {
          "bdata": "qiwKuyi6CEA=",
          "dtype": "f8"
         },
         "marker": {
          "color": "#FECB52",
          "size": 15
         },
         "mode": "markers",
         "name": "BOURSE DU TRAVAIL",
         "showlegend": true,
         "subplot": "map",
         "type": "scattermap"
        },
        {
         "customdata": {
          "bdata": "AQ0=",
          "dtype": "i1",
          "shape": "1, 2"
         },
         "hovertemplate": "properties.nom=SQUARE JEAN MONNET<br>properties.y=%{lat}<br>properties.x=%{lon}<br>properties.nb_places_dispo=%{customdata[0]}<br>properties.nb_velos_dispo=%{customdata[1]}<extra></extra>",
         "lat": {
          "bdata": "ED//PXhTSUA=",
          "dtype": "f8"
         },
         "legendgroup": "SQUARE JEAN MONNET",
         "lon": {
          "bdata": "OuenOA48CEA=",
          "dtype": "f8"
         },
         "marker": {
          "color": "#636efa",
          "size": 15
         },
         "mode": "markers",
         "name": "SQUARE JEAN MONNET",
         "showlegend": true,
         "subplot": "map",
         "type": "scattermap"
        },
        {
         "customdata": {
          "bdata": "GAA=",
          "dtype": "i1",
          "shape": "1, 2"
         },
         "hovertemplate": "properties.nom=MARIE MARRANT<br>properties.y=%{lat}<br>properties.x=%{lon}<br>properties.nb_places_dispo=%{customdata[0]}<br>properties.nb_velos_dispo=%{customdata[1]}<extra></extra>",
         "lat": {
          "bdata": "bCHIQQlTSUA=",
          "dtype": "f8"
         },
         "legendgroup": "MARIE MARRANT",
         "lon": {
          "bdata": "5SfVPh2PCEA=",
          "dtype": "f8"
         },
         "marker": {
          "color": "#EF553B",
          "size": 15
         },
         "mode": "markers",
         "name": "MARIE MARRANT",
         "showlegend": true,
         "subplot": "map",
         "type": "scattermap"
        },
        {
         "customdata": {
          "bdata": "AAw=",
          "dtype": "i1",
          "shape": "1, 2"
         },
         "hovertemplate": "properties.nom=BECQUART<br>properties.y=%{lat}<br>properties.x=%{lon}<br>properties.nb_places_dispo=%{customdata[0]}<br>properties.nb_velos_dispo=%{customdata[1]}<extra></extra>",
         "lat": {
          "bdata": "dQXbiCdTSUA=",
          "dtype": "f8"
         },
         "legendgroup": "BECQUART",
         "lon": {
          "bdata": "kpbK2xFOCEA=",
          "dtype": "f8"
         },
         "marker": {
          "color": "#00cc96",
          "size": 15
         },
         "mode": "markers",
         "name": "BECQUART",
         "showlegend": true,
         "subplot": "map",
         "type": "scattermap"
        },
        {
         "customdata": {
          "bdata": "DgY=",
          "dtype": "i1",
          "shape": "1, 2"
         },
         "hovertemplate": "properties.nom=PLACE DE LA BOUCHERIE<br>properties.y=%{lat}<br>properties.x=%{lon}<br>properties.nb_places_dispo=%{customdata[0]}<br>properties.nb_velos_dispo=%{customdata[1]}<extra></extra>",
         "lat": {
          "bdata": "X5m36jpUSUA=",
          "dtype": "f8"
         },
         "legendgroup": "PLACE DE LA BOUCHERIE",
         "lon": {
          "bdata": "S65i8ZuCCEA=",
          "dtype": "f8"
         },
         "marker": {
          "color": "#ab63fa",
          "size": 15
         },
         "mode": "markers",
         "name": "PLACE DE LA BOUCHERIE",
         "showlegend": true,
         "subplot": "map",
         "type": "scattermap"
        },
        {
         "customdata": {
          "bdata": "Ago=",
          "dtype": "i1",
          "shape": "1, 2"
         },
         "hovertemplate": "properties.nom=RUE DU PARC<br>properties.y=%{lat}<br>properties.x=%{lon}<br>properties.nb_places_dispo=%{customdata[0]}<br>properties.nb_velos_dispo=%{customdata[1]}<extra></extra>",
         "lat": {
          "bdata": "LZljeVdTSUA=",
          "dtype": "f8"
         },
         "legendgroup": "RUE DU PARC",
         "lon": {
          "bdata": "tFn1udqKCEA=",
          "dtype": "f8"
         },
         "marker": {
          "color": "#FFA15A",
          "size": 15
         },
         "mode": "markers",
         "name": "RUE DU PARC",
         "showlegend": true,
         "subplot": "map",
         "type": "scattermap"
        },
        {
         "customdata": {
          "bdata": "BAg=",
          "dtype": "i1",
          "shape": "1, 2"
         },
         "hovertemplate": "properties.nom=SAINTE HÉLÈNE<br>properties.y=%{lat}<br>properties.x=%{lon}<br>properties.nb_places_dispo=%{customdata[0]}<br>properties.nb_velos_dispo=%{customdata[1]}<extra></extra>",
         "lat": {
          "bdata": "eSPzyB9USUA=",
          "dtype": "f8"
         },
         "legendgroup": "SAINTE HÉLÈNE",
         "lon": {
          "bdata": "6iXGMv1yCEA=",
          "dtype": "f8"
         },
         "marker": {
          "color": "#19d3f3",
          "size": 15
         },
         "mode": "markers",
         "name": "SAINTE HÉLÈNE",
         "showlegend": true,
         "subplot": "map",
         "type": "scattermap"
        },
        {
         "customdata": {
          "bdata": "Ago=",
          "dtype": "i1",
          "shape": "1, 2"
         },
         "hovertemplate": "properties.nom=MARCQ MAIRIE<br>properties.y=%{lat}<br>properties.x=%{lon}<br>properties.nb_places_dispo=%{customdata[0]}<br>properties.nb_velos_dispo=%{customdata[1]}<extra></extra>",
         "lat": {
          "bdata": "DoRkARNWSUA=",
          "dtype": "f8"
         },
         "legendgroup": "MARCQ MAIRIE",
         "lon": {
          "bdata": "wVd06zW9CEA=",
          "dtype": "f8"
         },
         "marker": {
          "color": "#FF6692",
          "size": 15
         },
         "mode": "markers",
         "name": "MARCQ MAIRIE",
         "showlegend": true,
         "subplot": "map",
         "type": "scattermap"
        },
        {
         "customdata": {
          "bdata": "DAA=",
          "dtype": "i1",
          "shape": "1, 2"
         },
         "hovertemplate": "properties.nom=CITÉ MARIANNE<br>properties.y=%{lat}<br>properties.x=%{lon}<br>properties.nb_places_dispo=%{customdata[0]}<br>properties.nb_velos_dispo=%{customdata[1]}<extra></extra>",
         "lat": {
          "bdata": "wW7YtihPSUA=",
          "dtype": "f8"
         },
         "legendgroup": "CITÉ MARIANNE",
         "lon": {
          "bdata": "uVM6WP9nCEA=",
          "dtype": "f8"
         },
         "marker": {
          "color": "#B6E880",
          "size": 15
         },
         "mode": "markers",
         "name": "CITÉ MARIANNE",
         "showlegend": true,
         "subplot": "map",
         "type": "scattermap"
        },
        {
         "customdata": {
          "bdata": "AQs=",
          "dtype": "i1",
          "shape": "1, 2"
         },
         "hovertemplate": "properties.nom=LOUIS BRAILLE<br>properties.y=%{lat}<br>properties.x=%{lon}<br>properties.nb_places_dispo=%{customdata[0]}<br>properties.nb_velos_dispo=%{customdata[1]}<extra></extra>",
         "lat": {
          "bdata": "fZdSl4xRSUA=",
          "dtype": "f8"
         },
         "legendgroup": "LOUIS BRAILLE",
         "lon": {
          "bdata": "IPDAAMLHCEA=",
          "dtype": "f8"
         },
         "marker": {
          "color": "#FF97FF",
          "size": 15
         },
         "mode": "markers",
         "name": "LOUIS BRAILLE",
         "showlegend": true,
         "subplot": "map",
         "type": "scattermap"
        },
        {
         "customdata": {
          "bdata": "CwU=",
          "dtype": "i1",
          "shape": "1, 2"
         },
         "hovertemplate": "properties.nom=HAUT DE MONS<br>properties.y=%{lat}<br>properties.x=%{lon}<br>properties.nb_places_dispo=%{customdata[0]}<br>properties.nb_velos_dispo=%{customdata[1]}<extra></extra>",
         "lat": {
          "bdata": "P4ulSL5SSUA=",
          "dtype": "f8"
         },
         "legendgroup": "HAUT DE MONS",
         "lon": {
          "bdata": "8zl3u17aCEA=",
          "dtype": "f8"
         },
         "marker": {
          "color": "#FECB52",
          "size": 15
         },
         "mode": "markers",
         "name": "HAUT DE MONS",
         "showlegend": true,
         "subplot": "map",
         "type": "scattermap"
        },
        {
         "customdata": {
          "bdata": "CgQ=",
          "dtype": "i1",
          "shape": "1, 2"
         },
         "hovertemplate": "properties.nom=QUAI 22<br>properties.y=%{lat}<br>properties.x=%{lon}<br>properties.nb_places_dispo=%{customdata[0]}<br>properties.nb_velos_dispo=%{customdata[1]}<extra></extra>",
         "lat": {
          "bdata": "uRYtQNtUSUA=",
          "dtype": "f8"
         },
         "legendgroup": "QUAI 22",
         "lon": {
          "bdata": "kUjb+BN1CEA=",
          "dtype": "f8"
         },
         "marker": {
          "color": "#636efa",
          "size": 15
         },
         "mode": "markers",
         "name": "QUAI 22",
         "showlegend": true,
         "subplot": "map",
         "type": "scattermap"
        },
        {
         "customdata": {
          "bdata": "Cwc=",
          "dtype": "i1",
          "shape": "1, 2"
         },
         "hovertemplate": "properties.nom=FERME D'EN HAUT<br>properties.y=%{lat}<br>properties.x=%{lon}<br>properties.nb_places_dispo=%{customdata[0]}<br>properties.nb_velos_dispo=%{customdata[1]}<extra></extra>",
         "lat": {
          "bdata": "lbiOccVRSUA=",
          "dtype": "f8"
         },
         "legendgroup": "FERME D'EN HAUT",
         "lon": {
          "bdata": "ggto2N4NCUA=",
          "dtype": "f8"
         },
         "marker": {
          "color": "#EF553B",
          "size": 15
         },
         "mode": "markers",
         "name": "FERME D'EN HAUT",
         "showlegend": true,
         "subplot": "map",
         "type": "scattermap"
        },
        {
         "customdata": {
          "bdata": "CAY=",
          "dtype": "i1",
          "shape": "1, 2"
         },
         "hovertemplate": "properties.nom=LE STADIUM<br>properties.y=%{lat}<br>properties.x=%{lon}<br>properties.nb_places_dispo=%{customdata[0]}<br>properties.nb_velos_dispo=%{customdata[1]}<extra></extra>",
         "lat": {
          "bdata": "i3vi781QSUA=",
          "dtype": "f8"
         },
         "legendgroup": "LE STADIUM",
         "lon": {
          "bdata": "n8MhwI4UCUA=",
          "dtype": "f8"
         },
         "marker": {
          "color": "#00cc96",
          "size": 15
         },
         "mode": "markers",
         "name": "LE STADIUM",
         "showlegend": true,
         "subplot": "map",
         "type": "scattermap"
        },
        {
         "customdata": {
          "bdata": "DQc=",
          "dtype": "i1",
          "shape": "1, 2"
         },
         "hovertemplate": "properties.nom=BEL AIR<br>properties.y=%{lat}<br>properties.x=%{lon}<br>properties.nb_places_dispo=%{customdata[0]}<br>properties.nb_velos_dispo=%{customdata[1]}<extra></extra>",
         "lat": {
          "bdata": "Iv/MID5USUA=",
          "dtype": "f8"
         },
         "legendgroup": "BEL AIR",
         "lon": {
          "bdata": "zas6qwVWCEA=",
          "dtype": "f8"
         },
         "marker": {
          "color": "#ab63fa",
          "size": 15
         },
         "mode": "markers",
         "name": "BEL AIR",
         "showlegend": true,
         "subplot": "map",
         "type": "scattermap"
        },
        {
         "customdata": {
          "bdata": "CQs=",
          "dtype": "i1",
          "shape": "1, 2"
         },
         "hovertemplate": "properties.nom=LOMMELET<br>properties.y=%{lat}<br>properties.x=%{lon}<br>properties.nb_places_dispo=%{customdata[0]}<br>properties.nb_velos_dispo=%{customdata[1]}<extra></extra>",
         "lat": {
          "bdata": "XRd+cD5VSUA=",
          "dtype": "f8"
         },
         "legendgroup": "LOMMELET",
         "lon": {
          "bdata": "dChDVUxlCEA=",
          "dtype": "f8"
         },
         "marker": {
          "color": "#FFA15A",
          "size": 15
         },
         "mode": "markers",
         "name": "LOMMELET",
         "showlegend": true,
         "subplot": "map",
         "type": "scattermap"
        },
        {
         "customdata": {
          "bdata": "AxE=",
          "dtype": "i1",
          "shape": "1, 2"
         },
         "hovertemplate": "properties.nom=TISSERAND<br>properties.y=%{lat}<br>properties.x=%{lon}<br>properties.nb_places_dispo=%{customdata[0]}<br>properties.nb_velos_dispo=%{customdata[1]}<extra></extra>",
         "lat": {
          "bdata": "NC4cCMlQSUA=",
          "dtype": "f8"
         },
         "legendgroup": "TISSERAND",
         "lon": {
          "bdata": "WWsotRcRCEA=",
          "dtype": "f8"
         },
         "marker": {
          "color": "#19d3f3",
          "size": 15
         },
         "mode": "markers",
         "name": "TISSERAND",
         "showlegend": true,
         "subplot": "map",
         "type": "scattermap"
        },
        {
         "customdata": {
          "bdata": "Bwo=",
          "dtype": "i1",
          "shape": "1, 2"
         },
         "hovertemplate": "properties.nom=ANATOLE FRANCE<br>properties.y=%{lat}<br>properties.x=%{lon}<br>properties.nb_places_dispo=%{customdata[0]}<br>properties.nb_velos_dispo=%{customdata[1]}<extra></extra>",
         "lat": {
          "bdata": "NpTai2hRSUA=",
          "dtype": "f8"
         },
         "legendgroup": "ANATOLE FRANCE",
         "lon": {
          "bdata": "q7TFNT4TCEA=",
          "dtype": "f8"
         },
         "marker": {
          "color": "#FF6692",
          "size": 15
         },
         "mode": "markers",
         "name": "ANATOLE FRANCE",
         "showlegend": true,
         "subplot": "map",
         "type": "scattermap"
        },
        {
         "customdata": {
          "bdata": "DAg=",
          "dtype": "i1",
          "shape": "1, 2"
         },
         "hovertemplate": "properties.nom=NOTEBART<br>properties.y=%{lat}<br>properties.x=%{lon}<br>properties.nb_places_dispo=%{customdata[0]}<br>properties.nb_velos_dispo=%{customdata[1]}<extra></extra>",
         "lat": {
          "bdata": "QieEDrpQSUA=",
          "dtype": "f8"
         },
         "legendgroup": "NOTEBART",
         "lon": {
          "bdata": "GR2QhH0bCEA=",
          "dtype": "f8"
         },
         "marker": {
          "color": "#B6E880",
          "size": 15
         },
         "mode": "markers",
         "name": "NOTEBART",
         "showlegend": true,
         "subplot": "map",
         "type": "scattermap"
        },
        {
         "customdata": {
          "bdata": "CAw=",
          "dtype": "i1",
          "shape": "1, 2"
         },
         "hovertemplate": "properties.nom=LOOS CLEMENCEAU<br>properties.y=%{lat}<br>properties.x=%{lon}<br>properties.nb_places_dispo=%{customdata[0]}<br>properties.nb_velos_dispo=%{customdata[1]}<extra></extra>",
         "lat": {
          "bdata": "R3alZaROSUA=",
          "dtype": "f8"
         },
         "legendgroup": "LOOS CLEMENCEAU",
         "lon": {
          "bdata": "x2KbVDQWCEA=",
          "dtype": "f8"
         },
         "marker": {
          "color": "#FF97FF",
          "size": 15
         },
         "mode": "markers",
         "name": "LOOS CLEMENCEAU",
         "showlegend": true,
         "subplot": "map",
         "type": "scattermap"
        },
        {
         "customdata": {
          "bdata": "Cwk=",
          "dtype": "i1",
          "shape": "1, 2"
         },
         "hovertemplate": "properties.nom=GEORGES POTIÉ<br>properties.y=%{lat}<br>properties.x=%{lon}<br>properties.nb_places_dispo=%{customdata[0]}<br>properties.nb_velos_dispo=%{customdata[1]}<extra></extra>",
         "lat": {
          "bdata": "JGB0eXNOSUA=",
          "dtype": "f8"
         },
         "legendgroup": "GEORGES POTIÉ",
         "lon": {
          "bdata": "ZapgVFIHCEA=",
          "dtype": "f8"
         },
         "marker": {
          "color": "#FECB52",
          "size": 15
         },
         "mode": "markers",
         "name": "GEORGES POTIÉ",
         "showlegend": true,
         "subplot": "map",
         "type": "scattermap"
        },
        {
         "customdata": {
          "bdata": "CQ8=",
          "dtype": "i1",
          "shape": "1, 2"
         },
         "hovertemplate": "properties.nom=MAIRIE DE CROIX<br>properties.y=%{lat}<br>properties.x=%{lon}<br>properties.nb_places_dispo=%{customdata[0]}<br>properties.nb_velos_dispo=%{customdata[1]}<extra></extra>",
         "lat": {
          "bdata": "D3uhgO1WSUA=",
          "dtype": "f8"
         },
         "legendgroup": "MAIRIE DE CROIX",
         "lon": {
          "bdata": "XAAapUs/CUA=",
          "dtype": "f8"
         },
         "marker": {
          "color": "#636efa",
          "size": 15
         },
         "mode": "markers",
         "name": "MAIRIE DE CROIX",
         "showlegend": true,
         "subplot": "map",
         "type": "scattermap"
        },
        {
         "customdata": {
          "bdata": "HgA=",
          "dtype": "i1",
          "shape": "1, 2"
         },
         "hovertemplate": "properties.nom=EDHEC<br>properties.y=%{lat}<br>properties.x=%{lon}<br>properties.nb_places_dispo=%{customdata[0]}<br>properties.nb_velos_dispo=%{customdata[1]}<extra></extra>",
         "lat": {
          "bdata": "iCzSxDtWSUA=",
          "dtype": "f8"
         },
         "legendgroup": "EDHEC",
         "lon": {
          "bdata": "MGXggJZOCUA=",
          "dtype": "f8"
         },
         "marker": {
          "color": "#EF553B",
          "size": 15
         },
         "mode": "markers",
         "name": "EDHEC",
         "showlegend": true,
         "subplot": "map",
         "type": "scattermap"
        },
        {
         "customdata": {
          "bdata": "FwE=",
          "dtype": "i1",
          "shape": "1, 2"
         },
         "hovertemplate": "properties.nom=PARC BARBIEUX<br>properties.y=%{lat}<br>properties.x=%{lon}<br>properties.nb_places_dispo=%{customdata[0]}<br>properties.nb_velos_dispo=%{customdata[1]}<extra></extra>",
         "lat": {
          "bdata": "/rj98slWSUA=",
          "dtype": "f8"
         },
         "legendgroup": "PARC BARBIEUX",
         "lon": {
          "bdata": "YYvdPqtMCUA=",
          "dtype": "f8"
         },
         "marker": {
          "color": "#00cc96",
          "size": 15
         },
         "mode": "markers",
         "name": "PARC BARBIEUX",
         "showlegend": true,
         "subplot": "map",
         "type": "scattermap"
        },
        {
         "customdata": {
          "bdata": "EAA=",
          "dtype": "i1",
          "shape": "1, 2"
         },
         "hovertemplate": "properties.nom=VICTOR PROVO<br>properties.y=%{lat}<br>properties.x=%{lon}<br>properties.nb_places_dispo=%{customdata[0]}<br>properties.nb_velos_dispo=%{customdata[1]}<extra></extra>",
         "lat": {
          "bdata": "0LhwICRXSUA=",
          "dtype": "f8"
         },
         "legendgroup": "VICTOR PROVO",
         "lon": {
          "bdata": "0qxsH/JWCUA=",
          "dtype": "f8"
         },
         "marker": {
          "color": "#ab63fa",
          "size": 15
         },
         "mode": "markers",
         "name": "VICTOR PROVO",
         "showlegend": true,
         "subplot": "map",
         "type": "scattermap"
        },
        {
         "customdata": {
          "bdata": "CwQ=",
          "dtype": "i1",
          "shape": "1, 2"
         },
         "hovertemplate": "properties.nom=JEAN MOULIN<br>properties.y=%{lat}<br>properties.x=%{lon}<br>properties.nb_places_dispo=%{customdata[0]}<br>properties.nb_velos_dispo=%{customdata[1]}<extra></extra>",
         "lat": {
          "bdata": "gVoMHqZXSUA=",
          "dtype": "f8"
         },
         "legendgroup": "JEAN MOULIN",
         "lon": {
          "bdata": "MxmO5zNgCUA=",
          "dtype": "f8"
         },
         "marker": {
          "color": "#FFA15A",
          "size": 15
         },
         "mode": "markers",
         "name": "JEAN MOULIN",
         "showlegend": true,
         "subplot": "map",
         "type": "scattermap"
        },
        {
         "customdata": {
          "bdata": "Bws=",
          "dtype": "i1",
          "shape": "1, 2"
         },
         "hovertemplate": "properties.nom=CONDITION PUBLIQUE<br>properties.y=%{lat}<br>properties.x=%{lon}<br>properties.nb_places_dispo=%{customdata[0]}<br>properties.nb_velos_dispo=%{customdata[1]}<extra></extra>",
         "lat": {
          "bdata": "TifZ6nJYSUA=",
          "dtype": "f8"
         },
         "legendgroup": "CONDITION PUBLIQUE",
         "lon": {
          "bdata": "KbFre7uFCUA=",
          "dtype": "f8"
         },
         "marker": {
          "color": "#19d3f3",
          "size": 15
         },
         "mode": "markers",
         "name": "CONDITION PUBLIQUE",
         "showlegend": true,
         "subplot": "map",
         "type": "scattermap"
        },
        {
         "customdata": {
          "bdata": "BQs=",
          "dtype": "i1",
          "shape": "1, 2"
         },
         "hovertemplate": "properties.nom=ALFRED MONGY<br>properties.y=%{lat}<br>properties.x=%{lon}<br>properties.nb_places_dispo=%{customdata[0]}<br>properties.nb_velos_dispo=%{customdata[1]}<extra></extra>",
         "lat": {
          "bdata": "JxQi4BBYSUA=",
          "dtype": "f8"
         },
         "legendgroup": "ALFRED MONGY",
         "lon": {
          "bdata": "S80eaAVmCUA=",
          "dtype": "f8"
         },
         "marker": {
          "color": "#FF6692",
          "size": 15
         },
         "mode": "markers",
         "name": "ALFRED MONGY",
         "showlegend": true,
         "subplot": "map",
         "type": "scattermap"
        },
        {
         "customdata": {
          "bdata": "CBY=",
          "dtype": "i1",
          "shape": "1, 2"
         },
         "hovertemplate": "properties.nom=EUROTELEPORT<br>properties.y=%{lat}<br>properties.x=%{lon}<br>properties.nb_places_dispo=%{customdata[0]}<br>properties.nb_velos_dispo=%{customdata[1]}<extra></extra>",
         "lat": {
          "bdata": "fvylRX1YSUA=",
          "dtype": "f8"
         },
         "legendgroup": "EUROTELEPORT",
         "lon": {
          "bdata": "qkNuhhtwCUA=",
          "dtype": "f8"
         },
         "marker": {
          "color": "#B6E880",
          "size": 15
         },
         "mode": "markers",
         "name": "EUROTELEPORT",
         "showlegend": true,
         "subplot": "map",
         "type": "scattermap"
        },
        {
         "customdata": {
          "bdata": "BwU=",
          "dtype": "i1",
          "shape": "1, 2"
         },
         "hovertemplate": "properties.nom=DE FOURMIES<br>properties.y=%{lat}<br>properties.x=%{lon}<br>properties.nb_places_dispo=%{customdata[0]}<br>properties.nb_velos_dispo=%{customdata[1]}<extra></extra>",
         "lat": {
          "bdata": "gzRj0XRWSUA=",
          "dtype": "f8"
         },
         "legendgroup": "DE FOURMIES",
         "lon": {
          "bdata": "0H8PXrt0CUA=",
          "dtype": "f8"
         },
         "marker": {
          "color": "#FF97FF",
          "size": 15
         },
         "mode": "markers",
         "name": "DE FOURMIES",
         "showlegend": true,
         "subplot": "map",
         "type": "scattermap"
        },
        {
         "customdata": {
          "bdata": "DQc=",
          "dtype": "i1",
          "shape": "1, 2"
         },
         "hovertemplate": "properties.nom=USINE<br>properties.y=%{lat}<br>properties.x=%{lon}<br>properties.nb_places_dispo=%{customdata[0]}<br>properties.nb_velos_dispo=%{customdata[1]}<extra></extra>",
         "lat": {
          "bdata": "Vft0PGZWSUA=",
          "dtype": "f8"
         },
         "legendgroup": "USINE",
         "lon": {
          "bdata": "7e9sj96QCUA=",
          "dtype": "f8"
         },
         "marker": {
          "color": "#FECB52",
          "size": 15
         },
         "mode": "markers",
         "name": "USINE",
         "showlegend": true,
         "subplot": "map",
         "type": "scattermap"
        },
        {
         "customdata": {
          "bdata": "AQU=",
          "dtype": "i1",
          "shape": "1, 2"
         },
         "hovertemplate": "properties.nom=LINNE<br>properties.y=%{lat}<br>properties.x=%{lon}<br>properties.nb_places_dispo=%{customdata[0]}<br>properties.nb_velos_dispo=%{customdata[1]}<extra></extra>",
         "lat": {
          "bdata": "xJeJIqRWSUA=",
          "dtype": "f8"
         },
         "legendgroup": "LINNE",
         "lon": {
          "bdata": "ChAFM6aACUA=",
          "dtype": "f8"
         },
         "marker": {
          "color": "#636efa",
          "size": 15
         },
         "mode": "markers",
         "name": "LINNE",
         "showlegend": true,
         "subplot": "map",
         "type": "scattermap"
        },
        {
         "customdata": {
          "bdata": "DAY=",
          "dtype": "i1",
          "shape": "1, 2"
         },
         "hovertemplate": "properties.nom=GUSTAVE DELORY<br>properties.y=%{lat}<br>properties.x=%{lon}<br>properties.nb_places_dispo=%{customdata[0]}<br>properties.nb_velos_dispo=%{customdata[1]}<extra></extra>",
         "lat": {
          "bdata": "/RGGAUtWSUA=",
          "dtype": "f8"
         },
         "legendgroup": "GUSTAVE DELORY",
         "lon": {
          "bdata": "uD6sN2plCUA=",
          "dtype": "f8"
         },
         "marker": {
          "color": "#EF553B",
          "size": 15
         },
         "mode": "markers",
         "name": "GUSTAVE DELORY",
         "showlegend": true,
         "subplot": "map",
         "type": "scattermap"
        },
        {
         "customdata": {
          "bdata": "BgQ=",
          "dtype": "i1",
          "shape": "1, 2"
         },
         "hovertemplate": "properties.nom=DANIELLE LESAFFRE<br>properties.y=%{lat}<br>properties.x=%{lon}<br>properties.nb_places_dispo=%{customdata[0]}<br>properties.nb_velos_dispo=%{customdata[1]}<extra></extra>",
         "lat": {
          "bdata": "wZFAg01XSUA=",
          "dtype": "f8"
         },
         "legendgroup": "DANIELLE LESAFFRE",
         "lon": {
          "bdata": "aVch5Sd1CUA=",
          "dtype": "f8"
         },
         "marker": {
          "color": "#00cc96",
          "size": 15
         },
         "mode": "markers",
         "name": "DANIELLE LESAFFRE",
         "showlegend": true,
         "subplot": "map",
         "type": "scattermap"
        },
        {
         "customdata": {
          "bdata": "Cgg=",
          "dtype": "i1",
          "shape": "1, 2"
         },
         "hovertemplate": "properties.nom=LANNOY<br>properties.y=%{lat}<br>properties.x=%{lon}<br>properties.nb_places_dispo=%{customdata[0]}<br>properties.nb_velos_dispo=%{customdata[1]}<extra></extra>",
         "lat": {
          "bdata": "Iy2VtyNYSUA=",
          "dtype": "f8"
         },
         "legendgroup": "LANNOY",
         "lon": {
          "bdata": "eqaXGMt0CUA=",
          "dtype": "f8"
         },
         "marker": {
          "color": "#ab63fa",
          "size": 15
         },
         "mode": "markers",
         "name": "LANNOY",
         "showlegend": true,
         "subplot": "map",
         "type": "scattermap"
        },
        {
         "customdata": {
          "bdata": "Awk=",
          "dtype": "i1",
          "shape": "1, 2"
         },
         "hovertemplate": "properties.nom=SAINT JEAN-BAPTISTE<br>properties.y=%{lat}<br>properties.x=%{lon}<br>properties.nb_places_dispo=%{customdata[0]}<br>properties.nb_velos_dispo=%{customdata[1]}<extra></extra>",
         "lat": {
          "bdata": "G0ZB8PhWSUA=",
          "dtype": "f8"
         },
         "legendgroup": "SAINT JEAN-BAPTISTE",
         "lon": {
          "bdata": "ob/QI0ZvCUA=",
          "dtype": "f8"
         },
         "marker": {
          "color": "#FFA15A",
          "size": 15
         },
         "mode": "markers",
         "name": "SAINT JEAN-BAPTISTE",
         "showlegend": true,
         "subplot": "map",
         "type": "scattermap"
        },
        {
         "customdata": {
          "bdata": "Aw0=",
          "dtype": "i1",
          "shape": "1, 2"
         },
         "hovertemplate": "properties.nom=FRATERNITE<br>properties.y=%{lat}<br>properties.x=%{lon}<br>properties.nb_places_dispo=%{customdata[0]}<br>properties.nb_velos_dispo=%{customdata[1]}<extra></extra>",
         "lat": {
          "bdata": "vwzGiERXSUA=",
          "dtype": "f8"
         },
         "legendgroup": "FRATERNITE",
         "lon": {
          "bdata": "OKRRgZONCUA=",
          "dtype": "f8"
         },
         "marker": {
          "color": "#19d3f3",
          "size": 15
         },
         "mode": "markers",
         "name": "FRATERNITE",
         "showlegend": true,
         "subplot": "map",
         "type": "scattermap"
        },
        {
         "customdata": {
          "bdata": "EAA=",
          "dtype": "i1",
          "shape": "1, 2"
         },
         "hovertemplate": "properties.nom=HOPITAL VICTOR PROVO<br>properties.y=%{lat}<br>properties.x=%{lon}<br>properties.nb_places_dispo=%{customdata[0]}<br>properties.nb_velos_dispo=%{customdata[1]}<extra></extra>",
         "lat": {
          "bdata": "pg9dUN9WSUA=",
          "dtype": "f8"
         },
         "legendgroup": "HOPITAL VICTOR PROVO",
         "lon": {
          "bdata": "K061FmZhCUA=",
          "dtype": "f8"
         },
         "marker": {
          "color": "#FF6692",
          "size": 15
         },
         "mode": "markers",
         "name": "HOPITAL VICTOR PROVO",
         "showlegend": true,
         "subplot": "map",
         "type": "scattermap"
        },
        {
         "customdata": {
          "bdata": "EAE=",
          "dtype": "i1",
          "shape": "1, 2"
         },
         "hovertemplate": "properties.nom=GARE JEAN LEBAS<br>properties.y=%{lat}<br>properties.x=%{lon}<br>properties.nb_places_dispo=%{customdata[0]}<br>properties.nb_velos_dispo=%{customdata[1]}<extra></extra>",
         "lat": {
          "bdata": "YadYNQhZSUA=",
          "dtype": "f8"
         },
         "legendgroup": "GARE JEAN LEBAS",
         "lon": {
          "bdata": "fQkVHF5QCUA=",
          "dtype": "f8"
         },
         "marker": {
          "color": "#B6E880",
          "size": 15
         },
         "mode": "markers",
         "name": "GARE JEAN LEBAS",
         "showlegend": true,
         "subplot": "map",
         "type": "scattermap"
        },
        {
         "customdata": {
          "bdata": "DAI=",
          "dtype": "i1",
          "shape": "1, 2"
         },
         "hovertemplate": "properties.nom=MUSEE ART ET INDUSTRIE<br>properties.y=%{lat}<br>properties.x=%{lon}<br>properties.nb_places_dispo=%{customdata[0]}<br>properties.nb_velos_dispo=%{customdata[1]}<extra></extra>",
         "lat": {
          "bdata": "c4HLY81YSUA=",
          "dtype": "f8"
         },
         "legendgroup": "MUSEE ART ET INDUSTRIE",
         "lon": {
          "bdata": "hzWVRWFXCUA=",
          "dtype": "f8"
         },
         "marker": {
          "color": "#FF97FF",
          "size": 15
         },
         "mode": "markers",
         "name": "MUSEE ART ET INDUSTRIE",
         "showlegend": true,
         "subplot": "map",
         "type": "scattermap"
        },
        {
         "customdata": {
          "bdata": "Ews=",
          "dtype": "i1",
          "shape": "1, 2"
         },
         "hovertemplate": "properties.nom=ROUBAIX MAIRIE<br>properties.y=%{lat}<br>properties.x=%{lon}<br>properties.nb_places_dispo=%{customdata[0]}<br>properties.nb_velos_dispo=%{customdata[1]}<extra></extra>",
         "lat": {
          "bdata": "RgiPNo5YSUA=",
          "dtype": "f8"
         },
         "legendgroup": "ROUBAIX MAIRIE",
         "lon": {
          "bdata": "h6dXyjJkCUA=",
          "dtype": "f8"
         },
         "marker": {
          "color": "#FECB52",
          "size": 15
         },
         "mode": "markers",
         "name": "ROUBAIX MAIRIE",
         "showlegend": true,
         "subplot": "map",
         "type": "scattermap"
        },
        {
         "customdata": {
          "bdata": "BAg=",
          "dtype": "i1",
          "shape": "1, 2"
         },
         "hovertemplate": "properties.nom=PLACE TRICHON<br>properties.y=%{lat}<br>properties.x=%{lon}<br>properties.nb_places_dispo=%{customdata[0]}<br>properties.nb_velos_dispo=%{customdata[1]}<extra></extra>",
         "lat": {
          "bdata": "HmM46FxYSUA=",
          "dtype": "f8"
         },
         "legendgroup": "PLACE TRICHON",
         "lon": {
          "bdata": "0jqqmiBaCUA=",
          "dtype": "f8"
         },
         "marker": {
          "color": "#636efa",
          "size": 15
         },
         "mode": "markers",
         "name": "PLACE TRICHON",
         "showlegend": true,
         "subplot": "map",
         "type": "scattermap"
        },
        {
         "customdata": {
          "bdata": "Agw=",
          "dtype": "i1",
          "shape": "1, 2"
         },
         "hovertemplate": "properties.nom=CENTRE NAUTIQUE<br>properties.y=%{lat}<br>properties.x=%{lon}<br>properties.nb_places_dispo=%{customdata[0]}<br>properties.nb_velos_dispo=%{customdata[1]}<extra></extra>",
         "lat": {
          "bdata": "DCHn/X9YSUA=",
          "dtype": "f8"
         },
         "legendgroup": "CENTRE NAUTIQUE",
         "lon": {
          "bdata": "VW03wTdNCUA=",
          "dtype": "f8"
         },
         "marker": {
          "color": "#EF553B",
          "size": 15
         },
         "mode": "markers",
         "name": "CENTRE NAUTIQUE",
         "showlegend": true,
         "subplot": "map",
         "type": "scattermap"
        },
        {
         "customdata": {
          "bdata": "Bwk=",
          "dtype": "i1",
          "shape": "1, 2"
         },
         "hovertemplate": "properties.nom=EPEULE MONTESQUIEU<br>properties.y=%{lat}<br>properties.x=%{lon}<br>properties.nb_places_dispo=%{customdata[0]}<br>properties.nb_velos_dispo=%{customdata[1]}<extra></extra>",
         "lat": {
          "bdata": "0PHR4oxXSUA=",
          "dtype": "f8"
         },
         "legendgroup": "EPEULE MONTESQUIEU",
         "lon": {
          "bdata": "5ldzgGBOCUA=",
          "dtype": "f8"
         },
         "marker": {
          "color": "#00cc96",
          "size": 15
         },
         "mode": "markers",
         "name": "EPEULE MONTESQUIEU",
         "showlegend": true,
         "subplot": "map",
         "type": "scattermap"
        },
        {
         "customdata": {
          "bdata": "DQM=",
          "dtype": "i1",
          "shape": "1, 2"
         },
         "hovertemplate": "properties.nom=CHARLES DE GAULLE<br>properties.y=%{lat}<br>properties.x=%{lon}<br>properties.nb_places_dispo=%{customdata[0]}<br>properties.nb_velos_dispo=%{customdata[1]}<extra></extra>",
         "lat": {
          "bdata": "ayv2l91XSUA=",
          "dtype": "f8"
         },
         "legendgroup": "CHARLES DE GAULLE",
         "lon": {
          "bdata": "fv0QGyxcCUA=",
          "dtype": "f8"
         },
         "marker": {
          "color": "#ab63fa",
          "size": 15
         },
         "mode": "markers",
         "name": "CHARLES DE GAULLE",
         "showlegend": true,
         "subplot": "map",
         "type": "scattermap"
        },
        {
         "customdata": {
          "bdata": "BQM=",
          "dtype": "i1",
          "shape": "1, 2"
         },
         "hovertemplate": "properties.nom=BVRD ARMENTIERES<br>properties.y=%{lat}<br>properties.x=%{lon}<br>properties.nb_places_dispo=%{customdata[0]}<br>properties.nb_velos_dispo=%{customdata[1]}<extra></extra>",
         "lat": {
          "bdata": "kdJsHodZSUA=",
          "dtype": "f8"
         },
         "legendgroup": "BVRD ARMENTIERES",
         "lon": {
          "bdata": "r1sExvpGCUA=",
          "dtype": "f8"
         },
         "marker": {
          "color": "#FFA15A",
          "size": 15
         },
         "mode": "markers",
         "name": "BVRD ARMENTIERES",
         "showlegend": true,
         "subplot": "map",
         "type": "scattermap"
        },
        {
         "customdata": {
          "bdata": "Cgg=",
          "dtype": "i1",
          "shape": "1, 2"
         },
         "hovertemplate": "properties.nom=NATIONS UNIES<br>properties.y=%{lat}<br>properties.x=%{lon}<br>properties.nb_places_dispo=%{customdata[0]}<br>properties.nb_velos_dispo=%{customdata[1]}<extra></extra>",
         "lat": {
          "bdata": "Ama+g59YSUA=",
          "dtype": "f8"
         },
         "legendgroup": "NATIONS UNIES",
         "lon": {
          "bdata": "hgK2gxF7CUA=",
          "dtype": "f8"
         },
         "marker": {
          "color": "#19d3f3",
          "size": 15
         },
         "mode": "markers",
         "name": "NATIONS UNIES",
         "showlegend": true,
         "subplot": "map",
         "type": "scattermap"
        },
        {
         "customdata": {
          "bdata": "BQY=",
          "dtype": "i1",
          "shape": "1, 2"
         },
         "hovertemplate": "properties.nom=DE LA VIGNE<br>properties.y=%{lat}<br>properties.x=%{lon}<br>properties.nb_places_dispo=%{customdata[0]}<br>properties.nb_velos_dispo=%{customdata[1]}<extra></extra>",
         "lat": {
          "bdata": "KCzxgLJZSUA=",
          "dtype": "f8"
         },
         "legendgroup": "DE LA VIGNE",
         "lon": {
          "bdata": "1GUxsfl4CUA=",
          "dtype": "f8"
         },
         "marker": {
          "color": "#FF6692",
          "size": 15
         },
         "mode": "markers",
         "name": "DE LA VIGNE",
         "showlegend": true,
         "subplot": "map",
         "type": "scattermap"
        },
        {
         "customdata": {
          "bdata": "CAY=",
          "dtype": "i1",
          "shape": "1, 2"
         },
         "hovertemplate": "properties.nom=FOSSE AUX CHENES<br>properties.y=%{lat}<br>properties.x=%{lon}<br>properties.nb_places_dispo=%{customdata[0]}<br>properties.nb_velos_dispo=%{customdata[1]}<extra></extra>",
         "lat": {
          "bdata": "G/M64pBZSUA=",
          "dtype": "f8"
         },
         "legendgroup": "FOSSE AUX CHENES",
         "lon": {
          "bdata": "5j45ChBlCUA=",
          "dtype": "f8"
         },
         "marker": {
          "color": "#B6E880",
          "size": 15
         },
         "mode": "markers",
         "name": "FOSSE AUX CHENES",
         "showlegend": true,
         "subplot": "map",
         "type": "scattermap"
        },
        {
         "customdata": {
          "bdata": "DgI=",
          "dtype": "i1",
          "shape": "1, 2"
         },
         "hovertemplate": "properties.nom=ALSACE<br>properties.y=%{lat}<br>properties.x=%{lon}<br>properties.nb_places_dispo=%{customdata[0]}<br>properties.nb_velos_dispo=%{customdata[1]}<extra></extra>",
         "lat": {
          "bdata": "KA8LtaZZSUA=",
          "dtype": "f8"
         },
         "legendgroup": "ALSACE",
         "lon": {
          "bdata": "4lmCjIBKCUA=",
          "dtype": "f8"
         },
         "marker": {
          "color": "#FF97FF",
          "size": 15
         },
         "mode": "markers",
         "name": "ALSACE",
         "showlegend": true,
         "subplot": "map",
         "type": "scattermap"
        },
        {
         "customdata": {
          "bdata": "BAg=",
          "dtype": "i1",
          "shape": "1, 2"
         },
         "hovertemplate": "properties.nom=CHAPTAL<br>properties.y=%{lat}<br>properties.x=%{lon}<br>properties.nb_places_dispo=%{customdata[0]}<br>properties.nb_velos_dispo=%{customdata[1]}<extra></extra>",
         "lat": {
          "bdata": "YwlrY+xYSUA=",
          "dtype": "f8"
         },
         "legendgroup": "CHAPTAL",
         "lon": {
          "bdata": "N23GaYiKCUA=",
          "dtype": "f8"
         },
         "marker": {
          "color": "#FECB52",
          "size": 15
         },
         "mode": "markers",
         "name": "CHAPTAL",
         "showlegend": true,
         "subplot": "map",
         "type": "scattermap"
        },
        {
         "customdata": {
          "bdata": "AwM=",
          "dtype": "i1",
          "shape": "1, 2"
         },
         "hovertemplate": "properties.nom=RUE DES ANGES<br>properties.y=%{lat}<br>properties.x=%{lon}<br>properties.nb_places_dispo=%{customdata[0]}<br>properties.nb_velos_dispo=%{customdata[1]}<extra></extra>",
         "lat": {
          "bdata": "Bkg0gSJcSUA=",
          "dtype": "f8"
         },
         "legendgroup": "RUE DES ANGES",
         "lon": {
          "bdata": "9PkoIy5ACUA=",
          "dtype": "f8"
         },
         "marker": {
          "color": "#636efa",
          "size": 15
         },
         "mode": "markers",
         "name": "RUE DES ANGES",
         "showlegend": true,
         "subplot": "map",
         "type": "scattermap"
        },
        {
         "customdata": {
          "bdata": "BAU=",
          "dtype": "i1",
          "shape": "1, 2"
         },
         "hovertemplate": "properties.nom=THEATRE TOURCOING<br>properties.y=%{lat}<br>properties.x=%{lon}<br>properties.nb_places_dispo=%{customdata[0]}<br>properties.nb_velos_dispo=%{customdata[1]}<extra></extra>",
         "lat": {
          "bdata": "VtgMcEFcSUA=",
          "dtype": "f8"
         },
         "legendgroup": "THEATRE TOURCOING",
         "lon": {
          "bdata": "GAgCZOg4CUA=",
          "dtype": "f8"
         },
         "marker": {
          "color": "#EF553B",
          "size": 15
         },
         "mode": "markers",
         "name": "THEATRE TOURCOING",
         "showlegend": true,
         "subplot": "map",
         "type": "scattermap"
        },
        {
         "customdata": {
          "bdata": "AA4=",
          "dtype": "i1",
          "shape": "1, 2"
         },
         "hovertemplate": "properties.nom=BVRD DE L EGALITE<br>properties.y=%{lat}<br>properties.x=%{lon}<br>properties.nb_places_dispo=%{customdata[0]}<br>properties.nb_velos_dispo=%{customdata[1]}<extra></extra>",
         "lat": {
          "bdata": "dNAlHHpdSUA=",
          "dtype": "f8"
         },
         "legendgroup": "BVRD DE L EGALITE",
         "lon": {
          "bdata": "y0v+J39XCUA=",
          "dtype": "f8"
         },
         "marker": {
          "color": "#00cc96",
          "size": 15
         },
         "mode": "markers",
         "name": "BVRD DE L EGALITE",
         "showlegend": true,
         "subplot": "map",
         "type": "scattermap"
        },
        {
         "customdata": {
          "bdata": "AwM=",
          "dtype": "i1",
          "shape": "1, 2"
         },
         "hovertemplate": "properties.nom=POSTE<br>properties.y=%{lat}<br>properties.x=%{lon}<br>properties.nb_places_dispo=%{customdata[0]}<br>properties.nb_velos_dispo=%{customdata[1]}<extra></extra>",
         "lat": {
          "bdata": "h1ClZg9cSUA=",
          "dtype": "f8"
         },
         "legendgroup": "POSTE",
         "lon": {
          "bdata": "s2Dij6JOCUA=",
          "dtype": "f8"
         },
         "marker": {
          "color": "#ab63fa",
          "size": 15
         },
         "mode": "markers",
         "name": "POSTE",
         "showlegend": true,
         "subplot": "map",
         "type": "scattermap"
        },
        {
         "customdata": {
          "bdata": "DgQ=",
          "dtype": "i1",
          "shape": "1, 2"
         },
         "hovertemplate": "properties.nom=LE CORBUSIER<br>properties.y=%{lat}<br>properties.x=%{lon}<br>properties.nb_places_dispo=%{customdata[0]}<br>properties.nb_velos_dispo=%{customdata[1]}<extra></extra>",
         "lat": {
          "bdata": "Tb9EvHVcSUA=",
          "dtype": "f8"
         },
         "legendgroup": "LE CORBUSIER",
         "lon": {
          "bdata": "LPUsCOVdCUA=",
          "dtype": "f8"
         },
         "marker": {
          "color": "#FFA15A",
          "size": 15
         },
         "mode": "markers",
         "name": "LE CORBUSIER",
         "showlegend": true,
         "subplot": "map",
         "type": "scattermap"
        },
        {
         "customdata": {
          "bdata": "EAI=",
          "dtype": "i1",
          "shape": "1, 2"
         },
         "hovertemplate": "properties.nom=TOURCOING GARE<br>properties.y=%{lat}<br>properties.x=%{lon}<br>properties.nb_places_dispo=%{customdata[0]}<br>properties.nb_velos_dispo=%{customdata[1]}<extra></extra>",
         "lat": {
          "bdata": "AaPLm8NbSUA=",
          "dtype": "f8"
         },
         "legendgroup": "TOURCOING GARE",
         "lon": {
          "bdata": "a2KBr+hWCUA=",
          "dtype": "f8"
         },
         "marker": {
          "color": "#19d3f3",
          "size": 15
         },
         "mode": "markers",
         "name": "TOURCOING GARE",
         "showlegend": true,
         "subplot": "map",
         "type": "scattermap"
        },
        {
         "customdata": {
          "bdata": "CQM=",
          "dtype": "i1",
          "shape": "1, 2"
         },
         "hovertemplate": "properties.nom=VICTOIRE<br>properties.y=%{lat}<br>properties.x=%{lon}<br>properties.nb_places_dispo=%{customdata[0]}<br>properties.nb_velos_dispo=%{customdata[1]}<extra></extra>",
         "lat": {
          "bdata": "nu3RG+5bSUA=",
          "dtype": "f8"
         },
         "legendgroup": "VICTOIRE",
         "lon": {
          "bdata": "ipP7HYpCCUA=",
          "dtype": "f8"
         },
         "marker": {
          "color": "#FF6692",
          "size": 15
         },
         "mode": "markers",
         "name": "VICTOIRE",
         "showlegend": true,
         "subplot": "map",
         "type": "scattermap"
        },
        {
         "customdata": {
          "bdata": "BwU=",
          "dtype": "i1",
          "shape": "1, 2"
         },
         "hovertemplate": "properties.nom=F ROOSEVELT<br>properties.y=%{lat}<br>properties.x=%{lon}<br>properties.nb_places_dispo=%{customdata[0]}<br>properties.nb_velos_dispo=%{customdata[1]}<extra></extra>",
         "lat": {
          "bdata": "RDAOLh1dSUA=",
          "dtype": "f8"
         },
         "legendgroup": "F ROOSEVELT",
         "lon": {
          "bdata": "63Qg66lVCUA=",
          "dtype": "f8"
         },
         "marker": {
          "color": "#B6E880",
          "size": 15
         },
         "mode": "markers",
         "name": "F ROOSEVELT",
         "showlegend": true,
         "subplot": "map",
         "type": "scattermap"
        },
        {
         "customdata": {
          "bdata": "BQM=",
          "dtype": "i1",
          "shape": "1, 2"
         },
         "hovertemplate": "properties.nom=JARDIN BOTANIQUE<br>properties.y=%{lat}<br>properties.x=%{lon}<br>properties.nb_places_dispo=%{customdata[0]}<br>properties.nb_velos_dispo=%{customdata[1]}<extra></extra>",
         "lat": {
          "bdata": "yCb5Eb9cSUA=",
          "dtype": "f8"
         },
         "legendgroup": "JARDIN BOTANIQUE",
         "lon": {
          "bdata": "PStpxTdUCUA=",
          "dtype": "f8"
         },
         "marker": {
          "color": "#FF97FF",
          "size": 15
         },
         "mode": "markers",
         "name": "JARDIN BOTANIQUE",
         "showlegend": true,
         "subplot": "map",
         "type": "scattermap"
        },
        {
         "customdata": {
          "bdata": "BAI=",
          "dtype": "i1",
          "shape": "1, 2"
         },
         "hovertemplate": "properties.nom=CAVELL<br>properties.y=%{lat}<br>properties.x=%{lon}<br>properties.nb_places_dispo=%{customdata[0]}<br>properties.nb_velos_dispo=%{customdata[1]}<extra></extra>",
         "lat": {
          "bdata": "/z7jwoFcSUA=",
          "dtype": "f8"
         },
         "legendgroup": "CAVELL",
         "lon": {
          "bdata": "ij+KOnNPCUA=",
          "dtype": "f8"
         },
         "marker": {
          "color": "#FECB52",
          "size": 15
         },
         "mode": "markers",
         "name": "CAVELL",
         "showlegend": true,
         "subplot": "map",
         "type": "scattermap"
        },
        {
         "customdata": {
          "bdata": "BQo=",
          "dtype": "i1",
          "shape": "1, 2"
         },
         "hovertemplate": "properties.nom=ROUGET DE L ISLE<br>properties.y=%{lat}<br>properties.x=%{lon}<br>properties.nb_places_dispo=%{customdata[0]}<br>properties.nb_velos_dispo=%{customdata[1]}<extra></extra>",
         "lat": {
          "bdata": "S7A4nPldSUA=",
          "dtype": "f8"
         },
         "legendgroup": "ROUGET DE L ISLE",
         "lon": {
          "bdata": "+bdwxWpYCUA=",
          "dtype": "f8"
         },
         "marker": {
          "color": "#636efa",
          "size": 15
         },
         "mode": "markers",
         "name": "ROUGET DE L ISLE",
         "showlegend": true,
         "subplot": "map",
         "type": "scattermap"
        },
        {
         "customdata": {
          "bdata": "AQU=",
          "dtype": "i1",
          "shape": "1, 2"
         },
         "hovertemplate": "properties.nom=RUE SAINT BLAISE<br>properties.y=%{lat}<br>properties.x=%{lon}<br>properties.nb_places_dispo=%{customdata[0]}<br>properties.nb_velos_dispo=%{customdata[1]}<extra></extra>",
         "lat": {
          "bdata": "8rG7QEldSUA=",
          "dtype": "f8"
         },
         "legendgroup": "RUE SAINT BLAISE",
         "lon": {
          "bdata": "aK7TSEtFCUA=",
          "dtype": "f8"
         },
         "marker": {
          "color": "#EF553B",
          "size": 15
         },
         "mode": "markers",
         "name": "RUE SAINT BLAISE",
         "showlegend": true,
         "subplot": "map",
         "type": "scattermap"
        },
        {
         "customdata": {
          "bdata": "BwU=",
          "dtype": "i1",
          "shape": "1, 2"
         },
         "hovertemplate": "properties.nom=RUE DE MENIN<br>properties.y=%{lat}<br>properties.x=%{lon}<br>properties.nb_places_dispo=%{customdata[0]}<br>properties.nb_velos_dispo=%{customdata[1]}<extra></extra>",
         "lat": {
          "bdata": "8rG7QEldSUA=",
          "dtype": "f8"
         },
         "legendgroup": "RUE DE MENIN",
         "lon": {
          "bdata": "KlQ3F387CUA=",
          "dtype": "f8"
         },
         "marker": {
          "color": "#00cc96",
          "size": 15
         },
         "mode": "markers",
         "name": "RUE DE MENIN",
         "showlegend": true,
         "subplot": "map",
         "type": "scattermap"
        },
        {
         "customdata": {
          "bdata": "EQU=",
          "dtype": "i1",
          "shape": "1, 2"
         },
         "hovertemplate": "properties.nom=TOURCOING MAIRIE<br>properties.y=%{lat}<br>properties.x=%{lon}<br>properties.nb_places_dispo=%{customdata[0]}<br>properties.nb_velos_dispo=%{customdata[1]}<extra></extra>",
         "lat": {
          "bdata": "YvNxbahcSUA=",
          "dtype": "f8"
         },
         "legendgroup": "TOURCOING MAIRIE",
         "lon": {
          "bdata": "6+Bgb2JICUA=",
          "dtype": "f8"
         },
         "marker": {
          "color": "#ab63fa",
          "size": 15
         },
         "mode": "markers",
         "name": "TOURCOING MAIRIE",
         "showlegend": true,
         "subplot": "map",
         "type": "scattermap"
        },
        {
         "customdata": {
          "bdata": "DQU=",
          "dtype": "i1",
          "shape": "1, 2"
         },
         "hovertemplate": "properties.nom=COLBERT<br>properties.y=%{lat}<br>properties.x=%{lon}<br>properties.nb_places_dispo=%{customdata[0]}<br>properties.nb_velos_dispo=%{customdata[1]}<extra></extra>",
         "lat": {
          "bdata": "4nX9gt1cSUA=",
          "dtype": "f8"
         },
         "legendgroup": "COLBERT",
         "lon": {
          "bdata": "wHYwYp9ACUA=",
          "dtype": "f8"
         },
         "marker": {
          "color": "#FFA15A",
          "size": 15
         },
         "mode": "markers",
         "name": "COLBERT",
         "showlegend": true,
         "subplot": "map",
         "type": "scattermap"
        },
        {
         "customdata": {
          "bdata": "CQc=",
          "dtype": "i1",
          "shape": "1, 2"
         },
         "hovertemplate": "properties.nom=RUE DES POUTRAINS<br>properties.y=%{lat}<br>properties.x=%{lon}<br>properties.nb_places_dispo=%{customdata[0]}<br>properties.nb_velos_dispo=%{customdata[1]}<extra></extra>",
         "lat": {
          "bdata": "443MI39cSUA=",
          "dtype": "f8"
         },
         "legendgroup": "RUE DES POUTRAINS",
         "lon": {
          "bdata": "k5BI2/gzCUA=",
          "dtype": "f8"
         },
         "marker": {
          "color": "#19d3f3",
          "size": 15
         },
         "mode": "markers",
         "name": "RUE DES POUTRAINS",
         "showlegend": true,
         "subplot": "map",
         "type": "scattermap"
        },
        {
         "customdata": {
          "bdata": "CAQ=",
          "dtype": "i1",
          "shape": "1, 2"
         },
         "hovertemplate": "properties.nom=AVENUE MILLET<br>properties.y=%{lat}<br>properties.x=%{lon}<br>properties.nb_places_dispo=%{customdata[0]}<br>properties.nb_velos_dispo=%{customdata[1]}<extra></extra>",
         "lat": {
          "bdata": "hiAHJcxcSUA=",
          "dtype": "f8"
         },
         "legendgroup": "AVENUE MILLET",
         "lon": {
          "bdata": "1eqrqwI1CUA=",
          "dtype": "f8"
         },
         "marker": {
          "color": "#FF6692",
          "size": 15
         },
         "mode": "markers",
         "name": "AVENUE MILLET",
         "showlegend": true,
         "subplot": "map",
         "type": "scattermap"
        },
        {
         "customdata": {
          "bdata": "DgQ=",
          "dtype": "i1",
          "shape": "1, 2"
         },
         "hovertemplate": "properties.nom=SEBASTOPOL<br>properties.y=%{lat}<br>properties.x=%{lon}<br>properties.nb_places_dispo=%{customdata[0]}<br>properties.nb_velos_dispo=%{customdata[1]}<extra></extra>",
         "lat": {
          "bdata": "JGJKJNFbSUA=",
          "dtype": "f8"
         },
         "legendgroup": "SEBASTOPOL",
         "lon": {
          "bdata": "zZIANbVMCUA=",
          "dtype": "f8"
         },
         "marker": {
          "color": "#B6E880",
          "size": 15
         },
         "mode": "markers",
         "name": "SEBASTOPOL",
         "showlegend": true,
         "subplot": "map",
         "type": "scattermap"
        },
        {
         "customdata": {
          "bdata": "CgI=",
          "dtype": "i1",
          "shape": "1, 2"
         },
         "hovertemplate": "properties.nom=RUE DE ROUBAIX<br>properties.y=%{lat}<br>properties.x=%{lon}<br>properties.nb_places_dispo=%{customdata[0]}<br>properties.nb_velos_dispo=%{customdata[1]}<extra></extra>",
         "lat": {
          "bdata": "s3vysFBbSUA=",
          "dtype": "f8"
         },
         "legendgroup": "RUE DE ROUBAIX",
         "lon": {
          "bdata": "kNeDSfFRCUA=",
          "dtype": "f8"
         },
         "marker": {
          "color": "#FF97FF",
          "size": 15
         },
         "mode": "markers",
         "name": "RUE DE ROUBAIX",
         "showlegend": true,
         "subplot": "map",
         "type": "scattermap"
        },
        {
         "customdata": {
          "bdata": "BQc=",
          "dtype": "i1",
          "shape": "1, 2"
         },
         "hovertemplate": "properties.nom=PONT DE NEUVILLE<br>properties.y=%{lat}<br>properties.x=%{lon}<br>properties.nb_places_dispo=%{customdata[0]}<br>properties.nb_velos_dispo=%{customdata[1]}<extra></extra>",
         "lat": {
          "bdata": "9YQlHlBeSUA=",
          "dtype": "f8"
         },
         "legendgroup": "PONT DE NEUVILLE",
         "lon": {
          "bdata": "GIvwQK5eCUA=",
          "dtype": "f8"
         },
         "marker": {
          "color": "#FECB52",
          "size": 15
         },
         "mode": "markers",
         "name": "PONT DE NEUVILLE",
         "showlegend": true,
         "subplot": "map",
         "type": "scattermap"
        },
        {
         "customdata": {
          "bdata": "DgI=",
          "dtype": "i1",
          "shape": "1, 2"
         },
         "hovertemplate": "properties.nom=CHARLES WATTINNE<br>properties.y=%{lat}<br>properties.x=%{lon}<br>properties.nb_places_dispo=%{customdata[0]}<br>properties.nb_velos_dispo=%{customdata[1]}<extra></extra>",
         "lat": {
          "bdata": "LLzLRXxbSUA=",
          "dtype": "f8"
         },
         "legendgroup": "CHARLES WATTINNE",
         "lon": {
          "bdata": "2jujrUpCCUA=",
          "dtype": "f8"
         },
         "marker": {
          "color": "#636efa",
          "size": 15
         },
         "mode": "markers",
         "name": "CHARLES WATTINNE",
         "showlegend": true,
         "subplot": "map",
         "type": "scattermap"
        },
        {
         "customdata": {
          "bdata": "DAA=",
          "dtype": "i1",
          "shape": "1, 2"
         },
         "hovertemplate": "properties.nom=CARLIERS<br>properties.y=%{lat}<br>properties.x=%{lon}<br>properties.nb_places_dispo=%{customdata[0]}<br>properties.nb_velos_dispo=%{customdata[1]}<extra></extra>",
         "lat": {
          "bdata": "sI9OXflaSUA=",
          "dtype": "f8"
         },
         "legendgroup": "CARLIERS",
         "lon": {
          "bdata": "owOSsG9HCUA=",
          "dtype": "f8"
         },
         "marker": {
          "color": "#EF553B",
          "size": 15
         },
         "mode": "markers",
         "name": "CARLIERS",
         "showlegend": true,
         "subplot": "map",
         "type": "scattermap"
        },
        {
         "customdata": {
          "bdata": "Cgg=",
          "dtype": "i1",
          "shape": "1, 2"
         },
         "hovertemplate": "properties.nom=MERCURE<br>properties.y=%{lat}<br>properties.x=%{lon}<br>properties.nb_places_dispo=%{customdata[0]}<br>properties.nb_velos_dispo=%{customdata[1]}<extra></extra>",
         "lat": {
          "bdata": "LVxWYTNaSUA=",
          "dtype": "f8"
         },
         "legendgroup": "MERCURE",
         "lon": {
          "bdata": "uCOcFrxICUA=",
          "dtype": "f8"
         },
         "marker": {
          "color": "#00cc96",
          "size": 15
         },
         "mode": "markers",
         "name": "MERCURE",
         "showlegend": true,
         "subplot": "map",
         "type": "scattermap"
        },
        {
         "customdata": {
          "bdata": "DwU=",
          "dtype": "i1",
          "shape": "1, 2"
         },
         "hovertemplate": "properties.nom=PLACE ROUSSEL<br>properties.y=%{lat}<br>properties.x=%{lon}<br>properties.nb_places_dispo=%{customdata[0]}<br>properties.nb_velos_dispo=%{customdata[1]}<extra></extra>",
         "lat": {
          "bdata": "7SsP0lNcSUA=",
          "dtype": "f8"
         },
         "legendgroup": "PLACE ROUSSEL",
         "lon": {
          "bdata": "LO+qB8xDCUA=",
          "dtype": "f8"
         },
         "marker": {
          "color": "#ab63fa",
          "size": 15
         },
         "mode": "markers",
         "name": "PLACE ROUSSEL",
         "showlegend": true,
         "subplot": "map",
         "type": "scattermap"
        },
        {
         "customdata": {
          "bdata": "CgQ=",
          "dtype": "i1",
          "shape": "1, 2"
         },
         "hovertemplate": "properties.nom=PHALEMPINS<br>properties.y=%{lat}<br>properties.x=%{lon}<br>properties.nb_places_dispo=%{customdata[0]}<br>properties.nb_velos_dispo=%{customdata[1]}<extra></extra>",
         "lat": {
          "bdata": "dLLUer9dSUA=",
          "dtype": "f8"
         },
         "legendgroup": "PHALEMPINS",
         "lon": {
          "bdata": "n+OjxRlDCUA=",
          "dtype": "f8"
         },
         "marker": {
          "color": "#FFA15A",
          "size": 15
         },
         "mode": "markers",
         "name": "PHALEMPINS",
         "showlegend": true,
         "subplot": "map",
         "type": "scattermap"
        },
        {
         "customdata": {
          "bdata": "CQc=",
          "dtype": "i1",
          "shape": "1, 2"
         },
         "hovertemplate": "properties.nom=CROIX CENTRE<br>properties.y=%{lat}<br>properties.x=%{lon}<br>properties.nb_places_dispo=%{customdata[0]}<br>properties.nb_velos_dispo=%{customdata[1]}<extra></extra>",
         "lat": {
          "bdata": "NQwfEVNWSUA=",
          "dtype": "f8"
         },
         "legendgroup": "CROIX CENTRE",
         "lon": {
          "bdata": "PSe9b3wtCUA=",
          "dtype": "f8"
         },
         "marker": {
          "color": "#19d3f3",
          "size": 15
         },
         "mode": "markers",
         "name": "CROIX CENTRE",
         "showlegend": true,
         "subplot": "map",
         "type": "scattermap"
        },
        {
         "customdata": {
          "bdata": "BQc=",
          "dtype": "i1",
          "shape": "1, 2"
         },
         "hovertemplate": "properties.nom=MAIRIE DE QUARTIER OUEST<br>properties.y=%{lat}<br>properties.x=%{lon}<br>properties.nb_places_dispo=%{customdata[0]}<br>properties.nb_velos_dispo=%{customdata[1]}<extra></extra>",
         "lat": {
          "bdata": "AAAAAABYSUA=",
          "dtype": "f8"
         },
         "legendgroup": "MAIRIE DE QUARTIER OUEST",
         "lon": {
          "bdata": "4taTr7pECUA=",
          "dtype": "f8"
         },
         "marker": {
          "color": "#FF6692",
          "size": 15
         },
         "mode": "markers",
         "name": "MAIRIE DE QUARTIER OUEST",
         "showlegend": true,
         "subplot": "map",
         "type": "scattermap"
        },
        {
         "customdata": {
          "bdata": "AhI=",
          "dtype": "i1",
          "shape": "1, 2"
         },
         "hovertemplate": "properties.nom=FER À CHEVAL<br>properties.y=%{lat}<br>properties.x=%{lon}<br>properties.nb_places_dispo=%{customdata[0]}<br>properties.nb_velos_dispo=%{customdata[1]}<extra></extra>",
         "lat": {
          "bdata": "HSCYo8dVSUA=",
          "dtype": "f8"
         },
         "legendgroup": "FER À CHEVAL",
         "lon": {
          "bdata": "+rmhKTs9CUA=",
          "dtype": "f8"
         },
         "marker": {
          "color": "#B6E880",
          "size": 15
         },
         "mode": "markers",
         "name": "FER À CHEVAL",
         "showlegend": true,
         "subplot": "map",
         "type": "scattermap"
        },
        {
         "customdata": {
          "bdata": "FAA=",
          "dtype": "i1",
          "shape": "1, 2"
         },
         "hovertemplate": "properties.nom=DELORY BARBIEUX<br>properties.y=%{lat}<br>properties.x=%{lon}<br>properties.nb_places_dispo=%{customdata[0]}<br>properties.nb_velos_dispo=%{customdata[1]}<extra></extra>",
         "lat": {
          "bdata": "hqxu9ZxWSUA=",
          "dtype": "f8"
         },
         "legendgroup": "DELORY BARBIEUX",
         "lon": {
          "bdata": "uwopP6lWCUA=",
          "dtype": "f8"
         },
         "marker": {
          "color": "#FF97FF",
          "size": 15
         },
         "mode": "markers",
         "name": "DELORY BARBIEUX",
         "showlegend": true,
         "subplot": "map",
         "type": "scattermap"
        },
        {
         "customdata": {
          "bdata": "EAQ=",
          "dtype": "i1",
          "shape": "1, 2"
         },
         "hovertemplate": "properties.nom=PAVÉ DE LILLE<br>properties.y=%{lat}<br>properties.x=%{lon}<br>properties.nb_places_dispo=%{customdata[0]}<br>properties.nb_velos_dispo=%{customdata[1]}<extra></extra>",
         "lat": {
          "bdata": "XVK13QRVSUA=",
          "dtype": "f8"
         },
         "legendgroup": "PAVÉ DE LILLE",
         "lon": {
          "bdata": "NzP60XAKCUA=",
          "dtype": "f8"
         },
         "marker": {
          "color": "#FECB52",
          "size": 15
         },
         "mode": "markers",
         "name": "PAVÉ DE LILLE",
         "showlegend": true,
         "subplot": "map",
         "type": "scattermap"
        },
        {
         "customdata": {
          "bdata": "AhI=",
          "dtype": "i1",
          "shape": "1, 2"
         },
         "hovertemplate": "properties.nom=WASQUEHAL HOTEL DE VILLE<br>properties.y=%{lat}<br>properties.x=%{lon}<br>properties.nb_places_dispo=%{customdata[0]}<br>properties.nb_velos_dispo=%{customdata[1]}<extra></extra>",
         "lat": {
          "bdata": "aAQb179VSUA=",
          "dtype": "f8"
         },
         "legendgroup": "WASQUEHAL HOTEL DE VILLE",
         "lon": {
          "bdata": "sp3vp8YLCUA=",
          "dtype": "f8"
         },
         "marker": {
          "color": "#636efa",
          "size": 15
         },
         "mode": "markers",
         "name": "WASQUEHAL HOTEL DE VILLE",
         "showlegend": true,
         "subplot": "map",
         "type": "scattermap"
        },
        {
         "customdata": {
          "bdata": "AQs=",
          "dtype": "i1",
          "shape": "1, 2"
         },
         "hovertemplate": "properties.nom=CHARLES FOURIER<br>properties.y=%{lat}<br>properties.x=%{lon}<br>properties.nb_places_dispo=%{customdata[0]}<br>properties.nb_velos_dispo=%{customdata[1]}<extra></extra>",
         "lat": {
          "bdata": "gVmhSPdVSUA=",
          "dtype": "f8"
         },
         "legendgroup": "CHARLES FOURIER",
         "lon": {
          "bdata": "iBOYTut2CUA=",
          "dtype": "f8"
         },
         "marker": {
          "color": "#EF553B",
          "size": 15
         },
         "mode": "markers",
         "name": "CHARLES FOURIER",
         "showlegend": true,
         "subplot": "map",
         "type": "scattermap"
        },
        {
         "customdata": {
          "bdata": "Bwc=",
          "dtype": "i1",
          "shape": "1, 2"
         },
         "hovertemplate": "properties.nom=PISCINE DES 3 VILLES<br>properties.y=%{lat}<br>properties.x=%{lon}<br>properties.nb_places_dispo=%{customdata[0]}<br>properties.nb_velos_dispo=%{customdata[1]}<extra></extra>",
         "lat": {
          "bdata": "+YOB595VSUA=",
          "dtype": "f8"
         },
         "legendgroup": "PISCINE DES 3 VILLES",
         "lon": {
          "bdata": "nu+nxkuXCUA=",
          "dtype": "f8"
         },
         "marker": {
          "color": "#00cc96",
          "size": 15
         },
         "mode": "markers",
         "name": "PISCINE DES 3 VILLES",
         "showlegend": true,
         "subplot": "map",
         "type": "scattermap"
        },
        {
         "customdata": {
          "bdata": "BAQ=",
          "dtype": "i1",
          "shape": "1, 2"
         },
         "hovertemplate": "properties.nom=CALMETTE<br>properties.y=%{lat}<br>properties.x=%{lon}<br>properties.nb_places_dispo=%{customdata[0]}<br>properties.nb_velos_dispo=%{customdata[1]}<extra></extra>",
         "lat": {
          "bdata": "qd2vAnxVSUA=",
          "dtype": "f8"
         },
         "legendgroup": "CALMETTE",
         "lon": {
          "bdata": "kdPX8zWLCUA=",
          "dtype": "f8"
         },
         "marker": {
          "color": "#ab63fa",
          "size": 15
         },
         "mode": "markers",
         "name": "CALMETTE",
         "showlegend": true,
         "subplot": "map",
         "type": "scattermap"
        },
        {
         "customdata": {
          "bdata": "DQc=",
          "dtype": "i1",
          "shape": "1, 2"
         },
         "hovertemplate": "properties.nom=GEORGES HANNART<br>properties.y=%{lat}<br>properties.x=%{lon}<br>properties.nb_places_dispo=%{customdata[0]}<br>properties.nb_velos_dispo=%{customdata[1]}<extra></extra>",
         "lat": {
          "bdata": "9Ik8SbpWSUA=",
          "dtype": "f8"
         },
         "legendgroup": "GEORGES HANNART",
         "lon": {
          "bdata": "V89J7xsfCUA=",
          "dtype": "f8"
         },
         "marker": {
          "color": "#FFA15A",
          "size": 15
         },
         "mode": "markers",
         "name": "GEORGES HANNART",
         "showlegend": true,
         "subplot": "map",
         "type": "scattermap"
        },
        {
         "customdata": {
          "bdata": "AQA=",
          "dtype": "i1",
          "shape": "1, 2"
         },
         "hovertemplate": "properties.nom=TEST CYKLEO LILLE<br>properties.y=%{lat}<br>properties.x=%{lon}<br>properties.nb_places_dispo=%{customdata[0]}<br>properties.nb_velos_dispo=%{customdata[1]}<extra></extra>",
         "lat": {
          "bdata": "t9vkprxOSUA=",
          "dtype": "f8"
         },
         "legendgroup": "TEST CYKLEO LILLE",
         "lon": {
          "bdata": "bE4U1+ewCEA=",
          "dtype": "f8"
         },
         "marker": {
          "color": "#19d3f3",
          "size": 15
         },
         "mode": "markers",
         "name": "TEST CYKLEO LILLE",
         "showlegend": true,
         "subplot": "map",
         "type": "scattermap"
        },
        {
         "customdata": {
          "bdata": "AxE=",
          "dtype": "i1",
          "shape": "1, 2"
         },
         "hovertemplate": "properties.nom=ROUSSEAU<br>properties.y=%{lat}<br>properties.x=%{lon}<br>properties.nb_places_dispo=%{customdata[0]}<br>properties.nb_velos_dispo=%{customdata[1]}<extra></extra>",
         "lat": {
          "bdata": "CoUIOIRSSUA=",
          "dtype": "f8"
         },
         "legendgroup": "ROUSSEAU",
         "lon": {
          "bdata": "PGagMv49CEA=",
          "dtype": "f8"
         },
         "marker": {
          "color": "#FF6692",
          "size": 15
         },
         "mode": "markers",
         "name": "ROUSSEAU",
         "showlegend": true,
         "subplot": "map",
         "type": "scattermap"
        },
        {
         "customdata": {
          "bdata": "CQs=",
          "dtype": "i1",
          "shape": "1, 2"
         },
         "hovertemplate": "properties.nom=SAINT CALIXTE<br>properties.y=%{lat}<br>properties.x=%{lon}<br>properties.nb_places_dispo=%{customdata[0]}<br>properties.nb_velos_dispo=%{customdata[1]}<extra></extra>",
         "lat": {
          "bdata": "OkAwR49TSUA=",
          "dtype": "f8"
         },
         "legendgroup": "SAINT CALIXTE",
         "lon": {
          "bdata": "TBqjdVQ1CEA=",
          "dtype": "f8"
         },
         "marker": {
          "color": "#B6E880",
          "size": 15
         },
         "mode": "markers",
         "name": "SAINT CALIXTE",
         "showlegend": true,
         "subplot": "map",
         "type": "scattermap"
        },
        {
         "customdata": {
          "bdata": "DAg=",
          "dtype": "i1",
          "shape": "1, 2"
         },
         "hovertemplate": "properties.nom=FACHES THUMESNIL MAIRIE<br>properties.y=%{lat}<br>properties.x=%{lon}<br>properties.nb_places_dispo=%{customdata[0]}<br>properties.nb_velos_dispo=%{customdata[1]}<extra></extra>",
         "lat": {
          "bdata": "et/42jNNSUA=",
          "dtype": "f8"
         },
         "legendgroup": "FACHES THUMESNIL MAIRIE",
         "lon": {
          "bdata": "LCridJKNCEA=",
          "dtype": "f8"
         },
         "marker": {
          "color": "#FF97FF",
          "size": 15
         },
         "mode": "markers",
         "name": "FACHES THUMESNIL MAIRIE",
         "showlegend": true,
         "subplot": "map",
         "type": "scattermap"
        },
        {
         "customdata": {
          "bdata": "DAg=",
          "dtype": "i1",
          "shape": "1, 2"
         },
         "hovertemplate": "properties.nom=RÉSISTANCE<br>properties.y=%{lat}<br>properties.x=%{lon}<br>properties.nb_places_dispo=%{customdata[0]}<br>properties.nb_velos_dispo=%{customdata[1]}<extra></extra>",
         "lat": {
          "bdata": "RN0HILVNSUA=",
          "dtype": "f8"
         },
         "legendgroup": "RÉSISTANCE",
         "lon": {
          "bdata": "Zyyazk6GCEA=",
          "dtype": "f8"
         },
         "marker": {
          "color": "#FECB52",
          "size": 15
         },
         "mode": "markers",
         "name": "RÉSISTANCE",
         "showlegend": true,
         "subplot": "map",
         "type": "scattermap"
        },
        {
         "customdata": {
          "bdata": "EwE=",
          "dtype": "i1",
          "shape": "1, 2"
         },
         "hovertemplate": "properties.nom=LE SART<br>properties.y=%{lat}<br>properties.x=%{lon}<br>properties.nb_places_dispo=%{customdata[0]}<br>properties.nb_velos_dispo=%{customdata[1]}<extra></extra>",
         "lat": {
          "bdata": "1EhL5e1USUA=",
          "dtype": "f8"
         },
         "legendgroup": "LE SART",
         "lon": {
          "bdata": "2ln0TgUcCUA=",
          "dtype": "f8"
         },
         "marker": {
          "color": "#636efa",
          "size": 15
         },
         "mode": "markers",
         "name": "LE SART",
         "showlegend": true,
         "subplot": "map",
         "type": "scattermap"
        },
        {
         "customdata": {
          "bdata": "BQ8=",
          "dtype": "i1",
          "shape": "1, 2"
         },
         "hovertemplate": "properties.nom=LA MAILLERIE<br>properties.y=%{lat}<br>properties.x=%{lon}<br>properties.nb_places_dispo=%{customdata[0]}<br>properties.nb_velos_dispo=%{customdata[1]}<extra></extra>",
         "lat": {
          "bdata": "QkEpWrlVSUA=",
          "dtype": "f8"
         },
         "legendgroup": "LA MAILLERIE",
         "lon": {
          "bdata": "8MLWbOUlCUA=",
          "dtype": "f8"
         },
         "marker": {
          "color": "#EF553B",
          "size": 15
         },
         "mode": "markers",
         "name": "LA MAILLERIE",
         "showlegend": true,
         "subplot": "map",
         "type": "scattermap"
        },
        {
         "customdata": {
          "bdata": "CAw=",
          "dtype": "i1",
          "shape": "1, 2"
         },
         "hovertemplate": "properties.nom=CHATELLENIE<br>properties.y=%{lat}<br>properties.x=%{lon}<br>properties.nb_places_dispo=%{customdata[0]}<br>properties.nb_velos_dispo=%{customdata[1]}<extra></extra>",
         "lat": {
          "bdata": "+8kYH2ZRSUA=",
          "dtype": "f8"
         },
         "legendgroup": "CHATELLENIE",
         "lon": {
          "bdata": "ebDFbp8VCUA=",
          "dtype": "f8"
         },
         "marker": {
          "color": "#00cc96",
          "size": 15
         },
         "mode": "markers",
         "name": "CHATELLENIE",
         "showlegend": true,
         "subplot": "map",
         "type": "scattermap"
        },
        {
         "customdata": {
          "bdata": "DwU=",
          "dtype": "i1",
          "shape": "1, 2"
         },
         "hovertemplate": "properties.nom=4 VENTS<br>properties.y=%{lat}<br>properties.x=%{lon}<br>properties.nb_places_dispo=%{customdata[0]}<br>properties.nb_velos_dispo=%{customdata[1]}<extra></extra>",
         "lat": {
          "bdata": "D7dDw2JOSUA=",
          "dtype": "f8"
         },
         "legendgroup": "4 VENTS",
         "lon": {
          "bdata": "io9PyM77CEA=",
          "dtype": "f8"
         },
         "marker": {
          "color": "#ab63fa",
          "size": 15
         },
         "mode": "markers",
         "name": "4 VENTS",
         "showlegend": true,
         "subplot": "map",
         "type": "scattermap"
        },
        {
         "customdata": {
          "bdata": "CQs=",
          "dtype": "i1",
          "shape": "1, 2"
         },
         "hovertemplate": "properties.nom=SADI CARNOT<br>properties.y=%{lat}<br>properties.x=%{lon}<br>properties.nb_places_dispo=%{customdata[0]}<br>properties.nb_velos_dispo=%{customdata[1]}<extra></extra>",
         "lat": {
          "bdata": "bmjKTj9OSUA=",
          "dtype": "f8"
         },
         "legendgroup": "SADI CARNOT",
         "lon": {
          "bdata": "R68GKA31B0A=",
          "dtype": "f8"
         },
         "marker": {
          "color": "#FFA15A",
          "size": 15
         },
         "mode": "markers",
         "name": "SADI CARNOT",
         "showlegend": true,
         "subplot": "map",
         "type": "scattermap"
        },
        {
         "customdata": {
          "bdata": "CBA=",
          "dtype": "i1",
          "shape": "1, 2"
         },
         "hovertemplate": "properties.nom=HAUBOURDIN MAIRIE<br>properties.y=%{lat}<br>properties.x=%{lon}<br>properties.nb_places_dispo=%{customdata[0]}<br>properties.nb_velos_dispo=%{customdata[1]}<extra></extra>",
         "lat": {
          "bdata": "D0OrkzNOSUA=",
          "dtype": "f8"
         },
         "legendgroup": "HAUBOURDIN MAIRIE",
         "lon": {
          "bdata": "/MQB9PveB0A=",
          "dtype": "f8"
         },
         "marker": {
          "color": "#19d3f3",
          "size": 15
         },
         "mode": "markers",
         "name": "HAUBOURDIN MAIRIE",
         "showlegend": true,
         "subplot": "map",
         "type": "scattermap"
        },
        {
         "customdata": {
          "bdata": "DAg=",
          "dtype": "i1",
          "shape": "1, 2"
         },
         "hovertemplate": "properties.nom=MARQUETTE MAIRIE<br>properties.y=%{lat}<br>properties.x=%{lon}<br>properties.nb_places_dispo=%{customdata[0]}<br>properties.nb_velos_dispo=%{customdata[1]}<extra></extra>",
         "lat": {
          "bdata": "UZ/kDptWSUA=",
          "dtype": "f8"
         },
         "legendgroup": "MARQUETTE MAIRIE",
         "lon": {
          "bdata": "XFZhM8CFCEA=",
          "dtype": "f8"
         },
         "marker": {
          "color": "#FF6692",
          "size": 15
         },
         "mode": "markers",
         "name": "MARQUETTE MAIRIE",
         "showlegend": true,
         "subplot": "map",
         "type": "scattermap"
        },
        {
         "customdata": {
          "bdata": "AxE=",
          "dtype": "i1",
          "shape": "1, 2"
         },
         "hovertemplate": "properties.nom=GRANDS MOULINS DE PARIS<br>properties.y=%{lat}<br>properties.x=%{lon}<br>properties.nb_places_dispo=%{customdata[0]}<br>properties.nb_velos_dispo=%{customdata[1]}<extra></extra>",
         "lat": {
          "bdata": "tK1mnfFVSUA=",
          "dtype": "f8"
         },
         "legendgroup": "GRANDS MOULINS DE PARIS",
         "lon": {
          "bdata": "/7J78rBwCEA=",
          "dtype": "f8"
         },
         "marker": {
          "color": "#B6E880",
          "size": 15
         },
         "mode": "markers",
         "name": "GRANDS MOULINS DE PARIS",
         "showlegend": true,
         "subplot": "map",
         "type": "scattermap"
        },
        {
         "customdata": {
          "bdata": "DAg=",
          "dtype": "i1",
          "shape": "1, 2"
         },
         "hovertemplate": "properties.nom=SAINT ROCH<br>properties.y=%{lat}<br>properties.x=%{lon}<br>properties.nb_places_dispo=%{customdata[0]}<br>properties.nb_velos_dispo=%{customdata[1]}<extra></extra>",
         "lat": {
          "bdata": "H7sLlBRWSUA=",
          "dtype": "f8"
         },
         "legendgroup": "SAINT ROCH",
         "lon": {
          "bdata": "uoeE7/2NCEA=",
          "dtype": "f8"
         },
         "marker": {
          "color": "#FF97FF",
          "size": 15
         },
         "mode": "markers",
         "name": "SAINT ROCH",
         "showlegend": true,
         "subplot": "map",
         "type": "scattermap"
        },
        {
         "customdata": {
          "bdata": "CQs=",
          "dtype": "i1",
          "shape": "1, 2"
         },
         "hovertemplate": "properties.nom=PONT DE L'ABBAYE<br>properties.y=%{lat}<br>properties.x=%{lon}<br>properties.nb_places_dispo=%{customdata[0]}<br>properties.nb_velos_dispo=%{customdata[1]}<extra></extra>",
         "lat": {
          "bdata": "fLWjOEdVSUA=",
          "dtype": "f8"
         },
         "legendgroup": "PONT DE L'ABBAYE",
         "lon": {
          "bdata": "pU5AE2GDCEA=",
          "dtype": "f8"
         },
         "marker": {
          "color": "#FECB52",
          "size": 15
         },
         "mode": "markers",
         "name": "PONT DE L'ABBAYE",
         "showlegend": true,
         "subplot": "map",
         "type": "scattermap"
        },
        {
         "customdata": {
          "bdata": "EAA=",
          "dtype": "i1",
          "shape": "1, 2"
         },
         "hovertemplate": "properties.nom=ROBERSART<br>properties.y=%{lat}<br>properties.x=%{lon}<br>properties.nb_places_dispo=%{customdata[0]}<br>properties.nb_velos_dispo=%{customdata[1]}<extra></extra>",
         "lat": {
          "bdata": "8l61MuFXSUA=",
          "dtype": "f8"
         },
         "legendgroup": "ROBERSART",
         "lon": {
          "bdata": "IchBCTNtCEA=",
          "dtype": "f8"
         },
         "marker": {
          "color": "#636efa",
          "size": 15
         },
         "mode": "markers",
         "name": "ROBERSART",
         "showlegend": true,
         "subplot": "map",
         "type": "scattermap"
        },
        {
         "customdata": {
          "bdata": "DAA=",
          "dtype": "i1",
          "shape": "1, 2"
         },
         "hovertemplate": "properties.nom=PETIT PARADIS<br>properties.y=%{lat}<br>properties.x=%{lon}<br>properties.nb_places_dispo=%{customdata[0]}<br>properties.nb_velos_dispo=%{customdata[1]}<extra></extra>",
         "lat": {
          "bdata": "3pOHhVpXSUA=",
          "dtype": "f8"
         },
         "legendgroup": "PETIT PARADIS",
         "lon": {
          "bdata": "JxQi4BBqCEA=",
          "dtype": "f8"
         },
         "marker": {
          "color": "#EF553B",
          "size": 15
         },
         "mode": "markers",
         "name": "PETIT PARADIS",
         "showlegend": true,
         "subplot": "map",
         "type": "scattermap"
        },
        {
         "customdata": {
          "bdata": "FAA=",
          "dtype": "i1",
          "shape": "1, 2"
         },
         "hovertemplate": "properties.nom=RAMPONNEAU<br>properties.y=%{lat}<br>properties.x=%{lon}<br>properties.nb_places_dispo=%{customdata[0]}<br>properties.nb_velos_dispo=%{customdata[1]}<extra></extra>",
         "lat": {
          "bdata": "7lpCPuhRSUA=",
          "dtype": "f8"
         },
         "legendgroup": "RAMPONNEAU",
         "lon": {
          "bdata": "IlSp2QNtCEA=",
          "dtype": "f8"
         },
         "marker": {
          "color": "#00cc96",
          "size": 15
         },
         "mode": "markers",
         "name": "RAMPONNEAU",
         "showlegend": true,
         "subplot": "map",
         "type": "scattermap"
        },
        {
         "customdata": {
          "bdata": "DgA=",
          "dtype": "i1",
          "shape": "1, 2"
         },
         "hovertemplate": "properties.nom=GARE D'EAU<br>properties.y=%{lat}<br>properties.x=%{lon}<br>properties.nb_places_dispo=%{customdata[0]}<br>properties.nb_velos_dispo=%{customdata[1]}<extra></extra>",
         "lat": {
          "bdata": "FMstrYZQSUA=",
          "dtype": "f8"
         },
         "legendgroup": "GARE D'EAU",
         "lon": {
          "bdata": "B7Ezhc4rCEA=",
          "dtype": "f8"
         },
         "marker": {
          "color": "#ab63fa",
          "size": 15
         },
         "mode": "markers",
         "name": "GARE D'EAU",
         "showlegend": true,
         "subplot": "map",
         "type": "scattermap"
        },
        {
         "customdata": {
          "bdata": "DgA=",
          "dtype": "i1",
          "shape": "1, 2"
         },
         "hovertemplate": "properties.nom=HELLU - ÉPINE<br>properties.y=%{lat}<br>properties.x=%{lon}<br>properties.nb_places_dispo=%{customdata[0]}<br>properties.nb_velos_dispo=%{customdata[1]}<extra></extra>",
         "lat": {
          "bdata": "D5ccd0pPSUA=",
          "dtype": "f8"
         },
         "legendgroup": "HELLU - ÉPINE",
         "lon": {
          "bdata": "6lvmdFnMCEA=",
          "dtype": "f8"
         },
         "marker": {
          "color": "#FFA15A",
          "size": 15
         },
         "mode": "markers",
         "name": "HELLU - ÉPINE",
         "showlegend": true,
         "subplot": "map",
         "type": "scattermap"
        },
        {
         "customdata": {
          "bdata": "EAA=",
          "dtype": "i1",
          "shape": "1, 2"
         },
         "hovertemplate": "properties.nom=MITTERIE<br>properties.y=%{lat}<br>properties.x=%{lon}<br>properties.nb_places_dispo=%{customdata[0]}<br>properties.nb_velos_dispo=%{customdata[1]}<extra></extra>",
         "lat": {
          "bdata": "H7+36c9SSUA=",
          "dtype": "f8"
         },
         "legendgroup": "MITTERIE",
         "lon": {
          "bdata": "j6omiLoPCEA=",
          "dtype": "f8"
         },
         "marker": {
          "color": "#19d3f3",
          "size": 15
         },
         "mode": "markers",
         "name": "MITTERIE",
         "showlegend": true,
         "subplot": "map",
         "type": "scattermap"
        },
        {
         "customdata": {
          "bdata": "FAA=",
          "dtype": "i1",
          "shape": "1, 2"
         },
         "hovertemplate": "properties.nom=STATION MOBILE<br>properties.y=%{lat}<br>properties.x=%{lon}<br>properties.nb_places_dispo=%{customdata[0]}<br>properties.nb_velos_dispo=%{customdata[1]}<extra></extra>",
         "lat": {
          "bdata": "Ls+YILROSUA=",
          "dtype": "f8"
         },
         "legendgroup": "STATION MOBILE",
         "lon": {
          "bdata": "Fas7jFexCEA=",
          "dtype": "f8"
         },
         "marker": {
          "color": "#FF6692",
          "size": 15
         },
         "mode": "markers",
         "name": "STATION MOBILE",
         "showlegend": true,
         "subplot": "map",
         "type": "scattermap"
        },
        {
         "customdata": {
          "bdata": "FAA=",
          "dtype": "i1",
          "shape": "1, 2"
         },
         "hovertemplate": "properties.nom=STATION MOBILE 1<br>properties.y=%{lat}<br>properties.x=%{lon}<br>properties.nb_places_dispo=%{customdata[0]}<br>properties.nb_velos_dispo=%{customdata[1]}<extra></extra>",
         "lat": {
          "bdata": "KQXdXtJOSUA=",
          "dtype": "f8"
         },
         "legendgroup": "STATION MOBILE 1",
         "lon": {
          "bdata": "1xNdF36wCEA=",
          "dtype": "f8"
         },
         "marker": {
          "color": "#B6E880",
          "size": 15
         },
         "mode": "markers",
         "name": "STATION MOBILE 1",
         "showlegend": true,
         "subplot": "map",
         "type": "scattermap"
        },
        {
         "customdata": {
          "bdata": "FAA=",
          "dtype": "i1",
          "shape": "1, 2"
         },
         "hovertemplate": "properties.nom=STATION MOBILE 2<br>properties.y=%{lat}<br>properties.x=%{lon}<br>properties.nb_places_dispo=%{customdata[0]}<br>properties.nb_velos_dispo=%{customdata[1]}<extra></extra>",
         "lat": {
          "bdata": "Ewt8RbdOSUA=",
          "dtype": "f8"
         },
         "legendgroup": "STATION MOBILE 2",
         "lon": {
          "bdata": "ZJC7CFO0CEA=",
          "dtype": "f8"
         },
         "marker": {
          "color": "#FF97FF",
          "size": 15
         },
         "mode": "markers",
         "name": "STATION MOBILE 2",
         "showlegend": true,
         "subplot": "map",
         "type": "scattermap"
        },
        {
         "customdata": {
          "bdata": "FAA=",
          "dtype": "i1",
          "shape": "1, 2"
         },
         "hovertemplate": "properties.nom=STATION MOBILE 3<br>properties.y=%{lat}<br>properties.x=%{lon}<br>properties.nb_places_dispo=%{customdata[0]}<br>properties.nb_velos_dispo=%{customdata[1]}<extra></extra>",
         "lat": {
          "bdata": "U+knnN1OSUA=",
          "dtype": "f8"
         },
         "legendgroup": "STATION MOBILE 3",
         "lon": {
          "bdata": "m/9XHTmyCEA=",
          "dtype": "f8"
         },
         "marker": {
          "color": "#FECB52",
          "size": 15
         },
         "mode": "markers",
         "name": "STATION MOBILE 3",
         "showlegend": true,
         "subplot": "map",
         "type": "scattermap"
        },
        {
         "customdata": {
          "bdata": "AgA=",
          "dtype": "i1",
          "shape": "1, 2"
         },
         "hovertemplate": "properties.nom=STATION TEST<br>properties.y=%{lat}<br>properties.x=%{lon}<br>properties.nb_places_dispo=%{customdata[0]}<br>properties.nb_velos_dispo=%{customdata[1]}<extra></extra>",
         "lat": {
          "bdata": "gO7Lme1OSUA=",
          "dtype": "f8"
         },
         "legendgroup": "STATION TEST",
         "lon": {
          "bdata": "JgD/lCqxCEA=",
          "dtype": "f8"
         },
         "marker": {
          "color": "#636efa",
          "size": 15
         },
         "mode": "markers",
         "name": "STATION TEST",
         "showlegend": true,
         "subplot": "map",
         "type": "scattermap"
        }
       ],
       "layout": {
        "height": 800,
        "legend": {
         "title": {
          "text": "properties.nom"
         },
         "tracegroupgap": 0
        },
        "map": {
         "center": {
          "lat": 50.65005592797986,
          "lon": 3.0959665892894006
         },
         "domain": {
          "x": [
           0,
           1
          ],
          "y": [
           0,
           1
          ]
         },
         "zoom": 13
        },
        "mapbox": {
         "center": {
          "lat": 50.65005592797986,
          "lon": 3.0959665892894006
         },
         "style": "open-street-map",
         "zoom": 13
        },
        "margin": {
         "t": 60
        },
        "template": {
         "data": {
          "bar": [
           {
            "error_x": {
             "color": "#2a3f5f"
            },
            "error_y": {
             "color": "#2a3f5f"
            },
            "marker": {
             "line": {
              "color": "#E5ECF6",
              "width": 0.5
             },
             "pattern": {
              "fillmode": "overlay",
              "size": 10,
              "solidity": 0.2
             }
            },
            "type": "bar"
           }
          ],
          "barpolar": [
           {
            "marker": {
             "line": {
              "color": "#E5ECF6",
              "width": 0.5
             },
             "pattern": {
              "fillmode": "overlay",
              "size": 10,
              "solidity": 0.2
             }
            },
            "type": "barpolar"
           }
          ],
          "carpet": [
           {
            "aaxis": {
             "endlinecolor": "#2a3f5f",
             "gridcolor": "white",
             "linecolor": "white",
             "minorgridcolor": "white",
             "startlinecolor": "#2a3f5f"
            },
            "baxis": {
             "endlinecolor": "#2a3f5f",
             "gridcolor": "white",
             "linecolor": "white",
             "minorgridcolor": "white",
             "startlinecolor": "#2a3f5f"
            },
            "type": "carpet"
           }
          ],
          "choropleth": [
           {
            "colorbar": {
             "outlinewidth": 0,
             "ticks": ""
            },
            "type": "choropleth"
           }
          ],
          "contour": [
           {
            "colorbar": {
             "outlinewidth": 0,
             "ticks": ""
            },
            "colorscale": [
             [
              0,
              "#0d0887"
             ],
             [
              0.1111111111111111,
              "#46039f"
             ],
             [
              0.2222222222222222,
              "#7201a8"
             ],
             [
              0.3333333333333333,
              "#9c179e"
             ],
             [
              0.4444444444444444,
              "#bd3786"
             ],
             [
              0.5555555555555556,
              "#d8576b"
             ],
             [
              0.6666666666666666,
              "#ed7953"
             ],
             [
              0.7777777777777778,
              "#fb9f3a"
             ],
             [
              0.8888888888888888,
              "#fdca26"
             ],
             [
              1,
              "#f0f921"
             ]
            ],
            "type": "contour"
           }
          ],
          "contourcarpet": [
           {
            "colorbar": {
             "outlinewidth": 0,
             "ticks": ""
            },
            "type": "contourcarpet"
           }
          ],
          "heatmap": [
           {
            "colorbar": {
             "outlinewidth": 0,
             "ticks": ""
            },
            "colorscale": [
             [
              0,
              "#0d0887"
             ],
             [
              0.1111111111111111,
              "#46039f"
             ],
             [
              0.2222222222222222,
              "#7201a8"
             ],
             [
              0.3333333333333333,
              "#9c179e"
             ],
             [
              0.4444444444444444,
              "#bd3786"
             ],
             [
              0.5555555555555556,
              "#d8576b"
             ],
             [
              0.6666666666666666,
              "#ed7953"
             ],
             [
              0.7777777777777778,
              "#fb9f3a"
             ],
             [
              0.8888888888888888,
              "#fdca26"
             ],
             [
              1,
              "#f0f921"
             ]
            ],
            "type": "heatmap"
           }
          ],
          "histogram": [
           {
            "marker": {
             "pattern": {
              "fillmode": "overlay",
              "size": 10,
              "solidity": 0.2
             }
            },
            "type": "histogram"
           }
          ],
          "histogram2d": [
           {
            "colorbar": {
             "outlinewidth": 0,
             "ticks": ""
            },
            "colorscale": [
             [
              0,
              "#0d0887"
             ],
             [
              0.1111111111111111,
              "#46039f"
             ],
             [
              0.2222222222222222,
              "#7201a8"
             ],
             [
              0.3333333333333333,
              "#9c179e"
             ],
             [
              0.4444444444444444,
              "#bd3786"
             ],
             [
              0.5555555555555556,
              "#d8576b"
             ],
             [
              0.6666666666666666,
              "#ed7953"
             ],
             [
              0.7777777777777778,
              "#fb9f3a"
             ],
             [
              0.8888888888888888,
              "#fdca26"
             ],
             [
              1,
              "#f0f921"
             ]
            ],
            "type": "histogram2d"
           }
          ],
          "histogram2dcontour": [
           {
            "colorbar": {
             "outlinewidth": 0,
             "ticks": ""
            },
            "colorscale": [
             [
              0,
              "#0d0887"
             ],
             [
              0.1111111111111111,
              "#46039f"
             ],
             [
              0.2222222222222222,
              "#7201a8"
             ],
             [
              0.3333333333333333,
              "#9c179e"
             ],
             [
              0.4444444444444444,
              "#bd3786"
             ],
             [
              0.5555555555555556,
              "#d8576b"
             ],
             [
              0.6666666666666666,
              "#ed7953"
             ],
             [
              0.7777777777777778,
              "#fb9f3a"
             ],
             [
              0.8888888888888888,
              "#fdca26"
             ],
             [
              1,
              "#f0f921"
             ]
            ],
            "type": "histogram2dcontour"
           }
          ],
          "mesh3d": [
           {
            "colorbar": {
             "outlinewidth": 0,
             "ticks": ""
            },
            "type": "mesh3d"
           }
          ],
          "parcoords": [
           {
            "line": {
             "colorbar": {
              "outlinewidth": 0,
              "ticks": ""
             }
            },
            "type": "parcoords"
           }
          ],
          "pie": [
           {
            "automargin": true,
            "type": "pie"
           }
          ],
          "scatter": [
           {
            "fillpattern": {
             "fillmode": "overlay",
             "size": 10,
             "solidity": 0.2
            },
            "type": "scatter"
           }
          ],
          "scatter3d": [
           {
            "line": {
             "colorbar": {
              "outlinewidth": 0,
              "ticks": ""
             }
            },
            "marker": {
             "colorbar": {
              "outlinewidth": 0,
              "ticks": ""
             }
            },
            "type": "scatter3d"
           }
          ],
          "scattercarpet": [
           {
            "marker": {
             "colorbar": {
              "outlinewidth": 0,
              "ticks": ""
             }
            },
            "type": "scattercarpet"
           }
          ],
          "scattergeo": [
           {
            "marker": {
             "colorbar": {
              "outlinewidth": 0,
              "ticks": ""
             }
            },
            "type": "scattergeo"
           }
          ],
          "scattergl": [
           {
            "marker": {
             "colorbar": {
              "outlinewidth": 0,
              "ticks": ""
             }
            },
            "type": "scattergl"
           }
          ],
          "scattermap": [
           {
            "marker": {
             "colorbar": {
              "outlinewidth": 0,
              "ticks": ""
             }
            },
            "type": "scattermap"
           }
          ],
          "scattermapbox": [
           {
            "marker": {
             "colorbar": {
              "outlinewidth": 0,
              "ticks": ""
             }
            },
            "type": "scattermapbox"
           }
          ],
          "scatterpolar": [
           {
            "marker": {
             "colorbar": {
              "outlinewidth": 0,
              "ticks": ""
             }
            },
            "type": "scatterpolar"
           }
          ],
          "scatterpolargl": [
           {
            "marker": {
             "colorbar": {
              "outlinewidth": 0,
              "ticks": ""
             }
            },
            "type": "scatterpolargl"
           }
          ],
          "scatterternary": [
           {
            "marker": {
             "colorbar": {
              "outlinewidth": 0,
              "ticks": ""
             }
            },
            "type": "scatterternary"
           }
          ],
          "surface": [
           {
            "colorbar": {
             "outlinewidth": 0,
             "ticks": ""
            },
            "colorscale": [
             [
              0,
              "#0d0887"
             ],
             [
              0.1111111111111111,
              "#46039f"
             ],
             [
              0.2222222222222222,
              "#7201a8"
             ],
             [
              0.3333333333333333,
              "#9c179e"
             ],
             [
              0.4444444444444444,
              "#bd3786"
             ],
             [
              0.5555555555555556,
              "#d8576b"
             ],
             [
              0.6666666666666666,
              "#ed7953"
             ],
             [
              0.7777777777777778,
              "#fb9f3a"
             ],
             [
              0.8888888888888888,
              "#fdca26"
             ],
             [
              1,
              "#f0f921"
             ]
            ],
            "type": "surface"
           }
          ],
          "table": [
           {
            "cells": {
             "fill": {
              "color": "#EBF0F8"
             },
             "line": {
              "color": "white"
             }
            },
            "header": {
             "fill": {
              "color": "#C8D4E3"
             },
             "line": {
              "color": "white"
             }
            },
            "type": "table"
           }
          ]
         },
         "layout": {
          "annotationdefaults": {
           "arrowcolor": "#2a3f5f",
           "arrowhead": 0,
           "arrowwidth": 1
          },
          "autotypenumbers": "strict",
          "coloraxis": {
           "colorbar": {
            "outlinewidth": 0,
            "ticks": ""
           }
          },
          "colorscale": {
           "diverging": [
            [
             0,
             "#8e0152"
            ],
            [
             0.1,
             "#c51b7d"
            ],
            [
             0.2,
             "#de77ae"
            ],
            [
             0.3,
             "#f1b6da"
            ],
            [
             0.4,
             "#fde0ef"
            ],
            [
             0.5,
             "#f7f7f7"
            ],
            [
             0.6,
             "#e6f5d0"
            ],
            [
             0.7,
             "#b8e186"
            ],
            [
             0.8,
             "#7fbc41"
            ],
            [
             0.9,
             "#4d9221"
            ],
            [
             1,
             "#276419"
            ]
           ],
           "sequential": [
            [
             0,
             "#0d0887"
            ],
            [
             0.1111111111111111,
             "#46039f"
            ],
            [
             0.2222222222222222,
             "#7201a8"
            ],
            [
             0.3333333333333333,
             "#9c179e"
            ],
            [
             0.4444444444444444,
             "#bd3786"
            ],
            [
             0.5555555555555556,
             "#d8576b"
            ],
            [
             0.6666666666666666,
             "#ed7953"
            ],
            [
             0.7777777777777778,
             "#fb9f3a"
            ],
            [
             0.8888888888888888,
             "#fdca26"
            ],
            [
             1,
             "#f0f921"
            ]
           ],
           "sequentialminus": [
            [
             0,
             "#0d0887"
            ],
            [
             0.1111111111111111,
             "#46039f"
            ],
            [
             0.2222222222222222,
             "#7201a8"
            ],
            [
             0.3333333333333333,
             "#9c179e"
            ],
            [
             0.4444444444444444,
             "#bd3786"
            ],
            [
             0.5555555555555556,
             "#d8576b"
            ],
            [
             0.6666666666666666,
             "#ed7953"
            ],
            [
             0.7777777777777778,
             "#fb9f3a"
            ],
            [
             0.8888888888888888,
             "#fdca26"
            ],
            [
             1,
             "#f0f921"
            ]
           ]
          },
          "colorway": [
           "#636efa",
           "#EF553B",
           "#00cc96",
           "#ab63fa",
           "#FFA15A",
           "#19d3f3",
           "#FF6692",
           "#B6E880",
           "#FF97FF",
           "#FECB52"
          ],
          "font": {
           "color": "#2a3f5f"
          },
          "geo": {
           "bgcolor": "white",
           "lakecolor": "white",
           "landcolor": "#E5ECF6",
           "showlakes": true,
           "showland": true,
           "subunitcolor": "white"
          },
          "hoverlabel": {
           "align": "left"
          },
          "hovermode": "closest",
          "mapbox": {
           "style": "light"
          },
          "paper_bgcolor": "white",
          "plot_bgcolor": "#E5ECF6",
          "polar": {
           "angularaxis": {
            "gridcolor": "white",
            "linecolor": "white",
            "ticks": ""
           },
           "bgcolor": "#E5ECF6",
           "radialaxis": {
            "gridcolor": "white",
            "linecolor": "white",
            "ticks": ""
           }
          },
          "scene": {
           "xaxis": {
            "backgroundcolor": "#E5ECF6",
            "gridcolor": "white",
            "gridwidth": 2,
            "linecolor": "white",
            "showbackground": true,
            "ticks": "",
            "zerolinecolor": "white"
           },
           "yaxis": {
            "backgroundcolor": "#E5ECF6",
            "gridcolor": "white",
            "gridwidth": 2,
            "linecolor": "white",
            "showbackground": true,
            "ticks": "",
            "zerolinecolor": "white"
           },
           "zaxis": {
            "backgroundcolor": "#E5ECF6",
            "gridcolor": "white",
            "gridwidth": 2,
            "linecolor": "white",
            "showbackground": true,
            "ticks": "",
            "zerolinecolor": "white"
           }
          },
          "shapedefaults": {
           "line": {
            "color": "#2a3f5f"
           }
          },
          "ternary": {
           "aaxis": {
            "gridcolor": "white",
            "linecolor": "white",
            "ticks": ""
           },
           "baxis": {
            "gridcolor": "white",
            "linecolor": "white",
            "ticks": ""
           },
           "bgcolor": "#E5ECF6",
           "caxis": {
            "gridcolor": "white",
            "linecolor": "white",
            "ticks": ""
           }
          },
          "title": {
           "x": 0.05
          },
          "xaxis": {
           "automargin": true,
           "gridcolor": "white",
           "linecolor": "white",
           "ticks": "",
           "title": {
            "standoff": 15
           },
           "zerolinecolor": "white",
           "zerolinewidth": 2
          },
          "yaxis": {
           "automargin": true,
           "gridcolor": "white",
           "linecolor": "white",
           "ticks": "",
           "title": {
            "standoff": 15
           },
           "zerolinecolor": "white",
           "zerolinewidth": 2
          }
         }
        }
       }
      }
     },
     "metadata": {},
     "output_type": "display_data"
    }
   ],
   "source": [
    "create_map(df)"
   ]
  }
 ],
 "metadata": {
  "kernelspec": {
   "display_name": "base",
   "language": "python",
   "name": "python3"
  },
  "language_info": {
   "codemirror_mode": {
    "name": "ipython",
    "version": 3
   },
   "file_extension": ".py",
   "mimetype": "text/x-python",
   "name": "python",
   "nbconvert_exporter": "python",
   "pygments_lexer": "ipython3",
   "version": "3.12.7"
  }
 },
 "nbformat": 4,
 "nbformat_minor": 2
}
