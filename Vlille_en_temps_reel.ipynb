{
 "cells": [
  {
   "cell_type": "code",
   "execution_count": 13,
   "metadata": {},
   "outputs": [],
   "source": [
    "import requests\n",
    "import json\n",
    "import pandas as pd\n",
    "import geopandas as gpd\n",
    "import contextily as ctx\n",
    "import geoplot\n",
    "import matplotlib.pyplot as plt\n",
    "import folium\n",
    "import pandas as pd"
   ]
  },
  {
   "cell_type": "code",
   "execution_count": 14,
   "metadata": {},
   "outputs": [],
   "source": [
    "api_url = \"https://data.lillemetropole.fr/data/ogcapi/collections/vlille_temps_reel/items?f=geojson&limit=-1\"\n",
    "api_call = requests.get(api_url)\n"
   ]
  },
  {
   "cell_type": "code",
   "execution_count": 15,
   "metadata": {},
   "outputs": [],
   "source": [
    "api_data = api_call.text\n",
    "api_data = json.loads(api_data)\n",
    "df = [feature for feature in api_data['features']]\n",
    "df = pd.json_normalize(df)\n"
   ]
  },
  {
   "cell_type": "code",
   "execution_count": 16,
   "metadata": {},
   "outputs": [
    {
     "data": {
      "text/html": [
       "<div style=\"width:100%;\"><div style=\"position:relative;width:100%;height:0;padding-bottom:60%;\"><span style=\"color:#565656\">Make this Notebook Trusted to load map: File -> Trust Notebook</span><iframe srcdoc=\"&lt;!DOCTYPE html&gt;\n",
       "&lt;html&gt;\n",
       "&lt;head&gt;\n",
       "    \n",
       "    &lt;meta http-equiv=&quot;content-type&quot; content=&quot;text/html; charset=UTF-8&quot; /&gt;\n",
       "    \n",
       "        &lt;script&gt;\n",
       "            L_NO_TOUCH = false;\n",
       "            L_DISABLE_3D = false;\n",
       "        &lt;/script&gt;\n",
       "    \n",
       "    &lt;style&gt;html, body {width: 100%;height: 100%;margin: 0;padding: 0;}&lt;/style&gt;\n",
       "    &lt;style&gt;#map {position:absolute;top:0;bottom:0;right:0;left:0;}&lt;/style&gt;\n",
       "    &lt;script src=&quot;https://cdn.jsdelivr.net/npm/leaflet@1.9.3/dist/leaflet.js&quot;&gt;&lt;/script&gt;\n",
       "    &lt;script src=&quot;https://code.jquery.com/jquery-3.7.1.min.js&quot;&gt;&lt;/script&gt;\n",
       "    &lt;script src=&quot;https://cdn.jsdelivr.net/npm/bootstrap@5.2.2/dist/js/bootstrap.bundle.min.js&quot;&gt;&lt;/script&gt;\n",
       "    &lt;script src=&quot;https://cdnjs.cloudflare.com/ajax/libs/Leaflet.awesome-markers/2.0.2/leaflet.awesome-markers.js&quot;&gt;&lt;/script&gt;\n",
       "    &lt;link rel=&quot;stylesheet&quot; href=&quot;https://cdn.jsdelivr.net/npm/leaflet@1.9.3/dist/leaflet.css&quot;/&gt;\n",
       "    &lt;link rel=&quot;stylesheet&quot; href=&quot;https://cdn.jsdelivr.net/npm/bootstrap@5.2.2/dist/css/bootstrap.min.css&quot;/&gt;\n",
       "    &lt;link rel=&quot;stylesheet&quot; href=&quot;https://netdna.bootstrapcdn.com/bootstrap/3.0.0/css/bootstrap-glyphicons.css&quot;/&gt;\n",
       "    &lt;link rel=&quot;stylesheet&quot; href=&quot;https://cdn.jsdelivr.net/npm/@fortawesome/fontawesome-free@6.2.0/css/all.min.css&quot;/&gt;\n",
       "    &lt;link rel=&quot;stylesheet&quot; href=&quot;https://cdnjs.cloudflare.com/ajax/libs/Leaflet.awesome-markers/2.0.2/leaflet.awesome-markers.css&quot;/&gt;\n",
       "    &lt;link rel=&quot;stylesheet&quot; href=&quot;https://cdn.jsdelivr.net/gh/python-visualization/folium/folium/templates/leaflet.awesome.rotate.min.css&quot;/&gt;\n",
       "    \n",
       "            &lt;meta name=&quot;viewport&quot; content=&quot;width=device-width,\n",
       "                initial-scale=1.0, maximum-scale=1.0, user-scalable=no&quot; /&gt;\n",
       "            &lt;style&gt;\n",
       "                #map_6cfc0e4d35730cccc7872d39d9dc204b {\n",
       "                    position: relative;\n",
       "                    width: 100.0%;\n",
       "                    height: 100.0%;\n",
       "                    left: 0.0%;\n",
       "                    top: 0.0%;\n",
       "                }\n",
       "                .leaflet-container { font-size: 1rem; }\n",
       "            &lt;/style&gt;\n",
       "        \n",
       "&lt;/head&gt;\n",
       "&lt;body&gt;\n",
       "    \n",
       "    \n",
       "            &lt;div class=&quot;folium-map&quot; id=&quot;map_6cfc0e4d35730cccc7872d39d9dc204b&quot; &gt;&lt;/div&gt;\n",
       "        \n",
       "&lt;/body&gt;\n",
       "&lt;script&gt;\n",
       "    \n",
       "    \n",
       "            var map_6cfc0e4d35730cccc7872d39d9dc204b = L.map(\n",
       "                &quot;map_6cfc0e4d35730cccc7872d39d9dc204b&quot;,\n",
       "                {\n",
       "                    center: [50.641926, 3.075992],\n",
       "                    crs: L.CRS.EPSG3857,\n",
       "                    zoom: 12,\n",
       "                    zoomControl: true,\n",
       "                    preferCanvas: false,\n",
       "                }\n",
       "            );\n",
       "\n",
       "            \n",
       "\n",
       "        \n",
       "    \n",
       "            var tile_layer_f4ef6171962b470e8fec35c8e80d119b = L.tileLayer(\n",
       "                &quot;https://{s}.basemaps.cartocdn.com/light_all/{z}/{x}/{y}{r}.png&quot;,\n",
       "                {&quot;attribution&quot;: &quot;\\u0026copy; \\u003ca href=\\&quot;https://www.openstreetmap.org/copyright\\&quot;\\u003eOpenStreetMap\\u003c/a\\u003e contributors \\u0026copy; \\u003ca href=\\&quot;https://carto.com/attributions\\&quot;\\u003eCARTO\\u003c/a\\u003e&quot;, &quot;detectRetina&quot;: false, &quot;maxNativeZoom&quot;: 20, &quot;maxZoom&quot;: 20, &quot;minZoom&quot;: 0, &quot;noWrap&quot;: false, &quot;opacity&quot;: 1, &quot;subdomains&quot;: &quot;abcd&quot;, &quot;tms&quot;: false}\n",
       "            );\n",
       "        \n",
       "    \n",
       "            tile_layer_f4ef6171962b470e8fec35c8e80d119b.addTo(map_6cfc0e4d35730cccc7872d39d9dc204b);\n",
       "        \n",
       "    \n",
       "            var marker_fcde763761d2814f28e0a167521e006c = L.marker(\n",
       "                [50.641926, 3.075992],\n",
       "                {}\n",
       "            ).addTo(map_6cfc0e4d35730cccc7872d39d9dc204b);\n",
       "        \n",
       "    \n",
       "        var popup_5aae5227ee02623d61bd5e089847cac5 = L.popup({&quot;maxWidth&quot;: &quot;100%&quot;});\n",
       "\n",
       "        \n",
       "            \n",
       "                var html_dc5dcfcfc77312207f0c5280afb1e33a = $(`&lt;div id=&quot;html_dc5dcfcfc77312207f0c5280afb1e33a&quot; style=&quot;width: 100.0%; height: 100.0%;&quot;&gt;Nom de l&#x27;arrêt METROPOLE EUROPEENNE DE LILLE &lt;br&gt; Nombre de vélos disponibles 0 &lt;br&gt; Nombre de places disponibles 0&lt;/div&gt;`)[0];\n",
       "                popup_5aae5227ee02623d61bd5e089847cac5.setContent(html_dc5dcfcfc77312207f0c5280afb1e33a);\n",
       "            \n",
       "        \n",
       "\n",
       "        marker_fcde763761d2814f28e0a167521e006c.bindPopup(popup_5aae5227ee02623d61bd5e089847cac5)\n",
       "        ;\n",
       "\n",
       "        \n",
       "    \n",
       "    \n",
       "            var marker_1f92578f262f00e22031a1d6d446d2a3 = L.marker(\n",
       "                [50.638126, 3.10231],\n",
       "                {}\n",
       "            ).addTo(map_6cfc0e4d35730cccc7872d39d9dc204b);\n",
       "        \n",
       "    \n",
       "        var popup_cc10cb5243ec3817e1b79e9ed23131ca = L.popup({&quot;maxWidth&quot;: &quot;100%&quot;});\n",
       "\n",
       "        \n",
       "            \n",
       "                var html_5c9362674da3d341ec11a86349865ac5 = $(`&lt;div id=&quot;html_5c9362674da3d341ec11a86349865ac5&quot; style=&quot;width: 100.0%; height: 100.0%;&quot;&gt;Nom de l&#x27;arrêt VERDUN &lt;br&gt; Nombre de vélos disponibles 0 &lt;br&gt; Nombre de places disponibles 0&lt;/div&gt;`)[0];\n",
       "                popup_cc10cb5243ec3817e1b79e9ed23131ca.setContent(html_5c9362674da3d341ec11a86349865ac5);\n",
       "            \n",
       "        \n",
       "\n",
       "        marker_1f92578f262f00e22031a1d6d446d2a3.bindPopup(popup_cc10cb5243ec3817e1b79e9ed23131ca)\n",
       "        ;\n",
       "\n",
       "        \n",
       "    \n",
       "    \n",
       "            var marker_d65067269fda8c44d132dde6f6dd752e = L.marker(\n",
       "                [50.638123, 3.112704],\n",
       "                {}\n",
       "            ).addTo(map_6cfc0e4d35730cccc7872d39d9dc204b);\n",
       "        \n",
       "    \n",
       "        var popup_ab32a178e8d01239fa8e465c6b4322ab = L.popup({&quot;maxWidth&quot;: &quot;100%&quot;});\n",
       "\n",
       "        \n",
       "            \n",
       "                var html_009a07c88f20a85807897bea5579963f = $(`&lt;div id=&quot;html_009a07c88f20a85807897bea5579963f&quot; style=&quot;width: 100.0%; height: 100.0%;&quot;&gt;Nom de l&#x27;arrêt CONCORDE &lt;br&gt; Nombre de vélos disponibles 0 &lt;br&gt; Nombre de places disponibles 0&lt;/div&gt;`)[0];\n",
       "                popup_ab32a178e8d01239fa8e465c6b4322ab.setContent(html_009a07c88f20a85807897bea5579963f);\n",
       "            \n",
       "        \n",
       "\n",
       "        marker_d65067269fda8c44d132dde6f6dd752e.bindPopup(popup_ab32a178e8d01239fa8e465c6b4322ab)\n",
       "        ;\n",
       "\n",
       "        \n",
       "    \n",
       "    \n",
       "            var marker_d7cbd37ed861df5cd64ad49ebabbb3de = L.marker(\n",
       "                [50.623466, 3.030667],\n",
       "                {}\n",
       "            ).addTo(map_6cfc0e4d35730cccc7872d39d9dc204b);\n",
       "        \n",
       "    \n",
       "        var popup_cdb49831ac0490c6ad7893bf0961c0ff = L.popup({&quot;maxWidth&quot;: &quot;100%&quot;});\n",
       "\n",
       "        \n",
       "            \n",
       "                var html_264cfc6d980f7157a78ad7c5b12d129c = $(`&lt;div id=&quot;html_264cfc6d980f7157a78ad7c5b12d129c&quot; style=&quot;width: 100.0%; height: 100.0%;&quot;&gt;Nom de l&#x27;arrêt SQUARE DU PORTUGAL &lt;br&gt; Nombre de vélos disponibles 0 &lt;br&gt; Nombre de places disponibles 0&lt;/div&gt;`)[0];\n",
       "                popup_cdb49831ac0490c6ad7893bf0961c0ff.setContent(html_264cfc6d980f7157a78ad7c5b12d129c);\n",
       "            \n",
       "        \n",
       "\n",
       "        marker_d7cbd37ed861df5cd64ad49ebabbb3de.bindPopup(popup_cdb49831ac0490c6ad7893bf0961c0ff)\n",
       "        ;\n",
       "\n",
       "        \n",
       "    \n",
       "    \n",
       "            var marker_23f25c292e35963dfb869acdac76539d = L.marker(\n",
       "                [50.626846, 3.115101],\n",
       "                {}\n",
       "            ).addTo(map_6cfc0e4d35730cccc7872d39d9dc204b);\n",
       "        \n",
       "    \n",
       "        var popup_4e6c14eb6a5177815b4a636e929e64f1 = L.popup({&quot;maxWidth&quot;: &quot;100%&quot;});\n",
       "\n",
       "        \n",
       "            \n",
       "                var html_fceb5d40c0adb4e21bebdfecebe60202 = $(`&lt;div id=&quot;html_fceb5d40c0adb4e21bebdfecebe60202&quot; style=&quot;width: 100.0%; height: 100.0%;&quot;&gt;Nom de l&#x27;arrêt SQUARE CHARLES DE GAULLE &lt;br&gt; Nombre de vélos disponibles 0 &lt;br&gt; Nombre de places disponibles 0&lt;/div&gt;`)[0];\n",
       "                popup_4e6c14eb6a5177815b4a636e929e64f1.setContent(html_fceb5d40c0adb4e21bebdfecebe60202);\n",
       "            \n",
       "        \n",
       "\n",
       "        marker_23f25c292e35963dfb869acdac76539d.bindPopup(popup_4e6c14eb6a5177815b4a636e929e64f1)\n",
       "        ;\n",
       "\n",
       "        \n",
       "    \n",
       "    \n",
       "            var marker_ccf77aa80eaa993e3e34e3133c725606 = L.marker(\n",
       "                [50.641834, 3.022364],\n",
       "                {}\n",
       "            ).addTo(map_6cfc0e4d35730cccc7872d39d9dc204b);\n",
       "        \n",
       "    \n",
       "        var popup_4dc8c4d3b83f16eeddcc03cdf9bcf6db = L.popup({&quot;maxWidth&quot;: &quot;100%&quot;});\n",
       "\n",
       "        \n",
       "            \n",
       "                var html_860c6a18780fd33e8a1f7add9adf19a4 = $(`&lt;div id=&quot;html_860c6a18780fd33e8a1f7add9adf19a4&quot; style=&quot;width: 100.0%; height: 100.0%;&quot;&gt;Nom de l&#x27;arrêt COLLEGE LAVOISIER &lt;br&gt; Nombre de vélos disponibles 0 &lt;br&gt; Nombre de places disponibles 0&lt;/div&gt;`)[0];\n",
       "                popup_4dc8c4d3b83f16eeddcc03cdf9bcf6db.setContent(html_860c6a18780fd33e8a1f7add9adf19a4);\n",
       "            \n",
       "        \n",
       "\n",
       "        marker_ccf77aa80eaa993e3e34e3133c725606.bindPopup(popup_4dc8c4d3b83f16eeddcc03cdf9bcf6db)\n",
       "        ;\n",
       "\n",
       "        \n",
       "    \n",
       "    \n",
       "            var marker_6be12ada56fb724208d183d834ac65f0 = L.marker(\n",
       "                [50.64057, 3.115571],\n",
       "                {}\n",
       "            ).addTo(map_6cfc0e4d35730cccc7872d39d9dc204b);\n",
       "        \n",
       "    \n",
       "        var popup_9f93fa62630a75cf637a3963a83851ba = L.popup({&quot;maxWidth&quot;: &quot;100%&quot;});\n",
       "\n",
       "        \n",
       "            \n",
       "                var html_303d73f42460d6d064c8fb367a93b6fb = $(`&lt;div id=&quot;html_303d73f42460d6d064c8fb367a93b6fb&quot; style=&quot;width: 100.0%; height: 100.0%;&quot;&gt;Nom de l&#x27;arrêt LE POLYEDRE &lt;br&gt; Nombre de vélos disponibles 0 &lt;br&gt; Nombre de places disponibles 3&lt;/div&gt;`)[0];\n",
       "                popup_9f93fa62630a75cf637a3963a83851ba.setContent(html_303d73f42460d6d064c8fb367a93b6fb);\n",
       "            \n",
       "        \n",
       "\n",
       "        marker_6be12ada56fb724208d183d834ac65f0.bindPopup(popup_9f93fa62630a75cf637a3963a83851ba)\n",
       "        ;\n",
       "\n",
       "        \n",
       "    \n",
       "    \n",
       "            var marker_0b9359884ef948dbcf5e21bca6c0fd2c = L.marker(\n",
       "                [50.63708, 3.127964],\n",
       "                {}\n",
       "            ).addTo(map_6cfc0e4d35730cccc7872d39d9dc204b);\n",
       "        \n",
       "    \n",
       "        var popup_708d9db7c0b78082310977f08f79a474 = L.popup({&quot;maxWidth&quot;: &quot;100%&quot;});\n",
       "\n",
       "        \n",
       "            \n",
       "                var html_5175d8974557a5a689629c69bf68ff74 = $(`&lt;div id=&quot;html_5175d8974557a5a689629c69bf68ff74&quot; style=&quot;width: 100.0%; height: 100.0%;&quot;&gt;Nom de l&#x27;arrêt FLERS MAIRIE &lt;br&gt; Nombre de vélos disponibles 0 &lt;br&gt; Nombre de places disponibles 0&lt;/div&gt;`)[0];\n",
       "                popup_708d9db7c0b78082310977f08f79a474.setContent(html_5175d8974557a5a689629c69bf68ff74);\n",
       "            \n",
       "        \n",
       "\n",
       "        marker_0b9359884ef948dbcf5e21bca6c0fd2c.bindPopup(popup_708d9db7c0b78082310977f08f79a474)\n",
       "        ;\n",
       "\n",
       "        \n",
       "    \n",
       "    \n",
       "            var marker_45d1aa5cd162a7867bf03de65485798b = L.marker(\n",
       "                [50.633842, 3.127335],\n",
       "                {}\n",
       "            ).addTo(map_6cfc0e4d35730cccc7872d39d9dc204b);\n",
       "        \n",
       "    \n",
       "        var popup_1c56ca4a227ce0a96cbb0afc11ab41ce = L.popup({&quot;maxWidth&quot;: &quot;100%&quot;});\n",
       "\n",
       "        \n",
       "            \n",
       "                var html_3a799ec827769bee19b4befcc1e4420a = $(`&lt;div id=&quot;html_3a799ec827769bee19b4befcc1e4420a&quot; style=&quot;width: 100.0%; height: 100.0%;&quot;&gt;Nom de l&#x27;arrêt RUE LOUISE MICHEL &lt;br&gt; Nombre de vélos disponibles 0 &lt;br&gt; Nombre de places disponibles 1&lt;/div&gt;`)[0];\n",
       "                popup_1c56ca4a227ce0a96cbb0afc11ab41ce.setContent(html_3a799ec827769bee19b4befcc1e4420a);\n",
       "            \n",
       "        \n",
       "\n",
       "        marker_45d1aa5cd162a7867bf03de65485798b.bindPopup(popup_1c56ca4a227ce0a96cbb0afc11ab41ce)\n",
       "        ;\n",
       "\n",
       "        \n",
       "    \n",
       "    \n",
       "            var marker_a8ad797fe48a7d3eae52fa87288a1db0 = L.marker(\n",
       "                [50.63608, 3.130853],\n",
       "                {}\n",
       "            ).addTo(map_6cfc0e4d35730cccc7872d39d9dc204b);\n",
       "        \n",
       "    \n",
       "        var popup_090a86fa031da57c404915dd7b987976 = L.popup({&quot;maxWidth&quot;: &quot;100%&quot;});\n",
       "\n",
       "        \n",
       "            \n",
       "                var html_e94dd7544243ad13f49a4af8436f22d9 = $(`&lt;div id=&quot;html_e94dd7544243ad13f49a4af8436f22d9&quot; style=&quot;width: 100.0%; height: 100.0%;&quot;&gt;Nom de l&#x27;arrêt FLERS CHATEAU &lt;br&gt; Nombre de vélos disponibles 0 &lt;br&gt; Nombre de places disponibles 0&lt;/div&gt;`)[0];\n",
       "                popup_090a86fa031da57c404915dd7b987976.setContent(html_e94dd7544243ad13f49a4af8436f22d9);\n",
       "            \n",
       "        \n",
       "\n",
       "        marker_a8ad797fe48a7d3eae52fa87288a1db0.bindPopup(popup_090a86fa031da57c404915dd7b987976)\n",
       "        ;\n",
       "\n",
       "        \n",
       "    \n",
       "    \n",
       "            var marker_d49e729db23eec7c87a8dc25f15c43e3 = L.marker(\n",
       "                [50.6221, 3.131706],\n",
       "                {}\n",
       "            ).addTo(map_6cfc0e4d35730cccc7872d39d9dc204b);\n",
       "        \n",
       "    \n",
       "        var popup_ef03718943c7f69d299b15e77f597509 = L.popup({&quot;maxWidth&quot;: &quot;100%&quot;});\n",
       "\n",
       "        \n",
       "            \n",
       "                var html_cb7d30510b69a65fdbcdd27c75af6d48 = $(`&lt;div id=&quot;html_cb7d30510b69a65fdbcdd27c75af6d48&quot; style=&quot;width: 100.0%; height: 100.0%;&quot;&gt;Nom de l&#x27;arrêt RUE DES VICTOIRES &lt;br&gt; Nombre de vélos disponibles 0 &lt;br&gt; Nombre de places disponibles 0&lt;/div&gt;`)[0];\n",
       "                popup_ef03718943c7f69d299b15e77f597509.setContent(html_cb7d30510b69a65fdbcdd27c75af6d48);\n",
       "            \n",
       "        \n",
       "\n",
       "        marker_d49e729db23eec7c87a8dc25f15c43e3.bindPopup(popup_ef03718943c7f69d299b15e77f597509)\n",
       "        ;\n",
       "\n",
       "        \n",
       "    \n",
       "    \n",
       "            var marker_e71aceb8983c4ffb01f6f9e2feac2cb2 = L.marker(\n",
       "                [50.61776, 3.146026],\n",
       "                {}\n",
       "            ).addTo(map_6cfc0e4d35730cccc7872d39d9dc204b);\n",
       "        \n",
       "    \n",
       "        var popup_a7369dc9bca6500d2f58d4ab2b7c83c0 = L.popup({&quot;maxWidth&quot;: &quot;100%&quot;});\n",
       "\n",
       "        \n",
       "            \n",
       "                var html_7f90ea907ba8aead4febfa8292febef6 = $(`&lt;div id=&quot;html_7f90ea907ba8aead4febfa8292febef6&quot; style=&quot;width: 100.0%; height: 100.0%;&quot;&gt;Nom de l&#x27;arrêt ROND POINT DE TOURNAI &lt;br&gt; Nombre de vélos disponibles 0 &lt;br&gt; Nombre de places disponibles 1&lt;/div&gt;`)[0];\n",
       "                popup_a7369dc9bca6500d2f58d4ab2b7c83c0.setContent(html_7f90ea907ba8aead4febfa8292febef6);\n",
       "            \n",
       "        \n",
       "\n",
       "        marker_e71aceb8983c4ffb01f6f9e2feac2cb2.bindPopup(popup_a7369dc9bca6500d2f58d4ab2b7c83c0)\n",
       "        ;\n",
       "\n",
       "        \n",
       "    \n",
       "    \n",
       "            var marker_1350bd01ecf55f6060b663e916ede89a = L.marker(\n",
       "                [50.61992, 3.14528],\n",
       "                {}\n",
       "            ).addTo(map_6cfc0e4d35730cccc7872d39d9dc204b);\n",
       "        \n",
       "    \n",
       "        var popup_18ca878cb6e3fefac4fdfaea82ede0ea = L.popup({&quot;maxWidth&quot;: &quot;100%&quot;});\n",
       "\n",
       "        \n",
       "            \n",
       "                var html_4b1e70ae0b296e31b87f95b9264096a0 = $(`&lt;div id=&quot;html_4b1e70ae0b296e31b87f95b9264096a0&quot; style=&quot;width: 100.0%; height: 100.0%;&quot;&gt;Nom de l&#x27;arrêt RESIDENCE &lt;br&gt; Nombre de vélos disponibles 0 &lt;br&gt; Nombre de places disponibles 1&lt;/div&gt;`)[0];\n",
       "                popup_18ca878cb6e3fefac4fdfaea82ede0ea.setContent(html_4b1e70ae0b296e31b87f95b9264096a0);\n",
       "            \n",
       "        \n",
       "\n",
       "        marker_1350bd01ecf55f6060b663e916ede89a.bindPopup(popup_18ca878cb6e3fefac4fdfaea82ede0ea)\n",
       "        ;\n",
       "\n",
       "        \n",
       "    \n",
       "    \n",
       "            var marker_f28acb2ab87864b28bdb238f5fdc521b = L.marker(\n",
       "                [50.684593, 3.200799],\n",
       "                {}\n",
       "            ).addTo(map_6cfc0e4d35730cccc7872d39d9dc204b);\n",
       "        \n",
       "    \n",
       "        var popup_e20f5408e696c30bb296eab9e7a684be = L.popup({&quot;maxWidth&quot;: &quot;100%&quot;});\n",
       "\n",
       "        \n",
       "            \n",
       "                var html_17b4a7bd19446754c259e2a1aee25028 = $(`&lt;div id=&quot;html_17b4a7bd19446754c259e2a1aee25028&quot; style=&quot;width: 100.0%; height: 100.0%;&quot;&gt;Nom de l&#x27;arrêt TROIS PONTS &lt;br&gt; Nombre de vélos disponibles 0 &lt;br&gt; Nombre de places disponibles 0&lt;/div&gt;`)[0];\n",
       "                popup_e20f5408e696c30bb296eab9e7a684be.setContent(html_17b4a7bd19446754c259e2a1aee25028);\n",
       "            \n",
       "        \n",
       "\n",
       "        marker_f28acb2ab87864b28bdb238f5fdc521b.bindPopup(popup_e20f5408e696c30bb296eab9e7a684be)\n",
       "        ;\n",
       "\n",
       "        \n",
       "    \n",
       "    \n",
       "            var marker_2f8f486d1f645fcfb1668b7389bb0f18 = L.marker(\n",
       "                [50.67392, 3.18514],\n",
       "                {}\n",
       "            ).addTo(map_6cfc0e4d35730cccc7872d39d9dc204b);\n",
       "        \n",
       "    \n",
       "        var popup_8cfd3dd0f018434bd0df19ead2049150 = L.popup({&quot;maxWidth&quot;: &quot;100%&quot;});\n",
       "\n",
       "        \n",
       "            \n",
       "                var html_6d84769a02bf185feb5bf4baec143fb1 = $(`&lt;div id=&quot;html_6d84769a02bf185feb5bf4baec143fb1&quot; style=&quot;width: 100.0%; height: 100.0%;&quot;&gt;Nom de l&#x27;arrêt PLACE SPRIET &lt;br&gt; Nombre de vélos disponibles 0 &lt;br&gt; Nombre de places disponibles 24&lt;/div&gt;`)[0];\n",
       "                popup_8cfd3dd0f018434bd0df19ead2049150.setContent(html_6d84769a02bf185feb5bf4baec143fb1);\n",
       "            \n",
       "        \n",
       "\n",
       "        marker_2f8f486d1f645fcfb1668b7389bb0f18.bindPopup(popup_8cfd3dd0f018434bd0df19ead2049150)\n",
       "        ;\n",
       "\n",
       "        \n",
       "    \n",
       "    \n",
       "            var marker_26d265d8a758a71500d73aebd58ee071 = L.marker(\n",
       "                [50.6941, 3.172165],\n",
       "                {}\n",
       "            ).addTo(map_6cfc0e4d35730cccc7872d39d9dc204b);\n",
       "        \n",
       "    \n",
       "        var popup_af60d75127c4ed01755d3b6d78a43a98 = L.popup({&quot;maxWidth&quot;: &quot;100%&quot;});\n",
       "\n",
       "        \n",
       "            \n",
       "                var html_16afe759d39173bfb44bdd3a11f64b80 = $(`&lt;div id=&quot;html_16afe759d39173bfb44bdd3a11f64b80&quot; style=&quot;width: 100.0%; height: 100.0%;&quot;&gt;Nom de l&#x27;arrêt LES GOBELINS &lt;br&gt; Nombre de vélos disponibles 0 &lt;br&gt; Nombre de places disponibles 12&lt;/div&gt;`)[0];\n",
       "                popup_af60d75127c4ed01755d3b6d78a43a98.setContent(html_16afe759d39173bfb44bdd3a11f64b80);\n",
       "            \n",
       "        \n",
       "\n",
       "        marker_26d265d8a758a71500d73aebd58ee071.bindPopup(popup_af60d75127c4ed01755d3b6d78a43a98)\n",
       "        ;\n",
       "\n",
       "        \n",
       "    \n",
       "    \n",
       "            var marker_8e6fbee7895adca17b24c33af80e949a = L.marker(\n",
       "                [50.69535, 3.180779],\n",
       "                {}\n",
       "            ).addTo(map_6cfc0e4d35730cccc7872d39d9dc204b);\n",
       "        \n",
       "    \n",
       "        var popup_139e02220ecb615452c72dec5abc17c7 = L.popup({&quot;maxWidth&quot;: &quot;100%&quot;});\n",
       "\n",
       "        \n",
       "            \n",
       "                var html_2fd6259d6e668e9fc9c364c44232f035 = $(`&lt;div id=&quot;html_2fd6259d6e668e9fc9c364c44232f035&quot; style=&quot;width: 100.0%; height: 100.0%;&quot;&gt;Nom de l&#x27;arrêt PELLART &lt;br&gt; Nombre de vélos disponibles 0 &lt;br&gt; Nombre de places disponibles 7&lt;/div&gt;`)[0];\n",
       "                popup_139e02220ecb615452c72dec5abc17c7.setContent(html_2fd6259d6e668e9fc9c364c44232f035);\n",
       "            \n",
       "        \n",
       "\n",
       "        marker_8e6fbee7895adca17b24c33af80e949a.bindPopup(popup_139e02220ecb615452c72dec5abc17c7)\n",
       "        ;\n",
       "\n",
       "        \n",
       "    \n",
       "    \n",
       "            var marker_1cfda87c4dca5969c3c851d8983e149d = L.marker(\n",
       "                [50.689762, 3.177179],\n",
       "                {}\n",
       "            ).addTo(map_6cfc0e4d35730cccc7872d39d9dc204b);\n",
       "        \n",
       "    \n",
       "        var popup_cf9212597cdb3f1c0261fc74a5a49a26 = L.popup({&quot;maxWidth&quot;: &quot;100%&quot;});\n",
       "\n",
       "        \n",
       "            \n",
       "                var html_8f73116fcf488be295f418cd5d5379e2 = $(`&lt;div id=&quot;html_8f73116fcf488be295f418cd5d5379e2&quot; style=&quot;width: 100.0%; height: 100.0%;&quot;&gt;Nom de l&#x27;arrêt MOTTE BOSSUT &lt;br&gt; Nombre de vélos disponibles 0 &lt;br&gt; Nombre de places disponibles 10&lt;/div&gt;`)[0];\n",
       "                popup_cf9212597cdb3f1c0261fc74a5a49a26.setContent(html_8f73116fcf488be295f418cd5d5379e2);\n",
       "            \n",
       "        \n",
       "\n",
       "        marker_1cfda87c4dca5969c3c851d8983e149d.bindPopup(popup_cf9212597cdb3f1c0261fc74a5a49a26)\n",
       "        ;\n",
       "\n",
       "        \n",
       "    \n",
       "    \n",
       "            var marker_8f8d1eeb9e043d1370abe462278ff85f = L.marker(\n",
       "                [50.702026, 3.172654],\n",
       "                {}\n",
       "            ).addTo(map_6cfc0e4d35730cccc7872d39d9dc204b);\n",
       "        \n",
       "    \n",
       "        var popup_65f59c138e9daf24c13cf14149a50859 = L.popup({&quot;maxWidth&quot;: &quot;100%&quot;});\n",
       "\n",
       "        \n",
       "            \n",
       "                var html_ff1b9a02bc0d88dca9db4a20b00e1d76 = $(`&lt;div id=&quot;html_ff1b9a02bc0d88dca9db4a20b00e1d76&quot; style=&quot;width: 100.0%; height: 100.0%;&quot;&gt;Nom de l&#x27;arrêt RUE DE TOURCOING &lt;br&gt; Nombre de vélos disponibles 0 &lt;br&gt; Nombre de places disponibles 16&lt;/div&gt;`)[0];\n",
       "                popup_65f59c138e9daf24c13cf14149a50859.setContent(html_ff1b9a02bc0d88dca9db4a20b00e1d76);\n",
       "            \n",
       "        \n",
       "\n",
       "        marker_8f8d1eeb9e043d1370abe462278ff85f.bindPopup(popup_65f59c138e9daf24c13cf14149a50859)\n",
       "        ;\n",
       "\n",
       "        \n",
       "    \n",
       "    \n",
       "            var marker_180240b4ba82e78271ec267794f2b28d = L.marker(\n",
       "                [50.701187, 3.215011],\n",
       "                {}\n",
       "            ).addTo(map_6cfc0e4d35730cccc7872d39d9dc204b);\n",
       "        \n",
       "    \n",
       "        var popup_49db1d6d80a5573c029ce475817b2563 = L.popup({&quot;maxWidth&quot;: &quot;100%&quot;});\n",
       "\n",
       "        \n",
       "            \n",
       "                var html_71d788607363eaa6f6405a55cb37e416 = $(`&lt;div id=&quot;html_71d788607363eaa6f6405a55cb37e416&quot; style=&quot;width: 100.0%; height: 100.0%;&quot;&gt;Nom de l&#x27;arrêt WATTRELOS PLACE &lt;br&gt; Nombre de vélos disponibles 0 &lt;br&gt; Nombre de places disponibles 1&lt;/div&gt;`)[0];\n",
       "                popup_49db1d6d80a5573c029ce475817b2563.setContent(html_71d788607363eaa6f6405a55cb37e416);\n",
       "            \n",
       "        \n",
       "\n",
       "        marker_180240b4ba82e78271ec267794f2b28d.bindPopup(popup_49db1d6d80a5573c029ce475817b2563)\n",
       "        ;\n",
       "\n",
       "        \n",
       "    \n",
       "    \n",
       "            var marker_f1b7fe26acab49fa283e54d75ea37933 = L.marker(\n",
       "                [50.69626, 3.209156],\n",
       "                {}\n",
       "            ).addTo(map_6cfc0e4d35730cccc7872d39d9dc204b);\n",
       "        \n",
       "    \n",
       "        var popup_55c0d00ed309c80d1678b1c2ef135913 = L.popup({&quot;maxWidth&quot;: &quot;100%&quot;});\n",
       "\n",
       "        \n",
       "            \n",
       "                var html_fd957b161f72eaa78a357a380ccb5d2b = $(`&lt;div id=&quot;html_fd957b161f72eaa78a357a380ccb5d2b&quot; style=&quot;width: 100.0%; height: 100.0%;&quot;&gt;Nom de l&#x27;arrêt STALINGRAD &lt;br&gt; Nombre de vélos disponibles 0 &lt;br&gt; Nombre de places disponibles 1&lt;/div&gt;`)[0];\n",
       "                popup_55c0d00ed309c80d1678b1c2ef135913.setContent(html_fd957b161f72eaa78a357a380ccb5d2b);\n",
       "            \n",
       "        \n",
       "\n",
       "        marker_f1b7fe26acab49fa283e54d75ea37933.bindPopup(popup_55c0d00ed309c80d1678b1c2ef135913)\n",
       "        ;\n",
       "\n",
       "        \n",
       "    \n",
       "    \n",
       "            var marker_a69e3c0324d1790560794754daf7323c = L.marker(\n",
       "                [50.697895, 3.206297],\n",
       "                {}\n",
       "            ).addTo(map_6cfc0e4d35730cccc7872d39d9dc204b);\n",
       "        \n",
       "    \n",
       "        var popup_e1c32ffd21745a582ef63961c7d1d848 = L.popup({&quot;maxWidth&quot;: &quot;100%&quot;});\n",
       "\n",
       "        \n",
       "            \n",
       "                var html_45c1b5c98ed0cceb3c76fd45a6a33418 = $(`&lt;div id=&quot;html_45c1b5c98ed0cceb3c76fd45a6a33418&quot; style=&quot;width: 100.0%; height: 100.0%;&quot;&gt;Nom de l&#x27;arrêt REPUBLIQUE &lt;br&gt; Nombre de vélos disponibles 0 &lt;br&gt; Nombre de places disponibles 0&lt;/div&gt;`)[0];\n",
       "                popup_e1c32ffd21745a582ef63961c7d1d848.setContent(html_45c1b5c98ed0cceb3c76fd45a6a33418);\n",
       "            \n",
       "        \n",
       "\n",
       "        marker_a69e3c0324d1790560794754daf7323c.bindPopup(popup_e1c32ffd21745a582ef63961c7d1d848)\n",
       "        ;\n",
       "\n",
       "        \n",
       "    \n",
       "    \n",
       "            var marker_37c76c3ea7a727af8b523f6dab021f08 = L.marker(\n",
       "                [50.622223, 3.077127],\n",
       "                {}\n",
       "            ).addTo(map_6cfc0e4d35730cccc7872d39d9dc204b);\n",
       "        \n",
       "    \n",
       "        var popup_afdf8ebfcfcffbb7a1c6d677eacda74c = L.popup({&quot;maxWidth&quot;: &quot;100%&quot;});\n",
       "\n",
       "        \n",
       "            \n",
       "                var html_448393dc54e63bef7af005c37310d458 = $(`&lt;div id=&quot;html_448393dc54e63bef7af005c37310d458&quot; style=&quot;width: 100.0%; height: 100.0%;&quot;&gt;Nom de l&#x27;arrêt BELFORT &lt;br&gt; Nombre de vélos disponibles 0 &lt;br&gt; Nombre de places disponibles 1&lt;/div&gt;`)[0];\n",
       "                popup_afdf8ebfcfcffbb7a1c6d677eacda74c.setContent(html_448393dc54e63bef7af005c37310d458);\n",
       "            \n",
       "        \n",
       "\n",
       "        marker_37c76c3ea7a727af8b523f6dab021f08.bindPopup(popup_afdf8ebfcfcffbb7a1c6d677eacda74c)\n",
       "        ;\n",
       "\n",
       "        \n",
       "    \n",
       "    \n",
       "            var marker_177103f74189bfd93567c6e7ca2a791a = L.marker(\n",
       "                [50.632393, 3.110669],\n",
       "                {}\n",
       "            ).addTo(map_6cfc0e4d35730cccc7872d39d9dc204b);\n",
       "        \n",
       "    \n",
       "        var popup_593878efe3e950bb1d2caec121d3edc3 = L.popup({&quot;maxWidth&quot;: &quot;100%&quot;});\n",
       "\n",
       "        \n",
       "            \n",
       "                var html_ef3e1d2250da9b5b8daf5812f962eb79 = $(`&lt;div id=&quot;html_ef3e1d2250da9b5b8daf5812f962eb79&quot; style=&quot;width: 100.0%; height: 100.0%;&quot;&gt;Nom de l&#x27;arrêt JULES GUESDE &lt;br&gt; Nombre de vélos disponibles 0 &lt;br&gt; Nombre de places disponibles 0&lt;/div&gt;`)[0];\n",
       "                popup_593878efe3e950bb1d2caec121d3edc3.setContent(html_ef3e1d2250da9b5b8daf5812f962eb79);\n",
       "            \n",
       "        \n",
       "\n",
       "        marker_177103f74189bfd93567c6e7ca2a791a.bindPopup(popup_593878efe3e950bb1d2caec121d3edc3)\n",
       "        ;\n",
       "\n",
       "        \n",
       "    \n",
       "    \n",
       "            var marker_346b8666bc2432f6b1270f5643d6f6f5 = L.marker(\n",
       "                [50.619312, 3.041299],\n",
       "                {}\n",
       "            ).addTo(map_6cfc0e4d35730cccc7872d39d9dc204b);\n",
       "        \n",
       "    \n",
       "        var popup_1efb54488d79b724490065d826f97537 = L.popup({&quot;maxWidth&quot;: &quot;100%&quot;});\n",
       "\n",
       "        \n",
       "            \n",
       "                var html_d4b8385d15c57bfe4a8c02533d0b09b3 = $(`&lt;div id=&quot;html_d4b8385d15c57bfe4a8c02533d0b09b3&quot; style=&quot;width: 100.0%; height: 100.0%;&quot;&gt;Nom de l&#x27;arrêt BOULEVARD DE METZ &lt;br&gt; Nombre de vélos disponibles 0 &lt;br&gt; Nombre de places disponibles 0&lt;/div&gt;`)[0];\n",
       "                popup_1efb54488d79b724490065d826f97537.setContent(html_d4b8385d15c57bfe4a8c02533d0b09b3);\n",
       "            \n",
       "        \n",
       "\n",
       "        marker_346b8666bc2432f6b1270f5643d6f6f5.bindPopup(popup_1efb54488d79b724490065d826f97537)\n",
       "        ;\n",
       "\n",
       "        \n",
       "    \n",
       "    \n",
       "            var marker_3c7659467275c16eb40ccd7a5f14a815 = L.marker(\n",
       "                [50.63665, 3.091106],\n",
       "                {}\n",
       "            ).addTo(map_6cfc0e4d35730cccc7872d39d9dc204b);\n",
       "        \n",
       "    \n",
       "        var popup_b3a8541aefaf5c69bfa94ba9bd645361 = L.popup({&quot;maxWidth&quot;: &quot;100%&quot;});\n",
       "\n",
       "        \n",
       "            \n",
       "                var html_a4e3ea193558fb7cff7a6eebc0c284a3 = $(`&lt;div id=&quot;html_a4e3ea193558fb7cff7a6eebc0c284a3&quot; style=&quot;width: 100.0%; height: 100.0%;&quot;&gt;Nom de l&#x27;arrêt RUE DE LA GAITE &lt;br&gt; Nombre de vélos disponibles 0 &lt;br&gt; Nombre de places disponibles 0&lt;/div&gt;`)[0];\n",
       "                popup_b3a8541aefaf5c69bfa94ba9bd645361.setContent(html_a4e3ea193558fb7cff7a6eebc0c284a3);\n",
       "            \n",
       "        \n",
       "\n",
       "        marker_3c7659467275c16eb40ccd7a5f14a815.bindPopup(popup_b3a8541aefaf5c69bfa94ba9bd645361)\n",
       "        ;\n",
       "\n",
       "        \n",
       "    \n",
       "    \n",
       "            var marker_05c9cf99746f15be272be46e0263522c = L.marker(\n",
       "                [50.62972, 3.133873],\n",
       "                {}\n",
       "            ).addTo(map_6cfc0e4d35730cccc7872d39d9dc204b);\n",
       "        \n",
       "    \n",
       "        var popup_c2fe526030e625c260e773ec16e1cd8c = L.popup({&quot;maxWidth&quot;: &quot;100%&quot;});\n",
       "\n",
       "        \n",
       "            \n",
       "                var html_48cfcee9cfadad37ad7fbaa593a09141 = $(`&lt;div id=&quot;html_48cfcee9cfadad37ad7fbaa593a09141&quot; style=&quot;width: 100.0%; height: 100.0%;&quot;&gt;Nom de l&#x27;arrêt RUE CHAMBORD &lt;br&gt; Nombre de vélos disponibles 0 &lt;br&gt; Nombre de places disponibles 0&lt;/div&gt;`)[0];\n",
       "                popup_c2fe526030e625c260e773ec16e1cd8c.setContent(html_48cfcee9cfadad37ad7fbaa593a09141);\n",
       "            \n",
       "        \n",
       "\n",
       "        marker_05c9cf99746f15be272be46e0263522c.bindPopup(popup_c2fe526030e625c260e773ec16e1cd8c)\n",
       "        ;\n",
       "\n",
       "        \n",
       "    \n",
       "    \n",
       "            var marker_4b3d840ea56a5c826f393ba94b9e6523 = L.marker(\n",
       "                [50.623795, 3.144815],\n",
       "                {}\n",
       "            ).addTo(map_6cfc0e4d35730cccc7872d39d9dc204b);\n",
       "        \n",
       "    \n",
       "        var popup_04b5ba7343c2551c6b7d9b9ca29ad012 = L.popup({&quot;maxWidth&quot;: &quot;100%&quot;});\n",
       "\n",
       "        \n",
       "            \n",
       "                var html_0793fcae06edbf43dbfac908a9cc0728 = $(`&lt;div id=&quot;html_0793fcae06edbf43dbfac908a9cc0728&quot; style=&quot;width: 100.0%; height: 100.0%;&quot;&gt;Nom de l&#x27;arrêt RUE CORNEILLE &lt;br&gt; Nombre de vélos disponibles 0 &lt;br&gt; Nombre de places disponibles 14&lt;/div&gt;`)[0];\n",
       "                popup_04b5ba7343c2551c6b7d9b9ca29ad012.setContent(html_0793fcae06edbf43dbfac908a9cc0728);\n",
       "            \n",
       "        \n",
       "\n",
       "        marker_4b3d840ea56a5c826f393ba94b9e6523.bindPopup(popup_04b5ba7343c2551c6b7d9b9ca29ad012)\n",
       "        ;\n",
       "\n",
       "        \n",
       "    \n",
       "    \n",
       "            var marker_81e597f21492844a5e9537c7ae84a692 = L.marker(\n",
       "                [50.696327, 3.16713],\n",
       "                {}\n",
       "            ).addTo(map_6cfc0e4d35730cccc7872d39d9dc204b);\n",
       "        \n",
       "    \n",
       "        var popup_7df6bdea8d5b84d50280020da53ad106 = L.popup({&quot;maxWidth&quot;: &quot;100%&quot;});\n",
       "\n",
       "        \n",
       "            \n",
       "                var html_cc2b9c7c6124d03fa3249e14e2addf91 = $(`&lt;div id=&quot;html_cc2b9c7c6124d03fa3249e14e2addf91&quot; style=&quot;width: 100.0%; height: 100.0%;&quot;&gt;Nom de l&#x27;arrêt BLANCHEMAILLE &lt;br&gt; Nombre de vélos disponibles 0 &lt;br&gt; Nombre de places disponibles 0&lt;/div&gt;`)[0];\n",
       "                popup_7df6bdea8d5b84d50280020da53ad106.setContent(html_cc2b9c7c6124d03fa3249e14e2addf91);\n",
       "            \n",
       "        \n",
       "\n",
       "        marker_81e597f21492844a5e9537c7ae84a692.bindPopup(popup_7df6bdea8d5b84d50280020da53ad106)\n",
       "        ;\n",
       "\n",
       "        \n",
       "    \n",
       "    \n",
       "            var marker_0edfa5181c76ae6395a267ca6e7f0cee = L.marker(\n",
       "                [50.672503, 3.069332],\n",
       "                {}\n",
       "            ).addTo(map_6cfc0e4d35730cccc7872d39d9dc204b);\n",
       "        \n",
       "    \n",
       "        var popup_fee1869c8d4fb8d34de2578bddd86fdb = L.popup({&quot;maxWidth&quot;: &quot;100%&quot;});\n",
       "\n",
       "        \n",
       "            \n",
       "                var html_84167dbff8140145d27097b011e2141e = $(`&lt;div id=&quot;html_84167dbff8140145d27097b011e2141e&quot; style=&quot;width: 100.0%; height: 100.0%;&quot;&gt;Nom de l&#x27;arrêt SAINT ROCH &lt;br&gt; Nombre de vélos disponibles 13 &lt;br&gt; Nombre de places disponibles 7&lt;/div&gt;`)[0];\n",
       "                popup_fee1869c8d4fb8d34de2578bddd86fdb.setContent(html_84167dbff8140145d27097b011e2141e);\n",
       "            \n",
       "        \n",
       "\n",
       "        marker_0edfa5181c76ae6395a267ca6e7f0cee.bindPopup(popup_fee1869c8d4fb8d34de2578bddd86fdb)\n",
       "        ;\n",
       "\n",
       "        \n",
       "    \n",
       "    \n",
       "            var marker_58ed020a1e243d87ec995f3fe829d5f4 = L.marker(\n",
       "                [50.666236, 3.06415],\n",
       "                {}\n",
       "            ).addTo(map_6cfc0e4d35730cccc7872d39d9dc204b);\n",
       "        \n",
       "    \n",
       "        var popup_2b5e61fb5d3168bb3d58b4c414710ffc = L.popup({&quot;maxWidth&quot;: &quot;100%&quot;});\n",
       "\n",
       "        \n",
       "            \n",
       "                var html_09d1ac9ef63b1fff0ad3935c337fe5a2 = $(`&lt;div id=&quot;html_09d1ac9ef63b1fff0ad3935c337fe5a2&quot; style=&quot;width: 100.0%; height: 100.0%;&quot;&gt;Nom de l&#x27;arrêt PONT DE L&#x27;ABBAYE &lt;br&gt; Nombre de vélos disponibles 4 &lt;br&gt; Nombre de places disponibles 16&lt;/div&gt;`)[0];\n",
       "                popup_2b5e61fb5d3168bb3d58b4c414710ffc.setContent(html_09d1ac9ef63b1fff0ad3935c337fe5a2);\n",
       "            \n",
       "        \n",
       "\n",
       "        marker_58ed020a1e243d87ec995f3fe829d5f4.bindPopup(popup_2b5e61fb5d3168bb3d58b4c414710ffc)\n",
       "        ;\n",
       "\n",
       "        \n",
       "    \n",
       "    \n",
       "            var marker_354af6c7d87f53175d47531592d68902 = L.marker(\n",
       "                [50.611307, 2.994654],\n",
       "                {}\n",
       "            ).addTo(map_6cfc0e4d35730cccc7872d39d9dc204b);\n",
       "        \n",
       "    \n",
       "        var popup_8e12a0423b06582951bfeb9b7b42088b = L.popup({&quot;maxWidth&quot;: &quot;100%&quot;});\n",
       "\n",
       "        \n",
       "            \n",
       "                var html_df61553933bd77e944a77f5d2099cd68 = $(`&lt;div id=&quot;html_df61553933bd77e944a77f5d2099cd68&quot; style=&quot;width: 100.0%; height: 100.0%;&quot;&gt;Nom de l&#x27;arrêt SADI CARNOT &lt;br&gt; Nombre de vélos disponibles 6 &lt;br&gt; Nombre de places disponibles 14&lt;/div&gt;`)[0];\n",
       "                popup_8e12a0423b06582951bfeb9b7b42088b.setContent(html_df61553933bd77e944a77f5d2099cd68);\n",
       "            \n",
       "        \n",
       "\n",
       "        marker_354af6c7d87f53175d47531592d68902.bindPopup(popup_8e12a0423b06582951bfeb9b7b42088b)\n",
       "        ;\n",
       "\n",
       "        \n",
       "    \n",
       "    \n",
       "            var marker_b951a3e1adfe4337eb6e6779a8e37741 = L.marker(\n",
       "                [50.696909, 3.168664],\n",
       "                {}\n",
       "            ).addTo(map_6cfc0e4d35730cccc7872d39d9dc204b);\n",
       "        \n",
       "    \n",
       "        var popup_4a79553af62a2430fb2352b6998fcaa5 = L.popup({&quot;maxWidth&quot;: &quot;100%&quot;});\n",
       "\n",
       "        \n",
       "            \n",
       "                var html_bc0b42fea27796c7aac8787dbd864036 = $(`&lt;div id=&quot;html_bc0b42fea27796c7aac8787dbd864036&quot; style=&quot;width: 100.0%; height: 100.0%;&quot;&gt;Nom de l&#x27;arrêt BLANCHEMAILLE &lt;br&gt; Nombre de vélos disponibles 7 &lt;br&gt; Nombre de places disponibles 9&lt;/div&gt;`)[0];\n",
       "                popup_4a79553af62a2430fb2352b6998fcaa5.setContent(html_bc0b42fea27796c7aac8787dbd864036);\n",
       "            \n",
       "        \n",
       "\n",
       "        marker_b951a3e1adfe4337eb6e6779a8e37741.bindPopup(popup_4a79553af62a2430fb2352b6998fcaa5)\n",
       "        ;\n",
       "\n",
       "        \n",
       "    \n",
       "    \n",
       "            var marker_9079bf2a5afb83d8f1e6915cc2066dcc = L.marker(\n",
       "                [50.676665, 3.167315],\n",
       "                {}\n",
       "            ).addTo(map_6cfc0e4d35730cccc7872d39d9dc204b);\n",
       "        \n",
       "    \n",
       "        var popup_d7453938fae38c92325c8b9bb7900c2c = L.popup({&quot;maxWidth&quot;: &quot;100%&quot;});\n",
       "\n",
       "        \n",
       "            \n",
       "                var html_4d07642c5d9fcb8a9aa650f269c31c0f = $(`&lt;div id=&quot;html_4d07642c5d9fcb8a9aa650f269c31c0f&quot; style=&quot;width: 100.0%; height: 100.0%;&quot;&gt;Nom de l&#x27;arrêt DELORY BARBIEUX &lt;br&gt; Nombre de vélos disponibles 1 &lt;br&gt; Nombre de places disponibles 19&lt;/div&gt;`)[0];\n",
       "                popup_d7453938fae38c92325c8b9bb7900c2c.setContent(html_4d07642c5d9fcb8a9aa650f269c31c0f);\n",
       "            \n",
       "        \n",
       "\n",
       "        marker_9079bf2a5afb83d8f1e6915cc2066dcc.bindPopup(popup_d7453938fae38c92325c8b9bb7900c2c)\n",
       "        ;\n",
       "\n",
       "        \n",
       "    \n",
       "    \n",
       "            var marker_d4b6e09cc4cba55e5a918769284ebfdc = L.marker(\n",
       "                [50.664211, 3.130098],\n",
       "                {}\n",
       "            ).addTo(map_6cfc0e4d35730cccc7872d39d9dc204b);\n",
       "        \n",
       "    \n",
       "        var popup_38f3f69250d6574d0c4ebbbd573086e0 = L.popup({&quot;maxWidth&quot;: &quot;100%&quot;});\n",
       "\n",
       "        \n",
       "            \n",
       "                var html_e4544bad0b22659a9b28621ebdbc81af = $(`&lt;div id=&quot;html_e4544bad0b22659a9b28621ebdbc81af&quot; style=&quot;width: 100.0%; height: 100.0%;&quot;&gt;Nom de l&#x27;arrêt PAVÉ DE LILLE &lt;br&gt; Nombre de vélos disponibles 11 &lt;br&gt; Nombre de places disponibles 9&lt;/div&gt;`)[0];\n",
       "                popup_38f3f69250d6574d0c4ebbbd573086e0.setContent(html_e4544bad0b22659a9b28621ebdbc81af);\n",
       "            \n",
       "        \n",
       "\n",
       "        marker_d4b6e09cc4cba55e5a918769284ebfdc.bindPopup(popup_38f3f69250d6574d0c4ebbbd573086e0)\n",
       "        ;\n",
       "\n",
       "        \n",
       "    \n",
       "    \n",
       "            var marker_46f293e18292584a85de4108befe33e5 = L.marker(\n",
       "                [50.669917, 3.13075],\n",
       "                {}\n",
       "            ).addTo(map_6cfc0e4d35730cccc7872d39d9dc204b);\n",
       "        \n",
       "    \n",
       "        var popup_37018f9024cd114f027d9f94c19dc38d = L.popup({&quot;maxWidth&quot;: &quot;100%&quot;});\n",
       "\n",
       "        \n",
       "            \n",
       "                var html_719d2811f8356ccb2c0cf3c23ce98c3d = $(`&lt;div id=&quot;html_719d2811f8356ccb2c0cf3c23ce98c3d&quot; style=&quot;width: 100.0%; height: 100.0%;&quot;&gt;Nom de l&#x27;arrêt WASQUEHAL HOTEL DE VILLE &lt;br&gt; Nombre de vélos disponibles 7 &lt;br&gt; Nombre de places disponibles 13&lt;/div&gt;`)[0];\n",
       "                popup_37018f9024cd114f027d9f94c19dc38d.setContent(html_719d2811f8356ccb2c0cf3c23ce98c3d);\n",
       "            \n",
       "        \n",
       "\n",
       "        marker_46f293e18292584a85de4108befe33e5.bindPopup(popup_37018f9024cd114f027d9f94c19dc38d)\n",
       "        ;\n",
       "\n",
       "        \n",
       "    \n",
       "    \n",
       "            var marker_3df5df51de98f0945198bc9b6eed6c89 = L.marker(\n",
       "                [50.671609, 3.183066],\n",
       "                {}\n",
       "            ).addTo(map_6cfc0e4d35730cccc7872d39d9dc204b);\n",
       "        \n",
       "    \n",
       "        var popup_b4c573412f56e11e026eaaab67e4f0e0 = L.popup({&quot;maxWidth&quot;: &quot;100%&quot;});\n",
       "\n",
       "        \n",
       "            \n",
       "                var html_0cd2e8879c9007857cbf7528fc613f27 = $(`&lt;div id=&quot;html_0cd2e8879c9007857cbf7528fc613f27&quot; style=&quot;width: 100.0%; height: 100.0%;&quot;&gt;Nom de l&#x27;arrêt CHARLES FOURIER &lt;br&gt; Nombre de vélos disponibles 4 &lt;br&gt; Nombre de places disponibles 14&lt;/div&gt;`)[0];\n",
       "                popup_b4c573412f56e11e026eaaab67e4f0e0.setContent(html_0cd2e8879c9007857cbf7528fc613f27);\n",
       "            \n",
       "        \n",
       "\n",
       "        marker_3df5df51de98f0945198bc9b6eed6c89.bindPopup(popup_b4c573412f56e11e026eaaab67e4f0e0)\n",
       "        ;\n",
       "\n",
       "        \n",
       "    \n",
       "    \n",
       "            var marker_455563a5367cc715578ead08919ab87c = L.marker(\n",
       "                [50.670865, 3.198875],\n",
       "                {}\n",
       "            ).addTo(map_6cfc0e4d35730cccc7872d39d9dc204b);\n",
       "        \n",
       "    \n",
       "        var popup_f3b9e7a54dcbdaacd3fcb6dc4c5d8d6f = L.popup({&quot;maxWidth&quot;: &quot;100%&quot;});\n",
       "\n",
       "        \n",
       "            \n",
       "                var html_411c9323558127331f6777bc80654dee = $(`&lt;div id=&quot;html_411c9323558127331f6777bc80654dee&quot; style=&quot;width: 100.0%; height: 100.0%;&quot;&gt;Nom de l&#x27;arrêt PISCINE DES 3 VILLES &lt;br&gt; Nombre de vélos disponibles 5 &lt;br&gt; Nombre de places disponibles 9&lt;/div&gt;`)[0];\n",
       "                popup_f3b9e7a54dcbdaacd3fcb6dc4c5d8d6f.setContent(html_411c9323558127331f6777bc80654dee);\n",
       "            \n",
       "        \n",
       "\n",
       "        marker_455563a5367cc715578ead08919ab87c.bindPopup(popup_f3b9e7a54dcbdaacd3fcb6dc4c5d8d6f)\n",
       "        ;\n",
       "\n",
       "        \n",
       "    \n",
       "    \n",
       "            var marker_cb401bd0a6c8bfd0092db9f14955931f = L.marker(\n",
       "                [50.635929, 3.135558],\n",
       "                {}\n",
       "            ).addTo(map_6cfc0e4d35730cccc7872d39d9dc204b);\n",
       "        \n",
       "    \n",
       "        var popup_9a1ce933d1e8ce7c657786189d19f694 = L.popup({&quot;maxWidth&quot;: &quot;100%&quot;});\n",
       "\n",
       "        \n",
       "            \n",
       "                var html_a35b31949cea91b2e7a3edb9439ac745 = $(`&lt;div id=&quot;html_a35b31949cea91b2e7a3edb9439ac745&quot; style=&quot;width: 100.0%; height: 100.0%;&quot;&gt;Nom de l&#x27;arrêt CHATELLENIE &lt;br&gt; Nombre de vélos disponibles 9 &lt;br&gt; Nombre de places disponibles 11&lt;/div&gt;`)[0];\n",
       "                popup_9a1ce933d1e8ce7c657786189d19f694.setContent(html_a35b31949cea91b2e7a3edb9439ac745);\n",
       "            \n",
       "        \n",
       "\n",
       "        marker_cb401bd0a6c8bfd0092db9f14955931f.bindPopup(popup_9a1ce933d1e8ce7c657786189d19f694)\n",
       "        ;\n",
       "\n",
       "        \n",
       "    \n",
       "    \n",
       "            var marker_a7bfe1022af24fb453f6554dcd197a80 = L.marker(\n",
       "                [50.612389, 3.122953],\n",
       "                {}\n",
       "            ).addTo(map_6cfc0e4d35730cccc7872d39d9dc204b);\n",
       "        \n",
       "    \n",
       "        var popup_67ed6348b842e8f7e880db725c7f91b1 = L.popup({&quot;maxWidth&quot;: &quot;100%&quot;});\n",
       "\n",
       "        \n",
       "            \n",
       "                var html_102d9ce029546a40df243199e06c61c2 = $(`&lt;div id=&quot;html_102d9ce029546a40df243199e06c61c2&quot; style=&quot;width: 100.0%; height: 100.0%;&quot;&gt;Nom de l&#x27;arrêt 4 VENTS &lt;br&gt; Nombre de vélos disponibles 1 &lt;br&gt; Nombre de places disponibles 19&lt;/div&gt;`)[0];\n",
       "                popup_67ed6348b842e8f7e880db725c7f91b1.setContent(html_102d9ce029546a40df243199e06c61c2);\n",
       "            \n",
       "        \n",
       "\n",
       "        marker_a7bfe1022af24fb453f6554dcd197a80.bindPopup(popup_67ed6348b842e8f7e880db725c7f91b1)\n",
       "        ;\n",
       "\n",
       "        \n",
       "    \n",
       "    \n",
       "            var marker_9fd0924cc81dc8fa3a784ac099dc0a41 = L.marker(\n",
       "                [50.67441, 3.14721],\n",
       "                {}\n",
       "            ).addTo(map_6cfc0e4d35730cccc7872d39d9dc204b);\n",
       "        \n",
       "    \n",
       "        var popup_bb32bb001e6144ca564483b01d1dccd2 = L.popup({&quot;maxWidth&quot;: &quot;100%&quot;});\n",
       "\n",
       "        \n",
       "            \n",
       "                var html_d05abef09a592bcd026abd3cba7a2e54 = $(`&lt;div id=&quot;html_d05abef09a592bcd026abd3cba7a2e54&quot; style=&quot;width: 100.0%; height: 100.0%;&quot;&gt;Nom de l&#x27;arrêt CROIX CENTRE &lt;br&gt; Nombre de vélos disponibles 0 &lt;br&gt; Nombre de places disponibles 16&lt;/div&gt;`)[0];\n",
       "                popup_bb32bb001e6144ca564483b01d1dccd2.setContent(html_d05abef09a592bcd026abd3cba7a2e54);\n",
       "            \n",
       "        \n",
       "\n",
       "        marker_9fd0924cc81dc8fa3a784ac099dc0a41.bindPopup(popup_bb32bb001e6144ca564483b01d1dccd2)\n",
       "        ;\n",
       "\n",
       "        \n",
       "    \n",
       "    \n",
       "            var marker_e7cf4c1bd906ecbc63874378e7f3eaca = L.marker(\n",
       "                [50.6875, 3.1585592],\n",
       "                {}\n",
       "            ).addTo(map_6cfc0e4d35730cccc7872d39d9dc204b);\n",
       "        \n",
       "    \n",
       "        var popup_abba6a36c8754f5a72db48339cde4c17 = L.popup({&quot;maxWidth&quot;: &quot;100%&quot;});\n",
       "\n",
       "        \n",
       "            \n",
       "                var html_057d22c3a57fda7b531c1970f6dce497 = $(`&lt;div id=&quot;html_057d22c3a57fda7b531c1970f6dce497&quot; style=&quot;width: 100.0%; height: 100.0%;&quot;&gt;Nom de l&#x27;arrêt MAIRIE DE QUARTIER OUEST &lt;br&gt; Nombre de vélos disponibles 6 &lt;br&gt; Nombre de places disponibles 6&lt;/div&gt;`)[0];\n",
       "                popup_abba6a36c8754f5a72db48339cde4c17.setContent(html_057d22c3a57fda7b531c1970f6dce497);\n",
       "            \n",
       "        \n",
       "\n",
       "        marker_e7cf4c1bd906ecbc63874378e7f3eaca.bindPopup(popup_abba6a36c8754f5a72db48339cde4c17)\n",
       "        ;\n",
       "\n",
       "        \n",
       "    \n",
       "    \n",
       "            var marker_e4c4362bece434723bd6f3a74cf435b5 = L.marker(\n",
       "                [50.670155, 3.154898],\n",
       "                {}\n",
       "            ).addTo(map_6cfc0e4d35730cccc7872d39d9dc204b);\n",
       "        \n",
       "    \n",
       "        var popup_1bd3eb11177764931f75ac63cdc19bfd = L.popup({&quot;maxWidth&quot;: &quot;100%&quot;});\n",
       "\n",
       "        \n",
       "            \n",
       "                var html_7907611a6f8a262db4fe4499c44a10e4 = $(`&lt;div id=&quot;html_7907611a6f8a262db4fe4499c44a10e4&quot; style=&quot;width: 100.0%; height: 100.0%;&quot;&gt;Nom de l&#x27;arrêt FER À CHEVAL &lt;br&gt; Nombre de vélos disponibles 11 &lt;br&gt; Nombre de places disponibles 9&lt;/div&gt;`)[0];\n",
       "                popup_1bd3eb11177764931f75ac63cdc19bfd.setContent(html_7907611a6f8a262db4fe4499c44a10e4);\n",
       "            \n",
       "        \n",
       "\n",
       "        marker_e4c4362bece434723bd6f3a74cf435b5.bindPopup(popup_1bd3eb11177764931f75ac63cdc19bfd)\n",
       "        ;\n",
       "\n",
       "        \n",
       "    \n",
       "    \n",
       "            var marker_e597f924657c41e070f43cebbe8f203b = L.marker(\n",
       "                [50.667847, 3.192974],\n",
       "                {}\n",
       "            ).addTo(map_6cfc0e4d35730cccc7872d39d9dc204b);\n",
       "        \n",
       "    \n",
       "        var popup_e6fc0e697c5215f79896f3c981ddb66f = L.popup({&quot;maxWidth&quot;: &quot;100%&quot;});\n",
       "\n",
       "        \n",
       "            \n",
       "                var html_6b0065f66b2b0d44dc769d1837c3b684 = $(`&lt;div id=&quot;html_6b0065f66b2b0d44dc769d1837c3b684&quot; style=&quot;width: 100.0%; height: 100.0%;&quot;&gt;Nom de l&#x27;arrêt CALMETTE &lt;br&gt; Nombre de vélos disponibles 7 &lt;br&gt; Nombre de places disponibles 1&lt;/div&gt;`)[0];\n",
       "                popup_e6fc0e697c5215f79896f3c981ddb66f.setContent(html_6b0065f66b2b0d44dc769d1837c3b684);\n",
       "            \n",
       "        \n",
       "\n",
       "        marker_e597f924657c41e070f43cebbe8f203b.bindPopup(popup_e6fc0e697c5215f79896f3c981ddb66f)\n",
       "        ;\n",
       "\n",
       "        \n",
       "    \n",
       "    \n",
       "            var marker_9900168758d09541b88d8a9db61183b9 = L.marker(\n",
       "                [50.681779, 3.194129],\n",
       "                {}\n",
       "            ).addTo(map_6cfc0e4d35730cccc7872d39d9dc204b);\n",
       "        \n",
       "    \n",
       "        var popup_d394c98954170d9565d565ed2c348037 = L.popup({&quot;maxWidth&quot;: &quot;100%&quot;});\n",
       "\n",
       "        \n",
       "            \n",
       "                var html_1e1fcd9e679d6b61f0f9716d6288f4eb = $(`&lt;div id=&quot;html_1e1fcd9e679d6b61f0f9716d6288f4eb&quot; style=&quot;width: 100.0%; height: 100.0%;&quot;&gt;Nom de l&#x27;arrêt FRATERNITE &lt;br&gt; Nombre de vélos disponibles 6 &lt;br&gt; Nombre de places disponibles 10&lt;/div&gt;`)[0];\n",
       "                popup_d394c98954170d9565d565ed2c348037.setContent(html_1e1fcd9e679d6b61f0f9716d6288f4eb);\n",
       "            \n",
       "        \n",
       "\n",
       "        marker_9900168758d09541b88d8a9db61183b9.bindPopup(popup_d394c98954170d9565d565ed2c348037)\n",
       "        ;\n",
       "\n",
       "        \n",
       "    \n",
       "    \n",
       "            var marker_677eae580e1f38101fdcfb06ddd127e0 = L.marker(\n",
       "                [50.67869, 3.172558],\n",
       "                {}\n",
       "            ).addTo(map_6cfc0e4d35730cccc7872d39d9dc204b);\n",
       "        \n",
       "    \n",
       "        var popup_59990ad4f38d48fba72eaea20b102eff = L.popup({&quot;maxWidth&quot;: &quot;100%&quot;});\n",
       "\n",
       "        \n",
       "            \n",
       "                var html_186a9baa755148828cefe3a259675117 = $(`&lt;div id=&quot;html_186a9baa755148828cefe3a259675117&quot; style=&quot;width: 100.0%; height: 100.0%;&quot;&gt;Nom de l&#x27;arrêt HOPITAL VICTOR PROVO &lt;br&gt; Nombre de vélos disponibles 0 &lt;br&gt; Nombre de places disponibles 16&lt;/div&gt;`)[0];\n",
       "                popup_59990ad4f38d48fba72eaea20b102eff.setContent(html_186a9baa755148828cefe3a259675117);\n",
       "            \n",
       "        \n",
       "\n",
       "        marker_677eae580e1f38101fdcfb06ddd127e0.bindPopup(popup_59990ad4f38d48fba72eaea20b102eff)\n",
       "        ;\n",
       "\n",
       "        \n",
       "    \n",
       "    \n",
       "            var marker_d3c7f0f0089cbada72c69a4a2cb1e38e = L.marker(\n",
       "                [50.695563, 3.164242],\n",
       "                {}\n",
       "            ).addTo(map_6cfc0e4d35730cccc7872d39d9dc204b);\n",
       "        \n",
       "    \n",
       "        var popup_f56ef8d3a9e9231ae18358972f79b60a = L.popup({&quot;maxWidth&quot;: &quot;100%&quot;});\n",
       "\n",
       "        \n",
       "            \n",
       "                var html_9aa6331deb79d7127fa104692acc96d3 = $(`&lt;div id=&quot;html_9aa6331deb79d7127fa104692acc96d3&quot; style=&quot;width: 100.0%; height: 100.0%;&quot;&gt;Nom de l&#x27;arrêt GARE JEAN LEBAS &lt;br&gt; Nombre de vélos disponibles 0 &lt;br&gt; Nombre de places disponibles 17&lt;/div&gt;`)[0];\n",
       "                popup_f56ef8d3a9e9231ae18358972f79b60a.setContent(html_9aa6331deb79d7127fa104692acc96d3);\n",
       "            \n",
       "        \n",
       "\n",
       "        marker_d3c7f0f0089cbada72c69a4a2cb1e38e.bindPopup(popup_f56ef8d3a9e9231ae18358972f79b60a)\n",
       "        ;\n",
       "\n",
       "        \n",
       "    \n",
       "    \n",
       "            var marker_fb3132f4a374d4ddf9f6f3b7aa6c44b6 = L.marker(\n",
       "                [50.693768, 3.167666],\n",
       "                {}\n",
       "            ).addTo(map_6cfc0e4d35730cccc7872d39d9dc204b);\n",
       "        \n",
       "    \n",
       "        var popup_72cec37e56df3b128869e0f5cc8b3259 = L.popup({&quot;maxWidth&quot;: &quot;100%&quot;});\n",
       "\n",
       "        \n",
       "            \n",
       "                var html_de5bcf68f4db2750332ecd60fe957c8d = $(`&lt;div id=&quot;html_de5bcf68f4db2750332ecd60fe957c8d&quot; style=&quot;width: 100.0%; height: 100.0%;&quot;&gt;Nom de l&#x27;arrêt MUSEE ART ET INDUSTRIE &lt;br&gt; Nombre de vélos disponibles 0 &lt;br&gt; Nombre de places disponibles 14&lt;/div&gt;`)[0];\n",
       "                popup_72cec37e56df3b128869e0f5cc8b3259.setContent(html_de5bcf68f4db2750332ecd60fe957c8d);\n",
       "            \n",
       "        \n",
       "\n",
       "        marker_fb3132f4a374d4ddf9f6f3b7aa6c44b6.bindPopup(popup_72cec37e56df3b128869e0f5cc8b3259)\n",
       "        ;\n",
       "\n",
       "        \n",
       "    \n",
       "    \n",
       "            var marker_53e64695cf1b5d1bd890bef7bb3c8b24 = L.marker(\n",
       "                [50.699734, 3.174347],\n",
       "                {}\n",
       "            ).addTo(map_6cfc0e4d35730cccc7872d39d9dc204b);\n",
       "        \n",
       "    \n",
       "        var popup_7a692ffa3f51489199ff8f65b69dc7b6 = L.popup({&quot;maxWidth&quot;: &quot;100%&quot;});\n",
       "\n",
       "        \n",
       "            \n",
       "                var html_66d278e035324fda2c0414f1506f63d1 = $(`&lt;div id=&quot;html_66d278e035324fda2c0414f1506f63d1&quot; style=&quot;width: 100.0%; height: 100.0%;&quot;&gt;Nom de l&#x27;arrêt FOSSE AUX CHENES &lt;br&gt; Nombre de vélos disponibles 2 &lt;br&gt; Nombre de places disponibles 12&lt;/div&gt;`)[0];\n",
       "                popup_7a692ffa3f51489199ff8f65b69dc7b6.setContent(html_66d278e035324fda2c0414f1506f63d1);\n",
       "            \n",
       "        \n",
       "\n",
       "        marker_53e64695cf1b5d1bd890bef7bb3c8b24.bindPopup(popup_7a692ffa3f51489199ff8f65b69dc7b6)\n",
       "        ;\n",
       "\n",
       "        \n",
       "    \n",
       "    \n",
       "            var marker_2a0026d74a89f5e4f81aa810a02145a0 = L.marker(\n",
       "                [50.7004, 3.161378],\n",
       "                {}\n",
       "            ).addTo(map_6cfc0e4d35730cccc7872d39d9dc204b);\n",
       "        \n",
       "    \n",
       "        var popup_1d3bc84dd9df072b26563993fd119bad = L.popup({&quot;maxWidth&quot;: &quot;100%&quot;});\n",
       "\n",
       "        \n",
       "            \n",
       "                var html_84b5ec607a0a52594cbeffc4d76ae2f5 = $(`&lt;div id=&quot;html_84b5ec607a0a52594cbeffc4d76ae2f5&quot; style=&quot;width: 100.0%; height: 100.0%;&quot;&gt;Nom de l&#x27;arrêt ALSACE &lt;br&gt; Nombre de vélos disponibles 1 &lt;br&gt; Nombre de places disponibles 15&lt;/div&gt;`)[0];\n",
       "                popup_1d3bc84dd9df072b26563993fd119bad.setContent(html_84b5ec607a0a52594cbeffc4d76ae2f5);\n",
       "            \n",
       "        \n",
       "\n",
       "        marker_2a0026d74a89f5e4f81aa810a02145a0.bindPopup(popup_1d3bc84dd9df072b26563993fd119bad)\n",
       "        ;\n",
       "\n",
       "        \n",
       "    \n",
       "    \n",
       "            var marker_7784cb11dba138e9dd08ef20ff09fb65 = L.marker(\n",
       "                [50.694714, 3.192643],\n",
       "                {}\n",
       "            ).addTo(map_6cfc0e4d35730cccc7872d39d9dc204b);\n",
       "        \n",
       "    \n",
       "        var popup_4ccafbf68671c013ff38dd04a48c39c5 = L.popup({&quot;maxWidth&quot;: &quot;100%&quot;});\n",
       "\n",
       "        \n",
       "            \n",
       "                var html_5cf668335d27fccb20ca25b8191627dd = $(`&lt;div id=&quot;html_5cf668335d27fccb20ca25b8191627dd&quot; style=&quot;width: 100.0%; height: 100.0%;&quot;&gt;Nom de l&#x27;arrêt CHAPTAL &lt;br&gt; Nombre de vélos disponibles 6 &lt;br&gt; Nombre de places disponibles 6&lt;/div&gt;`)[0];\n",
       "                popup_4ccafbf68671c013ff38dd04a48c39c5.setContent(html_5cf668335d27fccb20ca25b8191627dd);\n",
       "            \n",
       "        \n",
       "\n",
       "        marker_7784cb11dba138e9dd08ef20ff09fb65.bindPopup(popup_4ccafbf68671c013ff38dd04a48c39c5)\n",
       "        ;\n",
       "\n",
       "        \n",
       "    \n",
       "    \n",
       "            var marker_58d2efcbea12cf8c68db0d6f1ca9fda0 = L.marker(\n",
       "                [50.719803, 3.156338],\n",
       "                {}\n",
       "            ).addTo(map_6cfc0e4d35730cccc7872d39d9dc204b);\n",
       "        \n",
       "    \n",
       "        var popup_5fad87aefded966d486ebb23f172b6a4 = L.popup({&quot;maxWidth&quot;: &quot;100%&quot;});\n",
       "\n",
       "        \n",
       "            \n",
       "                var html_c86e7f3d5958b909a20754101a08a80f = $(`&lt;div id=&quot;html_c86e7f3d5958b909a20754101a08a80f&quot; style=&quot;width: 100.0%; height: 100.0%;&quot;&gt;Nom de l&#x27;arrêt RUE DES ANGES &lt;br&gt; Nombre de vélos disponibles 0 &lt;br&gt; Nombre de places disponibles 0&lt;/div&gt;`)[0];\n",
       "                popup_5fad87aefded966d486ebb23f172b6a4.setContent(html_c86e7f3d5958b909a20754101a08a80f);\n",
       "            \n",
       "        \n",
       "\n",
       "        marker_58d2efcbea12cf8c68db0d6f1ca9fda0.bindPopup(popup_5fad87aefded966d486ebb23f172b6a4)\n",
       "        ;\n",
       "\n",
       "        \n",
       "    \n",
       "    \n",
       "            var marker_34e964f291c8f94bccc605900b378c2a = L.marker(\n",
       "                [50.720747, 3.152787],\n",
       "                {}\n",
       "            ).addTo(map_6cfc0e4d35730cccc7872d39d9dc204b);\n",
       "        \n",
       "    \n",
       "        var popup_2ee9af8f2b85d8ac0f2b45dd5e42359b = L.popup({&quot;maxWidth&quot;: &quot;100%&quot;});\n",
       "\n",
       "        \n",
       "            \n",
       "                var html_181af8ec48cc037580910f99b572a5e1 = $(`&lt;div id=&quot;html_181af8ec48cc037580910f99b572a5e1&quot; style=&quot;width: 100.0%; height: 100.0%;&quot;&gt;Nom de l&#x27;arrêt THEATRE TOURCOING &lt;br&gt; Nombre de vélos disponibles 1 &lt;br&gt; Nombre de places disponibles 8&lt;/div&gt;`)[0];\n",
       "                popup_2ee9af8f2b85d8ac0f2b45dd5e42359b.setContent(html_181af8ec48cc037580910f99b572a5e1);\n",
       "            \n",
       "        \n",
       "\n",
       "        marker_34e964f291c8f94bccc605900b378c2a.bindPopup(popup_2ee9af8f2b85d8ac0f2b45dd5e42359b)\n",
       "        ;\n",
       "\n",
       "        \n",
       "    \n",
       "    \n",
       "            var marker_0ca286a7e6405150103136bd9c40d24d = L.marker(\n",
       "                [50.730289, 3.167723],\n",
       "                {}\n",
       "            ).addTo(map_6cfc0e4d35730cccc7872d39d9dc204b);\n",
       "        \n",
       "    \n",
       "        var popup_8a017c6f2796e4eba81b5195b271c2a7 = L.popup({&quot;maxWidth&quot;: &quot;100%&quot;});\n",
       "\n",
       "        \n",
       "            \n",
       "                var html_72fea227c0a3d2ef28842b685bdd4c3c = $(`&lt;div id=&quot;html_72fea227c0a3d2ef28842b685bdd4c3c&quot; style=&quot;width: 100.0%; height: 100.0%;&quot;&gt;Nom de l&#x27;arrêt BVRD DE L EGALITE &lt;br&gt; Nombre de vélos disponibles 9 &lt;br&gt; Nombre de places disponibles 5&lt;/div&gt;`)[0];\n",
       "                popup_8a017c6f2796e4eba81b5195b271c2a7.setContent(html_72fea227c0a3d2ef28842b685bdd4c3c);\n",
       "            \n",
       "        \n",
       "\n",
       "        marker_0ca286a7e6405150103136bd9c40d24d.bindPopup(popup_8a017c6f2796e4eba81b5195b271c2a7)\n",
       "        ;\n",
       "\n",
       "        \n",
       "    \n",
       "    \n",
       "            var marker_392cb00f1f3181ad0768b60ee326851d = L.marker(\n",
       "                [50.71922, 3.163396],\n",
       "                {}\n",
       "            ).addTo(map_6cfc0e4d35730cccc7872d39d9dc204b);\n",
       "        \n",
       "    \n",
       "        var popup_c7f18569da76b37d61bb838e31ed8b90 = L.popup({&quot;maxWidth&quot;: &quot;100%&quot;});\n",
       "\n",
       "        \n",
       "            \n",
       "                var html_b72b09b08c8e9a732dba001e34b3808b = $(`&lt;div id=&quot;html_b72b09b08c8e9a732dba001e34b3808b&quot; style=&quot;width: 100.0%; height: 100.0%;&quot;&gt;Nom de l&#x27;arrêt POSTE &lt;br&gt; Nombre de vélos disponibles 0 &lt;br&gt; Nombre de places disponibles 6&lt;/div&gt;`)[0];\n",
       "                popup_c7f18569da76b37d61bb838e31ed8b90.setContent(html_b72b09b08c8e9a732dba001e34b3808b);\n",
       "            \n",
       "        \n",
       "\n",
       "        marker_392cb00f1f3181ad0768b60ee326851d.bindPopup(popup_c7f18569da76b37d61bb838e31ed8b90)\n",
       "        ;\n",
       "\n",
       "        \n",
       "    \n",
       "    \n",
       "            var marker_4c96ab0e754970d1af9fabb115c4a2be = L.marker(\n",
       "                [50.722343, 3.170847],\n",
       "                {}\n",
       "            ).addTo(map_6cfc0e4d35730cccc7872d39d9dc204b);\n",
       "        \n",
       "    \n",
       "        var popup_2bbd19534d76dcde6dd7d71717f7a624 = L.popup({&quot;maxWidth&quot;: &quot;100%&quot;});\n",
       "\n",
       "        \n",
       "            \n",
       "                var html_db8679c3db0fe159734ba4fa815098d9 = $(`&lt;div id=&quot;html_db8679c3db0fe159734ba4fa815098d9&quot; style=&quot;width: 100.0%; height: 100.0%;&quot;&gt;Nom de l&#x27;arrêt LE CORBUSIER &lt;br&gt; Nombre de vélos disponibles 6 &lt;br&gt; Nombre de places disponibles 12&lt;/div&gt;`)[0];\n",
       "                popup_2bbd19534d76dcde6dd7d71717f7a624.setContent(html_db8679c3db0fe159734ba4fa815098d9);\n",
       "            \n",
       "        \n",
       "\n",
       "        marker_4c96ab0e754970d1af9fabb115c4a2be.bindPopup(popup_2bbd19534d76dcde6dd7d71717f7a624)\n",
       "        ;\n",
       "\n",
       "        \n",
       "    \n",
       "    \n",
       "            var marker_244a1bf62badcf381b7054ecf5bbe750 = L.marker(\n",
       "                [50.636093, 3.050447],\n",
       "                {}\n",
       "            ).addTo(map_6cfc0e4d35730cccc7872d39d9dc204b);\n",
       "        \n",
       "    \n",
       "        var popup_a0874257d53aa49f4d42adaa0fe993cd = L.popup({&quot;maxWidth&quot;: &quot;100%&quot;});\n",
       "\n",
       "        \n",
       "            \n",
       "                var html_aaba884e79dd9005c045078fc5a47635 = $(`&lt;div id=&quot;html_aaba884e79dd9005c045078fc5a47635&quot; style=&quot;width: 100.0%; height: 100.0%;&quot;&gt;Nom de l&#x27;arrêt JARDIN VAUBAN &lt;br&gt; Nombre de vélos disponibles 5 &lt;br&gt; Nombre de places disponibles 13&lt;/div&gt;`)[0];\n",
       "                popup_a0874257d53aa49f4d42adaa0fe993cd.setContent(html_aaba884e79dd9005c045078fc5a47635);\n",
       "            \n",
       "        \n",
       "\n",
       "        marker_244a1bf62badcf381b7054ecf5bbe750.bindPopup(popup_a0874257d53aa49f4d42adaa0fe993cd)\n",
       "        ;\n",
       "\n",
       "        \n",
       "    \n",
       "    \n",
       "            var marker_54a985ce2215cc0c893735fe6b26ede9 = L.marker(\n",
       "                [50.630943, 3.060299],\n",
       "                {}\n",
       "            ).addTo(map_6cfc0e4d35730cccc7872d39d9dc204b);\n",
       "        \n",
       "    \n",
       "        var popup_4b71dbce149ac41d9a867f35d14983f5 = L.popup({&quot;maxWidth&quot;: &quot;100%&quot;});\n",
       "\n",
       "        \n",
       "            \n",
       "                var html_1b824876e63c617b5d7b246fb2a77c9d = $(`&lt;div id=&quot;html_1b824876e63c617b5d7b246fb2a77c9d&quot; style=&quot;width: 100.0%; height: 100.0%;&quot;&gt;Nom de l&#x27;arrêt REPUBLIQUE BEAUX ARTS &lt;br&gt; Nombre de vélos disponibles 10 &lt;br&gt; Nombre de places disponibles 14&lt;/div&gt;`)[0];\n",
       "                popup_4b71dbce149ac41d9a867f35d14983f5.setContent(html_1b824876e63c617b5d7b246fb2a77c9d);\n",
       "            \n",
       "        \n",
       "\n",
       "        marker_54a985ce2215cc0c893735fe6b26ede9.bindPopup(popup_4b71dbce149ac41d9a867f35d14983f5)\n",
       "        ;\n",
       "\n",
       "        \n",
       "    \n",
       "    \n",
       "            var marker_c0ac17219fe4ac8d4e8cf5052a99475b = L.marker(\n",
       "                [50.633728, 3.055307],\n",
       "                {}\n",
       "            ).addTo(map_6cfc0e4d35730cccc7872d39d9dc204b);\n",
       "        \n",
       "    \n",
       "        var popup_3c23371527bdf085b2433e6690030cf3 = L.popup({&quot;maxWidth&quot;: &quot;100%&quot;});\n",
       "\n",
       "        \n",
       "            \n",
       "                var html_f1b90af6de8ef67cf43797f75f3d69fb = $(`&lt;div id=&quot;html_f1b90af6de8ef67cf43797f75f3d69fb&quot; style=&quot;width: 100.0%; height: 100.0%;&quot;&gt;Nom de l&#x27;arrêt PLACE DE STRASBOURG &lt;br&gt; Nombre de vélos disponibles 0 &lt;br&gt; Nombre de places disponibles 16&lt;/div&gt;`)[0];\n",
       "                popup_3c23371527bdf085b2433e6690030cf3.setContent(html_f1b90af6de8ef67cf43797f75f3d69fb);\n",
       "            \n",
       "        \n",
       "\n",
       "        marker_c0ac17219fe4ac8d4e8cf5052a99475b.bindPopup(popup_3c23371527bdf085b2433e6690030cf3)\n",
       "        ;\n",
       "\n",
       "        \n",
       "    \n",
       "    \n",
       "            var marker_b3d4f4d3dea3da61cc727b6238a7001e = L.marker(\n",
       "                [50.632366, 3.062313],\n",
       "                {}\n",
       "            ).addTo(map_6cfc0e4d35730cccc7872d39d9dc204b);\n",
       "        \n",
       "    \n",
       "        var popup_c196b431a3ed5da64d4bfa4e908a6b27 = L.popup({&quot;maxWidth&quot;: &quot;100%&quot;});\n",
       "\n",
       "        \n",
       "            \n",
       "                var html_8b7d399dbf05733d9884c9f2f0c3e273 = $(`&lt;div id=&quot;html_8b7d399dbf05733d9884c9f2f0c3e273&quot; style=&quot;width: 100.0%; height: 100.0%;&quot;&gt;Nom de l&#x27;arrêt PLACE RICHEBE &lt;br&gt; Nombre de vélos disponibles 36 &lt;br&gt; Nombre de places disponibles 4&lt;/div&gt;`)[0];\n",
       "                popup_c196b431a3ed5da64d4bfa4e908a6b27.setContent(html_8b7d399dbf05733d9884c9f2f0c3e273);\n",
       "            \n",
       "        \n",
       "\n",
       "        marker_b3d4f4d3dea3da61cc727b6238a7001e.bindPopup(popup_c196b431a3ed5da64d4bfa4e908a6b27)\n",
       "        ;\n",
       "\n",
       "        \n",
       "    \n",
       "    \n",
       "            var marker_59da4ea6e0230453791eabe39df8cd64 = L.marker(\n",
       "                [50.63589, 3.062471],\n",
       "                {}\n",
       "            ).addTo(map_6cfc0e4d35730cccc7872d39d9dc204b);\n",
       "        \n",
       "    \n",
       "        var popup_da7154719565780084cc4c541939b913 = L.popup({&quot;maxWidth&quot;: &quot;100%&quot;});\n",
       "\n",
       "        \n",
       "            \n",
       "                var html_6373f8ef47c637b7cf7ae5c03a1563e1 = $(`&lt;div id=&quot;html_6373f8ef47c637b7cf7ae5c03a1563e1&quot; style=&quot;width: 100.0%; height: 100.0%;&quot;&gt;Nom de l&#x27;arrêt RIHOUR &lt;br&gt; Nombre de vélos disponibles 25 &lt;br&gt; Nombre de places disponibles 6&lt;/div&gt;`)[0];\n",
       "                popup_da7154719565780084cc4c541939b913.setContent(html_6373f8ef47c637b7cf7ae5c03a1563e1);\n",
       "            \n",
       "        \n",
       "\n",
       "        marker_59da4ea6e0230453791eabe39df8cd64.bindPopup(popup_da7154719565780084cc4c541939b913)\n",
       "        ;\n",
       "\n",
       "        \n",
       "    \n",
       "    \n",
       "            var marker_d08a660e69a3578987b484939be0f302 = L.marker(\n",
       "                [50.63671, 3.054773],\n",
       "                {}\n",
       "            ).addTo(map_6cfc0e4d35730cccc7872d39d9dc204b);\n",
       "        \n",
       "    \n",
       "        var popup_ad28484d1aba0fbb445b2e38b7f82610 = L.popup({&quot;maxWidth&quot;: &quot;100%&quot;});\n",
       "\n",
       "        \n",
       "            \n",
       "                var html_d35a5f6689034655353104efdd32eae2 = $(`&lt;div id=&quot;html_d35a5f6689034655353104efdd32eae2&quot; style=&quot;width: 100.0%; height: 100.0%;&quot;&gt;Nom de l&#x27;arrêt QUAI DU WAULT &lt;br&gt; Nombre de vélos disponibles 18 &lt;br&gt; Nombre de places disponibles 0&lt;/div&gt;`)[0];\n",
       "                popup_ad28484d1aba0fbb445b2e38b7f82610.setContent(html_d35a5f6689034655353104efdd32eae2);\n",
       "            \n",
       "        \n",
       "\n",
       "        marker_d08a660e69a3578987b484939be0f302.bindPopup(popup_ad28484d1aba0fbb445b2e38b7f82610)\n",
       "        ;\n",
       "\n",
       "        \n",
       "    \n",
       "    \n",
       "            var marker_13f657f3be902c9cf1ab63fdf6143e7e = L.marker(\n",
       "                [50.6449, 3.050645],\n",
       "                {}\n",
       "            ).addTo(map_6cfc0e4d35730cccc7872d39d9dc204b);\n",
       "        \n",
       "    \n",
       "        var popup_9a182cfc1f443c443fc980e04f41ee77 = L.popup({&quot;maxWidth&quot;: &quot;100%&quot;});\n",
       "\n",
       "        \n",
       "            \n",
       "                var html_6dfc9b3a3e02989051c11349d9261fa5 = $(`&lt;div id=&quot;html_6dfc9b3a3e02989051c11349d9261fa5&quot; style=&quot;width: 100.0%; height: 100.0%;&quot;&gt;Nom de l&#x27;arrêt ESPLANADE &lt;br&gt; Nombre de vélos disponibles 14 &lt;br&gt; Nombre de places disponibles 10&lt;/div&gt;`)[0];\n",
       "                popup_9a182cfc1f443c443fc980e04f41ee77.setContent(html_6dfc9b3a3e02989051c11349d9261fa5);\n",
       "            \n",
       "        \n",
       "\n",
       "        marker_13f657f3be902c9cf1ab63fdf6143e7e.bindPopup(popup_9a182cfc1f443c443fc980e04f41ee77)\n",
       "        ;\n",
       "\n",
       "        \n",
       "    \n",
       "    \n",
       "            var marker_f6da75b5b3dd81f1b9647d322a2e436c = L.marker(\n",
       "                [50.64193, 3.061774],\n",
       "                {}\n",
       "            ).addTo(map_6cfc0e4d35730cccc7872d39d9dc204b);\n",
       "        \n",
       "    \n",
       "        var popup_623fa1b3ec2aadcd267e06dfee7dd044 = L.popup({&quot;maxWidth&quot;: &quot;100%&quot;});\n",
       "\n",
       "        \n",
       "            \n",
       "                var html_d1651d0906a0db538d321221ede90b17 = $(`&lt;div id=&quot;html_d1651d0906a0db538d321221ede90b17&quot; style=&quot;width: 100.0%; height: 100.0%;&quot;&gt;Nom de l&#x27;arrêt PLACE DU CONCERT &lt;br&gt; Nombre de vélos disponibles 1 &lt;br&gt; Nombre de places disponibles 19&lt;/div&gt;`)[0];\n",
       "                popup_623fa1b3ec2aadcd267e06dfee7dd044.setContent(html_d1651d0906a0db538d321221ede90b17);\n",
       "            \n",
       "        \n",
       "\n",
       "        marker_f6da75b5b3dd81f1b9647d322a2e436c.bindPopup(popup_623fa1b3ec2aadcd267e06dfee7dd044)\n",
       "        ;\n",
       "\n",
       "        \n",
       "    \n",
       "    \n",
       "            var marker_72e41e137c65649976f3449aeb130d4e = L.marker(\n",
       "                [50.639107, 3.065767],\n",
       "                {}\n",
       "            ).addTo(map_6cfc0e4d35730cccc7872d39d9dc204b);\n",
       "        \n",
       "    \n",
       "        var popup_942a8ae1f2dc793136b36f3cbca74375 = L.popup({&quot;maxWidth&quot;: &quot;100%&quot;});\n",
       "\n",
       "        \n",
       "            \n",
       "                var html_79369af1c6c9d7ecdfcc834965e8292a = $(`&lt;div id=&quot;html_79369af1c6c9d7ecdfcc834965e8292a&quot; style=&quot;width: 100.0%; height: 100.0%;&quot;&gt;Nom de l&#x27;arrêt RUE DES ARTS &lt;br&gt; Nombre de vélos disponibles 3 &lt;br&gt; Nombre de places disponibles 15&lt;/div&gt;`)[0];\n",
       "                popup_942a8ae1f2dc793136b36f3cbca74375.setContent(html_79369af1c6c9d7ecdfcc834965e8292a);\n",
       "            \n",
       "        \n",
       "\n",
       "        marker_72e41e137c65649976f3449aeb130d4e.bindPopup(popup_942a8ae1f2dc793136b36f3cbca74375)\n",
       "        ;\n",
       "\n",
       "        \n",
       "    \n",
       "    \n",
       "            var marker_760884c65a300c71ca56577cb20a0d20 = L.marker(\n",
       "                [50.636399, 3.069354],\n",
       "                {}\n",
       "            ).addTo(map_6cfc0e4d35730cccc7872d39d9dc204b);\n",
       "        \n",
       "    \n",
       "        var popup_6078cde2cc10be002936abe22924c655 = L.popup({&quot;maxWidth&quot;: &quot;100%&quot;});\n",
       "\n",
       "        \n",
       "            \n",
       "                var html_b77992d02656c6428938279e4ba89c90 = $(`&lt;div id=&quot;html_b77992d02656c6428938279e4ba89c90&quot; style=&quot;width: 100.0%; height: 100.0%;&quot;&gt;Nom de l&#x27;arrêt GARE LILLE FLANDRES &lt;br&gt; Nombre de vélos disponibles 0 &lt;br&gt; Nombre de places disponibles 32&lt;/div&gt;`)[0];\n",
       "                popup_6078cde2cc10be002936abe22924c655.setContent(html_b77992d02656c6428938279e4ba89c90);\n",
       "            \n",
       "        \n",
       "\n",
       "        marker_760884c65a300c71ca56577cb20a0d20.bindPopup(popup_6078cde2cc10be002936abe22924c655)\n",
       "        ;\n",
       "\n",
       "        \n",
       "    \n",
       "    \n",
       "            var marker_db20dcc985507cb0a2f5474bb5c81b94 = L.marker(\n",
       "                [50.64142, 3.067873],\n",
       "                {}\n",
       "            ).addTo(map_6cfc0e4d35730cccc7872d39d9dc204b);\n",
       "        \n",
       "    \n",
       "        var popup_daebf4caf3755b2d6dafe52683630b10 = L.popup({&quot;maxWidth&quot;: &quot;100%&quot;});\n",
       "\n",
       "        \n",
       "            \n",
       "                var html_bfd9dc86a9dcc1cdabef56b2b73fa740 = $(`&lt;div id=&quot;html_bfd9dc86a9dcc1cdabef56b2b73fa740&quot; style=&quot;width: 100.0%; height: 100.0%;&quot;&gt;Nom de l&#x27;arrêt PLACE AUX BLEUETS &lt;br&gt; Nombre de vélos disponibles 9 &lt;br&gt; Nombre de places disponibles 7&lt;/div&gt;`)[0];\n",
       "                popup_daebf4caf3755b2d6dafe52683630b10.setContent(html_bfd9dc86a9dcc1cdabef56b2b73fa740);\n",
       "            \n",
       "        \n",
       "\n",
       "        marker_db20dcc985507cb0a2f5474bb5c81b94.bindPopup(popup_daebf4caf3755b2d6dafe52683630b10)\n",
       "        ;\n",
       "\n",
       "        \n",
       "    \n",
       "    \n",
       "            var marker_607debcfadff009412e25e9b613db180 = L.marker(\n",
       "                [50.62337, 3.037553],\n",
       "                {}\n",
       "            ).addTo(map_6cfc0e4d35730cccc7872d39d9dc204b);\n",
       "        \n",
       "    \n",
       "        var popup_351c9046f425a01c22c33d578c8e4622 = L.popup({&quot;maxWidth&quot;: &quot;100%&quot;});\n",
       "\n",
       "        \n",
       "            \n",
       "                var html_3d398f59d46d02dce61e449c1fa5f325 = $(`&lt;div id=&quot;html_3d398f59d46d02dce61e449c1fa5f325&quot; style=&quot;width: 100.0%; height: 100.0%;&quot;&gt;Nom de l&#x27;arrêt FULTON &lt;br&gt; Nombre de vélos disponibles 5 &lt;br&gt; Nombre de places disponibles 7&lt;/div&gt;`)[0];\n",
       "                popup_351c9046f425a01c22c33d578c8e4622.setContent(html_3d398f59d46d02dce61e449c1fa5f325);\n",
       "            \n",
       "        \n",
       "\n",
       "        marker_607debcfadff009412e25e9b613db180.bindPopup(popup_351c9046f425a01c22c33d578c8e4622)\n",
       "        ;\n",
       "\n",
       "        \n",
       "    \n",
       "    \n",
       "            var marker_4795f737cae56dded3f221ef4b8c0a12 = L.marker(\n",
       "                [50.62614, 3.051729],\n",
       "                {}\n",
       "            ).addTo(map_6cfc0e4d35730cccc7872d39d9dc204b);\n",
       "        \n",
       "    \n",
       "        var popup_7ec508bfa1c1a7540ecc572d28b778f9 = L.popup({&quot;maxWidth&quot;: &quot;100%&quot;});\n",
       "\n",
       "        \n",
       "            \n",
       "                var html_bbbb40b5098e32553dd6da6f718e1f0f = $(`&lt;div id=&quot;html_bbbb40b5098e32553dd6da6f718e1f0f&quot; style=&quot;width: 100.0%; height: 100.0%;&quot;&gt;Nom de l&#x27;arrêt METRO GAMBETTA &lt;br&gt; Nombre de vélos disponibles 17 &lt;br&gt; Nombre de places disponibles 11&lt;/div&gt;`)[0];\n",
       "                popup_7ec508bfa1c1a7540ecc572d28b778f9.setContent(html_bbbb40b5098e32553dd6da6f718e1f0f);\n",
       "            \n",
       "        \n",
       "\n",
       "        marker_4795f737cae56dded3f221ef4b8c0a12.bindPopup(popup_7ec508bfa1c1a7540ecc572d28b778f9)\n",
       "        ;\n",
       "\n",
       "        \n",
       "    \n",
       "    \n",
       "            var marker_1c129527c0196326ecd0a7457e2fe6b6 = L.marker(\n",
       "                [50.629044, 3.058288],\n",
       "                {}\n",
       "            ).addTo(map_6cfc0e4d35730cccc7872d39d9dc204b);\n",
       "        \n",
       "    \n",
       "        var popup_246cb5ed63efbe52c137484c3acd860f = L.popup({&quot;maxWidth&quot;: &quot;100%&quot;});\n",
       "\n",
       "        \n",
       "            \n",
       "                var html_7e8e652b3b9359aa2cb5355f6eec201a = $(`&lt;div id=&quot;html_7e8e652b3b9359aa2cb5355f6eec201a&quot; style=&quot;width: 100.0%; height: 100.0%;&quot;&gt;Nom de l&#x27;arrêt THEATRE SEBASTOPOL &lt;br&gt; Nombre de vélos disponibles 27 &lt;br&gt; Nombre de places disponibles 5&lt;/div&gt;`)[0];\n",
       "                popup_246cb5ed63efbe52c137484c3acd860f.setContent(html_7e8e652b3b9359aa2cb5355f6eec201a);\n",
       "            \n",
       "        \n",
       "\n",
       "        marker_1c129527c0196326ecd0a7457e2fe6b6.bindPopup(popup_246cb5ed63efbe52c137484c3acd860f)\n",
       "        ;\n",
       "\n",
       "        \n",
       "    \n",
       "    \n",
       "            var marker_e1c9b76b33f1db3db9238d920a314f92 = L.marker(\n",
       "                [50.629063, 3.053711],\n",
       "                {}\n",
       "            ).addTo(map_6cfc0e4d35730cccc7872d39d9dc204b);\n",
       "        \n",
       "    \n",
       "        var popup_53d236bf4cc0ffe56caf9ff2811d8abf = L.popup({&quot;maxWidth&quot;: &quot;100%&quot;});\n",
       "\n",
       "        \n",
       "            \n",
       "                var html_b2e43a7177f66333605a2b9b4057090c = $(`&lt;div id=&quot;html_b2e43a7177f66333605a2b9b4057090c&quot; style=&quot;width: 100.0%; height: 100.0%;&quot;&gt;Nom de l&#x27;arrêt GAMBETTA UTRECHT &lt;br&gt; Nombre de vélos disponibles 8 &lt;br&gt; Nombre de places disponibles 10&lt;/div&gt;`)[0];\n",
       "                popup_53d236bf4cc0ffe56caf9ff2811d8abf.setContent(html_b2e43a7177f66333605a2b9b4057090c);\n",
       "            \n",
       "        \n",
       "\n",
       "        marker_e1c9b76b33f1db3db9238d920a314f92.bindPopup(popup_53d236bf4cc0ffe56caf9ff2811d8abf)\n",
       "        ;\n",
       "\n",
       "        \n",
       "    \n",
       "    \n",
       "            var marker_053294b7a22dadbca2d919dcbbb3fba4 = L.marker(\n",
       "                [50.62276, 3.063799],\n",
       "                {}\n",
       "            ).addTo(map_6cfc0e4d35730cccc7872d39d9dc204b);\n",
       "        \n",
       "    \n",
       "        var popup_b7a7c108cdc86cab714345794c227b5c = L.popup({&quot;maxWidth&quot;: &quot;100%&quot;});\n",
       "\n",
       "        \n",
       "            \n",
       "                var html_535dfe92cc3aca97daca0f5924099252 = $(`&lt;div id=&quot;html_535dfe92cc3aca97daca0f5924099252&quot; style=&quot;width: 100.0%; height: 100.0%;&quot;&gt;Nom de l&#x27;arrêt PLACE COLETTE BESSON &lt;br&gt; Nombre de vélos disponibles 13 &lt;br&gt; Nombre de places disponibles 9&lt;/div&gt;`)[0];\n",
       "                popup_b7a7c108cdc86cab714345794c227b5c.setContent(html_535dfe92cc3aca97daca0f5924099252);\n",
       "            \n",
       "        \n",
       "\n",
       "        marker_053294b7a22dadbca2d919dcbbb3fba4.bindPopup(popup_b7a7c108cdc86cab714345794c227b5c)\n",
       "        ;\n",
       "\n",
       "        \n",
       "    \n",
       "    \n",
       "            var marker_94bdb4540c68b54fbb38f73cabf6b35b = L.marker(\n",
       "                [50.617847, 3.061758],\n",
       "                {}\n",
       "            ).addTo(map_6cfc0e4d35730cccc7872d39d9dc204b);\n",
       "        \n",
       "    \n",
       "        var popup_6c4abc67b2fd2ec401a96a6e1990724e = L.popup({&quot;maxWidth&quot;: &quot;100%&quot;});\n",
       "\n",
       "        \n",
       "            \n",
       "                var html_e3b8fef1514678cf9fa7527a1534718d = $(`&lt;div id=&quot;html_e3b8fef1514678cf9fa7527a1534718d&quot; style=&quot;width: 100.0%; height: 100.0%;&quot;&gt;Nom de l&#x27;arrêt PORTE D&#x27;ARRAS &lt;br&gt; Nombre de vélos disponibles 10 &lt;br&gt; Nombre de places disponibles 14&lt;/div&gt;`)[0];\n",
       "                popup_6c4abc67b2fd2ec401a96a6e1990724e.setContent(html_e3b8fef1514678cf9fa7527a1534718d);\n",
       "            \n",
       "        \n",
       "\n",
       "        marker_94bdb4540c68b54fbb38f73cabf6b35b.bindPopup(popup_6c4abc67b2fd2ec401a96a6e1990724e)\n",
       "        ;\n",
       "\n",
       "        \n",
       "    \n",
       "    \n",
       "            var marker_165452c0cef393a821c1146e5ee8bb36 = L.marker(\n",
       "                [50.634045, 3.030778],\n",
       "                {}\n",
       "            ).addTo(map_6cfc0e4d35730cccc7872d39d9dc204b);\n",
       "        \n",
       "    \n",
       "        var popup_0a9493b15e8ef58ff042871bb2f0041e = L.popup({&quot;maxWidth&quot;: &quot;100%&quot;});\n",
       "\n",
       "        \n",
       "            \n",
       "                var html_07879913fec4907d99f18c1273050d72 = $(`&lt;div id=&quot;html_07879913fec4907d99f18c1273050d72&quot; style=&quot;width: 100.0%; height: 100.0%;&quot;&gt;Nom de l&#x27;arrêt BOIS BLANCS &lt;br&gt; Nombre de vélos disponibles 15 &lt;br&gt; Nombre de places disponibles 7&lt;/div&gt;`)[0];\n",
       "                popup_0a9493b15e8ef58ff042871bb2f0041e.setContent(html_07879913fec4907d99f18c1273050d72);\n",
       "            \n",
       "        \n",
       "\n",
       "        marker_165452c0cef393a821c1146e5ee8bb36.bindPopup(popup_0a9493b15e8ef58ff042871bb2f0041e)\n",
       "        ;\n",
       "\n",
       "        \n",
       "    \n",
       "    \n",
       "            var marker_23e88d58c0b58919db16d7b784844948 = L.marker(\n",
       "                [50.632233, 3.046134],\n",
       "                {}\n",
       "            ).addTo(map_6cfc0e4d35730cccc7872d39d9dc204b);\n",
       "        \n",
       "    \n",
       "        var popup_a535b33b4866968769495d25630408b6 = L.popup({&quot;maxWidth&quot;: &quot;100%&quot;});\n",
       "\n",
       "        \n",
       "            \n",
       "                var html_23e749aeed3fa7817b59eca6874ebde1 = $(`&lt;div id=&quot;html_23e749aeed3fa7817b59eca6874ebde1&quot; style=&quot;width: 100.0%; height: 100.0%;&quot;&gt;Nom de l&#x27;arrêt UNIVERSITE CATHOLIQUE &lt;br&gt; Nombre de vélos disponibles 10 &lt;br&gt; Nombre de places disponibles 21&lt;/div&gt;`)[0];\n",
       "                popup_a535b33b4866968769495d25630408b6.setContent(html_23e749aeed3fa7817b59eca6874ebde1);\n",
       "            \n",
       "        \n",
       "\n",
       "        marker_23e88d58c0b58919db16d7b784844948.bindPopup(popup_a535b33b4866968769495d25630408b6)\n",
       "        ;\n",
       "\n",
       "        \n",
       "    \n",
       "    \n",
       "            var marker_34f1bf0ad27280101cfa5fed849e1780 = L.marker(\n",
       "                [50.624695, 3.048961],\n",
       "                {}\n",
       "            ).addTo(map_6cfc0e4d35730cccc7872d39d9dc204b);\n",
       "        \n",
       "    \n",
       "        var popup_7548f34a21b0aa15a0a0f6f0909baf60 = L.popup({&quot;maxWidth&quot;: &quot;100%&quot;});\n",
       "\n",
       "        \n",
       "            \n",
       "                var html_35c2be2a7ac5b7921be88ec3ecfff046 = $(`&lt;div id=&quot;html_35c2be2a7ac5b7921be88ec3ecfff046&quot; style=&quot;width: 100.0%; height: 100.0%;&quot;&gt;Nom de l&#x27;arrêt MAISON FOLIE WAZEMMES &lt;br&gt; Nombre de vélos disponibles 16 &lt;br&gt; Nombre de places disponibles 4&lt;/div&gt;`)[0];\n",
       "                popup_7548f34a21b0aa15a0a0f6f0909baf60.setContent(html_35c2be2a7ac5b7921be88ec3ecfff046);\n",
       "            \n",
       "        \n",
       "\n",
       "        marker_34f1bf0ad27280101cfa5fed849e1780.bindPopup(popup_7548f34a21b0aa15a0a0f6f0909baf60)\n",
       "        ;\n",
       "\n",
       "        \n",
       "    \n",
       "    \n",
       "            var marker_9a729883ebf2089146fd1f172f5321d2 = L.marker(\n",
       "                [50.63156, 3.054738],\n",
       "                {}\n",
       "            ).addTo(map_6cfc0e4d35730cccc7872d39d9dc204b);\n",
       "        \n",
       "    \n",
       "        var popup_b17391ed3256fa4d3d3fcbfcb8d62d31 = L.popup({&quot;maxWidth&quot;: &quot;100%&quot;});\n",
       "\n",
       "        \n",
       "            \n",
       "                var html_9a2cb279f698a9b134062ce228bfcaf7 = $(`&lt;div id=&quot;html_9a2cb279f698a9b134062ce228bfcaf7&quot; style=&quot;width: 100.0%; height: 100.0%;&quot;&gt;Nom de l&#x27;arrêt MASSENA &lt;br&gt; Nombre de vélos disponibles 5 &lt;br&gt; Nombre de places disponibles 35&lt;/div&gt;`)[0];\n",
       "                popup_b17391ed3256fa4d3d3fcbfcb8d62d31.setContent(html_9a2cb279f698a9b134062ce228bfcaf7);\n",
       "            \n",
       "        \n",
       "\n",
       "        marker_9a729883ebf2089146fd1f172f5321d2.bindPopup(popup_b17391ed3256fa4d3d3fcbfcb8d62d31)\n",
       "        ;\n",
       "\n",
       "        \n",
       "    \n",
       "    \n",
       "            var marker_71792d228c305f368ef062338628a65a = L.marker(\n",
       "                [50.63393, 3.044986],\n",
       "                {}\n",
       "            ).addTo(map_6cfc0e4d35730cccc7872d39d9dc204b);\n",
       "        \n",
       "    \n",
       "        var popup_e690aec4770fbaf0d5df8a1d3be79e4e = L.popup({&quot;maxWidth&quot;: &quot;100%&quot;});\n",
       "\n",
       "        \n",
       "            \n",
       "                var html_3f6c2e801f09759afc9454b1e1ff8706 = $(`&lt;div id=&quot;html_3f6c2e801f09759afc9454b1e1ff8706&quot; style=&quot;width: 100.0%; height: 100.0%;&quot;&gt;Nom de l&#x27;arrêt RUE DE TOUL &lt;br&gt; Nombre de vélos disponibles 16 &lt;br&gt; Nombre de places disponibles 20&lt;/div&gt;`)[0];\n",
       "                popup_e690aec4770fbaf0d5df8a1d3be79e4e.setContent(html_3f6c2e801f09759afc9454b1e1ff8706);\n",
       "            \n",
       "        \n",
       "\n",
       "        marker_71792d228c305f368ef062338628a65a.bindPopup(popup_e690aec4770fbaf0d5df8a1d3be79e4e)\n",
       "        ;\n",
       "\n",
       "        \n",
       "    \n",
       "    \n",
       "            var marker_d188b1bb3642186b0230d33d43e66ce9 = L.marker(\n",
       "                [50.63734, 3.060977],\n",
       "                {}\n",
       "            ).addTo(map_6cfc0e4d35730cccc7872d39d9dc204b);\n",
       "        \n",
       "    \n",
       "        var popup_b6829ab3deed45600f24cce2b8e7819c = L.popup({&quot;maxWidth&quot;: &quot;100%&quot;});\n",
       "\n",
       "        \n",
       "            \n",
       "                var html_4b99eb094ef2304fe6a70905598d8c89 = $(`&lt;div id=&quot;html_4b99eb094ef2304fe6a70905598d8c89&quot; style=&quot;width: 100.0%; height: 100.0%;&quot;&gt;Nom de l&#x27;arrêt NOUVEAU SIECLE &lt;br&gt; Nombre de vélos disponibles 15 &lt;br&gt; Nombre de places disponibles 17&lt;/div&gt;`)[0];\n",
       "                popup_b6829ab3deed45600f24cce2b8e7819c.setContent(html_4b99eb094ef2304fe6a70905598d8c89);\n",
       "            \n",
       "        \n",
       "\n",
       "        marker_d188b1bb3642186b0230d33d43e66ce9.bindPopup(popup_b6829ab3deed45600f24cce2b8e7819c)\n",
       "        ;\n",
       "\n",
       "        \n",
       "    \n",
       "    \n",
       "            var marker_2da4cc7598db2f9e8066b4937674bfd0 = L.marker(\n",
       "                [50.637486, 3.065902],\n",
       "                {}\n",
       "            ).addTo(map_6cfc0e4d35730cccc7872d39d9dc204b);\n",
       "        \n",
       "    \n",
       "        var popup_22d40e817b1f545f044df87c9345533b = L.popup({&quot;maxWidth&quot;: &quot;100%&quot;});\n",
       "\n",
       "        \n",
       "            \n",
       "                var html_c03004c0fa39bddef1eb817cdc3dd148 = $(`&lt;div id=&quot;html_c03004c0fa39bddef1eb817cdc3dd148&quot; style=&quot;width: 100.0%; height: 100.0%;&quot;&gt;Nom de l&#x27;arrêt OPERA &lt;br&gt; Nombre de vélos disponibles 16 &lt;br&gt; Nombre de places disponibles 8&lt;/div&gt;`)[0];\n",
       "                popup_22d40e817b1f545f044df87c9345533b.setContent(html_c03004c0fa39bddef1eb817cdc3dd148);\n",
       "            \n",
       "        \n",
       "\n",
       "        marker_2da4cc7598db2f9e8066b4937674bfd0.bindPopup(popup_22d40e817b1f545f044df87c9345533b)\n",
       "        ;\n",
       "\n",
       "        \n",
       "    \n",
       "    \n",
       "            var marker_7301fffe05e409f366b79576e840e7da = L.marker(\n",
       "                [50.63778, 3.050661],\n",
       "                {}\n",
       "            ).addTo(map_6cfc0e4d35730cccc7872d39d9dc204b);\n",
       "        \n",
       "    \n",
       "        var popup_0329df63ebb2544e62f26e0220824734 = L.popup({&quot;maxWidth&quot;: &quot;100%&quot;});\n",
       "\n",
       "        \n",
       "            \n",
       "                var html_8a2b69d26ef7cfdf9c2532e2c2cd7e30 = $(`&lt;div id=&quot;html_8a2b69d26ef7cfdf9c2532e2c2cd7e30&quot; style=&quot;width: 100.0%; height: 100.0%;&quot;&gt;Nom de l&#x27;arrêt CHAMP DE MARS &lt;br&gt; Nombre de vélos disponibles 21 &lt;br&gt; Nombre de places disponibles 19&lt;/div&gt;`)[0];\n",
       "                popup_0329df63ebb2544e62f26e0220824734.setContent(html_8a2b69d26ef7cfdf9c2532e2c2cd7e30);\n",
       "            \n",
       "        \n",
       "\n",
       "        marker_7301fffe05e409f366b79576e840e7da.bindPopup(popup_0329df63ebb2544e62f26e0220824734)\n",
       "        ;\n",
       "\n",
       "        \n",
       "    \n",
       "    \n",
       "            var marker_c09d5e9451afb4e9dd633a493ddddbf0 = L.marker(\n",
       "                [50.646225, 3.053499],\n",
       "                {}\n",
       "            ).addTo(map_6cfc0e4d35730cccc7872d39d9dc204b);\n",
       "        \n",
       "    \n",
       "        var popup_436e5d415bb052e4fb8499dc698203b7 = L.popup({&quot;maxWidth&quot;: &quot;100%&quot;});\n",
       "\n",
       "        \n",
       "            \n",
       "                var html_6ec8d21c90a203ae32dc944a0702d9f2 = $(`&lt;div id=&quot;html_6ec8d21c90a203ae32dc944a0702d9f2&quot; style=&quot;width: 100.0%; height: 100.0%;&quot;&gt;Nom de l&#x27;arrêt MAGASIN &lt;br&gt; Nombre de vélos disponibles 11 &lt;br&gt; Nombre de places disponibles 5&lt;/div&gt;`)[0];\n",
       "                popup_436e5d415bb052e4fb8499dc698203b7.setContent(html_6ec8d21c90a203ae32dc944a0702d9f2);\n",
       "            \n",
       "        \n",
       "\n",
       "        marker_c09d5e9451afb4e9dd633a493ddddbf0.bindPopup(popup_436e5d415bb052e4fb8499dc698203b7)\n",
       "        ;\n",
       "\n",
       "        \n",
       "    \n",
       "    \n",
       "            var marker_ad2b2f22727cd0f3461ac56b4af11680 = L.marker(\n",
       "                [50.644695, 3.060867],\n",
       "                {}\n",
       "            ).addTo(map_6cfc0e4d35730cccc7872d39d9dc204b);\n",
       "        \n",
       "    \n",
       "        var popup_0502f5db18f901138bef61711dd32a57 = L.popup({&quot;maxWidth&quot;: &quot;100%&quot;});\n",
       "\n",
       "        \n",
       "            \n",
       "                var html_308fc3190ce6b2e78523bb0587185f51 = $(`&lt;div id=&quot;html_308fc3190ce6b2e78523bb0587185f51&quot; style=&quot;width: 100.0%; height: 100.0%;&quot;&gt;Nom de l&#x27;arrêt HALLE AUX SUCRES &lt;br&gt; Nombre de vélos disponibles 9 &lt;br&gt; Nombre de places disponibles 10&lt;/div&gt;`)[0];\n",
       "                popup_0502f5db18f901138bef61711dd32a57.setContent(html_308fc3190ce6b2e78523bb0587185f51);\n",
       "            \n",
       "        \n",
       "\n",
       "        marker_ad2b2f22727cd0f3461ac56b4af11680.bindPopup(popup_0502f5db18f901138bef61711dd32a57)\n",
       "        ;\n",
       "\n",
       "        \n",
       "    \n",
       "    \n",
       "            var marker_b3487c449d63a1f8939b13a83f3a653c = L.marker(\n",
       "                [50.6428, 3.055932],\n",
       "                {}\n",
       "            ).addTo(map_6cfc0e4d35730cccc7872d39d9dc204b);\n",
       "        \n",
       "    \n",
       "        var popup_13afe9817e56ecc6e9b2231ae6020332 = L.popup({&quot;maxWidth&quot;: &quot;100%&quot;});\n",
       "\n",
       "        \n",
       "            \n",
       "                var html_38c24461201092d7dbc934c5f670236b = $(`&lt;div id=&quot;html_38c24461201092d7dbc934c5f670236b&quot; style=&quot;width: 100.0%; height: 100.0%;&quot;&gt;Nom de l&#x27;arrêt VOLTAIRE &lt;br&gt; Nombre de vélos disponibles 7 &lt;br&gt; Nombre de places disponibles 7&lt;/div&gt;`)[0];\n",
       "                popup_13afe9817e56ecc6e9b2231ae6020332.setContent(html_38c24461201092d7dbc934c5f670236b);\n",
       "            \n",
       "        \n",
       "\n",
       "        marker_b3487c449d63a1f8939b13a83f3a653c.bindPopup(popup_13afe9817e56ecc6e9b2231ae6020332)\n",
       "        ;\n",
       "\n",
       "        \n",
       "    \n",
       "    \n",
       "            var marker_188da193340d295b03f678f4dc7fcd5f = L.marker(\n",
       "                [50.64031, 3.05774],\n",
       "                {}\n",
       "            ).addTo(map_6cfc0e4d35730cccc7872d39d9dc204b);\n",
       "        \n",
       "    \n",
       "        var popup_363d184c347146376759eb5464e952df = L.popup({&quot;maxWidth&quot;: &quot;100%&quot;});\n",
       "\n",
       "        \n",
       "            \n",
       "                var html_895867315737ddc8deebac7698344307 = $(`&lt;div id=&quot;html_895867315737ddc8deebac7698344307&quot; style=&quot;width: 100.0%; height: 100.0%;&quot;&gt;Nom de l&#x27;arrêt RUE ROYALE &lt;br&gt; Nombre de vélos disponibles 12 &lt;br&gt; Nombre de places disponibles 12&lt;/div&gt;`)[0];\n",
       "                popup_363d184c347146376759eb5464e952df.setContent(html_895867315737ddc8deebac7698344307);\n",
       "            \n",
       "        \n",
       "\n",
       "        marker_188da193340d295b03f678f4dc7fcd5f.bindPopup(popup_363d184c347146376759eb5464e952df)\n",
       "        ;\n",
       "\n",
       "        \n",
       "    \n",
       "    \n",
       "            var marker_96204275ab90746427586622630777a0 = L.marker(\n",
       "                [50.640385, 3.062053],\n",
       "                {}\n",
       "            ).addTo(map_6cfc0e4d35730cccc7872d39d9dc204b);\n",
       "        \n",
       "    \n",
       "        var popup_ce6ce7d4b8333411fd55038b1b903587 = L.popup({&quot;maxWidth&quot;: &quot;100%&quot;});\n",
       "\n",
       "        \n",
       "            \n",
       "                var html_7e602d5ec42a65a656be7ee5faf61515 = $(`&lt;div id=&quot;html_7e602d5ec42a65a656be7ee5faf61515&quot; style=&quot;width: 100.0%; height: 100.0%;&quot;&gt;Nom de l&#x27;arrêt N.D. DE LA TREILLE &lt;br&gt; Nombre de vélos disponibles 23 &lt;br&gt; Nombre de places disponibles 7&lt;/div&gt;`)[0];\n",
       "                popup_ce6ce7d4b8333411fd55038b1b903587.setContent(html_7e602d5ec42a65a656be7ee5faf61515);\n",
       "            \n",
       "        \n",
       "\n",
       "        marker_96204275ab90746427586622630777a0.bindPopup(popup_ce6ce7d4b8333411fd55038b1b903587)\n",
       "        ;\n",
       "\n",
       "        \n",
       "    \n",
       "    \n",
       "            var marker_d442445e6d448988a5a37680ea23ac15 = L.marker(\n",
       "                [50.64144, 3.064974],\n",
       "                {}\n",
       "            ).addTo(map_6cfc0e4d35730cccc7872d39d9dc204b);\n",
       "        \n",
       "    \n",
       "        var popup_1bc1f6d249e602965d8ed6691e8b0d55 = L.popup({&quot;maxWidth&quot;: &quot;100%&quot;});\n",
       "\n",
       "        \n",
       "            \n",
       "                var html_a4144651c59557d7c2ac0258bb4f4310 = $(`&lt;div id=&quot;html_a4144651c59557d7c2ac0258bb4f4310&quot; style=&quot;width: 100.0%; height: 100.0%;&quot;&gt;Nom de l&#x27;arrêt LOUISE DE BETTIGNIES &lt;br&gt; Nombre de vélos disponibles 7 &lt;br&gt; Nombre de places disponibles 23&lt;/div&gt;`)[0];\n",
       "                popup_1bc1f6d249e602965d8ed6691e8b0d55.setContent(html_a4144651c59557d7c2ac0258bb4f4310);\n",
       "            \n",
       "        \n",
       "\n",
       "        marker_d442445e6d448988a5a37680ea23ac15.bindPopup(popup_1bc1f6d249e602965d8ed6691e8b0d55)\n",
       "        ;\n",
       "\n",
       "        \n",
       "    \n",
       "    \n",
       "            var marker_b2ae1a6366334ffbdff931c7cb04b28c = L.marker(\n",
       "                [50.637078, 3.070774],\n",
       "                {}\n",
       "            ).addTo(map_6cfc0e4d35730cccc7872d39d9dc204b);\n",
       "        \n",
       "    \n",
       "        var popup_84242246afdf50aca3821557c4eedb8a = L.popup({&quot;maxWidth&quot;: &quot;100%&quot;});\n",
       "\n",
       "        \n",
       "            \n",
       "                var html_2b30255b40dae860a83db741ae5e2f9b = $(`&lt;div id=&quot;html_2b30255b40dae860a83db741ae5e2f9b&quot; style=&quot;width: 100.0%; height: 100.0%;&quot;&gt;Nom de l&#x27;arrêt FLANDRES EURALILLE &lt;br&gt; Nombre de vélos disponibles 0 &lt;br&gt; Nombre de places disponibles 40&lt;/div&gt;`)[0];\n",
       "                popup_84242246afdf50aca3821557c4eedb8a.setContent(html_2b30255b40dae860a83db741ae5e2f9b);\n",
       "            \n",
       "        \n",
       "\n",
       "        marker_b2ae1a6366334ffbdff931c7cb04b28c.bindPopup(popup_84242246afdf50aca3821557c4eedb8a)\n",
       "        ;\n",
       "\n",
       "        \n",
       "    \n",
       "    \n",
       "            var marker_c56686c7254ab5abbd6413b990542530 = L.marker(\n",
       "                [50.63457, 3.068007],\n",
       "                {}\n",
       "            ).addTo(map_6cfc0e4d35730cccc7872d39d9dc204b);\n",
       "        \n",
       "    \n",
       "        var popup_7d09f3c5b5cd9822ea63fbc49fa0c1c6 = L.popup({&quot;maxWidth&quot;: &quot;100%&quot;});\n",
       "\n",
       "        \n",
       "            \n",
       "                var html_be0dd0e8bd447043e79f6117ce5e7e1b = $(`&lt;div id=&quot;html_be0dd0e8bd447043e79f6117ce5e7e1b&quot; style=&quot;width: 100.0%; height: 100.0%;&quot;&gt;Nom de l&#x27;arrêt MOLINEL &lt;br&gt; Nombre de vélos disponibles 11 &lt;br&gt; Nombre de places disponibles 11&lt;/div&gt;`)[0];\n",
       "                popup_7d09f3c5b5cd9822ea63fbc49fa0c1c6.setContent(html_be0dd0e8bd447043e79f6117ce5e7e1b);\n",
       "            \n",
       "        \n",
       "\n",
       "        marker_c56686c7254ab5abbd6413b990542530.bindPopup(popup_7d09f3c5b5cd9822ea63fbc49fa0c1c6)\n",
       "        ;\n",
       "\n",
       "        \n",
       "    \n",
       "    \n",
       "            var marker_c9136bede59fa5594711d0070b8411a4 = L.marker(\n",
       "                [50.635014, 3.064802],\n",
       "                {}\n",
       "            ).addTo(map_6cfc0e4d35730cccc7872d39d9dc204b);\n",
       "        \n",
       "    \n",
       "        var popup_87c3e3dbc301b918ebdaed9a71ff549d = L.popup({&quot;maxWidth&quot;: &quot;100%&quot;});\n",
       "\n",
       "        \n",
       "            \n",
       "                var html_08dcc6d9e5f01be16e42b880669299d7 = $(`&lt;div id=&quot;html_08dcc6d9e5f01be16e42b880669299d7&quot; style=&quot;width: 100.0%; height: 100.0%;&quot;&gt;Nom de l&#x27;arrêt TANNEURS &lt;br&gt; Nombre de vélos disponibles 26 &lt;br&gt; Nombre de places disponibles 10&lt;/div&gt;`)[0];\n",
       "                popup_87c3e3dbc301b918ebdaed9a71ff549d.setContent(html_08dcc6d9e5f01be16e42b880669299d7);\n",
       "            \n",
       "        \n",
       "\n",
       "        marker_c9136bede59fa5594711d0070b8411a4.bindPopup(popup_87c3e3dbc301b918ebdaed9a71ff549d)\n",
       "        ;\n",
       "\n",
       "        \n",
       "    \n",
       "    \n",
       "            var marker_d62f6244f677e16cd5a39586c1abfb0c = L.marker(\n",
       "                [50.634686, 3.048344],\n",
       "                {}\n",
       "            ).addTo(map_6cfc0e4d35730cccc7872d39d9dc204b);\n",
       "        \n",
       "    \n",
       "        var popup_906086a471bd5ecbbe671f2638280ccb = L.popup({&quot;maxWidth&quot;: &quot;100%&quot;});\n",
       "\n",
       "        \n",
       "            \n",
       "                var html_9abbee3433fa6df0833f6c2bdb5ce045 = $(`&lt;div id=&quot;html_9abbee3433fa6df0833f6c2bdb5ce045&quot; style=&quot;width: 100.0%; height: 100.0%;&quot;&gt;Nom de l&#x27;arrêt PALAIS RAMEAU &lt;br&gt; Nombre de vélos disponibles 24 &lt;br&gt; Nombre de places disponibles 16&lt;/div&gt;`)[0];\n",
       "                popup_906086a471bd5ecbbe671f2638280ccb.setContent(html_9abbee3433fa6df0833f6c2bdb5ce045);\n",
       "            \n",
       "        \n",
       "\n",
       "        marker_d62f6244f677e16cd5a39586c1abfb0c.bindPopup(popup_906086a471bd5ecbbe671f2638280ccb)\n",
       "        ;\n",
       "\n",
       "        \n",
       "    \n",
       "    \n",
       "            var marker_0950b46cf18e02f724c3e0e9e3805ac7 = L.marker(\n",
       "                [50.647236, 3.059376],\n",
       "                {}\n",
       "            ).addTo(map_6cfc0e4d35730cccc7872d39d9dc204b);\n",
       "        \n",
       "    \n",
       "        var popup_5b23e558c0ad5dbf2252b323028d699e = L.popup({&quot;maxWidth&quot;: &quot;100%&quot;});\n",
       "\n",
       "        \n",
       "            \n",
       "                var html_e03ac9ed37cd858c6574c989cfb3f641 = $(`&lt;div id=&quot;html_e03ac9ed37cd858c6574c989cfb3f641&quot; style=&quot;width: 100.0%; height: 100.0%;&quot;&gt;Nom de l&#x27;arrêt ST SEBASTIEN &lt;br&gt; Nombre de vélos disponibles 22 &lt;br&gt; Nombre de places disponibles 6&lt;/div&gt;`)[0];\n",
       "                popup_5b23e558c0ad5dbf2252b323028d699e.setContent(html_e03ac9ed37cd858c6574c989cfb3f641);\n",
       "            \n",
       "        \n",
       "\n",
       "        marker_0950b46cf18e02f724c3e0e9e3805ac7.bindPopup(popup_5b23e558c0ad5dbf2252b323028d699e)\n",
       "        ;\n",
       "\n",
       "        \n",
       "    \n",
       "    \n",
       "            var marker_06c0d54a3e2729d11be1738a12b204d2 = L.marker(\n",
       "                [50.64297, 3.067375],\n",
       "                {}\n",
       "            ).addTo(map_6cfc0e4d35730cccc7872d39d9dc204b);\n",
       "        \n",
       "    \n",
       "        var popup_3618115cd2a5df7305584a400d8fadc8 = L.popup({&quot;maxWidth&quot;: &quot;100%&quot;});\n",
       "\n",
       "        \n",
       "            \n",
       "                var html_9f296b9367f0e6e375e280d30a8d1a16 = $(`&lt;div id=&quot;html_9f296b9367f0e6e375e280d30a8d1a16&quot; style=&quot;width: 100.0%; height: 100.0%;&quot;&gt;Nom de l&#x27;arrêt RUE DE GAND &lt;br&gt; Nombre de vélos disponibles 3 &lt;br&gt; Nombre de places disponibles 16&lt;/div&gt;`)[0];\n",
       "                popup_3618115cd2a5df7305584a400d8fadc8.setContent(html_9f296b9367f0e6e375e280d30a8d1a16);\n",
       "            \n",
       "        \n",
       "\n",
       "        marker_06c0d54a3e2729d11be1738a12b204d2.bindPopup(popup_3618115cd2a5df7305584a400d8fadc8)\n",
       "        ;\n",
       "\n",
       "        \n",
       "    \n",
       "    \n",
       "            var marker_4e6397e3a4869d2eaa085a9442604c5d = L.marker(\n",
       "                [50.644264, 3.062935],\n",
       "                {}\n",
       "            ).addTo(map_6cfc0e4d35730cccc7872d39d9dc204b);\n",
       "        \n",
       "    \n",
       "        var popup_033a867d9324ecddde01799c50e1e4ce = L.popup({&quot;maxWidth&quot;: &quot;100%&quot;});\n",
       "\n",
       "        \n",
       "            \n",
       "                var html_0c2cc52ca5273e56204761c952676fc5 = $(`&lt;div id=&quot;html_0c2cc52ca5273e56204761c952676fc5&quot; style=&quot;width: 100.0%; height: 100.0%;&quot;&gt;Nom de l&#x27;arrêt PONT NEUF &lt;br&gt; Nombre de vélos disponibles 0 &lt;br&gt; Nombre de places disponibles 20&lt;/div&gt;`)[0];\n",
       "                popup_033a867d9324ecddde01799c50e1e4ce.setContent(html_0c2cc52ca5273e56204761c952676fc5);\n",
       "            \n",
       "        \n",
       "\n",
       "        marker_4e6397e3a4869d2eaa085a9442604c5d.bindPopup(popup_033a867d9324ecddde01799c50e1e4ce)\n",
       "        ;\n",
       "\n",
       "        \n",
       "    \n",
       "    \n",
       "            var marker_46ea7159a27a10a3b27d39a6ffd98370 = L.marker(\n",
       "                [50.63022, 3.035681],\n",
       "                {}\n",
       "            ).addTo(map_6cfc0e4d35730cccc7872d39d9dc204b);\n",
       "        \n",
       "    \n",
       "        var popup_5fb548c19fe91c96889a5e6f6087f78a = L.popup({&quot;maxWidth&quot;: &quot;100%&quot;});\n",
       "\n",
       "        \n",
       "            \n",
       "                var html_84c9af3c34b034fdea031595b38cab7e = $(`&lt;div id=&quot;html_84c9af3c34b034fdea031595b38cab7e&quot; style=&quot;width: 100.0%; height: 100.0%;&quot;&gt;Nom de l&#x27;arrêt PORT DE LILLE &lt;br&gt; Nombre de vélos disponibles 12 &lt;br&gt; Nombre de places disponibles 14&lt;/div&gt;`)[0];\n",
       "                popup_5fb548c19fe91c96889a5e6f6087f78a.setContent(html_84c9af3c34b034fdea031595b38cab7e);\n",
       "            \n",
       "        \n",
       "\n",
       "        marker_46ea7159a27a10a3b27d39a6ffd98370.bindPopup(popup_5fb548c19fe91c96889a5e6f6087f78a)\n",
       "        ;\n",
       "\n",
       "        \n",
       "    \n",
       "    \n",
       "            var marker_6686cc02303060b12f4635e9efa51aa8 = L.marker(\n",
       "                [50.63413, 3.041209],\n",
       "                {}\n",
       "            ).addTo(map_6cfc0e4d35730cccc7872d39d9dc204b);\n",
       "        \n",
       "    \n",
       "        var popup_128dd1dfff9e8eda6d267c9782f97236 = L.popup({&quot;maxWidth&quot;: &quot;100%&quot;});\n",
       "\n",
       "        \n",
       "            \n",
       "                var html_e8c43928e4af5b96b48a848aca24b474 = $(`&lt;div id=&quot;html_e8c43928e4af5b96b48a848aca24b474&quot; style=&quot;width: 100.0%; height: 100.0%;&quot;&gt;Nom de l&#x27;arrêt PLACE CATINAT &lt;br&gt; Nombre de vélos disponibles 9 &lt;br&gt; Nombre de places disponibles 11&lt;/div&gt;`)[0];\n",
       "                popup_128dd1dfff9e8eda6d267c9782f97236.setContent(html_e8c43928e4af5b96b48a848aca24b474);\n",
       "            \n",
       "        \n",
       "\n",
       "        marker_6686cc02303060b12f4635e9efa51aa8.bindPopup(popup_128dd1dfff9e8eda6d267c9782f97236)\n",
       "        ;\n",
       "\n",
       "        \n",
       "    \n",
       "    \n",
       "            var marker_0ef679897f42eced4067a07fc2ca6e1a = L.marker(\n",
       "                [50.62899, 3.043307],\n",
       "                {}\n",
       "            ).addTo(map_6cfc0e4d35730cccc7872d39d9dc204b);\n",
       "        \n",
       "    \n",
       "        var popup_bbabd244828ee2c70f01206537cc3986 = L.popup({&quot;maxWidth&quot;: &quot;100%&quot;});\n",
       "\n",
       "        \n",
       "            \n",
       "                var html_3e8ec1225ff6e187fe1f4d5866332455 = $(`&lt;div id=&quot;html_3e8ec1225ff6e187fe1f4d5866332455&quot; style=&quot;width: 100.0%; height: 100.0%;&quot;&gt;Nom de l&#x27;arrêt LECLERC &lt;br&gt; Nombre de vélos disponibles 6 &lt;br&gt; Nombre de places disponibles 21&lt;/div&gt;`)[0];\n",
       "                popup_bbabd244828ee2c70f01206537cc3986.setContent(html_3e8ec1225ff6e187fe1f4d5866332455);\n",
       "            \n",
       "        \n",
       "\n",
       "        marker_0ef679897f42eced4067a07fc2ca6e1a.bindPopup(popup_bbabd244828ee2c70f01206537cc3986)\n",
       "        ;\n",
       "\n",
       "        \n",
       "    \n",
       "    \n",
       "            var marker_15eb22d43c43922fcdd413e634e869fe = L.marker(\n",
       "                [50.62624, 3.039911],\n",
       "                {}\n",
       "            ).addTo(map_6cfc0e4d35730cccc7872d39d9dc204b);\n",
       "        \n",
       "    \n",
       "        var popup_64cbf653950a40a0d058e67d52b38060 = L.popup({&quot;maxWidth&quot;: &quot;100%&quot;});\n",
       "\n",
       "        \n",
       "            \n",
       "                var html_e005fee6840679dc5c784ad5831c3974 = $(`&lt;div id=&quot;html_e005fee6840679dc5c784ad5831c3974&quot; style=&quot;width: 100.0%; height: 100.0%;&quot;&gt;Nom de l&#x27;arrêt CORMONTAIGNE &lt;br&gt; Nombre de vélos disponibles 17 &lt;br&gt; Nombre de places disponibles 19&lt;/div&gt;`)[0];\n",
       "                popup_64cbf653950a40a0d058e67d52b38060.setContent(html_e005fee6840679dc5c784ad5831c3974);\n",
       "            \n",
       "        \n",
       "\n",
       "        marker_15eb22d43c43922fcdd413e634e869fe.bindPopup(popup_64cbf653950a40a0d058e67d52b38060)\n",
       "        ;\n",
       "\n",
       "        \n",
       "    \n",
       "    \n",
       "            var marker_e00cc69159880057dff10ae6c28ca8a4 = L.marker(\n",
       "                [50.62429, 3.045321],\n",
       "                {}\n",
       "            ).addTo(map_6cfc0e4d35730cccc7872d39d9dc204b);\n",
       "        \n",
       "    \n",
       "        var popup_57729aa30695966ca460a3ef4f09d489 = L.popup({&quot;maxWidth&quot;: &quot;100%&quot;});\n",
       "\n",
       "        \n",
       "            \n",
       "                var html_9b7eebfabf9a10ac5b6cfc4875d2c5ad = $(`&lt;div id=&quot;html_9b7eebfabf9a10ac5b6cfc4875d2c5ad&quot; style=&quot;width: 100.0%; height: 100.0%;&quot;&gt;Nom de l&#x27;arrêt PLACE CASQUETTE &lt;br&gt; Nombre de vélos disponibles 6 &lt;br&gt; Nombre de places disponibles 12&lt;/div&gt;`)[0];\n",
       "                popup_57729aa30695966ca460a3ef4f09d489.setContent(html_9b7eebfabf9a10ac5b6cfc4875d2c5ad);\n",
       "            \n",
       "        \n",
       "\n",
       "        marker_e00cc69159880057dff10ae6c28ca8a4.bindPopup(popup_57729aa30695966ca460a3ef4f09d489)\n",
       "        ;\n",
       "\n",
       "        \n",
       "    \n",
       "    \n",
       "            var marker_fd234ef121084c0b8a86a126c6c31fea = L.marker(\n",
       "                [50.627674, 3.050173],\n",
       "                {}\n",
       "            ).addTo(map_6cfc0e4d35730cccc7872d39d9dc204b);\n",
       "        \n",
       "    \n",
       "        var popup_43cfd2d5d0950c40036ae6640d0aeea2 = L.popup({&quot;maxWidth&quot;: &quot;100%&quot;});\n",
       "\n",
       "        \n",
       "            \n",
       "                var html_66ce832648b18b32dc166080612eaf4c = $(`&lt;div id=&quot;html_66ce832648b18b32dc166080612eaf4c&quot; style=&quot;width: 100.0%; height: 100.0%;&quot;&gt;Nom de l&#x27;arrêt MARCHE DE WAZEMMES &lt;br&gt; Nombre de vélos disponibles 7 &lt;br&gt; Nombre de places disponibles 16&lt;/div&gt;`)[0];\n",
       "                popup_43cfd2d5d0950c40036ae6640d0aeea2.setContent(html_66ce832648b18b32dc166080612eaf4c);\n",
       "            \n",
       "        \n",
       "\n",
       "        marker_fd234ef121084c0b8a86a126c6c31fea.bindPopup(popup_43cfd2d5d0950c40036ae6640d0aeea2)\n",
       "        ;\n",
       "\n",
       "        \n",
       "    \n",
       "    \n",
       "            var marker_2a72b1e4ba15548f7ac756318f1b04f9 = L.marker(\n",
       "                [50.656487, 3.088004],\n",
       "                {}\n",
       "            ).addTo(map_6cfc0e4d35730cccc7872d39d9dc204b);\n",
       "        \n",
       "    \n",
       "        var popup_ed4dffa9f425ed820b91a2a6ae891cc8 = L.popup({&quot;maxWidth&quot;: &quot;100%&quot;});\n",
       "\n",
       "        \n",
       "            \n",
       "                var html_3850170fb87e42b0f040ee8963298d6f = $(`&lt;div id=&quot;html_3850170fb87e42b0f040ee8963298d6f&quot; style=&quot;width: 100.0%; height: 100.0%;&quot;&gt;Nom de l&#x27;arrêt BUISSON &lt;br&gt; Nombre de vélos disponibles 3 &lt;br&gt; Nombre de places disponibles 13&lt;/div&gt;`)[0];\n",
       "                popup_ed4dffa9f425ed820b91a2a6ae891cc8.setContent(html_3850170fb87e42b0f040ee8963298d6f);\n",
       "            \n",
       "        \n",
       "\n",
       "        marker_2a72b1e4ba15548f7ac756318f1b04f9.bindPopup(popup_ed4dffa9f425ed820b91a2a6ae891cc8)\n",
       "        ;\n",
       "\n",
       "        \n",
       "    \n",
       "    \n",
       "            var marker_e5367f7abca4e2355866795d0b292cd5 = L.marker(\n",
       "                [50.62789, 3.06209],\n",
       "                {}\n",
       "            ).addTo(map_6cfc0e4d35730cccc7872d39d9dc204b);\n",
       "        \n",
       "    \n",
       "        var popup_336c888c7152f5eb643bb09c731b1b1c = L.popup({&quot;maxWidth&quot;: &quot;100%&quot;});\n",
       "\n",
       "        \n",
       "            \n",
       "                var html_0e166be5cfc3f24f4b4c8c0dff897fa9 = $(`&lt;div id=&quot;html_0e166be5cfc3f24f4b4c8c0dff897fa9&quot; style=&quot;width: 100.0%; height: 100.0%;&quot;&gt;Nom de l&#x27;arrêt PLACE PHILIPPE LEBON &lt;br&gt; Nombre de vélos disponibles 18 &lt;br&gt; Nombre de places disponibles 0&lt;/div&gt;`)[0];\n",
       "                popup_336c888c7152f5eb643bb09c731b1b1c.setContent(html_0e166be5cfc3f24f4b4c8c0dff897fa9);\n",
       "            \n",
       "        \n",
       "\n",
       "        marker_e5367f7abca4e2355866795d0b292cd5.bindPopup(popup_336c888c7152f5eb643bb09c731b1b1c)\n",
       "        ;\n",
       "\n",
       "        \n",
       "    \n",
       "    \n",
       "            var marker_52bbbe95afa9d700f7c151394a97fc17 = L.marker(\n",
       "                [50.62633, 3.05659],\n",
       "                {}\n",
       "            ).addTo(map_6cfc0e4d35730cccc7872d39d9dc204b);\n",
       "        \n",
       "    \n",
       "        var popup_039e69ab3a1635b2fcfae3c17c962abb = L.popup({&quot;maxWidth&quot;: &quot;100%&quot;});\n",
       "\n",
       "        \n",
       "            \n",
       "                var html_91079de7560057944ffe66941d6ca90e = $(`&lt;div id=&quot;html_91079de7560057944ffe66941d6ca90e&quot; style=&quot;width: 100.0%; height: 100.0%;&quot;&gt;Nom de l&#x27;arrêt BRULE MAISON &lt;br&gt; Nombre de vélos disponibles 9 &lt;br&gt; Nombre de places disponibles 9&lt;/div&gt;`)[0];\n",
       "                popup_039e69ab3a1635b2fcfae3c17c962abb.setContent(html_91079de7560057944ffe66941d6ca90e);\n",
       "            \n",
       "        \n",
       "\n",
       "        marker_52bbbe95afa9d700f7c151394a97fc17.bindPopup(popup_039e69ab3a1635b2fcfae3c17c962abb)\n",
       "        ;\n",
       "\n",
       "        \n",
       "    \n",
       "    \n",
       "            var marker_67a4ec4e1f25f5893d0844265576a5fb = L.marker(\n",
       "                [50.62629, 3.061198],\n",
       "                {}\n",
       "            ).addTo(map_6cfc0e4d35730cccc7872d39d9dc204b);\n",
       "        \n",
       "    \n",
       "        var popup_a309346f03619d5040e88c59b93f7cbc = L.popup({&quot;maxWidth&quot;: &quot;100%&quot;});\n",
       "\n",
       "        \n",
       "            \n",
       "                var html_a32a24f99e6c7d915aaff37eac4f0652 = $(`&lt;div id=&quot;html_a32a24f99e6c7d915aaff37eac4f0652&quot; style=&quot;width: 100.0%; height: 100.0%;&quot;&gt;Nom de l&#x27;arrêt ARTOIS &lt;br&gt; Nombre de vélos disponibles 0 &lt;br&gt; Nombre de places disponibles 1&lt;/div&gt;`)[0];\n",
       "                popup_a309346f03619d5040e88c59b93f7cbc.setContent(html_a32a24f99e6c7d915aaff37eac4f0652);\n",
       "            \n",
       "        \n",
       "\n",
       "        marker_67a4ec4e1f25f5893d0844265576a5fb.bindPopup(popup_a309346f03619d5040e88c59b93f7cbc)\n",
       "        ;\n",
       "\n",
       "        \n",
       "    \n",
       "    \n",
       "            var marker_ed7f8af940626cf9d8189914957a4446 = L.marker(\n",
       "                [50.62816, 3.069797],\n",
       "                {}\n",
       "            ).addTo(map_6cfc0e4d35730cccc7872d39d9dc204b);\n",
       "        \n",
       "    \n",
       "        var popup_5da6dc349b519ef058fa618c4d2f5acd = L.popup({&quot;maxWidth&quot;: &quot;100%&quot;});\n",
       "\n",
       "        \n",
       "            \n",
       "                var html_318f21f964c3ef88ea3d6e1dd25bec2b = $(`&lt;div id=&quot;html_318f21f964c3ef88ea3d6e1dd25bec2b&quot; style=&quot;width: 100.0%; height: 100.0%;&quot;&gt;Nom de l&#x27;arrêt BOULEVARD LOUIS XIV &lt;br&gt; Nombre de vélos disponibles 12 &lt;br&gt; Nombre de places disponibles 14&lt;/div&gt;`)[0];\n",
       "                popup_5da6dc349b519ef058fa618c4d2f5acd.setContent(html_318f21f964c3ef88ea3d6e1dd25bec2b);\n",
       "            \n",
       "        \n",
       "\n",
       "        marker_ed7f8af940626cf9d8189914957a4446.bindPopup(popup_5da6dc349b519ef058fa618c4d2f5acd)\n",
       "        ;\n",
       "\n",
       "        \n",
       "    \n",
       "    \n",
       "            var marker_281fae268ba3f2cdc96f501c5c0015f8 = L.marker(\n",
       "                [50.61843, 3.07241],\n",
       "                {}\n",
       "            ).addTo(map_6cfc0e4d35730cccc7872d39d9dc204b);\n",
       "        \n",
       "    \n",
       "        var popup_6e2fc1f678b182c2a84627f189f341bc = L.popup({&quot;maxWidth&quot;: &quot;100%&quot;});\n",
       "\n",
       "        \n",
       "            \n",
       "                var html_a1fb44459555d67773aa9182b51854fc = $(`&lt;div id=&quot;html_a1fb44459555d67773aa9182b51854fc&quot; style=&quot;width: 100.0%; height: 100.0%;&quot;&gt;Nom de l&#x27;arrêt PORTE DE DOUAI &lt;br&gt; Nombre de vélos disponibles 22 &lt;br&gt; Nombre de places disponibles 4&lt;/div&gt;`)[0];\n",
       "                popup_6e2fc1f678b182c2a84627f189f341bc.setContent(html_a1fb44459555d67773aa9182b51854fc);\n",
       "            \n",
       "        \n",
       "\n",
       "        marker_281fae268ba3f2cdc96f501c5c0015f8.bindPopup(popup_6e2fc1f678b182c2a84627f189f341bc)\n",
       "        ;\n",
       "\n",
       "        \n",
       "    \n",
       "    \n",
       "            var marker_e512393e5b8170ff76fc2e69b733e511 = L.marker(\n",
       "                [50.61957, 3.068387],\n",
       "                {}\n",
       "            ).addTo(map_6cfc0e4d35730cccc7872d39d9dc204b);\n",
       "        \n",
       "    \n",
       "        var popup_adcad386a35219484ad7da134212e850 = L.popup({&quot;maxWidth&quot;: &quot;100%&quot;});\n",
       "\n",
       "        \n",
       "            \n",
       "                var html_d6a82bb8a76c1cd066751d0042ca7ca3 = $(`&lt;div id=&quot;html_d6a82bb8a76c1cd066751d0042ca7ca3&quot; style=&quot;width: 100.0%; height: 100.0%;&quot;&gt;Nom de l&#x27;arrêt PLACE DELIOT &lt;br&gt; Nombre de vélos disponibles 14 &lt;br&gt; Nombre de places disponibles 10&lt;/div&gt;`)[0];\n",
       "                popup_adcad386a35219484ad7da134212e850.setContent(html_d6a82bb8a76c1cd066751d0042ca7ca3);\n",
       "            \n",
       "        \n",
       "\n",
       "        marker_e512393e5b8170ff76fc2e69b733e511.bindPopup(popup_adcad386a35219484ad7da134212e850)\n",
       "        ;\n",
       "\n",
       "        \n",
       "    \n",
       "    \n",
       "            var marker_5ce543822cf4bcfb78ba38dbac3be62c = L.marker(\n",
       "                [50.62224, 3.067004],\n",
       "                {}\n",
       "            ).addTo(map_6cfc0e4d35730cccc7872d39d9dc204b);\n",
       "        \n",
       "    \n",
       "        var popup_1344f710084fb22ebfb090ed00f4e1b2 = L.popup({&quot;maxWidth&quot;: &quot;100%&quot;});\n",
       "\n",
       "        \n",
       "            \n",
       "                var html_372cb4c45fc8cb720520ca8e559f44fb = $(`&lt;div id=&quot;html_372cb4c45fc8cb720520ca8e559f44fb&quot; style=&quot;width: 100.0%; height: 100.0%;&quot;&gt;Nom de l&#x27;arrêt RUE D&#x27;ARRAS &lt;br&gt; Nombre de vélos disponibles 10 &lt;br&gt; Nombre de places disponibles 15&lt;/div&gt;`)[0];\n",
       "                popup_1344f710084fb22ebfb090ed00f4e1b2.setContent(html_372cb4c45fc8cb720520ca8e559f44fb);\n",
       "            \n",
       "        \n",
       "\n",
       "        marker_5ce543822cf4bcfb78ba38dbac3be62c.bindPopup(popup_1344f710084fb22ebfb090ed00f4e1b2)\n",
       "        ;\n",
       "\n",
       "        \n",
       "    \n",
       "    \n",
       "            var marker_97c9e72c1da0426fe3a1ac508c8d6705 = L.marker(\n",
       "                [50.62482, 3.068689],\n",
       "                {}\n",
       "            ).addTo(map_6cfc0e4d35730cccc7872d39d9dc204b);\n",
       "        \n",
       "    \n",
       "        var popup_8b170c35a7ce884ff291c3b14934d146 = L.popup({&quot;maxWidth&quot;: &quot;100%&quot;});\n",
       "\n",
       "        \n",
       "            \n",
       "                var html_903632ef29dd066ca930bff19c39b0a7 = $(`&lt;div id=&quot;html_903632ef29dd066ca930bff19c39b0a7&quot; style=&quot;width: 100.0%; height: 100.0%;&quot;&gt;Nom de l&#x27;arrêt JB LEBAS &lt;br&gt; Nombre de vélos disponibles 9 &lt;br&gt; Nombre de places disponibles 31&lt;/div&gt;`)[0];\n",
       "                popup_8b170c35a7ce884ff291c3b14934d146.setContent(html_903632ef29dd066ca930bff19c39b0a7);\n",
       "            \n",
       "        \n",
       "\n",
       "        marker_97c9e72c1da0426fe3a1ac508c8d6705.bindPopup(popup_8b170c35a7ce884ff291c3b14934d146)\n",
       "        ;\n",
       "\n",
       "        \n",
       "    \n",
       "    \n",
       "            var marker_af3e4b7a30b066959a3cad3676de8efe = L.marker(\n",
       "                [50.61856, 3.049251],\n",
       "                {}\n",
       "            ).addTo(map_6cfc0e4d35730cccc7872d39d9dc204b);\n",
       "        \n",
       "    \n",
       "        var popup_0f8cc895c9f7e7339a35551b17e91c25 = L.popup({&quot;maxWidth&quot;: &quot;100%&quot;});\n",
       "\n",
       "        \n",
       "            \n",
       "                var html_7c175a2be0da36e0b7e912e3cfce6e0b = $(`&lt;div id=&quot;html_7c175a2be0da36e0b7e912e3cfce6e0b&quot; style=&quot;width: 100.0%; height: 100.0%;&quot;&gt;Nom de l&#x27;arrêt PORTE DES POSTES &lt;br&gt; Nombre de vélos disponibles 2 &lt;br&gt; Nombre de places disponibles 36&lt;/div&gt;`)[0];\n",
       "                popup_0f8cc895c9f7e7339a35551b17e91c25.setContent(html_7c175a2be0da36e0b7e912e3cfce6e0b);\n",
       "            \n",
       "        \n",
       "\n",
       "        marker_af3e4b7a30b066959a3cad3676de8efe.bindPopup(popup_0f8cc895c9f7e7339a35551b17e91c25)\n",
       "        ;\n",
       "\n",
       "        \n",
       "    \n",
       "    \n",
       "            var marker_b8c42729c473005eca6c9920fa5a7cba = L.marker(\n",
       "                [50.62338, 3.051565],\n",
       "                {}\n",
       "            ).addTo(map_6cfc0e4d35730cccc7872d39d9dc204b);\n",
       "        \n",
       "    \n",
       "        var popup_f8810a27836b4012c7c6b12329b0900a = L.popup({&quot;maxWidth&quot;: &quot;100%&quot;});\n",
       "\n",
       "        \n",
       "            \n",
       "                var html_2c84609cfa886d02f6dd869f9672d281 = $(`&lt;div id=&quot;html_2c84609cfa886d02f6dd869f9672d281&quot; style=&quot;width: 100.0%; height: 100.0%;&quot;&gt;Nom de l&#x27;arrêt METRO WAZEMMES &lt;br&gt; Nombre de vélos disponibles 13 &lt;br&gt; Nombre de places disponibles 7&lt;/div&gt;`)[0];\n",
       "                popup_f8810a27836b4012c7c6b12329b0900a.setContent(html_2c84609cfa886d02f6dd869f9672d281);\n",
       "            \n",
       "        \n",
       "\n",
       "        marker_b8c42729c473005eca6c9920fa5a7cba.bindPopup(popup_f8810a27836b4012c7c6b12329b0900a)\n",
       "        ;\n",
       "\n",
       "        \n",
       "    \n",
       "    \n",
       "            var marker_55053cd0386bf448975e68562f87cf49 = L.marker(\n",
       "                [50.620304, 3.055471],\n",
       "                {}\n",
       "            ).addTo(map_6cfc0e4d35730cccc7872d39d9dc204b);\n",
       "        \n",
       "    \n",
       "        var popup_e0b422bf2c87732e545c0b98b90661c5 = L.popup({&quot;maxWidth&quot;: &quot;100%&quot;});\n",
       "\n",
       "        \n",
       "            \n",
       "                var html_c2d7cf10b3b4e0d04a0f3039954db9a9 = $(`&lt;div id=&quot;html_c2d7cf10b3b4e0d04a0f3039954db9a9&quot; style=&quot;width: 100.0%; height: 100.0%;&quot;&gt;Nom de l&#x27;arrêt BD VICTOR HUGO &lt;br&gt; Nombre de vélos disponibles 9 &lt;br&gt; Nombre de places disponibles 9&lt;/div&gt;`)[0];\n",
       "                popup_e0b422bf2c87732e545c0b98b90661c5.setContent(html_c2d7cf10b3b4e0d04a0f3039954db9a9);\n",
       "            \n",
       "        \n",
       "\n",
       "        marker_55053cd0386bf448975e68562f87cf49.bindPopup(popup_e0b422bf2c87732e545c0b98b90661c5)\n",
       "        ;\n",
       "\n",
       "        \n",
       "    \n",
       "    \n",
       "            var marker_04519cfab871167eab2ba40a8bf4c392 = L.marker(\n",
       "                [50.62418, 3.058902],\n",
       "                {}\n",
       "            ).addTo(map_6cfc0e4d35730cccc7872d39d9dc204b);\n",
       "        \n",
       "    \n",
       "        var popup_66e443d5fc41cd3a8fdd70552baafe4b = L.popup({&quot;maxWidth&quot;: &quot;100%&quot;});\n",
       "\n",
       "        \n",
       "            \n",
       "                var html_025e8e060c39baee0b4bff7e73fd204e = $(`&lt;div id=&quot;html_025e8e060c39baee0b4bff7e73fd204e&quot; style=&quot;width: 100.0%; height: 100.0%;&quot;&gt;Nom de l&#x27;arrêt BARTHELEMY DELESPAUL &lt;br&gt; Nombre de vélos disponibles 12 &lt;br&gt; Nombre de places disponibles 6&lt;/div&gt;`)[0];\n",
       "                popup_66e443d5fc41cd3a8fdd70552baafe4b.setContent(html_025e8e060c39baee0b4bff7e73fd204e);\n",
       "            \n",
       "        \n",
       "\n",
       "        marker_04519cfab871167eab2ba40a8bf4c392.bindPopup(popup_66e443d5fc41cd3a8fdd70552baafe4b)\n",
       "        ;\n",
       "\n",
       "        \n",
       "    \n",
       "    \n",
       "            var marker_46d5ab0fcdd0cbfa73a04bd29c577795 = L.marker(\n",
       "                [50.62073, 3.07895],\n",
       "                {}\n",
       "            ).addTo(map_6cfc0e4d35730cccc7872d39d9dc204b);\n",
       "        \n",
       "    \n",
       "        var popup_398b6420cc4c0c396af3efff10c4d5b1 = L.popup({&quot;maxWidth&quot;: &quot;100%&quot;});\n",
       "\n",
       "        \n",
       "            \n",
       "                var html_4f8b8c6fd713b0deb92b13af3191e73b = $(`&lt;div id=&quot;html_4f8b8c6fd713b0deb92b13af3191e73b&quot; style=&quot;width: 100.0%; height: 100.0%;&quot;&gt;Nom de l&#x27;arrêt PORTE DE VALENCIENNES &lt;br&gt; Nombre de vélos disponibles 10 &lt;br&gt; Nombre de places disponibles 10&lt;/div&gt;`)[0];\n",
       "                popup_398b6420cc4c0c396af3efff10c4d5b1.setContent(html_4f8b8c6fd713b0deb92b13af3191e73b);\n",
       "            \n",
       "        \n",
       "\n",
       "        marker_46d5ab0fcdd0cbfa73a04bd29c577795.bindPopup(popup_398b6420cc4c0c396af3efff10c4d5b1)\n",
       "        ;\n",
       "\n",
       "        \n",
       "    \n",
       "    \n",
       "            var marker_6553d2091d26bb3cdf023dc75c54241f = L.marker(\n",
       "                [50.621185, 3.072363],\n",
       "                {}\n",
       "            ).addTo(map_6cfc0e4d35730cccc7872d39d9dc204b);\n",
       "        \n",
       "    \n",
       "        var popup_6d1fc87d94726f79780c04c71b075c83 = L.popup({&quot;maxWidth&quot;: &quot;100%&quot;});\n",
       "\n",
       "        \n",
       "            \n",
       "                var html_a6e4dd1c88ad3979337964259fc8a8af = $(`&lt;div id=&quot;html_a6e4dd1c88ad3979337964259fc8a8af&quot; style=&quot;width: 100.0%; height: 100.0%;&quot;&gt;Nom de l&#x27;arrêt TREVISE &lt;br&gt; Nombre de vélos disponibles 9 &lt;br&gt; Nombre de places disponibles 11&lt;/div&gt;`)[0];\n",
       "                popup_6d1fc87d94726f79780c04c71b075c83.setContent(html_a6e4dd1c88ad3979337964259fc8a8af);\n",
       "            \n",
       "        \n",
       "\n",
       "        marker_6553d2091d26bb3cdf023dc75c54241f.bindPopup(popup_6d1fc87d94726f79780c04c71b075c83)\n",
       "        ;\n",
       "\n",
       "        \n",
       "    \n",
       "    \n",
       "            var marker_e1e1409bc72fad88fb6898af1e155d57 = L.marker(\n",
       "                [50.629246, 3.075218],\n",
       "                {}\n",
       "            ).addTo(map_6cfc0e4d35730cccc7872d39d9dc204b);\n",
       "        \n",
       "    \n",
       "        var popup_0a5fea794b1bee8a81b0a871fe91fdff = L.popup({&quot;maxWidth&quot;: &quot;100%&quot;});\n",
       "\n",
       "        \n",
       "            \n",
       "                var html_d4ad1f78bbc47d05341523e21e60fc02 = $(`&lt;div id=&quot;html_d4ad1f78bbc47d05341523e21e60fc02&quot; style=&quot;width: 100.0%; height: 100.0%;&quot;&gt;Nom de l&#x27;arrêt LILLE GRAND PALAIS &lt;br&gt; Nombre de vélos disponibles 2 &lt;br&gt; Nombre de places disponibles 22&lt;/div&gt;`)[0];\n",
       "                popup_0a5fea794b1bee8a81b0a871fe91fdff.setContent(html_d4ad1f78bbc47d05341523e21e60fc02);\n",
       "            \n",
       "        \n",
       "\n",
       "        marker_e1e1409bc72fad88fb6898af1e155d57.bindPopup(popup_0a5fea794b1bee8a81b0a871fe91fdff)\n",
       "        ;\n",
       "\n",
       "        \n",
       "    \n",
       "    \n",
       "            var marker_d82e9ba8fe665c2525f1714ecfd74c4d = L.marker(\n",
       "                [50.632965, 3.076437],\n",
       "                {}\n",
       "            ).addTo(map_6cfc0e4d35730cccc7872d39d9dc204b);\n",
       "        \n",
       "    \n",
       "        var popup_2aa37d6d79a25ae1af5fe74031625080 = L.popup({&quot;maxWidth&quot;: &quot;100%&quot;});\n",
       "\n",
       "        \n",
       "            \n",
       "                var html_af578bdc0cc5ac50206ac26212243f69 = $(`&lt;div id=&quot;html_af578bdc0cc5ac50206ac26212243f69&quot; style=&quot;width: 100.0%; height: 100.0%;&quot;&gt;Nom de l&#x27;arrêt ZENITH &lt;br&gt; Nombre de vélos disponibles 1 &lt;br&gt; Nombre de places disponibles 29&lt;/div&gt;`)[0];\n",
       "                popup_2aa37d6d79a25ae1af5fe74031625080.setContent(html_af578bdc0cc5ac50206ac26212243f69);\n",
       "            \n",
       "        \n",
       "\n",
       "        marker_d82e9ba8fe665c2525f1714ecfd74c4d.bindPopup(popup_2aa37d6d79a25ae1af5fe74031625080)\n",
       "        ;\n",
       "\n",
       "        \n",
       "    \n",
       "    \n",
       "            var marker_b54cc058656f7f76d8077bb274b7f23a = L.marker(\n",
       "                [50.629738, 3.078224],\n",
       "                {}\n",
       "            ).addTo(map_6cfc0e4d35730cccc7872d39d9dc204b);\n",
       "        \n",
       "    \n",
       "        var popup_f75a3c0b36b2ff61d1bfc3857a75fe26 = L.popup({&quot;maxWidth&quot;: &quot;100%&quot;});\n",
       "\n",
       "        \n",
       "            \n",
       "                var html_4127dbe07a81590f4673e1a941c660eb = $(`&lt;div id=&quot;html_4127dbe07a81590f4673e1a941c660eb&quot; style=&quot;width: 100.0%; height: 100.0%;&quot;&gt;Nom de l&#x27;arrêt HOTEL DE REGION &lt;br&gt; Nombre de vélos disponibles 17 &lt;br&gt; Nombre de places disponibles 15&lt;/div&gt;`)[0];\n",
       "                popup_f75a3c0b36b2ff61d1bfc3857a75fe26.setContent(html_4127dbe07a81590f4673e1a941c660eb);\n",
       "            \n",
       "        \n",
       "\n",
       "        marker_b54cc058656f7f76d8077bb274b7f23a.bindPopup(popup_f75a3c0b36b2ff61d1bfc3857a75fe26)\n",
       "        ;\n",
       "\n",
       "        \n",
       "    \n",
       "    \n",
       "            var marker_182d37fd073a073ad7547018858822d6 = L.marker(\n",
       "                [50.6318, 3.071392],\n",
       "                {}\n",
       "            ).addTo(map_6cfc0e4d35730cccc7872d39d9dc204b);\n",
       "        \n",
       "    \n",
       "        var popup_d86d23865124c6d6ae3b0c0630415a32 = L.popup({&quot;maxWidth&quot;: &quot;100%&quot;});\n",
       "\n",
       "        \n",
       "            \n",
       "                var html_66ee40a0988784ace7ac5bbd08df2864 = $(`&lt;div id=&quot;html_66ee40a0988784ace7ac5bbd08df2864&quot; style=&quot;width: 100.0%; height: 100.0%;&quot;&gt;Nom de l&#x27;arrêt MAIRIE DE LILLE &lt;br&gt; Nombre de vélos disponibles 1 &lt;br&gt; Nombre de places disponibles 19&lt;/div&gt;`)[0];\n",
       "                popup_d86d23865124c6d6ae3b0c0630415a32.setContent(html_66ee40a0988784ace7ac5bbd08df2864);\n",
       "            \n",
       "        \n",
       "\n",
       "        marker_182d37fd073a073ad7547018858822d6.bindPopup(popup_d86d23865124c6d6ae3b0c0630415a32)\n",
       "        ;\n",
       "\n",
       "        \n",
       "    \n",
       "    \n",
       "            var marker_7e8156446a879088e8a78abafd1bd444 = L.marker(\n",
       "                [50.621128, 3.035483],\n",
       "                {}\n",
       "            ).addTo(map_6cfc0e4d35730cccc7872d39d9dc204b);\n",
       "        \n",
       "    \n",
       "        var popup_99b92280f923ff58c5ca0f07e78e35cb = L.popup({&quot;maxWidth&quot;: &quot;100%&quot;});\n",
       "\n",
       "        \n",
       "            \n",
       "                var html_84f2ab7651c51edb60bd1e0582d55849 = $(`&lt;div id=&quot;html_84f2ab7651c51edb60bd1e0582d55849&quot; style=&quot;width: 100.0%; height: 100.0%;&quot;&gt;Nom de l&#x27;arrêt PLACE TACQ &lt;br&gt; Nombre de vélos disponibles 7 &lt;br&gt; Nombre de places disponibles 11&lt;/div&gt;`)[0];\n",
       "                popup_99b92280f923ff58c5ca0f07e78e35cb.setContent(html_84f2ab7651c51edb60bd1e0582d55849);\n",
       "            \n",
       "        \n",
       "\n",
       "        marker_7e8156446a879088e8a78abafd1bd444.bindPopup(popup_99b92280f923ff58c5ca0f07e78e35cb)\n",
       "        ;\n",
       "\n",
       "        \n",
       "    \n",
       "    \n",
       "            var marker_b0b52f2158d85b0151cb7e610a1ca424 = L.marker(\n",
       "                [50.63237, 3.066273],\n",
       "                {}\n",
       "            ).addTo(map_6cfc0e4d35730cccc7872d39d9dc204b);\n",
       "        \n",
       "    \n",
       "        var popup_8bd2b6a1d9008823c4432166fbe7f7af = L.popup({&quot;maxWidth&quot;: &quot;100%&quot;});\n",
       "\n",
       "        \n",
       "            \n",
       "                var html_5ab4065f5f7fb718f7347d543b18f8cb = $(`&lt;div id=&quot;html_5ab4065f5f7fb718f7347d543b18f8cb&quot; style=&quot;width: 100.0%; height: 100.0%;&quot;&gt;Nom de l&#x27;arrêt DELESALLE MEDIATHEQUE &lt;br&gt; Nombre de vélos disponibles 10 &lt;br&gt; Nombre de places disponibles 8&lt;/div&gt;`)[0];\n",
       "                popup_8bd2b6a1d9008823c4432166fbe7f7af.setContent(html_5ab4065f5f7fb718f7347d543b18f8cb);\n",
       "            \n",
       "        \n",
       "\n",
       "        marker_b0b52f2158d85b0151cb7e610a1ca424.bindPopup(popup_8bd2b6a1d9008823c4432166fbe7f7af)\n",
       "        ;\n",
       "\n",
       "        \n",
       "    \n",
       "    \n",
       "            var marker_21250a27a008a9f821162a36b3d0e69a = L.marker(\n",
       "                [50.621952, 3.04534],\n",
       "                {}\n",
       "            ).addTo(map_6cfc0e4d35730cccc7872d39d9dc204b);\n",
       "        \n",
       "    \n",
       "        var popup_635e81cbbc4d73acd3859818da77359a = L.popup({&quot;maxWidth&quot;: &quot;100%&quot;});\n",
       "\n",
       "        \n",
       "            \n",
       "                var html_50f69a52ff970af40ee75d9cbb329781 = $(`&lt;div id=&quot;html_50f69a52ff970af40ee75d9cbb329781&quot; style=&quot;width: 100.0%; height: 100.0%;&quot;&gt;Nom de l&#x27;arrêt MONTEBELLO &lt;br&gt; Nombre de vélos disponibles 8 &lt;br&gt; Nombre de places disponibles 16&lt;/div&gt;`)[0];\n",
       "                popup_635e81cbbc4d73acd3859818da77359a.setContent(html_50f69a52ff970af40ee75d9cbb329781);\n",
       "            \n",
       "        \n",
       "\n",
       "        marker_21250a27a008a9f821162a36b3d0e69a.bindPopup(popup_635e81cbbc4d73acd3859818da77359a)\n",
       "        ;\n",
       "\n",
       "        \n",
       "    \n",
       "    \n",
       "            var marker_eb1d0fac1028d9f51bc4f52ad2050f61 = L.marker(\n",
       "                [50.630836, 3.047778],\n",
       "                {}\n",
       "            ).addTo(map_6cfc0e4d35730cccc7872d39d9dc204b);\n",
       "        \n",
       "    \n",
       "        var popup_fe7a4c227b5f8c0792c2c7f4e7894ff6 = L.popup({&quot;maxWidth&quot;: &quot;100%&quot;});\n",
       "\n",
       "        \n",
       "            \n",
       "                var html_53bdab389bb517eb20e18c26d39a1e50 = $(`&lt;div id=&quot;html_53bdab389bb517eb20e18c26d39a1e50&quot; style=&quot;width: 100.0%; height: 100.0%;&quot;&gt;Nom de l&#x27;arrêt NATIONALE RUE DU PORT &lt;br&gt; Nombre de vélos disponibles 1 &lt;br&gt; Nombre de places disponibles 23&lt;/div&gt;`)[0];\n",
       "                popup_fe7a4c227b5f8c0792c2c7f4e7894ff6.setContent(html_53bdab389bb517eb20e18c26d39a1e50);\n",
       "            \n",
       "        \n",
       "\n",
       "        marker_eb1d0fac1028d9f51bc4f52ad2050f61.bindPopup(popup_fe7a4c227b5f8c0792c2c7f4e7894ff6)\n",
       "        ;\n",
       "\n",
       "        \n",
       "    \n",
       "    \n",
       "            var marker_c14089b54ae2a40729fc2a70808925fc = L.marker(\n",
       "                [50.61893, 3.032539],\n",
       "                {}\n",
       "            ).addTo(map_6cfc0e4d35730cccc7872d39d9dc204b);\n",
       "        \n",
       "    \n",
       "        var popup_aca7fdaa44578ebd2ee09388050de6a8 = L.popup({&quot;maxWidth&quot;: &quot;100%&quot;});\n",
       "\n",
       "        \n",
       "            \n",
       "                var html_f3a217c3f02b4f5395990ac3a67dcc2b = $(`&lt;div id=&quot;html_f3a217c3f02b4f5395990ac3a67dcc2b&quot; style=&quot;width: 100.0%; height: 100.0%;&quot;&gt;Nom de l&#x27;arrêt CHASSEURS DE DRIANT &lt;br&gt; Nombre de vélos disponibles 10 &lt;br&gt; Nombre de places disponibles 11&lt;/div&gt;`)[0];\n",
       "                popup_aca7fdaa44578ebd2ee09388050de6a8.setContent(html_f3a217c3f02b4f5395990ac3a67dcc2b);\n",
       "            \n",
       "        \n",
       "\n",
       "        marker_c14089b54ae2a40729fc2a70808925fc.bindPopup(popup_aca7fdaa44578ebd2ee09388050de6a8)\n",
       "        ;\n",
       "\n",
       "        \n",
       "    \n",
       "    \n",
       "            var marker_bb3d7ab508674874c2cfa06c1b26fab2 = L.marker(\n",
       "                [50.63424, 3.073991],\n",
       "                {}\n",
       "            ).addTo(map_6cfc0e4d35730cccc7872d39d9dc204b);\n",
       "        \n",
       "    \n",
       "        var popup_065df3eeb2ebf30e7d86265ce6deba1d = L.popup({&quot;maxWidth&quot;: &quot;100%&quot;});\n",
       "\n",
       "        \n",
       "            \n",
       "                var html_b71e4ca6268ee7319fb9cd45a80056db = $(`&lt;div id=&quot;html_b71e4ca6268ee7319fb9cd45a80056db&quot; style=&quot;width: 100.0%; height: 100.0%;&quot;&gt;Nom de l&#x27;arrêt CITE ADMINISTRATIVE &lt;br&gt; Nombre de vélos disponibles 2 &lt;br&gt; Nombre de places disponibles 14&lt;/div&gt;`)[0];\n",
       "                popup_065df3eeb2ebf30e7d86265ce6deba1d.setContent(html_b71e4ca6268ee7319fb9cd45a80056db);\n",
       "            \n",
       "        \n",
       "\n",
       "        marker_bb3d7ab508674874c2cfa06c1b26fab2.bindPopup(popup_065df3eeb2ebf30e7d86265ce6deba1d)\n",
       "        ;\n",
       "\n",
       "        \n",
       "    \n",
       "    \n",
       "            var marker_c9b837586a1d70c63646bb94e2ff6bff = L.marker(\n",
       "                [50.637302, 3.024314],\n",
       "                {}\n",
       "            ).addTo(map_6cfc0e4d35730cccc7872d39d9dc204b);\n",
       "        \n",
       "    \n",
       "        var popup_eaf45af0eba179bf8185da0b35de918c = L.popup({&quot;maxWidth&quot;: &quot;100%&quot;});\n",
       "\n",
       "        \n",
       "            \n",
       "                var html_fcce015a0a9a30ed1b05b39b02a758e2 = $(`&lt;div id=&quot;html_fcce015a0a9a30ed1b05b39b02a758e2&quot; style=&quot;width: 100.0%; height: 100.0%;&quot;&gt;Nom de l&#x27;arrêt CANTELEU &lt;br&gt; Nombre de vélos disponibles 16 &lt;br&gt; Nombre de places disponibles 2&lt;/div&gt;`)[0];\n",
       "                popup_eaf45af0eba179bf8185da0b35de918c.setContent(html_fcce015a0a9a30ed1b05b39b02a758e2);\n",
       "            \n",
       "        \n",
       "\n",
       "        marker_c9b837586a1d70c63646bb94e2ff6bff.bindPopup(popup_eaf45af0eba179bf8185da0b35de918c)\n",
       "        ;\n",
       "\n",
       "        \n",
       "    \n",
       "    \n",
       "            var marker_c2d2fccea7302d1419ce63a687f03686 = L.marker(\n",
       "                [50.642315, 3.087979],\n",
       "                {}\n",
       "            ).addTo(map_6cfc0e4d35730cccc7872d39d9dc204b);\n",
       "        \n",
       "    \n",
       "        var popup_4a168ce20d188fe0c3337e86c45a0816 = L.popup({&quot;maxWidth&quot;: &quot;100%&quot;});\n",
       "\n",
       "        \n",
       "            \n",
       "                var html_58254e3f6b4719b4f57d39d1dc0ef358 = $(`&lt;div id=&quot;html_58254e3f6b4719b4f57d39d1dc0ef358&quot; style=&quot;width: 100.0%; height: 100.0%;&quot;&gt;Nom de l&#x27;arrêt ST MAURICE PELLEVOISIN &lt;br&gt; Nombre de vélos disponibles 9 &lt;br&gt; Nombre de places disponibles 15&lt;/div&gt;`)[0];\n",
       "                popup_4a168ce20d188fe0c3337e86c45a0816.setContent(html_58254e3f6b4719b4f57d39d1dc0ef358);\n",
       "            \n",
       "        \n",
       "\n",
       "        marker_c2d2fccea7302d1419ce63a687f03686.bindPopup(popup_4a168ce20d188fe0c3337e86c45a0816)\n",
       "        ;\n",
       "\n",
       "        \n",
       "    \n",
       "    \n",
       "            var marker_4a7d5a2d833ee66c00dfe3bcfc0b028e = L.marker(\n",
       "                [50.641238, 3.083175],\n",
       "                {}\n",
       "            ).addTo(map_6cfc0e4d35730cccc7872d39d9dc204b);\n",
       "        \n",
       "    \n",
       "        var popup_5f7add93fb108037767e617038b435a5 = L.popup({&quot;maxWidth&quot;: &quot;100%&quot;});\n",
       "\n",
       "        \n",
       "            \n",
       "                var html_3c39e85da75853b63611e1b53f3a1f93 = $(`&lt;div id=&quot;html_3c39e85da75853b63611e1b53f3a1f93&quot; style=&quot;width: 100.0%; height: 100.0%;&quot;&gt;Nom de l&#x27;arrêt FAUBOURG DE ROUBAIX &lt;br&gt; Nombre de vélos disponibles 15 &lt;br&gt; Nombre de places disponibles 5&lt;/div&gt;`)[0];\n",
       "                popup_5f7add93fb108037767e617038b435a5.setContent(html_3c39e85da75853b63611e1b53f3a1f93);\n",
       "            \n",
       "        \n",
       "\n",
       "        marker_4a7d5a2d833ee66c00dfe3bcfc0b028e.bindPopup(popup_5f7add93fb108037767e617038b435a5)\n",
       "        ;\n",
       "\n",
       "        \n",
       "    \n",
       "    \n",
       "            var marker_377c72c0bbca770abc348eedffc09400 = L.marker(\n",
       "                [50.637337, 3.084894],\n",
       "                {}\n",
       "            ).addTo(map_6cfc0e4d35730cccc7872d39d9dc204b);\n",
       "        \n",
       "    \n",
       "        var popup_41b4d559ef03407b1cd5bb70ff925164 = L.popup({&quot;maxWidth&quot;: &quot;100%&quot;});\n",
       "\n",
       "        \n",
       "            \n",
       "                var html_2cbf9e893693663e767cb5ef259f0431 = $(`&lt;div id=&quot;html_2cbf9e893693663e767cb5ef259f0431&quot; style=&quot;width: 100.0%; height: 100.0%;&quot;&gt;Nom de l&#x27;arrêt EUGENE JACQUET &lt;br&gt; Nombre de vélos disponibles 7 &lt;br&gt; Nombre de places disponibles 14&lt;/div&gt;`)[0];\n",
       "                popup_41b4d559ef03407b1cd5bb70ff925164.setContent(html_2cbf9e893693663e767cb5ef259f0431);\n",
       "            \n",
       "        \n",
       "\n",
       "        marker_377c72c0bbca770abc348eedffc09400.bindPopup(popup_41b4d559ef03407b1cd5bb70ff925164)\n",
       "        ;\n",
       "\n",
       "        \n",
       "    \n",
       "    \n",
       "            var marker_01a5d8ede4d68111596e903b2ce8b15c = L.marker(\n",
       "                [50.632996, 3.089651],\n",
       "                {}\n",
       "            ).addTo(map_6cfc0e4d35730cccc7872d39d9dc204b);\n",
       "        \n",
       "    \n",
       "        var popup_18163aa9a26d50f881d8c40c2dcb43c4 = L.popup({&quot;maxWidth&quot;: &quot;100%&quot;});\n",
       "\n",
       "        \n",
       "            \n",
       "                var html_fb14a07bc8843ce1642e9a75aae284fd = $(`&lt;div id=&quot;html_fb14a07bc8843ce1642e9a75aae284fd&quot; style=&quot;width: 100.0%; height: 100.0%;&quot;&gt;Nom de l&#x27;arrêt FIVES &lt;br&gt; Nombre de vélos disponibles 16 &lt;br&gt; Nombre de places disponibles 8&lt;/div&gt;`)[0];\n",
       "                popup_18163aa9a26d50f881d8c40c2dcb43c4.setContent(html_fb14a07bc8843ce1642e9a75aae284fd);\n",
       "            \n",
       "        \n",
       "\n",
       "        marker_01a5d8ede4d68111596e903b2ce8b15c.bindPopup(popup_18163aa9a26d50f881d8c40c2dcb43c4)\n",
       "        ;\n",
       "\n",
       "        \n",
       "    \n",
       "    \n",
       "            var marker_d242c1ca465a12770eb2f1fe309583da = L.marker(\n",
       "                [50.62286, 3.0914],\n",
       "                {}\n",
       "            ).addTo(map_6cfc0e4d35730cccc7872d39d9dc204b);\n",
       "        \n",
       "    \n",
       "        var popup_aeee60bdcaac7f268920bf12d33a7392 = L.popup({&quot;maxWidth&quot;: &quot;100%&quot;});\n",
       "\n",
       "        \n",
       "            \n",
       "                var html_a059bbc919cd555cd418fd3094b1e1a1 = $(`&lt;div id=&quot;html_a059bbc919cd555cd418fd3094b1e1a1&quot; style=&quot;width: 100.0%; height: 100.0%;&quot;&gt;Nom de l&#x27;arrêt MONT DE TERRE &lt;br&gt; Nombre de vélos disponibles 0 &lt;br&gt; Nombre de places disponibles 18&lt;/div&gt;`)[0];\n",
       "                popup_aeee60bdcaac7f268920bf12d33a7392.setContent(html_a059bbc919cd555cd418fd3094b1e1a1);\n",
       "            \n",
       "        \n",
       "\n",
       "        marker_d242c1ca465a12770eb2f1fe309583da.bindPopup(popup_aeee60bdcaac7f268920bf12d33a7392)\n",
       "        ;\n",
       "\n",
       "        \n",
       "    \n",
       "    \n",
       "            var marker_ec1bda92f07c457522f3f6ac102ab657 = L.marker(\n",
       "                [50.615536, 3.048518],\n",
       "                {}\n",
       "            ).addTo(map_6cfc0e4d35730cccc7872d39d9dc204b);\n",
       "        \n",
       "    \n",
       "        var popup_b6f0053b584369d4ad469a00c7e884c3 = L.popup({&quot;maxWidth&quot;: &quot;100%&quot;});\n",
       "\n",
       "        \n",
       "            \n",
       "                var html_afb669aa30e827167961208ee8eaae1b = $(`&lt;div id=&quot;html_afb669aa30e827167961208ee8eaae1b&quot; style=&quot;width: 100.0%; height: 100.0%;&quot;&gt;Nom de l&#x27;arrêt HOTEL DE POLICE &lt;br&gt; Nombre de vélos disponibles 3 &lt;br&gt; Nombre de places disponibles 15&lt;/div&gt;`)[0];\n",
       "                popup_b6f0053b584369d4ad469a00c7e884c3.setContent(html_afb669aa30e827167961208ee8eaae1b);\n",
       "            \n",
       "        \n",
       "\n",
       "        marker_ec1bda92f07c457522f3f6ac102ab657.bindPopup(popup_b6f0053b584369d4ad469a00c7e884c3)\n",
       "        ;\n",
       "\n",
       "        \n",
       "    \n",
       "    \n",
       "            var marker_ecc8ae1f39cd5c6277bf6942418297de = L.marker(\n",
       "                [50.61295, 3.047268],\n",
       "                {}\n",
       "            ).addTo(map_6cfc0e4d35730cccc7872d39d9dc204b);\n",
       "        \n",
       "    \n",
       "        var popup_fb66e2d161cf803cc129230c45d044c6 = L.popup({&quot;maxWidth&quot;: &quot;100%&quot;});\n",
       "\n",
       "        \n",
       "            \n",
       "                var html_a002cbabc37e777b3cf824de4a39cfd8 = $(`&lt;div id=&quot;html_a002cbabc37e777b3cf824de4a39cfd8&quot; style=&quot;width: 100.0%; height: 100.0%;&quot;&gt;Nom de l&#x27;arrêt CIMETIERE DU SUD &lt;br&gt; Nombre de vélos disponibles 9 &lt;br&gt; Nombre de places disponibles 11&lt;/div&gt;`)[0];\n",
       "                popup_fb66e2d161cf803cc129230c45d044c6.setContent(html_a002cbabc37e777b3cf824de4a39cfd8);\n",
       "            \n",
       "        \n",
       "\n",
       "        marker_ecc8ae1f39cd5c6277bf6942418297de.bindPopup(popup_fb66e2d161cf803cc129230c45d044c6)\n",
       "        ;\n",
       "\n",
       "        \n",
       "    \n",
       "    \n",
       "            var marker_221664349f73a77b7d08f3e254d643b0 = L.marker(\n",
       "                [50.61989, 3.084357],\n",
       "                {}\n",
       "            ).addTo(map_6cfc0e4d35730cccc7872d39d9dc204b);\n",
       "        \n",
       "    \n",
       "        var popup_2a694957847ba7c097db094241cfc118 = L.popup({&quot;maxWidth&quot;: &quot;100%&quot;});\n",
       "\n",
       "        \n",
       "            \n",
       "                var html_6c4add6dbf0b7f53f3cbbbb2d4ec57ba = $(`&lt;div id=&quot;html_6c4add6dbf0b7f53f3cbbbb2d4ec57ba&quot; style=&quot;width: 100.0%; height: 100.0%;&quot;&gt;Nom de l&#x27;arrêt PETIT MAROC &lt;br&gt; Nombre de vélos disponibles 10 &lt;br&gt; Nombre de places disponibles 20&lt;/div&gt;`)[0];\n",
       "                popup_2a694957847ba7c097db094241cfc118.setContent(html_6c4add6dbf0b7f53f3cbbbb2d4ec57ba);\n",
       "            \n",
       "        \n",
       "\n",
       "        marker_221664349f73a77b7d08f3e254d643b0.bindPopup(popup_2a694957847ba7c097db094241cfc118)\n",
       "        ;\n",
       "\n",
       "        \n",
       "    \n",
       "    \n",
       "            var marker_10c33a334726fa973212954c3ebab639 = L.marker(\n",
       "                [50.63529, 3.115088],\n",
       "                {}\n",
       "            ).addTo(map_6cfc0e4d35730cccc7872d39d9dc204b);\n",
       "        \n",
       "    \n",
       "        var popup_41c5aae5b5ac79a3f7fe49711b48b45f = L.popup({&quot;maxWidth&quot;: &quot;100%&quot;});\n",
       "\n",
       "        \n",
       "            \n",
       "                var html_b5b3d9fc40fa0f75e8ffc2cc3ca78728 = $(`&lt;div id=&quot;html_b5b3d9fc40fa0f75e8ffc2cc3ca78728&quot; style=&quot;width: 100.0%; height: 100.0%;&quot;&gt;Nom de l&#x27;arrêt GUINGUETTE &lt;br&gt; Nombre de vélos disponibles 6 &lt;br&gt; Nombre de places disponibles 4&lt;/div&gt;`)[0];\n",
       "                popup_41c5aae5b5ac79a3f7fe49711b48b45f.setContent(html_b5b3d9fc40fa0f75e8ffc2cc3ca78728);\n",
       "            \n",
       "        \n",
       "\n",
       "        marker_10c33a334726fa973212954c3ebab639.bindPopup(popup_41c5aae5b5ac79a3f7fe49711b48b45f)\n",
       "        ;\n",
       "\n",
       "        \n",
       "    \n",
       "    \n",
       "            var marker_e30faa448a82bc4af068ac252ae02ff7 = L.marker(\n",
       "                [50.63999, 3.075204],\n",
       "                {}\n",
       "            ).addTo(map_6cfc0e4d35730cccc7872d39d9dc204b);\n",
       "        \n",
       "    \n",
       "        var popup_6b400262d39b45de0bd0ea6ddc4ea6e4 = L.popup({&quot;maxWidth&quot;: &quot;100%&quot;});\n",
       "\n",
       "        \n",
       "            \n",
       "                var html_2f1ff973b329824390b3b3af4dffae87 = $(`&lt;div id=&quot;html_2f1ff973b329824390b3b3af4dffae87&quot; style=&quot;width: 100.0%; height: 100.0%;&quot;&gt;Nom de l&#x27;arrêt GARE LILLE EUROPE &lt;br&gt; Nombre de vélos disponibles 1 &lt;br&gt; Nombre de places disponibles 31&lt;/div&gt;`)[0];\n",
       "                popup_6b400262d39b45de0bd0ea6ddc4ea6e4.setContent(html_2f1ff973b329824390b3b3af4dffae87);\n",
       "            \n",
       "        \n",
       "\n",
       "        marker_e30faa448a82bc4af068ac252ae02ff7.bindPopup(popup_6b400262d39b45de0bd0ea6ddc4ea6e4)\n",
       "        ;\n",
       "\n",
       "        \n",
       "    \n",
       "    \n",
       "            var marker_384fc0fa9076db8ed400e1cb2c29e580 = L.marker(\n",
       "                [50.63378, 3.02059],\n",
       "                {}\n",
       "            ).addTo(map_6cfc0e4d35730cccc7872d39d9dc204b);\n",
       "        \n",
       "    \n",
       "        var popup_e5cb302e35f931c937d130faed674d2c = L.popup({&quot;maxWidth&quot;: &quot;100%&quot;});\n",
       "\n",
       "        \n",
       "            \n",
       "                var html_1ddf57d7cfc58bc3cf1fe03ef82473b3 = $(`&lt;div id=&quot;html_1ddf57d7cfc58bc3cf1fe03ef82473b3&quot; style=&quot;width: 100.0%; height: 100.0%;&quot;&gt;Nom de l&#x27;arrêt EURATECHNOLOGIES &lt;br&gt; Nombre de vélos disponibles 7 &lt;br&gt; Nombre de places disponibles 17&lt;/div&gt;`)[0];\n",
       "                popup_e5cb302e35f931c937d130faed674d2c.setContent(html_1ddf57d7cfc58bc3cf1fe03ef82473b3);\n",
       "            \n",
       "        \n",
       "\n",
       "        marker_384fc0fa9076db8ed400e1cb2c29e580.bindPopup(popup_e5cb302e35f931c937d130faed674d2c)\n",
       "        ;\n",
       "\n",
       "        \n",
       "    \n",
       "    \n",
       "            var marker_576c20317b225ba6ece27c52529fbaa7 = L.marker(\n",
       "                [50.627243, 3.109266],\n",
       "                {}\n",
       "            ).addTo(map_6cfc0e4d35730cccc7872d39d9dc204b);\n",
       "        \n",
       "    \n",
       "        var popup_e527aec7e8064bcc4acd3b4304bf14c4 = L.popup({&quot;maxWidth&quot;: &quot;100%&quot;});\n",
       "\n",
       "        \n",
       "            \n",
       "                var html_7bcc7fda916a0092ec4c0e0ed31fac0e = $(`&lt;div id=&quot;html_7bcc7fda916a0092ec4c0e0ed31fac0e&quot; style=&quot;width: 100.0%; height: 100.0%;&quot;&gt;Nom de l&#x27;arrêt MAIRIE D&#x27;HELLEMMES &lt;br&gt; Nombre de vélos disponibles 17 &lt;br&gt; Nombre de places disponibles 7&lt;/div&gt;`)[0];\n",
       "                popup_e527aec7e8064bcc4acd3b4304bf14c4.setContent(html_7bcc7fda916a0092ec4c0e0ed31fac0e);\n",
       "            \n",
       "        \n",
       "\n",
       "        marker_576c20317b225ba6ece27c52529fbaa7.bindPopup(popup_e527aec7e8064bcc4acd3b4304bf14c4)\n",
       "        ;\n",
       "\n",
       "        \n",
       "    \n",
       "    \n",
       "            var marker_155166987a64dd62014d194c0c7991b8 = L.marker(\n",
       "                [50.62504, 3.1008],\n",
       "                {}\n",
       "            ).addTo(map_6cfc0e4d35730cccc7872d39d9dc204b);\n",
       "        \n",
       "    \n",
       "        var popup_0aea5b510679fdcb10f18fb0af4672cb = L.popup({&quot;maxWidth&quot;: &quot;100%&quot;});\n",
       "\n",
       "        \n",
       "            \n",
       "                var html_4f5073a996f1a5d81574803c50622afe = $(`&lt;div id=&quot;html_4f5073a996f1a5d81574803c50622afe&quot; style=&quot;width: 100.0%; height: 100.0%;&quot;&gt;Nom de l&#x27;arrêt CHANZY &lt;br&gt; Nombre de vélos disponibles 9 &lt;br&gt; Nombre de places disponibles 3&lt;/div&gt;`)[0];\n",
       "                popup_0aea5b510679fdcb10f18fb0af4672cb.setContent(html_4f5073a996f1a5d81574803c50622afe);\n",
       "            \n",
       "        \n",
       "\n",
       "        marker_155166987a64dd62014d194c0c7991b8.bindPopup(popup_0aea5b510679fdcb10f18fb0af4672cb)\n",
       "        ;\n",
       "\n",
       "        \n",
       "    \n",
       "    \n",
       "            var marker_8363dc2d1988921cf886412eae1780e0 = L.marker(\n",
       "                [50.62903, 3.10295],\n",
       "                {}\n",
       "            ).addTo(map_6cfc0e4d35730cccc7872d39d9dc204b);\n",
       "        \n",
       "    \n",
       "        var popup_67dd3d6d340655b97a7b1ecaab069a6b = L.popup({&quot;maxWidth&quot;: &quot;100%&quot;});\n",
       "\n",
       "        \n",
       "            \n",
       "                var html_1717464bcf9bec61677665f02c4b0436 = $(`&lt;div id=&quot;html_1717464bcf9bec61677665f02c4b0436&quot; style=&quot;width: 100.0%; height: 100.0%;&quot;&gt;Nom de l&#x27;arrêt ROGER SALENGRO &lt;br&gt; Nombre de vélos disponibles 9 &lt;br&gt; Nombre de places disponibles 3&lt;/div&gt;`)[0];\n",
       "                popup_67dd3d6d340655b97a7b1ecaab069a6b.setContent(html_1717464bcf9bec61677665f02c4b0436);\n",
       "            \n",
       "        \n",
       "\n",
       "        marker_8363dc2d1988921cf886412eae1780e0.bindPopup(popup_67dd3d6d340655b97a7b1ecaab069a6b)\n",
       "        ;\n",
       "\n",
       "        \n",
       "    \n",
       "    \n",
       "            var marker_f5f8108396ded7596640041cdc9cd771 = L.marker(\n",
       "                [50.635082, 3.058015],\n",
       "                {}\n",
       "            ).addTo(map_6cfc0e4d35730cccc7872d39d9dc204b);\n",
       "        \n",
       "    \n",
       "        var popup_8af98dc33799c3445fca5decfeca4b8f = L.popup({&quot;maxWidth&quot;: &quot;100%&quot;});\n",
       "\n",
       "        \n",
       "            \n",
       "                var html_64225e033007d05927adf6ee6268b5dc = $(`&lt;div id=&quot;html_64225e033007d05927adf6ee6268b5dc&quot; style=&quot;width: 100.0%; height: 100.0%;&quot;&gt;Nom de l&#x27;arrêt RUE NATIONALE &lt;br&gt; Nombre de vélos disponibles 10 &lt;br&gt; Nombre de places disponibles 20&lt;/div&gt;`)[0];\n",
       "                popup_8af98dc33799c3445fca5decfeca4b8f.setContent(html_64225e033007d05927adf6ee6268b5dc);\n",
       "            \n",
       "        \n",
       "\n",
       "        marker_f5f8108396ded7596640041cdc9cd771.bindPopup(popup_8af98dc33799c3445fca5decfeca4b8f)\n",
       "        ;\n",
       "\n",
       "        \n",
       "    \n",
       "    \n",
       "            var marker_3402162e3256983aa9e9a53de8129df1 = L.marker(\n",
       "                [50.64569, 3.0858226],\n",
       "                {}\n",
       "            ).addTo(map_6cfc0e4d35730cccc7872d39d9dc204b);\n",
       "        \n",
       "    \n",
       "        var popup_795c15df125d079c055b930759328ae5 = L.popup({&quot;maxWidth&quot;: &quot;100%&quot;});\n",
       "\n",
       "        \n",
       "            \n",
       "                var html_4561e646d2f0879ed4c47b68ade1576e = $(`&lt;div id=&quot;html_4561e646d2f0879ed4c47b68ade1576e&quot; style=&quot;width: 100.0%; height: 100.0%;&quot;&gt;Nom de l&#x27;arrêt LOUVIERE &lt;br&gt; Nombre de vélos disponibles 3 &lt;br&gt; Nombre de places disponibles 17&lt;/div&gt;`)[0];\n",
       "                popup_795c15df125d079c055b930759328ae5.setContent(html_4561e646d2f0879ed4c47b68ade1576e);\n",
       "            \n",
       "        \n",
       "\n",
       "        marker_3402162e3256983aa9e9a53de8129df1.bindPopup(popup_795c15df125d079c055b930759328ae5)\n",
       "        ;\n",
       "\n",
       "        \n",
       "    \n",
       "    \n",
       "            var marker_7df7b61c12371f60a02fdca9928429d7 = L.marker(\n",
       "                [50.63417, 3.095958],\n",
       "                {}\n",
       "            ).addTo(map_6cfc0e4d35730cccc7872d39d9dc204b);\n",
       "        \n",
       "    \n",
       "        var popup_77c52796d4d1466944846c2915a856a6 = L.popup({&quot;maxWidth&quot;: &quot;100%&quot;});\n",
       "\n",
       "        \n",
       "            \n",
       "                var html_1abb3ded05b218bfbfb34543c63205cc = $(`&lt;div id=&quot;html_1abb3ded05b218bfbfb34543c63205cc&quot; style=&quot;width: 100.0%; height: 100.0%;&quot;&gt;Nom de l&#x27;arrêt SQUARE DES MERES &lt;br&gt; Nombre de vélos disponibles 24 &lt;br&gt; Nombre de places disponibles 1&lt;/div&gt;`)[0];\n",
       "                popup_77c52796d4d1466944846c2915a856a6.setContent(html_1abb3ded05b218bfbfb34543c63205cc);\n",
       "            \n",
       "        \n",
       "\n",
       "        marker_7df7b61c12371f60a02fdca9928429d7.bindPopup(popup_77c52796d4d1466944846c2915a856a6)\n",
       "        ;\n",
       "\n",
       "        \n",
       "    \n",
       "    \n",
       "            var marker_958ff4d8cf2fe25990c3ea01a85272ee = L.marker(\n",
       "                [50.628918, 3.088147],\n",
       "                {}\n",
       "            ).addTo(map_6cfc0e4d35730cccc7872d39d9dc204b);\n",
       "        \n",
       "    \n",
       "        var popup_55b31d828f13c930ae12c06d361d2fbc = L.popup({&quot;maxWidth&quot;: &quot;100%&quot;});\n",
       "\n",
       "        \n",
       "            \n",
       "                var html_d40534c435cd212e11e7e733f13da756 = $(`&lt;div id=&quot;html_d40534c435cd212e11e7e733f13da756&quot; style=&quot;width: 100.0%; height: 100.0%;&quot;&gt;Nom de l&#x27;arrêt STADE BALLET &lt;br&gt; Nombre de vélos disponibles 15 &lt;br&gt; Nombre de places disponibles 3&lt;/div&gt;`)[0];\n",
       "                popup_55b31d828f13c930ae12c06d361d2fbc.setContent(html_d40534c435cd212e11e7e733f13da756);\n",
       "            \n",
       "        \n",
       "\n",
       "        marker_958ff4d8cf2fe25990c3ea01a85272ee.bindPopup(popup_55b31d828f13c930ae12c06d361d2fbc)\n",
       "        ;\n",
       "\n",
       "        \n",
       "    \n",
       "    \n",
       "            var marker_dba9aaec860e4cf5d69e8d6429b54248 = L.marker(\n",
       "                [50.63579, 3.033977],\n",
       "                {}\n",
       "            ).addTo(map_6cfc0e4d35730cccc7872d39d9dc204b);\n",
       "        \n",
       "    \n",
       "        var popup_4b8aa89f4ca0545e1913f6a3b2db5ce9 = L.popup({&quot;maxWidth&quot;: &quot;100%&quot;});\n",
       "\n",
       "        \n",
       "            \n",
       "                var html_5edb19e27478cbe41eaca1baf645782c = $(`&lt;div id=&quot;html_5edb19e27478cbe41eaca1baf645782c&quot; style=&quot;width: 100.0%; height: 100.0%;&quot;&gt;Nom de l&#x27;arrêt MARX DORMOY &lt;br&gt; Nombre de vélos disponibles 4 &lt;br&gt; Nombre de places disponibles 20&lt;/div&gt;`)[0];\n",
       "                popup_4b8aa89f4ca0545e1913f6a3b2db5ce9.setContent(html_5edb19e27478cbe41eaca1baf645782c);\n",
       "            \n",
       "        \n",
       "\n",
       "        marker_dba9aaec860e4cf5d69e8d6429b54248.bindPopup(popup_4b8aa89f4ca0545e1913f6a3b2db5ce9)\n",
       "        ;\n",
       "\n",
       "        \n",
       "    \n",
       "    \n",
       "            var marker_c168a973b53ad037b23f34a60f80ac0f = L.marker(\n",
       "                [50.63041, 3.097037],\n",
       "                {}\n",
       "            ).addTo(map_6cfc0e4d35730cccc7872d39d9dc204b);\n",
       "        \n",
       "    \n",
       "        var popup_8bcbd3cc666d8f0c2cc23d1d3fdaa887 = L.popup({&quot;maxWidth&quot;: &quot;100%&quot;});\n",
       "\n",
       "        \n",
       "            \n",
       "                var html_b851bd6df8967fc2a57d52c9ca364c2d = $(`&lt;div id=&quot;html_b851bd6df8967fc2a57d52c9ca364c2d&quot; style=&quot;width: 100.0%; height: 100.0%;&quot;&gt;Nom de l&#x27;arrêt MARBRERIE &lt;br&gt; Nombre de vélos disponibles 11 &lt;br&gt; Nombre de places disponibles 7&lt;/div&gt;`)[0];\n",
       "                popup_8bcbd3cc666d8f0c2cc23d1d3fdaa887.setContent(html_b851bd6df8967fc2a57d52c9ca364c2d);\n",
       "            \n",
       "        \n",
       "\n",
       "        marker_c168a973b53ad037b23f34a60f80ac0f.bindPopup(popup_8bcbd3cc666d8f0c2cc23d1d3fdaa887)\n",
       "        ;\n",
       "\n",
       "        \n",
       "    \n",
       "    \n",
       "            var marker_dde71872411482a90853475a4673f55d = L.marker(\n",
       "                [50.64543, 3.075116],\n",
       "                {}\n",
       "            ).addTo(map_6cfc0e4d35730cccc7872d39d9dc204b);\n",
       "        \n",
       "    \n",
       "        var popup_0d6df5e0dc5a36bd5e25799b90c59750 = L.popup({&quot;maxWidth&quot;: &quot;100%&quot;});\n",
       "\n",
       "        \n",
       "            \n",
       "                var html_5f6e2eeb657e1bc1d0634f0c4aa5eb68 = $(`&lt;div id=&quot;html_5f6e2eeb657e1bc1d0634f0c4aa5eb68&quot; style=&quot;width: 100.0%; height: 100.0%;&quot;&gt;Nom de l&#x27;arrêt ROMARIN &lt;br&gt; Nombre de vélos disponibles 8 &lt;br&gt; Nombre de places disponibles 19&lt;/div&gt;`)[0];\n",
       "                popup_0d6df5e0dc5a36bd5e25799b90c59750.setContent(html_5f6e2eeb657e1bc1d0634f0c4aa5eb68);\n",
       "            \n",
       "        \n",
       "\n",
       "        marker_dde71872411482a90853475a4673f55d.bindPopup(popup_0d6df5e0dc5a36bd5e25799b90c59750)\n",
       "        ;\n",
       "\n",
       "        \n",
       "    \n",
       "    \n",
       "            var marker_ecdd6259d10ac9a1ce720c31f62a82a0 = L.marker(\n",
       "                [50.65937, 3.074057],\n",
       "                {}\n",
       "            ).addTo(map_6cfc0e4d35730cccc7872d39d9dc204b);\n",
       "        \n",
       "    \n",
       "        var popup_635db6bee67a51fed05fa3c42e6b66cf = L.popup({&quot;maxWidth&quot;: &quot;100%&quot;});\n",
       "\n",
       "        \n",
       "            \n",
       "                var html_2990c779713df2d2b12e06351ca4bed4 = $(`&lt;div id=&quot;html_2990c779713df2d2b12e06351ca4bed4&quot; style=&quot;width: 100.0%; height: 100.0%;&quot;&gt;Nom de l&#x27;arrêt LA MADELEINE GARE &lt;br&gt; Nombre de vélos disponibles 0 &lt;br&gt; Nombre de places disponibles 17&lt;/div&gt;`)[0];\n",
       "                popup_635db6bee67a51fed05fa3c42e6b66cf.setContent(html_2990c779713df2d2b12e06351ca4bed4);\n",
       "            \n",
       "        \n",
       "\n",
       "        marker_ecdd6259d10ac9a1ce720c31f62a82a0.bindPopup(popup_635db6bee67a51fed05fa3c42e6b66cf)\n",
       "        ;\n",
       "\n",
       "        \n",
       "    \n",
       "    \n",
       "            var marker_290c8c5a1f0a3974ef5a1175303c88a6 = L.marker(\n",
       "                [50.6549, 3.068756],\n",
       "                {}\n",
       "            ).addTo(map_6cfc0e4d35730cccc7872d39d9dc204b);\n",
       "        \n",
       "    \n",
       "        var popup_6c83edb46aed926de1f48540c8979cba = L.popup({&quot;maxWidth&quot;: &quot;100%&quot;});\n",
       "\n",
       "        \n",
       "            \n",
       "                var html_94891810ab71b2fb7bd8cb6a8ae8ba9c = $(`&lt;div id=&quot;html_94891810ab71b2fb7bd8cb6a8ae8ba9c&quot; style=&quot;width: 100.0%; height: 100.0%;&quot;&gt;Nom de l&#x27;arrêt PLACE DU MARCHE &lt;br&gt; Nombre de vélos disponibles 8 &lt;br&gt; Nombre de places disponibles 12&lt;/div&gt;`)[0];\n",
       "                popup_6c83edb46aed926de1f48540c8979cba.setContent(html_94891810ab71b2fb7bd8cb6a8ae8ba9c);\n",
       "            \n",
       "        \n",
       "\n",
       "        marker_290c8c5a1f0a3974ef5a1175303c88a6.bindPopup(popup_6c83edb46aed926de1f48540c8979cba)\n",
       "        ;\n",
       "\n",
       "        \n",
       "    \n",
       "    \n",
       "            var marker_e52eb08e8379380396e4174aecf9fea5 = L.marker(\n",
       "                [50.654602, 3.073805],\n",
       "                {}\n",
       "            ).addTo(map_6cfc0e4d35730cccc7872d39d9dc204b);\n",
       "        \n",
       "    \n",
       "        var popup_0bd26c509264876302c39c98b4551179 = L.popup({&quot;maxWidth&quot;: &quot;100%&quot;});\n",
       "\n",
       "        \n",
       "            \n",
       "                var html_3c7814e4bbd1dda47dce2f5a845fcb50 = $(`&lt;div id=&quot;html_3c7814e4bbd1dda47dce2f5a845fcb50&quot; style=&quot;width: 100.0%; height: 100.0%;&quot;&gt;Nom de l&#x27;arrêt LA MADELEINE MAIRIE &lt;br&gt; Nombre de vélos disponibles 12 &lt;br&gt; Nombre de places disponibles 12&lt;/div&gt;`)[0];\n",
       "                popup_0bd26c509264876302c39c98b4551179.setContent(html_3c7814e4bbd1dda47dce2f5a845fcb50);\n",
       "            \n",
       "        \n",
       "\n",
       "        marker_e52eb08e8379380396e4174aecf9fea5.bindPopup(popup_0bd26c509264876302c39c98b4551179)\n",
       "        ;\n",
       "\n",
       "        \n",
       "    \n",
       "    \n",
       "            var marker_1ac19d4079e2920cfd133430eee98f1a = L.marker(\n",
       "                [50.651638, 3.081625],\n",
       "                {}\n",
       "            ).addTo(map_6cfc0e4d35730cccc7872d39d9dc204b);\n",
       "        \n",
       "    \n",
       "        var popup_0c0673016d3e80587205f57bfb0d67a3 = L.popup({&quot;maxWidth&quot;: &quot;100%&quot;});\n",
       "\n",
       "        \n",
       "            \n",
       "                var html_d109f7e8120557cb38dfb99815afaec7 = $(`&lt;div id=&quot;html_d109f7e8120557cb38dfb99815afaec7&quot; style=&quot;width: 100.0%; height: 100.0%;&quot;&gt;Nom de l&#x27;arrêt SAINT MAUR &lt;br&gt; Nombre de vélos disponibles 3 &lt;br&gt; Nombre de places disponibles 21&lt;/div&gt;`)[0];\n",
       "                popup_0c0673016d3e80587205f57bfb0d67a3.setContent(html_d109f7e8120557cb38dfb99815afaec7);\n",
       "            \n",
       "        \n",
       "\n",
       "        marker_1ac19d4079e2920cfd133430eee98f1a.bindPopup(popup_0c0673016d3e80587205f57bfb0d67a3)\n",
       "        ;\n",
       "\n",
       "        \n",
       "    \n",
       "    \n",
       "            var marker_111c08f975056dfdcb18919bfab05aa4 = L.marker(\n",
       "                [50.6423, 3.099291],\n",
       "                {}\n",
       "            ).addTo(map_6cfc0e4d35730cccc7872d39d9dc204b);\n",
       "        \n",
       "    \n",
       "        var popup_84855326dd8668e37f10f2e4895b4b96 = L.popup({&quot;maxWidth&quot;: &quot;100%&quot;});\n",
       "\n",
       "        \n",
       "            \n",
       "                var html_156c2d17eb97841febc72656dd18b16e = $(`&lt;div id=&quot;html_156c2d17eb97841febc72656dd18b16e&quot; style=&quot;width: 100.0%; height: 100.0%;&quot;&gt;Nom de l&#x27;arrêt MONS SARTS &lt;br&gt; Nombre de vélos disponibles 3 &lt;br&gt; Nombre de places disponibles 21&lt;/div&gt;`)[0];\n",
       "                popup_84855326dd8668e37f10f2e4895b4b96.setContent(html_156c2d17eb97841febc72656dd18b16e);\n",
       "            \n",
       "        \n",
       "\n",
       "        marker_111c08f975056dfdcb18919bfab05aa4.bindPopup(popup_84855326dd8668e37f10f2e4895b4b96)\n",
       "        ;\n",
       "\n",
       "        \n",
       "    \n",
       "    \n",
       "            var marker_fc2ce17061d19f480b3cae33903abc2b = L.marker(\n",
       "                [50.64218, 3.109699],\n",
       "                {}\n",
       "            ).addTo(map_6cfc0e4d35730cccc7872d39d9dc204b);\n",
       "        \n",
       "    \n",
       "        var popup_6fc553fb0ad2ce6ad5b967428d490897 = L.popup({&quot;maxWidth&quot;: &quot;100%&quot;});\n",
       "\n",
       "        \n",
       "            \n",
       "                var html_8c16a73486c3f27b7f68236509a3e2d9 = $(`&lt;div id=&quot;html_8c16a73486c3f27b7f68236509a3e2d9&quot; style=&quot;width: 100.0%; height: 100.0%;&quot;&gt;Nom de l&#x27;arrêt MAIRIE DE MONS &lt;br&gt; Nombre de vélos disponibles 0 &lt;br&gt; Nombre de places disponibles 16&lt;/div&gt;`)[0];\n",
       "                popup_6fc553fb0ad2ce6ad5b967428d490897.setContent(html_8c16a73486c3f27b7f68236509a3e2d9);\n",
       "            \n",
       "        \n",
       "\n",
       "        marker_fc2ce17061d19f480b3cae33903abc2b.bindPopup(popup_6fc553fb0ad2ce6ad5b967428d490897)\n",
       "        ;\n",
       "\n",
       "        \n",
       "    \n",
       "    \n",
       "            var marker_f62e40043f2eb2ad393f5e56a3e3eb35 = L.marker(\n",
       "                [50.639828, 3.106677],\n",
       "                {}\n",
       "            ).addTo(map_6cfc0e4d35730cccc7872d39d9dc204b);\n",
       "        \n",
       "    \n",
       "        var popup_8d775df5980e47da7af2ad767f9c181e = L.popup({&quot;maxWidth&quot;: &quot;100%&quot;});\n",
       "\n",
       "        \n",
       "            \n",
       "                var html_ea4f211d89282e9d902de9c068159897 = $(`&lt;div id=&quot;html_ea4f211d89282e9d902de9c068159897&quot; style=&quot;width: 100.0%; height: 100.0%;&quot;&gt;Nom de l&#x27;arrêt LACORDAIRE &lt;br&gt; Nombre de vélos disponibles 7 &lt;br&gt; Nombre de places disponibles 9&lt;/div&gt;`)[0];\n",
       "                popup_8d775df5980e47da7af2ad767f9c181e.setContent(html_ea4f211d89282e9d902de9c068159897);\n",
       "            \n",
       "        \n",
       "\n",
       "        marker_f62e40043f2eb2ad393f5e56a3e3eb35.bindPopup(popup_8d775df5980e47da7af2ad767f9c181e)\n",
       "        ;\n",
       "\n",
       "        \n",
       "    \n",
       "    \n",
       "            var marker_97f8e08f495a9da163a4e8dbec261152 = L.marker(\n",
       "                [50.64584, 3.112744],\n",
       "                {}\n",
       "            ).addTo(map_6cfc0e4d35730cccc7872d39d9dc204b);\n",
       "        \n",
       "    \n",
       "        var popup_bcec41585ca858200a05f33430439def = L.popup({&quot;maxWidth&quot;: &quot;100%&quot;});\n",
       "\n",
       "        \n",
       "            \n",
       "                var html_4d2915de99fc347312f99a2cb7911dfd = $(`&lt;div id=&quot;html_4d2915de99fc347312f99a2cb7911dfd&quot; style=&quot;width: 100.0%; height: 100.0%;&quot;&gt;Nom de l&#x27;arrêt MENDES FRANCE &lt;br&gt; Nombre de vélos disponibles 6 &lt;br&gt; Nombre de places disponibles 12&lt;/div&gt;`)[0];\n",
       "                popup_bcec41585ca858200a05f33430439def.setContent(html_4d2915de99fc347312f99a2cb7911dfd);\n",
       "            \n",
       "        \n",
       "\n",
       "        marker_97f8e08f495a9da163a4e8dbec261152.bindPopup(popup_bcec41585ca858200a05f33430439def)\n",
       "        ;\n",
       "\n",
       "        \n",
       "    \n",
       "    \n",
       "            var marker_d88a3a4e1bc91ee159b5e584ae86a410 = L.marker(\n",
       "                [50.636105, 3.106438],\n",
       "                {}\n",
       "            ).addTo(map_6cfc0e4d35730cccc7872d39d9dc204b);\n",
       "        \n",
       "    \n",
       "        var popup_581274284f4bed4df36c5286e8e6acca = L.popup({&quot;maxWidth&quot;: &quot;100%&quot;});\n",
       "\n",
       "        \n",
       "            \n",
       "                var html_6773e7d2baeddce5e6a339bba6beabf1 = $(`&lt;div id=&quot;html_6773e7d2baeddce5e6a339bba6beabf1&quot; style=&quot;width: 100.0%; height: 100.0%;&quot;&gt;Nom de l&#x27;arrêt LAVOISIER &lt;br&gt; Nombre de vélos disponibles 11 &lt;br&gt; Nombre de places disponibles 1&lt;/div&gt;`)[0];\n",
       "                popup_581274284f4bed4df36c5286e8e6acca.setContent(html_6773e7d2baeddce5e6a339bba6beabf1);\n",
       "            \n",
       "        \n",
       "\n",
       "        marker_d88a3a4e1bc91ee159b5e584ae86a410.bindPopup(popup_581274284f4bed4df36c5286e8e6acca)\n",
       "        ;\n",
       "\n",
       "        \n",
       "    \n",
       "    \n",
       "            var marker_673bc2d17bd34b36a0f828cc29cda50c = L.marker(\n",
       "                [50.645267, 3.100516],\n",
       "                {}\n",
       "            ).addTo(map_6cfc0e4d35730cccc7872d39d9dc204b);\n",
       "        \n",
       "    \n",
       "        var popup_0899778a0e833c6815b3bedeb51f5ab9 = L.popup({&quot;maxWidth&quot;: &quot;100%&quot;});\n",
       "\n",
       "        \n",
       "            \n",
       "                var html_f613eabc41022cd98b4da38919c578ce = $(`&lt;div id=&quot;html_f613eabc41022cd98b4da38919c578ce&quot; style=&quot;width: 100.0%; height: 100.0%;&quot;&gt;Nom de l&#x27;arrêt GENERAL DE GAULLE &lt;br&gt; Nombre de vélos disponibles 8 &lt;br&gt; Nombre de places disponibles 12&lt;/div&gt;`)[0];\n",
       "                popup_0899778a0e833c6815b3bedeb51f5ab9.setContent(html_f613eabc41022cd98b4da38919c578ce);\n",
       "            \n",
       "        \n",
       "\n",
       "        marker_673bc2d17bd34b36a0f828cc29cda50c.bindPopup(popup_0899778a0e833c6815b3bedeb51f5ab9)\n",
       "        ;\n",
       "\n",
       "        \n",
       "    \n",
       "    \n",
       "            var marker_ed2020567a1b19e08b4d82e51216fafa = L.marker(\n",
       "                [50.62487, 3.034234],\n",
       "                {}\n",
       "            ).addTo(map_6cfc0e4d35730cccc7872d39d9dc204b);\n",
       "        \n",
       "    \n",
       "        var popup_a62c186d9b6800fc56948452dac9e738 = L.popup({&quot;maxWidth&quot;: &quot;100%&quot;});\n",
       "\n",
       "        \n",
       "            \n",
       "                var html_8113e44a3de62d32d3f13af0fb8af309 = $(`&lt;div id=&quot;html_8113e44a3de62d32d3f13af0fb8af309&quot; style=&quot;width: 100.0%; height: 100.0%;&quot;&gt;Nom de l&#x27;arrêt RUE BONTE-POLLET &lt;br&gt; Nombre de vélos disponibles 2 &lt;br&gt; Nombre de places disponibles 14&lt;/div&gt;`)[0];\n",
       "                popup_a62c186d9b6800fc56948452dac9e738.setContent(html_8113e44a3de62d32d3f13af0fb8af309);\n",
       "            \n",
       "        \n",
       "\n",
       "        marker_ed2020567a1b19e08b4d82e51216fafa.bindPopup(popup_a62c186d9b6800fc56948452dac9e738)\n",
       "        ;\n",
       "\n",
       "        \n",
       "    \n",
       "    \n",
       "            var marker_e251c7227c6d9fe1c19d42eb05f5831a = L.marker(\n",
       "                [50.62486, 3.116677],\n",
       "                {}\n",
       "            ).addTo(map_6cfc0e4d35730cccc7872d39d9dc204b);\n",
       "        \n",
       "    \n",
       "        var popup_bbd9b5fe68eff24a9b12588a4e5a8028 = L.popup({&quot;maxWidth&quot;: &quot;100%&quot;});\n",
       "\n",
       "        \n",
       "            \n",
       "                var html_acc5e0915e97fb755d391cd01016445b = $(`&lt;div id=&quot;html_acc5e0915e97fb755d391cd01016445b&quot; style=&quot;width: 100.0%; height: 100.0%;&quot;&gt;Nom de l&#x27;arrêt HELLEMMES CIMETIERE &lt;br&gt; Nombre de vélos disponibles 6 &lt;br&gt; Nombre de places disponibles 6&lt;/div&gt;`)[0];\n",
       "                popup_bbd9b5fe68eff24a9b12588a4e5a8028.setContent(html_acc5e0915e97fb755d391cd01016445b);\n",
       "            \n",
       "        \n",
       "\n",
       "        marker_e251c7227c6d9fe1c19d42eb05f5831a.bindPopup(popup_bbd9b5fe68eff24a9b12588a4e5a8028)\n",
       "        ;\n",
       "\n",
       "        \n",
       "    \n",
       "    \n",
       "            var marker_5d075c989390f87f829c8f4eaf1ab389 = L.marker(\n",
       "                [50.651337, 3.08945],\n",
       "                {}\n",
       "            ).addTo(map_6cfc0e4d35730cccc7872d39d9dc204b);\n",
       "        \n",
       "    \n",
       "        var popup_c44fd55c6aa2085c217a1926977dfb00 = L.popup({&quot;maxWidth&quot;: &quot;100%&quot;});\n",
       "\n",
       "        \n",
       "            \n",
       "                var html_ed52a5c6f43c89c6fc5dde27c1903ea2 = $(`&lt;div id=&quot;html_ed52a5c6f43c89c6fc5dde27c1903ea2&quot; style=&quot;width: 100.0%; height: 100.0%;&quot;&gt;Nom de l&#x27;arrêt AVENUE DE MORMAL &lt;br&gt; Nombre de vélos disponibles 8 &lt;br&gt; Nombre de places disponibles 10&lt;/div&gt;`)[0];\n",
       "                popup_c44fd55c6aa2085c217a1926977dfb00.setContent(html_ed52a5c6f43c89c6fc5dde27c1903ea2);\n",
       "            \n",
       "        \n",
       "\n",
       "        marker_5d075c989390f87f829c8f4eaf1ab389.bindPopup(popup_c44fd55c6aa2085c217a1926977dfb00)\n",
       "        ;\n",
       "\n",
       "        \n",
       "    \n",
       "    \n",
       "            var marker_624c2aa37d630ae7dff81a9a2bd4a54f = L.marker(\n",
       "                [50.62651, 3.079211],\n",
       "                {}\n",
       "            ).addTo(map_6cfc0e4d35730cccc7872d39d9dc204b);\n",
       "        \n",
       "    \n",
       "        var popup_fd01e5ccbea51ac8a9593f89a84dcda6 = L.popup({&quot;maxWidth&quot;: &quot;100%&quot;});\n",
       "\n",
       "        \n",
       "            \n",
       "                var html_1a8d9d621da9476d198379df72cd85b6 = $(`&lt;div id=&quot;html_1a8d9d621da9476d198379df72cd85b6&quot; style=&quot;width: 100.0%; height: 100.0%;&quot;&gt;Nom de l&#x27;arrêt BOIS HABITE &lt;br&gt; Nombre de vélos disponibles 2 &lt;br&gt; Nombre de places disponibles 15&lt;/div&gt;`)[0];\n",
       "                popup_fd01e5ccbea51ac8a9593f89a84dcda6.setContent(html_1a8d9d621da9476d198379df72cd85b6);\n",
       "            \n",
       "        \n",
       "\n",
       "        marker_624c2aa37d630ae7dff81a9a2bd4a54f.bindPopup(popup_fd01e5ccbea51ac8a9593f89a84dcda6)\n",
       "        ;\n",
       "\n",
       "        \n",
       "    \n",
       "    \n",
       "            var marker_94991e71d345fd1e91ee7c2e29972dfa = L.marker(\n",
       "                [50.651497, 3.072316],\n",
       "                {}\n",
       "            ).addTo(map_6cfc0e4d35730cccc7872d39d9dc204b);\n",
       "        \n",
       "    \n",
       "        var popup_e92954e607762f40c73fcabf2f6b61cf = L.popup({&quot;maxWidth&quot;: &quot;100%&quot;});\n",
       "\n",
       "        \n",
       "            \n",
       "                var html_ec2af908cc1ba8c752ea6bdd192e4e03 = $(`&lt;div id=&quot;html_ec2af908cc1ba8c752ea6bdd192e4e03&quot; style=&quot;width: 100.0%; height: 100.0%;&quot;&gt;Nom de l&#x27;arrêt DE GAULLE &lt;br&gt; Nombre de vélos disponibles 15 &lt;br&gt; Nombre de places disponibles 3&lt;/div&gt;`)[0];\n",
       "                popup_e92954e607762f40c73fcabf2f6b61cf.setContent(html_ec2af908cc1ba8c752ea6bdd192e4e03);\n",
       "            \n",
       "        \n",
       "\n",
       "        marker_94991e71d345fd1e91ee7c2e29972dfa.bindPopup(popup_e92954e607762f40c73fcabf2f6b61cf)\n",
       "        ;\n",
       "\n",
       "        \n",
       "    \n",
       "    \n",
       "            var marker_bedeae81760d66b3d67368efa336a2e5 = L.marker(\n",
       "                [50.64891, 3.078336],\n",
       "                {}\n",
       "            ).addTo(map_6cfc0e4d35730cccc7872d39d9dc204b);\n",
       "        \n",
       "    \n",
       "        var popup_54820aeb61305177b1f8efa0e1299722 = L.popup({&quot;maxWidth&quot;: &quot;100%&quot;});\n",
       "\n",
       "        \n",
       "            \n",
       "                var html_12266776b5d751cdb26c1863de2fd1a0 = $(`&lt;div id=&quot;html_12266776b5d751cdb26c1863de2fd1a0&quot; style=&quot;width: 100.0%; height: 100.0%;&quot;&gt;Nom de l&#x27;arrêt BOTANIQUE &lt;br&gt; Nombre de vélos disponibles 2 &lt;br&gt; Nombre de places disponibles 14&lt;/div&gt;`)[0];\n",
       "                popup_54820aeb61305177b1f8efa0e1299722.setContent(html_12266776b5d751cdb26c1863de2fd1a0);\n",
       "            \n",
       "        \n",
       "\n",
       "        marker_bedeae81760d66b3d67368efa336a2e5.bindPopup(popup_54820aeb61305177b1f8efa0e1299722)\n",
       "        ;\n",
       "\n",
       "        \n",
       "    \n",
       "    \n",
       "            var marker_12fd37cb951b2e422c13b015a4a1afc2 = L.marker(\n",
       "                [50.641617, 3.031375],\n",
       "                {}\n",
       "            ).addTo(map_6cfc0e4d35730cccc7872d39d9dc204b);\n",
       "        \n",
       "    \n",
       "        var popup_bd254ac424817eb2a4e0832459de5b5d = L.popup({&quot;maxWidth&quot;: &quot;100%&quot;});\n",
       "\n",
       "        \n",
       "            \n",
       "                var html_0aa71f0019eed98acdbf8ac967b07c8c = $(`&lt;div id=&quot;html_0aa71f0019eed98acdbf8ac967b07c8c&quot; style=&quot;width: 100.0%; height: 100.0%;&quot;&gt;Nom de l&#x27;arrêt HIPPODROME &lt;br&gt; Nombre de vélos disponibles 20 &lt;br&gt; Nombre de places disponibles 1&lt;/div&gt;`)[0];\n",
       "                popup_bd254ac424817eb2a4e0832459de5b5d.setContent(html_0aa71f0019eed98acdbf8ac967b07c8c);\n",
       "            \n",
       "        \n",
       "\n",
       "        marker_12fd37cb951b2e422c13b015a4a1afc2.bindPopup(popup_bd254ac424817eb2a4e0832459de5b5d)\n",
       "        ;\n",
       "\n",
       "        \n",
       "    \n",
       "    \n",
       "            var marker_994205fb24aff220f2d0c896044db94a = L.marker(\n",
       "                [50.640957, 3.018803],\n",
       "                {}\n",
       "            ).addTo(map_6cfc0e4d35730cccc7872d39d9dc204b);\n",
       "        \n",
       "    \n",
       "        var popup_b7651733e565ac36e2a81cf78562c3bd = L.popup({&quot;maxWidth&quot;: &quot;100%&quot;});\n",
       "\n",
       "        \n",
       "            \n",
       "                var html_99f395844795b5dab32a7cf3536379f4 = $(`&lt;div id=&quot;html_99f395844795b5dab32a7cf3536379f4&quot; style=&quot;width: 100.0%; height: 100.0%;&quot;&gt;Nom de l&#x27;arrêt LOMME-LAMBERSART &lt;br&gt; Nombre de vélos disponibles 17 &lt;br&gt; Nombre de places disponibles 1&lt;/div&gt;`)[0];\n",
       "                popup_b7651733e565ac36e2a81cf78562c3bd.setContent(html_99f395844795b5dab32a7cf3536379f4);\n",
       "            \n",
       "        \n",
       "\n",
       "        marker_994205fb24aff220f2d0c896044db94a.bindPopup(popup_b7651733e565ac36e2a81cf78562c3bd)\n",
       "        ;\n",
       "\n",
       "        \n",
       "    \n",
       "    \n",
       "            var marker_b1dd495cea217d9f764dd590ccc067e7 = L.marker(\n",
       "                [50.63899, 3.01154],\n",
       "                {}\n",
       "            ).addTo(map_6cfc0e4d35730cccc7872d39d9dc204b);\n",
       "        \n",
       "    \n",
       "        var popup_1a2869a9fb255eec50a4b05db24cbd59 = L.popup({&quot;maxWidth&quot;: &quot;100%&quot;});\n",
       "\n",
       "        \n",
       "            \n",
       "                var html_1e96ab3d4059f4d8adacef5990e9a766 = $(`&lt;div id=&quot;html_1e96ab3d4059f4d8adacef5990e9a766&quot; style=&quot;width: 100.0%; height: 100.0%;&quot;&gt;Nom de l&#x27;arrêt LOMME MAIRIE &lt;br&gt; Nombre de vélos disponibles 17 &lt;br&gt; Nombre de places disponibles 1&lt;/div&gt;`)[0];\n",
       "                popup_1a2869a9fb255eec50a4b05db24cbd59.setContent(html_1e96ab3d4059f4d8adacef5990e9a766);\n",
       "            \n",
       "        \n",
       "\n",
       "        marker_b1dd495cea217d9f764dd590ccc067e7.bindPopup(popup_1a2869a9fb255eec50a4b05db24cbd59)\n",
       "        ;\n",
       "\n",
       "        \n",
       "    \n",
       "    \n",
       "            var marker_0ee181d5270a0ff583811d96b195daaa = L.marker(\n",
       "                [50.644855, 3.013238],\n",
       "                {}\n",
       "            ).addTo(map_6cfc0e4d35730cccc7872d39d9dc204b);\n",
       "        \n",
       "    \n",
       "        var popup_b22c3b183cc1ce750eeb3add7f7c53c1 = L.popup({&quot;maxWidth&quot;: &quot;100%&quot;});\n",
       "\n",
       "        \n",
       "            \n",
       "                var html_58c6b5abe69df067d188d118b420878b = $(`&lt;div id=&quot;html_58c6b5abe69df067d188d118b420878b&quot; style=&quot;width: 100.0%; height: 100.0%;&quot;&gt;Nom de l&#x27;arrêt PONT SUPERIEUR &lt;br&gt; Nombre de vélos disponibles 11 &lt;br&gt; Nombre de places disponibles 5&lt;/div&gt;`)[0];\n",
       "                popup_b22c3b183cc1ce750eeb3add7f7c53c1.setContent(html_58c6b5abe69df067d188d118b420878b);\n",
       "            \n",
       "        \n",
       "\n",
       "        marker_0ee181d5270a0ff583811d96b195daaa.bindPopup(popup_b22c3b183cc1ce750eeb3add7f7c53c1)\n",
       "        ;\n",
       "\n",
       "        \n",
       "    \n",
       "    \n",
       "            var marker_199501322e00f164113d5d90a3e6c58e = L.marker(\n",
       "                [50.666033, 3.087591],\n",
       "                {}\n",
       "            ).addTo(map_6cfc0e4d35730cccc7872d39d9dc204b);\n",
       "        \n",
       "    \n",
       "        var popup_c0a1f689e3f60675794e218c010ffbea = L.popup({&quot;maxWidth&quot;: &quot;100%&quot;});\n",
       "\n",
       "        \n",
       "            \n",
       "                var html_3e8a6d5b87e3b9519bc808889904a1c5 = $(`&lt;div id=&quot;html_3e8a6d5b87e3b9519bc808889904a1c5&quot; style=&quot;width: 100.0%; height: 100.0%;&quot;&gt;Nom de l&#x27;arrêt PISCINE DE MARCQ &lt;br&gt; Nombre de vélos disponibles 10 &lt;br&gt; Nombre de places disponibles 6&lt;/div&gt;`)[0];\n",
       "                popup_c0a1f689e3f60675794e218c010ffbea.setContent(html_3e8a6d5b87e3b9519bc808889904a1c5);\n",
       "            \n",
       "        \n",
       "\n",
       "        marker_199501322e00f164113d5d90a3e6c58e.bindPopup(popup_c0a1f689e3f60675794e218c010ffbea)\n",
       "        ;\n",
       "\n",
       "        \n",
       "    \n",
       "    \n",
       "            var marker_cfa6ff9be3eacbce7816933699f636c7 = L.marker(\n",
       "                [50.665348, 3.075792],\n",
       "                {}\n",
       "            ).addTo(map_6cfc0e4d35730cccc7872d39d9dc204b);\n",
       "        \n",
       "    \n",
       "        var popup_f2c3ebba3eca1b5c30e32ffb118853c4 = L.popup({&quot;maxWidth&quot;: &quot;100%&quot;});\n",
       "\n",
       "        \n",
       "            \n",
       "                var html_501dcfd60898dfa71a64a6435e9d8a98 = $(`&lt;div id=&quot;html_501dcfd60898dfa71a64a6435e9d8a98&quot; style=&quot;width: 100.0%; height: 100.0%;&quot;&gt;Nom de l&#x27;arrêt RUE DE L&#x27;EGLISE &lt;br&gt; Nombre de vélos disponibles 12 &lt;br&gt; Nombre de places disponibles 5&lt;/div&gt;`)[0];\n",
       "                popup_f2c3ebba3eca1b5c30e32ffb118853c4.setContent(html_501dcfd60898dfa71a64a6435e9d8a98);\n",
       "            \n",
       "        \n",
       "\n",
       "        marker_cfa6ff9be3eacbce7816933699f636c7.bindPopup(popup_f2c3ebba3eca1b5c30e32ffb118853c4)\n",
       "        ;\n",
       "\n",
       "        \n",
       "    \n",
       "    \n",
       "            var marker_37a486ce28b102cfd77315e68b02e436 = L.marker(\n",
       "                [50.6618, 3.096235],\n",
       "                {}\n",
       "            ).addTo(map_6cfc0e4d35730cccc7872d39d9dc204b);\n",
       "        \n",
       "    \n",
       "        var popup_3f78f0fe1a1bd480e15e29639b00e38e = L.popup({&quot;maxWidth&quot;: &quot;100%&quot;});\n",
       "\n",
       "        \n",
       "            \n",
       "                var html_fefa147532d3073e79bedd65863825a6 = $(`&lt;div id=&quot;html_fefa147532d3073e79bedd65863825a6&quot; style=&quot;width: 100.0%; height: 100.0%;&quot;&gt;Nom de l&#x27;arrêt CLEMENCEAU HIPPODROME &lt;br&gt; Nombre de vélos disponibles 2 &lt;br&gt; Nombre de places disponibles 16&lt;/div&gt;`)[0];\n",
       "                popup_3f78f0fe1a1bd480e15e29639b00e38e.setContent(html_fefa147532d3073e79bedd65863825a6);\n",
       "            \n",
       "        \n",
       "\n",
       "        marker_37a486ce28b102cfd77315e68b02e436.bindPopup(popup_3f78f0fe1a1bd480e15e29639b00e38e)\n",
       "        ;\n",
       "\n",
       "        \n",
       "    \n",
       "    \n",
       "            var marker_dfa1f1f41943d4cd7bb0c2a4cb391860 = L.marker(\n",
       "                [50.643883, 3.118579],\n",
       "                {}\n",
       "            ).addTo(map_6cfc0e4d35730cccc7872d39d9dc204b);\n",
       "        \n",
       "    \n",
       "        var popup_92f441cf133329c16852e130b76eb7db = L.popup({&quot;maxWidth&quot;: &quot;100%&quot;});\n",
       "\n",
       "        \n",
       "            \n",
       "                var html_46027382ea173f807fab8701ecf2f080 = $(`&lt;div id=&quot;html_46027382ea173f807fab8701ecf2f080&quot; style=&quot;width: 100.0%; height: 100.0%;&quot;&gt;Nom de l&#x27;arrêt FORT DE MONS &lt;br&gt; Nombre de vélos disponibles 8 &lt;br&gt; Nombre de places disponibles 12&lt;/div&gt;`)[0];\n",
       "                popup_92f441cf133329c16852e130b76eb7db.setContent(html_46027382ea173f807fab8701ecf2f080);\n",
       "            \n",
       "        \n",
       "\n",
       "        marker_dfa1f1f41943d4cd7bb0c2a4cb391860.bindPopup(popup_92f441cf133329c16852e130b76eb7db)\n",
       "        ;\n",
       "\n",
       "        \n",
       "    \n",
       "    \n",
       "            var marker_c1ebcbc47e15309a99252d76b6364227 = L.marker(\n",
       "                [50.62435, 3.1283],\n",
       "                {}\n",
       "            ).addTo(map_6cfc0e4d35730cccc7872d39d9dc204b);\n",
       "        \n",
       "    \n",
       "        var popup_b1ee2d7d77f4dc7349bb486b61cbe5f3 = L.popup({&quot;maxWidth&quot;: &quot;100%&quot;});\n",
       "\n",
       "        \n",
       "            \n",
       "                var html_8bb65c0b99161d886af0f9183b35ab9f = $(`&lt;div id=&quot;html_8bb65c0b99161d886af0f9183b35ab9f&quot; style=&quot;width: 100.0%; height: 100.0%;&quot;&gt;Nom de l&#x27;arrêt PONT DE BOIS &lt;br&gt; Nombre de vélos disponibles 19 &lt;br&gt; Nombre de places disponibles 11&lt;/div&gt;`)[0];\n",
       "                popup_b1ee2d7d77f4dc7349bb486b61cbe5f3.setContent(html_8bb65c0b99161d886af0f9183b35ab9f);\n",
       "            \n",
       "        \n",
       "\n",
       "        marker_c1ebcbc47e15309a99252d76b6364227.bindPopup(popup_b1ee2d7d77f4dc7349bb486b61cbe5f3)\n",
       "        ;\n",
       "\n",
       "        \n",
       "    \n",
       "    \n",
       "            var marker_387de711922986f0c20a0f6b6cc77dfb = L.marker(\n",
       "                [50.619602, 3.13197],\n",
       "                {}\n",
       "            ).addTo(map_6cfc0e4d35730cccc7872d39d9dc204b);\n",
       "        \n",
       "    \n",
       "        var popup_d0c88d1735a2e778440954d9809df7ec = L.popup({&quot;maxWidth&quot;: &quot;100%&quot;});\n",
       "\n",
       "        \n",
       "            \n",
       "                var html_93e0191451da851c36283e5b7c23017a = $(`&lt;div id=&quot;html_93e0191451da851c36283e5b7c23017a&quot; style=&quot;width: 100.0%; height: 100.0%;&quot;&gt;Nom de l&#x27;arrêt V.ASCQ HOTEL DE VILLE &lt;br&gt; Nombre de vélos disponibles 10 &lt;br&gt; Nombre de places disponibles 14&lt;/div&gt;`)[0];\n",
       "                popup_d0c88d1735a2e778440954d9809df7ec.setContent(html_93e0191451da851c36283e5b7c23017a);\n",
       "            \n",
       "        \n",
       "\n",
       "        marker_387de711922986f0c20a0f6b6cc77dfb.bindPopup(popup_d0c88d1735a2e778440954d9809df7ec)\n",
       "        ;\n",
       "\n",
       "        \n",
       "    \n",
       "    \n",
       "            var marker_c4e205dfc16520a2ddf1c9c67f8ea1aa = L.marker(\n",
       "                [50.61606, 3.132006],\n",
       "                {}\n",
       "            ).addTo(map_6cfc0e4d35730cccc7872d39d9dc204b);\n",
       "        \n",
       "    \n",
       "        var popup_4d99be5e0c339ad3d260a6ffe63a2458 = L.popup({&quot;maxWidth&quot;: &quot;100%&quot;});\n",
       "\n",
       "        \n",
       "            \n",
       "                var html_c3d53ca91e8a6bb60f752844e3bf4623 = $(`&lt;div id=&quot;html_c3d53ca91e8a6bb60f752844e3bf4623&quot; style=&quot;width: 100.0%; height: 100.0%;&quot;&gt;Nom de l&#x27;arrêt CENTRE COMMERCIAL V2 &lt;br&gt; Nombre de vélos disponibles 7 &lt;br&gt; Nombre de places disponibles 12&lt;/div&gt;`)[0];\n",
       "                popup_4d99be5e0c339ad3d260a6ffe63a2458.setContent(html_c3d53ca91e8a6bb60f752844e3bf4623);\n",
       "            \n",
       "        \n",
       "\n",
       "        marker_c4e205dfc16520a2ddf1c9c67f8ea1aa.bindPopup(popup_4d99be5e0c339ad3d260a6ffe63a2458)\n",
       "        ;\n",
       "\n",
       "        \n",
       "    \n",
       "    \n",
       "            var marker_627a693a8beb46568cb8edd232aaf875 = L.marker(\n",
       "                [50.61915, 3.126501],\n",
       "                {}\n",
       "            ).addTo(map_6cfc0e4d35730cccc7872d39d9dc204b);\n",
       "        \n",
       "    \n",
       "        var popup_6b7bc35dc6e8fbd7eded4e29835ba911 = L.popup({&quot;maxWidth&quot;: &quot;100%&quot;});\n",
       "\n",
       "        \n",
       "            \n",
       "                var html_e9f84cf09c5f16d6fd6d53633da8d2d8 = $(`&lt;div id=&quot;html_e9f84cf09c5f16d6fd6d53633da8d2d8&quot; style=&quot;width: 100.0%; height: 100.0%;&quot;&gt;Nom de l&#x27;arrêt BOULEVARD DE VALMY &lt;br&gt; Nombre de vélos disponibles 9 &lt;br&gt; Nombre de places disponibles 9&lt;/div&gt;`)[0];\n",
       "                popup_6b7bc35dc6e8fbd7eded4e29835ba911.setContent(html_e9f84cf09c5f16d6fd6d53633da8d2d8);\n",
       "            \n",
       "        \n",
       "\n",
       "        marker_627a693a8beb46568cb8edd232aaf875.bindPopup(popup_6b7bc35dc6e8fbd7eded4e29835ba911)\n",
       "        ;\n",
       "\n",
       "        \n",
       "    \n",
       "    \n",
       "            var marker_72eead58adcc711da0c48bd99ab69751 = L.marker(\n",
       "                [50.63745, 3.123145],\n",
       "                {}\n",
       "            ).addTo(map_6cfc0e4d35730cccc7872d39d9dc204b);\n",
       "        \n",
       "    \n",
       "        var popup_8d76b98ffc3f2baa539174d5590b655e = L.popup({&quot;maxWidth&quot;: &quot;100%&quot;});\n",
       "\n",
       "        \n",
       "            \n",
       "                var html_5e73846c98c2ae56d70fd69ac0de313c = $(`&lt;div id=&quot;html_5e73846c98c2ae56d70fd69ac0de313c&quot; style=&quot;width: 100.0%; height: 100.0%;&quot;&gt;Nom de l&#x27;arrêt FLERS MASQUELIER &lt;br&gt; Nombre de vélos disponibles 6 &lt;br&gt; Nombre de places disponibles 18&lt;/div&gt;`)[0];\n",
       "                popup_8d76b98ffc3f2baa539174d5590b655e.setContent(html_5e73846c98c2ae56d70fd69ac0de313c);\n",
       "            \n",
       "        \n",
       "\n",
       "        marker_72eead58adcc711da0c48bd99ab69751.bindPopup(popup_8d76b98ffc3f2baa539174d5590b655e)\n",
       "        ;\n",
       "\n",
       "        \n",
       "    \n",
       "    \n",
       "            var marker_e9f1c6995b852d8eb019f88c44d35487 = L.marker(\n",
       "                [50.615868, 3.126089],\n",
       "                {}\n",
       "            ).addTo(map_6cfc0e4d35730cccc7872d39d9dc204b);\n",
       "        \n",
       "    \n",
       "        var popup_23c1003ecee8cfa15329e563ec7fd750 = L.popup({&quot;maxWidth&quot;: &quot;100%&quot;});\n",
       "\n",
       "        \n",
       "            \n",
       "                var html_084596cbbb14a98bd59d7104a4b95f67 = $(`&lt;div id=&quot;html_084596cbbb14a98bd59d7104a4b95f67&quot; style=&quot;width: 100.0%; height: 100.0%;&quot;&gt;Nom de l&#x27;arrêt HERON PARC &lt;br&gt; Nombre de vélos disponibles 7 &lt;br&gt; Nombre de places disponibles 23&lt;/div&gt;`)[0];\n",
       "                popup_23c1003ecee8cfa15329e563ec7fd750.setContent(html_084596cbbb14a98bd59d7104a4b95f67);\n",
       "            \n",
       "        \n",
       "\n",
       "        marker_e9f1c6995b852d8eb019f88c44d35487.bindPopup(popup_23c1003ecee8cfa15329e563ec7fd750)\n",
       "        ;\n",
       "\n",
       "        \n",
       "    \n",
       "    \n",
       "            var marker_9c80978fc9edc7f7021a061e3487b8e6 = L.marker(\n",
       "                [50.631298, 3.126914],\n",
       "                {}\n",
       "            ).addTo(map_6cfc0e4d35730cccc7872d39d9dc204b);\n",
       "        \n",
       "    \n",
       "        var popup_f6c214d411d0ce74cb7eb8485268ebe2 = L.popup({&quot;maxWidth&quot;: &quot;100%&quot;});\n",
       "\n",
       "        \n",
       "            \n",
       "                var html_9195bf4e9d24a6a9d7a62fa6b16ea210 = $(`&lt;div id=&quot;html_9195bf4e9d24a6a9d7a62fa6b16ea210&quot; style=&quot;width: 100.0%; height: 100.0%;&quot;&gt;Nom de l&#x27;arrêt LADRIERE &lt;br&gt; Nombre de vélos disponibles 14 &lt;br&gt; Nombre de places disponibles 6&lt;/div&gt;`)[0];\n",
       "                popup_f6c214d411d0ce74cb7eb8485268ebe2.setContent(html_9195bf4e9d24a6a9d7a62fa6b16ea210);\n",
       "            \n",
       "        \n",
       "\n",
       "        marker_9c80978fc9edc7f7021a061e3487b8e6.bindPopup(popup_f6c214d411d0ce74cb7eb8485268ebe2)\n",
       "        ;\n",
       "\n",
       "        \n",
       "    \n",
       "    \n",
       "            var marker_ae94977b801e4d6c735401644eb58eef = L.marker(\n",
       "                [50.62577, 3.144714],\n",
       "                {}\n",
       "            ).addTo(map_6cfc0e4d35730cccc7872d39d9dc204b);\n",
       "        \n",
       "    \n",
       "        var popup_9dfab67b8b4548eec53b772f759dc2cc = L.popup({&quot;maxWidth&quot;: &quot;100%&quot;});\n",
       "\n",
       "        \n",
       "            \n",
       "                var html_32f8eb268f9c9275ae4f2053ae550d1c = $(`&lt;div id=&quot;html_32f8eb268f9c9275ae4f2053ae550d1c&quot; style=&quot;width: 100.0%; height: 100.0%;&quot;&gt;Nom de l&#x27;arrêt RUE DE LILLE &lt;br&gt; Nombre de vélos disponibles 8 &lt;br&gt; Nombre de places disponibles 8&lt;/div&gt;`)[0];\n",
       "                popup_9dfab67b8b4548eec53b772f759dc2cc.setContent(html_32f8eb268f9c9275ae4f2053ae550d1c);\n",
       "            \n",
       "        \n",
       "\n",
       "        marker_ae94977b801e4d6c735401644eb58eef.bindPopup(popup_9dfab67b8b4548eec53b772f759dc2cc)\n",
       "        ;\n",
       "\n",
       "        \n",
       "    \n",
       "    \n",
       "            var marker_766d1a4a52cdb690bbcf1abfa4ca04d1 = L.marker(\n",
       "                [50.61682, 3.140808],\n",
       "                {}\n",
       "            ).addTo(map_6cfc0e4d35730cccc7872d39d9dc204b);\n",
       "        \n",
       "    \n",
       "        var popup_ae32ae6b93338763d31a076c03a39494 = L.popup({&quot;maxWidth&quot;: &quot;100%&quot;});\n",
       "\n",
       "        \n",
       "            \n",
       "                var html_a1a480bf5faafb5905f496d8ad412b0e = $(`&lt;div id=&quot;html_a1a480bf5faafb5905f496d8ad412b0e&quot; style=&quot;width: 100.0%; height: 100.0%;&quot;&gt;Nom de l&#x27;arrêt METRO TRIOLO &lt;br&gt; Nombre de vélos disponibles 3 &lt;br&gt; Nombre de places disponibles 21&lt;/div&gt;`)[0];\n",
       "                popup_ae32ae6b93338763d31a076c03a39494.setContent(html_a1a480bf5faafb5905f496d8ad412b0e);\n",
       "            \n",
       "        \n",
       "\n",
       "        marker_766d1a4a52cdb690bbcf1abfa4ca04d1.bindPopup(popup_ae32ae6b93338763d31a076c03a39494)\n",
       "        ;\n",
       "\n",
       "        \n",
       "    \n",
       "    \n",
       "            var marker_4521fe7a771a006c3ab772f58aa2ff41 = L.marker(\n",
       "                [50.6206, 3.138207],\n",
       "                {}\n",
       "            ).addTo(map_6cfc0e4d35730cccc7872d39d9dc204b);\n",
       "        \n",
       "    \n",
       "        var popup_7365c4b9f8ff3c0993a2d3f4fdc2e23c = L.popup({&quot;maxWidth&quot;: &quot;100%&quot;});\n",
       "\n",
       "        \n",
       "            \n",
       "                var html_0822b85c50ad85459ccb298f2e6ae2ac = $(`&lt;div id=&quot;html_0822b85c50ad85459ccb298f2e6ae2ac&quot; style=&quot;width: 100.0%; height: 100.0%;&quot;&gt;Nom de l&#x27;arrêt TREMIERE &lt;br&gt; Nombre de vélos disponibles 8 &lt;br&gt; Nombre de places disponibles 11&lt;/div&gt;`)[0];\n",
       "                popup_7365c4b9f8ff3c0993a2d3f4fdc2e23c.setContent(html_0822b85c50ad85459ccb298f2e6ae2ac);\n",
       "            \n",
       "        \n",
       "\n",
       "        marker_4521fe7a771a006c3ab772f58aa2ff41.bindPopup(popup_7365c4b9f8ff3c0993a2d3f4fdc2e23c)\n",
       "        ;\n",
       "\n",
       "        \n",
       "    \n",
       "    \n",
       "            var marker_e0212833fc095d31ac69bec3ab9705fa = L.marker(\n",
       "                [50.6258, 3.14862],\n",
       "                {}\n",
       "            ).addTo(map_6cfc0e4d35730cccc7872d39d9dc204b);\n",
       "        \n",
       "    \n",
       "        var popup_2f29743c353d98da9ca9999318a9b853 = L.popup({&quot;maxWidth&quot;: &quot;100%&quot;});\n",
       "\n",
       "        \n",
       "            \n",
       "                var html_db2c374c609753cab280c7cbf5cde2ba = $(`&lt;div id=&quot;html_db2c374c609753cab280c7cbf5cde2ba&quot; style=&quot;width: 100.0%; height: 100.0%;&quot;&gt;Nom de l&#x27;arrêt ANNAPPES REPUBLIQUE &lt;br&gt; Nombre de vélos disponibles 9 &lt;br&gt; Nombre de places disponibles 15&lt;/div&gt;`)[0];\n",
       "                popup_2f29743c353d98da9ca9999318a9b853.setContent(html_db2c374c609753cab280c7cbf5cde2ba);\n",
       "            \n",
       "        \n",
       "\n",
       "        marker_e0212833fc095d31ac69bec3ab9705fa.bindPopup(popup_2f29743c353d98da9ca9999318a9b853)\n",
       "        ;\n",
       "\n",
       "        \n",
       "    \n",
       "    \n",
       "            var marker_6bcb99d6cfcaa6c9b01499205788510a = L.marker(\n",
       "                [50.63268, 3.052483],\n",
       "                {}\n",
       "            ).addTo(map_6cfc0e4d35730cccc7872d39d9dc204b);\n",
       "        \n",
       "    \n",
       "        var popup_76a4517d0eb4a55a46f7c794b46949e5 = L.popup({&quot;maxWidth&quot;: &quot;100%&quot;});\n",
       "\n",
       "        \n",
       "            \n",
       "                var html_1e77cc8cf2f735226246fa4b83cc2f30 = $(`&lt;div id=&quot;html_1e77cc8cf2f735226246fa4b83cc2f30&quot; style=&quot;width: 100.0%; height: 100.0%;&quot;&gt;Nom de l&#x27;arrêt SOLFERINO NATIONALE &lt;br&gt; Nombre de vélos disponibles 8 &lt;br&gt; Nombre de places disponibles 11&lt;/div&gt;`)[0];\n",
       "                popup_76a4517d0eb4a55a46f7c794b46949e5.setContent(html_1e77cc8cf2f735226246fa4b83cc2f30);\n",
       "            \n",
       "        \n",
       "\n",
       "        marker_6bcb99d6cfcaa6c9b01499205788510a.bindPopup(popup_76a4517d0eb4a55a46f7c794b46949e5)\n",
       "        ;\n",
       "\n",
       "        \n",
       "    \n",
       "    \n",
       "            var marker_545a5d08c03c496cdebc2a5408171547 = L.marker(\n",
       "                [50.614052, 3.062195],\n",
       "                {}\n",
       "            ).addTo(map_6cfc0e4d35730cccc7872d39d9dc204b);\n",
       "        \n",
       "    \n",
       "        var popup_69c3e83e2165a100dd4d386ed1c0fd4f = L.popup({&quot;maxWidth&quot;: &quot;100%&quot;});\n",
       "\n",
       "        \n",
       "            \n",
       "                var html_5c614e1a107e806b880d0646c00de8f8 = $(`&lt;div id=&quot;html_5c614e1a107e806b880d0646c00de8f8&quot; style=&quot;width: 100.0%; height: 100.0%;&quot;&gt;Nom de l&#x27;arrêt FAUBOURG D&#x27;ARRAS &lt;br&gt; Nombre de vélos disponibles 4 &lt;br&gt; Nombre de places disponibles 12&lt;/div&gt;`)[0];\n",
       "                popup_69c3e83e2165a100dd4d386ed1c0fd4f.setContent(html_5c614e1a107e806b880d0646c00de8f8);\n",
       "            \n",
       "        \n",
       "\n",
       "        marker_545a5d08c03c496cdebc2a5408171547.bindPopup(popup_69c3e83e2165a100dd4d386ed1c0fd4f)\n",
       "        ;\n",
       "\n",
       "        \n",
       "    \n",
       "    \n",
       "            var marker_7e38b48f28e60ad8ff143b0cf42386a5 = L.marker(\n",
       "                [50.612194, 3.074952],\n",
       "                {}\n",
       "            ).addTo(map_6cfc0e4d35730cccc7872d39d9dc204b);\n",
       "        \n",
       "    \n",
       "        var popup_dc50c379ed1173165ff2f86632512c41 = L.popup({&quot;maxWidth&quot;: &quot;100%&quot;});\n",
       "\n",
       "        \n",
       "            \n",
       "                var html_e86af42fbdf3dd3f5b41df9a18345987 = $(`&lt;div id=&quot;html_e86af42fbdf3dd3f5b41df9a18345987&quot; style=&quot;width: 100.0%; height: 100.0%;&quot;&gt;Nom de l&#x27;arrêt P.I. DE DOUAI &lt;br&gt; Nombre de vélos disponibles 1 &lt;br&gt; Nombre de places disponibles 19&lt;/div&gt;`)[0];\n",
       "                popup_dc50c379ed1173165ff2f86632512c41.setContent(html_e86af42fbdf3dd3f5b41df9a18345987);\n",
       "            \n",
       "        \n",
       "\n",
       "        marker_7e38b48f28e60ad8ff143b0cf42386a5.bindPopup(popup_dc50c379ed1173165ff2f86632512c41)\n",
       "        ;\n",
       "\n",
       "        \n",
       "    \n",
       "    \n",
       "            var marker_01e04bf0d60f7b181b1d5541aabc7e62 = L.marker(\n",
       "                [50.609592, 3.075483],\n",
       "                {}\n",
       "            ).addTo(map_6cfc0e4d35730cccc7872d39d9dc204b);\n",
       "        \n",
       "    \n",
       "        var popup_6e2504d0983a7886354619105b7dcfd2 = L.popup({&quot;maxWidth&quot;: &quot;100%&quot;});\n",
       "\n",
       "        \n",
       "            \n",
       "                var html_e58685e29292b2fd3f293c02726ece93 = $(`&lt;div id=&quot;html_e58685e29292b2fd3f293c02726ece93&quot; style=&quot;width: 100.0%; height: 100.0%;&quot;&gt;Nom de l&#x27;arrêt JEAN JAURES &lt;br&gt; Nombre de vélos disponibles 2 &lt;br&gt; Nombre de places disponibles 15&lt;/div&gt;`)[0];\n",
       "                popup_6e2504d0983a7886354619105b7dcfd2.setContent(html_e58685e29292b2fd3f293c02726ece93);\n",
       "            \n",
       "        \n",
       "\n",
       "        marker_01e04bf0d60f7b181b1d5541aabc7e62.bindPopup(popup_6e2504d0983a7886354619105b7dcfd2)\n",
       "        ;\n",
       "\n",
       "        \n",
       "    \n",
       "    \n",
       "            var marker_7d5ad7489d7f4a714026ec8c2fbdb542 = L.marker(\n",
       "                [50.60548, 3.077622],\n",
       "                {}\n",
       "            ).addTo(map_6cfc0e4d35730cccc7872d39d9dc204b);\n",
       "        \n",
       "    \n",
       "        var popup_37579580cf0aa8bd72dbf7ec524d334e = L.popup({&quot;maxWidth&quot;: &quot;100%&quot;});\n",
       "\n",
       "        \n",
       "            \n",
       "                var html_bbcb913d3b1ff16403c2af0f64fa5b59 = $(`&lt;div id=&quot;html_bbcb913d3b1ff16403c2af0f64fa5b59&quot; style=&quot;width: 100.0%; height: 100.0%;&quot;&gt;Nom de l&#x27;arrêt RONCHIN MAIRIE &lt;br&gt; Nombre de vélos disponibles 6 &lt;br&gt; Nombre de places disponibles 18&lt;/div&gt;`)[0];\n",
       "                popup_37579580cf0aa8bd72dbf7ec524d334e.setContent(html_bbcb913d3b1ff16403c2af0f64fa5b59);\n",
       "            \n",
       "        \n",
       "\n",
       "        marker_7d5ad7489d7f4a714026ec8c2fbdb542.bindPopup(popup_37579580cf0aa8bd72dbf7ec524d334e)\n",
       "        ;\n",
       "\n",
       "        \n",
       "    \n",
       "    \n",
       "            var marker_9d2c2d5167e38ef19e2ceba7befdd922 = L.marker(\n",
       "                [50.60642, 3.072209],\n",
       "                {}\n",
       "            ).addTo(map_6cfc0e4d35730cccc7872d39d9dc204b);\n",
       "        \n",
       "    \n",
       "        var popup_ec53603efc78cbbb4da687ebaadadc41 = L.popup({&quot;maxWidth&quot;: &quot;100%&quot;});\n",
       "\n",
       "        \n",
       "            \n",
       "                var html_f264993eabecb10d20e2cdc22847d0ec = $(`&lt;div id=&quot;html_f264993eabecb10d20e2cdc22847d0ec&quot; style=&quot;width: 100.0%; height: 100.0%;&quot;&gt;Nom de l&#x27;arrêt CH. DES MARGUERITOIS &lt;br&gt; Nombre de vélos disponibles 5 &lt;br&gt; Nombre de places disponibles 8&lt;/div&gt;`)[0];\n",
       "                popup_ec53603efc78cbbb4da687ebaadadc41.setContent(html_f264993eabecb10d20e2cdc22847d0ec);\n",
       "            \n",
       "        \n",
       "\n",
       "        marker_9d2c2d5167e38ef19e2ceba7befdd922.bindPopup(popup_ec53603efc78cbbb4da687ebaadadc41)\n",
       "        ;\n",
       "\n",
       "        \n",
       "    \n",
       "    \n",
       "            var marker_866d3e922f47e108511f77f16af1f5a0 = L.marker(\n",
       "                [50.610582, 3.065103],\n",
       "                {}\n",
       "            ).addTo(map_6cfc0e4d35730cccc7872d39d9dc204b);\n",
       "        \n",
       "    \n",
       "        var popup_a2371713b3613cdb900dd9bdf1f41821 = L.popup({&quot;maxWidth&quot;: &quot;100%&quot;});\n",
       "\n",
       "        \n",
       "            \n",
       "                var html_83d07578cd989735da3c88ba3bdcc161 = $(`&lt;div id=&quot;html_83d07578cd989735da3c88ba3bdcc161&quot; style=&quot;width: 100.0%; height: 100.0%;&quot;&gt;Nom de l&#x27;arrêt CHEMIN ROUGE &lt;br&gt; Nombre de vélos disponibles 3 &lt;br&gt; Nombre de places disponibles 13&lt;/div&gt;`)[0];\n",
       "                popup_a2371713b3613cdb900dd9bdf1f41821.setContent(html_83d07578cd989735da3c88ba3bdcc161);\n",
       "            \n",
       "        \n",
       "\n",
       "        marker_866d3e922f47e108511f77f16af1f5a0.bindPopup(popup_a2371713b3613cdb900dd9bdf1f41821)\n",
       "        ;\n",
       "\n",
       "        \n",
       "    \n",
       "    \n",
       "            var marker_a58acbb393ffc83e2191b1c6adfa87cc = L.marker(\n",
       "                [50.65547, 3.064989],\n",
       "                {}\n",
       "            ).addTo(map_6cfc0e4d35730cccc7872d39d9dc204b);\n",
       "        \n",
       "    \n",
       "        var popup_faeb4db8d17a6d39016e75b5ef9d01cc = L.popup({&quot;maxWidth&quot;: &quot;100%&quot;});\n",
       "\n",
       "        \n",
       "            \n",
       "                var html_eede90727d30e02e969fc35a6cd23c4c = $(`&lt;div id=&quot;html_eede90727d30e02e969fc35a6cd23c4c&quot; style=&quot;width: 100.0%; height: 100.0%;&quot;&gt;Nom de l&#x27;arrêt POMPIDOU &lt;br&gt; Nombre de vélos disponibles 17 &lt;br&gt; Nombre de places disponibles 7&lt;/div&gt;`)[0];\n",
       "                popup_faeb4db8d17a6d39016e75b5ef9d01cc.setContent(html_eede90727d30e02e969fc35a6cd23c4c);\n",
       "            \n",
       "        \n",
       "\n",
       "        marker_a58acbb393ffc83e2191b1c6adfa87cc.bindPopup(popup_faeb4db8d17a6d39016e75b5ef9d01cc)\n",
       "        ;\n",
       "\n",
       "        \n",
       "    \n",
       "    \n",
       "            var marker_c565017587402a70ba2bc900a5702cc6 = L.marker(\n",
       "                [50.65532, 3.060615],\n",
       "                {}\n",
       "            ).addTo(map_6cfc0e4d35730cccc7872d39d9dc204b);\n",
       "        \n",
       "    \n",
       "        var popup_af9dc5af817fb0dafce12d1fe2c8d2e9 = L.popup({&quot;maxWidth&quot;: &quot;100%&quot;});\n",
       "\n",
       "        \n",
       "            \n",
       "                var html_e7e35cb99b2363dd87080f85559cf81e = $(`&lt;div id=&quot;html_e7e35cb99b2363dd87080f85559cf81e&quot; style=&quot;width: 100.0%; height: 100.0%;&quot;&gt;Nom de l&#x27;arrêt CHAUFFERIE &lt;br&gt; Nombre de vélos disponibles 8 &lt;br&gt; Nombre de places disponibles 8&lt;/div&gt;`)[0];\n",
       "                popup_af9dc5af817fb0dafce12d1fe2c8d2e9.setContent(html_e7e35cb99b2363dd87080f85559cf81e);\n",
       "            \n",
       "        \n",
       "\n",
       "        marker_c565017587402a70ba2bc900a5702cc6.bindPopup(popup_af9dc5af817fb0dafce12d1fe2c8d2e9)\n",
       "        ;\n",
       "\n",
       "        \n",
       "    \n",
       "    \n",
       "            var marker_1e0830e1a3f0d195adeb823530e4fce4 = L.marker(\n",
       "                [50.655098, 3.051201],\n",
       "                {}\n",
       "            ).addTo(map_6cfc0e4d35730cccc7872d39d9dc204b);\n",
       "        \n",
       "    \n",
       "        var popup_c769ad1babe876a3e61ec31d1824328c = L.popup({&quot;maxWidth&quot;: &quot;100%&quot;});\n",
       "\n",
       "        \n",
       "            \n",
       "                var html_e81545c98373035ed7129b998d4724a9 = $(`&lt;div id=&quot;html_e81545c98373035ed7129b998d4724a9&quot; style=&quot;width: 100.0%; height: 100.0%;&quot;&gt;Nom de l&#x27;arrêt BAILLY &lt;br&gt; Nombre de vélos disponibles 13 &lt;br&gt; Nombre de places disponibles 2&lt;/div&gt;`)[0];\n",
       "                popup_c769ad1babe876a3e61ec31d1824328c.setContent(html_e81545c98373035ed7129b998d4724a9);\n",
       "            \n",
       "        \n",
       "\n",
       "        marker_1e0830e1a3f0d195adeb823530e4fce4.bindPopup(popup_c769ad1babe876a3e61ec31d1824328c)\n",
       "        ;\n",
       "\n",
       "        \n",
       "    \n",
       "    \n",
       "            var marker_6541d8cae6f785713d415e908b25d347 = L.marker(\n",
       "                [50.661602, 3.050322],\n",
       "                {}\n",
       "            ).addTo(map_6cfc0e4d35730cccc7872d39d9dc204b);\n",
       "        \n",
       "    \n",
       "        var popup_e25abaf16a7d398ae6c8feae44224dfa = L.popup({&quot;maxWidth&quot;: &quot;100%&quot;});\n",
       "\n",
       "        \n",
       "            \n",
       "                var html_738b9bfb7d60dd2d96d1598dc295a9a2 = $(`&lt;div id=&quot;html_738b9bfb7d60dd2d96d1598dc295a9a2&quot; style=&quot;width: 100.0%; height: 100.0%;&quot;&gt;Nom de l&#x27;arrêt ST ANDRE MAIRIE &lt;br&gt; Nombre de vélos disponibles 9 &lt;br&gt; Nombre de places disponibles 15&lt;/div&gt;`)[0];\n",
       "                popup_e25abaf16a7d398ae6c8feae44224dfa.setContent(html_738b9bfb7d60dd2d96d1598dc295a9a2);\n",
       "            \n",
       "        \n",
       "\n",
       "        marker_6541d8cae6f785713d415e908b25d347.bindPopup(popup_e25abaf16a7d398ae6c8feae44224dfa)\n",
       "        ;\n",
       "\n",
       "        \n",
       "    \n",
       "    \n",
       "            var marker_b4d7d7ef9d58dfdf0de6570652a9bb3c = L.marker(\n",
       "                [50.64989, 3.042045],\n",
       "                {}\n",
       "            ).addTo(map_6cfc0e4d35730cccc7872d39d9dc204b);\n",
       "        \n",
       "    \n",
       "        var popup_59b25f6a4a208da0abf88ead6edbfe7d = L.popup({&quot;maxWidth&quot;: &quot;100%&quot;});\n",
       "\n",
       "        \n",
       "            \n",
       "                var html_42db0965b3bf2a6cd763888273497bd1 = $(`&lt;div id=&quot;html_42db0965b3bf2a6cd763888273497bd1&quot; style=&quot;width: 100.0%; height: 100.0%;&quot;&gt;Nom de l&#x27;arrêt CANON D&#x27;OR &lt;br&gt; Nombre de vélos disponibles 11 &lt;br&gt; Nombre de places disponibles 5&lt;/div&gt;`)[0];\n",
       "                popup_59b25f6a4a208da0abf88ead6edbfe7d.setContent(html_42db0965b3bf2a6cd763888273497bd1);\n",
       "            \n",
       "        \n",
       "\n",
       "        marker_b4d7d7ef9d58dfdf0de6570652a9bb3c.bindPopup(popup_59b25f6a4a208da0abf88ead6edbfe7d)\n",
       "        ;\n",
       "\n",
       "        \n",
       "    \n",
       "    \n",
       "            var marker_976f29265fb520166ae040924ca21cba = L.marker(\n",
       "                [50.644943, 3.036932],\n",
       "                {}\n",
       "            ).addTo(map_6cfc0e4d35730cccc7872d39d9dc204b);\n",
       "        \n",
       "    \n",
       "        var popup_a95e5036b12e00006fdf0535f9a484b8 = L.popup({&quot;maxWidth&quot;: &quot;100%&quot;});\n",
       "\n",
       "        \n",
       "            \n",
       "                var html_ec842b556a710b055b5e06b8e0b8dddf = $(`&lt;div id=&quot;html_ec842b556a710b055b5e06b8e0b8dddf&quot; style=&quot;width: 100.0%; height: 100.0%;&quot;&gt;Nom de l&#x27;arrêt DELECAUX &lt;br&gt; Nombre de vélos disponibles 16 &lt;br&gt; Nombre de places disponibles 4&lt;/div&gt;`)[0];\n",
       "                popup_a95e5036b12e00006fdf0535f9a484b8.setContent(html_ec842b556a710b055b5e06b8e0b8dddf);\n",
       "            \n",
       "        \n",
       "\n",
       "        marker_976f29265fb520166ae040924ca21cba.bindPopup(popup_a95e5036b12e00006fdf0535f9a484b8)\n",
       "        ;\n",
       "\n",
       "        \n",
       "    \n",
       "    \n",
       "            var marker_d47212a936b7a14e434d8dbd695f85de = L.marker(\n",
       "                [50.637726, 3.071892],\n",
       "                {}\n",
       "            ).addTo(map_6cfc0e4d35730cccc7872d39d9dc204b);\n",
       "        \n",
       "    \n",
       "        var popup_80c9c0c7acb8f49b838ee8a40404e458 = L.popup({&quot;maxWidth&quot;: &quot;100%&quot;});\n",
       "\n",
       "        \n",
       "            \n",
       "                var html_10282670cb998de04d6b9de95d1b32f0 = $(`&lt;div id=&quot;html_10282670cb998de04d6b9de95d1b32f0&quot; style=&quot;width: 100.0%; height: 100.0%;&quot;&gt;Nom de l&#x27;arrêt EURALILLE &lt;br&gt; Nombre de vélos disponibles 0 &lt;br&gt; Nombre de places disponibles 40&lt;/div&gt;`)[0];\n",
       "                popup_80c9c0c7acb8f49b838ee8a40404e458.setContent(html_10282670cb998de04d6b9de95d1b32f0);\n",
       "            \n",
       "        \n",
       "\n",
       "        marker_d47212a936b7a14e434d8dbd695f85de.bindPopup(popup_80c9c0c7acb8f49b838ee8a40404e458)\n",
       "        ;\n",
       "\n",
       "        \n",
       "    \n",
       "    \n",
       "            var marker_d67e497bd7d2be026f71d65a4c2e6383 = L.marker(\n",
       "                [50.637709, 3.077478],\n",
       "                {}\n",
       "            ).addTo(map_6cfc0e4d35730cccc7872d39d9dc204b);\n",
       "        \n",
       "    \n",
       "        var popup_b6429f22678b2721aaa4393cd46c27e1 = L.popup({&quot;maxWidth&quot;: &quot;100%&quot;});\n",
       "\n",
       "        \n",
       "            \n",
       "                var html_f21433b41cee854d7e2dc09a38c0aa43 = $(`&lt;div id=&quot;html_f21433b41cee854d7e2dc09a38c0aa43&quot; style=&quot;width: 100.0%; height: 100.0%;&quot;&gt;Nom de l&#x27;arrêt PARVIS ROTTERDAM &lt;br&gt; Nombre de vélos disponibles 0 &lt;br&gt; Nombre de places disponibles 20&lt;/div&gt;`)[0];\n",
       "                popup_b6429f22678b2721aaa4393cd46c27e1.setContent(html_f21433b41cee854d7e2dc09a38c0aa43);\n",
       "            \n",
       "        \n",
       "\n",
       "        marker_d67e497bd7d2be026f71d65a4c2e6383.bindPopup(popup_b6429f22678b2721aaa4393cd46c27e1)\n",
       "        ;\n",
       "\n",
       "        \n",
       "    \n",
       "    \n",
       "            var marker_35d132de672ad1f6bec725fd6bd5b77a = L.marker(\n",
       "                [50.634417, 3.0822274],\n",
       "                {}\n",
       "            ).addTo(map_6cfc0e4d35730cccc7872d39d9dc204b);\n",
       "        \n",
       "    \n",
       "        var popup_2d18fea04acfc8a00e38b3cbf9d28c09 = L.popup({&quot;maxWidth&quot;: &quot;100%&quot;});\n",
       "\n",
       "        \n",
       "            \n",
       "                var html_4da497d2586fba19788c7ce53570562f = $(`&lt;div id=&quot;html_4da497d2586fba19788c7ce53570562f&quot; style=&quot;width: 100.0%; height: 100.0%;&quot;&gt;Nom de l&#x27;arrêt CHAUDE RIVIÈRE &lt;br&gt; Nombre de vélos disponibles 2 &lt;br&gt; Nombre de places disponibles 13&lt;/div&gt;`)[0];\n",
       "                popup_2d18fea04acfc8a00e38b3cbf9d28c09.setContent(html_4da497d2586fba19788c7ce53570562f);\n",
       "            \n",
       "        \n",
       "\n",
       "        marker_35d132de672ad1f6bec725fd6bd5b77a.bindPopup(popup_2d18fea04acfc8a00e38b3cbf9d28c09)\n",
       "        ;\n",
       "\n",
       "        \n",
       "    \n",
       "    \n",
       "            var marker_1c705aafe4c18eae7903c7b320c87508 = L.marker(\n",
       "                [50.628544, 3.065015],\n",
       "                {}\n",
       "            ).addTo(map_6cfc0e4d35730cccc7872d39d9dc204b);\n",
       "        \n",
       "    \n",
       "        var popup_76c9100eeac6c93ecae40f87be7ad3ac = L.popup({&quot;maxWidth&quot;: &quot;100%&quot;});\n",
       "\n",
       "        \n",
       "            \n",
       "                var html_4fd27ca310241efadf722fbcacb10e28 = $(`&lt;div id=&quot;html_4fd27ca310241efadf722fbcacb10e28&quot; style=&quot;width: 100.0%; height: 100.0%;&quot;&gt;Nom de l&#x27;arrêt ANGELLIER &lt;br&gt; Nombre de vélos disponibles 13 &lt;br&gt; Nombre de places disponibles 13&lt;/div&gt;`)[0];\n",
       "                popup_76c9100eeac6c93ecae40f87be7ad3ac.setContent(html_4fd27ca310241efadf722fbcacb10e28);\n",
       "            \n",
       "        \n",
       "\n",
       "        marker_1c705aafe4c18eae7903c7b320c87508.bindPopup(popup_76c9100eeac6c93ecae40f87be7ad3ac)\n",
       "        ;\n",
       "\n",
       "        \n",
       "    \n",
       "    \n",
       "            var marker_d18924061cf837be9405c54a7a6cc606 = L.marker(\n",
       "                [50.625597, 3.064497],\n",
       "                {}\n",
       "            ).addTo(map_6cfc0e4d35730cccc7872d39d9dc204b);\n",
       "        \n",
       "    \n",
       "        var popup_2d124b28499b63009beba44c103b67d7 = L.popup({&quot;maxWidth&quot;: &quot;100%&quot;});\n",
       "\n",
       "        \n",
       "            \n",
       "                var html_37f33385c29e88eb3d252810e64b887e = $(`&lt;div id=&quot;html_37f33385c29e88eb3d252810e64b887e&quot; style=&quot;width: 100.0%; height: 100.0%;&quot;&gt;Nom de l&#x27;arrêt JEANNE D&#x27;ARC &lt;br&gt; Nombre de vélos disponibles 7 &lt;br&gt; Nombre de places disponibles 13&lt;/div&gt;`)[0];\n",
       "                popup_2d124b28499b63009beba44c103b67d7.setContent(html_37f33385c29e88eb3d252810e64b887e);\n",
       "            \n",
       "        \n",
       "\n",
       "        marker_d18924061cf837be9405c54a7a6cc606.bindPopup(popup_2d124b28499b63009beba44c103b67d7)\n",
       "        ;\n",
       "\n",
       "        \n",
       "    \n",
       "    \n",
       "            var marker_51578af7b262a0e0cd357090b6b6c2d2 = L.marker(\n",
       "                [50.63393, 3.061687],\n",
       "                {}\n",
       "            ).addTo(map_6cfc0e4d35730cccc7872d39d9dc204b);\n",
       "        \n",
       "    \n",
       "        var popup_15aba4d4db54f7fd8f012af54d2098d1 = L.popup({&quot;maxWidth&quot;: &quot;100%&quot;});\n",
       "\n",
       "        \n",
       "            \n",
       "                var html_2f30e1239a0bf271d38d802bba019be3 = $(`&lt;div id=&quot;html_2f30e1239a0bf271d38d802bba019be3&quot; style=&quot;width: 100.0%; height: 100.0%;&quot;&gt;Nom de l&#x27;arrêt HOPITAL MILITAIRE &lt;br&gt; Nombre de vélos disponibles 13 &lt;br&gt; Nombre de places disponibles 3&lt;/div&gt;`)[0];\n",
       "                popup_15aba4d4db54f7fd8f012af54d2098d1.setContent(html_2f30e1239a0bf271d38d802bba019be3);\n",
       "            \n",
       "        \n",
       "\n",
       "        marker_51578af7b262a0e0cd357090b6b6c2d2.bindPopup(popup_15aba4d4db54f7fd8f012af54d2098d1)\n",
       "        ;\n",
       "\n",
       "        \n",
       "    \n",
       "    \n",
       "            var marker_7de131c63ebf0f84d586947af0b92427 = L.marker(\n",
       "                [50.632423, 3.05831],\n",
       "                {}\n",
       "            ).addTo(map_6cfc0e4d35730cccc7872d39d9dc204b);\n",
       "        \n",
       "    \n",
       "        var popup_288adc3d222827f46853ac6cbb129008 = L.popup({&quot;maxWidth&quot;: &quot;100%&quot;});\n",
       "\n",
       "        \n",
       "            \n",
       "                var html_a806ee16fb4a54131eb0c8301beed88a = $(`&lt;div id=&quot;html_a806ee16fb4a54131eb0c8301beed88a&quot; style=&quot;width: 100.0%; height: 100.0%;&quot;&gt;Nom de l&#x27;arrêt JEAN SANS PEUR &lt;br&gt; Nombre de vélos disponibles 3 &lt;br&gt; Nombre de places disponibles 11&lt;/div&gt;`)[0];\n",
       "                popup_288adc3d222827f46853ac6cbb129008.setContent(html_a806ee16fb4a54131eb0c8301beed88a);\n",
       "            \n",
       "        \n",
       "\n",
       "        marker_7de131c63ebf0f84d586947af0b92427.bindPopup(popup_288adc3d222827f46853ac6cbb129008)\n",
       "        ;\n",
       "\n",
       "        \n",
       "    \n",
       "    \n",
       "            var marker_65af2f458a59d5f25ad0652722aaba3d = L.marker(\n",
       "                [50.63084, 3.04483],\n",
       "                {}\n",
       "            ).addTo(map_6cfc0e4d35730cccc7872d39d9dc204b);\n",
       "        \n",
       "    \n",
       "        var popup_557e34bb4c4b8268f1b1cba82bdc3473 = L.popup({&quot;maxWidth&quot;: &quot;100%&quot;});\n",
       "\n",
       "        \n",
       "            \n",
       "                var html_267b9c302d21d1f855428e3e9754619d = $(`&lt;div id=&quot;html_267b9c302d21d1f855428e3e9754619d&quot; style=&quot;width: 100.0%; height: 100.0%;&quot;&gt;Nom de l&#x27;arrêt CAMPUS ST RAPHAEL &lt;br&gt; Nombre de vélos disponibles 15 &lt;br&gt; Nombre de places disponibles 1&lt;/div&gt;`)[0];\n",
       "                popup_557e34bb4c4b8268f1b1cba82bdc3473.setContent(html_267b9c302d21d1f855428e3e9754619d);\n",
       "            \n",
       "        \n",
       "\n",
       "        marker_65af2f458a59d5f25ad0652722aaba3d.bindPopup(popup_557e34bb4c4b8268f1b1cba82bdc3473)\n",
       "        ;\n",
       "\n",
       "        \n",
       "    \n",
       "    \n",
       "            var marker_7bc2e2a10e038ceab494bd192ccd78ba = L.marker(\n",
       "                [50.626107, 3.046295],\n",
       "                {}\n",
       "            ).addTo(map_6cfc0e4d35730cccc7872d39d9dc204b);\n",
       "        \n",
       "    \n",
       "        var popup_ae6732787f2cd86cac0969d4c5bc7f6c = L.popup({&quot;maxWidth&quot;: &quot;100%&quot;});\n",
       "\n",
       "        \n",
       "            \n",
       "                var html_1195fdf6ba79755ee120667af1955151 = $(`&lt;div id=&quot;html_1195fdf6ba79755ee120667af1955151&quot; style=&quot;width: 100.0%; height: 100.0%;&quot;&gt;Nom de l&#x27;arrêt TRANQUILLITÉ &lt;br&gt; Nombre de vélos disponibles 10 &lt;br&gt; Nombre de places disponibles 10&lt;/div&gt;`)[0];\n",
       "                popup_ae6732787f2cd86cac0969d4c5bc7f6c.setContent(html_1195fdf6ba79755ee120667af1955151);\n",
       "            \n",
       "        \n",
       "\n",
       "        marker_7bc2e2a10e038ceab494bd192ccd78ba.bindPopup(popup_ae6732787f2cd86cac0969d4c5bc7f6c)\n",
       "        ;\n",
       "\n",
       "        \n",
       "    \n",
       "    \n",
       "            var marker_5cbe9791696e30ca202d26f8001657c5 = L.marker(\n",
       "                [50.630596, 3.023001],\n",
       "                {}\n",
       "            ).addTo(map_6cfc0e4d35730cccc7872d39d9dc204b);\n",
       "        \n",
       "    \n",
       "        var popup_8d30ff9720ca8174e1b1c54418a4c4c8 = L.popup({&quot;maxWidth&quot;: &quot;100%&quot;});\n",
       "\n",
       "        \n",
       "            \n",
       "                var html_c94630ba24bed4db704fa71fd52f76a0 = $(`&lt;div id=&quot;html_c94630ba24bed4db704fa71fd52f76a0&quot; style=&quot;width: 100.0%; height: 100.0%;&quot;&gt;Nom de l&#x27;arrêt RIVES DE LA HAUTE DEULE &lt;br&gt; Nombre de vélos disponibles 5 &lt;br&gt; Nombre de places disponibles 9&lt;/div&gt;`)[0];\n",
       "                popup_8d30ff9720ca8174e1b1c54418a4c4c8.setContent(html_c94630ba24bed4db704fa71fd52f76a0);\n",
       "            \n",
       "        \n",
       "\n",
       "        marker_5cbe9791696e30ca202d26f8001657c5.bindPopup(popup_8d30ff9720ca8174e1b1c54418a4c4c8)\n",
       "        ;\n",
       "\n",
       "        \n",
       "    \n",
       "    \n",
       "            var marker_8b9cee194b32863c34f6b3ce634803c2 = L.marker(\n",
       "                [50.644685, 3.057953],\n",
       "                {}\n",
       "            ).addTo(map_6cfc0e4d35730cccc7872d39d9dc204b);\n",
       "        \n",
       "    \n",
       "        var popup_b315566043536f867723566f5a747de7 = L.popup({&quot;maxWidth&quot;: &quot;100%&quot;});\n",
       "\n",
       "        \n",
       "            \n",
       "                var html_0f2db165b0a042c6fb38bdf68b01770b = $(`&lt;div id=&quot;html_0f2db165b0a042c6fb38bdf68b01770b&quot; style=&quot;width: 100.0%; height: 100.0%;&quot;&gt;Nom de l&#x27;arrêt JEMMAPES &lt;br&gt; Nombre de vélos disponibles 1 &lt;br&gt; Nombre de places disponibles 11&lt;/div&gt;`)[0];\n",
       "                popup_b315566043536f867723566f5a747de7.setContent(html_0f2db165b0a042c6fb38bdf68b01770b);\n",
       "            \n",
       "        \n",
       "\n",
       "        marker_8b9cee194b32863c34f6b3ce634803c2.bindPopup(popup_b315566043536f867723566f5a747de7)\n",
       "        ;\n",
       "\n",
       "        \n",
       "    \n",
       "    \n",
       "            var marker_9a1053486bd040395ed6f26f836077f4 = L.marker(\n",
       "                [50.62195, 3.06038],\n",
       "                {}\n",
       "            ).addTo(map_6cfc0e4d35730cccc7872d39d9dc204b);\n",
       "        \n",
       "    \n",
       "        var popup_e901445bdbf367e9c40942a6dc4e634d = L.popup({&quot;maxWidth&quot;: &quot;100%&quot;});\n",
       "\n",
       "        \n",
       "            \n",
       "                var html_1533f958ac7ffe6c83a7b26b90cc7d1f = $(`&lt;div id=&quot;html_1533f958ac7ffe6c83a7b26b90cc7d1f&quot; style=&quot;width: 100.0%; height: 100.0%;&quot;&gt;Nom de l&#x27;arrêt GANTOIS &lt;br&gt; Nombre de vélos disponibles 2 &lt;br&gt; Nombre de places disponibles 10&lt;/div&gt;`)[0];\n",
       "                popup_e901445bdbf367e9c40942a6dc4e634d.setContent(html_1533f958ac7ffe6c83a7b26b90cc7d1f);\n",
       "            \n",
       "        \n",
       "\n",
       "        marker_9a1053486bd040395ed6f26f836077f4.bindPopup(popup_e901445bdbf367e9c40942a6dc4e634d)\n",
       "        ;\n",
       "\n",
       "        \n",
       "    \n",
       "    \n",
       "            var marker_820363706e4dd1e0ee8eb0b6b9c3254a = L.marker(\n",
       "                [50.62479, 3.080467],\n",
       "                {}\n",
       "            ).addTo(map_6cfc0e4d35730cccc7872d39d9dc204b);\n",
       "        \n",
       "    \n",
       "        var popup_2f137530e44462f175c17a3f321543d8 = L.popup({&quot;maxWidth&quot;: &quot;100%&quot;});\n",
       "\n",
       "        \n",
       "            \n",
       "                var html_3ae89e41976f5708c4e1ac14e799c963 = $(`&lt;div id=&quot;html_3ae89e41976f5708c4e1ac14e799c963&quot; style=&quot;width: 100.0%; height: 100.0%;&quot;&gt;Nom de l&#x27;arrêt AUBERGE DE JEUNESSE &lt;br&gt; Nombre de vélos disponibles 2 &lt;br&gt; Nombre de places disponibles 14&lt;/div&gt;`)[0];\n",
       "                popup_2f137530e44462f175c17a3f321543d8.setContent(html_3ae89e41976f5708c4e1ac14e799c963);\n",
       "            \n",
       "        \n",
       "\n",
       "        marker_820363706e4dd1e0ee8eb0b6b9c3254a.bindPopup(popup_2f137530e44462f175c17a3f321543d8)\n",
       "        ;\n",
       "\n",
       "        \n",
       "    \n",
       "    \n",
       "            var marker_81dc6e17249d29a05a6d88c8bebf032e = L.marker(\n",
       "                [50.612635, 3.059261],\n",
       "                {}\n",
       "            ).addTo(map_6cfc0e4d35730cccc7872d39d9dc204b);\n",
       "        \n",
       "    \n",
       "        var popup_2f4b701ac9f3c836cb2d804be0234716 = L.popup({&quot;maxWidth&quot;: &quot;100%&quot;});\n",
       "\n",
       "        \n",
       "            \n",
       "                var html_b01198ef7b745615b7e4aa5915030d15 = $(`&lt;div id=&quot;html_b01198ef7b745615b7e4aa5915030d15&quot; style=&quot;width: 100.0%; height: 100.0%;&quot;&gt;Nom de l&#x27;arrêt PLACE DE LA GARONNE &lt;br&gt; Nombre de vélos disponibles 0 &lt;br&gt; Nombre de places disponibles 12&lt;/div&gt;`)[0];\n",
       "                popup_2f4b701ac9f3c836cb2d804be0234716.setContent(html_b01198ef7b745615b7e4aa5915030d15);\n",
       "            \n",
       "        \n",
       "\n",
       "        marker_81dc6e17249d29a05a6d88c8bebf032e.bindPopup(popup_2f4b701ac9f3c836cb2d804be0234716)\n",
       "        ;\n",
       "\n",
       "        \n",
       "    \n",
       "    \n",
       "            var marker_5a93aedd9c2df5272b5bfefb8455693a = L.marker(\n",
       "                [50.61352, 3.03677],\n",
       "                {}\n",
       "            ).addTo(map_6cfc0e4d35730cccc7872d39d9dc204b);\n",
       "        \n",
       "    \n",
       "        var popup_dc1cd1953437399f636fd32fbc7217d3 = L.popup({&quot;maxWidth&quot;: &quot;100%&quot;});\n",
       "\n",
       "        \n",
       "            \n",
       "                var html_976d794184b0bb70f707c6d17c450177 = $(`&lt;div id=&quot;html_976d794184b0bb70f707c6d17c450177&quot; style=&quot;width: 100.0%; height: 100.0%;&quot;&gt;Nom de l&#x27;arrêt CHU - CENTRE OSCAR LAMBRET &lt;br&gt; Nombre de vélos disponibles 2 &lt;br&gt; Nombre de places disponibles 18&lt;/div&gt;`)[0];\n",
       "                popup_dc1cd1953437399f636fd32fbc7217d3.setContent(html_976d794184b0bb70f707c6d17c450177);\n",
       "            \n",
       "        \n",
       "\n",
       "        marker_5a93aedd9c2df5272b5bfefb8455693a.bindPopup(popup_dc1cd1953437399f636fd32fbc7217d3)\n",
       "        ;\n",
       "\n",
       "        \n",
       "    \n",
       "    \n",
       "            var marker_68dbc33d6f834b2cda6f1dc9df8acd5e = L.marker(\n",
       "                [50.607664, 3.038892],\n",
       "                {}\n",
       "            ).addTo(map_6cfc0e4d35730cccc7872d39d9dc204b);\n",
       "        \n",
       "    \n",
       "        var popup_54c190f414cafa4d36a1d1ac90e2fa3e = L.popup({&quot;maxWidth&quot;: &quot;100%&quot;});\n",
       "\n",
       "        \n",
       "            \n",
       "                var html_5154b172abac4f2efd22c1d20381880a = $(`&lt;div id=&quot;html_5154b172abac4f2efd22c1d20381880a&quot; style=&quot;width: 100.0%; height: 100.0%;&quot;&gt;Nom de l&#x27;arrêt CHU - EURASANTÉ &lt;br&gt; Nombre de vélos disponibles 3 &lt;br&gt; Nombre de places disponibles 25&lt;/div&gt;`)[0];\n",
       "                popup_54c190f414cafa4d36a1d1ac90e2fa3e.setContent(html_5154b172abac4f2efd22c1d20381880a);\n",
       "            \n",
       "        \n",
       "\n",
       "        marker_68dbc33d6f834b2cda6f1dc9df8acd5e.bindPopup(popup_54c190f414cafa4d36a1d1ac90e2fa3e)\n",
       "        ;\n",
       "\n",
       "        \n",
       "    \n",
       "    \n",
       "            var marker_4b9ed23f3c4a8f6056bab29f0776d934 = L.marker(\n",
       "                [50.60301, 3.038779],\n",
       "                {}\n",
       "            ).addTo(map_6cfc0e4d35730cccc7872d39d9dc204b);\n",
       "        \n",
       "    \n",
       "        var popup_dc97b9bcf734f7207533b8684e12c97f = L.popup({&quot;maxWidth&quot;: &quot;100%&quot;});\n",
       "\n",
       "        \n",
       "            \n",
       "                var html_c597e9368064128c3ad035a2f3e06dfa = $(`&lt;div id=&quot;html_c597e9368064128c3ad035a2f3e06dfa&quot; style=&quot;width: 100.0%; height: 100.0%;&quot;&gt;Nom de l&#x27;arrêt RECHERCHE &lt;br&gt; Nombre de vélos disponibles 3 &lt;br&gt; Nombre de places disponibles 13&lt;/div&gt;`)[0];\n",
       "                popup_dc97b9bcf734f7207533b8684e12c97f.setContent(html_c597e9368064128c3ad035a2f3e06dfa);\n",
       "            \n",
       "        \n",
       "\n",
       "        marker_4b9ed23f3c4a8f6056bab29f0776d934.bindPopup(popup_dc97b9bcf734f7207533b8684e12c97f)\n",
       "        ;\n",
       "\n",
       "        \n",
       "    \n",
       "    \n",
       "            var marker_fc9603e424e1c73db4462dba59804980 = L.marker(\n",
       "                [50.604499, 3.031421],\n",
       "                {}\n",
       "            ).addTo(map_6cfc0e4d35730cccc7872d39d9dc204b);\n",
       "        \n",
       "    \n",
       "        var popup_6aad1d3075e26d38d0afabc5b8f51a68 = L.popup({&quot;maxWidth&quot;: &quot;100%&quot;});\n",
       "\n",
       "        \n",
       "            \n",
       "                var html_f60a032ed7c81d38c74210248e5f2540 = $(`&lt;div id=&quot;html_f60a032ed7c81d38c74210248e5f2540&quot; style=&quot;width: 100.0%; height: 100.0%;&quot;&gt;Nom de l&#x27;arrêt FACULTÉ DE MÉDECINE &lt;br&gt; Nombre de vélos disponibles 8 &lt;br&gt; Nombre de places disponibles 8&lt;/div&gt;`)[0];\n",
       "                popup_6aad1d3075e26d38d0afabc5b8f51a68.setContent(html_f60a032ed7c81d38c74210248e5f2540);\n",
       "            \n",
       "        \n",
       "\n",
       "        marker_fc9603e424e1c73db4462dba59804980.bindPopup(popup_6aad1d3075e26d38d0afabc5b8f51a68)\n",
       "        ;\n",
       "\n",
       "        \n",
       "    \n",
       "    \n",
       "            var marker_7ee48b853191360dfe575cf6bb9cc107 = L.marker(\n",
       "                [50.616763, 3.023032],\n",
       "                {}\n",
       "            ).addTo(map_6cfc0e4d35730cccc7872d39d9dc204b);\n",
       "        \n",
       "    \n",
       "        var popup_97962346689023e545402063282fe23e = L.popup({&quot;maxWidth&quot;: &quot;100%&quot;});\n",
       "\n",
       "        \n",
       "            \n",
       "                var html_82d832e9f2bda7271fee13795a7fb026 = $(`&lt;div id=&quot;html_82d832e9f2bda7271fee13795a7fb026&quot; style=&quot;width: 100.0%; height: 100.0%;&quot;&gt;Nom de l&#x27;arrêt RUE DE LONDRES &lt;br&gt; Nombre de vélos disponibles 11 &lt;br&gt; Nombre de places disponibles 2&lt;/div&gt;`)[0];\n",
       "                popup_97962346689023e545402063282fe23e.setContent(html_82d832e9f2bda7271fee13795a7fb026);\n",
       "            \n",
       "        \n",
       "\n",
       "        marker_7ee48b853191360dfe575cf6bb9cc107.bindPopup(popup_97962346689023e545402063282fe23e)\n",
       "        ;\n",
       "\n",
       "        \n",
       "    \n",
       "    \n",
       "            var marker_691a08ffb00d71b95f87e7a5c646b095 = L.marker(\n",
       "                [50.615164, 3.018471],\n",
       "                {}\n",
       "            ).addTo(map_6cfc0e4d35730cccc7872d39d9dc204b);\n",
       "        \n",
       "    \n",
       "        var popup_19b00208cc2be7649131fcbf05fd1f10 = L.popup({&quot;maxWidth&quot;: &quot;100%&quot;});\n",
       "\n",
       "        \n",
       "            \n",
       "                var html_5d8414b5ec2be2817c7a0b896a6814c7 = $(`&lt;div id=&quot;html_5d8414b5ec2be2817c7a0b896a6814c7&quot; style=&quot;width: 100.0%; height: 100.0%;&quot;&gt;Nom de l&#x27;arrêt LA FILEUSE &lt;br&gt; Nombre de vélos disponibles 4 &lt;br&gt; Nombre de places disponibles 14&lt;/div&gt;`)[0];\n",
       "                popup_19b00208cc2be7649131fcbf05fd1f10.setContent(html_5d8414b5ec2be2817c7a0b896a6814c7);\n",
       "            \n",
       "        \n",
       "\n",
       "        marker_691a08ffb00d71b95f87e7a5c646b095.bindPopup(popup_19b00208cc2be7649131fcbf05fd1f10)\n",
       "        ;\n",
       "\n",
       "        \n",
       "    \n",
       "    \n",
       "            var marker_e636ae2721d4dc1bfba2993911dc4985 = L.marker(\n",
       "                [50.626052, 3.090898],\n",
       "                {}\n",
       "            ).addTo(map_6cfc0e4d35730cccc7872d39d9dc204b);\n",
       "        \n",
       "    \n",
       "        var popup_6311edcaaf8e98a4bba2723a73ca2e97 = L.popup({&quot;maxWidth&quot;: &quot;100%&quot;});\n",
       "\n",
       "        \n",
       "            \n",
       "                var html_0bdec511ee204bea7020c5ac3c58fffd = $(`&lt;div id=&quot;html_0bdec511ee204bea7020c5ac3c58fffd&quot; style=&quot;width: 100.0%; height: 100.0%;&quot;&gt;Nom de l&#x27;arrêt BOURSE DU TRAVAIL &lt;br&gt; Nombre de vélos disponibles 20 &lt;br&gt; Nombre de places disponibles 0&lt;/div&gt;`)[0];\n",
       "                popup_6311edcaaf8e98a4bba2723a73ca2e97.setContent(html_0bdec511ee204bea7020c5ac3c58fffd);\n",
       "            \n",
       "        \n",
       "\n",
       "        marker_e636ae2721d4dc1bfba2993911dc4985.bindPopup(popup_6311edcaaf8e98a4bba2723a73ca2e97)\n",
       "        ;\n",
       "\n",
       "        \n",
       "    \n",
       "    \n",
       "            var marker_06602ac16bb66ca10be6500c940dc7fc = L.marker(\n",
       "                [50.652107, 3.029324],\n",
       "                {}\n",
       "            ).addTo(map_6cfc0e4d35730cccc7872d39d9dc204b);\n",
       "        \n",
       "    \n",
       "        var popup_16f984d95f56cc8a0ca87a9fcda36a09 = L.popup({&quot;maxWidth&quot;: &quot;100%&quot;});\n",
       "\n",
       "        \n",
       "            \n",
       "                var html_abb8b3aab021b237537ab13da28a22a1 = $(`&lt;div id=&quot;html_abb8b3aab021b237537ab13da28a22a1&quot; style=&quot;width: 100.0%; height: 100.0%;&quot;&gt;Nom de l&#x27;arrêt SQUARE JEAN MONNET &lt;br&gt; Nombre de vélos disponibles 14 &lt;br&gt; Nombre de places disponibles 1&lt;/div&gt;`)[0];\n",
       "                popup_16f984d95f56cc8a0ca87a9fcda36a09.setContent(html_abb8b3aab021b237537ab13da28a22a1);\n",
       "            \n",
       "        \n",
       "\n",
       "        marker_06602ac16bb66ca10be6500c940dc7fc.bindPopup(popup_16f984d95f56cc8a0ca87a9fcda36a09)\n",
       "        ;\n",
       "\n",
       "        \n",
       "    \n",
       "    \n",
       "            var marker_399183f1f29fbd377600e078ca99a6c3 = L.marker(\n",
       "                [50.649644, 3.03812],\n",
       "                {}\n",
       "            ).addTo(map_6cfc0e4d35730cccc7872d39d9dc204b);\n",
       "        \n",
       "    \n",
       "        var popup_979a76d61e93a5b91b5fd3e2d10d46c5 = L.popup({&quot;maxWidth&quot;: &quot;100%&quot;});\n",
       "\n",
       "        \n",
       "            \n",
       "                var html_ea32e9babd8beca759271eb1aa06f612 = $(`&lt;div id=&quot;html_ea32e9babd8beca759271eb1aa06f612&quot; style=&quot;width: 100.0%; height: 100.0%;&quot;&gt;Nom de l&#x27;arrêt BECQUART &lt;br&gt; Nombre de vélos disponibles 10 &lt;br&gt; Nombre de places disponibles 2&lt;/div&gt;`)[0];\n",
       "                popup_979a76d61e93a5b91b5fd3e2d10d46c5.setContent(html_ea32e9babd8beca759271eb1aa06f612);\n",
       "            \n",
       "        \n",
       "\n",
       "        marker_399183f1f29fbd377600e078ca99a6c3.bindPopup(popup_979a76d61e93a5b91b5fd3e2d10d46c5)\n",
       "        ;\n",
       "\n",
       "        \n",
       "    \n",
       "    \n",
       "            var marker_84a9ad5a840d831e574548acaab3b8b7 = L.marker(\n",
       "                [50.658048, 3.063774],\n",
       "                {}\n",
       "            ).addTo(map_6cfc0e4d35730cccc7872d39d9dc204b);\n",
       "        \n",
       "    \n",
       "        var popup_f68d34c8f14ed69c9d382d438e703e4b = L.popup({&quot;maxWidth&quot;: &quot;100%&quot;});\n",
       "\n",
       "        \n",
       "            \n",
       "                var html_49f1c73f4265b5a4eaa54937fa52bf0a = $(`&lt;div id=&quot;html_49f1c73f4265b5a4eaa54937fa52bf0a&quot; style=&quot;width: 100.0%; height: 100.0%;&quot;&gt;Nom de l&#x27;arrêt PLACE DE LA BOUCHERIE &lt;br&gt; Nombre de vélos disponibles 12 &lt;br&gt; Nombre de places disponibles 8&lt;/div&gt;`)[0];\n",
       "                popup_f68d34c8f14ed69c9d382d438e703e4b.setContent(html_49f1c73f4265b5a4eaa54937fa52bf0a);\n",
       "            \n",
       "        \n",
       "\n",
       "        marker_84a9ad5a840d831e574548acaab3b8b7.bindPopup(popup_f68d34c8f14ed69c9d382d438e703e4b)\n",
       "        ;\n",
       "\n",
       "        \n",
       "    \n",
       "    \n",
       "            var marker_81df4193e4ded191d8a235717f906a34 = L.marker(\n",
       "                [50.651107, 3.0678],\n",
       "                {}\n",
       "            ).addTo(map_6cfc0e4d35730cccc7872d39d9dc204b);\n",
       "        \n",
       "    \n",
       "        var popup_fb92865302f71cc695825b7141aa418e = L.popup({&quot;maxWidth&quot;: &quot;100%&quot;});\n",
       "\n",
       "        \n",
       "            \n",
       "                var html_ee9305743a4fc89268f9fbc30ac426d2 = $(`&lt;div id=&quot;html_ee9305743a4fc89268f9fbc30ac426d2&quot; style=&quot;width: 100.0%; height: 100.0%;&quot;&gt;Nom de l&#x27;arrêt RUE DU PARC &lt;br&gt; Nombre de vélos disponibles 1 &lt;br&gt; Nombre de places disponibles 11&lt;/div&gt;`)[0];\n",
       "                popup_fb92865302f71cc695825b7141aa418e.setContent(html_ee9305743a4fc89268f9fbc30ac426d2);\n",
       "            \n",
       "        \n",
       "\n",
       "        marker_81df4193e4ded191d8a235717f906a34.bindPopup(popup_fb92865302f71cc695825b7141aa418e)\n",
       "        ;\n",
       "\n",
       "        \n",
       "    \n",
       "    \n",
       "            var marker_b3da666a17a76231add6437cc23c8ddf = L.marker(\n",
       "                [50.65722, 3.056147],\n",
       "                {}\n",
       "            ).addTo(map_6cfc0e4d35730cccc7872d39d9dc204b);\n",
       "        \n",
       "    \n",
       "        var popup_f4b5fe0210573f98fcc41362946bbefa = L.popup({&quot;maxWidth&quot;: &quot;100%&quot;});\n",
       "\n",
       "        \n",
       "            \n",
       "                var html_4d36c0774a4431dc2d6c41d16fd309b2 = $(`&lt;div id=&quot;html_4d36c0774a4431dc2d6c41d16fd309b2&quot; style=&quot;width: 100.0%; height: 100.0%;&quot;&gt;Nom de l&#x27;arrêt SAINTE HÉLÈNE &lt;br&gt; Nombre de vélos disponibles 7 &lt;br&gt; Nombre de places disponibles 5&lt;/div&gt;`)[0];\n",
       "                popup_f4b5fe0210573f98fcc41362946bbefa.setContent(html_4d36c0774a4431dc2d6c41d16fd309b2);\n",
       "            \n",
       "        \n",
       "\n",
       "        marker_b3da666a17a76231add6437cc23c8ddf.bindPopup(popup_f4b5fe0210573f98fcc41362946bbefa)\n",
       "        ;\n",
       "\n",
       "        \n",
       "    \n",
       "    \n",
       "            var marker_f3c215e97cf0576096a7310cbf5cd83a = L.marker(\n",
       "                [50.672455, 3.092388],\n",
       "                {}\n",
       "            ).addTo(map_6cfc0e4d35730cccc7872d39d9dc204b);\n",
       "        \n",
       "    \n",
       "        var popup_981a30db7710fb029788f3342a807b36 = L.popup({&quot;maxWidth&quot;: &quot;100%&quot;});\n",
       "\n",
       "        \n",
       "            \n",
       "                var html_853865924d6e88b04905d70f1f240788 = $(`&lt;div id=&quot;html_853865924d6e88b04905d70f1f240788&quot; style=&quot;width: 100.0%; height: 100.0%;&quot;&gt;Nom de l&#x27;arrêt MARCQ MAIRIE &lt;br&gt; Nombre de vélos disponibles 7 &lt;br&gt; Nombre de places disponibles 5&lt;/div&gt;`)[0];\n",
       "                popup_981a30db7710fb029788f3342a807b36.setContent(html_853865924d6e88b04905d70f1f240788);\n",
       "            \n",
       "        \n",
       "\n",
       "        marker_f3c215e97cf0576096a7310cbf5cd83a.bindPopup(popup_981a30db7710fb029788f3342a807b36)\n",
       "        ;\n",
       "\n",
       "        \n",
       "    \n",
       "    \n",
       "            var marker_fa707ea7f1e4170b97b290ebc76554c6 = L.marker(\n",
       "                [50.637103, 3.097538],\n",
       "                {}\n",
       "            ).addTo(map_6cfc0e4d35730cccc7872d39d9dc204b);\n",
       "        \n",
       "    \n",
       "        var popup_e4d674f22d3d9b9b0c41afa4009a6b3a = L.popup({&quot;maxWidth&quot;: &quot;100%&quot;});\n",
       "\n",
       "        \n",
       "            \n",
       "                var html_6cca64eaaeecc768a81ae50145f948b1 = $(`&lt;div id=&quot;html_6cca64eaaeecc768a81ae50145f948b1&quot; style=&quot;width: 100.0%; height: 100.0%;&quot;&gt;Nom de l&#x27;arrêt LOUIS BRAILLE &lt;br&gt; Nombre de vélos disponibles 11 &lt;br&gt; Nombre de places disponibles 1&lt;/div&gt;`)[0];\n",
       "                popup_e4d674f22d3d9b9b0c41afa4009a6b3a.setContent(html_6cca64eaaeecc768a81ae50145f948b1);\n",
       "            \n",
       "        \n",
       "\n",
       "        marker_fa707ea7f1e4170b97b290ebc76554c6.bindPopup(popup_e4d674f22d3d9b9b0c41afa4009a6b3a)\n",
       "        ;\n",
       "\n",
       "        \n",
       "    \n",
       "    \n",
       "            var marker_2084aa0b013acc4a9f29046dba9a06cf = L.marker(\n",
       "                [50.646432, 3.106626],\n",
       "                {}\n",
       "            ).addTo(map_6cfc0e4d35730cccc7872d39d9dc204b);\n",
       "        \n",
       "    \n",
       "        var popup_53664541d077cb848abac91bce715d85 = L.popup({&quot;maxWidth&quot;: &quot;100%&quot;});\n",
       "\n",
       "        \n",
       "            \n",
       "                var html_cf6c61e1b94fcc0dec42835b602dff10 = $(`&lt;div id=&quot;html_cf6c61e1b94fcc0dec42835b602dff10&quot; style=&quot;width: 100.0%; height: 100.0%;&quot;&gt;Nom de l&#x27;arrêt HAUT DE MONS &lt;br&gt; Nombre de vélos disponibles 8 &lt;br&gt; Nombre de places disponibles 8&lt;/div&gt;`)[0];\n",
       "                popup_53664541d077cb848abac91bce715d85.setContent(html_cf6c61e1b94fcc0dec42835b602dff10);\n",
       "            \n",
       "        \n",
       "\n",
       "        marker_2084aa0b013acc4a9f29046dba9a06cf.bindPopup(popup_53664541d077cb848abac91bce715d85)\n",
       "        ;\n",
       "\n",
       "        \n",
       "    \n",
       "    \n",
       "            var marker_13b037e425a7247f79f843621067c0dd = L.marker(\n",
       "                [50.662941, 3.057167],\n",
       "                {}\n",
       "            ).addTo(map_6cfc0e4d35730cccc7872d39d9dc204b);\n",
       "        \n",
       "    \n",
       "        var popup_1904eb9e8c26e246b3f516275d1a558c = L.popup({&quot;maxWidth&quot;: &quot;100%&quot;});\n",
       "\n",
       "        \n",
       "            \n",
       "                var html_eb6f680f42b4348a24e53e49042f0944 = $(`&lt;div id=&quot;html_eb6f680f42b4348a24e53e49042f0944&quot; style=&quot;width: 100.0%; height: 100.0%;&quot;&gt;Nom de l&#x27;arrêt QUAI 22 &lt;br&gt; Nombre de vélos disponibles 10 &lt;br&gt; Nombre de places disponibles 4&lt;/div&gt;`)[0];\n",
       "                popup_1904eb9e8c26e246b3f516275d1a558c.setContent(html_eb6f680f42b4348a24e53e49042f0944);\n",
       "            \n",
       "        \n",
       "\n",
       "        marker_13b037e425a7247f79f843621067c0dd.bindPopup(popup_1904eb9e8c26e246b3f516275d1a558c)\n",
       "        ;\n",
       "\n",
       "        \n",
       "    \n",
       "    \n",
       "            var marker_20323071a030345ccac8db956a55334e = L.marker(\n",
       "                [50.638838, 3.1317727],\n",
       "                {}\n",
       "            ).addTo(map_6cfc0e4d35730cccc7872d39d9dc204b);\n",
       "        \n",
       "    \n",
       "        var popup_a0b224f2514d85c5ebe8497a9f5a78a8 = L.popup({&quot;maxWidth&quot;: &quot;100%&quot;});\n",
       "\n",
       "        \n",
       "            \n",
       "                var html_dd475e901cc2c8b77cfd81ff81a73b04 = $(`&lt;div id=&quot;html_dd475e901cc2c8b77cfd81ff81a73b04&quot; style=&quot;width: 100.0%; height: 100.0%;&quot;&gt;Nom de l&#x27;arrêt FERME D&#x27;EN HAUT &lt;br&gt; Nombre de vélos disponibles 8 &lt;br&gt; Nombre de places disponibles 10&lt;/div&gt;`)[0];\n",
       "                popup_a0b224f2514d85c5ebe8497a9f5a78a8.setContent(html_dd475e901cc2c8b77cfd81ff81a73b04);\n",
       "            \n",
       "        \n",
       "\n",
       "        marker_20323071a030345ccac8db956a55334e.bindPopup(popup_a0b224f2514d85c5ebe8497a9f5a78a8)\n",
       "        ;\n",
       "\n",
       "        \n",
       "    \n",
       "    \n",
       "            var marker_6778d3d2475f6ce721371af71eb716fb = L.marker(\n",
       "                [50.6312847, 3.1350379],\n",
       "                {}\n",
       "            ).addTo(map_6cfc0e4d35730cccc7872d39d9dc204b);\n",
       "        \n",
       "    \n",
       "        var popup_28f5dc91ecae3c61191ff66b73edd23c = L.popup({&quot;maxWidth&quot;: &quot;100%&quot;});\n",
       "\n",
       "        \n",
       "            \n",
       "                var html_defb1eb3274446d2a0b38f4df5946417 = $(`&lt;div id=&quot;html_defb1eb3274446d2a0b38f4df5946417&quot; style=&quot;width: 100.0%; height: 100.0%;&quot;&gt;Nom de l&#x27;arrêt LE STADIUM &lt;br&gt; Nombre de vélos disponibles 7 &lt;br&gt; Nombre de places disponibles 7&lt;/div&gt;`)[0];\n",
       "                popup_28f5dc91ecae3c61191ff66b73edd23c.setContent(html_defb1eb3274446d2a0b38f4df5946417);\n",
       "            \n",
       "        \n",
       "\n",
       "        marker_6778d3d2475f6ce721371af71eb716fb.bindPopup(popup_28f5dc91ecae3c61191ff66b73edd23c)\n",
       "        ;\n",
       "\n",
       "        \n",
       "    \n",
       "    \n",
       "            var marker_6ffcd7b204b96a712f0ec87b13eee85d = L.marker(\n",
       "                [50.658146, 3.042003],\n",
       "                {}\n",
       "            ).addTo(map_6cfc0e4d35730cccc7872d39d9dc204b);\n",
       "        \n",
       "    \n",
       "        var popup_7e39bed533ac5ee9936c71092d3a7ed7 = L.popup({&quot;maxWidth&quot;: &quot;100%&quot;});\n",
       "\n",
       "        \n",
       "            \n",
       "                var html_998781c3b61b13fe29c45b37ba4ad7e4 = $(`&lt;div id=&quot;html_998781c3b61b13fe29c45b37ba4ad7e4&quot; style=&quot;width: 100.0%; height: 100.0%;&quot;&gt;Nom de l&#x27;arrêt BEL AIR &lt;br&gt; Nombre de vélos disponibles 9 &lt;br&gt; Nombre de places disponibles 11&lt;/div&gt;`)[0];\n",
       "                popup_7e39bed533ac5ee9936c71092d3a7ed7.setContent(html_998781c3b61b13fe29c45b37ba4ad7e4);\n",
       "            \n",
       "        \n",
       "\n",
       "        marker_6ffcd7b204b96a712f0ec87b13eee85d.bindPopup(popup_7e39bed533ac5ee9936c71092d3a7ed7)\n",
       "        ;\n",
       "\n",
       "        \n",
       "    \n",
       "    \n",
       "            var marker_3d8ac1b018166e188a40819433b1e530 = L.marker(\n",
       "                [50.665968, 3.049462],\n",
       "                {}\n",
       "            ).addTo(map_6cfc0e4d35730cccc7872d39d9dc204b);\n",
       "        \n",
       "    \n",
       "        var popup_a5d03ed75b7c609b53fe001c492e3b73 = L.popup({&quot;maxWidth&quot;: &quot;100%&quot;});\n",
       "\n",
       "        \n",
       "            \n",
       "                var html_ae79e942fbd070678f45517c4a4bed55 = $(`&lt;div id=&quot;html_ae79e942fbd070678f45517c4a4bed55&quot; style=&quot;width: 100.0%; height: 100.0%;&quot;&gt;Nom de l&#x27;arrêt LOMMELET &lt;br&gt; Nombre de vélos disponibles 15 &lt;br&gt; Nombre de places disponibles 5&lt;/div&gt;`)[0];\n",
       "                popup_a5d03ed75b7c609b53fe001c492e3b73.setContent(html_ae79e942fbd070678f45517c4a4bed55);\n",
       "            \n",
       "        \n",
       "\n",
       "        marker_3d8ac1b018166e188a40819433b1e530.bindPopup(popup_a5d03ed75b7c609b53fe001c492e3b73)\n",
       "        ;\n",
       "\n",
       "        \n",
       "    \n",
       "    \n",
       "            var marker_fe95dc667f61549f329ca361f5662f42 = L.marker(\n",
       "                [50.631135, 3.008346],\n",
       "                {}\n",
       "            ).addTo(map_6cfc0e4d35730cccc7872d39d9dc204b);\n",
       "        \n",
       "    \n",
       "        var popup_0a4a97b1558725ba9f47dacaf8b927a5 = L.popup({&quot;maxWidth&quot;: &quot;100%&quot;});\n",
       "\n",
       "        \n",
       "            \n",
       "                var html_f50eb6b62c3b71d7488625704b5d13ce = $(`&lt;div id=&quot;html_f50eb6b62c3b71d7488625704b5d13ce&quot; style=&quot;width: 100.0%; height: 100.0%;&quot;&gt;Nom de l&#x27;arrêt TISSERAND &lt;br&gt; Nombre de vélos disponibles 19 &lt;br&gt; Nombre de places disponibles 1&lt;/div&gt;`)[0];\n",
       "                popup_0a4a97b1558725ba9f47dacaf8b927a5.setContent(html_f50eb6b62c3b71d7488625704b5d13ce);\n",
       "            \n",
       "        \n",
       "\n",
       "        marker_fe95dc667f61549f329ca361f5662f42.bindPopup(popup_0a4a97b1558725ba9f47dacaf8b927a5)\n",
       "        ;\n",
       "\n",
       "        \n",
       "    \n",
       "    \n",
       "            var marker_d0f7470bd3b1da70cda608ce44da2be1 = L.marker(\n",
       "                [50.636003, 3.009396],\n",
       "                {}\n",
       "            ).addTo(map_6cfc0e4d35730cccc7872d39d9dc204b);\n",
       "        \n",
       "    \n",
       "        var popup_f60eb70931d7a7d0644a7e9400d8bf73 = L.popup({&quot;maxWidth&quot;: &quot;100%&quot;});\n",
       "\n",
       "        \n",
       "            \n",
       "                var html_da2943af7e1ba1639b0caea692ed6a8c = $(`&lt;div id=&quot;html_da2943af7e1ba1639b0caea692ed6a8c&quot; style=&quot;width: 100.0%; height: 100.0%;&quot;&gt;Nom de l&#x27;arrêt ANATOLE FRANCE &lt;br&gt; Nombre de vélos disponibles 16 &lt;br&gt; Nombre de places disponibles 1&lt;/div&gt;`)[0];\n",
       "                popup_f60eb70931d7a7d0644a7e9400d8bf73.setContent(html_da2943af7e1ba1639b0caea692ed6a8c);\n",
       "            \n",
       "        \n",
       "\n",
       "        marker_d0f7470bd3b1da70cda608ce44da2be1.bindPopup(popup_f60eb70931d7a7d0644a7e9400d8bf73)\n",
       "        ;\n",
       "\n",
       "        \n",
       "    \n",
       "    \n",
       "            var marker_6f7561ad33e8606c6f2ffa8fae3c9ffa = L.marker(\n",
       "                [50.630678, 3.013423],\n",
       "                {}\n",
       "            ).addTo(map_6cfc0e4d35730cccc7872d39d9dc204b);\n",
       "        \n",
       "    \n",
       "        var popup_f5a1d7c00eb652480fa3d21f05846b8d = L.popup({&quot;maxWidth&quot;: &quot;100%&quot;});\n",
       "\n",
       "        \n",
       "            \n",
       "                var html_1fd6a893a5ba09b378cab16dc014e36d = $(`&lt;div id=&quot;html_1fd6a893a5ba09b378cab16dc014e36d&quot; style=&quot;width: 100.0%; height: 100.0%;&quot;&gt;Nom de l&#x27;arrêt NOTEBART &lt;br&gt; Nombre de vélos disponibles 17 &lt;br&gt; Nombre de places disponibles 3&lt;/div&gt;`)[0];\n",
       "                popup_f5a1d7c00eb652480fa3d21f05846b8d.setContent(html_1fd6a893a5ba09b378cab16dc014e36d);\n",
       "            \n",
       "        \n",
       "\n",
       "        marker_6f7561ad33e8606c6f2ffa8fae3c9ffa.bindPopup(popup_f5a1d7c00eb652480fa3d21f05846b8d)\n",
       "        ;\n",
       "\n",
       "        \n",
       "    \n",
       "    \n",
       "            var marker_bda5a9221f885cef985d30d614a61eb9 = L.marker(\n",
       "                [50.614392, 3.010842],\n",
       "                {}\n",
       "            ).addTo(map_6cfc0e4d35730cccc7872d39d9dc204b);\n",
       "        \n",
       "    \n",
       "        var popup_4e02fb76117c5ba60f7550724bc4ce57 = L.popup({&quot;maxWidth&quot;: &quot;100%&quot;});\n",
       "\n",
       "        \n",
       "            \n",
       "                var html_426119d90d7e3ecb7c4cde4385f38472 = $(`&lt;div id=&quot;html_426119d90d7e3ecb7c4cde4385f38472&quot; style=&quot;width: 100.0%; height: 100.0%;&quot;&gt;Nom de l&#x27;arrêt LOOS CLEMENCEAU &lt;br&gt; Nombre de vélos disponibles 18 &lt;br&gt; Nombre de places disponibles 2&lt;/div&gt;`)[0];\n",
       "                popup_4e02fb76117c5ba60f7550724bc4ce57.setContent(html_426119d90d7e3ecb7c4cde4385f38472);\n",
       "            \n",
       "        \n",
       "\n",
       "        marker_bda5a9221f885cef985d30d614a61eb9.bindPopup(popup_4e02fb76117c5ba60f7550724bc4ce57)\n",
       "        ;\n",
       "\n",
       "        \n",
       "    \n",
       "    \n",
       "            var marker_e33a9509c8d16be5aa19edae0130171e = L.marker(\n",
       "                [50.612899, 3.003575],\n",
       "                {}\n",
       "            ).addTo(map_6cfc0e4d35730cccc7872d39d9dc204b);\n",
       "        \n",
       "    \n",
       "        var popup_0621a6c77f8a637347c803e78d9d6a3c = L.popup({&quot;maxWidth&quot;: &quot;100%&quot;});\n",
       "\n",
       "        \n",
       "            \n",
       "                var html_9ae7362d3af2d0d4fed804720ede28ef = $(`&lt;div id=&quot;html_9ae7362d3af2d0d4fed804720ede28ef&quot; style=&quot;width: 100.0%; height: 100.0%;&quot;&gt;Nom de l&#x27;arrêt GEORGES POTIÉ &lt;br&gt; Nombre de vélos disponibles 10 &lt;br&gt; Nombre de places disponibles 10&lt;/div&gt;`)[0];\n",
       "                popup_0621a6c77f8a637347c803e78d9d6a3c.setContent(html_9ae7362d3af2d0d4fed804720ede28ef);\n",
       "            \n",
       "        \n",
       "\n",
       "        marker_e33a9509c8d16be5aa19edae0130171e.bindPopup(popup_0621a6c77f8a637347c803e78d9d6a3c)\n",
       "        ;\n",
       "\n",
       "        \n",
       "    \n",
       "    \n",
       "            var marker_94d8bb447d6b0624233af2772abe7298 = L.marker(\n",
       "                [50.679123, 3.155906],\n",
       "                {}\n",
       "            ).addTo(map_6cfc0e4d35730cccc7872d39d9dc204b);\n",
       "        \n",
       "    \n",
       "        var popup_e2059214b9c80f9617b1b62d1cd4c20d = L.popup({&quot;maxWidth&quot;: &quot;100%&quot;});\n",
       "\n",
       "        \n",
       "            \n",
       "                var html_8bdd28da328904216708bfb023ec58b1 = $(`&lt;div id=&quot;html_8bdd28da328904216708bfb023ec58b1&quot; style=&quot;width: 100.0%; height: 100.0%;&quot;&gt;Nom de l&#x27;arrêt MAIRIE DE CROIX &lt;br&gt; Nombre de vélos disponibles 0 &lt;br&gt; Nombre de places disponibles 24&lt;/div&gt;`)[0];\n",
       "                popup_e2059214b9c80f9617b1b62d1cd4c20d.setContent(html_8bdd28da328904216708bfb023ec58b1);\n",
       "            \n",
       "        \n",
       "\n",
       "        marker_94d8bb447d6b0624233af2772abe7298.bindPopup(popup_e2059214b9c80f9617b1b62d1cd4c20d)\n",
       "        ;\n",
       "\n",
       "        \n",
       "    \n",
       "    \n",
       "            var marker_2d53c89a6b48db3fb57e37f42640329b = L.marker(\n",
       "                [50.673699, 3.163373],\n",
       "                {}\n",
       "            ).addTo(map_6cfc0e4d35730cccc7872d39d9dc204b);\n",
       "        \n",
       "    \n",
       "        var popup_9721f6270ed4ded1ea4e6715e54e6898 = L.popup({&quot;maxWidth&quot;: &quot;100%&quot;});\n",
       "\n",
       "        \n",
       "            \n",
       "                var html_87e5d73dcb917fbf7203e73b1e41c9ee = $(`&lt;div id=&quot;html_87e5d73dcb917fbf7203e73b1e41c9ee&quot; style=&quot;width: 100.0%; height: 100.0%;&quot;&gt;Nom de l&#x27;arrêt EDHEC &lt;br&gt; Nombre de vélos disponibles 5 &lt;br&gt; Nombre de places disponibles 25&lt;/div&gt;`)[0];\n",
       "                popup_9721f6270ed4ded1ea4e6715e54e6898.setContent(html_87e5d73dcb917fbf7203e73b1e41c9ee);\n",
       "            \n",
       "        \n",
       "\n",
       "        marker_2d53c89a6b48db3fb57e37f42640329b.bindPopup(popup_9721f6270ed4ded1ea4e6715e54e6898)\n",
       "        ;\n",
       "\n",
       "        \n",
       "    \n",
       "    \n",
       "            var marker_dbb414fcdb227af7663aa87ba45abf9b = L.marker(\n",
       "                [50.678038, 3.162436],\n",
       "                {}\n",
       "            ).addTo(map_6cfc0e4d35730cccc7872d39d9dc204b);\n",
       "        \n",
       "    \n",
       "        var popup_94e408a8f965efefe3f2671b6b42056b = L.popup({&quot;maxWidth&quot;: &quot;100%&quot;});\n",
       "\n",
       "        \n",
       "            \n",
       "                var html_a45a462ba0c2dd0a6984cbb510d85ddb = $(`&lt;div id=&quot;html_a45a462ba0c2dd0a6984cbb510d85ddb&quot; style=&quot;width: 100.0%; height: 100.0%;&quot;&gt;Nom de l&#x27;arrêt PARC BARBIEUX &lt;br&gt; Nombre de vélos disponibles 4 &lt;br&gt; Nombre de places disponibles 20&lt;/div&gt;`)[0];\n",
       "                popup_94e408a8f965efefe3f2671b6b42056b.setContent(html_a45a462ba0c2dd0a6984cbb510d85ddb);\n",
       "            \n",
       "        \n",
       "\n",
       "        marker_dbb414fcdb227af7663aa87ba45abf9b.bindPopup(popup_94e408a8f965efefe3f2671b6b42056b)\n",
       "        ;\n",
       "\n",
       "        \n",
       "    \n",
       "    \n",
       "            var marker_cf1215214719c4a21d0abed0b76b81cf = L.marker(\n",
       "                [50.68079, 3.167454],\n",
       "                {}\n",
       "            ).addTo(map_6cfc0e4d35730cccc7872d39d9dc204b);\n",
       "        \n",
       "    \n",
       "        var popup_0d41c6f6c28a9eefd2ee195523dce833 = L.popup({&quot;maxWidth&quot;: &quot;100%&quot;});\n",
       "\n",
       "        \n",
       "            \n",
       "                var html_250607e067049b220c3d682095e99be8 = $(`&lt;div id=&quot;html_250607e067049b220c3d682095e99be8&quot; style=&quot;width: 100.0%; height: 100.0%;&quot;&gt;Nom de l&#x27;arrêt VICTOR PROVO &lt;br&gt; Nombre de vélos disponibles 1 &lt;br&gt; Nombre de places disponibles 19&lt;/div&gt;`)[0];\n",
       "                popup_0d41c6f6c28a9eefd2ee195523dce833.setContent(html_250607e067049b220c3d682095e99be8);\n",
       "            \n",
       "        \n",
       "\n",
       "        marker_cf1215214719c4a21d0abed0b76b81cf.bindPopup(popup_0d41c6f6c28a9eefd2ee195523dce833)\n",
       "        ;\n",
       "\n",
       "        \n",
       "    \n",
       "    \n",
       "            var marker_7d0e5ea73ecb44a862399dacb521c936 = L.marker(\n",
       "                [50.684757, 3.171974],\n",
       "                {}\n",
       "            ).addTo(map_6cfc0e4d35730cccc7872d39d9dc204b);\n",
       "        \n",
       "    \n",
       "        var popup_dcd9bf387cc21b527d6b9aac1c0d2ed8 = L.popup({&quot;maxWidth&quot;: &quot;100%&quot;});\n",
       "\n",
       "        \n",
       "            \n",
       "                var html_0d10e232e2a9eedfd2b88061d5478732 = $(`&lt;div id=&quot;html_0d10e232e2a9eedfd2b88061d5478732&quot; style=&quot;width: 100.0%; height: 100.0%;&quot;&gt;Nom de l&#x27;arrêt JEAN MOULIN &lt;br&gt; Nombre de vélos disponibles 0 &lt;br&gt; Nombre de places disponibles 15&lt;/div&gt;`)[0];\n",
       "                popup_dcd9bf387cc21b527d6b9aac1c0d2ed8.setContent(html_0d10e232e2a9eedfd2b88061d5478732);\n",
       "            \n",
       "        \n",
       "\n",
       "        marker_7d0e5ea73ecb44a862399dacb521c936.bindPopup(popup_dcd9bf387cc21b527d6b9aac1c0d2ed8)\n",
       "        ;\n",
       "\n",
       "        \n",
       "    \n",
       "    \n",
       "            var marker_25f70818e529a4301c27a1e58f54a07a = L.marker(\n",
       "                [50.691007, 3.190299],\n",
       "                {}\n",
       "            ).addTo(map_6cfc0e4d35730cccc7872d39d9dc204b);\n",
       "        \n",
       "    \n",
       "        var popup_cccd3401d7d827903e950a8a27d48d2a = L.popup({&quot;maxWidth&quot;: &quot;100%&quot;});\n",
       "\n",
       "        \n",
       "            \n",
       "                var html_d669c9567ebefc43d937f57d081869ac = $(`&lt;div id=&quot;html_d669c9567ebefc43d937f57d081869ac&quot; style=&quot;width: 100.0%; height: 100.0%;&quot;&gt;Nom de l&#x27;arrêt CONDITION PUBLIQUE &lt;br&gt; Nombre de vélos disponibles 8 &lt;br&gt; Nombre de places disponibles 10&lt;/div&gt;`)[0];\n",
       "                popup_cccd3401d7d827903e950a8a27d48d2a.setContent(html_d669c9567ebefc43d937f57d081869ac);\n",
       "            \n",
       "        \n",
       "\n",
       "        marker_25f70818e529a4301c27a1e58f54a07a.bindPopup(popup_cccd3401d7d827903e950a8a27d48d2a)\n",
       "        ;\n",
       "\n",
       "        \n",
       "    \n",
       "    \n",
       "            var marker_562f7cf532af7b9abc532e2ad648560d = L.marker(\n",
       "                [50.688015, 3.174815],\n",
       "                {}\n",
       "            ).addTo(map_6cfc0e4d35730cccc7872d39d9dc204b);\n",
       "        \n",
       "    \n",
       "        var popup_ebe3ec5a15595391f82097664700bcfa = L.popup({&quot;maxWidth&quot;: &quot;100%&quot;});\n",
       "\n",
       "        \n",
       "            \n",
       "                var html_37c96bd7a4bb8020ad8c4501ed964282 = $(`&lt;div id=&quot;html_37c96bd7a4bb8020ad8c4501ed964282&quot; style=&quot;width: 100.0%; height: 100.0%;&quot;&gt;Nom de l&#x27;arrêt ALFRED MONGY &lt;br&gt; Nombre de vélos disponibles 4 &lt;br&gt; Nombre de places disponibles 20&lt;/div&gt;`)[0];\n",
       "                popup_ebe3ec5a15595391f82097664700bcfa.setContent(html_37c96bd7a4bb8020ad8c4501ed964282);\n",
       "            \n",
       "        \n",
       "\n",
       "        marker_562f7cf532af7b9abc532e2ad648560d.bindPopup(popup_ebe3ec5a15595391f82097664700bcfa)\n",
       "        ;\n",
       "\n",
       "        \n",
       "    \n",
       "    \n",
       "            var marker_3fda42aff627fae0c95f6a08907b6ad8 = L.marker(\n",
       "                [50.691323, 3.17974],\n",
       "                {}\n",
       "            ).addTo(map_6cfc0e4d35730cccc7872d39d9dc204b);\n",
       "        \n",
       "    \n",
       "        var popup_cd02890182a52bc9f915d5add9776457 = L.popup({&quot;maxWidth&quot;: &quot;100%&quot;});\n",
       "\n",
       "        \n",
       "            \n",
       "                var html_b6f08198ffb5e575841dbb914eaf97d3 = $(`&lt;div id=&quot;html_b6f08198ffb5e575841dbb914eaf97d3&quot; style=&quot;width: 100.0%; height: 100.0%;&quot;&gt;Nom de l&#x27;arrêt EUROTELEPORT &lt;br&gt; Nombre de vélos disponibles 7 &lt;br&gt; Nombre de places disponibles 23&lt;/div&gt;`)[0];\n",
       "                popup_cd02890182a52bc9f915d5add9776457.setContent(html_b6f08198ffb5e575841dbb914eaf97d3);\n",
       "            \n",
       "        \n",
       "\n",
       "        marker_3fda42aff627fae0c95f6a08907b6ad8.bindPopup(popup_cd02890182a52bc9f915d5add9776457)\n",
       "        ;\n",
       "\n",
       "        \n",
       "    \n",
       "    \n",
       "            var marker_c8c9d3dc8ed456f069a06a76447f862e = L.marker(\n",
       "                [50.67544, 3.181998],\n",
       "                {}\n",
       "            ).addTo(map_6cfc0e4d35730cccc7872d39d9dc204b);\n",
       "        \n",
       "    \n",
       "        var popup_9a1c9bcf0e2e4bcdf10f0f52c13d57dd = L.popup({&quot;maxWidth&quot;: &quot;100%&quot;});\n",
       "\n",
       "        \n",
       "            \n",
       "                var html_f6118444c99ec37d4d59a5ff8362b7ed = $(`&lt;div id=&quot;html_f6118444c99ec37d4d59a5ff8362b7ed&quot; style=&quot;width: 100.0%; height: 100.0%;&quot;&gt;Nom de l&#x27;arrêt DE FOURMIES &lt;br&gt; Nombre de vélos disponibles 0 &lt;br&gt; Nombre de places disponibles 12&lt;/div&gt;`)[0];\n",
       "                popup_9a1c9bcf0e2e4bcdf10f0f52c13d57dd.setContent(html_f6118444c99ec37d4d59a5ff8362b7ed);\n",
       "            \n",
       "        \n",
       "\n",
       "        marker_c8c9d3dc8ed456f069a06a76447f862e.bindPopup(popup_9a1c9bcf0e2e4bcdf10f0f52c13d57dd)\n",
       "        ;\n",
       "\n",
       "        \n",
       "    \n",
       "    \n",
       "            var marker_57577bfbb4ebd2885eca2793271589e5 = L.marker(\n",
       "                [50.674995, 3.195737],\n",
       "                {}\n",
       "            ).addTo(map_6cfc0e4d35730cccc7872d39d9dc204b);\n",
       "        \n",
       "    \n",
       "        var popup_775a3903f96179159a678b25e9ade44f = L.popup({&quot;maxWidth&quot;: &quot;100%&quot;});\n",
       "\n",
       "        \n",
       "            \n",
       "                var html_07e33a8aad8d989f3d6f6776e703e8ab = $(`&lt;div id=&quot;html_07e33a8aad8d989f3d6f6776e703e8ab&quot; style=&quot;width: 100.0%; height: 100.0%;&quot;&gt;Nom de l&#x27;arrêt USINE &lt;br&gt; Nombre de vélos disponibles 12 &lt;br&gt; Nombre de places disponibles 8&lt;/div&gt;`)[0];\n",
       "                popup_775a3903f96179159a678b25e9ade44f.setContent(html_07e33a8aad8d989f3d6f6776e703e8ab);\n",
       "            \n",
       "        \n",
       "\n",
       "        marker_57577bfbb4ebd2885eca2793271589e5.bindPopup(popup_775a3903f96179159a678b25e9ade44f)\n",
       "        ;\n",
       "\n",
       "        \n",
       "    \n",
       "    \n",
       "            var marker_0c17ffc37c3013c0d7f6eb5c578f1a92 = L.marker(\n",
       "                [50.676884, 3.187817],\n",
       "                {}\n",
       "            ).addTo(map_6cfc0e4d35730cccc7872d39d9dc204b);\n",
       "        \n",
       "    \n",
       "        var popup_bc0c211753c0ca4c3c4bb99e1960cbb8 = L.popup({&quot;maxWidth&quot;: &quot;100%&quot;});\n",
       "\n",
       "        \n",
       "            \n",
       "                var html_040db6b006ebe55f079c05453ae96cfe = $(`&lt;div id=&quot;html_040db6b006ebe55f079c05453ae96cfe&quot; style=&quot;width: 100.0%; height: 100.0%;&quot;&gt;Nom de l&#x27;arrêt LINNE &lt;br&gt; Nombre de vélos disponibles 11 &lt;br&gt; Nombre de places disponibles 1&lt;/div&gt;`)[0];\n",
       "                popup_bc0c211753c0ca4c3c4bb99e1960cbb8.setContent(html_040db6b006ebe55f079c05453ae96cfe);\n",
       "            \n",
       "        \n",
       "\n",
       "        marker_0c17ffc37c3013c0d7f6eb5c578f1a92.bindPopup(popup_bc0c211753c0ca4c3c4bb99e1960cbb8)\n",
       "        ;\n",
       "\n",
       "        \n",
       "    \n",
       "    \n",
       "            var marker_3119707e7ebeb908189a333a2f81049a = L.marker(\n",
       "                [50.674164, 3.174519],\n",
       "                {}\n",
       "            ).addTo(map_6cfc0e4d35730cccc7872d39d9dc204b);\n",
       "        \n",
       "    \n",
       "        var popup_9dda39f6ec41f829a5faf147764fbf7b = L.popup({&quot;maxWidth&quot;: &quot;100%&quot;});\n",
       "\n",
       "        \n",
       "            \n",
       "                var html_d4d127fa8b59b0d4045a0cd135a3a813 = $(`&lt;div id=&quot;html_d4d127fa8b59b0d4045a0cd135a3a813&quot; style=&quot;width: 100.0%; height: 100.0%;&quot;&gt;Nom de l&#x27;arrêt GUSTAVE DELORY &lt;br&gt; Nombre de vélos disponibles 11 &lt;br&gt; Nombre de places disponibles 7&lt;/div&gt;`)[0];\n",
       "                popup_9dda39f6ec41f829a5faf147764fbf7b.setContent(html_d4d127fa8b59b0d4045a0cd135a3a813);\n",
       "            \n",
       "        \n",
       "\n",
       "        marker_3119707e7ebeb908189a333a2f81049a.bindPopup(popup_9dda39f6ec41f829a5faf147764fbf7b)\n",
       "        ;\n",
       "\n",
       "        \n",
       "    \n",
       "    \n",
       "            var marker_866f0129e1d5c4808bd6f8dfa90ae935 = L.marker(\n",
       "                [50.682053, 3.182205],\n",
       "                {}\n",
       "            ).addTo(map_6cfc0e4d35730cccc7872d39d9dc204b);\n",
       "        \n",
       "    \n",
       "        var popup_3e6a3d8aae14a9a50a641986969c6a16 = L.popup({&quot;maxWidth&quot;: &quot;100%&quot;});\n",
       "\n",
       "        \n",
       "            \n",
       "                var html_f74b632e6efa95b01ab76dbb55202d5c = $(`&lt;div id=&quot;html_f74b632e6efa95b01ab76dbb55202d5c&quot; style=&quot;width: 100.0%; height: 100.0%;&quot;&gt;Nom de l&#x27;arrêt DANIELLE LESAFFRE &lt;br&gt; Nombre de vélos disponibles 7 &lt;br&gt; Nombre de places disponibles 11&lt;/div&gt;`)[0];\n",
       "                popup_3e6a3d8aae14a9a50a641986969c6a16.setContent(html_f74b632e6efa95b01ab76dbb55202d5c);\n",
       "            \n",
       "        \n",
       "\n",
       "        marker_866f0129e1d5c4808bd6f8dfa90ae935.bindPopup(popup_3e6a3d8aae14a9a50a641986969c6a16)\n",
       "        ;\n",
       "\n",
       "        \n",
       "    \n",
       "    \n",
       "            var marker_3208e340644a7bdb87c50a08adf6010c = L.marker(\n",
       "                [50.68859, 3.182028],\n",
       "                {}\n",
       "            ).addTo(map_6cfc0e4d35730cccc7872d39d9dc204b);\n",
       "        \n",
       "    \n",
       "        var popup_8e39abb7864be04e210e6f21e1d14b61 = L.popup({&quot;maxWidth&quot;: &quot;100%&quot;});\n",
       "\n",
       "        \n",
       "            \n",
       "                var html_49022f5ab274d349cb6a5a0fc8451d2a = $(`&lt;div id=&quot;html_49022f5ab274d349cb6a5a0fc8451d2a&quot; style=&quot;width: 100.0%; height: 100.0%;&quot;&gt;Nom de l&#x27;arrêt LANNOY &lt;br&gt; Nombre de vélos disponibles 6 &lt;br&gt; Nombre de places disponibles 12&lt;/div&gt;`)[0];\n",
       "                popup_8e39abb7864be04e210e6f21e1d14b61.setContent(html_49022f5ab274d349cb6a5a0fc8451d2a);\n",
       "            \n",
       "        \n",
       "\n",
       "        marker_3208e340644a7bdb87c50a08adf6010c.bindPopup(popup_8e39abb7864be04e210e6f21e1d14b61)\n",
       "        ;\n",
       "\n",
       "        \n",
       "    \n",
       "    \n",
       "            var marker_ec326500a7a5a6da811b881c0f0d1882 = L.marker(\n",
       "                [50.679472, 3.179333],\n",
       "                {}\n",
       "            ).addTo(map_6cfc0e4d35730cccc7872d39d9dc204b);\n",
       "        \n",
       "    \n",
       "        var popup_c447fe636922440f8a66a3529ce18942 = L.popup({&quot;maxWidth&quot;: &quot;100%&quot;});\n",
       "\n",
       "        \n",
       "            \n",
       "                var html_b02f54cd7d54ebe784871ddd96821e66 = $(`&lt;div id=&quot;html_b02f54cd7d54ebe784871ddd96821e66&quot; style=&quot;width: 100.0%; height: 100.0%;&quot;&gt;Nom de l&#x27;arrêt SAINT JEAN-BAPTISTE &lt;br&gt; Nombre de vélos disponibles 2 &lt;br&gt; Nombre de places disponibles 10&lt;/div&gt;`)[0];\n",
       "                popup_c447fe636922440f8a66a3529ce18942.setContent(html_b02f54cd7d54ebe784871ddd96821e66);\n",
       "            \n",
       "        \n",
       "\n",
       "        marker_ec326500a7a5a6da811b881c0f0d1882.bindPopup(popup_c447fe636922440f8a66a3529ce18942)\n",
       "        ;\n",
       "\n",
       "        \n",
       "    \n",
       "    \n",
       "            var marker_e64c584c11525f3af84cb6f855f0b8f9 = L.marker(\n",
       "                [50.69184, 3.173925],\n",
       "                {}\n",
       "            ).addTo(map_6cfc0e4d35730cccc7872d39d9dc204b);\n",
       "        \n",
       "    \n",
       "        var popup_d26a80bcfe2fa29f6bb833fea9fda658 = L.popup({&quot;maxWidth&quot;: &quot;100%&quot;});\n",
       "\n",
       "        \n",
       "            \n",
       "                var html_1460a22efb04d2afff1a95b9948a6ad9 = $(`&lt;div id=&quot;html_1460a22efb04d2afff1a95b9948a6ad9&quot; style=&quot;width: 100.0%; height: 100.0%;&quot;&gt;Nom de l&#x27;arrêt ROUBAIX MAIRIE &lt;br&gt; Nombre de vélos disponibles 2 &lt;br&gt; Nombre de places disponibles 28&lt;/div&gt;`)[0];\n",
       "                popup_d26a80bcfe2fa29f6bb833fea9fda658.setContent(html_1460a22efb04d2afff1a95b9948a6ad9);\n",
       "            \n",
       "        \n",
       "\n",
       "        marker_e64c584c11525f3af84cb6f855f0b8f9.bindPopup(popup_d26a80bcfe2fa29f6bb833fea9fda658)\n",
       "        ;\n",
       "\n",
       "        \n",
       "    \n",
       "    \n",
       "            var marker_a453f7c5ae10264f271d97fd3eba9e35 = L.marker(\n",
       "                [50.6903353, 3.1690075],\n",
       "                {}\n",
       "            ).addTo(map_6cfc0e4d35730cccc7872d39d9dc204b);\n",
       "        \n",
       "    \n",
       "        var popup_f2caa6d649549ce2fb57b9b27d9f54b3 = L.popup({&quot;maxWidth&quot;: &quot;100%&quot;});\n",
       "\n",
       "        \n",
       "            \n",
       "                var html_aa1e0735f5d5b08e067dd27857bfac6f = $(`&lt;div id=&quot;html_aa1e0735f5d5b08e067dd27857bfac6f&quot; style=&quot;width: 100.0%; height: 100.0%;&quot;&gt;Nom de l&#x27;arrêt PLACE TRICHON &lt;br&gt; Nombre de vélos disponibles 10 &lt;br&gt; Nombre de places disponibles 2&lt;/div&gt;`)[0];\n",
       "                popup_f2caa6d649549ce2fb57b9b27d9f54b3.setContent(html_aa1e0735f5d5b08e067dd27857bfac6f);\n",
       "            \n",
       "        \n",
       "\n",
       "        marker_a453f7c5ae10264f271d97fd3eba9e35.bindPopup(popup_f2caa6d649549ce2fb57b9b27d9f54b3)\n",
       "        ;\n",
       "\n",
       "        \n",
       "    \n",
       "    \n",
       "            var marker_35d03e79207dafa937670b5c1cb265e8 = L.marker(\n",
       "                [50.691406, 3.162704],\n",
       "                {}\n",
       "            ).addTo(map_6cfc0e4d35730cccc7872d39d9dc204b);\n",
       "        \n",
       "    \n",
       "        var popup_b0eed41faf995183280776be163dc7ee = L.popup({&quot;maxWidth&quot;: &quot;100%&quot;});\n",
       "\n",
       "        \n",
       "            \n",
       "                var html_1dfd67cce212b133f4e1d59e191febeb = $(`&lt;div id=&quot;html_1dfd67cce212b133f4e1d59e191febeb&quot; style=&quot;width: 100.0%; height: 100.0%;&quot;&gt;Nom de l&#x27;arrêt CENTRE NAUTIQUE &lt;br&gt; Nombre de vélos disponibles 10 &lt;br&gt; Nombre de places disponibles 4&lt;/div&gt;`)[0];\n",
       "                popup_b0eed41faf995183280776be163dc7ee.setContent(html_1dfd67cce212b133f4e1d59e191febeb);\n",
       "            \n",
       "        \n",
       "\n",
       "        marker_35d03e79207dafa937670b5c1cb265e8.bindPopup(popup_b0eed41faf995183280776be163dc7ee)\n",
       "        ;\n",
       "\n",
       "        \n",
       "    \n",
       "    \n",
       "            var marker_523f8dd92b3a32b34e5221fc7bbc9731 = L.marker(\n",
       "                [50.683987, 3.16327],\n",
       "                {}\n",
       "            ).addTo(map_6cfc0e4d35730cccc7872d39d9dc204b);\n",
       "        \n",
       "    \n",
       "        var popup_af93c17bc802db6ce7abe1da980f93ee = L.popup({&quot;maxWidth&quot;: &quot;100%&quot;});\n",
       "\n",
       "        \n",
       "            \n",
       "                var html_53ca66abb7e4f72817bc966ef932a36f = $(`&lt;div id=&quot;html_53ca66abb7e4f72817bc966ef932a36f&quot; style=&quot;width: 100.0%; height: 100.0%;&quot;&gt;Nom de l&#x27;arrêt EPEULE MONTESQUIEU &lt;br&gt; Nombre de vélos disponibles 3 &lt;br&gt; Nombre de places disponibles 13&lt;/div&gt;`)[0];\n",
       "                popup_af93c17bc802db6ce7abe1da980f93ee.setContent(html_53ca66abb7e4f72817bc966ef932a36f);\n",
       "            \n",
       "        \n",
       "\n",
       "        marker_523f8dd92b3a32b34e5221fc7bbc9731.bindPopup(popup_af93c17bc802db6ce7abe1da980f93ee)\n",
       "        ;\n",
       "\n",
       "        \n",
       "    \n",
       "    \n",
       "            var marker_3545d19fce0e4ab1f4c62c1cb8a8187d = L.marker(\n",
       "                [50.68645, 3.170006],\n",
       "                {}\n",
       "            ).addTo(map_6cfc0e4d35730cccc7872d39d9dc204b);\n",
       "        \n",
       "    \n",
       "        var popup_7f83497a8c9e3f49a1ad8192c61f9541 = L.popup({&quot;maxWidth&quot;: &quot;100%&quot;});\n",
       "\n",
       "        \n",
       "            \n",
       "                var html_d2714a6ad1c936339b5ff5adc5073621 = $(`&lt;div id=&quot;html_d2714a6ad1c936339b5ff5adc5073621&quot; style=&quot;width: 100.0%; height: 100.0%;&quot;&gt;Nom de l&#x27;arrêt CHARLES DE GAULLE &lt;br&gt; Nombre de vélos disponibles 1 &lt;br&gt; Nombre de places disponibles 15&lt;/div&gt;`)[0];\n",
       "                popup_7f83497a8c9e3f49a1ad8192c61f9541.setContent(html_d2714a6ad1c936339b5ff5adc5073621);\n",
       "            \n",
       "        \n",
       "\n",
       "        marker_3545d19fce0e4ab1f4c62c1cb8a8187d.bindPopup(popup_7f83497a8c9e3f49a1ad8192c61f9541)\n",
       "        ;\n",
       "\n",
       "        \n",
       "    \n",
       "    \n",
       "            var marker_d6ce121dca8ebce914adba204dd9ee3a = L.marker(\n",
       "                [50.699436, 3.159658],\n",
       "                {}\n",
       "            ).addTo(map_6cfc0e4d35730cccc7872d39d9dc204b);\n",
       "        \n",
       "    \n",
       "        var popup_c250ce486752397c96f97dcc152e144e = L.popup({&quot;maxWidth&quot;: &quot;100%&quot;});\n",
       "\n",
       "        \n",
       "            \n",
       "                var html_6df037dd49407dcab7f49d1aa4b7d5dc = $(`&lt;div id=&quot;html_6df037dd49407dcab7f49d1aa4b7d5dc&quot; style=&quot;width: 100.0%; height: 100.0%;&quot;&gt;Nom de l&#x27;arrêt BVRD ARMENTIERES &lt;br&gt; Nombre de vélos disponibles 7 &lt;br&gt; Nombre de places disponibles 11&lt;/div&gt;`)[0];\n",
       "                popup_c250ce486752397c96f97dcc152e144e.setContent(html_6df037dd49407dcab7f49d1aa4b7d5dc);\n",
       "            \n",
       "        \n",
       "\n",
       "        marker_d6ce121dca8ebce914adba204dd9ee3a.bindPopup(popup_c250ce486752397c96f97dcc152e144e)\n",
       "        ;\n",
       "\n",
       "        \n",
       "    \n",
       "    \n",
       "            var marker_9cd5b7bb5efce378b15cfffe1ff5d8d1 = L.marker(\n",
       "                [50.692368, 3.185092],\n",
       "                {}\n",
       "            ).addTo(map_6cfc0e4d35730cccc7872d39d9dc204b);\n",
       "        \n",
       "    \n",
       "        var popup_2c990676e27c8b62d234ef807d739718 = L.popup({&quot;maxWidth&quot;: &quot;100%&quot;});\n",
       "\n",
       "        \n",
       "            \n",
       "                var html_77fdf8dd0c64db7243caaadd7cd326fc = $(`&lt;div id=&quot;html_77fdf8dd0c64db7243caaadd7cd326fc&quot; style=&quot;width: 100.0%; height: 100.0%;&quot;&gt;Nom de l&#x27;arrêt NATIONS UNIES &lt;br&gt; Nombre de vélos disponibles 17 &lt;br&gt; Nombre de places disponibles 1&lt;/div&gt;`)[0];\n",
       "                popup_2c990676e27c8b62d234ef807d739718.setContent(html_77fdf8dd0c64db7243caaadd7cd326fc);\n",
       "            \n",
       "        \n",
       "\n",
       "        marker_9cd5b7bb5efce378b15cfffe1ff5d8d1.bindPopup(popup_2c990676e27c8b62d234ef807d739718)\n",
       "        ;\n",
       "\n",
       "        \n",
       "    \n",
       "    \n",
       "            var marker_1b4cfe261c1ee3986c2f81dc85f01d1f = L.marker(\n",
       "                [50.70076, 3.18407],\n",
       "                {}\n",
       "            ).addTo(map_6cfc0e4d35730cccc7872d39d9dc204b);\n",
       "        \n",
       "    \n",
       "        var popup_5ee9df136db442911f5b1c63bf5db4b0 = L.popup({&quot;maxWidth&quot;: &quot;100%&quot;});\n",
       "\n",
       "        \n",
       "            \n",
       "                var html_633161297754fde88c0af099765ce514 = $(`&lt;div id=&quot;html_633161297754fde88c0af099765ce514&quot; style=&quot;width: 100.0%; height: 100.0%;&quot;&gt;Nom de l&#x27;arrêt DE LA VIGNE &lt;br&gt; Nombre de vélos disponibles 9 &lt;br&gt; Nombre de places disponibles 2&lt;/div&gt;`)[0];\n",
       "                popup_5ee9df136db442911f5b1c63bf5db4b0.setContent(html_633161297754fde88c0af099765ce514);\n",
       "            \n",
       "        \n",
       "\n",
       "        marker_1b4cfe261c1ee3986c2f81dc85f01d1f.bindPopup(popup_5ee9df136db442911f5b1c63bf5db4b0)\n",
       "        ;\n",
       "\n",
       "        \n",
       "    \n",
       "    \n",
       "            var marker_571361c3c0c52389d20cc04618d2e78f = L.marker(\n",
       "                [50.716907, 3.167436],\n",
       "                {}\n",
       "            ).addTo(map_6cfc0e4d35730cccc7872d39d9dc204b);\n",
       "        \n",
       "    \n",
       "        var popup_b1d688a9100779cc303d1990ffbf4cce = L.popup({&quot;maxWidth&quot;: &quot;100%&quot;});\n",
       "\n",
       "        \n",
       "            \n",
       "                var html_c9127c42eb08f8bb9d8426f19c052b93 = $(`&lt;div id=&quot;html_c9127c42eb08f8bb9d8426f19c052b93&quot; style=&quot;width: 100.0%; height: 100.0%;&quot;&gt;Nom de l&#x27;arrêt TOURCOING GARE &lt;br&gt; Nombre de vélos disponibles 4 &lt;br&gt; Nombre de places disponibles 14&lt;/div&gt;`)[0];\n",
       "                popup_b1d688a9100779cc303d1990ffbf4cce.setContent(html_c9127c42eb08f8bb9d8426f19c052b93);\n",
       "            \n",
       "        \n",
       "\n",
       "        marker_571361c3c0c52389d20cc04618d2e78f.bindPopup(popup_b1d688a9100779cc303d1990ffbf4cce)\n",
       "        ;\n",
       "\n",
       "        \n",
       "    \n",
       "    \n",
       "            var marker_160217009071df4adfc28982246177dc = L.marker(\n",
       "                [50.718204, 3.15749],\n",
       "                {}\n",
       "            ).addTo(map_6cfc0e4d35730cccc7872d39d9dc204b);\n",
       "        \n",
       "    \n",
       "        var popup_163b37c9231ad84f9538d85345ebbc4a = L.popup({&quot;maxWidth&quot;: &quot;100%&quot;});\n",
       "\n",
       "        \n",
       "            \n",
       "                var html_d6b302b062487db75601f1c282be5215 = $(`&lt;div id=&quot;html_d6b302b062487db75601f1c282be5215&quot; style=&quot;width: 100.0%; height: 100.0%;&quot;&gt;Nom de l&#x27;arrêt VICTOIRE &lt;br&gt; Nombre de vélos disponibles 4 &lt;br&gt; Nombre de places disponibles 8&lt;/div&gt;`)[0];\n",
       "                popup_163b37c9231ad84f9538d85345ebbc4a.setContent(html_d6b302b062487db75601f1c282be5215);\n",
       "            \n",
       "        \n",
       "\n",
       "        marker_160217009071df4adfc28982246177dc.bindPopup(popup_163b37c9231ad84f9538d85345ebbc4a)\n",
       "        ;\n",
       "\n",
       "        \n",
       "    \n",
       "    \n",
       "            var marker_1b7b5b5295ea4a5ea180f2404956a2a1 = L.marker(\n",
       "                [50.727453, 3.166828],\n",
       "                {}\n",
       "            ).addTo(map_6cfc0e4d35730cccc7872d39d9dc204b);\n",
       "        \n",
       "    \n",
       "        var popup_04cf6b36d8da72d6153b5f679623eec4 = L.popup({&quot;maxWidth&quot;: &quot;100%&quot;});\n",
       "\n",
       "        \n",
       "            \n",
       "                var html_abd37865dab7791d95bfd86bf563c11b = $(`&lt;div id=&quot;html_abd37865dab7791d95bfd86bf563c11b&quot; style=&quot;width: 100.0%; height: 100.0%;&quot;&gt;Nom de l&#x27;arrêt F ROOSEVELT &lt;br&gt; Nombre de vélos disponibles 2 &lt;br&gt; Nombre de places disponibles 10&lt;/div&gt;`)[0];\n",
       "                popup_04cf6b36d8da72d6153b5f679623eec4.setContent(html_abd37865dab7791d95bfd86bf563c11b);\n",
       "            \n",
       "        \n",
       "\n",
       "        marker_1b7b5b5295ea4a5ea180f2404956a2a1.bindPopup(popup_04cf6b36d8da72d6153b5f679623eec4)\n",
       "        ;\n",
       "\n",
       "        \n",
       "    \n",
       "    \n",
       "            var marker_e0fade38a1f057e261ec2ff91e39ca65 = L.marker(\n",
       "                [50.724581, 3.166122],\n",
       "                {}\n",
       "            ).addTo(map_6cfc0e4d35730cccc7872d39d9dc204b);\n",
       "        \n",
       "    \n",
       "        var popup_0d0cd6aad04fc29d5d7a8ce69cba0271 = L.popup({&quot;maxWidth&quot;: &quot;100%&quot;});\n",
       "\n",
       "        \n",
       "            \n",
       "                var html_17b816c9cdfe3908b5b6fb462c3f145e = $(`&lt;div id=&quot;html_17b816c9cdfe3908b5b6fb462c3f145e&quot; style=&quot;width: 100.0%; height: 100.0%;&quot;&gt;Nom de l&#x27;arrêt JARDIN BOTANIQUE &lt;br&gt; Nombre de vélos disponibles 7 &lt;br&gt; Nombre de places disponibles 1&lt;/div&gt;`)[0];\n",
       "                popup_0d0cd6aad04fc29d5d7a8ce69cba0271.setContent(html_17b816c9cdfe3908b5b6fb462c3f145e);\n",
       "            \n",
       "        \n",
       "\n",
       "        marker_e0fade38a1f057e261ec2ff91e39ca65.bindPopup(popup_0d0cd6aad04fc29d5d7a8ce69cba0271)\n",
       "        ;\n",
       "\n",
       "        \n",
       "    \n",
       "    \n",
       "            var marker_f330cac120facad94810b02e9d2d6d72 = L.marker(\n",
       "                [50.72271, 3.163794],\n",
       "                {}\n",
       "            ).addTo(map_6cfc0e4d35730cccc7872d39d9dc204b);\n",
       "        \n",
       "    \n",
       "        var popup_c2f82d6f42d794af9944189e914bd183 = L.popup({&quot;maxWidth&quot;: &quot;100%&quot;});\n",
       "\n",
       "        \n",
       "            \n",
       "                var html_778f76aa27e4373f8a7c43f5ea3fc40c = $(`&lt;div id=&quot;html_778f76aa27e4373f8a7c43f5ea3fc40c&quot; style=&quot;width: 100.0%; height: 100.0%;&quot;&gt;Nom de l&#x27;arrêt CAVELL &lt;br&gt; Nombre de vélos disponibles 4 &lt;br&gt; Nombre de places disponibles 2&lt;/div&gt;`)[0];\n",
       "                popup_c2f82d6f42d794af9944189e914bd183.setContent(html_778f76aa27e4373f8a7c43f5ea3fc40c);\n",
       "            \n",
       "        \n",
       "\n",
       "        marker_f330cac120facad94810b02e9d2d6d72.bindPopup(popup_c2f82d6f42d794af9944189e914bd183)\n",
       "        ;\n",
       "\n",
       "        \n",
       "    \n",
       "    \n",
       "            var marker_77e176053a3fa4c05c2acf7e997d647e = L.marker(\n",
       "                [50.73418, 3.1681724],\n",
       "                {}\n",
       "            ).addTo(map_6cfc0e4d35730cccc7872d39d9dc204b);\n",
       "        \n",
       "    \n",
       "        var popup_01d591f0e07cb43a8281b07709f4a3bc = L.popup({&quot;maxWidth&quot;: &quot;100%&quot;});\n",
       "\n",
       "        \n",
       "            \n",
       "                var html_767c6155544843bf18a9a1cc1c4cebc5 = $(`&lt;div id=&quot;html_767c6155544843bf18a9a1cc1c4cebc5&quot; style=&quot;width: 100.0%; height: 100.0%;&quot;&gt;Nom de l&#x27;arrêt ROUGET DE L ISLE &lt;br&gt; Nombre de vélos disponibles 6 &lt;br&gt; Nombre de places disponibles 9&lt;/div&gt;`)[0];\n",
       "                popup_01d591f0e07cb43a8281b07709f4a3bc.setContent(html_767c6155544843bf18a9a1cc1c4cebc5);\n",
       "            \n",
       "        \n",
       "\n",
       "        marker_77e176053a3fa4c05c2acf7e997d647e.bindPopup(popup_01d591f0e07cb43a8281b07709f4a3bc)\n",
       "        ;\n",
       "\n",
       "        \n",
       "    \n",
       "    \n",
       "            var marker_2ded4c81009189e41f66461b7cdd39f8 = L.marker(\n",
       "                [50.728798, 3.158835],\n",
       "                {}\n",
       "            ).addTo(map_6cfc0e4d35730cccc7872d39d9dc204b);\n",
       "        \n",
       "    \n",
       "        var popup_5667c29df557944f03c5b03d2ab4dfdd = L.popup({&quot;maxWidth&quot;: &quot;100%&quot;});\n",
       "\n",
       "        \n",
       "            \n",
       "                var html_bb0d4db220737160e8181f039f45774a = $(`&lt;div id=&quot;html_bb0d4db220737160e8181f039f45774a&quot; style=&quot;width: 100.0%; height: 100.0%;&quot;&gt;Nom de l&#x27;arrêt RUE SAINT BLAISE &lt;br&gt; Nombre de vélos disponibles 0 &lt;br&gt; Nombre de places disponibles 6&lt;/div&gt;`)[0];\n",
       "                popup_5667c29df557944f03c5b03d2ab4dfdd.setContent(html_bb0d4db220737160e8181f039f45774a);\n",
       "            \n",
       "        \n",
       "\n",
       "        marker_2ded4c81009189e41f66461b7cdd39f8.bindPopup(popup_5667c29df557944f03c5b03d2ab4dfdd)\n",
       "        ;\n",
       "\n",
       "        \n",
       "    \n",
       "    \n",
       "            var marker_875fb23fa8b8971227bfc9c29861f597 = L.marker(\n",
       "                [50.728798, 3.154051],\n",
       "                {}\n",
       "            ).addTo(map_6cfc0e4d35730cccc7872d39d9dc204b);\n",
       "        \n",
       "    \n",
       "        var popup_ee7cb8bab2709e4a3ad44a0c7bd93360 = L.popup({&quot;maxWidth&quot;: &quot;100%&quot;});\n",
       "\n",
       "        \n",
       "            \n",
       "                var html_5076aa8e658c568251ccc57d8ff6221e = $(`&lt;div id=&quot;html_5076aa8e658c568251ccc57d8ff6221e&quot; style=&quot;width: 100.0%; height: 100.0%;&quot;&gt;Nom de l&#x27;arrêt RUE DE MENIN &lt;br&gt; Nombre de vélos disponibles 2 &lt;br&gt; Nombre de places disponibles 10&lt;/div&gt;`)[0];\n",
       "                popup_ee7cb8bab2709e4a3ad44a0c7bd93360.setContent(html_5076aa8e658c568251ccc57d8ff6221e);\n",
       "            \n",
       "        \n",
       "\n",
       "        marker_875fb23fa8b8971227bfc9c29861f597.bindPopup(popup_ee7cb8bab2709e4a3ad44a0c7bd93360)\n",
       "        ;\n",
       "\n",
       "        \n",
       "    \n",
       "    \n",
       "            var marker_66d12cf1f48fbcc3f1942a5ee3ce9a14 = L.marker(\n",
       "                [50.72389, 3.160344],\n",
       "                {}\n",
       "            ).addTo(map_6cfc0e4d35730cccc7872d39d9dc204b);\n",
       "        \n",
       "    \n",
       "        var popup_e5190c83b27a2f66ac8fdf9cd2e27cf0 = L.popup({&quot;maxWidth&quot;: &quot;100%&quot;});\n",
       "\n",
       "        \n",
       "            \n",
       "                var html_abf48ab5206d97c008395d39a8ec8470 = $(`&lt;div id=&quot;html_abf48ab5206d97c008395d39a8ec8470&quot; style=&quot;width: 100.0%; height: 100.0%;&quot;&gt;Nom de l&#x27;arrêt TOURCOING MAIRIE &lt;br&gt; Nombre de vélos disponibles 0 &lt;br&gt; Nombre de places disponibles 22&lt;/div&gt;`)[0];\n",
       "                popup_e5190c83b27a2f66ac8fdf9cd2e27cf0.setContent(html_abf48ab5206d97c008395d39a8ec8470);\n",
       "            \n",
       "        \n",
       "\n",
       "        marker_66d12cf1f48fbcc3f1942a5ee3ce9a14.bindPopup(popup_e5190c83b27a2f66ac8fdf9cd2e27cf0)\n",
       "        ;\n",
       "\n",
       "        \n",
       "    \n",
       "    \n",
       "            var marker_10ef0e89fff6cc27e66afce4515a189e = L.marker(\n",
       "                [50.72551, 3.156554],\n",
       "                {}\n",
       "            ).addTo(map_6cfc0e4d35730cccc7872d39d9dc204b);\n",
       "        \n",
       "    \n",
       "        var popup_e318f9a3d19ac0d204138bdddb850664 = L.popup({&quot;maxWidth&quot;: &quot;100%&quot;});\n",
       "\n",
       "        \n",
       "            \n",
       "                var html_bc7b9cf9f22cb756aac87284e8ecefbf = $(`&lt;div id=&quot;html_bc7b9cf9f22cb756aac87284e8ecefbf&quot; style=&quot;width: 100.0%; height: 100.0%;&quot;&gt;Nom de l&#x27;arrêt COLBERT &lt;br&gt; Nombre de vélos disponibles 4 &lt;br&gt; Nombre de places disponibles 14&lt;/div&gt;`)[0];\n",
       "                popup_e318f9a3d19ac0d204138bdddb850664.setContent(html_bc7b9cf9f22cb756aac87284e8ecefbf);\n",
       "            \n",
       "        \n",
       "\n",
       "        marker_10ef0e89fff6cc27e66afce4515a189e.bindPopup(popup_e318f9a3d19ac0d204138bdddb850664)\n",
       "        ;\n",
       "\n",
       "        \n",
       "    \n",
       "    \n",
       "            var marker_857cf1a5ef1bca242ee1896316a988cd = L.marker(\n",
       "                [50.72263, 3.150377],\n",
       "                {}\n",
       "            ).addTo(map_6cfc0e4d35730cccc7872d39d9dc204b);\n",
       "        \n",
       "    \n",
       "        var popup_9e4e3d5dba2465798f906a67721d25ff = L.popup({&quot;maxWidth&quot;: &quot;100%&quot;});\n",
       "\n",
       "        \n",
       "            \n",
       "                var html_19b6f4532081911e5bcaa39b608f6975 = $(`&lt;div id=&quot;html_19b6f4532081911e5bcaa39b608f6975&quot; style=&quot;width: 100.0%; height: 100.0%;&quot;&gt;Nom de l&#x27;arrêt RUE DES POUTRAINS &lt;br&gt; Nombre de vélos disponibles 0 &lt;br&gt; Nombre de places disponibles 16&lt;/div&gt;`)[0];\n",
       "                popup_9e4e3d5dba2465798f906a67721d25ff.setContent(html_19b6f4532081911e5bcaa39b608f6975);\n",
       "            \n",
       "        \n",
       "\n",
       "        marker_857cf1a5ef1bca242ee1896316a988cd.bindPopup(popup_9e4e3d5dba2465798f906a67721d25ff)\n",
       "        ;\n",
       "\n",
       "        \n",
       "    \n",
       "    \n",
       "            var marker_69cf7469b94719245005c89e86b83174 = L.marker(\n",
       "                [50.72498, 3.150884],\n",
       "                {}\n",
       "            ).addTo(map_6cfc0e4d35730cccc7872d39d9dc204b);\n",
       "        \n",
       "    \n",
       "        var popup_170928320d946d74cd71e07e37e14cba = L.popup({&quot;maxWidth&quot;: &quot;100%&quot;});\n",
       "\n",
       "        \n",
       "            \n",
       "                var html_c50f1f36d9b9c15bac001dbe86d11026 = $(`&lt;div id=&quot;html_c50f1f36d9b9c15bac001dbe86d11026&quot; style=&quot;width: 100.0%; height: 100.0%;&quot;&gt;Nom de l&#x27;arrêt AVENUE MILLET &lt;br&gt; Nombre de vélos disponibles 4 &lt;br&gt; Nombre de places disponibles 8&lt;/div&gt;`)[0];\n",
       "                popup_170928320d946d74cd71e07e37e14cba.setContent(html_c50f1f36d9b9c15bac001dbe86d11026);\n",
       "            \n",
       "        \n",
       "\n",
       "        marker_69cf7469b94719245005c89e86b83174.bindPopup(popup_170928320d946d74cd71e07e37e14cba)\n",
       "        ;\n",
       "\n",
       "        \n",
       "    \n",
       "    \n",
       "            var marker_48fc53b44bf8a8203b5e1d26afe69abc = L.marker(\n",
       "                [50.71732, 3.162455],\n",
       "                {}\n",
       "            ).addTo(map_6cfc0e4d35730cccc7872d39d9dc204b);\n",
       "        \n",
       "    \n",
       "        var popup_d24dec53f39dd9cdc85359139df79efb = L.popup({&quot;maxWidth&quot;: &quot;100%&quot;});\n",
       "\n",
       "        \n",
       "            \n",
       "                var html_c0f3432d7592f3fbe65b1f3e1566c299 = $(`&lt;div id=&quot;html_c0f3432d7592f3fbe65b1f3e1566c299&quot; style=&quot;width: 100.0%; height: 100.0%;&quot;&gt;Nom de l&#x27;arrêt SEBASTOPOL &lt;br&gt; Nombre de vélos disponibles 1 &lt;br&gt; Nombre de places disponibles 17&lt;/div&gt;`)[0];\n",
       "                popup_d24dec53f39dd9cdc85359139df79efb.setContent(html_c0f3432d7592f3fbe65b1f3e1566c299);\n",
       "            \n",
       "        \n",
       "\n",
       "        marker_48fc53b44bf8a8203b5e1d26afe69abc.bindPopup(popup_d24dec53f39dd9cdc85359139df79efb)\n",
       "        ;\n",
       "\n",
       "        \n",
       "    \n",
       "    \n",
       "            var marker_acf96a569b996c9e2458749b252d6087 = L.marker(\n",
       "                [50.7134, 3.165011],\n",
       "                {}\n",
       "            ).addTo(map_6cfc0e4d35730cccc7872d39d9dc204b);\n",
       "        \n",
       "    \n",
       "        var popup_3531f00ee4a2db87b05cda7f12d25adf = L.popup({&quot;maxWidth&quot;: &quot;100%&quot;});\n",
       "\n",
       "        \n",
       "            \n",
       "                var html_8c2410a63a2770ed69b1993c75254806 = $(`&lt;div id=&quot;html_8c2410a63a2770ed69b1993c75254806&quot; style=&quot;width: 100.0%; height: 100.0%;&quot;&gt;Nom de l&#x27;arrêt RUE DE ROUBAIX &lt;br&gt; Nombre de vélos disponibles 0 &lt;br&gt; Nombre de places disponibles 12&lt;/div&gt;`)[0];\n",
       "                popup_3531f00ee4a2db87b05cda7f12d25adf.setContent(html_8c2410a63a2770ed69b1993c75254806);\n",
       "            \n",
       "        \n",
       "\n",
       "        marker_acf96a569b996c9e2458749b252d6087.bindPopup(popup_3531f00ee4a2db87b05cda7f12d25adf)\n",
       "        ;\n",
       "\n",
       "        \n",
       "    \n",
       "    \n",
       "            var marker_8d9bf63105180ac0a0bd04f7170ab718 = L.marker(\n",
       "                [50.73682, 3.1712308],\n",
       "                {}\n",
       "            ).addTo(map_6cfc0e4d35730cccc7872d39d9dc204b);\n",
       "        \n",
       "    \n",
       "        var popup_58ec8478ecd7420c0775a60fe39cc438 = L.popup({&quot;maxWidth&quot;: &quot;100%&quot;});\n",
       "\n",
       "        \n",
       "            \n",
       "                var html_4ccac9b25ce5b9ef41f54d6866a0c321 = $(`&lt;div id=&quot;html_4ccac9b25ce5b9ef41f54d6866a0c321&quot; style=&quot;width: 100.0%; height: 100.0%;&quot;&gt;Nom de l&#x27;arrêt PONT DE NEUVILLE &lt;br&gt; Nombre de vélos disponibles 4 &lt;br&gt; Nombre de places disponibles 12&lt;/div&gt;`)[0];\n",
       "                popup_58ec8478ecd7420c0775a60fe39cc438.setContent(html_4ccac9b25ce5b9ef41f54d6866a0c321);\n",
       "            \n",
       "        \n",
       "\n",
       "        marker_8d9bf63105180ac0a0bd04f7170ab718.bindPopup(popup_58ec8478ecd7420c0775a60fe39cc438)\n",
       "        ;\n",
       "\n",
       "        \n",
       "    \n",
       "    \n",
       "            var marker_d0917a7593ac38998d0fcd449cf901fb = L.marker(\n",
       "                [50.71473, 3.157369],\n",
       "                {}\n",
       "            ).addTo(map_6cfc0e4d35730cccc7872d39d9dc204b);\n",
       "        \n",
       "    \n",
       "        var popup_7574b6742bd2d9ba72a644820c29614c = L.popup({&quot;maxWidth&quot;: &quot;100%&quot;});\n",
       "\n",
       "        \n",
       "            \n",
       "                var html_a35cab8577715fe106b6cce91c64fbd8 = $(`&lt;div id=&quot;html_a35cab8577715fe106b6cce91c64fbd8&quot; style=&quot;width: 100.0%; height: 100.0%;&quot;&gt;Nom de l&#x27;arrêt CHARLES WATTINNE &lt;br&gt; Nombre de vélos disponibles 4 &lt;br&gt; Nombre de places disponibles 12&lt;/div&gt;`)[0];\n",
       "                popup_7574b6742bd2d9ba72a644820c29614c.setContent(html_a35cab8577715fe106b6cce91c64fbd8);\n",
       "            \n",
       "        \n",
       "\n",
       "        marker_d0917a7593ac38998d0fcd449cf901fb.bindPopup(popup_7574b6742bd2d9ba72a644820c29614c)\n",
       "        ;\n",
       "\n",
       "        \n",
       "    \n",
       "    \n",
       "            var marker_ab50e364306b9b04d357d599ff6298aa = L.marker(\n",
       "                [50.710735, 3.159881],\n",
       "                {}\n",
       "            ).addTo(map_6cfc0e4d35730cccc7872d39d9dc204b);\n",
       "        \n",
       "    \n",
       "        var popup_7ed5637280334f0575d2bed88e92112b = L.popup({&quot;maxWidth&quot;: &quot;100%&quot;});\n",
       "\n",
       "        \n",
       "            \n",
       "                var html_2d7fa4cbb80440b914bc2a656fef8d54 = $(`&lt;div id=&quot;html_2d7fa4cbb80440b914bc2a656fef8d54&quot; style=&quot;width: 100.0%; height: 100.0%;&quot;&gt;Nom de l&#x27;arrêt CARLIERS &lt;br&gt; Nombre de vélos disponibles 5 &lt;br&gt; Nombre de places disponibles 7&lt;/div&gt;`)[0];\n",
       "                popup_7ed5637280334f0575d2bed88e92112b.setContent(html_2d7fa4cbb80440b914bc2a656fef8d54);\n",
       "            \n",
       "        \n",
       "\n",
       "        marker_ab50e364306b9b04d357d599ff6298aa.bindPopup(popup_7ed5637280334f0575d2bed88e92112b)\n",
       "        ;\n",
       "\n",
       "        \n",
       "    \n",
       "    \n",
       "            var marker_7544c8c5da7ef34037b0218175083160 = L.marker(\n",
       "                [50.704693, 3.160515],\n",
       "                {}\n",
       "            ).addTo(map_6cfc0e4d35730cccc7872d39d9dc204b);\n",
       "        \n",
       "    \n",
       "        var popup_1bd0225a3fce30346d10530084dadecc = L.popup({&quot;maxWidth&quot;: &quot;100%&quot;});\n",
       "\n",
       "        \n",
       "            \n",
       "                var html_0d7a9598df819ee80ba9616f5704bf15 = $(`&lt;div id=&quot;html_0d7a9598df819ee80ba9616f5704bf15&quot; style=&quot;width: 100.0%; height: 100.0%;&quot;&gt;Nom de l&#x27;arrêt MERCURE &lt;br&gt; Nombre de vélos disponibles 1 &lt;br&gt; Nombre de places disponibles 17&lt;/div&gt;`)[0];\n",
       "                popup_1bd0225a3fce30346d10530084dadecc.setContent(html_0d7a9598df819ee80ba9616f5704bf15);\n",
       "            \n",
       "        \n",
       "\n",
       "        marker_7544c8c5da7ef34037b0218175083160.bindPopup(popup_1bd0225a3fce30346d10530084dadecc)\n",
       "        ;\n",
       "\n",
       "        \n",
       "    \n",
       "    \n",
       "            var marker_e56e0499fa9422609b73b2b8cc524c6a = L.marker(\n",
       "                [50.721308, 3.158104],\n",
       "                {}\n",
       "            ).addTo(map_6cfc0e4d35730cccc7872d39d9dc204b);\n",
       "        \n",
       "    \n",
       "        var popup_c7073e816007657cf19f1a0cb105d71c = L.popup({&quot;maxWidth&quot;: &quot;100%&quot;});\n",
       "\n",
       "        \n",
       "            \n",
       "                var html_5c8a8469d626ee6b15a01defb763a542 = $(`&lt;div id=&quot;html_5c8a8469d626ee6b15a01defb763a542&quot; style=&quot;width: 100.0%; height: 100.0%;&quot;&gt;Nom de l&#x27;arrêt PLACE ROUSSEL &lt;br&gt; Nombre de vélos disponibles 3 &lt;br&gt; Nombre de places disponibles 17&lt;/div&gt;`)[0];\n",
       "                popup_c7073e816007657cf19f1a0cb105d71c.setContent(html_5c8a8469d626ee6b15a01defb763a542);\n",
       "            \n",
       "        \n",
       "\n",
       "        marker_e56e0499fa9422609b73b2b8cc524c6a.bindPopup(popup_c7073e816007657cf19f1a0cb105d71c)\n",
       "        ;\n",
       "\n",
       "        \n",
       "    \n",
       "    \n",
       "            var marker_bf8474da5baed035c930ac4c0843dc92 = L.marker(\n",
       "                [50.732406, 3.157764],\n",
       "                {}\n",
       "            ).addTo(map_6cfc0e4d35730cccc7872d39d9dc204b);\n",
       "        \n",
       "    \n",
       "        var popup_a61632a6691adaeeaf905c55509e5139 = L.popup({&quot;maxWidth&quot;: &quot;100%&quot;});\n",
       "\n",
       "        \n",
       "            \n",
       "                var html_43fc2c44525ef2e19a016e9143044715 = $(`&lt;div id=&quot;html_43fc2c44525ef2e19a016e9143044715&quot; style=&quot;width: 100.0%; height: 100.0%;&quot;&gt;Nom de l&#x27;arrêt PHALEMPINS &lt;br&gt; Nombre de vélos disponibles 7 &lt;br&gt; Nombre de places disponibles 7&lt;/div&gt;`)[0];\n",
       "                popup_a61632a6691adaeeaf905c55509e5139.setContent(html_43fc2c44525ef2e19a016e9143044715);\n",
       "            \n",
       "        \n",
       "\n",
       "        marker_bf8474da5baed035c930ac4c0843dc92.bindPopup(popup_a61632a6691adaeeaf905c55509e5139)\n",
       "        ;\n",
       "\n",
       "        \n",
       "    \n",
       "    \n",
       "            var marker_c371b409393ffa5a582ce223f7d941fc = L.marker(\n",
       "                [50.665946, 3.198101],\n",
       "                {}\n",
       "            ).addTo(map_6cfc0e4d35730cccc7872d39d9dc204b);\n",
       "        \n",
       "    \n",
       "        var popup_6ba2bb95ed2eec0fbb337b0588637a69 = L.popup({&quot;maxWidth&quot;: &quot;100%&quot;});\n",
       "\n",
       "        \n",
       "            \n",
       "                var html_9155a5520bb1fd46373f1554c71cd912 = $(`&lt;div id=&quot;html_9155a5520bb1fd46373f1554c71cd912&quot; style=&quot;width: 100.0%; height: 100.0%;&quot;&gt;Nom de l&#x27;arrêt LAËNNEC &lt;br&gt; Nombre de vélos disponibles 1 &lt;br&gt; Nombre de places disponibles 3&lt;/div&gt;`)[0];\n",
       "                popup_6ba2bb95ed2eec0fbb337b0588637a69.setContent(html_9155a5520bb1fd46373f1554c71cd912);\n",
       "            \n",
       "        \n",
       "\n",
       "        marker_c371b409393ffa5a582ce223f7d941fc.bindPopup(popup_6ba2bb95ed2eec0fbb337b0588637a69)\n",
       "        ;\n",
       "\n",
       "        \n",
       "    \n",
       "    \n",
       "            var marker_cf7ba7a0bc9ea570ab926f9185db2327 = L.marker(\n",
       "                [50.67756, 3.14019],\n",
       "                {}\n",
       "            ).addTo(map_6cfc0e4d35730cccc7872d39d9dc204b);\n",
       "        \n",
       "    \n",
       "        var popup_dc323a807e4a9dbd4284e5479f59fef1 = L.popup({&quot;maxWidth&quot;: &quot;100%&quot;});\n",
       "\n",
       "        \n",
       "            \n",
       "                var html_e39ef65c99d1a3a9e917359f70d9ac47 = $(`&lt;div id=&quot;html_e39ef65c99d1a3a9e917359f70d9ac47&quot; style=&quot;width: 100.0%; height: 100.0%;&quot;&gt;Nom de l&#x27;arrêt GEORGES HANNART &lt;br&gt; Nombre de vélos disponibles 7 &lt;br&gt; Nombre de places disponibles 13&lt;/div&gt;`)[0];\n",
       "                popup_dc323a807e4a9dbd4284e5479f59fef1.setContent(html_e39ef65c99d1a3a9e917359f70d9ac47);\n",
       "            \n",
       "        \n",
       "\n",
       "        marker_cf7ba7a0bc9ea570ab926f9185db2327.bindPopup(popup_dc323a807e4a9dbd4284e5479f59fef1)\n",
       "        ;\n",
       "\n",
       "        \n",
       "    \n",
       "    \n",
       "            var marker_f2c707a7e541da53ef9f7b1e2de2beda = L.marker(\n",
       "                [50.6151322, 3.0863797],\n",
       "                {}\n",
       "            ).addTo(map_6cfc0e4d35730cccc7872d39d9dc204b);\n",
       "        \n",
       "    \n",
       "        var popup_4e4b4af7c95101a100df459d3f55538a = L.popup({&quot;maxWidth&quot;: &quot;100%&quot;});\n",
       "\n",
       "        \n",
       "            \n",
       "                var html_24260183c17cd4aa9c35eea8890766c1 = $(`&lt;div id=&quot;html_24260183c17cd4aa9c35eea8890766c1&quot; style=&quot;width: 100.0%; height: 100.0%;&quot;&gt;Nom de l&#x27;arrêt TEST CYKLEO LILLE &lt;br&gt; Nombre de vélos disponibles 0 &lt;br&gt; Nombre de places disponibles 1&lt;/div&gt;`)[0];\n",
       "                popup_4e4b4af7c95101a100df459d3f55538a.setContent(html_24260183c17cd4aa9c35eea8890766c1);\n",
       "            \n",
       "        \n",
       "\n",
       "        marker_f2c707a7e541da53ef9f7b1e2de2beda.bindPopup(popup_4e4b4af7c95101a100df459d3f55538a)\n",
       "        ;\n",
       "\n",
       "        \n",
       "    \n",
       "    \n",
       "            var marker_16c7f32a8d972bdf55213f412166996d = L.marker(\n",
       "                [50.64466, 3.03027],\n",
       "                {}\n",
       "            ).addTo(map_6cfc0e4d35730cccc7872d39d9dc204b);\n",
       "        \n",
       "    \n",
       "        var popup_61fbcb4f7098b268fa60c910c30b6cf2 = L.popup({&quot;maxWidth&quot;: &quot;100%&quot;});\n",
       "\n",
       "        \n",
       "            \n",
       "                var html_18e5998c85bf41bcb8046d87f8f6d0bb = $(`&lt;div id=&quot;html_18e5998c85bf41bcb8046d87f8f6d0bb&quot; style=&quot;width: 100.0%; height: 100.0%;&quot;&gt;Nom de l&#x27;arrêt ROUSSEAU &lt;br&gt; Nombre de vélos disponibles 17 &lt;br&gt; Nombre de places disponibles 3&lt;/div&gt;`)[0];\n",
       "                popup_61fbcb4f7098b268fa60c910c30b6cf2.setContent(html_18e5998c85bf41bcb8046d87f8f6d0bb);\n",
       "            \n",
       "        \n",
       "\n",
       "        marker_16c7f32a8d972bdf55213f412166996d.bindPopup(popup_61fbcb4f7098b268fa60c910c30b6cf2)\n",
       "        ;\n",
       "\n",
       "        \n",
       "    \n",
       "    \n",
       "            var marker_59e44b95c7c3b61389d95bb4c5d24bf9 = L.marker(\n",
       "                [50.65281, 3.02604],\n",
       "                {}\n",
       "            ).addTo(map_6cfc0e4d35730cccc7872d39d9dc204b);\n",
       "        \n",
       "    \n",
       "        var popup_a4716a83def8ac806fe9533210652e03 = L.popup({&quot;maxWidth&quot;: &quot;100%&quot;});\n",
       "\n",
       "        \n",
       "            \n",
       "                var html_3cf9fc8e1ae496c8571d10a95459c24c = $(`&lt;div id=&quot;html_3cf9fc8e1ae496c8571d10a95459c24c&quot; style=&quot;width: 100.0%; height: 100.0%;&quot;&gt;Nom de l&#x27;arrêt SAINT CALIXTE &lt;br&gt; Nombre de vélos disponibles 20 &lt;br&gt; Nombre de places disponibles 0&lt;/div&gt;`)[0];\n",
       "                popup_a4716a83def8ac806fe9533210652e03.setContent(html_3cf9fc8e1ae496c8571d10a95459c24c);\n",
       "            \n",
       "        \n",
       "\n",
       "        marker_59e44b95c7c3b61389d95bb4c5d24bf9.bindPopup(popup_a4716a83def8ac806fe9533210652e03)\n",
       "        ;\n",
       "\n",
       "        \n",
       "    \n",
       "    \n",
       "            var marker_4ffdb4ffebb452303817bd8c71e3b163 = L.marker(\n",
       "                [50.603145, 3.069127],\n",
       "                {}\n",
       "            ).addTo(map_6cfc0e4d35730cccc7872d39d9dc204b);\n",
       "        \n",
       "    \n",
       "        var popup_1f7f00db75dd775b87f9e3094fb54027 = L.popup({&quot;maxWidth&quot;: &quot;100%&quot;});\n",
       "\n",
       "        \n",
       "            \n",
       "                var html_dd4842ec4896b2e8abef2da5d7d3e8c8 = $(`&lt;div id=&quot;html_dd4842ec4896b2e8abef2da5d7d3e8c8&quot; style=&quot;width: 100.0%; height: 100.0%;&quot;&gt;Nom de l&#x27;arrêt FACHES THUMESNIL MAIRIE &lt;br&gt; Nombre de vélos disponibles 20 &lt;br&gt; Nombre de places disponibles 0&lt;/div&gt;`)[0];\n",
       "                popup_1f7f00db75dd775b87f9e3094fb54027.setContent(html_dd4842ec4896b2e8abef2da5d7d3e8c8);\n",
       "            \n",
       "        \n",
       "\n",
       "        marker_4ffdb4ffebb452303817bd8c71e3b163.bindPopup(popup_1f7f00db75dd775b87f9e3094fb54027)\n",
       "        ;\n",
       "\n",
       "        \n",
       "    \n",
       "    \n",
       "            var marker_27c6f1d76a578ec4b30f49a00822efd2 = L.marker(\n",
       "                [50.60709, 3.06558],\n",
       "                {}\n",
       "            ).addTo(map_6cfc0e4d35730cccc7872d39d9dc204b);\n",
       "        \n",
       "    \n",
       "        var popup_ab124193f27c76e72ac351f26b30c905 = L.popup({&quot;maxWidth&quot;: &quot;100%&quot;});\n",
       "\n",
       "        \n",
       "            \n",
       "                var html_ef028873e186f8e9ebc29c6bd74657c8 = $(`&lt;div id=&quot;html_ef028873e186f8e9ebc29c6bd74657c8&quot; style=&quot;width: 100.0%; height: 100.0%;&quot;&gt;Nom de l&#x27;arrêt RÉSISTANCE &lt;br&gt; Nombre de vélos disponibles 12 &lt;br&gt; Nombre de places disponibles 8&lt;/div&gt;`)[0];\n",
       "                popup_ab124193f27c76e72ac351f26b30c905.setContent(html_ef028873e186f8e9ebc29c6bd74657c8);\n",
       "            \n",
       "        \n",
       "\n",
       "        marker_27c6f1d76a578ec4b30f49a00822efd2.bindPopup(popup_ab124193f27c76e72ac351f26b30c905)\n",
       "        ;\n",
       "\n",
       "        \n",
       "    \n",
       "    \n",
       "            var marker_1a00cf2cf2d30c337750dd88214359e3 = L.marker(\n",
       "                [50.66351, 3.138682],\n",
       "                {}\n",
       "            ).addTo(map_6cfc0e4d35730cccc7872d39d9dc204b);\n",
       "        \n",
       "    \n",
       "        var popup_e83d5a35595a2657894f733f838c2f5f = L.popup({&quot;maxWidth&quot;: &quot;100%&quot;});\n",
       "\n",
       "        \n",
       "            \n",
       "                var html_c73563d972e8b4c0c3d688d30465fcb2 = $(`&lt;div id=&quot;html_c73563d972e8b4c0c3d688d30465fcb2&quot; style=&quot;width: 100.0%; height: 100.0%;&quot;&gt;Nom de l&#x27;arrêt LE SART &lt;br&gt; Nombre de vélos disponibles 3 &lt;br&gt; Nombre de places disponibles 17&lt;/div&gt;`)[0];\n",
       "                popup_e83d5a35595a2657894f733f838c2f5f.setContent(html_c73563d972e8b4c0c3d688d30465fcb2);\n",
       "            \n",
       "        \n",
       "\n",
       "        marker_1a00cf2cf2d30c337750dd88214359e3.bindPopup(popup_e83d5a35595a2657894f733f838c2f5f)\n",
       "        ;\n",
       "\n",
       "        \n",
       "    \n",
       "    \n",
       "            var marker_19fac825f089fe3217b4a98363af57e3 = L.marker(\n",
       "                [50.669719, 3.143504],\n",
       "                {}\n",
       "            ).addTo(map_6cfc0e4d35730cccc7872d39d9dc204b);\n",
       "        \n",
       "    \n",
       "        var popup_1ab334e6a918847853df7f7861c94c88 = L.popup({&quot;maxWidth&quot;: &quot;100%&quot;});\n",
       "\n",
       "        \n",
       "            \n",
       "                var html_5db39f5588d14ebe847d7b808637bd2d = $(`&lt;div id=&quot;html_5db39f5588d14ebe847d7b808637bd2d&quot; style=&quot;width: 100.0%; height: 100.0%;&quot;&gt;Nom de l&#x27;arrêt LA MAILLERIE &lt;br&gt; Nombre de vélos disponibles 12 &lt;br&gt; Nombre de places disponibles 8&lt;/div&gt;`)[0];\n",
       "                popup_1ab334e6a918847853df7f7861c94c88.setContent(html_5db39f5588d14ebe847d7b808637bd2d);\n",
       "            \n",
       "        \n",
       "\n",
       "        marker_19fac825f089fe3217b4a98363af57e3.bindPopup(popup_1ab334e6a918847853df7f7861c94c88)\n",
       "        ;\n",
       "\n",
       "        \n",
       "    \n",
       "    \n",
       "            var marker_0224cf9e0f3a3791683b4b625ac7ac21 = L.marker(\n",
       "                [50.610949, 2.983879],\n",
       "                {}\n",
       "            ).addTo(map_6cfc0e4d35730cccc7872d39d9dc204b);\n",
       "        \n",
       "    \n",
       "        var popup_8a0f7df1329943c171f1fc7c638f7ee5 = L.popup({&quot;maxWidth&quot;: &quot;100%&quot;});\n",
       "\n",
       "        \n",
       "            \n",
       "                var html_42a4eb3da97db389f8f5c01bd204a9f5 = $(`&lt;div id=&quot;html_42a4eb3da97db389f8f5c01bd204a9f5&quot; style=&quot;width: 100.0%; height: 100.0%;&quot;&gt;Nom de l&#x27;arrêt HAUBOURDIN MAIRIE &lt;br&gt; Nombre de vélos disponibles 12 &lt;br&gt; Nombre de places disponibles 12&lt;/div&gt;`)[0];\n",
       "                popup_8a0f7df1329943c171f1fc7c638f7ee5.setContent(html_42a4eb3da97db389f8f5c01bd204a9f5);\n",
       "            \n",
       "        \n",
       "\n",
       "        marker_0224cf9e0f3a3791683b4b625ac7ac21.bindPopup(popup_8a0f7df1329943c171f1fc7c638f7ee5)\n",
       "        ;\n",
       "\n",
       "        \n",
       "    \n",
       "    \n",
       "            var marker_66c58c375c063020c60497ffdb19aa9f = L.marker(\n",
       "                [50.676607, 3.065308],\n",
       "                {}\n",
       "            ).addTo(map_6cfc0e4d35730cccc7872d39d9dc204b);\n",
       "        \n",
       "    \n",
       "        var popup_16913439939d5280ec24200c307e9748 = L.popup({&quot;maxWidth&quot;: &quot;100%&quot;});\n",
       "\n",
       "        \n",
       "            \n",
       "                var html_e50104462117254cbdcdd4ff67423231 = $(`&lt;div id=&quot;html_e50104462117254cbdcdd4ff67423231&quot; style=&quot;width: 100.0%; height: 100.0%;&quot;&gt;Nom de l&#x27;arrêt MARQUETTE MAIRIE &lt;br&gt; Nombre de vélos disponibles 8 &lt;br&gt; Nombre de places disponibles 12&lt;/div&gt;`)[0];\n",
       "                popup_16913439939d5280ec24200c307e9748.setContent(html_e50104462117254cbdcdd4ff67423231);\n",
       "            \n",
       "        \n",
       "\n",
       "        marker_66c58c375c063020c60497ffdb19aa9f.bindPopup(popup_16913439939d5280ec24200c307e9748)\n",
       "        ;\n",
       "\n",
       "        \n",
       "    \n",
       "    \n",
       "            var marker_a0f311e816d0faccd465f2d5acdf7507 = L.marker(\n",
       "                [50.671436, 3.055025],\n",
       "                {}\n",
       "            ).addTo(map_6cfc0e4d35730cccc7872d39d9dc204b);\n",
       "        \n",
       "    \n",
       "        var popup_a23cd4ec7cb78a02d7a140847facbf2b = L.popup({&quot;maxWidth&quot;: &quot;100%&quot;});\n",
       "\n",
       "        \n",
       "            \n",
       "                var html_856531dee1842a2c0331c8d11427b80f = $(`&lt;div id=&quot;html_856531dee1842a2c0331c8d11427b80f&quot; style=&quot;width: 100.0%; height: 100.0%;&quot;&gt;Nom de l&#x27;arrêt GRANDS MOULINS DE PARIS &lt;br&gt; Nombre de vélos disponibles 10 &lt;br&gt; Nombre de places disponibles 10&lt;/div&gt;`)[0];\n",
       "                popup_a23cd4ec7cb78a02d7a140847facbf2b.setContent(html_856531dee1842a2c0331c8d11427b80f);\n",
       "            \n",
       "        \n",
       "\n",
       "        marker_a0f311e816d0faccd465f2d5acdf7507.bindPopup(popup_a23cd4ec7cb78a02d7a140847facbf2b)\n",
       "        ;\n",
       "\n",
       "        \n",
       "    \n",
       "&lt;/script&gt;\n",
       "&lt;/html&gt;\" style=\"position:absolute;width:100%;height:100%;left:0;top:0;border:none !important;\" allowfullscreen webkitallowfullscreen mozallowfullscreen></iframe></div></div>"
      ],
      "text/plain": [
       "<folium.folium.Map at 0x17169ef3bc0>"
      ]
     },
     "metadata": {},
     "output_type": "display_data"
    }
   ],
   "source": [
    "#Position [latitude, longitude] sur laquelle est centrée la carte\n",
    "location = [50.641926, 3.075992]\n",
    "\n",
    "#Niveau de zoom initial : \n",
    "#3-4 pour un continent, 5-6 pour un pays, 11-12 pour une ville\n",
    "zoom = 12\n",
    "\n",
    "#Style de la carte\n",
    "tiles = 'cartodbpositron'\n",
    "\n",
    "Carte = folium.Map(location = location,\n",
    "                   zoom_start = zoom,\n",
    "                   tiles = tiles)\n",
    "#Création du marqueur\n",
    "for i in range(len(df)):\n",
    "    point1 = [df['geometry.coordinates'][i][1], df['geometry.coordinates'][i][0]]\n",
    "    text = f\"Nom de l'arrêt {df['properties.nom'][i]} <br> Nombre de vélos disponibles {df['properties.nb_velos_dispo'][i]} <br> Nombre de places disponibles {df['properties.nb_places_dispo'][i]}\"\n",
    "    marqueur = folium.Marker(location = point1,\n",
    "                        popup = text)\n",
    "    #Ajout à la carte\n",
    "    marqueur.add_to(Carte)\n",
    "\n",
    "display(Carte)\n"
   ]
  },
  {
   "cell_type": "code",
   "execution_count": 19,
   "metadata": {},
   "outputs": [
    {
     "data": {
      "application/vnd.plotly.v1+json": {
       "config": {
        "plotlyServerURL": "https://plot.ly"
       },
       "data": [
        {
         "customdata": [
          [
           0,
           0
          ]
         ],
         "hovertemplate": "properties.nom=METROPOLE EUROPEENNE DE LILLE<br>properties.y=%{lat}<br>properties.x=%{lon}<br>properties.nb_places_dispo=%{customdata[0]}<br>properties.nb_velos_dispo=%{customdata[1]}<extra></extra>",
         "lat": [
          50.641926
         ],
         "legendgroup": "METROPOLE EUROPEENNE DE LILLE",
         "lon": [
          3.075992
         ],
         "marker": {
          "color": "#636efa"
         },
         "mode": "markers",
         "name": "METROPOLE EUROPEENNE DE LILLE",
         "showlegend": true,
         "subplot": "mapbox",
         "type": "scattermapbox"
        },
        {
         "customdata": [
          [
           0,
           0
          ]
         ],
         "hovertemplate": "properties.nom=VERDUN<br>properties.y=%{lat}<br>properties.x=%{lon}<br>properties.nb_places_dispo=%{customdata[0]}<br>properties.nb_velos_dispo=%{customdata[1]}<extra></extra>",
         "lat": [
          50.638126
         ],
         "legendgroup": "VERDUN",
         "lon": [
          3.10231
         ],
         "marker": {
          "color": "#EF553B"
         },
         "mode": "markers",
         "name": "VERDUN",
         "showlegend": true,
         "subplot": "mapbox",
         "type": "scattermapbox"
        },
        {
         "customdata": [
          [
           0,
           0
          ]
         ],
         "hovertemplate": "properties.nom=CONCORDE<br>properties.y=%{lat}<br>properties.x=%{lon}<br>properties.nb_places_dispo=%{customdata[0]}<br>properties.nb_velos_dispo=%{customdata[1]}<extra></extra>",
         "lat": [
          50.638123
         ],
         "legendgroup": "CONCORDE",
         "lon": [
          3.112704
         ],
         "marker": {
          "color": "#00cc96"
         },
         "mode": "markers",
         "name": "CONCORDE",
         "showlegend": true,
         "subplot": "mapbox",
         "type": "scattermapbox"
        },
        {
         "customdata": [
          [
           0,
           0
          ]
         ],
         "hovertemplate": "properties.nom=SQUARE DU PORTUGAL<br>properties.y=%{lat}<br>properties.x=%{lon}<br>properties.nb_places_dispo=%{customdata[0]}<br>properties.nb_velos_dispo=%{customdata[1]}<extra></extra>",
         "lat": [
          50.623466
         ],
         "legendgroup": "SQUARE DU PORTUGAL",
         "lon": [
          3.030667
         ],
         "marker": {
          "color": "#ab63fa"
         },
         "mode": "markers",
         "name": "SQUARE DU PORTUGAL",
         "showlegend": true,
         "subplot": "mapbox",
         "type": "scattermapbox"
        },
        {
         "customdata": [
          [
           0,
           0
          ]
         ],
         "hovertemplate": "properties.nom=SQUARE CHARLES DE GAULLE<br>properties.y=%{lat}<br>properties.x=%{lon}<br>properties.nb_places_dispo=%{customdata[0]}<br>properties.nb_velos_dispo=%{customdata[1]}<extra></extra>",
         "lat": [
          50.626846
         ],
         "legendgroup": "SQUARE CHARLES DE GAULLE",
         "lon": [
          3.115101
         ],
         "marker": {
          "color": "#FFA15A"
         },
         "mode": "markers",
         "name": "SQUARE CHARLES DE GAULLE",
         "showlegend": true,
         "subplot": "mapbox",
         "type": "scattermapbox"
        },
        {
         "customdata": [
          [
           0,
           0
          ]
         ],
         "hovertemplate": "properties.nom=COLLEGE LAVOISIER<br>properties.y=%{lat}<br>properties.x=%{lon}<br>properties.nb_places_dispo=%{customdata[0]}<br>properties.nb_velos_dispo=%{customdata[1]}<extra></extra>",
         "lat": [
          50.641834
         ],
         "legendgroup": "COLLEGE LAVOISIER",
         "lon": [
          3.022364
         ],
         "marker": {
          "color": "#19d3f3"
         },
         "mode": "markers",
         "name": "COLLEGE LAVOISIER",
         "showlegend": true,
         "subplot": "mapbox",
         "type": "scattermapbox"
        },
        {
         "customdata": [
          [
           3,
           0
          ]
         ],
         "hovertemplate": "properties.nom=LE POLYEDRE<br>properties.y=%{lat}<br>properties.x=%{lon}<br>properties.nb_places_dispo=%{customdata[0]}<br>properties.nb_velos_dispo=%{customdata[1]}<extra></extra>",
         "lat": [
          50.64057
         ],
         "legendgroup": "LE POLYEDRE",
         "lon": [
          3.115571
         ],
         "marker": {
          "color": "#FF6692"
         },
         "mode": "markers",
         "name": "LE POLYEDRE",
         "showlegend": true,
         "subplot": "mapbox",
         "type": "scattermapbox"
        },
        {
         "customdata": [
          [
           0,
           0
          ]
         ],
         "hovertemplate": "properties.nom=FLERS MAIRIE<br>properties.y=%{lat}<br>properties.x=%{lon}<br>properties.nb_places_dispo=%{customdata[0]}<br>properties.nb_velos_dispo=%{customdata[1]}<extra></extra>",
         "lat": [
          50.63708
         ],
         "legendgroup": "FLERS MAIRIE",
         "lon": [
          3.127964
         ],
         "marker": {
          "color": "#B6E880"
         },
         "mode": "markers",
         "name": "FLERS MAIRIE",
         "showlegend": true,
         "subplot": "mapbox",
         "type": "scattermapbox"
        },
        {
         "customdata": [
          [
           1,
           0
          ]
         ],
         "hovertemplate": "properties.nom=RUE LOUISE MICHEL<br>properties.y=%{lat}<br>properties.x=%{lon}<br>properties.nb_places_dispo=%{customdata[0]}<br>properties.nb_velos_dispo=%{customdata[1]}<extra></extra>",
         "lat": [
          50.633842
         ],
         "legendgroup": "RUE LOUISE MICHEL",
         "lon": [
          3.127335
         ],
         "marker": {
          "color": "#FF97FF"
         },
         "mode": "markers",
         "name": "RUE LOUISE MICHEL",
         "showlegend": true,
         "subplot": "mapbox",
         "type": "scattermapbox"
        },
        {
         "customdata": [
          [
           0,
           0
          ]
         ],
         "hovertemplate": "properties.nom=FLERS CHATEAU<br>properties.y=%{lat}<br>properties.x=%{lon}<br>properties.nb_places_dispo=%{customdata[0]}<br>properties.nb_velos_dispo=%{customdata[1]}<extra></extra>",
         "lat": [
          50.63608
         ],
         "legendgroup": "FLERS CHATEAU",
         "lon": [
          3.130853
         ],
         "marker": {
          "color": "#FECB52"
         },
         "mode": "markers",
         "name": "FLERS CHATEAU",
         "showlegend": true,
         "subplot": "mapbox",
         "type": "scattermapbox"
        },
        {
         "customdata": [
          [
           0,
           0
          ]
         ],
         "hovertemplate": "properties.nom=RUE DES VICTOIRES<br>properties.y=%{lat}<br>properties.x=%{lon}<br>properties.nb_places_dispo=%{customdata[0]}<br>properties.nb_velos_dispo=%{customdata[1]}<extra></extra>",
         "lat": [
          50.6221
         ],
         "legendgroup": "RUE DES VICTOIRES",
         "lon": [
          3.131706
         ],
         "marker": {
          "color": "#636efa"
         },
         "mode": "markers",
         "name": "RUE DES VICTOIRES",
         "showlegend": true,
         "subplot": "mapbox",
         "type": "scattermapbox"
        },
        {
         "customdata": [
          [
           1,
           0
          ]
         ],
         "hovertemplate": "properties.nom=ROND POINT DE TOURNAI<br>properties.y=%{lat}<br>properties.x=%{lon}<br>properties.nb_places_dispo=%{customdata[0]}<br>properties.nb_velos_dispo=%{customdata[1]}<extra></extra>",
         "lat": [
          50.61776
         ],
         "legendgroup": "ROND POINT DE TOURNAI",
         "lon": [
          3.146026
         ],
         "marker": {
          "color": "#EF553B"
         },
         "mode": "markers",
         "name": "ROND POINT DE TOURNAI",
         "showlegend": true,
         "subplot": "mapbox",
         "type": "scattermapbox"
        },
        {
         "customdata": [
          [
           1,
           0
          ]
         ],
         "hovertemplate": "properties.nom=RESIDENCE<br>properties.y=%{lat}<br>properties.x=%{lon}<br>properties.nb_places_dispo=%{customdata[0]}<br>properties.nb_velos_dispo=%{customdata[1]}<extra></extra>",
         "lat": [
          50.61992
         ],
         "legendgroup": "RESIDENCE",
         "lon": [
          3.14528
         ],
         "marker": {
          "color": "#00cc96"
         },
         "mode": "markers",
         "name": "RESIDENCE",
         "showlegend": true,
         "subplot": "mapbox",
         "type": "scattermapbox"
        },
        {
         "customdata": [
          [
           0,
           0
          ]
         ],
         "hovertemplate": "properties.nom=TROIS PONTS<br>properties.y=%{lat}<br>properties.x=%{lon}<br>properties.nb_places_dispo=%{customdata[0]}<br>properties.nb_velos_dispo=%{customdata[1]}<extra></extra>",
         "lat": [
          50.684593
         ],
         "legendgroup": "TROIS PONTS",
         "lon": [
          3.200799
         ],
         "marker": {
          "color": "#ab63fa"
         },
         "mode": "markers",
         "name": "TROIS PONTS",
         "showlegend": true,
         "subplot": "mapbox",
         "type": "scattermapbox"
        },
        {
         "customdata": [
          [
           24,
           0
          ]
         ],
         "hovertemplate": "properties.nom=PLACE SPRIET<br>properties.y=%{lat}<br>properties.x=%{lon}<br>properties.nb_places_dispo=%{customdata[0]}<br>properties.nb_velos_dispo=%{customdata[1]}<extra></extra>",
         "lat": [
          50.67392
         ],
         "legendgroup": "PLACE SPRIET",
         "lon": [
          3.18514
         ],
         "marker": {
          "color": "#FFA15A"
         },
         "mode": "markers",
         "name": "PLACE SPRIET",
         "showlegend": true,
         "subplot": "mapbox",
         "type": "scattermapbox"
        },
        {
         "customdata": [
          [
           12,
           0
          ]
         ],
         "hovertemplate": "properties.nom=LES GOBELINS<br>properties.y=%{lat}<br>properties.x=%{lon}<br>properties.nb_places_dispo=%{customdata[0]}<br>properties.nb_velos_dispo=%{customdata[1]}<extra></extra>",
         "lat": [
          50.6941
         ],
         "legendgroup": "LES GOBELINS",
         "lon": [
          3.172165
         ],
         "marker": {
          "color": "#19d3f3"
         },
         "mode": "markers",
         "name": "LES GOBELINS",
         "showlegend": true,
         "subplot": "mapbox",
         "type": "scattermapbox"
        },
        {
         "customdata": [
          [
           7,
           0
          ]
         ],
         "hovertemplate": "properties.nom=PELLART<br>properties.y=%{lat}<br>properties.x=%{lon}<br>properties.nb_places_dispo=%{customdata[0]}<br>properties.nb_velos_dispo=%{customdata[1]}<extra></extra>",
         "lat": [
          50.69535
         ],
         "legendgroup": "PELLART",
         "lon": [
          3.180779
         ],
         "marker": {
          "color": "#FF6692"
         },
         "mode": "markers",
         "name": "PELLART",
         "showlegend": true,
         "subplot": "mapbox",
         "type": "scattermapbox"
        },
        {
         "customdata": [
          [
           10,
           0
          ]
         ],
         "hovertemplate": "properties.nom=MOTTE BOSSUT<br>properties.y=%{lat}<br>properties.x=%{lon}<br>properties.nb_places_dispo=%{customdata[0]}<br>properties.nb_velos_dispo=%{customdata[1]}<extra></extra>",
         "lat": [
          50.689762
         ],
         "legendgroup": "MOTTE BOSSUT",
         "lon": [
          3.177179
         ],
         "marker": {
          "color": "#B6E880"
         },
         "mode": "markers",
         "name": "MOTTE BOSSUT",
         "showlegend": true,
         "subplot": "mapbox",
         "type": "scattermapbox"
        },
        {
         "customdata": [
          [
           16,
           0
          ]
         ],
         "hovertemplate": "properties.nom=RUE DE TOURCOING<br>properties.y=%{lat}<br>properties.x=%{lon}<br>properties.nb_places_dispo=%{customdata[0]}<br>properties.nb_velos_dispo=%{customdata[1]}<extra></extra>",
         "lat": [
          50.702026
         ],
         "legendgroup": "RUE DE TOURCOING",
         "lon": [
          3.172654
         ],
         "marker": {
          "color": "#FF97FF"
         },
         "mode": "markers",
         "name": "RUE DE TOURCOING",
         "showlegend": true,
         "subplot": "mapbox",
         "type": "scattermapbox"
        },
        {
         "customdata": [
          [
           1,
           0
          ]
         ],
         "hovertemplate": "properties.nom=WATTRELOS PLACE<br>properties.y=%{lat}<br>properties.x=%{lon}<br>properties.nb_places_dispo=%{customdata[0]}<br>properties.nb_velos_dispo=%{customdata[1]}<extra></extra>",
         "lat": [
          50.701187
         ],
         "legendgroup": "WATTRELOS PLACE",
         "lon": [
          3.215011
         ],
         "marker": {
          "color": "#FECB52"
         },
         "mode": "markers",
         "name": "WATTRELOS PLACE",
         "showlegend": true,
         "subplot": "mapbox",
         "type": "scattermapbox"
        },
        {
         "customdata": [
          [
           1,
           0
          ]
         ],
         "hovertemplate": "properties.nom=STALINGRAD<br>properties.y=%{lat}<br>properties.x=%{lon}<br>properties.nb_places_dispo=%{customdata[0]}<br>properties.nb_velos_dispo=%{customdata[1]}<extra></extra>",
         "lat": [
          50.69626
         ],
         "legendgroup": "STALINGRAD",
         "lon": [
          3.209156
         ],
         "marker": {
          "color": "#636efa"
         },
         "mode": "markers",
         "name": "STALINGRAD",
         "showlegend": true,
         "subplot": "mapbox",
         "type": "scattermapbox"
        },
        {
         "customdata": [
          [
           0,
           0
          ]
         ],
         "hovertemplate": "properties.nom=REPUBLIQUE<br>properties.y=%{lat}<br>properties.x=%{lon}<br>properties.nb_places_dispo=%{customdata[0]}<br>properties.nb_velos_dispo=%{customdata[1]}<extra></extra>",
         "lat": [
          50.697895
         ],
         "legendgroup": "REPUBLIQUE",
         "lon": [
          3.206297
         ],
         "marker": {
          "color": "#EF553B"
         },
         "mode": "markers",
         "name": "REPUBLIQUE",
         "showlegend": true,
         "subplot": "mapbox",
         "type": "scattermapbox"
        },
        {
         "customdata": [
          [
           1,
           0
          ]
         ],
         "hovertemplate": "properties.nom=BELFORT<br>properties.y=%{lat}<br>properties.x=%{lon}<br>properties.nb_places_dispo=%{customdata[0]}<br>properties.nb_velos_dispo=%{customdata[1]}<extra></extra>",
         "lat": [
          50.622223
         ],
         "legendgroup": "BELFORT",
         "lon": [
          3.077127
         ],
         "marker": {
          "color": "#00cc96"
         },
         "mode": "markers",
         "name": "BELFORT",
         "showlegend": true,
         "subplot": "mapbox",
         "type": "scattermapbox"
        },
        {
         "customdata": [
          [
           0,
           0
          ]
         ],
         "hovertemplate": "properties.nom=JULES GUESDE<br>properties.y=%{lat}<br>properties.x=%{lon}<br>properties.nb_places_dispo=%{customdata[0]}<br>properties.nb_velos_dispo=%{customdata[1]}<extra></extra>",
         "lat": [
          50.632393
         ],
         "legendgroup": "JULES GUESDE",
         "lon": [
          3.110669
         ],
         "marker": {
          "color": "#ab63fa"
         },
         "mode": "markers",
         "name": "JULES GUESDE",
         "showlegend": true,
         "subplot": "mapbox",
         "type": "scattermapbox"
        },
        {
         "customdata": [
          [
           0,
           0
          ]
         ],
         "hovertemplate": "properties.nom=BOULEVARD DE METZ<br>properties.y=%{lat}<br>properties.x=%{lon}<br>properties.nb_places_dispo=%{customdata[0]}<br>properties.nb_velos_dispo=%{customdata[1]}<extra></extra>",
         "lat": [
          50.619312
         ],
         "legendgroup": "BOULEVARD DE METZ",
         "lon": [
          3.041299
         ],
         "marker": {
          "color": "#FFA15A"
         },
         "mode": "markers",
         "name": "BOULEVARD DE METZ",
         "showlegend": true,
         "subplot": "mapbox",
         "type": "scattermapbox"
        },
        {
         "customdata": [
          [
           0,
           0
          ]
         ],
         "hovertemplate": "properties.nom=RUE DE LA GAITE<br>properties.y=%{lat}<br>properties.x=%{lon}<br>properties.nb_places_dispo=%{customdata[0]}<br>properties.nb_velos_dispo=%{customdata[1]}<extra></extra>",
         "lat": [
          50.63665
         ],
         "legendgroup": "RUE DE LA GAITE",
         "lon": [
          3.091106
         ],
         "marker": {
          "color": "#19d3f3"
         },
         "mode": "markers",
         "name": "RUE DE LA GAITE",
         "showlegend": true,
         "subplot": "mapbox",
         "type": "scattermapbox"
        },
        {
         "customdata": [
          [
           0,
           0
          ]
         ],
         "hovertemplate": "properties.nom=RUE CHAMBORD<br>properties.y=%{lat}<br>properties.x=%{lon}<br>properties.nb_places_dispo=%{customdata[0]}<br>properties.nb_velos_dispo=%{customdata[1]}<extra></extra>",
         "lat": [
          50.62972
         ],
         "legendgroup": "RUE CHAMBORD",
         "lon": [
          3.133873
         ],
         "marker": {
          "color": "#FF6692"
         },
         "mode": "markers",
         "name": "RUE CHAMBORD",
         "showlegend": true,
         "subplot": "mapbox",
         "type": "scattermapbox"
        },
        {
         "customdata": [
          [
           14,
           0
          ]
         ],
         "hovertemplate": "properties.nom=RUE CORNEILLE<br>properties.y=%{lat}<br>properties.x=%{lon}<br>properties.nb_places_dispo=%{customdata[0]}<br>properties.nb_velos_dispo=%{customdata[1]}<extra></extra>",
         "lat": [
          50.623795
         ],
         "legendgroup": "RUE CORNEILLE",
         "lon": [
          3.144815
         ],
         "marker": {
          "color": "#B6E880"
         },
         "mode": "markers",
         "name": "RUE CORNEILLE",
         "showlegend": true,
         "subplot": "mapbox",
         "type": "scattermapbox"
        },
        {
         "customdata": [
          [
           0,
           0
          ],
          [
           9,
           7
          ]
         ],
         "hovertemplate": "properties.nom=BLANCHEMAILLE<br>properties.y=%{lat}<br>properties.x=%{lon}<br>properties.nb_places_dispo=%{customdata[0]}<br>properties.nb_velos_dispo=%{customdata[1]}<extra></extra>",
         "lat": [
          50.696327,
          50.696909
         ],
         "legendgroup": "BLANCHEMAILLE",
         "lon": [
          3.16713,
          3.168664
         ],
         "marker": {
          "color": "#FF97FF"
         },
         "mode": "markers",
         "name": "BLANCHEMAILLE",
         "showlegend": true,
         "subplot": "mapbox",
         "type": "scattermapbox"
        },
        {
         "customdata": [
          [
           7,
           13
          ]
         ],
         "hovertemplate": "properties.nom=SAINT ROCH<br>properties.y=%{lat}<br>properties.x=%{lon}<br>properties.nb_places_dispo=%{customdata[0]}<br>properties.nb_velos_dispo=%{customdata[1]}<extra></extra>",
         "lat": [
          50.672503
         ],
         "legendgroup": "SAINT ROCH",
         "lon": [
          3.069332
         ],
         "marker": {
          "color": "#FECB52"
         },
         "mode": "markers",
         "name": "SAINT ROCH",
         "showlegend": true,
         "subplot": "mapbox",
         "type": "scattermapbox"
        },
        {
         "customdata": [
          [
           16,
           4
          ]
         ],
         "hovertemplate": "properties.nom=PONT DE L'ABBAYE<br>properties.y=%{lat}<br>properties.x=%{lon}<br>properties.nb_places_dispo=%{customdata[0]}<br>properties.nb_velos_dispo=%{customdata[1]}<extra></extra>",
         "lat": [
          50.666236
         ],
         "legendgroup": "PONT DE L'ABBAYE",
         "lon": [
          3.06415
         ],
         "marker": {
          "color": "#636efa"
         },
         "mode": "markers",
         "name": "PONT DE L'ABBAYE",
         "showlegend": true,
         "subplot": "mapbox",
         "type": "scattermapbox"
        },
        {
         "customdata": [
          [
           14,
           6
          ]
         ],
         "hovertemplate": "properties.nom=SADI CARNOT<br>properties.y=%{lat}<br>properties.x=%{lon}<br>properties.nb_places_dispo=%{customdata[0]}<br>properties.nb_velos_dispo=%{customdata[1]}<extra></extra>",
         "lat": [
          50.611307
         ],
         "legendgroup": "SADI CARNOT",
         "lon": [
          2.994654
         ],
         "marker": {
          "color": "#EF553B"
         },
         "mode": "markers",
         "name": "SADI CARNOT",
         "showlegend": true,
         "subplot": "mapbox",
         "type": "scattermapbox"
        },
        {
         "customdata": [
          [
           19,
           1
          ]
         ],
         "hovertemplate": "properties.nom=DELORY BARBIEUX<br>properties.y=%{lat}<br>properties.x=%{lon}<br>properties.nb_places_dispo=%{customdata[0]}<br>properties.nb_velos_dispo=%{customdata[1]}<extra></extra>",
         "lat": [
          50.676665
         ],
         "legendgroup": "DELORY BARBIEUX",
         "lon": [
          3.167315
         ],
         "marker": {
          "color": "#00cc96"
         },
         "mode": "markers",
         "name": "DELORY BARBIEUX",
         "showlegend": true,
         "subplot": "mapbox",
         "type": "scattermapbox"
        },
        {
         "customdata": [
          [
           9,
           11
          ]
         ],
         "hovertemplate": "properties.nom=PAVÉ DE LILLE<br>properties.y=%{lat}<br>properties.x=%{lon}<br>properties.nb_places_dispo=%{customdata[0]}<br>properties.nb_velos_dispo=%{customdata[1]}<extra></extra>",
         "lat": [
          50.664211
         ],
         "legendgroup": "PAVÉ DE LILLE",
         "lon": [
          3.130098
         ],
         "marker": {
          "color": "#ab63fa"
         },
         "mode": "markers",
         "name": "PAVÉ DE LILLE",
         "showlegend": true,
         "subplot": "mapbox",
         "type": "scattermapbox"
        },
        {
         "customdata": [
          [
           13,
           7
          ]
         ],
         "hovertemplate": "properties.nom=WASQUEHAL HOTEL DE VILLE<br>properties.y=%{lat}<br>properties.x=%{lon}<br>properties.nb_places_dispo=%{customdata[0]}<br>properties.nb_velos_dispo=%{customdata[1]}<extra></extra>",
         "lat": [
          50.669917
         ],
         "legendgroup": "WASQUEHAL HOTEL DE VILLE",
         "lon": [
          3.13075
         ],
         "marker": {
          "color": "#FFA15A"
         },
         "mode": "markers",
         "name": "WASQUEHAL HOTEL DE VILLE",
         "showlegend": true,
         "subplot": "mapbox",
         "type": "scattermapbox"
        },
        {
         "customdata": [
          [
           14,
           4
          ]
         ],
         "hovertemplate": "properties.nom=CHARLES FOURIER<br>properties.y=%{lat}<br>properties.x=%{lon}<br>properties.nb_places_dispo=%{customdata[0]}<br>properties.nb_velos_dispo=%{customdata[1]}<extra></extra>",
         "lat": [
          50.671609
         ],
         "legendgroup": "CHARLES FOURIER",
         "lon": [
          3.183066
         ],
         "marker": {
          "color": "#19d3f3"
         },
         "mode": "markers",
         "name": "CHARLES FOURIER",
         "showlegend": true,
         "subplot": "mapbox",
         "type": "scattermapbox"
        },
        {
         "customdata": [
          [
           9,
           5
          ]
         ],
         "hovertemplate": "properties.nom=PISCINE DES 3 VILLES<br>properties.y=%{lat}<br>properties.x=%{lon}<br>properties.nb_places_dispo=%{customdata[0]}<br>properties.nb_velos_dispo=%{customdata[1]}<extra></extra>",
         "lat": [
          50.670865
         ],
         "legendgroup": "PISCINE DES 3 VILLES",
         "lon": [
          3.198875
         ],
         "marker": {
          "color": "#FF6692"
         },
         "mode": "markers",
         "name": "PISCINE DES 3 VILLES",
         "showlegend": true,
         "subplot": "mapbox",
         "type": "scattermapbox"
        },
        {
         "customdata": [
          [
           11,
           9
          ]
         ],
         "hovertemplate": "properties.nom=CHATELLENIE<br>properties.y=%{lat}<br>properties.x=%{lon}<br>properties.nb_places_dispo=%{customdata[0]}<br>properties.nb_velos_dispo=%{customdata[1]}<extra></extra>",
         "lat": [
          50.635929
         ],
         "legendgroup": "CHATELLENIE",
         "lon": [
          3.135558
         ],
         "marker": {
          "color": "#B6E880"
         },
         "mode": "markers",
         "name": "CHATELLENIE",
         "showlegend": true,
         "subplot": "mapbox",
         "type": "scattermapbox"
        },
        {
         "customdata": [
          [
           19,
           1
          ]
         ],
         "hovertemplate": "properties.nom=4 VENTS<br>properties.y=%{lat}<br>properties.x=%{lon}<br>properties.nb_places_dispo=%{customdata[0]}<br>properties.nb_velos_dispo=%{customdata[1]}<extra></extra>",
         "lat": [
          50.612389
         ],
         "legendgroup": "4 VENTS",
         "lon": [
          3.122953
         ],
         "marker": {
          "color": "#FF97FF"
         },
         "mode": "markers",
         "name": "4 VENTS",
         "showlegend": true,
         "subplot": "mapbox",
         "type": "scattermapbox"
        },
        {
         "customdata": [
          [
           16,
           0
          ]
         ],
         "hovertemplate": "properties.nom=CROIX CENTRE<br>properties.y=%{lat}<br>properties.x=%{lon}<br>properties.nb_places_dispo=%{customdata[0]}<br>properties.nb_velos_dispo=%{customdata[1]}<extra></extra>",
         "lat": [
          50.67441
         ],
         "legendgroup": "CROIX CENTRE",
         "lon": [
          3.14721
         ],
         "marker": {
          "color": "#FECB52"
         },
         "mode": "markers",
         "name": "CROIX CENTRE",
         "showlegend": true,
         "subplot": "mapbox",
         "type": "scattermapbox"
        },
        {
         "customdata": [
          [
           6,
           6
          ]
         ],
         "hovertemplate": "properties.nom=MAIRIE DE QUARTIER OUEST<br>properties.y=%{lat}<br>properties.x=%{lon}<br>properties.nb_places_dispo=%{customdata[0]}<br>properties.nb_velos_dispo=%{customdata[1]}<extra></extra>",
         "lat": [
          50.6875
         ],
         "legendgroup": "MAIRIE DE QUARTIER OUEST",
         "lon": [
          3.1585592
         ],
         "marker": {
          "color": "#636efa"
         },
         "mode": "markers",
         "name": "MAIRIE DE QUARTIER OUEST",
         "showlegend": true,
         "subplot": "mapbox",
         "type": "scattermapbox"
        },
        {
         "customdata": [
          [
           9,
           11
          ]
         ],
         "hovertemplate": "properties.nom=FER À CHEVAL<br>properties.y=%{lat}<br>properties.x=%{lon}<br>properties.nb_places_dispo=%{customdata[0]}<br>properties.nb_velos_dispo=%{customdata[1]}<extra></extra>",
         "lat": [
          50.670155
         ],
         "legendgroup": "FER À CHEVAL",
         "lon": [
          3.154898
         ],
         "marker": {
          "color": "#EF553B"
         },
         "mode": "markers",
         "name": "FER À CHEVAL",
         "showlegend": true,
         "subplot": "mapbox",
         "type": "scattermapbox"
        },
        {
         "customdata": [
          [
           1,
           7
          ]
         ],
         "hovertemplate": "properties.nom=CALMETTE<br>properties.y=%{lat}<br>properties.x=%{lon}<br>properties.nb_places_dispo=%{customdata[0]}<br>properties.nb_velos_dispo=%{customdata[1]}<extra></extra>",
         "lat": [
          50.667847
         ],
         "legendgroup": "CALMETTE",
         "lon": [
          3.192974
         ],
         "marker": {
          "color": "#00cc96"
         },
         "mode": "markers",
         "name": "CALMETTE",
         "showlegend": true,
         "subplot": "mapbox",
         "type": "scattermapbox"
        },
        {
         "customdata": [
          [
           10,
           6
          ]
         ],
         "hovertemplate": "properties.nom=FRATERNITE<br>properties.y=%{lat}<br>properties.x=%{lon}<br>properties.nb_places_dispo=%{customdata[0]}<br>properties.nb_velos_dispo=%{customdata[1]}<extra></extra>",
         "lat": [
          50.681779
         ],
         "legendgroup": "FRATERNITE",
         "lon": [
          3.194129
         ],
         "marker": {
          "color": "#ab63fa"
         },
         "mode": "markers",
         "name": "FRATERNITE",
         "showlegend": true,
         "subplot": "mapbox",
         "type": "scattermapbox"
        },
        {
         "customdata": [
          [
           16,
           0
          ]
         ],
         "hovertemplate": "properties.nom=HOPITAL VICTOR PROVO<br>properties.y=%{lat}<br>properties.x=%{lon}<br>properties.nb_places_dispo=%{customdata[0]}<br>properties.nb_velos_dispo=%{customdata[1]}<extra></extra>",
         "lat": [
          50.67869
         ],
         "legendgroup": "HOPITAL VICTOR PROVO",
         "lon": [
          3.172558
         ],
         "marker": {
          "color": "#FFA15A"
         },
         "mode": "markers",
         "name": "HOPITAL VICTOR PROVO",
         "showlegend": true,
         "subplot": "mapbox",
         "type": "scattermapbox"
        },
        {
         "customdata": [
          [
           17,
           0
          ]
         ],
         "hovertemplate": "properties.nom=GARE JEAN LEBAS<br>properties.y=%{lat}<br>properties.x=%{lon}<br>properties.nb_places_dispo=%{customdata[0]}<br>properties.nb_velos_dispo=%{customdata[1]}<extra></extra>",
         "lat": [
          50.695563
         ],
         "legendgroup": "GARE JEAN LEBAS",
         "lon": [
          3.164242
         ],
         "marker": {
          "color": "#19d3f3"
         },
         "mode": "markers",
         "name": "GARE JEAN LEBAS",
         "showlegend": true,
         "subplot": "mapbox",
         "type": "scattermapbox"
        },
        {
         "customdata": [
          [
           14,
           0
          ]
         ],
         "hovertemplate": "properties.nom=MUSEE ART ET INDUSTRIE<br>properties.y=%{lat}<br>properties.x=%{lon}<br>properties.nb_places_dispo=%{customdata[0]}<br>properties.nb_velos_dispo=%{customdata[1]}<extra></extra>",
         "lat": [
          50.693768
         ],
         "legendgroup": "MUSEE ART ET INDUSTRIE",
         "lon": [
          3.167666
         ],
         "marker": {
          "color": "#FF6692"
         },
         "mode": "markers",
         "name": "MUSEE ART ET INDUSTRIE",
         "showlegend": true,
         "subplot": "mapbox",
         "type": "scattermapbox"
        },
        {
         "customdata": [
          [
           12,
           2
          ]
         ],
         "hovertemplate": "properties.nom=FOSSE AUX CHENES<br>properties.y=%{lat}<br>properties.x=%{lon}<br>properties.nb_places_dispo=%{customdata[0]}<br>properties.nb_velos_dispo=%{customdata[1]}<extra></extra>",
         "lat": [
          50.699734
         ],
         "legendgroup": "FOSSE AUX CHENES",
         "lon": [
          3.174347
         ],
         "marker": {
          "color": "#B6E880"
         },
         "mode": "markers",
         "name": "FOSSE AUX CHENES",
         "showlegend": true,
         "subplot": "mapbox",
         "type": "scattermapbox"
        },
        {
         "customdata": [
          [
           15,
           1
          ]
         ],
         "hovertemplate": "properties.nom=ALSACE<br>properties.y=%{lat}<br>properties.x=%{lon}<br>properties.nb_places_dispo=%{customdata[0]}<br>properties.nb_velos_dispo=%{customdata[1]}<extra></extra>",
         "lat": [
          50.7004
         ],
         "legendgroup": "ALSACE",
         "lon": [
          3.161378
         ],
         "marker": {
          "color": "#FF97FF"
         },
         "mode": "markers",
         "name": "ALSACE",
         "showlegend": true,
         "subplot": "mapbox",
         "type": "scattermapbox"
        },
        {
         "customdata": [
          [
           6,
           6
          ]
         ],
         "hovertemplate": "properties.nom=CHAPTAL<br>properties.y=%{lat}<br>properties.x=%{lon}<br>properties.nb_places_dispo=%{customdata[0]}<br>properties.nb_velos_dispo=%{customdata[1]}<extra></extra>",
         "lat": [
          50.694714
         ],
         "legendgroup": "CHAPTAL",
         "lon": [
          3.192643
         ],
         "marker": {
          "color": "#FECB52"
         },
         "mode": "markers",
         "name": "CHAPTAL",
         "showlegend": true,
         "subplot": "mapbox",
         "type": "scattermapbox"
        },
        {
         "customdata": [
          [
           0,
           0
          ]
         ],
         "hovertemplate": "properties.nom=RUE DES ANGES<br>properties.y=%{lat}<br>properties.x=%{lon}<br>properties.nb_places_dispo=%{customdata[0]}<br>properties.nb_velos_dispo=%{customdata[1]}<extra></extra>",
         "lat": [
          50.719803
         ],
         "legendgroup": "RUE DES ANGES",
         "lon": [
          3.156338
         ],
         "marker": {
          "color": "#636efa"
         },
         "mode": "markers",
         "name": "RUE DES ANGES",
         "showlegend": true,
         "subplot": "mapbox",
         "type": "scattermapbox"
        },
        {
         "customdata": [
          [
           8,
           1
          ]
         ],
         "hovertemplate": "properties.nom=THEATRE TOURCOING<br>properties.y=%{lat}<br>properties.x=%{lon}<br>properties.nb_places_dispo=%{customdata[0]}<br>properties.nb_velos_dispo=%{customdata[1]}<extra></extra>",
         "lat": [
          50.720747
         ],
         "legendgroup": "THEATRE TOURCOING",
         "lon": [
          3.152787
         ],
         "marker": {
          "color": "#EF553B"
         },
         "mode": "markers",
         "name": "THEATRE TOURCOING",
         "showlegend": true,
         "subplot": "mapbox",
         "type": "scattermapbox"
        },
        {
         "customdata": [
          [
           5,
           9
          ]
         ],
         "hovertemplate": "properties.nom=BVRD DE L EGALITE<br>properties.y=%{lat}<br>properties.x=%{lon}<br>properties.nb_places_dispo=%{customdata[0]}<br>properties.nb_velos_dispo=%{customdata[1]}<extra></extra>",
         "lat": [
          50.730289
         ],
         "legendgroup": "BVRD DE L EGALITE",
         "lon": [
          3.167723
         ],
         "marker": {
          "color": "#00cc96"
         },
         "mode": "markers",
         "name": "BVRD DE L EGALITE",
         "showlegend": true,
         "subplot": "mapbox",
         "type": "scattermapbox"
        },
        {
         "customdata": [
          [
           6,
           0
          ]
         ],
         "hovertemplate": "properties.nom=POSTE<br>properties.y=%{lat}<br>properties.x=%{lon}<br>properties.nb_places_dispo=%{customdata[0]}<br>properties.nb_velos_dispo=%{customdata[1]}<extra></extra>",
         "lat": [
          50.71922
         ],
         "legendgroup": "POSTE",
         "lon": [
          3.163396
         ],
         "marker": {
          "color": "#ab63fa"
         },
         "mode": "markers",
         "name": "POSTE",
         "showlegend": true,
         "subplot": "mapbox",
         "type": "scattermapbox"
        },
        {
         "customdata": [
          [
           12,
           6
          ]
         ],
         "hovertemplate": "properties.nom=LE CORBUSIER<br>properties.y=%{lat}<br>properties.x=%{lon}<br>properties.nb_places_dispo=%{customdata[0]}<br>properties.nb_velos_dispo=%{customdata[1]}<extra></extra>",
         "lat": [
          50.722343
         ],
         "legendgroup": "LE CORBUSIER",
         "lon": [
          3.170847
         ],
         "marker": {
          "color": "#FFA15A"
         },
         "mode": "markers",
         "name": "LE CORBUSIER",
         "showlegend": true,
         "subplot": "mapbox",
         "type": "scattermapbox"
        },
        {
         "customdata": [
          [
           13,
           5
          ]
         ],
         "hovertemplate": "properties.nom=JARDIN VAUBAN<br>properties.y=%{lat}<br>properties.x=%{lon}<br>properties.nb_places_dispo=%{customdata[0]}<br>properties.nb_velos_dispo=%{customdata[1]}<extra></extra>",
         "lat": [
          50.636093
         ],
         "legendgroup": "JARDIN VAUBAN",
         "lon": [
          3.050447
         ],
         "marker": {
          "color": "#19d3f3"
         },
         "mode": "markers",
         "name": "JARDIN VAUBAN",
         "showlegend": true,
         "subplot": "mapbox",
         "type": "scattermapbox"
        },
        {
         "customdata": [
          [
           14,
           10
          ]
         ],
         "hovertemplate": "properties.nom=REPUBLIQUE BEAUX ARTS<br>properties.y=%{lat}<br>properties.x=%{lon}<br>properties.nb_places_dispo=%{customdata[0]}<br>properties.nb_velos_dispo=%{customdata[1]}<extra></extra>",
         "lat": [
          50.630943
         ],
         "legendgroup": "REPUBLIQUE BEAUX ARTS",
         "lon": [
          3.060299
         ],
         "marker": {
          "color": "#FF6692"
         },
         "mode": "markers",
         "name": "REPUBLIQUE BEAUX ARTS",
         "showlegend": true,
         "subplot": "mapbox",
         "type": "scattermapbox"
        },
        {
         "customdata": [
          [
           16,
           0
          ]
         ],
         "hovertemplate": "properties.nom=PLACE DE STRASBOURG<br>properties.y=%{lat}<br>properties.x=%{lon}<br>properties.nb_places_dispo=%{customdata[0]}<br>properties.nb_velos_dispo=%{customdata[1]}<extra></extra>",
         "lat": [
          50.633728
         ],
         "legendgroup": "PLACE DE STRASBOURG",
         "lon": [
          3.055307
         ],
         "marker": {
          "color": "#B6E880"
         },
         "mode": "markers",
         "name": "PLACE DE STRASBOURG",
         "showlegend": true,
         "subplot": "mapbox",
         "type": "scattermapbox"
        },
        {
         "customdata": [
          [
           4,
           36
          ]
         ],
         "hovertemplate": "properties.nom=PLACE RICHEBE<br>properties.y=%{lat}<br>properties.x=%{lon}<br>properties.nb_places_dispo=%{customdata[0]}<br>properties.nb_velos_dispo=%{customdata[1]}<extra></extra>",
         "lat": [
          50.632366
         ],
         "legendgroup": "PLACE RICHEBE",
         "lon": [
          3.062313
         ],
         "marker": {
          "color": "#FF97FF"
         },
         "mode": "markers",
         "name": "PLACE RICHEBE",
         "showlegend": true,
         "subplot": "mapbox",
         "type": "scattermapbox"
        },
        {
         "customdata": [
          [
           6,
           25
          ]
         ],
         "hovertemplate": "properties.nom=RIHOUR<br>properties.y=%{lat}<br>properties.x=%{lon}<br>properties.nb_places_dispo=%{customdata[0]}<br>properties.nb_velos_dispo=%{customdata[1]}<extra></extra>",
         "lat": [
          50.63589
         ],
         "legendgroup": "RIHOUR",
         "lon": [
          3.062471
         ],
         "marker": {
          "color": "#FECB52"
         },
         "mode": "markers",
         "name": "RIHOUR",
         "showlegend": true,
         "subplot": "mapbox",
         "type": "scattermapbox"
        },
        {
         "customdata": [
          [
           0,
           18
          ]
         ],
         "hovertemplate": "properties.nom=QUAI DU WAULT<br>properties.y=%{lat}<br>properties.x=%{lon}<br>properties.nb_places_dispo=%{customdata[0]}<br>properties.nb_velos_dispo=%{customdata[1]}<extra></extra>",
         "lat": [
          50.63671
         ],
         "legendgroup": "QUAI DU WAULT",
         "lon": [
          3.054773
         ],
         "marker": {
          "color": "#636efa"
         },
         "mode": "markers",
         "name": "QUAI DU WAULT",
         "showlegend": true,
         "subplot": "mapbox",
         "type": "scattermapbox"
        },
        {
         "customdata": [
          [
           10,
           14
          ]
         ],
         "hovertemplate": "properties.nom=ESPLANADE<br>properties.y=%{lat}<br>properties.x=%{lon}<br>properties.nb_places_dispo=%{customdata[0]}<br>properties.nb_velos_dispo=%{customdata[1]}<extra></extra>",
         "lat": [
          50.6449
         ],
         "legendgroup": "ESPLANADE",
         "lon": [
          3.050645
         ],
         "marker": {
          "color": "#EF553B"
         },
         "mode": "markers",
         "name": "ESPLANADE",
         "showlegend": true,
         "subplot": "mapbox",
         "type": "scattermapbox"
        },
        {
         "customdata": [
          [
           19,
           1
          ]
         ],
         "hovertemplate": "properties.nom=PLACE DU CONCERT<br>properties.y=%{lat}<br>properties.x=%{lon}<br>properties.nb_places_dispo=%{customdata[0]}<br>properties.nb_velos_dispo=%{customdata[1]}<extra></extra>",
         "lat": [
          50.64193
         ],
         "legendgroup": "PLACE DU CONCERT",
         "lon": [
          3.061774
         ],
         "marker": {
          "color": "#00cc96"
         },
         "mode": "markers",
         "name": "PLACE DU CONCERT",
         "showlegend": true,
         "subplot": "mapbox",
         "type": "scattermapbox"
        },
        {
         "customdata": [
          [
           15,
           3
          ]
         ],
         "hovertemplate": "properties.nom=RUE DES ARTS<br>properties.y=%{lat}<br>properties.x=%{lon}<br>properties.nb_places_dispo=%{customdata[0]}<br>properties.nb_velos_dispo=%{customdata[1]}<extra></extra>",
         "lat": [
          50.639107
         ],
         "legendgroup": "RUE DES ARTS",
         "lon": [
          3.065767
         ],
         "marker": {
          "color": "#ab63fa"
         },
         "mode": "markers",
         "name": "RUE DES ARTS",
         "showlegend": true,
         "subplot": "mapbox",
         "type": "scattermapbox"
        },
        {
         "customdata": [
          [
           32,
           0
          ]
         ],
         "hovertemplate": "properties.nom=GARE LILLE FLANDRES<br>properties.y=%{lat}<br>properties.x=%{lon}<br>properties.nb_places_dispo=%{customdata[0]}<br>properties.nb_velos_dispo=%{customdata[1]}<extra></extra>",
         "lat": [
          50.636399
         ],
         "legendgroup": "GARE LILLE FLANDRES",
         "lon": [
          3.069354
         ],
         "marker": {
          "color": "#FFA15A"
         },
         "mode": "markers",
         "name": "GARE LILLE FLANDRES",
         "showlegend": true,
         "subplot": "mapbox",
         "type": "scattermapbox"
        },
        {
         "customdata": [
          [
           7,
           9
          ]
         ],
         "hovertemplate": "properties.nom=PLACE AUX BLEUETS<br>properties.y=%{lat}<br>properties.x=%{lon}<br>properties.nb_places_dispo=%{customdata[0]}<br>properties.nb_velos_dispo=%{customdata[1]}<extra></extra>",
         "lat": [
          50.64142
         ],
         "legendgroup": "PLACE AUX BLEUETS",
         "lon": [
          3.067873
         ],
         "marker": {
          "color": "#19d3f3"
         },
         "mode": "markers",
         "name": "PLACE AUX BLEUETS",
         "showlegend": true,
         "subplot": "mapbox",
         "type": "scattermapbox"
        },
        {
         "customdata": [
          [
           7,
           5
          ]
         ],
         "hovertemplate": "properties.nom=FULTON<br>properties.y=%{lat}<br>properties.x=%{lon}<br>properties.nb_places_dispo=%{customdata[0]}<br>properties.nb_velos_dispo=%{customdata[1]}<extra></extra>",
         "lat": [
          50.62337
         ],
         "legendgroup": "FULTON",
         "lon": [
          3.037553
         ],
         "marker": {
          "color": "#FF6692"
         },
         "mode": "markers",
         "name": "FULTON",
         "showlegend": true,
         "subplot": "mapbox",
         "type": "scattermapbox"
        },
        {
         "customdata": [
          [
           11,
           17
          ]
         ],
         "hovertemplate": "properties.nom=METRO GAMBETTA<br>properties.y=%{lat}<br>properties.x=%{lon}<br>properties.nb_places_dispo=%{customdata[0]}<br>properties.nb_velos_dispo=%{customdata[1]}<extra></extra>",
         "lat": [
          50.62614
         ],
         "legendgroup": "METRO GAMBETTA",
         "lon": [
          3.051729
         ],
         "marker": {
          "color": "#B6E880"
         },
         "mode": "markers",
         "name": "METRO GAMBETTA",
         "showlegend": true,
         "subplot": "mapbox",
         "type": "scattermapbox"
        },
        {
         "customdata": [
          [
           5,
           27
          ]
         ],
         "hovertemplate": "properties.nom=THEATRE SEBASTOPOL<br>properties.y=%{lat}<br>properties.x=%{lon}<br>properties.nb_places_dispo=%{customdata[0]}<br>properties.nb_velos_dispo=%{customdata[1]}<extra></extra>",
         "lat": [
          50.629044
         ],
         "legendgroup": "THEATRE SEBASTOPOL",
         "lon": [
          3.058288
         ],
         "marker": {
          "color": "#FF97FF"
         },
         "mode": "markers",
         "name": "THEATRE SEBASTOPOL",
         "showlegend": true,
         "subplot": "mapbox",
         "type": "scattermapbox"
        },
        {
         "customdata": [
          [
           10,
           8
          ]
         ],
         "hovertemplate": "properties.nom=GAMBETTA UTRECHT<br>properties.y=%{lat}<br>properties.x=%{lon}<br>properties.nb_places_dispo=%{customdata[0]}<br>properties.nb_velos_dispo=%{customdata[1]}<extra></extra>",
         "lat": [
          50.629063
         ],
         "legendgroup": "GAMBETTA UTRECHT",
         "lon": [
          3.053711
         ],
         "marker": {
          "color": "#FECB52"
         },
         "mode": "markers",
         "name": "GAMBETTA UTRECHT",
         "showlegend": true,
         "subplot": "mapbox",
         "type": "scattermapbox"
        },
        {
         "customdata": [
          [
           9,
           13
          ]
         ],
         "hovertemplate": "properties.nom=PLACE COLETTE BESSON<br>properties.y=%{lat}<br>properties.x=%{lon}<br>properties.nb_places_dispo=%{customdata[0]}<br>properties.nb_velos_dispo=%{customdata[1]}<extra></extra>",
         "lat": [
          50.62276
         ],
         "legendgroup": "PLACE COLETTE BESSON",
         "lon": [
          3.063799
         ],
         "marker": {
          "color": "#636efa"
         },
         "mode": "markers",
         "name": "PLACE COLETTE BESSON",
         "showlegend": true,
         "subplot": "mapbox",
         "type": "scattermapbox"
        },
        {
         "customdata": [
          [
           14,
           10
          ]
         ],
         "hovertemplate": "properties.nom=PORTE D'ARRAS<br>properties.y=%{lat}<br>properties.x=%{lon}<br>properties.nb_places_dispo=%{customdata[0]}<br>properties.nb_velos_dispo=%{customdata[1]}<extra></extra>",
         "lat": [
          50.617847
         ],
         "legendgroup": "PORTE D'ARRAS",
         "lon": [
          3.061758
         ],
         "marker": {
          "color": "#EF553B"
         },
         "mode": "markers",
         "name": "PORTE D'ARRAS",
         "showlegend": true,
         "subplot": "mapbox",
         "type": "scattermapbox"
        },
        {
         "customdata": [
          [
           7,
           15
          ]
         ],
         "hovertemplate": "properties.nom=BOIS BLANCS<br>properties.y=%{lat}<br>properties.x=%{lon}<br>properties.nb_places_dispo=%{customdata[0]}<br>properties.nb_velos_dispo=%{customdata[1]}<extra></extra>",
         "lat": [
          50.634045
         ],
         "legendgroup": "BOIS BLANCS",
         "lon": [
          3.030778
         ],
         "marker": {
          "color": "#00cc96"
         },
         "mode": "markers",
         "name": "BOIS BLANCS",
         "showlegend": true,
         "subplot": "mapbox",
         "type": "scattermapbox"
        },
        {
         "customdata": [
          [
           21,
           10
          ]
         ],
         "hovertemplate": "properties.nom=UNIVERSITE CATHOLIQUE<br>properties.y=%{lat}<br>properties.x=%{lon}<br>properties.nb_places_dispo=%{customdata[0]}<br>properties.nb_velos_dispo=%{customdata[1]}<extra></extra>",
         "lat": [
          50.632233
         ],
         "legendgroup": "UNIVERSITE CATHOLIQUE",
         "lon": [
          3.046134
         ],
         "marker": {
          "color": "#ab63fa"
         },
         "mode": "markers",
         "name": "UNIVERSITE CATHOLIQUE",
         "showlegend": true,
         "subplot": "mapbox",
         "type": "scattermapbox"
        },
        {
         "customdata": [
          [
           4,
           16
          ]
         ],
         "hovertemplate": "properties.nom=MAISON FOLIE WAZEMMES<br>properties.y=%{lat}<br>properties.x=%{lon}<br>properties.nb_places_dispo=%{customdata[0]}<br>properties.nb_velos_dispo=%{customdata[1]}<extra></extra>",
         "lat": [
          50.624695
         ],
         "legendgroup": "MAISON FOLIE WAZEMMES",
         "lon": [
          3.048961
         ],
         "marker": {
          "color": "#FFA15A"
         },
         "mode": "markers",
         "name": "MAISON FOLIE WAZEMMES",
         "showlegend": true,
         "subplot": "mapbox",
         "type": "scattermapbox"
        },
        {
         "customdata": [
          [
           35,
           5
          ]
         ],
         "hovertemplate": "properties.nom=MASSENA<br>properties.y=%{lat}<br>properties.x=%{lon}<br>properties.nb_places_dispo=%{customdata[0]}<br>properties.nb_velos_dispo=%{customdata[1]}<extra></extra>",
         "lat": [
          50.63156
         ],
         "legendgroup": "MASSENA",
         "lon": [
          3.054738
         ],
         "marker": {
          "color": "#19d3f3"
         },
         "mode": "markers",
         "name": "MASSENA",
         "showlegend": true,
         "subplot": "mapbox",
         "type": "scattermapbox"
        },
        {
         "customdata": [
          [
           20,
           16
          ]
         ],
         "hovertemplate": "properties.nom=RUE DE TOUL<br>properties.y=%{lat}<br>properties.x=%{lon}<br>properties.nb_places_dispo=%{customdata[0]}<br>properties.nb_velos_dispo=%{customdata[1]}<extra></extra>",
         "lat": [
          50.63393
         ],
         "legendgroup": "RUE DE TOUL",
         "lon": [
          3.044986
         ],
         "marker": {
          "color": "#FF6692"
         },
         "mode": "markers",
         "name": "RUE DE TOUL",
         "showlegend": true,
         "subplot": "mapbox",
         "type": "scattermapbox"
        },
        {
         "customdata": [
          [
           17,
           15
          ]
         ],
         "hovertemplate": "properties.nom=NOUVEAU SIECLE<br>properties.y=%{lat}<br>properties.x=%{lon}<br>properties.nb_places_dispo=%{customdata[0]}<br>properties.nb_velos_dispo=%{customdata[1]}<extra></extra>",
         "lat": [
          50.63734
         ],
         "legendgroup": "NOUVEAU SIECLE",
         "lon": [
          3.060977
         ],
         "marker": {
          "color": "#B6E880"
         },
         "mode": "markers",
         "name": "NOUVEAU SIECLE",
         "showlegend": true,
         "subplot": "mapbox",
         "type": "scattermapbox"
        },
        {
         "customdata": [
          [
           8,
           16
          ]
         ],
         "hovertemplate": "properties.nom=OPERA<br>properties.y=%{lat}<br>properties.x=%{lon}<br>properties.nb_places_dispo=%{customdata[0]}<br>properties.nb_velos_dispo=%{customdata[1]}<extra></extra>",
         "lat": [
          50.637486
         ],
         "legendgroup": "OPERA",
         "lon": [
          3.065902
         ],
         "marker": {
          "color": "#FF97FF"
         },
         "mode": "markers",
         "name": "OPERA",
         "showlegend": true,
         "subplot": "mapbox",
         "type": "scattermapbox"
        },
        {
         "customdata": [
          [
           19,
           21
          ]
         ],
         "hovertemplate": "properties.nom=CHAMP DE MARS<br>properties.y=%{lat}<br>properties.x=%{lon}<br>properties.nb_places_dispo=%{customdata[0]}<br>properties.nb_velos_dispo=%{customdata[1]}<extra></extra>",
         "lat": [
          50.63778
         ],
         "legendgroup": "CHAMP DE MARS",
         "lon": [
          3.050661
         ],
         "marker": {
          "color": "#FECB52"
         },
         "mode": "markers",
         "name": "CHAMP DE MARS",
         "showlegend": true,
         "subplot": "mapbox",
         "type": "scattermapbox"
        },
        {
         "customdata": [
          [
           5,
           11
          ]
         ],
         "hovertemplate": "properties.nom=MAGASIN<br>properties.y=%{lat}<br>properties.x=%{lon}<br>properties.nb_places_dispo=%{customdata[0]}<br>properties.nb_velos_dispo=%{customdata[1]}<extra></extra>",
         "lat": [
          50.646225
         ],
         "legendgroup": "MAGASIN",
         "lon": [
          3.053499
         ],
         "marker": {
          "color": "#636efa"
         },
         "mode": "markers",
         "name": "MAGASIN",
         "showlegend": true,
         "subplot": "mapbox",
         "type": "scattermapbox"
        },
        {
         "customdata": [
          [
           10,
           9
          ]
         ],
         "hovertemplate": "properties.nom=HALLE AUX SUCRES<br>properties.y=%{lat}<br>properties.x=%{lon}<br>properties.nb_places_dispo=%{customdata[0]}<br>properties.nb_velos_dispo=%{customdata[1]}<extra></extra>",
         "lat": [
          50.644695
         ],
         "legendgroup": "HALLE AUX SUCRES",
         "lon": [
          3.060867
         ],
         "marker": {
          "color": "#EF553B"
         },
         "mode": "markers",
         "name": "HALLE AUX SUCRES",
         "showlegend": true,
         "subplot": "mapbox",
         "type": "scattermapbox"
        },
        {
         "customdata": [
          [
           7,
           7
          ]
         ],
         "hovertemplate": "properties.nom=VOLTAIRE<br>properties.y=%{lat}<br>properties.x=%{lon}<br>properties.nb_places_dispo=%{customdata[0]}<br>properties.nb_velos_dispo=%{customdata[1]}<extra></extra>",
         "lat": [
          50.6428
         ],
         "legendgroup": "VOLTAIRE",
         "lon": [
          3.055932
         ],
         "marker": {
          "color": "#00cc96"
         },
         "mode": "markers",
         "name": "VOLTAIRE",
         "showlegend": true,
         "subplot": "mapbox",
         "type": "scattermapbox"
        },
        {
         "customdata": [
          [
           12,
           12
          ]
         ],
         "hovertemplate": "properties.nom=RUE ROYALE<br>properties.y=%{lat}<br>properties.x=%{lon}<br>properties.nb_places_dispo=%{customdata[0]}<br>properties.nb_velos_dispo=%{customdata[1]}<extra></extra>",
         "lat": [
          50.64031
         ],
         "legendgroup": "RUE ROYALE",
         "lon": [
          3.05774
         ],
         "marker": {
          "color": "#ab63fa"
         },
         "mode": "markers",
         "name": "RUE ROYALE",
         "showlegend": true,
         "subplot": "mapbox",
         "type": "scattermapbox"
        },
        {
         "customdata": [
          [
           7,
           23
          ]
         ],
         "hovertemplate": "properties.nom=N.D. DE LA TREILLE<br>properties.y=%{lat}<br>properties.x=%{lon}<br>properties.nb_places_dispo=%{customdata[0]}<br>properties.nb_velos_dispo=%{customdata[1]}<extra></extra>",
         "lat": [
          50.640385
         ],
         "legendgroup": "N.D. DE LA TREILLE",
         "lon": [
          3.062053
         ],
         "marker": {
          "color": "#FFA15A"
         },
         "mode": "markers",
         "name": "N.D. DE LA TREILLE",
         "showlegend": true,
         "subplot": "mapbox",
         "type": "scattermapbox"
        },
        {
         "customdata": [
          [
           23,
           7
          ]
         ],
         "hovertemplate": "properties.nom=LOUISE DE BETTIGNIES<br>properties.y=%{lat}<br>properties.x=%{lon}<br>properties.nb_places_dispo=%{customdata[0]}<br>properties.nb_velos_dispo=%{customdata[1]}<extra></extra>",
         "lat": [
          50.64144
         ],
         "legendgroup": "LOUISE DE BETTIGNIES",
         "lon": [
          3.064974
         ],
         "marker": {
          "color": "#19d3f3"
         },
         "mode": "markers",
         "name": "LOUISE DE BETTIGNIES",
         "showlegend": true,
         "subplot": "mapbox",
         "type": "scattermapbox"
        },
        {
         "customdata": [
          [
           40,
           0
          ]
         ],
         "hovertemplate": "properties.nom=FLANDRES EURALILLE<br>properties.y=%{lat}<br>properties.x=%{lon}<br>properties.nb_places_dispo=%{customdata[0]}<br>properties.nb_velos_dispo=%{customdata[1]}<extra></extra>",
         "lat": [
          50.637078
         ],
         "legendgroup": "FLANDRES EURALILLE",
         "lon": [
          3.070774
         ],
         "marker": {
          "color": "#FF6692"
         },
         "mode": "markers",
         "name": "FLANDRES EURALILLE",
         "showlegend": true,
         "subplot": "mapbox",
         "type": "scattermapbox"
        },
        {
         "customdata": [
          [
           11,
           11
          ]
         ],
         "hovertemplate": "properties.nom=MOLINEL<br>properties.y=%{lat}<br>properties.x=%{lon}<br>properties.nb_places_dispo=%{customdata[0]}<br>properties.nb_velos_dispo=%{customdata[1]}<extra></extra>",
         "lat": [
          50.63457
         ],
         "legendgroup": "MOLINEL",
         "lon": [
          3.068007
         ],
         "marker": {
          "color": "#B6E880"
         },
         "mode": "markers",
         "name": "MOLINEL",
         "showlegend": true,
         "subplot": "mapbox",
         "type": "scattermapbox"
        },
        {
         "customdata": [
          [
           10,
           26
          ]
         ],
         "hovertemplate": "properties.nom=TANNEURS<br>properties.y=%{lat}<br>properties.x=%{lon}<br>properties.nb_places_dispo=%{customdata[0]}<br>properties.nb_velos_dispo=%{customdata[1]}<extra></extra>",
         "lat": [
          50.635014
         ],
         "legendgroup": "TANNEURS",
         "lon": [
          3.064802
         ],
         "marker": {
          "color": "#FF97FF"
         },
         "mode": "markers",
         "name": "TANNEURS",
         "showlegend": true,
         "subplot": "mapbox",
         "type": "scattermapbox"
        },
        {
         "customdata": [
          [
           16,
           24
          ]
         ],
         "hovertemplate": "properties.nom=PALAIS RAMEAU<br>properties.y=%{lat}<br>properties.x=%{lon}<br>properties.nb_places_dispo=%{customdata[0]}<br>properties.nb_velos_dispo=%{customdata[1]}<extra></extra>",
         "lat": [
          50.634686
         ],
         "legendgroup": "PALAIS RAMEAU",
         "lon": [
          3.048344
         ],
         "marker": {
          "color": "#FECB52"
         },
         "mode": "markers",
         "name": "PALAIS RAMEAU",
         "showlegend": true,
         "subplot": "mapbox",
         "type": "scattermapbox"
        },
        {
         "customdata": [
          [
           6,
           22
          ]
         ],
         "hovertemplate": "properties.nom=ST SEBASTIEN<br>properties.y=%{lat}<br>properties.x=%{lon}<br>properties.nb_places_dispo=%{customdata[0]}<br>properties.nb_velos_dispo=%{customdata[1]}<extra></extra>",
         "lat": [
          50.647236
         ],
         "legendgroup": "ST SEBASTIEN",
         "lon": [
          3.059376
         ],
         "marker": {
          "color": "#636efa"
         },
         "mode": "markers",
         "name": "ST SEBASTIEN",
         "showlegend": true,
         "subplot": "mapbox",
         "type": "scattermapbox"
        },
        {
         "customdata": [
          [
           16,
           3
          ]
         ],
         "hovertemplate": "properties.nom=RUE DE GAND<br>properties.y=%{lat}<br>properties.x=%{lon}<br>properties.nb_places_dispo=%{customdata[0]}<br>properties.nb_velos_dispo=%{customdata[1]}<extra></extra>",
         "lat": [
          50.64297
         ],
         "legendgroup": "RUE DE GAND",
         "lon": [
          3.067375
         ],
         "marker": {
          "color": "#EF553B"
         },
         "mode": "markers",
         "name": "RUE DE GAND",
         "showlegend": true,
         "subplot": "mapbox",
         "type": "scattermapbox"
        },
        {
         "customdata": [
          [
           20,
           0
          ]
         ],
         "hovertemplate": "properties.nom=PONT NEUF<br>properties.y=%{lat}<br>properties.x=%{lon}<br>properties.nb_places_dispo=%{customdata[0]}<br>properties.nb_velos_dispo=%{customdata[1]}<extra></extra>",
         "lat": [
          50.644264
         ],
         "legendgroup": "PONT NEUF",
         "lon": [
          3.062935
         ],
         "marker": {
          "color": "#00cc96"
         },
         "mode": "markers",
         "name": "PONT NEUF",
         "showlegend": true,
         "subplot": "mapbox",
         "type": "scattermapbox"
        },
        {
         "customdata": [
          [
           14,
           12
          ]
         ],
         "hovertemplate": "properties.nom=PORT DE LILLE<br>properties.y=%{lat}<br>properties.x=%{lon}<br>properties.nb_places_dispo=%{customdata[0]}<br>properties.nb_velos_dispo=%{customdata[1]}<extra></extra>",
         "lat": [
          50.63022
         ],
         "legendgroup": "PORT DE LILLE",
         "lon": [
          3.035681
         ],
         "marker": {
          "color": "#ab63fa"
         },
         "mode": "markers",
         "name": "PORT DE LILLE",
         "showlegend": true,
         "subplot": "mapbox",
         "type": "scattermapbox"
        },
        {
         "customdata": [
          [
           11,
           9
          ]
         ],
         "hovertemplate": "properties.nom=PLACE CATINAT<br>properties.y=%{lat}<br>properties.x=%{lon}<br>properties.nb_places_dispo=%{customdata[0]}<br>properties.nb_velos_dispo=%{customdata[1]}<extra></extra>",
         "lat": [
          50.63413
         ],
         "legendgroup": "PLACE CATINAT",
         "lon": [
          3.041209
         ],
         "marker": {
          "color": "#FFA15A"
         },
         "mode": "markers",
         "name": "PLACE CATINAT",
         "showlegend": true,
         "subplot": "mapbox",
         "type": "scattermapbox"
        },
        {
         "customdata": [
          [
           21,
           6
          ]
         ],
         "hovertemplate": "properties.nom=LECLERC<br>properties.y=%{lat}<br>properties.x=%{lon}<br>properties.nb_places_dispo=%{customdata[0]}<br>properties.nb_velos_dispo=%{customdata[1]}<extra></extra>",
         "lat": [
          50.62899
         ],
         "legendgroup": "LECLERC",
         "lon": [
          3.043307
         ],
         "marker": {
          "color": "#19d3f3"
         },
         "mode": "markers",
         "name": "LECLERC",
         "showlegend": true,
         "subplot": "mapbox",
         "type": "scattermapbox"
        },
        {
         "customdata": [
          [
           19,
           17
          ]
         ],
         "hovertemplate": "properties.nom=CORMONTAIGNE<br>properties.y=%{lat}<br>properties.x=%{lon}<br>properties.nb_places_dispo=%{customdata[0]}<br>properties.nb_velos_dispo=%{customdata[1]}<extra></extra>",
         "lat": [
          50.62624
         ],
         "legendgroup": "CORMONTAIGNE",
         "lon": [
          3.039911
         ],
         "marker": {
          "color": "#FF6692"
         },
         "mode": "markers",
         "name": "CORMONTAIGNE",
         "showlegend": true,
         "subplot": "mapbox",
         "type": "scattermapbox"
        },
        {
         "customdata": [
          [
           12,
           6
          ]
         ],
         "hovertemplate": "properties.nom=PLACE CASQUETTE<br>properties.y=%{lat}<br>properties.x=%{lon}<br>properties.nb_places_dispo=%{customdata[0]}<br>properties.nb_velos_dispo=%{customdata[1]}<extra></extra>",
         "lat": [
          50.62429
         ],
         "legendgroup": "PLACE CASQUETTE",
         "lon": [
          3.045321
         ],
         "marker": {
          "color": "#B6E880"
         },
         "mode": "markers",
         "name": "PLACE CASQUETTE",
         "showlegend": true,
         "subplot": "mapbox",
         "type": "scattermapbox"
        },
        {
         "customdata": [
          [
           16,
           7
          ]
         ],
         "hovertemplate": "properties.nom=MARCHE DE WAZEMMES<br>properties.y=%{lat}<br>properties.x=%{lon}<br>properties.nb_places_dispo=%{customdata[0]}<br>properties.nb_velos_dispo=%{customdata[1]}<extra></extra>",
         "lat": [
          50.627674
         ],
         "legendgroup": "MARCHE DE WAZEMMES",
         "lon": [
          3.050173
         ],
         "marker": {
          "color": "#FF97FF"
         },
         "mode": "markers",
         "name": "MARCHE DE WAZEMMES",
         "showlegend": true,
         "subplot": "mapbox",
         "type": "scattermapbox"
        },
        {
         "customdata": [
          [
           13,
           3
          ]
         ],
         "hovertemplate": "properties.nom=BUISSON<br>properties.y=%{lat}<br>properties.x=%{lon}<br>properties.nb_places_dispo=%{customdata[0]}<br>properties.nb_velos_dispo=%{customdata[1]}<extra></extra>",
         "lat": [
          50.656487
         ],
         "legendgroup": "BUISSON",
         "lon": [
          3.088004
         ],
         "marker": {
          "color": "#FECB52"
         },
         "mode": "markers",
         "name": "BUISSON",
         "showlegend": true,
         "subplot": "mapbox",
         "type": "scattermapbox"
        },
        {
         "customdata": [
          [
           0,
           18
          ]
         ],
         "hovertemplate": "properties.nom=PLACE PHILIPPE LEBON<br>properties.y=%{lat}<br>properties.x=%{lon}<br>properties.nb_places_dispo=%{customdata[0]}<br>properties.nb_velos_dispo=%{customdata[1]}<extra></extra>",
         "lat": [
          50.62789
         ],
         "legendgroup": "PLACE PHILIPPE LEBON",
         "lon": [
          3.06209
         ],
         "marker": {
          "color": "#636efa"
         },
         "mode": "markers",
         "name": "PLACE PHILIPPE LEBON",
         "showlegend": true,
         "subplot": "mapbox",
         "type": "scattermapbox"
        },
        {
         "customdata": [
          [
           9,
           9
          ]
         ],
         "hovertemplate": "properties.nom=BRULE MAISON<br>properties.y=%{lat}<br>properties.x=%{lon}<br>properties.nb_places_dispo=%{customdata[0]}<br>properties.nb_velos_dispo=%{customdata[1]}<extra></extra>",
         "lat": [
          50.62633
         ],
         "legendgroup": "BRULE MAISON",
         "lon": [
          3.05659
         ],
         "marker": {
          "color": "#EF553B"
         },
         "mode": "markers",
         "name": "BRULE MAISON",
         "showlegend": true,
         "subplot": "mapbox",
         "type": "scattermapbox"
        },
        {
         "customdata": [
          [
           1,
           0
          ]
         ],
         "hovertemplate": "properties.nom=ARTOIS<br>properties.y=%{lat}<br>properties.x=%{lon}<br>properties.nb_places_dispo=%{customdata[0]}<br>properties.nb_velos_dispo=%{customdata[1]}<extra></extra>",
         "lat": [
          50.62629
         ],
         "legendgroup": "ARTOIS",
         "lon": [
          3.061198
         ],
         "marker": {
          "color": "#00cc96"
         },
         "mode": "markers",
         "name": "ARTOIS",
         "showlegend": true,
         "subplot": "mapbox",
         "type": "scattermapbox"
        },
        {
         "customdata": [
          [
           14,
           12
          ]
         ],
         "hovertemplate": "properties.nom=BOULEVARD LOUIS XIV<br>properties.y=%{lat}<br>properties.x=%{lon}<br>properties.nb_places_dispo=%{customdata[0]}<br>properties.nb_velos_dispo=%{customdata[1]}<extra></extra>",
         "lat": [
          50.62816
         ],
         "legendgroup": "BOULEVARD LOUIS XIV",
         "lon": [
          3.069797
         ],
         "marker": {
          "color": "#ab63fa"
         },
         "mode": "markers",
         "name": "BOULEVARD LOUIS XIV",
         "showlegend": true,
         "subplot": "mapbox",
         "type": "scattermapbox"
        },
        {
         "customdata": [
          [
           4,
           22
          ]
         ],
         "hovertemplate": "properties.nom=PORTE DE DOUAI<br>properties.y=%{lat}<br>properties.x=%{lon}<br>properties.nb_places_dispo=%{customdata[0]}<br>properties.nb_velos_dispo=%{customdata[1]}<extra></extra>",
         "lat": [
          50.61843
         ],
         "legendgroup": "PORTE DE DOUAI",
         "lon": [
          3.07241
         ],
         "marker": {
          "color": "#FFA15A"
         },
         "mode": "markers",
         "name": "PORTE DE DOUAI",
         "showlegend": true,
         "subplot": "mapbox",
         "type": "scattermapbox"
        },
        {
         "customdata": [
          [
           10,
           14
          ]
         ],
         "hovertemplate": "properties.nom=PLACE DELIOT<br>properties.y=%{lat}<br>properties.x=%{lon}<br>properties.nb_places_dispo=%{customdata[0]}<br>properties.nb_velos_dispo=%{customdata[1]}<extra></extra>",
         "lat": [
          50.61957
         ],
         "legendgroup": "PLACE DELIOT",
         "lon": [
          3.068387
         ],
         "marker": {
          "color": "#19d3f3"
         },
         "mode": "markers",
         "name": "PLACE DELIOT",
         "showlegend": true,
         "subplot": "mapbox",
         "type": "scattermapbox"
        },
        {
         "customdata": [
          [
           15,
           10
          ]
         ],
         "hovertemplate": "properties.nom=RUE D'ARRAS<br>properties.y=%{lat}<br>properties.x=%{lon}<br>properties.nb_places_dispo=%{customdata[0]}<br>properties.nb_velos_dispo=%{customdata[1]}<extra></extra>",
         "lat": [
          50.62224
         ],
         "legendgroup": "RUE D'ARRAS",
         "lon": [
          3.067004
         ],
         "marker": {
          "color": "#FF6692"
         },
         "mode": "markers",
         "name": "RUE D'ARRAS",
         "showlegend": true,
         "subplot": "mapbox",
         "type": "scattermapbox"
        },
        {
         "customdata": [
          [
           31,
           9
          ]
         ],
         "hovertemplate": "properties.nom=JB LEBAS<br>properties.y=%{lat}<br>properties.x=%{lon}<br>properties.nb_places_dispo=%{customdata[0]}<br>properties.nb_velos_dispo=%{customdata[1]}<extra></extra>",
         "lat": [
          50.62482
         ],
         "legendgroup": "JB LEBAS",
         "lon": [
          3.068689
         ],
         "marker": {
          "color": "#B6E880"
         },
         "mode": "markers",
         "name": "JB LEBAS",
         "showlegend": true,
         "subplot": "mapbox",
         "type": "scattermapbox"
        },
        {
         "customdata": [
          [
           36,
           2
          ]
         ],
         "hovertemplate": "properties.nom=PORTE DES POSTES<br>properties.y=%{lat}<br>properties.x=%{lon}<br>properties.nb_places_dispo=%{customdata[0]}<br>properties.nb_velos_dispo=%{customdata[1]}<extra></extra>",
         "lat": [
          50.61856
         ],
         "legendgroup": "PORTE DES POSTES",
         "lon": [
          3.049251
         ],
         "marker": {
          "color": "#FF97FF"
         },
         "mode": "markers",
         "name": "PORTE DES POSTES",
         "showlegend": true,
         "subplot": "mapbox",
         "type": "scattermapbox"
        },
        {
         "customdata": [
          [
           7,
           13
          ]
         ],
         "hovertemplate": "properties.nom=METRO WAZEMMES<br>properties.y=%{lat}<br>properties.x=%{lon}<br>properties.nb_places_dispo=%{customdata[0]}<br>properties.nb_velos_dispo=%{customdata[1]}<extra></extra>",
         "lat": [
          50.62338
         ],
         "legendgroup": "METRO WAZEMMES",
         "lon": [
          3.051565
         ],
         "marker": {
          "color": "#FECB52"
         },
         "mode": "markers",
         "name": "METRO WAZEMMES",
         "showlegend": true,
         "subplot": "mapbox",
         "type": "scattermapbox"
        },
        {
         "customdata": [
          [
           9,
           9
          ]
         ],
         "hovertemplate": "properties.nom=BD VICTOR HUGO<br>properties.y=%{lat}<br>properties.x=%{lon}<br>properties.nb_places_dispo=%{customdata[0]}<br>properties.nb_velos_dispo=%{customdata[1]}<extra></extra>",
         "lat": [
          50.620304
         ],
         "legendgroup": "BD VICTOR HUGO",
         "lon": [
          3.055471
         ],
         "marker": {
          "color": "#636efa"
         },
         "mode": "markers",
         "name": "BD VICTOR HUGO",
         "showlegend": true,
         "subplot": "mapbox",
         "type": "scattermapbox"
        },
        {
         "customdata": [
          [
           6,
           12
          ]
         ],
         "hovertemplate": "properties.nom=BARTHELEMY DELESPAUL<br>properties.y=%{lat}<br>properties.x=%{lon}<br>properties.nb_places_dispo=%{customdata[0]}<br>properties.nb_velos_dispo=%{customdata[1]}<extra></extra>",
         "lat": [
          50.62418
         ],
         "legendgroup": "BARTHELEMY DELESPAUL",
         "lon": [
          3.058902
         ],
         "marker": {
          "color": "#EF553B"
         },
         "mode": "markers",
         "name": "BARTHELEMY DELESPAUL",
         "showlegend": true,
         "subplot": "mapbox",
         "type": "scattermapbox"
        },
        {
         "customdata": [
          [
           10,
           10
          ]
         ],
         "hovertemplate": "properties.nom=PORTE DE VALENCIENNES<br>properties.y=%{lat}<br>properties.x=%{lon}<br>properties.nb_places_dispo=%{customdata[0]}<br>properties.nb_velos_dispo=%{customdata[1]}<extra></extra>",
         "lat": [
          50.62073
         ],
         "legendgroup": "PORTE DE VALENCIENNES",
         "lon": [
          3.07895
         ],
         "marker": {
          "color": "#00cc96"
         },
         "mode": "markers",
         "name": "PORTE DE VALENCIENNES",
         "showlegend": true,
         "subplot": "mapbox",
         "type": "scattermapbox"
        },
        {
         "customdata": [
          [
           11,
           9
          ]
         ],
         "hovertemplate": "properties.nom=TREVISE<br>properties.y=%{lat}<br>properties.x=%{lon}<br>properties.nb_places_dispo=%{customdata[0]}<br>properties.nb_velos_dispo=%{customdata[1]}<extra></extra>",
         "lat": [
          50.621185
         ],
         "legendgroup": "TREVISE",
         "lon": [
          3.072363
         ],
         "marker": {
          "color": "#ab63fa"
         },
         "mode": "markers",
         "name": "TREVISE",
         "showlegend": true,
         "subplot": "mapbox",
         "type": "scattermapbox"
        },
        {
         "customdata": [
          [
           22,
           2
          ]
         ],
         "hovertemplate": "properties.nom=LILLE GRAND PALAIS<br>properties.y=%{lat}<br>properties.x=%{lon}<br>properties.nb_places_dispo=%{customdata[0]}<br>properties.nb_velos_dispo=%{customdata[1]}<extra></extra>",
         "lat": [
          50.629246
         ],
         "legendgroup": "LILLE GRAND PALAIS",
         "lon": [
          3.075218
         ],
         "marker": {
          "color": "#FFA15A"
         },
         "mode": "markers",
         "name": "LILLE GRAND PALAIS",
         "showlegend": true,
         "subplot": "mapbox",
         "type": "scattermapbox"
        },
        {
         "customdata": [
          [
           29,
           1
          ]
         ],
         "hovertemplate": "properties.nom=ZENITH<br>properties.y=%{lat}<br>properties.x=%{lon}<br>properties.nb_places_dispo=%{customdata[0]}<br>properties.nb_velos_dispo=%{customdata[1]}<extra></extra>",
         "lat": [
          50.632965
         ],
         "legendgroup": "ZENITH",
         "lon": [
          3.076437
         ],
         "marker": {
          "color": "#19d3f3"
         },
         "mode": "markers",
         "name": "ZENITH",
         "showlegend": true,
         "subplot": "mapbox",
         "type": "scattermapbox"
        },
        {
         "customdata": [
          [
           15,
           17
          ]
         ],
         "hovertemplate": "properties.nom=HOTEL DE REGION<br>properties.y=%{lat}<br>properties.x=%{lon}<br>properties.nb_places_dispo=%{customdata[0]}<br>properties.nb_velos_dispo=%{customdata[1]}<extra></extra>",
         "lat": [
          50.629738
         ],
         "legendgroup": "HOTEL DE REGION",
         "lon": [
          3.078224
         ],
         "marker": {
          "color": "#FF6692"
         },
         "mode": "markers",
         "name": "HOTEL DE REGION",
         "showlegend": true,
         "subplot": "mapbox",
         "type": "scattermapbox"
        },
        {
         "customdata": [
          [
           19,
           1
          ]
         ],
         "hovertemplate": "properties.nom=MAIRIE DE LILLE<br>properties.y=%{lat}<br>properties.x=%{lon}<br>properties.nb_places_dispo=%{customdata[0]}<br>properties.nb_velos_dispo=%{customdata[1]}<extra></extra>",
         "lat": [
          50.6318
         ],
         "legendgroup": "MAIRIE DE LILLE",
         "lon": [
          3.071392
         ],
         "marker": {
          "color": "#B6E880"
         },
         "mode": "markers",
         "name": "MAIRIE DE LILLE",
         "showlegend": true,
         "subplot": "mapbox",
         "type": "scattermapbox"
        },
        {
         "customdata": [
          [
           11,
           7
          ]
         ],
         "hovertemplate": "properties.nom=PLACE TACQ<br>properties.y=%{lat}<br>properties.x=%{lon}<br>properties.nb_places_dispo=%{customdata[0]}<br>properties.nb_velos_dispo=%{customdata[1]}<extra></extra>",
         "lat": [
          50.621128
         ],
         "legendgroup": "PLACE TACQ",
         "lon": [
          3.035483
         ],
         "marker": {
          "color": "#FF97FF"
         },
         "mode": "markers",
         "name": "PLACE TACQ",
         "showlegend": true,
         "subplot": "mapbox",
         "type": "scattermapbox"
        },
        {
         "customdata": [
          [
           8,
           10
          ]
         ],
         "hovertemplate": "properties.nom=DELESALLE MEDIATHEQUE<br>properties.y=%{lat}<br>properties.x=%{lon}<br>properties.nb_places_dispo=%{customdata[0]}<br>properties.nb_velos_dispo=%{customdata[1]}<extra></extra>",
         "lat": [
          50.63237
         ],
         "legendgroup": "DELESALLE MEDIATHEQUE",
         "lon": [
          3.066273
         ],
         "marker": {
          "color": "#FECB52"
         },
         "mode": "markers",
         "name": "DELESALLE MEDIATHEQUE",
         "showlegend": true,
         "subplot": "mapbox",
         "type": "scattermapbox"
        },
        {
         "customdata": [
          [
           16,
           8
          ]
         ],
         "hovertemplate": "properties.nom=MONTEBELLO<br>properties.y=%{lat}<br>properties.x=%{lon}<br>properties.nb_places_dispo=%{customdata[0]}<br>properties.nb_velos_dispo=%{customdata[1]}<extra></extra>",
         "lat": [
          50.621952
         ],
         "legendgroup": "MONTEBELLO",
         "lon": [
          3.04534
         ],
         "marker": {
          "color": "#636efa"
         },
         "mode": "markers",
         "name": "MONTEBELLO",
         "showlegend": true,
         "subplot": "mapbox",
         "type": "scattermapbox"
        },
        {
         "customdata": [
          [
           23,
           1
          ]
         ],
         "hovertemplate": "properties.nom=NATIONALE RUE DU PORT<br>properties.y=%{lat}<br>properties.x=%{lon}<br>properties.nb_places_dispo=%{customdata[0]}<br>properties.nb_velos_dispo=%{customdata[1]}<extra></extra>",
         "lat": [
          50.630836
         ],
         "legendgroup": "NATIONALE RUE DU PORT",
         "lon": [
          3.047778
         ],
         "marker": {
          "color": "#EF553B"
         },
         "mode": "markers",
         "name": "NATIONALE RUE DU PORT",
         "showlegend": true,
         "subplot": "mapbox",
         "type": "scattermapbox"
        },
        {
         "customdata": [
          [
           11,
           10
          ]
         ],
         "hovertemplate": "properties.nom=CHASSEURS DE DRIANT<br>properties.y=%{lat}<br>properties.x=%{lon}<br>properties.nb_places_dispo=%{customdata[0]}<br>properties.nb_velos_dispo=%{customdata[1]}<extra></extra>",
         "lat": [
          50.61893
         ],
         "legendgroup": "CHASSEURS DE DRIANT",
         "lon": [
          3.032539
         ],
         "marker": {
          "color": "#00cc96"
         },
         "mode": "markers",
         "name": "CHASSEURS DE DRIANT",
         "showlegend": true,
         "subplot": "mapbox",
         "type": "scattermapbox"
        },
        {
         "customdata": [
          [
           14,
           2
          ]
         ],
         "hovertemplate": "properties.nom=CITE ADMINISTRATIVE<br>properties.y=%{lat}<br>properties.x=%{lon}<br>properties.nb_places_dispo=%{customdata[0]}<br>properties.nb_velos_dispo=%{customdata[1]}<extra></extra>",
         "lat": [
          50.63424
         ],
         "legendgroup": "CITE ADMINISTRATIVE",
         "lon": [
          3.073991
         ],
         "marker": {
          "color": "#ab63fa"
         },
         "mode": "markers",
         "name": "CITE ADMINISTRATIVE",
         "showlegend": true,
         "subplot": "mapbox",
         "type": "scattermapbox"
        },
        {
         "customdata": [
          [
           2,
           16
          ]
         ],
         "hovertemplate": "properties.nom=CANTELEU<br>properties.y=%{lat}<br>properties.x=%{lon}<br>properties.nb_places_dispo=%{customdata[0]}<br>properties.nb_velos_dispo=%{customdata[1]}<extra></extra>",
         "lat": [
          50.637302
         ],
         "legendgroup": "CANTELEU",
         "lon": [
          3.024314
         ],
         "marker": {
          "color": "#FFA15A"
         },
         "mode": "markers",
         "name": "CANTELEU",
         "showlegend": true,
         "subplot": "mapbox",
         "type": "scattermapbox"
        },
        {
         "customdata": [
          [
           15,
           9
          ]
         ],
         "hovertemplate": "properties.nom=ST MAURICE PELLEVOISIN<br>properties.y=%{lat}<br>properties.x=%{lon}<br>properties.nb_places_dispo=%{customdata[0]}<br>properties.nb_velos_dispo=%{customdata[1]}<extra></extra>",
         "lat": [
          50.642315
         ],
         "legendgroup": "ST MAURICE PELLEVOISIN",
         "lon": [
          3.087979
         ],
         "marker": {
          "color": "#19d3f3"
         },
         "mode": "markers",
         "name": "ST MAURICE PELLEVOISIN",
         "showlegend": true,
         "subplot": "mapbox",
         "type": "scattermapbox"
        },
        {
         "customdata": [
          [
           5,
           15
          ]
         ],
         "hovertemplate": "properties.nom=FAUBOURG DE ROUBAIX<br>properties.y=%{lat}<br>properties.x=%{lon}<br>properties.nb_places_dispo=%{customdata[0]}<br>properties.nb_velos_dispo=%{customdata[1]}<extra></extra>",
         "lat": [
          50.641238
         ],
         "legendgroup": "FAUBOURG DE ROUBAIX",
         "lon": [
          3.083175
         ],
         "marker": {
          "color": "#FF6692"
         },
         "mode": "markers",
         "name": "FAUBOURG DE ROUBAIX",
         "showlegend": true,
         "subplot": "mapbox",
         "type": "scattermapbox"
        },
        {
         "customdata": [
          [
           14,
           7
          ]
         ],
         "hovertemplate": "properties.nom=EUGENE JACQUET<br>properties.y=%{lat}<br>properties.x=%{lon}<br>properties.nb_places_dispo=%{customdata[0]}<br>properties.nb_velos_dispo=%{customdata[1]}<extra></extra>",
         "lat": [
          50.637337
         ],
         "legendgroup": "EUGENE JACQUET",
         "lon": [
          3.084894
         ],
         "marker": {
          "color": "#B6E880"
         },
         "mode": "markers",
         "name": "EUGENE JACQUET",
         "showlegend": true,
         "subplot": "mapbox",
         "type": "scattermapbox"
        },
        {
         "customdata": [
          [
           8,
           16
          ]
         ],
         "hovertemplate": "properties.nom=FIVES<br>properties.y=%{lat}<br>properties.x=%{lon}<br>properties.nb_places_dispo=%{customdata[0]}<br>properties.nb_velos_dispo=%{customdata[1]}<extra></extra>",
         "lat": [
          50.632996
         ],
         "legendgroup": "FIVES",
         "lon": [
          3.089651
         ],
         "marker": {
          "color": "#FF97FF"
         },
         "mode": "markers",
         "name": "FIVES",
         "showlegend": true,
         "subplot": "mapbox",
         "type": "scattermapbox"
        },
        {
         "customdata": [
          [
           18,
           0
          ]
         ],
         "hovertemplate": "properties.nom=MONT DE TERRE<br>properties.y=%{lat}<br>properties.x=%{lon}<br>properties.nb_places_dispo=%{customdata[0]}<br>properties.nb_velos_dispo=%{customdata[1]}<extra></extra>",
         "lat": [
          50.62286
         ],
         "legendgroup": "MONT DE TERRE",
         "lon": [
          3.0914
         ],
         "marker": {
          "color": "#FECB52"
         },
         "mode": "markers",
         "name": "MONT DE TERRE",
         "showlegend": true,
         "subplot": "mapbox",
         "type": "scattermapbox"
        },
        {
         "customdata": [
          [
           15,
           3
          ]
         ],
         "hovertemplate": "properties.nom=HOTEL DE POLICE<br>properties.y=%{lat}<br>properties.x=%{lon}<br>properties.nb_places_dispo=%{customdata[0]}<br>properties.nb_velos_dispo=%{customdata[1]}<extra></extra>",
         "lat": [
          50.615536
         ],
         "legendgroup": "HOTEL DE POLICE",
         "lon": [
          3.048518
         ],
         "marker": {
          "color": "#636efa"
         },
         "mode": "markers",
         "name": "HOTEL DE POLICE",
         "showlegend": true,
         "subplot": "mapbox",
         "type": "scattermapbox"
        },
        {
         "customdata": [
          [
           11,
           9
          ]
         ],
         "hovertemplate": "properties.nom=CIMETIERE DU SUD<br>properties.y=%{lat}<br>properties.x=%{lon}<br>properties.nb_places_dispo=%{customdata[0]}<br>properties.nb_velos_dispo=%{customdata[1]}<extra></extra>",
         "lat": [
          50.61295
         ],
         "legendgroup": "CIMETIERE DU SUD",
         "lon": [
          3.047268
         ],
         "marker": {
          "color": "#EF553B"
         },
         "mode": "markers",
         "name": "CIMETIERE DU SUD",
         "showlegend": true,
         "subplot": "mapbox",
         "type": "scattermapbox"
        },
        {
         "customdata": [
          [
           20,
           10
          ]
         ],
         "hovertemplate": "properties.nom=PETIT MAROC<br>properties.y=%{lat}<br>properties.x=%{lon}<br>properties.nb_places_dispo=%{customdata[0]}<br>properties.nb_velos_dispo=%{customdata[1]}<extra></extra>",
         "lat": [
          50.61989
         ],
         "legendgroup": "PETIT MAROC",
         "lon": [
          3.084357
         ],
         "marker": {
          "color": "#00cc96"
         },
         "mode": "markers",
         "name": "PETIT MAROC",
         "showlegend": true,
         "subplot": "mapbox",
         "type": "scattermapbox"
        },
        {
         "customdata": [
          [
           4,
           6
          ]
         ],
         "hovertemplate": "properties.nom=GUINGUETTE<br>properties.y=%{lat}<br>properties.x=%{lon}<br>properties.nb_places_dispo=%{customdata[0]}<br>properties.nb_velos_dispo=%{customdata[1]}<extra></extra>",
         "lat": [
          50.63529
         ],
         "legendgroup": "GUINGUETTE",
         "lon": [
          3.115088
         ],
         "marker": {
          "color": "#ab63fa"
         },
         "mode": "markers",
         "name": "GUINGUETTE",
         "showlegend": true,
         "subplot": "mapbox",
         "type": "scattermapbox"
        },
        {
         "customdata": [
          [
           31,
           1
          ]
         ],
         "hovertemplate": "properties.nom=GARE LILLE EUROPE<br>properties.y=%{lat}<br>properties.x=%{lon}<br>properties.nb_places_dispo=%{customdata[0]}<br>properties.nb_velos_dispo=%{customdata[1]}<extra></extra>",
         "lat": [
          50.63999
         ],
         "legendgroup": "GARE LILLE EUROPE",
         "lon": [
          3.075204
         ],
         "marker": {
          "color": "#FFA15A"
         },
         "mode": "markers",
         "name": "GARE LILLE EUROPE",
         "showlegend": true,
         "subplot": "mapbox",
         "type": "scattermapbox"
        },
        {
         "customdata": [
          [
           17,
           7
          ]
         ],
         "hovertemplate": "properties.nom=EURATECHNOLOGIES<br>properties.y=%{lat}<br>properties.x=%{lon}<br>properties.nb_places_dispo=%{customdata[0]}<br>properties.nb_velos_dispo=%{customdata[1]}<extra></extra>",
         "lat": [
          50.63378
         ],
         "legendgroup": "EURATECHNOLOGIES",
         "lon": [
          3.02059
         ],
         "marker": {
          "color": "#19d3f3"
         },
         "mode": "markers",
         "name": "EURATECHNOLOGIES",
         "showlegend": true,
         "subplot": "mapbox",
         "type": "scattermapbox"
        },
        {
         "customdata": [
          [
           7,
           17
          ]
         ],
         "hovertemplate": "properties.nom=MAIRIE D'HELLEMMES<br>properties.y=%{lat}<br>properties.x=%{lon}<br>properties.nb_places_dispo=%{customdata[0]}<br>properties.nb_velos_dispo=%{customdata[1]}<extra></extra>",
         "lat": [
          50.627243
         ],
         "legendgroup": "MAIRIE D'HELLEMMES",
         "lon": [
          3.109266
         ],
         "marker": {
          "color": "#FF6692"
         },
         "mode": "markers",
         "name": "MAIRIE D'HELLEMMES",
         "showlegend": true,
         "subplot": "mapbox",
         "type": "scattermapbox"
        },
        {
         "customdata": [
          [
           3,
           9
          ]
         ],
         "hovertemplate": "properties.nom=CHANZY<br>properties.y=%{lat}<br>properties.x=%{lon}<br>properties.nb_places_dispo=%{customdata[0]}<br>properties.nb_velos_dispo=%{customdata[1]}<extra></extra>",
         "lat": [
          50.62504
         ],
         "legendgroup": "CHANZY",
         "lon": [
          3.1008
         ],
         "marker": {
          "color": "#B6E880"
         },
         "mode": "markers",
         "name": "CHANZY",
         "showlegend": true,
         "subplot": "mapbox",
         "type": "scattermapbox"
        },
        {
         "customdata": [
          [
           3,
           9
          ]
         ],
         "hovertemplate": "properties.nom=ROGER SALENGRO<br>properties.y=%{lat}<br>properties.x=%{lon}<br>properties.nb_places_dispo=%{customdata[0]}<br>properties.nb_velos_dispo=%{customdata[1]}<extra></extra>",
         "lat": [
          50.62903
         ],
         "legendgroup": "ROGER SALENGRO",
         "lon": [
          3.10295
         ],
         "marker": {
          "color": "#FF97FF"
         },
         "mode": "markers",
         "name": "ROGER SALENGRO",
         "showlegend": true,
         "subplot": "mapbox",
         "type": "scattermapbox"
        },
        {
         "customdata": [
          [
           20,
           10
          ]
         ],
         "hovertemplate": "properties.nom=RUE NATIONALE<br>properties.y=%{lat}<br>properties.x=%{lon}<br>properties.nb_places_dispo=%{customdata[0]}<br>properties.nb_velos_dispo=%{customdata[1]}<extra></extra>",
         "lat": [
          50.635082
         ],
         "legendgroup": "RUE NATIONALE",
         "lon": [
          3.058015
         ],
         "marker": {
          "color": "#FECB52"
         },
         "mode": "markers",
         "name": "RUE NATIONALE",
         "showlegend": true,
         "subplot": "mapbox",
         "type": "scattermapbox"
        },
        {
         "customdata": [
          [
           17,
           3
          ]
         ],
         "hovertemplate": "properties.nom=LOUVIERE<br>properties.y=%{lat}<br>properties.x=%{lon}<br>properties.nb_places_dispo=%{customdata[0]}<br>properties.nb_velos_dispo=%{customdata[1]}<extra></extra>",
         "lat": [
          50.64569
         ],
         "legendgroup": "LOUVIERE",
         "lon": [
          3.0858226
         ],
         "marker": {
          "color": "#636efa"
         },
         "mode": "markers",
         "name": "LOUVIERE",
         "showlegend": true,
         "subplot": "mapbox",
         "type": "scattermapbox"
        },
        {
         "customdata": [
          [
           1,
           24
          ]
         ],
         "hovertemplate": "properties.nom=SQUARE DES MERES<br>properties.y=%{lat}<br>properties.x=%{lon}<br>properties.nb_places_dispo=%{customdata[0]}<br>properties.nb_velos_dispo=%{customdata[1]}<extra></extra>",
         "lat": [
          50.63417
         ],
         "legendgroup": "SQUARE DES MERES",
         "lon": [
          3.095958
         ],
         "marker": {
          "color": "#EF553B"
         },
         "mode": "markers",
         "name": "SQUARE DES MERES",
         "showlegend": true,
         "subplot": "mapbox",
         "type": "scattermapbox"
        },
        {
         "customdata": [
          [
           3,
           15
          ]
         ],
         "hovertemplate": "properties.nom=STADE BALLET<br>properties.y=%{lat}<br>properties.x=%{lon}<br>properties.nb_places_dispo=%{customdata[0]}<br>properties.nb_velos_dispo=%{customdata[1]}<extra></extra>",
         "lat": [
          50.628918
         ],
         "legendgroup": "STADE BALLET",
         "lon": [
          3.088147
         ],
         "marker": {
          "color": "#00cc96"
         },
         "mode": "markers",
         "name": "STADE BALLET",
         "showlegend": true,
         "subplot": "mapbox",
         "type": "scattermapbox"
        },
        {
         "customdata": [
          [
           20,
           4
          ]
         ],
         "hovertemplate": "properties.nom=MARX DORMOY<br>properties.y=%{lat}<br>properties.x=%{lon}<br>properties.nb_places_dispo=%{customdata[0]}<br>properties.nb_velos_dispo=%{customdata[1]}<extra></extra>",
         "lat": [
          50.63579
         ],
         "legendgroup": "MARX DORMOY",
         "lon": [
          3.033977
         ],
         "marker": {
          "color": "#ab63fa"
         },
         "mode": "markers",
         "name": "MARX DORMOY",
         "showlegend": true,
         "subplot": "mapbox",
         "type": "scattermapbox"
        },
        {
         "customdata": [
          [
           7,
           11
          ]
         ],
         "hovertemplate": "properties.nom=MARBRERIE<br>properties.y=%{lat}<br>properties.x=%{lon}<br>properties.nb_places_dispo=%{customdata[0]}<br>properties.nb_velos_dispo=%{customdata[1]}<extra></extra>",
         "lat": [
          50.63041
         ],
         "legendgroup": "MARBRERIE",
         "lon": [
          3.097037
         ],
         "marker": {
          "color": "#FFA15A"
         },
         "mode": "markers",
         "name": "MARBRERIE",
         "showlegend": true,
         "subplot": "mapbox",
         "type": "scattermapbox"
        },
        {
         "customdata": [
          [
           19,
           8
          ]
         ],
         "hovertemplate": "properties.nom=ROMARIN<br>properties.y=%{lat}<br>properties.x=%{lon}<br>properties.nb_places_dispo=%{customdata[0]}<br>properties.nb_velos_dispo=%{customdata[1]}<extra></extra>",
         "lat": [
          50.64543
         ],
         "legendgroup": "ROMARIN",
         "lon": [
          3.075116
         ],
         "marker": {
          "color": "#19d3f3"
         },
         "mode": "markers",
         "name": "ROMARIN",
         "showlegend": true,
         "subplot": "mapbox",
         "type": "scattermapbox"
        },
        {
         "customdata": [
          [
           17,
           0
          ]
         ],
         "hovertemplate": "properties.nom=LA MADELEINE GARE<br>properties.y=%{lat}<br>properties.x=%{lon}<br>properties.nb_places_dispo=%{customdata[0]}<br>properties.nb_velos_dispo=%{customdata[1]}<extra></extra>",
         "lat": [
          50.65937
         ],
         "legendgroup": "LA MADELEINE GARE",
         "lon": [
          3.074057
         ],
         "marker": {
          "color": "#FF6692"
         },
         "mode": "markers",
         "name": "LA MADELEINE GARE",
         "showlegend": true,
         "subplot": "mapbox",
         "type": "scattermapbox"
        },
        {
         "customdata": [
          [
           12,
           8
          ]
         ],
         "hovertemplate": "properties.nom=PLACE DU MARCHE<br>properties.y=%{lat}<br>properties.x=%{lon}<br>properties.nb_places_dispo=%{customdata[0]}<br>properties.nb_velos_dispo=%{customdata[1]}<extra></extra>",
         "lat": [
          50.6549
         ],
         "legendgroup": "PLACE DU MARCHE",
         "lon": [
          3.068756
         ],
         "marker": {
          "color": "#B6E880"
         },
         "mode": "markers",
         "name": "PLACE DU MARCHE",
         "showlegend": true,
         "subplot": "mapbox",
         "type": "scattermapbox"
        },
        {
         "customdata": [
          [
           12,
           12
          ]
         ],
         "hovertemplate": "properties.nom=LA MADELEINE MAIRIE<br>properties.y=%{lat}<br>properties.x=%{lon}<br>properties.nb_places_dispo=%{customdata[0]}<br>properties.nb_velos_dispo=%{customdata[1]}<extra></extra>",
         "lat": [
          50.654602
         ],
         "legendgroup": "LA MADELEINE MAIRIE",
         "lon": [
          3.073805
         ],
         "marker": {
          "color": "#FF97FF"
         },
         "mode": "markers",
         "name": "LA MADELEINE MAIRIE",
         "showlegend": true,
         "subplot": "mapbox",
         "type": "scattermapbox"
        },
        {
         "customdata": [
          [
           21,
           3
          ]
         ],
         "hovertemplate": "properties.nom=SAINT MAUR<br>properties.y=%{lat}<br>properties.x=%{lon}<br>properties.nb_places_dispo=%{customdata[0]}<br>properties.nb_velos_dispo=%{customdata[1]}<extra></extra>",
         "lat": [
          50.651638
         ],
         "legendgroup": "SAINT MAUR",
         "lon": [
          3.081625
         ],
         "marker": {
          "color": "#FECB52"
         },
         "mode": "markers",
         "name": "SAINT MAUR",
         "showlegend": true,
         "subplot": "mapbox",
         "type": "scattermapbox"
        },
        {
         "customdata": [
          [
           21,
           3
          ]
         ],
         "hovertemplate": "properties.nom=MONS SARTS<br>properties.y=%{lat}<br>properties.x=%{lon}<br>properties.nb_places_dispo=%{customdata[0]}<br>properties.nb_velos_dispo=%{customdata[1]}<extra></extra>",
         "lat": [
          50.6423
         ],
         "legendgroup": "MONS SARTS",
         "lon": [
          3.099291
         ],
         "marker": {
          "color": "#636efa"
         },
         "mode": "markers",
         "name": "MONS SARTS",
         "showlegend": true,
         "subplot": "mapbox",
         "type": "scattermapbox"
        },
        {
         "customdata": [
          [
           16,
           0
          ]
         ],
         "hovertemplate": "properties.nom=MAIRIE DE MONS<br>properties.y=%{lat}<br>properties.x=%{lon}<br>properties.nb_places_dispo=%{customdata[0]}<br>properties.nb_velos_dispo=%{customdata[1]}<extra></extra>",
         "lat": [
          50.64218
         ],
         "legendgroup": "MAIRIE DE MONS",
         "lon": [
          3.109699
         ],
         "marker": {
          "color": "#EF553B"
         },
         "mode": "markers",
         "name": "MAIRIE DE MONS",
         "showlegend": true,
         "subplot": "mapbox",
         "type": "scattermapbox"
        },
        {
         "customdata": [
          [
           9,
           7
          ]
         ],
         "hovertemplate": "properties.nom=LACORDAIRE<br>properties.y=%{lat}<br>properties.x=%{lon}<br>properties.nb_places_dispo=%{customdata[0]}<br>properties.nb_velos_dispo=%{customdata[1]}<extra></extra>",
         "lat": [
          50.639828
         ],
         "legendgroup": "LACORDAIRE",
         "lon": [
          3.106677
         ],
         "marker": {
          "color": "#00cc96"
         },
         "mode": "markers",
         "name": "LACORDAIRE",
         "showlegend": true,
         "subplot": "mapbox",
         "type": "scattermapbox"
        },
        {
         "customdata": [
          [
           12,
           6
          ]
         ],
         "hovertemplate": "properties.nom=MENDES FRANCE<br>properties.y=%{lat}<br>properties.x=%{lon}<br>properties.nb_places_dispo=%{customdata[0]}<br>properties.nb_velos_dispo=%{customdata[1]}<extra></extra>",
         "lat": [
          50.64584
         ],
         "legendgroup": "MENDES FRANCE",
         "lon": [
          3.112744
         ],
         "marker": {
          "color": "#ab63fa"
         },
         "mode": "markers",
         "name": "MENDES FRANCE",
         "showlegend": true,
         "subplot": "mapbox",
         "type": "scattermapbox"
        },
        {
         "customdata": [
          [
           1,
           11
          ]
         ],
         "hovertemplate": "properties.nom=LAVOISIER<br>properties.y=%{lat}<br>properties.x=%{lon}<br>properties.nb_places_dispo=%{customdata[0]}<br>properties.nb_velos_dispo=%{customdata[1]}<extra></extra>",
         "lat": [
          50.636105
         ],
         "legendgroup": "LAVOISIER",
         "lon": [
          3.106438
         ],
         "marker": {
          "color": "#FFA15A"
         },
         "mode": "markers",
         "name": "LAVOISIER",
         "showlegend": true,
         "subplot": "mapbox",
         "type": "scattermapbox"
        },
        {
         "customdata": [
          [
           12,
           8
          ]
         ],
         "hovertemplate": "properties.nom=GENERAL DE GAULLE<br>properties.y=%{lat}<br>properties.x=%{lon}<br>properties.nb_places_dispo=%{customdata[0]}<br>properties.nb_velos_dispo=%{customdata[1]}<extra></extra>",
         "lat": [
          50.645267
         ],
         "legendgroup": "GENERAL DE GAULLE",
         "lon": [
          3.100516
         ],
         "marker": {
          "color": "#19d3f3"
         },
         "mode": "markers",
         "name": "GENERAL DE GAULLE",
         "showlegend": true,
         "subplot": "mapbox",
         "type": "scattermapbox"
        },
        {
         "customdata": [
          [
           14,
           2
          ]
         ],
         "hovertemplate": "properties.nom=RUE BONTE-POLLET<br>properties.y=%{lat}<br>properties.x=%{lon}<br>properties.nb_places_dispo=%{customdata[0]}<br>properties.nb_velos_dispo=%{customdata[1]}<extra></extra>",
         "lat": [
          50.62487
         ],
         "legendgroup": "RUE BONTE-POLLET",
         "lon": [
          3.034234
         ],
         "marker": {
          "color": "#FF6692"
         },
         "mode": "markers",
         "name": "RUE BONTE-POLLET",
         "showlegend": true,
         "subplot": "mapbox",
         "type": "scattermapbox"
        },
        {
         "customdata": [
          [
           6,
           6
          ]
         ],
         "hovertemplate": "properties.nom=HELLEMMES CIMETIERE<br>properties.y=%{lat}<br>properties.x=%{lon}<br>properties.nb_places_dispo=%{customdata[0]}<br>properties.nb_velos_dispo=%{customdata[1]}<extra></extra>",
         "lat": [
          50.62486
         ],
         "legendgroup": "HELLEMMES CIMETIERE",
         "lon": [
          3.116677
         ],
         "marker": {
          "color": "#B6E880"
         },
         "mode": "markers",
         "name": "HELLEMMES CIMETIERE",
         "showlegend": true,
         "subplot": "mapbox",
         "type": "scattermapbox"
        },
        {
         "customdata": [
          [
           10,
           8
          ]
         ],
         "hovertemplate": "properties.nom=AVENUE DE MORMAL<br>properties.y=%{lat}<br>properties.x=%{lon}<br>properties.nb_places_dispo=%{customdata[0]}<br>properties.nb_velos_dispo=%{customdata[1]}<extra></extra>",
         "lat": [
          50.651337
         ],
         "legendgroup": "AVENUE DE MORMAL",
         "lon": [
          3.08945
         ],
         "marker": {
          "color": "#FF97FF"
         },
         "mode": "markers",
         "name": "AVENUE DE MORMAL",
         "showlegend": true,
         "subplot": "mapbox",
         "type": "scattermapbox"
        },
        {
         "customdata": [
          [
           15,
           2
          ]
         ],
         "hovertemplate": "properties.nom=BOIS HABITE<br>properties.y=%{lat}<br>properties.x=%{lon}<br>properties.nb_places_dispo=%{customdata[0]}<br>properties.nb_velos_dispo=%{customdata[1]}<extra></extra>",
         "lat": [
          50.62651
         ],
         "legendgroup": "BOIS HABITE",
         "lon": [
          3.079211
         ],
         "marker": {
          "color": "#FECB52"
         },
         "mode": "markers",
         "name": "BOIS HABITE",
         "showlegend": true,
         "subplot": "mapbox",
         "type": "scattermapbox"
        },
        {
         "customdata": [
          [
           3,
           15
          ]
         ],
         "hovertemplate": "properties.nom=DE GAULLE<br>properties.y=%{lat}<br>properties.x=%{lon}<br>properties.nb_places_dispo=%{customdata[0]}<br>properties.nb_velos_dispo=%{customdata[1]}<extra></extra>",
         "lat": [
          50.651497
         ],
         "legendgroup": "DE GAULLE",
         "lon": [
          3.072316
         ],
         "marker": {
          "color": "#636efa"
         },
         "mode": "markers",
         "name": "DE GAULLE",
         "showlegend": true,
         "subplot": "mapbox",
         "type": "scattermapbox"
        },
        {
         "customdata": [
          [
           14,
           2
          ]
         ],
         "hovertemplate": "properties.nom=BOTANIQUE<br>properties.y=%{lat}<br>properties.x=%{lon}<br>properties.nb_places_dispo=%{customdata[0]}<br>properties.nb_velos_dispo=%{customdata[1]}<extra></extra>",
         "lat": [
          50.64891
         ],
         "legendgroup": "BOTANIQUE",
         "lon": [
          3.078336
         ],
         "marker": {
          "color": "#EF553B"
         },
         "mode": "markers",
         "name": "BOTANIQUE",
         "showlegend": true,
         "subplot": "mapbox",
         "type": "scattermapbox"
        },
        {
         "customdata": [
          [
           1,
           20
          ]
         ],
         "hovertemplate": "properties.nom=HIPPODROME<br>properties.y=%{lat}<br>properties.x=%{lon}<br>properties.nb_places_dispo=%{customdata[0]}<br>properties.nb_velos_dispo=%{customdata[1]}<extra></extra>",
         "lat": [
          50.641617
         ],
         "legendgroup": "HIPPODROME",
         "lon": [
          3.031375
         ],
         "marker": {
          "color": "#00cc96"
         },
         "mode": "markers",
         "name": "HIPPODROME",
         "showlegend": true,
         "subplot": "mapbox",
         "type": "scattermapbox"
        },
        {
         "customdata": [
          [
           1,
           17
          ]
         ],
         "hovertemplate": "properties.nom=LOMME-LAMBERSART<br>properties.y=%{lat}<br>properties.x=%{lon}<br>properties.nb_places_dispo=%{customdata[0]}<br>properties.nb_velos_dispo=%{customdata[1]}<extra></extra>",
         "lat": [
          50.640957
         ],
         "legendgroup": "LOMME-LAMBERSART",
         "lon": [
          3.018803
         ],
         "marker": {
          "color": "#ab63fa"
         },
         "mode": "markers",
         "name": "LOMME-LAMBERSART",
         "showlegend": true,
         "subplot": "mapbox",
         "type": "scattermapbox"
        },
        {
         "customdata": [
          [
           1,
           17
          ]
         ],
         "hovertemplate": "properties.nom=LOMME MAIRIE<br>properties.y=%{lat}<br>properties.x=%{lon}<br>properties.nb_places_dispo=%{customdata[0]}<br>properties.nb_velos_dispo=%{customdata[1]}<extra></extra>",
         "lat": [
          50.63899
         ],
         "legendgroup": "LOMME MAIRIE",
         "lon": [
          3.01154
         ],
         "marker": {
          "color": "#FFA15A"
         },
         "mode": "markers",
         "name": "LOMME MAIRIE",
         "showlegend": true,
         "subplot": "mapbox",
         "type": "scattermapbox"
        },
        {
         "customdata": [
          [
           5,
           11
          ]
         ],
         "hovertemplate": "properties.nom=PONT SUPERIEUR<br>properties.y=%{lat}<br>properties.x=%{lon}<br>properties.nb_places_dispo=%{customdata[0]}<br>properties.nb_velos_dispo=%{customdata[1]}<extra></extra>",
         "lat": [
          50.644855
         ],
         "legendgroup": "PONT SUPERIEUR",
         "lon": [
          3.013238
         ],
         "marker": {
          "color": "#19d3f3"
         },
         "mode": "markers",
         "name": "PONT SUPERIEUR",
         "showlegend": true,
         "subplot": "mapbox",
         "type": "scattermapbox"
        },
        {
         "customdata": [
          [
           6,
           10
          ]
         ],
         "hovertemplate": "properties.nom=PISCINE DE MARCQ<br>properties.y=%{lat}<br>properties.x=%{lon}<br>properties.nb_places_dispo=%{customdata[0]}<br>properties.nb_velos_dispo=%{customdata[1]}<extra></extra>",
         "lat": [
          50.666033
         ],
         "legendgroup": "PISCINE DE MARCQ",
         "lon": [
          3.087591
         ],
         "marker": {
          "color": "#FF6692"
         },
         "mode": "markers",
         "name": "PISCINE DE MARCQ",
         "showlegend": true,
         "subplot": "mapbox",
         "type": "scattermapbox"
        },
        {
         "customdata": [
          [
           5,
           12
          ]
         ],
         "hovertemplate": "properties.nom=RUE DE L'EGLISE<br>properties.y=%{lat}<br>properties.x=%{lon}<br>properties.nb_places_dispo=%{customdata[0]}<br>properties.nb_velos_dispo=%{customdata[1]}<extra></extra>",
         "lat": [
          50.665348
         ],
         "legendgroup": "RUE DE L'EGLISE",
         "lon": [
          3.075792
         ],
         "marker": {
          "color": "#B6E880"
         },
         "mode": "markers",
         "name": "RUE DE L'EGLISE",
         "showlegend": true,
         "subplot": "mapbox",
         "type": "scattermapbox"
        },
        {
         "customdata": [
          [
           16,
           2
          ]
         ],
         "hovertemplate": "properties.nom=CLEMENCEAU HIPPODROME<br>properties.y=%{lat}<br>properties.x=%{lon}<br>properties.nb_places_dispo=%{customdata[0]}<br>properties.nb_velos_dispo=%{customdata[1]}<extra></extra>",
         "lat": [
          50.6618
         ],
         "legendgroup": "CLEMENCEAU HIPPODROME",
         "lon": [
          3.096235
         ],
         "marker": {
          "color": "#FF97FF"
         },
         "mode": "markers",
         "name": "CLEMENCEAU HIPPODROME",
         "showlegend": true,
         "subplot": "mapbox",
         "type": "scattermapbox"
        },
        {
         "customdata": [
          [
           12,
           8
          ]
         ],
         "hovertemplate": "properties.nom=FORT DE MONS<br>properties.y=%{lat}<br>properties.x=%{lon}<br>properties.nb_places_dispo=%{customdata[0]}<br>properties.nb_velos_dispo=%{customdata[1]}<extra></extra>",
         "lat": [
          50.643883
         ],
         "legendgroup": "FORT DE MONS",
         "lon": [
          3.118579
         ],
         "marker": {
          "color": "#FECB52"
         },
         "mode": "markers",
         "name": "FORT DE MONS",
         "showlegend": true,
         "subplot": "mapbox",
         "type": "scattermapbox"
        },
        {
         "customdata": [
          [
           11,
           19
          ]
         ],
         "hovertemplate": "properties.nom=PONT DE BOIS<br>properties.y=%{lat}<br>properties.x=%{lon}<br>properties.nb_places_dispo=%{customdata[0]}<br>properties.nb_velos_dispo=%{customdata[1]}<extra></extra>",
         "lat": [
          50.62435
         ],
         "legendgroup": "PONT DE BOIS",
         "lon": [
          3.1283
         ],
         "marker": {
          "color": "#636efa"
         },
         "mode": "markers",
         "name": "PONT DE BOIS",
         "showlegend": true,
         "subplot": "mapbox",
         "type": "scattermapbox"
        },
        {
         "customdata": [
          [
           14,
           10
          ]
         ],
         "hovertemplate": "properties.nom=V.ASCQ HOTEL DE VILLE<br>properties.y=%{lat}<br>properties.x=%{lon}<br>properties.nb_places_dispo=%{customdata[0]}<br>properties.nb_velos_dispo=%{customdata[1]}<extra></extra>",
         "lat": [
          50.619602
         ],
         "legendgroup": "V.ASCQ HOTEL DE VILLE",
         "lon": [
          3.13197
         ],
         "marker": {
          "color": "#EF553B"
         },
         "mode": "markers",
         "name": "V.ASCQ HOTEL DE VILLE",
         "showlegend": true,
         "subplot": "mapbox",
         "type": "scattermapbox"
        },
        {
         "customdata": [
          [
           12,
           7
          ]
         ],
         "hovertemplate": "properties.nom=CENTRE COMMERCIAL V2<br>properties.y=%{lat}<br>properties.x=%{lon}<br>properties.nb_places_dispo=%{customdata[0]}<br>properties.nb_velos_dispo=%{customdata[1]}<extra></extra>",
         "lat": [
          50.61606
         ],
         "legendgroup": "CENTRE COMMERCIAL V2",
         "lon": [
          3.132006
         ],
         "marker": {
          "color": "#00cc96"
         },
         "mode": "markers",
         "name": "CENTRE COMMERCIAL V2",
         "showlegend": true,
         "subplot": "mapbox",
         "type": "scattermapbox"
        },
        {
         "customdata": [
          [
           9,
           9
          ]
         ],
         "hovertemplate": "properties.nom=BOULEVARD DE VALMY<br>properties.y=%{lat}<br>properties.x=%{lon}<br>properties.nb_places_dispo=%{customdata[0]}<br>properties.nb_velos_dispo=%{customdata[1]}<extra></extra>",
         "lat": [
          50.61915
         ],
         "legendgroup": "BOULEVARD DE VALMY",
         "lon": [
          3.126501
         ],
         "marker": {
          "color": "#ab63fa"
         },
         "mode": "markers",
         "name": "BOULEVARD DE VALMY",
         "showlegend": true,
         "subplot": "mapbox",
         "type": "scattermapbox"
        },
        {
         "customdata": [
          [
           18,
           6
          ]
         ],
         "hovertemplate": "properties.nom=FLERS MASQUELIER<br>properties.y=%{lat}<br>properties.x=%{lon}<br>properties.nb_places_dispo=%{customdata[0]}<br>properties.nb_velos_dispo=%{customdata[1]}<extra></extra>",
         "lat": [
          50.63745
         ],
         "legendgroup": "FLERS MASQUELIER",
         "lon": [
          3.123145
         ],
         "marker": {
          "color": "#FFA15A"
         },
         "mode": "markers",
         "name": "FLERS MASQUELIER",
         "showlegend": true,
         "subplot": "mapbox",
         "type": "scattermapbox"
        },
        {
         "customdata": [
          [
           23,
           7
          ]
         ],
         "hovertemplate": "properties.nom=HERON PARC<br>properties.y=%{lat}<br>properties.x=%{lon}<br>properties.nb_places_dispo=%{customdata[0]}<br>properties.nb_velos_dispo=%{customdata[1]}<extra></extra>",
         "lat": [
          50.615868
         ],
         "legendgroup": "HERON PARC",
         "lon": [
          3.126089
         ],
         "marker": {
          "color": "#19d3f3"
         },
         "mode": "markers",
         "name": "HERON PARC",
         "showlegend": true,
         "subplot": "mapbox",
         "type": "scattermapbox"
        },
        {
         "customdata": [
          [
           6,
           14
          ]
         ],
         "hovertemplate": "properties.nom=LADRIERE<br>properties.y=%{lat}<br>properties.x=%{lon}<br>properties.nb_places_dispo=%{customdata[0]}<br>properties.nb_velos_dispo=%{customdata[1]}<extra></extra>",
         "lat": [
          50.631298
         ],
         "legendgroup": "LADRIERE",
         "lon": [
          3.126914
         ],
         "marker": {
          "color": "#FF6692"
         },
         "mode": "markers",
         "name": "LADRIERE",
         "showlegend": true,
         "subplot": "mapbox",
         "type": "scattermapbox"
        },
        {
         "customdata": [
          [
           8,
           8
          ]
         ],
         "hovertemplate": "properties.nom=RUE DE LILLE<br>properties.y=%{lat}<br>properties.x=%{lon}<br>properties.nb_places_dispo=%{customdata[0]}<br>properties.nb_velos_dispo=%{customdata[1]}<extra></extra>",
         "lat": [
          50.62577
         ],
         "legendgroup": "RUE DE LILLE",
         "lon": [
          3.144714
         ],
         "marker": {
          "color": "#B6E880"
         },
         "mode": "markers",
         "name": "RUE DE LILLE",
         "showlegend": true,
         "subplot": "mapbox",
         "type": "scattermapbox"
        },
        {
         "customdata": [
          [
           21,
           3
          ]
         ],
         "hovertemplate": "properties.nom=METRO TRIOLO<br>properties.y=%{lat}<br>properties.x=%{lon}<br>properties.nb_places_dispo=%{customdata[0]}<br>properties.nb_velos_dispo=%{customdata[1]}<extra></extra>",
         "lat": [
          50.61682
         ],
         "legendgroup": "METRO TRIOLO",
         "lon": [
          3.140808
         ],
         "marker": {
          "color": "#FF97FF"
         },
         "mode": "markers",
         "name": "METRO TRIOLO",
         "showlegend": true,
         "subplot": "mapbox",
         "type": "scattermapbox"
        },
        {
         "customdata": [
          [
           11,
           8
          ]
         ],
         "hovertemplate": "properties.nom=TREMIERE<br>properties.y=%{lat}<br>properties.x=%{lon}<br>properties.nb_places_dispo=%{customdata[0]}<br>properties.nb_velos_dispo=%{customdata[1]}<extra></extra>",
         "lat": [
          50.6206
         ],
         "legendgroup": "TREMIERE",
         "lon": [
          3.138207
         ],
         "marker": {
          "color": "#FECB52"
         },
         "mode": "markers",
         "name": "TREMIERE",
         "showlegend": true,
         "subplot": "mapbox",
         "type": "scattermapbox"
        },
        {
         "customdata": [
          [
           15,
           9
          ]
         ],
         "hovertemplate": "properties.nom=ANNAPPES REPUBLIQUE<br>properties.y=%{lat}<br>properties.x=%{lon}<br>properties.nb_places_dispo=%{customdata[0]}<br>properties.nb_velos_dispo=%{customdata[1]}<extra></extra>",
         "lat": [
          50.6258
         ],
         "legendgroup": "ANNAPPES REPUBLIQUE",
         "lon": [
          3.14862
         ],
         "marker": {
          "color": "#636efa"
         },
         "mode": "markers",
         "name": "ANNAPPES REPUBLIQUE",
         "showlegend": true,
         "subplot": "mapbox",
         "type": "scattermapbox"
        },
        {
         "customdata": [
          [
           11,
           8
          ]
         ],
         "hovertemplate": "properties.nom=SOLFERINO NATIONALE<br>properties.y=%{lat}<br>properties.x=%{lon}<br>properties.nb_places_dispo=%{customdata[0]}<br>properties.nb_velos_dispo=%{customdata[1]}<extra></extra>",
         "lat": [
          50.63268
         ],
         "legendgroup": "SOLFERINO NATIONALE",
         "lon": [
          3.052483
         ],
         "marker": {
          "color": "#EF553B"
         },
         "mode": "markers",
         "name": "SOLFERINO NATIONALE",
         "showlegend": true,
         "subplot": "mapbox",
         "type": "scattermapbox"
        },
        {
         "customdata": [
          [
           12,
           4
          ]
         ],
         "hovertemplate": "properties.nom=FAUBOURG D'ARRAS<br>properties.y=%{lat}<br>properties.x=%{lon}<br>properties.nb_places_dispo=%{customdata[0]}<br>properties.nb_velos_dispo=%{customdata[1]}<extra></extra>",
         "lat": [
          50.614052
         ],
         "legendgroup": "FAUBOURG D'ARRAS",
         "lon": [
          3.062195
         ],
         "marker": {
          "color": "#00cc96"
         },
         "mode": "markers",
         "name": "FAUBOURG D'ARRAS",
         "showlegend": true,
         "subplot": "mapbox",
         "type": "scattermapbox"
        },
        {
         "customdata": [
          [
           19,
           1
          ]
         ],
         "hovertemplate": "properties.nom=P.I. DE DOUAI<br>properties.y=%{lat}<br>properties.x=%{lon}<br>properties.nb_places_dispo=%{customdata[0]}<br>properties.nb_velos_dispo=%{customdata[1]}<extra></extra>",
         "lat": [
          50.612194
         ],
         "legendgroup": "P.I. DE DOUAI",
         "lon": [
          3.074952
         ],
         "marker": {
          "color": "#ab63fa"
         },
         "mode": "markers",
         "name": "P.I. DE DOUAI",
         "showlegend": true,
         "subplot": "mapbox",
         "type": "scattermapbox"
        },
        {
         "customdata": [
          [
           15,
           2
          ]
         ],
         "hovertemplate": "properties.nom=JEAN JAURES<br>properties.y=%{lat}<br>properties.x=%{lon}<br>properties.nb_places_dispo=%{customdata[0]}<br>properties.nb_velos_dispo=%{customdata[1]}<extra></extra>",
         "lat": [
          50.609592
         ],
         "legendgroup": "JEAN JAURES",
         "lon": [
          3.075483
         ],
         "marker": {
          "color": "#FFA15A"
         },
         "mode": "markers",
         "name": "JEAN JAURES",
         "showlegend": true,
         "subplot": "mapbox",
         "type": "scattermapbox"
        },
        {
         "customdata": [
          [
           18,
           6
          ]
         ],
         "hovertemplate": "properties.nom=RONCHIN MAIRIE<br>properties.y=%{lat}<br>properties.x=%{lon}<br>properties.nb_places_dispo=%{customdata[0]}<br>properties.nb_velos_dispo=%{customdata[1]}<extra></extra>",
         "lat": [
          50.60548
         ],
         "legendgroup": "RONCHIN MAIRIE",
         "lon": [
          3.077622
         ],
         "marker": {
          "color": "#19d3f3"
         },
         "mode": "markers",
         "name": "RONCHIN MAIRIE",
         "showlegend": true,
         "subplot": "mapbox",
         "type": "scattermapbox"
        },
        {
         "customdata": [
          [
           8,
           5
          ]
         ],
         "hovertemplate": "properties.nom=CH. DES MARGUERITOIS<br>properties.y=%{lat}<br>properties.x=%{lon}<br>properties.nb_places_dispo=%{customdata[0]}<br>properties.nb_velos_dispo=%{customdata[1]}<extra></extra>",
         "lat": [
          50.60642
         ],
         "legendgroup": "CH. DES MARGUERITOIS",
         "lon": [
          3.072209
         ],
         "marker": {
          "color": "#FF6692"
         },
         "mode": "markers",
         "name": "CH. DES MARGUERITOIS",
         "showlegend": true,
         "subplot": "mapbox",
         "type": "scattermapbox"
        },
        {
         "customdata": [
          [
           13,
           3
          ]
         ],
         "hovertemplate": "properties.nom=CHEMIN ROUGE<br>properties.y=%{lat}<br>properties.x=%{lon}<br>properties.nb_places_dispo=%{customdata[0]}<br>properties.nb_velos_dispo=%{customdata[1]}<extra></extra>",
         "lat": [
          50.610582
         ],
         "legendgroup": "CHEMIN ROUGE",
         "lon": [
          3.065103
         ],
         "marker": {
          "color": "#B6E880"
         },
         "mode": "markers",
         "name": "CHEMIN ROUGE",
         "showlegend": true,
         "subplot": "mapbox",
         "type": "scattermapbox"
        },
        {
         "customdata": [
          [
           7,
           17
          ]
         ],
         "hovertemplate": "properties.nom=POMPIDOU<br>properties.y=%{lat}<br>properties.x=%{lon}<br>properties.nb_places_dispo=%{customdata[0]}<br>properties.nb_velos_dispo=%{customdata[1]}<extra></extra>",
         "lat": [
          50.65547
         ],
         "legendgroup": "POMPIDOU",
         "lon": [
          3.064989
         ],
         "marker": {
          "color": "#FF97FF"
         },
         "mode": "markers",
         "name": "POMPIDOU",
         "showlegend": true,
         "subplot": "mapbox",
         "type": "scattermapbox"
        },
        {
         "customdata": [
          [
           8,
           8
          ]
         ],
         "hovertemplate": "properties.nom=CHAUFFERIE<br>properties.y=%{lat}<br>properties.x=%{lon}<br>properties.nb_places_dispo=%{customdata[0]}<br>properties.nb_velos_dispo=%{customdata[1]}<extra></extra>",
         "lat": [
          50.65532
         ],
         "legendgroup": "CHAUFFERIE",
         "lon": [
          3.060615
         ],
         "marker": {
          "color": "#FECB52"
         },
         "mode": "markers",
         "name": "CHAUFFERIE",
         "showlegend": true,
         "subplot": "mapbox",
         "type": "scattermapbox"
        },
        {
         "customdata": [
          [
           2,
           13
          ]
         ],
         "hovertemplate": "properties.nom=BAILLY<br>properties.y=%{lat}<br>properties.x=%{lon}<br>properties.nb_places_dispo=%{customdata[0]}<br>properties.nb_velos_dispo=%{customdata[1]}<extra></extra>",
         "lat": [
          50.655098
         ],
         "legendgroup": "BAILLY",
         "lon": [
          3.051201
         ],
         "marker": {
          "color": "#636efa"
         },
         "mode": "markers",
         "name": "BAILLY",
         "showlegend": true,
         "subplot": "mapbox",
         "type": "scattermapbox"
        },
        {
         "customdata": [
          [
           15,
           9
          ]
         ],
         "hovertemplate": "properties.nom=ST ANDRE MAIRIE<br>properties.y=%{lat}<br>properties.x=%{lon}<br>properties.nb_places_dispo=%{customdata[0]}<br>properties.nb_velos_dispo=%{customdata[1]}<extra></extra>",
         "lat": [
          50.661602
         ],
         "legendgroup": "ST ANDRE MAIRIE",
         "lon": [
          3.050322
         ],
         "marker": {
          "color": "#EF553B"
         },
         "mode": "markers",
         "name": "ST ANDRE MAIRIE",
         "showlegend": true,
         "subplot": "mapbox",
         "type": "scattermapbox"
        },
        {
         "customdata": [
          [
           5,
           11
          ]
         ],
         "hovertemplate": "properties.nom=CANON D'OR<br>properties.y=%{lat}<br>properties.x=%{lon}<br>properties.nb_places_dispo=%{customdata[0]}<br>properties.nb_velos_dispo=%{customdata[1]}<extra></extra>",
         "lat": [
          50.64989
         ],
         "legendgroup": "CANON D'OR",
         "lon": [
          3.042045
         ],
         "marker": {
          "color": "#00cc96"
         },
         "mode": "markers",
         "name": "CANON D'OR",
         "showlegend": true,
         "subplot": "mapbox",
         "type": "scattermapbox"
        },
        {
         "customdata": [
          [
           4,
           16
          ]
         ],
         "hovertemplate": "properties.nom=DELECAUX<br>properties.y=%{lat}<br>properties.x=%{lon}<br>properties.nb_places_dispo=%{customdata[0]}<br>properties.nb_velos_dispo=%{customdata[1]}<extra></extra>",
         "lat": [
          50.644943
         ],
         "legendgroup": "DELECAUX",
         "lon": [
          3.036932
         ],
         "marker": {
          "color": "#ab63fa"
         },
         "mode": "markers",
         "name": "DELECAUX",
         "showlegend": true,
         "subplot": "mapbox",
         "type": "scattermapbox"
        },
        {
         "customdata": [
          [
           40,
           0
          ]
         ],
         "hovertemplate": "properties.nom=EURALILLE<br>properties.y=%{lat}<br>properties.x=%{lon}<br>properties.nb_places_dispo=%{customdata[0]}<br>properties.nb_velos_dispo=%{customdata[1]}<extra></extra>",
         "lat": [
          50.637726
         ],
         "legendgroup": "EURALILLE",
         "lon": [
          3.071892
         ],
         "marker": {
          "color": "#FFA15A"
         },
         "mode": "markers",
         "name": "EURALILLE",
         "showlegend": true,
         "subplot": "mapbox",
         "type": "scattermapbox"
        },
        {
         "customdata": [
          [
           20,
           0
          ]
         ],
         "hovertemplate": "properties.nom=PARVIS ROTTERDAM<br>properties.y=%{lat}<br>properties.x=%{lon}<br>properties.nb_places_dispo=%{customdata[0]}<br>properties.nb_velos_dispo=%{customdata[1]}<extra></extra>",
         "lat": [
          50.637709
         ],
         "legendgroup": "PARVIS ROTTERDAM",
         "lon": [
          3.077478
         ],
         "marker": {
          "color": "#19d3f3"
         },
         "mode": "markers",
         "name": "PARVIS ROTTERDAM",
         "showlegend": true,
         "subplot": "mapbox",
         "type": "scattermapbox"
        },
        {
         "customdata": [
          [
           13,
           2
          ]
         ],
         "hovertemplate": "properties.nom=CHAUDE RIVIÈRE<br>properties.y=%{lat}<br>properties.x=%{lon}<br>properties.nb_places_dispo=%{customdata[0]}<br>properties.nb_velos_dispo=%{customdata[1]}<extra></extra>",
         "lat": [
          50.634417
         ],
         "legendgroup": "CHAUDE RIVIÈRE",
         "lon": [
          3.0822274
         ],
         "marker": {
          "color": "#FF6692"
         },
         "mode": "markers",
         "name": "CHAUDE RIVIÈRE",
         "showlegend": true,
         "subplot": "mapbox",
         "type": "scattermapbox"
        },
        {
         "customdata": [
          [
           13,
           13
          ]
         ],
         "hovertemplate": "properties.nom=ANGELLIER<br>properties.y=%{lat}<br>properties.x=%{lon}<br>properties.nb_places_dispo=%{customdata[0]}<br>properties.nb_velos_dispo=%{customdata[1]}<extra></extra>",
         "lat": [
          50.628544
         ],
         "legendgroup": "ANGELLIER",
         "lon": [
          3.065015
         ],
         "marker": {
          "color": "#B6E880"
         },
         "mode": "markers",
         "name": "ANGELLIER",
         "showlegend": true,
         "subplot": "mapbox",
         "type": "scattermapbox"
        },
        {
         "customdata": [
          [
           13,
           7
          ]
         ],
         "hovertemplate": "properties.nom=JEANNE D'ARC<br>properties.y=%{lat}<br>properties.x=%{lon}<br>properties.nb_places_dispo=%{customdata[0]}<br>properties.nb_velos_dispo=%{customdata[1]}<extra></extra>",
         "lat": [
          50.625597
         ],
         "legendgroup": "JEANNE D'ARC",
         "lon": [
          3.064497
         ],
         "marker": {
          "color": "#FF97FF"
         },
         "mode": "markers",
         "name": "JEANNE D'ARC",
         "showlegend": true,
         "subplot": "mapbox",
         "type": "scattermapbox"
        },
        {
         "customdata": [
          [
           3,
           13
          ]
         ],
         "hovertemplate": "properties.nom=HOPITAL MILITAIRE<br>properties.y=%{lat}<br>properties.x=%{lon}<br>properties.nb_places_dispo=%{customdata[0]}<br>properties.nb_velos_dispo=%{customdata[1]}<extra></extra>",
         "lat": [
          50.63393
         ],
         "legendgroup": "HOPITAL MILITAIRE",
         "lon": [
          3.061687
         ],
         "marker": {
          "color": "#FECB52"
         },
         "mode": "markers",
         "name": "HOPITAL MILITAIRE",
         "showlegend": true,
         "subplot": "mapbox",
         "type": "scattermapbox"
        },
        {
         "customdata": [
          [
           11,
           3
          ]
         ],
         "hovertemplate": "properties.nom=JEAN SANS PEUR<br>properties.y=%{lat}<br>properties.x=%{lon}<br>properties.nb_places_dispo=%{customdata[0]}<br>properties.nb_velos_dispo=%{customdata[1]}<extra></extra>",
         "lat": [
          50.632423
         ],
         "legendgroup": "JEAN SANS PEUR",
         "lon": [
          3.05831
         ],
         "marker": {
          "color": "#636efa"
         },
         "mode": "markers",
         "name": "JEAN SANS PEUR",
         "showlegend": true,
         "subplot": "mapbox",
         "type": "scattermapbox"
        },
        {
         "customdata": [
          [
           1,
           15
          ]
         ],
         "hovertemplate": "properties.nom=CAMPUS ST RAPHAEL<br>properties.y=%{lat}<br>properties.x=%{lon}<br>properties.nb_places_dispo=%{customdata[0]}<br>properties.nb_velos_dispo=%{customdata[1]}<extra></extra>",
         "lat": [
          50.63084
         ],
         "legendgroup": "CAMPUS ST RAPHAEL",
         "lon": [
          3.04483
         ],
         "marker": {
          "color": "#EF553B"
         },
         "mode": "markers",
         "name": "CAMPUS ST RAPHAEL",
         "showlegend": true,
         "subplot": "mapbox",
         "type": "scattermapbox"
        },
        {
         "customdata": [
          [
           10,
           10
          ]
         ],
         "hovertemplate": "properties.nom=TRANQUILLITÉ<br>properties.y=%{lat}<br>properties.x=%{lon}<br>properties.nb_places_dispo=%{customdata[0]}<br>properties.nb_velos_dispo=%{customdata[1]}<extra></extra>",
         "lat": [
          50.626107
         ],
         "legendgroup": "TRANQUILLITÉ",
         "lon": [
          3.046295
         ],
         "marker": {
          "color": "#00cc96"
         },
         "mode": "markers",
         "name": "TRANQUILLITÉ",
         "showlegend": true,
         "subplot": "mapbox",
         "type": "scattermapbox"
        },
        {
         "customdata": [
          [
           9,
           5
          ]
         ],
         "hovertemplate": "properties.nom=RIVES DE LA HAUTE DEULE<br>properties.y=%{lat}<br>properties.x=%{lon}<br>properties.nb_places_dispo=%{customdata[0]}<br>properties.nb_velos_dispo=%{customdata[1]}<extra></extra>",
         "lat": [
          50.630596
         ],
         "legendgroup": "RIVES DE LA HAUTE DEULE",
         "lon": [
          3.023001
         ],
         "marker": {
          "color": "#ab63fa"
         },
         "mode": "markers",
         "name": "RIVES DE LA HAUTE DEULE",
         "showlegend": true,
         "subplot": "mapbox",
         "type": "scattermapbox"
        },
        {
         "customdata": [
          [
           11,
           1
          ]
         ],
         "hovertemplate": "properties.nom=JEMMAPES<br>properties.y=%{lat}<br>properties.x=%{lon}<br>properties.nb_places_dispo=%{customdata[0]}<br>properties.nb_velos_dispo=%{customdata[1]}<extra></extra>",
         "lat": [
          50.644685
         ],
         "legendgroup": "JEMMAPES",
         "lon": [
          3.057953
         ],
         "marker": {
          "color": "#FFA15A"
         },
         "mode": "markers",
         "name": "JEMMAPES",
         "showlegend": true,
         "subplot": "mapbox",
         "type": "scattermapbox"
        },
        {
         "customdata": [
          [
           10,
           2
          ]
         ],
         "hovertemplate": "properties.nom=GANTOIS<br>properties.y=%{lat}<br>properties.x=%{lon}<br>properties.nb_places_dispo=%{customdata[0]}<br>properties.nb_velos_dispo=%{customdata[1]}<extra></extra>",
         "lat": [
          50.62195
         ],
         "legendgroup": "GANTOIS",
         "lon": [
          3.06038
         ],
         "marker": {
          "color": "#19d3f3"
         },
         "mode": "markers",
         "name": "GANTOIS",
         "showlegend": true,
         "subplot": "mapbox",
         "type": "scattermapbox"
        },
        {
         "customdata": [
          [
           14,
           2
          ]
         ],
         "hovertemplate": "properties.nom=AUBERGE DE JEUNESSE<br>properties.y=%{lat}<br>properties.x=%{lon}<br>properties.nb_places_dispo=%{customdata[0]}<br>properties.nb_velos_dispo=%{customdata[1]}<extra></extra>",
         "lat": [
          50.62479
         ],
         "legendgroup": "AUBERGE DE JEUNESSE",
         "lon": [
          3.080467
         ],
         "marker": {
          "color": "#FF6692"
         },
         "mode": "markers",
         "name": "AUBERGE DE JEUNESSE",
         "showlegend": true,
         "subplot": "mapbox",
         "type": "scattermapbox"
        },
        {
         "customdata": [
          [
           12,
           0
          ]
         ],
         "hovertemplate": "properties.nom=PLACE DE LA GARONNE<br>properties.y=%{lat}<br>properties.x=%{lon}<br>properties.nb_places_dispo=%{customdata[0]}<br>properties.nb_velos_dispo=%{customdata[1]}<extra></extra>",
         "lat": [
          50.612635
         ],
         "legendgroup": "PLACE DE LA GARONNE",
         "lon": [
          3.059261
         ],
         "marker": {
          "color": "#B6E880"
         },
         "mode": "markers",
         "name": "PLACE DE LA GARONNE",
         "showlegend": true,
         "subplot": "mapbox",
         "type": "scattermapbox"
        },
        {
         "customdata": [
          [
           18,
           2
          ]
         ],
         "hovertemplate": "properties.nom=CHU - CENTRE OSCAR LAMBRET<br>properties.y=%{lat}<br>properties.x=%{lon}<br>properties.nb_places_dispo=%{customdata[0]}<br>properties.nb_velos_dispo=%{customdata[1]}<extra></extra>",
         "lat": [
          50.61352
         ],
         "legendgroup": "CHU - CENTRE OSCAR LAMBRET",
         "lon": [
          3.03677
         ],
         "marker": {
          "color": "#FF97FF"
         },
         "mode": "markers",
         "name": "CHU - CENTRE OSCAR LAMBRET",
         "showlegend": true,
         "subplot": "mapbox",
         "type": "scattermapbox"
        },
        {
         "customdata": [
          [
           25,
           3
          ]
         ],
         "hovertemplate": "properties.nom=CHU - EURASANTÉ<br>properties.y=%{lat}<br>properties.x=%{lon}<br>properties.nb_places_dispo=%{customdata[0]}<br>properties.nb_velos_dispo=%{customdata[1]}<extra></extra>",
         "lat": [
          50.607664
         ],
         "legendgroup": "CHU - EURASANTÉ",
         "lon": [
          3.038892
         ],
         "marker": {
          "color": "#FECB52"
         },
         "mode": "markers",
         "name": "CHU - EURASANTÉ",
         "showlegend": true,
         "subplot": "mapbox",
         "type": "scattermapbox"
        },
        {
         "customdata": [
          [
           13,
           3
          ]
         ],
         "hovertemplate": "properties.nom=RECHERCHE<br>properties.y=%{lat}<br>properties.x=%{lon}<br>properties.nb_places_dispo=%{customdata[0]}<br>properties.nb_velos_dispo=%{customdata[1]}<extra></extra>",
         "lat": [
          50.60301
         ],
         "legendgroup": "RECHERCHE",
         "lon": [
          3.038779
         ],
         "marker": {
          "color": "#636efa"
         },
         "mode": "markers",
         "name": "RECHERCHE",
         "showlegend": true,
         "subplot": "mapbox",
         "type": "scattermapbox"
        },
        {
         "customdata": [
          [
           8,
           8
          ]
         ],
         "hovertemplate": "properties.nom=FACULTÉ DE MÉDECINE<br>properties.y=%{lat}<br>properties.x=%{lon}<br>properties.nb_places_dispo=%{customdata[0]}<br>properties.nb_velos_dispo=%{customdata[1]}<extra></extra>",
         "lat": [
          50.604499
         ],
         "legendgroup": "FACULTÉ DE MÉDECINE",
         "lon": [
          3.031421
         ],
         "marker": {
          "color": "#EF553B"
         },
         "mode": "markers",
         "name": "FACULTÉ DE MÉDECINE",
         "showlegend": true,
         "subplot": "mapbox",
         "type": "scattermapbox"
        },
        {
         "customdata": [
          [
           2,
           11
          ]
         ],
         "hovertemplate": "properties.nom=RUE DE LONDRES<br>properties.y=%{lat}<br>properties.x=%{lon}<br>properties.nb_places_dispo=%{customdata[0]}<br>properties.nb_velos_dispo=%{customdata[1]}<extra></extra>",
         "lat": [
          50.616763
         ],
         "legendgroup": "RUE DE LONDRES",
         "lon": [
          3.023032
         ],
         "marker": {
          "color": "#00cc96"
         },
         "mode": "markers",
         "name": "RUE DE LONDRES",
         "showlegend": true,
         "subplot": "mapbox",
         "type": "scattermapbox"
        },
        {
         "customdata": [
          [
           14,
           4
          ]
         ],
         "hovertemplate": "properties.nom=LA FILEUSE<br>properties.y=%{lat}<br>properties.x=%{lon}<br>properties.nb_places_dispo=%{customdata[0]}<br>properties.nb_velos_dispo=%{customdata[1]}<extra></extra>",
         "lat": [
          50.615164
         ],
         "legendgroup": "LA FILEUSE",
         "lon": [
          3.018471
         ],
         "marker": {
          "color": "#ab63fa"
         },
         "mode": "markers",
         "name": "LA FILEUSE",
         "showlegend": true,
         "subplot": "mapbox",
         "type": "scattermapbox"
        },
        {
         "customdata": [
          [
           0,
           20
          ]
         ],
         "hovertemplate": "properties.nom=BOURSE DU TRAVAIL<br>properties.y=%{lat}<br>properties.x=%{lon}<br>properties.nb_places_dispo=%{customdata[0]}<br>properties.nb_velos_dispo=%{customdata[1]}<extra></extra>",
         "lat": [
          50.626052
         ],
         "legendgroup": "BOURSE DU TRAVAIL",
         "lon": [
          3.090898
         ],
         "marker": {
          "color": "#FFA15A"
         },
         "mode": "markers",
         "name": "BOURSE DU TRAVAIL",
         "showlegend": true,
         "subplot": "mapbox",
         "type": "scattermapbox"
        },
        {
         "customdata": [
          [
           1,
           14
          ]
         ],
         "hovertemplate": "properties.nom=SQUARE JEAN MONNET<br>properties.y=%{lat}<br>properties.x=%{lon}<br>properties.nb_places_dispo=%{customdata[0]}<br>properties.nb_velos_dispo=%{customdata[1]}<extra></extra>",
         "lat": [
          50.652107
         ],
         "legendgroup": "SQUARE JEAN MONNET",
         "lon": [
          3.029324
         ],
         "marker": {
          "color": "#19d3f3"
         },
         "mode": "markers",
         "name": "SQUARE JEAN MONNET",
         "showlegend": true,
         "subplot": "mapbox",
         "type": "scattermapbox"
        },
        {
         "customdata": [
          [
           2,
           10
          ]
         ],
         "hovertemplate": "properties.nom=BECQUART<br>properties.y=%{lat}<br>properties.x=%{lon}<br>properties.nb_places_dispo=%{customdata[0]}<br>properties.nb_velos_dispo=%{customdata[1]}<extra></extra>",
         "lat": [
          50.649644
         ],
         "legendgroup": "BECQUART",
         "lon": [
          3.03812
         ],
         "marker": {
          "color": "#FF6692"
         },
         "mode": "markers",
         "name": "BECQUART",
         "showlegend": true,
         "subplot": "mapbox",
         "type": "scattermapbox"
        },
        {
         "customdata": [
          [
           8,
           12
          ]
         ],
         "hovertemplate": "properties.nom=PLACE DE LA BOUCHERIE<br>properties.y=%{lat}<br>properties.x=%{lon}<br>properties.nb_places_dispo=%{customdata[0]}<br>properties.nb_velos_dispo=%{customdata[1]}<extra></extra>",
         "lat": [
          50.658048
         ],
         "legendgroup": "PLACE DE LA BOUCHERIE",
         "lon": [
          3.063774
         ],
         "marker": {
          "color": "#B6E880"
         },
         "mode": "markers",
         "name": "PLACE DE LA BOUCHERIE",
         "showlegend": true,
         "subplot": "mapbox",
         "type": "scattermapbox"
        },
        {
         "customdata": [
          [
           11,
           1
          ]
         ],
         "hovertemplate": "properties.nom=RUE DU PARC<br>properties.y=%{lat}<br>properties.x=%{lon}<br>properties.nb_places_dispo=%{customdata[0]}<br>properties.nb_velos_dispo=%{customdata[1]}<extra></extra>",
         "lat": [
          50.651107
         ],
         "legendgroup": "RUE DU PARC",
         "lon": [
          3.0678
         ],
         "marker": {
          "color": "#FF97FF"
         },
         "mode": "markers",
         "name": "RUE DU PARC",
         "showlegend": true,
         "subplot": "mapbox",
         "type": "scattermapbox"
        },
        {
         "customdata": [
          [
           5,
           7
          ]
         ],
         "hovertemplate": "properties.nom=SAINTE HÉLÈNE<br>properties.y=%{lat}<br>properties.x=%{lon}<br>properties.nb_places_dispo=%{customdata[0]}<br>properties.nb_velos_dispo=%{customdata[1]}<extra></extra>",
         "lat": [
          50.65722
         ],
         "legendgroup": "SAINTE HÉLÈNE",
         "lon": [
          3.056147
         ],
         "marker": {
          "color": "#FECB52"
         },
         "mode": "markers",
         "name": "SAINTE HÉLÈNE",
         "showlegend": true,
         "subplot": "mapbox",
         "type": "scattermapbox"
        },
        {
         "customdata": [
          [
           5,
           7
          ]
         ],
         "hovertemplate": "properties.nom=MARCQ MAIRIE<br>properties.y=%{lat}<br>properties.x=%{lon}<br>properties.nb_places_dispo=%{customdata[0]}<br>properties.nb_velos_dispo=%{customdata[1]}<extra></extra>",
         "lat": [
          50.672455
         ],
         "legendgroup": "MARCQ MAIRIE",
         "lon": [
          3.092388
         ],
         "marker": {
          "color": "#636efa"
         },
         "mode": "markers",
         "name": "MARCQ MAIRIE",
         "showlegend": true,
         "subplot": "mapbox",
         "type": "scattermapbox"
        },
        {
         "customdata": [
          [
           1,
           11
          ]
         ],
         "hovertemplate": "properties.nom=LOUIS BRAILLE<br>properties.y=%{lat}<br>properties.x=%{lon}<br>properties.nb_places_dispo=%{customdata[0]}<br>properties.nb_velos_dispo=%{customdata[1]}<extra></extra>",
         "lat": [
          50.637103
         ],
         "legendgroup": "LOUIS BRAILLE",
         "lon": [
          3.097538
         ],
         "marker": {
          "color": "#EF553B"
         },
         "mode": "markers",
         "name": "LOUIS BRAILLE",
         "showlegend": true,
         "subplot": "mapbox",
         "type": "scattermapbox"
        },
        {
         "customdata": [
          [
           8,
           8
          ]
         ],
         "hovertemplate": "properties.nom=HAUT DE MONS<br>properties.y=%{lat}<br>properties.x=%{lon}<br>properties.nb_places_dispo=%{customdata[0]}<br>properties.nb_velos_dispo=%{customdata[1]}<extra></extra>",
         "lat": [
          50.646432
         ],
         "legendgroup": "HAUT DE MONS",
         "lon": [
          3.106626
         ],
         "marker": {
          "color": "#00cc96"
         },
         "mode": "markers",
         "name": "HAUT DE MONS",
         "showlegend": true,
         "subplot": "mapbox",
         "type": "scattermapbox"
        },
        {
         "customdata": [
          [
           4,
           10
          ]
         ],
         "hovertemplate": "properties.nom=QUAI 22<br>properties.y=%{lat}<br>properties.x=%{lon}<br>properties.nb_places_dispo=%{customdata[0]}<br>properties.nb_velos_dispo=%{customdata[1]}<extra></extra>",
         "lat": [
          50.662941
         ],
         "legendgroup": "QUAI 22",
         "lon": [
          3.057167
         ],
         "marker": {
          "color": "#ab63fa"
         },
         "mode": "markers",
         "name": "QUAI 22",
         "showlegend": true,
         "subplot": "mapbox",
         "type": "scattermapbox"
        },
        {
         "customdata": [
          [
           10,
           8
          ]
         ],
         "hovertemplate": "properties.nom=FERME D'EN HAUT<br>properties.y=%{lat}<br>properties.x=%{lon}<br>properties.nb_places_dispo=%{customdata[0]}<br>properties.nb_velos_dispo=%{customdata[1]}<extra></extra>",
         "lat": [
          50.638838
         ],
         "legendgroup": "FERME D'EN HAUT",
         "lon": [
          3.1317727
         ],
         "marker": {
          "color": "#FFA15A"
         },
         "mode": "markers",
         "name": "FERME D'EN HAUT",
         "showlegend": true,
         "subplot": "mapbox",
         "type": "scattermapbox"
        },
        {
         "customdata": [
          [
           7,
           7
          ]
         ],
         "hovertemplate": "properties.nom=LE STADIUM<br>properties.y=%{lat}<br>properties.x=%{lon}<br>properties.nb_places_dispo=%{customdata[0]}<br>properties.nb_velos_dispo=%{customdata[1]}<extra></extra>",
         "lat": [
          50.6312847
         ],
         "legendgroup": "LE STADIUM",
         "lon": [
          3.1350379
         ],
         "marker": {
          "color": "#19d3f3"
         },
         "mode": "markers",
         "name": "LE STADIUM",
         "showlegend": true,
         "subplot": "mapbox",
         "type": "scattermapbox"
        },
        {
         "customdata": [
          [
           11,
           9
          ]
         ],
         "hovertemplate": "properties.nom=BEL AIR<br>properties.y=%{lat}<br>properties.x=%{lon}<br>properties.nb_places_dispo=%{customdata[0]}<br>properties.nb_velos_dispo=%{customdata[1]}<extra></extra>",
         "lat": [
          50.658146
         ],
         "legendgroup": "BEL AIR",
         "lon": [
          3.042003
         ],
         "marker": {
          "color": "#FF6692"
         },
         "mode": "markers",
         "name": "BEL AIR",
         "showlegend": true,
         "subplot": "mapbox",
         "type": "scattermapbox"
        },
        {
         "customdata": [
          [
           5,
           15
          ]
         ],
         "hovertemplate": "properties.nom=LOMMELET<br>properties.y=%{lat}<br>properties.x=%{lon}<br>properties.nb_places_dispo=%{customdata[0]}<br>properties.nb_velos_dispo=%{customdata[1]}<extra></extra>",
         "lat": [
          50.665968
         ],
         "legendgroup": "LOMMELET",
         "lon": [
          3.049462
         ],
         "marker": {
          "color": "#B6E880"
         },
         "mode": "markers",
         "name": "LOMMELET",
         "showlegend": true,
         "subplot": "mapbox",
         "type": "scattermapbox"
        },
        {
         "customdata": [
          [
           1,
           19
          ]
         ],
         "hovertemplate": "properties.nom=TISSERAND<br>properties.y=%{lat}<br>properties.x=%{lon}<br>properties.nb_places_dispo=%{customdata[0]}<br>properties.nb_velos_dispo=%{customdata[1]}<extra></extra>",
         "lat": [
          50.631135
         ],
         "legendgroup": "TISSERAND",
         "lon": [
          3.008346
         ],
         "marker": {
          "color": "#FF97FF"
         },
         "mode": "markers",
         "name": "TISSERAND",
         "showlegend": true,
         "subplot": "mapbox",
         "type": "scattermapbox"
        },
        {
         "customdata": [
          [
           1,
           16
          ]
         ],
         "hovertemplate": "properties.nom=ANATOLE FRANCE<br>properties.y=%{lat}<br>properties.x=%{lon}<br>properties.nb_places_dispo=%{customdata[0]}<br>properties.nb_velos_dispo=%{customdata[1]}<extra></extra>",
         "lat": [
          50.636003
         ],
         "legendgroup": "ANATOLE FRANCE",
         "lon": [
          3.009396
         ],
         "marker": {
          "color": "#FECB52"
         },
         "mode": "markers",
         "name": "ANATOLE FRANCE",
         "showlegend": true,
         "subplot": "mapbox",
         "type": "scattermapbox"
        },
        {
         "customdata": [
          [
           3,
           17
          ]
         ],
         "hovertemplate": "properties.nom=NOTEBART<br>properties.y=%{lat}<br>properties.x=%{lon}<br>properties.nb_places_dispo=%{customdata[0]}<br>properties.nb_velos_dispo=%{customdata[1]}<extra></extra>",
         "lat": [
          50.630678
         ],
         "legendgroup": "NOTEBART",
         "lon": [
          3.013423
         ],
         "marker": {
          "color": "#636efa"
         },
         "mode": "markers",
         "name": "NOTEBART",
         "showlegend": true,
         "subplot": "mapbox",
         "type": "scattermapbox"
        },
        {
         "customdata": [
          [
           2,
           18
          ]
         ],
         "hovertemplate": "properties.nom=LOOS CLEMENCEAU<br>properties.y=%{lat}<br>properties.x=%{lon}<br>properties.nb_places_dispo=%{customdata[0]}<br>properties.nb_velos_dispo=%{customdata[1]}<extra></extra>",
         "lat": [
          50.614392
         ],
         "legendgroup": "LOOS CLEMENCEAU",
         "lon": [
          3.010842
         ],
         "marker": {
          "color": "#EF553B"
         },
         "mode": "markers",
         "name": "LOOS CLEMENCEAU",
         "showlegend": true,
         "subplot": "mapbox",
         "type": "scattermapbox"
        },
        {
         "customdata": [
          [
           10,
           10
          ]
         ],
         "hovertemplate": "properties.nom=GEORGES POTIÉ<br>properties.y=%{lat}<br>properties.x=%{lon}<br>properties.nb_places_dispo=%{customdata[0]}<br>properties.nb_velos_dispo=%{customdata[1]}<extra></extra>",
         "lat": [
          50.612899
         ],
         "legendgroup": "GEORGES POTIÉ",
         "lon": [
          3.003575
         ],
         "marker": {
          "color": "#00cc96"
         },
         "mode": "markers",
         "name": "GEORGES POTIÉ",
         "showlegend": true,
         "subplot": "mapbox",
         "type": "scattermapbox"
        },
        {
         "customdata": [
          [
           24,
           0
          ]
         ],
         "hovertemplate": "properties.nom=MAIRIE DE CROIX<br>properties.y=%{lat}<br>properties.x=%{lon}<br>properties.nb_places_dispo=%{customdata[0]}<br>properties.nb_velos_dispo=%{customdata[1]}<extra></extra>",
         "lat": [
          50.679123
         ],
         "legendgroup": "MAIRIE DE CROIX",
         "lon": [
          3.155906
         ],
         "marker": {
          "color": "#ab63fa"
         },
         "mode": "markers",
         "name": "MAIRIE DE CROIX",
         "showlegend": true,
         "subplot": "mapbox",
         "type": "scattermapbox"
        },
        {
         "customdata": [
          [
           25,
           5
          ]
         ],
         "hovertemplate": "properties.nom=EDHEC<br>properties.y=%{lat}<br>properties.x=%{lon}<br>properties.nb_places_dispo=%{customdata[0]}<br>properties.nb_velos_dispo=%{customdata[1]}<extra></extra>",
         "lat": [
          50.673699
         ],
         "legendgroup": "EDHEC",
         "lon": [
          3.163373
         ],
         "marker": {
          "color": "#FFA15A"
         },
         "mode": "markers",
         "name": "EDHEC",
         "showlegend": true,
         "subplot": "mapbox",
         "type": "scattermapbox"
        },
        {
         "customdata": [
          [
           20,
           4
          ]
         ],
         "hovertemplate": "properties.nom=PARC BARBIEUX<br>properties.y=%{lat}<br>properties.x=%{lon}<br>properties.nb_places_dispo=%{customdata[0]}<br>properties.nb_velos_dispo=%{customdata[1]}<extra></extra>",
         "lat": [
          50.678038
         ],
         "legendgroup": "PARC BARBIEUX",
         "lon": [
          3.162436
         ],
         "marker": {
          "color": "#19d3f3"
         },
         "mode": "markers",
         "name": "PARC BARBIEUX",
         "showlegend": true,
         "subplot": "mapbox",
         "type": "scattermapbox"
        },
        {
         "customdata": [
          [
           19,
           1
          ]
         ],
         "hovertemplate": "properties.nom=VICTOR PROVO<br>properties.y=%{lat}<br>properties.x=%{lon}<br>properties.nb_places_dispo=%{customdata[0]}<br>properties.nb_velos_dispo=%{customdata[1]}<extra></extra>",
         "lat": [
          50.68079
         ],
         "legendgroup": "VICTOR PROVO",
         "lon": [
          3.167454
         ],
         "marker": {
          "color": "#FF6692"
         },
         "mode": "markers",
         "name": "VICTOR PROVO",
         "showlegend": true,
         "subplot": "mapbox",
         "type": "scattermapbox"
        },
        {
         "customdata": [
          [
           15,
           0
          ]
         ],
         "hovertemplate": "properties.nom=JEAN MOULIN<br>properties.y=%{lat}<br>properties.x=%{lon}<br>properties.nb_places_dispo=%{customdata[0]}<br>properties.nb_velos_dispo=%{customdata[1]}<extra></extra>",
         "lat": [
          50.684757
         ],
         "legendgroup": "JEAN MOULIN",
         "lon": [
          3.171974
         ],
         "marker": {
          "color": "#B6E880"
         },
         "mode": "markers",
         "name": "JEAN MOULIN",
         "showlegend": true,
         "subplot": "mapbox",
         "type": "scattermapbox"
        },
        {
         "customdata": [
          [
           10,
           8
          ]
         ],
         "hovertemplate": "properties.nom=CONDITION PUBLIQUE<br>properties.y=%{lat}<br>properties.x=%{lon}<br>properties.nb_places_dispo=%{customdata[0]}<br>properties.nb_velos_dispo=%{customdata[1]}<extra></extra>",
         "lat": [
          50.691007
         ],
         "legendgroup": "CONDITION PUBLIQUE",
         "lon": [
          3.190299
         ],
         "marker": {
          "color": "#FF97FF"
         },
         "mode": "markers",
         "name": "CONDITION PUBLIQUE",
         "showlegend": true,
         "subplot": "mapbox",
         "type": "scattermapbox"
        },
        {
         "customdata": [
          [
           20,
           4
          ]
         ],
         "hovertemplate": "properties.nom=ALFRED MONGY<br>properties.y=%{lat}<br>properties.x=%{lon}<br>properties.nb_places_dispo=%{customdata[0]}<br>properties.nb_velos_dispo=%{customdata[1]}<extra></extra>",
         "lat": [
          50.688015
         ],
         "legendgroup": "ALFRED MONGY",
         "lon": [
          3.174815
         ],
         "marker": {
          "color": "#FECB52"
         },
         "mode": "markers",
         "name": "ALFRED MONGY",
         "showlegend": true,
         "subplot": "mapbox",
         "type": "scattermapbox"
        },
        {
         "customdata": [
          [
           23,
           7
          ]
         ],
         "hovertemplate": "properties.nom=EUROTELEPORT<br>properties.y=%{lat}<br>properties.x=%{lon}<br>properties.nb_places_dispo=%{customdata[0]}<br>properties.nb_velos_dispo=%{customdata[1]}<extra></extra>",
         "lat": [
          50.691323
         ],
         "legendgroup": "EUROTELEPORT",
         "lon": [
          3.17974
         ],
         "marker": {
          "color": "#636efa"
         },
         "mode": "markers",
         "name": "EUROTELEPORT",
         "showlegend": true,
         "subplot": "mapbox",
         "type": "scattermapbox"
        },
        {
         "customdata": [
          [
           12,
           0
          ]
         ],
         "hovertemplate": "properties.nom=DE FOURMIES<br>properties.y=%{lat}<br>properties.x=%{lon}<br>properties.nb_places_dispo=%{customdata[0]}<br>properties.nb_velos_dispo=%{customdata[1]}<extra></extra>",
         "lat": [
          50.67544
         ],
         "legendgroup": "DE FOURMIES",
         "lon": [
          3.181998
         ],
         "marker": {
          "color": "#EF553B"
         },
         "mode": "markers",
         "name": "DE FOURMIES",
         "showlegend": true,
         "subplot": "mapbox",
         "type": "scattermapbox"
        },
        {
         "customdata": [
          [
           8,
           12
          ]
         ],
         "hovertemplate": "properties.nom=USINE<br>properties.y=%{lat}<br>properties.x=%{lon}<br>properties.nb_places_dispo=%{customdata[0]}<br>properties.nb_velos_dispo=%{customdata[1]}<extra></extra>",
         "lat": [
          50.674995
         ],
         "legendgroup": "USINE",
         "lon": [
          3.195737
         ],
         "marker": {
          "color": "#00cc96"
         },
         "mode": "markers",
         "name": "USINE",
         "showlegend": true,
         "subplot": "mapbox",
         "type": "scattermapbox"
        },
        {
         "customdata": [
          [
           1,
           11
          ]
         ],
         "hovertemplate": "properties.nom=LINNE<br>properties.y=%{lat}<br>properties.x=%{lon}<br>properties.nb_places_dispo=%{customdata[0]}<br>properties.nb_velos_dispo=%{customdata[1]}<extra></extra>",
         "lat": [
          50.676884
         ],
         "legendgroup": "LINNE",
         "lon": [
          3.187817
         ],
         "marker": {
          "color": "#ab63fa"
         },
         "mode": "markers",
         "name": "LINNE",
         "showlegend": true,
         "subplot": "mapbox",
         "type": "scattermapbox"
        },
        {
         "customdata": [
          [
           7,
           11
          ]
         ],
         "hovertemplate": "properties.nom=GUSTAVE DELORY<br>properties.y=%{lat}<br>properties.x=%{lon}<br>properties.nb_places_dispo=%{customdata[0]}<br>properties.nb_velos_dispo=%{customdata[1]}<extra></extra>",
         "lat": [
          50.674164
         ],
         "legendgroup": "GUSTAVE DELORY",
         "lon": [
          3.174519
         ],
         "marker": {
          "color": "#FFA15A"
         },
         "mode": "markers",
         "name": "GUSTAVE DELORY",
         "showlegend": true,
         "subplot": "mapbox",
         "type": "scattermapbox"
        },
        {
         "customdata": [
          [
           11,
           7
          ]
         ],
         "hovertemplate": "properties.nom=DANIELLE LESAFFRE<br>properties.y=%{lat}<br>properties.x=%{lon}<br>properties.nb_places_dispo=%{customdata[0]}<br>properties.nb_velos_dispo=%{customdata[1]}<extra></extra>",
         "lat": [
          50.682053
         ],
         "legendgroup": "DANIELLE LESAFFRE",
         "lon": [
          3.182205
         ],
         "marker": {
          "color": "#19d3f3"
         },
         "mode": "markers",
         "name": "DANIELLE LESAFFRE",
         "showlegend": true,
         "subplot": "mapbox",
         "type": "scattermapbox"
        },
        {
         "customdata": [
          [
           12,
           6
          ]
         ],
         "hovertemplate": "properties.nom=LANNOY<br>properties.y=%{lat}<br>properties.x=%{lon}<br>properties.nb_places_dispo=%{customdata[0]}<br>properties.nb_velos_dispo=%{customdata[1]}<extra></extra>",
         "lat": [
          50.68859
         ],
         "legendgroup": "LANNOY",
         "lon": [
          3.182028
         ],
         "marker": {
          "color": "#FF6692"
         },
         "mode": "markers",
         "name": "LANNOY",
         "showlegend": true,
         "subplot": "mapbox",
         "type": "scattermapbox"
        },
        {
         "customdata": [
          [
           10,
           2
          ]
         ],
         "hovertemplate": "properties.nom=SAINT JEAN-BAPTISTE<br>properties.y=%{lat}<br>properties.x=%{lon}<br>properties.nb_places_dispo=%{customdata[0]}<br>properties.nb_velos_dispo=%{customdata[1]}<extra></extra>",
         "lat": [
          50.679472
         ],
         "legendgroup": "SAINT JEAN-BAPTISTE",
         "lon": [
          3.179333
         ],
         "marker": {
          "color": "#B6E880"
         },
         "mode": "markers",
         "name": "SAINT JEAN-BAPTISTE",
         "showlegend": true,
         "subplot": "mapbox",
         "type": "scattermapbox"
        },
        {
         "customdata": [
          [
           28,
           2
          ]
         ],
         "hovertemplate": "properties.nom=ROUBAIX MAIRIE<br>properties.y=%{lat}<br>properties.x=%{lon}<br>properties.nb_places_dispo=%{customdata[0]}<br>properties.nb_velos_dispo=%{customdata[1]}<extra></extra>",
         "lat": [
          50.69184
         ],
         "legendgroup": "ROUBAIX MAIRIE",
         "lon": [
          3.173925
         ],
         "marker": {
          "color": "#FF97FF"
         },
         "mode": "markers",
         "name": "ROUBAIX MAIRIE",
         "showlegend": true,
         "subplot": "mapbox",
         "type": "scattermapbox"
        },
        {
         "customdata": [
          [
           2,
           10
          ]
         ],
         "hovertemplate": "properties.nom=PLACE TRICHON<br>properties.y=%{lat}<br>properties.x=%{lon}<br>properties.nb_places_dispo=%{customdata[0]}<br>properties.nb_velos_dispo=%{customdata[1]}<extra></extra>",
         "lat": [
          50.6903353
         ],
         "legendgroup": "PLACE TRICHON",
         "lon": [
          3.1690075
         ],
         "marker": {
          "color": "#FECB52"
         },
         "mode": "markers",
         "name": "PLACE TRICHON",
         "showlegend": true,
         "subplot": "mapbox",
         "type": "scattermapbox"
        },
        {
         "customdata": [
          [
           4,
           10
          ]
         ],
         "hovertemplate": "properties.nom=CENTRE NAUTIQUE<br>properties.y=%{lat}<br>properties.x=%{lon}<br>properties.nb_places_dispo=%{customdata[0]}<br>properties.nb_velos_dispo=%{customdata[1]}<extra></extra>",
         "lat": [
          50.691406
         ],
         "legendgroup": "CENTRE NAUTIQUE",
         "lon": [
          3.162704
         ],
         "marker": {
          "color": "#636efa"
         },
         "mode": "markers",
         "name": "CENTRE NAUTIQUE",
         "showlegend": true,
         "subplot": "mapbox",
         "type": "scattermapbox"
        },
        {
         "customdata": [
          [
           13,
           3
          ]
         ],
         "hovertemplate": "properties.nom=EPEULE MONTESQUIEU<br>properties.y=%{lat}<br>properties.x=%{lon}<br>properties.nb_places_dispo=%{customdata[0]}<br>properties.nb_velos_dispo=%{customdata[1]}<extra></extra>",
         "lat": [
          50.683987
         ],
         "legendgroup": "EPEULE MONTESQUIEU",
         "lon": [
          3.16327
         ],
         "marker": {
          "color": "#EF553B"
         },
         "mode": "markers",
         "name": "EPEULE MONTESQUIEU",
         "showlegend": true,
         "subplot": "mapbox",
         "type": "scattermapbox"
        },
        {
         "customdata": [
          [
           15,
           1
          ]
         ],
         "hovertemplate": "properties.nom=CHARLES DE GAULLE<br>properties.y=%{lat}<br>properties.x=%{lon}<br>properties.nb_places_dispo=%{customdata[0]}<br>properties.nb_velos_dispo=%{customdata[1]}<extra></extra>",
         "lat": [
          50.68645
         ],
         "legendgroup": "CHARLES DE GAULLE",
         "lon": [
          3.170006
         ],
         "marker": {
          "color": "#00cc96"
         },
         "mode": "markers",
         "name": "CHARLES DE GAULLE",
         "showlegend": true,
         "subplot": "mapbox",
         "type": "scattermapbox"
        },
        {
         "customdata": [
          [
           11,
           7
          ]
         ],
         "hovertemplate": "properties.nom=BVRD ARMENTIERES<br>properties.y=%{lat}<br>properties.x=%{lon}<br>properties.nb_places_dispo=%{customdata[0]}<br>properties.nb_velos_dispo=%{customdata[1]}<extra></extra>",
         "lat": [
          50.699436
         ],
         "legendgroup": "BVRD ARMENTIERES",
         "lon": [
          3.159658
         ],
         "marker": {
          "color": "#ab63fa"
         },
         "mode": "markers",
         "name": "BVRD ARMENTIERES",
         "showlegend": true,
         "subplot": "mapbox",
         "type": "scattermapbox"
        },
        {
         "customdata": [
          [
           1,
           17
          ]
         ],
         "hovertemplate": "properties.nom=NATIONS UNIES<br>properties.y=%{lat}<br>properties.x=%{lon}<br>properties.nb_places_dispo=%{customdata[0]}<br>properties.nb_velos_dispo=%{customdata[1]}<extra></extra>",
         "lat": [
          50.692368
         ],
         "legendgroup": "NATIONS UNIES",
         "lon": [
          3.185092
         ],
         "marker": {
          "color": "#FFA15A"
         },
         "mode": "markers",
         "name": "NATIONS UNIES",
         "showlegend": true,
         "subplot": "mapbox",
         "type": "scattermapbox"
        },
        {
         "customdata": [
          [
           2,
           9
          ]
         ],
         "hovertemplate": "properties.nom=DE LA VIGNE<br>properties.y=%{lat}<br>properties.x=%{lon}<br>properties.nb_places_dispo=%{customdata[0]}<br>properties.nb_velos_dispo=%{customdata[1]}<extra></extra>",
         "lat": [
          50.70076
         ],
         "legendgroup": "DE LA VIGNE",
         "lon": [
          3.18407
         ],
         "marker": {
          "color": "#19d3f3"
         },
         "mode": "markers",
         "name": "DE LA VIGNE",
         "showlegend": true,
         "subplot": "mapbox",
         "type": "scattermapbox"
        },
        {
         "customdata": [
          [
           14,
           4
          ]
         ],
         "hovertemplate": "properties.nom=TOURCOING GARE<br>properties.y=%{lat}<br>properties.x=%{lon}<br>properties.nb_places_dispo=%{customdata[0]}<br>properties.nb_velos_dispo=%{customdata[1]}<extra></extra>",
         "lat": [
          50.716907
         ],
         "legendgroup": "TOURCOING GARE",
         "lon": [
          3.167436
         ],
         "marker": {
          "color": "#FF6692"
         },
         "mode": "markers",
         "name": "TOURCOING GARE",
         "showlegend": true,
         "subplot": "mapbox",
         "type": "scattermapbox"
        },
        {
         "customdata": [
          [
           8,
           4
          ]
         ],
         "hovertemplate": "properties.nom=VICTOIRE<br>properties.y=%{lat}<br>properties.x=%{lon}<br>properties.nb_places_dispo=%{customdata[0]}<br>properties.nb_velos_dispo=%{customdata[1]}<extra></extra>",
         "lat": [
          50.718204
         ],
         "legendgroup": "VICTOIRE",
         "lon": [
          3.15749
         ],
         "marker": {
          "color": "#B6E880"
         },
         "mode": "markers",
         "name": "VICTOIRE",
         "showlegend": true,
         "subplot": "mapbox",
         "type": "scattermapbox"
        },
        {
         "customdata": [
          [
           10,
           2
          ]
         ],
         "hovertemplate": "properties.nom=F ROOSEVELT<br>properties.y=%{lat}<br>properties.x=%{lon}<br>properties.nb_places_dispo=%{customdata[0]}<br>properties.nb_velos_dispo=%{customdata[1]}<extra></extra>",
         "lat": [
          50.727453
         ],
         "legendgroup": "F ROOSEVELT",
         "lon": [
          3.166828
         ],
         "marker": {
          "color": "#FF97FF"
         },
         "mode": "markers",
         "name": "F ROOSEVELT",
         "showlegend": true,
         "subplot": "mapbox",
         "type": "scattermapbox"
        },
        {
         "customdata": [
          [
           1,
           7
          ]
         ],
         "hovertemplate": "properties.nom=JARDIN BOTANIQUE<br>properties.y=%{lat}<br>properties.x=%{lon}<br>properties.nb_places_dispo=%{customdata[0]}<br>properties.nb_velos_dispo=%{customdata[1]}<extra></extra>",
         "lat": [
          50.724581
         ],
         "legendgroup": "JARDIN BOTANIQUE",
         "lon": [
          3.166122
         ],
         "marker": {
          "color": "#FECB52"
         },
         "mode": "markers",
         "name": "JARDIN BOTANIQUE",
         "showlegend": true,
         "subplot": "mapbox",
         "type": "scattermapbox"
        },
        {
         "customdata": [
          [
           2,
           4
          ]
         ],
         "hovertemplate": "properties.nom=CAVELL<br>properties.y=%{lat}<br>properties.x=%{lon}<br>properties.nb_places_dispo=%{customdata[0]}<br>properties.nb_velos_dispo=%{customdata[1]}<extra></extra>",
         "lat": [
          50.72271
         ],
         "legendgroup": "CAVELL",
         "lon": [
          3.163794
         ],
         "marker": {
          "color": "#636efa"
         },
         "mode": "markers",
         "name": "CAVELL",
         "showlegend": true,
         "subplot": "mapbox",
         "type": "scattermapbox"
        },
        {
         "customdata": [
          [
           9,
           6
          ]
         ],
         "hovertemplate": "properties.nom=ROUGET DE L ISLE<br>properties.y=%{lat}<br>properties.x=%{lon}<br>properties.nb_places_dispo=%{customdata[0]}<br>properties.nb_velos_dispo=%{customdata[1]}<extra></extra>",
         "lat": [
          50.73418
         ],
         "legendgroup": "ROUGET DE L ISLE",
         "lon": [
          3.1681724
         ],
         "marker": {
          "color": "#EF553B"
         },
         "mode": "markers",
         "name": "ROUGET DE L ISLE",
         "showlegend": true,
         "subplot": "mapbox",
         "type": "scattermapbox"
        },
        {
         "customdata": [
          [
           6,
           0
          ]
         ],
         "hovertemplate": "properties.nom=RUE SAINT BLAISE<br>properties.y=%{lat}<br>properties.x=%{lon}<br>properties.nb_places_dispo=%{customdata[0]}<br>properties.nb_velos_dispo=%{customdata[1]}<extra></extra>",
         "lat": [
          50.728798
         ],
         "legendgroup": "RUE SAINT BLAISE",
         "lon": [
          3.158835
         ],
         "marker": {
          "color": "#00cc96"
         },
         "mode": "markers",
         "name": "RUE SAINT BLAISE",
         "showlegend": true,
         "subplot": "mapbox",
         "type": "scattermapbox"
        },
        {
         "customdata": [
          [
           10,
           2
          ]
         ],
         "hovertemplate": "properties.nom=RUE DE MENIN<br>properties.y=%{lat}<br>properties.x=%{lon}<br>properties.nb_places_dispo=%{customdata[0]}<br>properties.nb_velos_dispo=%{customdata[1]}<extra></extra>",
         "lat": [
          50.728798
         ],
         "legendgroup": "RUE DE MENIN",
         "lon": [
          3.154051
         ],
         "marker": {
          "color": "#ab63fa"
         },
         "mode": "markers",
         "name": "RUE DE MENIN",
         "showlegend": true,
         "subplot": "mapbox",
         "type": "scattermapbox"
        },
        {
         "customdata": [
          [
           22,
           0
          ]
         ],
         "hovertemplate": "properties.nom=TOURCOING MAIRIE<br>properties.y=%{lat}<br>properties.x=%{lon}<br>properties.nb_places_dispo=%{customdata[0]}<br>properties.nb_velos_dispo=%{customdata[1]}<extra></extra>",
         "lat": [
          50.72389
         ],
         "legendgroup": "TOURCOING MAIRIE",
         "lon": [
          3.160344
         ],
         "marker": {
          "color": "#FFA15A"
         },
         "mode": "markers",
         "name": "TOURCOING MAIRIE",
         "showlegend": true,
         "subplot": "mapbox",
         "type": "scattermapbox"
        },
        {
         "customdata": [
          [
           14,
           4
          ]
         ],
         "hovertemplate": "properties.nom=COLBERT<br>properties.y=%{lat}<br>properties.x=%{lon}<br>properties.nb_places_dispo=%{customdata[0]}<br>properties.nb_velos_dispo=%{customdata[1]}<extra></extra>",
         "lat": [
          50.72551
         ],
         "legendgroup": "COLBERT",
         "lon": [
          3.156554
         ],
         "marker": {
          "color": "#19d3f3"
         },
         "mode": "markers",
         "name": "COLBERT",
         "showlegend": true,
         "subplot": "mapbox",
         "type": "scattermapbox"
        },
        {
         "customdata": [
          [
           16,
           0
          ]
         ],
         "hovertemplate": "properties.nom=RUE DES POUTRAINS<br>properties.y=%{lat}<br>properties.x=%{lon}<br>properties.nb_places_dispo=%{customdata[0]}<br>properties.nb_velos_dispo=%{customdata[1]}<extra></extra>",
         "lat": [
          50.72263
         ],
         "legendgroup": "RUE DES POUTRAINS",
         "lon": [
          3.150377
         ],
         "marker": {
          "color": "#FF6692"
         },
         "mode": "markers",
         "name": "RUE DES POUTRAINS",
         "showlegend": true,
         "subplot": "mapbox",
         "type": "scattermapbox"
        },
        {
         "customdata": [
          [
           8,
           4
          ]
         ],
         "hovertemplate": "properties.nom=AVENUE MILLET<br>properties.y=%{lat}<br>properties.x=%{lon}<br>properties.nb_places_dispo=%{customdata[0]}<br>properties.nb_velos_dispo=%{customdata[1]}<extra></extra>",
         "lat": [
          50.72498
         ],
         "legendgroup": "AVENUE MILLET",
         "lon": [
          3.150884
         ],
         "marker": {
          "color": "#B6E880"
         },
         "mode": "markers",
         "name": "AVENUE MILLET",
         "showlegend": true,
         "subplot": "mapbox",
         "type": "scattermapbox"
        },
        {
         "customdata": [
          [
           17,
           1
          ]
         ],
         "hovertemplate": "properties.nom=SEBASTOPOL<br>properties.y=%{lat}<br>properties.x=%{lon}<br>properties.nb_places_dispo=%{customdata[0]}<br>properties.nb_velos_dispo=%{customdata[1]}<extra></extra>",
         "lat": [
          50.71732
         ],
         "legendgroup": "SEBASTOPOL",
         "lon": [
          3.162455
         ],
         "marker": {
          "color": "#FF97FF"
         },
         "mode": "markers",
         "name": "SEBASTOPOL",
         "showlegend": true,
         "subplot": "mapbox",
         "type": "scattermapbox"
        },
        {
         "customdata": [
          [
           12,
           0
          ]
         ],
         "hovertemplate": "properties.nom=RUE DE ROUBAIX<br>properties.y=%{lat}<br>properties.x=%{lon}<br>properties.nb_places_dispo=%{customdata[0]}<br>properties.nb_velos_dispo=%{customdata[1]}<extra></extra>",
         "lat": [
          50.7134
         ],
         "legendgroup": "RUE DE ROUBAIX",
         "lon": [
          3.165011
         ],
         "marker": {
          "color": "#FECB52"
         },
         "mode": "markers",
         "name": "RUE DE ROUBAIX",
         "showlegend": true,
         "subplot": "mapbox",
         "type": "scattermapbox"
        },
        {
         "customdata": [
          [
           12,
           4
          ]
         ],
         "hovertemplate": "properties.nom=PONT DE NEUVILLE<br>properties.y=%{lat}<br>properties.x=%{lon}<br>properties.nb_places_dispo=%{customdata[0]}<br>properties.nb_velos_dispo=%{customdata[1]}<extra></extra>",
         "lat": [
          50.73682
         ],
         "legendgroup": "PONT DE NEUVILLE",
         "lon": [
          3.1712308
         ],
         "marker": {
          "color": "#636efa"
         },
         "mode": "markers",
         "name": "PONT DE NEUVILLE",
         "showlegend": true,
         "subplot": "mapbox",
         "type": "scattermapbox"
        },
        {
         "customdata": [
          [
           12,
           4
          ]
         ],
         "hovertemplate": "properties.nom=CHARLES WATTINNE<br>properties.y=%{lat}<br>properties.x=%{lon}<br>properties.nb_places_dispo=%{customdata[0]}<br>properties.nb_velos_dispo=%{customdata[1]}<extra></extra>",
         "lat": [
          50.71473
         ],
         "legendgroup": "CHARLES WATTINNE",
         "lon": [
          3.157369
         ],
         "marker": {
          "color": "#EF553B"
         },
         "mode": "markers",
         "name": "CHARLES WATTINNE",
         "showlegend": true,
         "subplot": "mapbox",
         "type": "scattermapbox"
        },
        {
         "customdata": [
          [
           7,
           5
          ]
         ],
         "hovertemplate": "properties.nom=CARLIERS<br>properties.y=%{lat}<br>properties.x=%{lon}<br>properties.nb_places_dispo=%{customdata[0]}<br>properties.nb_velos_dispo=%{customdata[1]}<extra></extra>",
         "lat": [
          50.710735
         ],
         "legendgroup": "CARLIERS",
         "lon": [
          3.159881
         ],
         "marker": {
          "color": "#00cc96"
         },
         "mode": "markers",
         "name": "CARLIERS",
         "showlegend": true,
         "subplot": "mapbox",
         "type": "scattermapbox"
        },
        {
         "customdata": [
          [
           17,
           1
          ]
         ],
         "hovertemplate": "properties.nom=MERCURE<br>properties.y=%{lat}<br>properties.x=%{lon}<br>properties.nb_places_dispo=%{customdata[0]}<br>properties.nb_velos_dispo=%{customdata[1]}<extra></extra>",
         "lat": [
          50.704693
         ],
         "legendgroup": "MERCURE",
         "lon": [
          3.160515
         ],
         "marker": {
          "color": "#ab63fa"
         },
         "mode": "markers",
         "name": "MERCURE",
         "showlegend": true,
         "subplot": "mapbox",
         "type": "scattermapbox"
        },
        {
         "customdata": [
          [
           17,
           3
          ]
         ],
         "hovertemplate": "properties.nom=PLACE ROUSSEL<br>properties.y=%{lat}<br>properties.x=%{lon}<br>properties.nb_places_dispo=%{customdata[0]}<br>properties.nb_velos_dispo=%{customdata[1]}<extra></extra>",
         "lat": [
          50.721308
         ],
         "legendgroup": "PLACE ROUSSEL",
         "lon": [
          3.158104
         ],
         "marker": {
          "color": "#FFA15A"
         },
         "mode": "markers",
         "name": "PLACE ROUSSEL",
         "showlegend": true,
         "subplot": "mapbox",
         "type": "scattermapbox"
        },
        {
         "customdata": [
          [
           7,
           7
          ]
         ],
         "hovertemplate": "properties.nom=PHALEMPINS<br>properties.y=%{lat}<br>properties.x=%{lon}<br>properties.nb_places_dispo=%{customdata[0]}<br>properties.nb_velos_dispo=%{customdata[1]}<extra></extra>",
         "lat": [
          50.732406
         ],
         "legendgroup": "PHALEMPINS",
         "lon": [
          3.157764
         ],
         "marker": {
          "color": "#19d3f3"
         },
         "mode": "markers",
         "name": "PHALEMPINS",
         "showlegend": true,
         "subplot": "mapbox",
         "type": "scattermapbox"
        },
        {
         "customdata": [
          [
           3,
           1
          ]
         ],
         "hovertemplate": "properties.nom=LAËNNEC<br>properties.y=%{lat}<br>properties.x=%{lon}<br>properties.nb_places_dispo=%{customdata[0]}<br>properties.nb_velos_dispo=%{customdata[1]}<extra></extra>",
         "lat": [
          50.665946
         ],
         "legendgroup": "LAËNNEC",
         "lon": [
          3.198101
         ],
         "marker": {
          "color": "#FF6692"
         },
         "mode": "markers",
         "name": "LAËNNEC",
         "showlegend": true,
         "subplot": "mapbox",
         "type": "scattermapbox"
        },
        {
         "customdata": [
          [
           13,
           7
          ]
         ],
         "hovertemplate": "properties.nom=GEORGES HANNART<br>properties.y=%{lat}<br>properties.x=%{lon}<br>properties.nb_places_dispo=%{customdata[0]}<br>properties.nb_velos_dispo=%{customdata[1]}<extra></extra>",
         "lat": [
          50.67756
         ],
         "legendgroup": "GEORGES HANNART",
         "lon": [
          3.14019
         ],
         "marker": {
          "color": "#B6E880"
         },
         "mode": "markers",
         "name": "GEORGES HANNART",
         "showlegend": true,
         "subplot": "mapbox",
         "type": "scattermapbox"
        },
        {
         "customdata": [
          [
           1,
           0
          ]
         ],
         "hovertemplate": "properties.nom=TEST CYKLEO LILLE<br>properties.y=%{lat}<br>properties.x=%{lon}<br>properties.nb_places_dispo=%{customdata[0]}<br>properties.nb_velos_dispo=%{customdata[1]}<extra></extra>",
         "lat": [
          50.6151322
         ],
         "legendgroup": "TEST CYKLEO LILLE",
         "lon": [
          3.0863797
         ],
         "marker": {
          "color": "#FF97FF"
         },
         "mode": "markers",
         "name": "TEST CYKLEO LILLE",
         "showlegend": true,
         "subplot": "mapbox",
         "type": "scattermapbox"
        },
        {
         "customdata": [
          [
           3,
           17
          ]
         ],
         "hovertemplate": "properties.nom=ROUSSEAU<br>properties.y=%{lat}<br>properties.x=%{lon}<br>properties.nb_places_dispo=%{customdata[0]}<br>properties.nb_velos_dispo=%{customdata[1]}<extra></extra>",
         "lat": [
          50.64466
         ],
         "legendgroup": "ROUSSEAU",
         "lon": [
          3.03027
         ],
         "marker": {
          "color": "#FECB52"
         },
         "mode": "markers",
         "name": "ROUSSEAU",
         "showlegend": true,
         "subplot": "mapbox",
         "type": "scattermapbox"
        },
        {
         "customdata": [
          [
           0,
           20
          ]
         ],
         "hovertemplate": "properties.nom=SAINT CALIXTE<br>properties.y=%{lat}<br>properties.x=%{lon}<br>properties.nb_places_dispo=%{customdata[0]}<br>properties.nb_velos_dispo=%{customdata[1]}<extra></extra>",
         "lat": [
          50.65281
         ],
         "legendgroup": "SAINT CALIXTE",
         "lon": [
          3.02604
         ],
         "marker": {
          "color": "#636efa"
         },
         "mode": "markers",
         "name": "SAINT CALIXTE",
         "showlegend": true,
         "subplot": "mapbox",
         "type": "scattermapbox"
        },
        {
         "customdata": [
          [
           0,
           20
          ]
         ],
         "hovertemplate": "properties.nom=FACHES THUMESNIL MAIRIE<br>properties.y=%{lat}<br>properties.x=%{lon}<br>properties.nb_places_dispo=%{customdata[0]}<br>properties.nb_velos_dispo=%{customdata[1]}<extra></extra>",
         "lat": [
          50.603145
         ],
         "legendgroup": "FACHES THUMESNIL MAIRIE",
         "lon": [
          3.069127
         ],
         "marker": {
          "color": "#EF553B"
         },
         "mode": "markers",
         "name": "FACHES THUMESNIL MAIRIE",
         "showlegend": true,
         "subplot": "mapbox",
         "type": "scattermapbox"
        },
        {
         "customdata": [
          [
           8,
           12
          ]
         ],
         "hovertemplate": "properties.nom=RÉSISTANCE<br>properties.y=%{lat}<br>properties.x=%{lon}<br>properties.nb_places_dispo=%{customdata[0]}<br>properties.nb_velos_dispo=%{customdata[1]}<extra></extra>",
         "lat": [
          50.60709
         ],
         "legendgroup": "RÉSISTANCE",
         "lon": [
          3.06558
         ],
         "marker": {
          "color": "#00cc96"
         },
         "mode": "markers",
         "name": "RÉSISTANCE",
         "showlegend": true,
         "subplot": "mapbox",
         "type": "scattermapbox"
        },
        {
         "customdata": [
          [
           17,
           3
          ]
         ],
         "hovertemplate": "properties.nom=LE SART<br>properties.y=%{lat}<br>properties.x=%{lon}<br>properties.nb_places_dispo=%{customdata[0]}<br>properties.nb_velos_dispo=%{customdata[1]}<extra></extra>",
         "lat": [
          50.66351
         ],
         "legendgroup": "LE SART",
         "lon": [
          3.138682
         ],
         "marker": {
          "color": "#ab63fa"
         },
         "mode": "markers",
         "name": "LE SART",
         "showlegend": true,
         "subplot": "mapbox",
         "type": "scattermapbox"
        },
        {
         "customdata": [
          [
           8,
           12
          ]
         ],
         "hovertemplate": "properties.nom=LA MAILLERIE<br>properties.y=%{lat}<br>properties.x=%{lon}<br>properties.nb_places_dispo=%{customdata[0]}<br>properties.nb_velos_dispo=%{customdata[1]}<extra></extra>",
         "lat": [
          50.669719
         ],
         "legendgroup": "LA MAILLERIE",
         "lon": [
          3.143504
         ],
         "marker": {
          "color": "#FFA15A"
         },
         "mode": "markers",
         "name": "LA MAILLERIE",
         "showlegend": true,
         "subplot": "mapbox",
         "type": "scattermapbox"
        },
        {
         "customdata": [
          [
           12,
           12
          ]
         ],
         "hovertemplate": "properties.nom=HAUBOURDIN MAIRIE<br>properties.y=%{lat}<br>properties.x=%{lon}<br>properties.nb_places_dispo=%{customdata[0]}<br>properties.nb_velos_dispo=%{customdata[1]}<extra></extra>",
         "lat": [
          50.610949
         ],
         "legendgroup": "HAUBOURDIN MAIRIE",
         "lon": [
          2.983879
         ],
         "marker": {
          "color": "#19d3f3"
         },
         "mode": "markers",
         "name": "HAUBOURDIN MAIRIE",
         "showlegend": true,
         "subplot": "mapbox",
         "type": "scattermapbox"
        },
        {
         "customdata": [
          [
           12,
           8
          ]
         ],
         "hovertemplate": "properties.nom=MARQUETTE MAIRIE<br>properties.y=%{lat}<br>properties.x=%{lon}<br>properties.nb_places_dispo=%{customdata[0]}<br>properties.nb_velos_dispo=%{customdata[1]}<extra></extra>",
         "lat": [
          50.676607
         ],
         "legendgroup": "MARQUETTE MAIRIE",
         "lon": [
          3.065308
         ],
         "marker": {
          "color": "#FF6692"
         },
         "mode": "markers",
         "name": "MARQUETTE MAIRIE",
         "showlegend": true,
         "subplot": "mapbox",
         "type": "scattermapbox"
        },
        {
         "customdata": [
          [
           10,
           10
          ]
         ],
         "hovertemplate": "properties.nom=GRANDS MOULINS DE PARIS<br>properties.y=%{lat}<br>properties.x=%{lon}<br>properties.nb_places_dispo=%{customdata[0]}<br>properties.nb_velos_dispo=%{customdata[1]}<extra></extra>",
         "lat": [
          50.671436
         ],
         "legendgroup": "GRANDS MOULINS DE PARIS",
         "lon": [
          3.055025
         ],
         "marker": {
          "color": "#B6E880"
         },
         "mode": "markers",
         "name": "GRANDS MOULINS DE PARIS",
         "showlegend": true,
         "subplot": "mapbox",
         "type": "scattermapbox"
        }
       ],
       "layout": {
        "legend": {
         "title": {
          "text": "properties.nom"
         },
         "tracegroupgap": 0
        },
        "mapbox": {
         "center": {
          "lat": 50.650750488581316,
          "lon": 3.0973692394463668
         },
         "domain": {
          "x": [
           0,
           1
          ],
          "y": [
           0,
           1
          ]
         },
         "style": "open-street-map",
         "zoom": 10
        },
        "margin": {
         "t": 60
        },
        "template": {
         "data": {
          "bar": [
           {
            "error_x": {
             "color": "#2a3f5f"
            },
            "error_y": {
             "color": "#2a3f5f"
            },
            "marker": {
             "line": {
              "color": "#E5ECF6",
              "width": 0.5
             },
             "pattern": {
              "fillmode": "overlay",
              "size": 10,
              "solidity": 0.2
             }
            },
            "type": "bar"
           }
          ],
          "barpolar": [
           {
            "marker": {
             "line": {
              "color": "#E5ECF6",
              "width": 0.5
             },
             "pattern": {
              "fillmode": "overlay",
              "size": 10,
              "solidity": 0.2
             }
            },
            "type": "barpolar"
           }
          ],
          "carpet": [
           {
            "aaxis": {
             "endlinecolor": "#2a3f5f",
             "gridcolor": "white",
             "linecolor": "white",
             "minorgridcolor": "white",
             "startlinecolor": "#2a3f5f"
            },
            "baxis": {
             "endlinecolor": "#2a3f5f",
             "gridcolor": "white",
             "linecolor": "white",
             "minorgridcolor": "white",
             "startlinecolor": "#2a3f5f"
            },
            "type": "carpet"
           }
          ],
          "choropleth": [
           {
            "colorbar": {
             "outlinewidth": 0,
             "ticks": ""
            },
            "type": "choropleth"
           }
          ],
          "contour": [
           {
            "colorbar": {
             "outlinewidth": 0,
             "ticks": ""
            },
            "colorscale": [
             [
              0,
              "#0d0887"
             ],
             [
              0.1111111111111111,
              "#46039f"
             ],
             [
              0.2222222222222222,
              "#7201a8"
             ],
             [
              0.3333333333333333,
              "#9c179e"
             ],
             [
              0.4444444444444444,
              "#bd3786"
             ],
             [
              0.5555555555555556,
              "#d8576b"
             ],
             [
              0.6666666666666666,
              "#ed7953"
             ],
             [
              0.7777777777777778,
              "#fb9f3a"
             ],
             [
              0.8888888888888888,
              "#fdca26"
             ],
             [
              1,
              "#f0f921"
             ]
            ],
            "type": "contour"
           }
          ],
          "contourcarpet": [
           {
            "colorbar": {
             "outlinewidth": 0,
             "ticks": ""
            },
            "type": "contourcarpet"
           }
          ],
          "heatmap": [
           {
            "colorbar": {
             "outlinewidth": 0,
             "ticks": ""
            },
            "colorscale": [
             [
              0,
              "#0d0887"
             ],
             [
              0.1111111111111111,
              "#46039f"
             ],
             [
              0.2222222222222222,
              "#7201a8"
             ],
             [
              0.3333333333333333,
              "#9c179e"
             ],
             [
              0.4444444444444444,
              "#bd3786"
             ],
             [
              0.5555555555555556,
              "#d8576b"
             ],
             [
              0.6666666666666666,
              "#ed7953"
             ],
             [
              0.7777777777777778,
              "#fb9f3a"
             ],
             [
              0.8888888888888888,
              "#fdca26"
             ],
             [
              1,
              "#f0f921"
             ]
            ],
            "type": "heatmap"
           }
          ],
          "heatmapgl": [
           {
            "colorbar": {
             "outlinewidth": 0,
             "ticks": ""
            },
            "colorscale": [
             [
              0,
              "#0d0887"
             ],
             [
              0.1111111111111111,
              "#46039f"
             ],
             [
              0.2222222222222222,
              "#7201a8"
             ],
             [
              0.3333333333333333,
              "#9c179e"
             ],
             [
              0.4444444444444444,
              "#bd3786"
             ],
             [
              0.5555555555555556,
              "#d8576b"
             ],
             [
              0.6666666666666666,
              "#ed7953"
             ],
             [
              0.7777777777777778,
              "#fb9f3a"
             ],
             [
              0.8888888888888888,
              "#fdca26"
             ],
             [
              1,
              "#f0f921"
             ]
            ],
            "type": "heatmapgl"
           }
          ],
          "histogram": [
           {
            "marker": {
             "pattern": {
              "fillmode": "overlay",
              "size": 10,
              "solidity": 0.2
             }
            },
            "type": "histogram"
           }
          ],
          "histogram2d": [
           {
            "colorbar": {
             "outlinewidth": 0,
             "ticks": ""
            },
            "colorscale": [
             [
              0,
              "#0d0887"
             ],
             [
              0.1111111111111111,
              "#46039f"
             ],
             [
              0.2222222222222222,
              "#7201a8"
             ],
             [
              0.3333333333333333,
              "#9c179e"
             ],
             [
              0.4444444444444444,
              "#bd3786"
             ],
             [
              0.5555555555555556,
              "#d8576b"
             ],
             [
              0.6666666666666666,
              "#ed7953"
             ],
             [
              0.7777777777777778,
              "#fb9f3a"
             ],
             [
              0.8888888888888888,
              "#fdca26"
             ],
             [
              1,
              "#f0f921"
             ]
            ],
            "type": "histogram2d"
           }
          ],
          "histogram2dcontour": [
           {
            "colorbar": {
             "outlinewidth": 0,
             "ticks": ""
            },
            "colorscale": [
             [
              0,
              "#0d0887"
             ],
             [
              0.1111111111111111,
              "#46039f"
             ],
             [
              0.2222222222222222,
              "#7201a8"
             ],
             [
              0.3333333333333333,
              "#9c179e"
             ],
             [
              0.4444444444444444,
              "#bd3786"
             ],
             [
              0.5555555555555556,
              "#d8576b"
             ],
             [
              0.6666666666666666,
              "#ed7953"
             ],
             [
              0.7777777777777778,
              "#fb9f3a"
             ],
             [
              0.8888888888888888,
              "#fdca26"
             ],
             [
              1,
              "#f0f921"
             ]
            ],
            "type": "histogram2dcontour"
           }
          ],
          "mesh3d": [
           {
            "colorbar": {
             "outlinewidth": 0,
             "ticks": ""
            },
            "type": "mesh3d"
           }
          ],
          "parcoords": [
           {
            "line": {
             "colorbar": {
              "outlinewidth": 0,
              "ticks": ""
             }
            },
            "type": "parcoords"
           }
          ],
          "pie": [
           {
            "automargin": true,
            "type": "pie"
           }
          ],
          "scatter": [
           {
            "fillpattern": {
             "fillmode": "overlay",
             "size": 10,
             "solidity": 0.2
            },
            "type": "scatter"
           }
          ],
          "scatter3d": [
           {
            "line": {
             "colorbar": {
              "outlinewidth": 0,
              "ticks": ""
             }
            },
            "marker": {
             "colorbar": {
              "outlinewidth": 0,
              "ticks": ""
             }
            },
            "type": "scatter3d"
           }
          ],
          "scattercarpet": [
           {
            "marker": {
             "colorbar": {
              "outlinewidth": 0,
              "ticks": ""
             }
            },
            "type": "scattercarpet"
           }
          ],
          "scattergeo": [
           {
            "marker": {
             "colorbar": {
              "outlinewidth": 0,
              "ticks": ""
             }
            },
            "type": "scattergeo"
           }
          ],
          "scattergl": [
           {
            "marker": {
             "colorbar": {
              "outlinewidth": 0,
              "ticks": ""
             }
            },
            "type": "scattergl"
           }
          ],
          "scattermapbox": [
           {
            "marker": {
             "colorbar": {
              "outlinewidth": 0,
              "ticks": ""
             }
            },
            "type": "scattermapbox"
           }
          ],
          "scatterpolar": [
           {
            "marker": {
             "colorbar": {
              "outlinewidth": 0,
              "ticks": ""
             }
            },
            "type": "scatterpolar"
           }
          ],
          "scatterpolargl": [
           {
            "marker": {
             "colorbar": {
              "outlinewidth": 0,
              "ticks": ""
             }
            },
            "type": "scatterpolargl"
           }
          ],
          "scatterternary": [
           {
            "marker": {
             "colorbar": {
              "outlinewidth": 0,
              "ticks": ""
             }
            },
            "type": "scatterternary"
           }
          ],
          "surface": [
           {
            "colorbar": {
             "outlinewidth": 0,
             "ticks": ""
            },
            "colorscale": [
             [
              0,
              "#0d0887"
             ],
             [
              0.1111111111111111,
              "#46039f"
             ],
             [
              0.2222222222222222,
              "#7201a8"
             ],
             [
              0.3333333333333333,
              "#9c179e"
             ],
             [
              0.4444444444444444,
              "#bd3786"
             ],
             [
              0.5555555555555556,
              "#d8576b"
             ],
             [
              0.6666666666666666,
              "#ed7953"
             ],
             [
              0.7777777777777778,
              "#fb9f3a"
             ],
             [
              0.8888888888888888,
              "#fdca26"
             ],
             [
              1,
              "#f0f921"
             ]
            ],
            "type": "surface"
           }
          ],
          "table": [
           {
            "cells": {
             "fill": {
              "color": "#EBF0F8"
             },
             "line": {
              "color": "white"
             }
            },
            "header": {
             "fill": {
              "color": "#C8D4E3"
             },
             "line": {
              "color": "white"
             }
            },
            "type": "table"
           }
          ]
         },
         "layout": {
          "annotationdefaults": {
           "arrowcolor": "#2a3f5f",
           "arrowhead": 0,
           "arrowwidth": 1
          },
          "autotypenumbers": "strict",
          "coloraxis": {
           "colorbar": {
            "outlinewidth": 0,
            "ticks": ""
           }
          },
          "colorscale": {
           "diverging": [
            [
             0,
             "#8e0152"
            ],
            [
             0.1,
             "#c51b7d"
            ],
            [
             0.2,
             "#de77ae"
            ],
            [
             0.3,
             "#f1b6da"
            ],
            [
             0.4,
             "#fde0ef"
            ],
            [
             0.5,
             "#f7f7f7"
            ],
            [
             0.6,
             "#e6f5d0"
            ],
            [
             0.7,
             "#b8e186"
            ],
            [
             0.8,
             "#7fbc41"
            ],
            [
             0.9,
             "#4d9221"
            ],
            [
             1,
             "#276419"
            ]
           ],
           "sequential": [
            [
             0,
             "#0d0887"
            ],
            [
             0.1111111111111111,
             "#46039f"
            ],
            [
             0.2222222222222222,
             "#7201a8"
            ],
            [
             0.3333333333333333,
             "#9c179e"
            ],
            [
             0.4444444444444444,
             "#bd3786"
            ],
            [
             0.5555555555555556,
             "#d8576b"
            ],
            [
             0.6666666666666666,
             "#ed7953"
            ],
            [
             0.7777777777777778,
             "#fb9f3a"
            ],
            [
             0.8888888888888888,
             "#fdca26"
            ],
            [
             1,
             "#f0f921"
            ]
           ],
           "sequentialminus": [
            [
             0,
             "#0d0887"
            ],
            [
             0.1111111111111111,
             "#46039f"
            ],
            [
             0.2222222222222222,
             "#7201a8"
            ],
            [
             0.3333333333333333,
             "#9c179e"
            ],
            [
             0.4444444444444444,
             "#bd3786"
            ],
            [
             0.5555555555555556,
             "#d8576b"
            ],
            [
             0.6666666666666666,
             "#ed7953"
            ],
            [
             0.7777777777777778,
             "#fb9f3a"
            ],
            [
             0.8888888888888888,
             "#fdca26"
            ],
            [
             1,
             "#f0f921"
            ]
           ]
          },
          "colorway": [
           "#636efa",
           "#EF553B",
           "#00cc96",
           "#ab63fa",
           "#FFA15A",
           "#19d3f3",
           "#FF6692",
           "#B6E880",
           "#FF97FF",
           "#FECB52"
          ],
          "font": {
           "color": "#2a3f5f"
          },
          "geo": {
           "bgcolor": "white",
           "lakecolor": "white",
           "landcolor": "#E5ECF6",
           "showlakes": true,
           "showland": true,
           "subunitcolor": "white"
          },
          "hoverlabel": {
           "align": "left"
          },
          "hovermode": "closest",
          "mapbox": {
           "style": "light"
          },
          "paper_bgcolor": "white",
          "plot_bgcolor": "#E5ECF6",
          "polar": {
           "angularaxis": {
            "gridcolor": "white",
            "linecolor": "white",
            "ticks": ""
           },
           "bgcolor": "#E5ECF6",
           "radialaxis": {
            "gridcolor": "white",
            "linecolor": "white",
            "ticks": ""
           }
          },
          "scene": {
           "xaxis": {
            "backgroundcolor": "#E5ECF6",
            "gridcolor": "white",
            "gridwidth": 2,
            "linecolor": "white",
            "showbackground": true,
            "ticks": "",
            "zerolinecolor": "white"
           },
           "yaxis": {
            "backgroundcolor": "#E5ECF6",
            "gridcolor": "white",
            "gridwidth": 2,
            "linecolor": "white",
            "showbackground": true,
            "ticks": "",
            "zerolinecolor": "white"
           },
           "zaxis": {
            "backgroundcolor": "#E5ECF6",
            "gridcolor": "white",
            "gridwidth": 2,
            "linecolor": "white",
            "showbackground": true,
            "ticks": "",
            "zerolinecolor": "white"
           }
          },
          "shapedefaults": {
           "line": {
            "color": "#2a3f5f"
           }
          },
          "ternary": {
           "aaxis": {
            "gridcolor": "white",
            "linecolor": "white",
            "ticks": ""
           },
           "baxis": {
            "gridcolor": "white",
            "linecolor": "white",
            "ticks": ""
           },
           "bgcolor": "#E5ECF6",
           "caxis": {
            "gridcolor": "white",
            "linecolor": "white",
            "ticks": ""
           }
          },
          "title": {
           "x": 0.05
          },
          "xaxis": {
           "automargin": true,
           "gridcolor": "white",
           "linecolor": "white",
           "ticks": "",
           "title": {
            "standoff": 15
           },
           "zerolinecolor": "white",
           "zerolinewidth": 2
          },
          "yaxis": {
           "automargin": true,
           "gridcolor": "white",
           "linecolor": "white",
           "ticks": "",
           "title": {
            "standoff": 15
           },
           "zerolinecolor": "white",
           "zerolinewidth": 2
          }
         }
        }
       }
      }
     },
     "metadata": {},
     "output_type": "display_data"
    }
   ],
   "source": [
    "import plotly.express as px\n",
    "import geopandas as gpd\n",
    "import pandas as pd\n",
    "import matplotlib.pyplot as plt\n",
    "from geodatasets import get_path\n",
    "\n",
    "fig = px.scatter_mapbox(df,\n",
    "                        lat=\"properties.y\",\n",
    "                        lon=\"properties.x\", \n",
    "                        hover_data = {\"properties.nb_places_dispo\" : True,\n",
    "                            \"properties.nb_velos_dispo\" : True},\n",
    "                        color=\"properties.nom\",\n",
    "                        color_continuous_scale=px.colors.cyclical.IceFire,\n",
    "                        size_max=15, \n",
    "                        zoom=10)\n",
    "fig.update_layout(mapbox_style=\"open-street-map\")\n",
    "\n",
    "fig.show()"
   ]
  }
 ],
 "metadata": {
  "kernelspec": {
   "display_name": "Python 3",
   "language": "python",
   "name": "python3"
  },
  "language_info": {
   "codemirror_mode": {
    "name": "ipython",
    "version": 3
   },
   "file_extension": ".py",
   "mimetype": "text/x-python",
   "name": "python",
   "nbconvert_exporter": "python",
   "pygments_lexer": "ipython3",
   "version": "3.12.7"
  }
 },
 "nbformat": 4,
 "nbformat_minor": 2
}
