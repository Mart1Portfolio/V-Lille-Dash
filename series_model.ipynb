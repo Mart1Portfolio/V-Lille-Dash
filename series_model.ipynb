{
 "cells": [
  {
   "cell_type": "code",
   "execution_count": 20,
   "metadata": {},
   "outputs": [],
   "source": [
    "import pandas as pd\n",
    "import os"
   ]
  },
  {
   "cell_type": "code",
   "execution_count": null,
   "metadata": {},
   "outputs": [
    {
     "data": {
      "application/vnd.microsoft.datawrangler.viewer.v0+json": {
       "columns": [
        {
         "name": "index",
         "rawType": "int64",
         "type": "integer"
        },
        {
         "name": "Feature",
         "rawType": "object",
         "type": "string"
        },
        {
         "name": "ilevia:vlille_temps_reel",
         "rawType": "object",
         "type": "string"
        },
        {
         "name": "vlille_temps_reel.1",
         "rawType": "object",
         "type": "string"
        },
        {
         "name": "Point",
         "rawType": "object",
         "type": "string"
        },
        {
         "name": "geom",
         "rawType": "object",
         "type": "string"
        },
        {
         "name": "EPSG:4326",
         "rawType": "object",
         "type": "string"
        },
        {
         "name": "[3.075992, 50.641926]",
         "rawType": "object",
         "type": "string"
        },
        {
         "name": "METROPOLE EUROPEENNE DE LILLE",
         "rawType": "object",
         "type": "string"
        },
        {
         "name": "MEL RUE DU BALLON",
         "rawType": "object",
         "type": "string"
        },
        {
         "name": "Unnamed: 9",
         "rawType": "float64",
         "type": "float"
        },
        {
         "name": "LILLE",
         "rawType": "object",
         "type": "string"
        },
        {
         "name": "RÉFORMÉ",
         "rawType": "object",
         "type": "string"
        },
        {
         "name": "AVEC TPE",
         "rawType": "object",
         "type": "string"
        },
        {
         "name": "0",
         "rawType": "int64",
         "type": "integer"
        },
        {
         "name": "0.1",
         "rawType": "int64",
         "type": "integer"
        },
        {
         "name": "DÉCONNECTÉ",
         "rawType": "object",
         "type": "string"
        },
        {
         "name": "3.075992",
         "rawType": "float64",
         "type": "float"
        },
        {
         "name": "50.641926",
         "rawType": "float64",
         "type": "float"
        },
        {
         "name": "2022-11-29T10:47:16.181+00:00",
         "rawType": "object",
         "type": "string"
        },
        {
         "name": "24_12_2024",
         "rawType": "object",
         "type": "string"
        },
        {
         "name": "09_43.c",
         "rawType": "object",
         "type": "string"
        }
       ],
       "conversionMethod": "pd.DataFrame",
       "ref": "711369db-c782-4075-984a-b9959bbfceea",
       "rows": [
        [
         "0",
         "Feature",
         "ilevia:vlille_temps_reel",
         "vlille_temps_reel.105",
         "Point",
         "geom",
         "EPSG:4326",
         "[3.10231, 50.638126]",
         "VERDUN",
         "69 AVENUE DE VERDUN",
         null,
         "MONS EN BAROEUL",
         "RÉFORMÉ",
         "AVEC TPE",
         "0",
         "0",
         "DÉCONNECTÉ",
         "3.10231",
         "50.638126",
         "2022-11-29T10:47:16.183+00:00",
         "24_12_2024",
         "09_43.c"
        ],
        [
         "1",
         "Feature",
         "ilevia:vlille_temps_reel",
         "vlille_temps_reel.106",
         "Point",
         "geom",
         "EPSG:4326",
         "[3.112704, 50.638123]",
         "CONCORDE",
         "27 BOULEVARD ALPHONSE GAYET",
         null,
         "MONS EN BAROEUL",
         "RÉFORMÉ",
         "AVEC TPE",
         "0",
         "0",
         "DÉCONNECTÉ",
         "3.112704",
         "50.638123",
         "2022-11-29T10:47:16.183+00:00",
         "24_12_2024",
         "09_43.c"
        ],
        [
         "2",
         "Feature",
         "ilevia:vlille_temps_reel",
         "vlille_temps_reel.109",
         "Point",
         "geom",
         "EPSG:4326",
         "[3.030667, 50.623466]",
         "SQUARE DU PORTUGAL",
         "FACE AU 204 RUE DE LA BASSEE",
         null,
         "LILLE",
         "RÉFORMÉ",
         "AVEC TPE",
         "0",
         "0",
         "DÉCONNECTÉ",
         "3.030667",
         "50.623466",
         "2022-11-29T10:47:16.184+00:00",
         "24_12_2024",
         "09_43.c"
        ],
        [
         "3",
         "Feature",
         "ilevia:vlille_temps_reel",
         "vlille_temps_reel.112",
         "Point",
         "geom",
         "EPSG:4326",
         "[3.115101, 50.626846]",
         "SQUARE CHARLES DE GAULLE",
         "4, RUE FERDINAND BUISSON",
         null,
         "HELLEMMES",
         "RÉFORMÉ",
         "AVEC TPE",
         "0",
         "0",
         "DÉCONNECTÉ",
         "3.115101",
         "50.626846",
         "2022-11-29T10:47:16.184+00:00",
         "24_12_2024",
         "09_43.c"
        ],
        [
         "4",
         "Feature",
         "ilevia:vlille_temps_reel",
         "vlille_temps_reel.118",
         "Point",
         "geom",
         "EPSG:4326",
         "[3.022364, 50.641834]",
         "COLLEGE LAVOISIER",
         "56, RUE PAUL VAILLANT",
         null,
         "LAMBERSART",
         "RÉFORMÉ",
         "AVEC TPE",
         "0",
         "0",
         "DÉCONNECTÉ",
         "3.022364",
         "50.641834",
         "2022-11-29T10:47:16.185+00:00",
         "24_12_2024",
         "09_43.c"
        ]
       ],
       "shape": {
        "columns": 21,
        "rows": 5
       }
      },
      "text/html": [
       "<div>\n",
       "<style scoped>\n",
       "    .dataframe tbody tr th:only-of-type {\n",
       "        vertical-align: middle;\n",
       "    }\n",
       "\n",
       "    .dataframe tbody tr th {\n",
       "        vertical-align: top;\n",
       "    }\n",
       "\n",
       "    .dataframe thead th {\n",
       "        text-align: right;\n",
       "    }\n",
       "</style>\n",
       "<table border=\"1\" class=\"dataframe\">\n",
       "  <thead>\n",
       "    <tr style=\"text-align: right;\">\n",
       "      <th></th>\n",
       "      <th>Feature</th>\n",
       "      <th>ilevia:vlille_temps_reel</th>\n",
       "      <th>vlille_temps_reel.1</th>\n",
       "      <th>Point</th>\n",
       "      <th>geom</th>\n",
       "      <th>EPSG:4326</th>\n",
       "      <th>[3.075992, 50.641926]</th>\n",
       "      <th>METROPOLE EUROPEENNE DE LILLE</th>\n",
       "      <th>MEL RUE DU BALLON</th>\n",
       "      <th>Unnamed: 9</th>\n",
       "      <th>...</th>\n",
       "      <th>RÉFORMÉ</th>\n",
       "      <th>AVEC TPE</th>\n",
       "      <th>0</th>\n",
       "      <th>0.1</th>\n",
       "      <th>DÉCONNECTÉ</th>\n",
       "      <th>3.075992</th>\n",
       "      <th>50.641926</th>\n",
       "      <th>2022-11-29T10:47:16.181+00:00</th>\n",
       "      <th>24_12_2024</th>\n",
       "      <th>09_43.c</th>\n",
       "    </tr>\n",
       "  </thead>\n",
       "  <tbody>\n",
       "    <tr>\n",
       "      <th>0</th>\n",
       "      <td>Feature</td>\n",
       "      <td>ilevia:vlille_temps_reel</td>\n",
       "      <td>vlille_temps_reel.105</td>\n",
       "      <td>Point</td>\n",
       "      <td>geom</td>\n",
       "      <td>EPSG:4326</td>\n",
       "      <td>[3.10231, 50.638126]</td>\n",
       "      <td>VERDUN</td>\n",
       "      <td>69 AVENUE DE VERDUN</td>\n",
       "      <td>NaN</td>\n",
       "      <td>...</td>\n",
       "      <td>RÉFORMÉ</td>\n",
       "      <td>AVEC TPE</td>\n",
       "      <td>0</td>\n",
       "      <td>0</td>\n",
       "      <td>DÉCONNECTÉ</td>\n",
       "      <td>3.102310</td>\n",
       "      <td>50.638126</td>\n",
       "      <td>2022-11-29T10:47:16.183+00:00</td>\n",
       "      <td>24_12_2024</td>\n",
       "      <td>09_43.c</td>\n",
       "    </tr>\n",
       "    <tr>\n",
       "      <th>1</th>\n",
       "      <td>Feature</td>\n",
       "      <td>ilevia:vlille_temps_reel</td>\n",
       "      <td>vlille_temps_reel.106</td>\n",
       "      <td>Point</td>\n",
       "      <td>geom</td>\n",
       "      <td>EPSG:4326</td>\n",
       "      <td>[3.112704, 50.638123]</td>\n",
       "      <td>CONCORDE</td>\n",
       "      <td>27 BOULEVARD ALPHONSE GAYET</td>\n",
       "      <td>NaN</td>\n",
       "      <td>...</td>\n",
       "      <td>RÉFORMÉ</td>\n",
       "      <td>AVEC TPE</td>\n",
       "      <td>0</td>\n",
       "      <td>0</td>\n",
       "      <td>DÉCONNECTÉ</td>\n",
       "      <td>3.112704</td>\n",
       "      <td>50.638123</td>\n",
       "      <td>2022-11-29T10:47:16.183+00:00</td>\n",
       "      <td>24_12_2024</td>\n",
       "      <td>09_43.c</td>\n",
       "    </tr>\n",
       "    <tr>\n",
       "      <th>2</th>\n",
       "      <td>Feature</td>\n",
       "      <td>ilevia:vlille_temps_reel</td>\n",
       "      <td>vlille_temps_reel.109</td>\n",
       "      <td>Point</td>\n",
       "      <td>geom</td>\n",
       "      <td>EPSG:4326</td>\n",
       "      <td>[3.030667, 50.623466]</td>\n",
       "      <td>SQUARE DU PORTUGAL</td>\n",
       "      <td>FACE AU 204 RUE DE LA BASSEE</td>\n",
       "      <td>NaN</td>\n",
       "      <td>...</td>\n",
       "      <td>RÉFORMÉ</td>\n",
       "      <td>AVEC TPE</td>\n",
       "      <td>0</td>\n",
       "      <td>0</td>\n",
       "      <td>DÉCONNECTÉ</td>\n",
       "      <td>3.030667</td>\n",
       "      <td>50.623466</td>\n",
       "      <td>2022-11-29T10:47:16.184+00:00</td>\n",
       "      <td>24_12_2024</td>\n",
       "      <td>09_43.c</td>\n",
       "    </tr>\n",
       "    <tr>\n",
       "      <th>3</th>\n",
       "      <td>Feature</td>\n",
       "      <td>ilevia:vlille_temps_reel</td>\n",
       "      <td>vlille_temps_reel.112</td>\n",
       "      <td>Point</td>\n",
       "      <td>geom</td>\n",
       "      <td>EPSG:4326</td>\n",
       "      <td>[3.115101, 50.626846]</td>\n",
       "      <td>SQUARE CHARLES DE GAULLE</td>\n",
       "      <td>4, RUE FERDINAND BUISSON</td>\n",
       "      <td>NaN</td>\n",
       "      <td>...</td>\n",
       "      <td>RÉFORMÉ</td>\n",
       "      <td>AVEC TPE</td>\n",
       "      <td>0</td>\n",
       "      <td>0</td>\n",
       "      <td>DÉCONNECTÉ</td>\n",
       "      <td>3.115101</td>\n",
       "      <td>50.626846</td>\n",
       "      <td>2022-11-29T10:47:16.184+00:00</td>\n",
       "      <td>24_12_2024</td>\n",
       "      <td>09_43.c</td>\n",
       "    </tr>\n",
       "    <tr>\n",
       "      <th>4</th>\n",
       "      <td>Feature</td>\n",
       "      <td>ilevia:vlille_temps_reel</td>\n",
       "      <td>vlille_temps_reel.118</td>\n",
       "      <td>Point</td>\n",
       "      <td>geom</td>\n",
       "      <td>EPSG:4326</td>\n",
       "      <td>[3.022364, 50.641834]</td>\n",
       "      <td>COLLEGE LAVOISIER</td>\n",
       "      <td>56, RUE PAUL VAILLANT</td>\n",
       "      <td>NaN</td>\n",
       "      <td>...</td>\n",
       "      <td>RÉFORMÉ</td>\n",
       "      <td>AVEC TPE</td>\n",
       "      <td>0</td>\n",
       "      <td>0</td>\n",
       "      <td>DÉCONNECTÉ</td>\n",
       "      <td>3.022364</td>\n",
       "      <td>50.641834</td>\n",
       "      <td>2022-11-29T10:47:16.185+00:00</td>\n",
       "      <td>24_12_2024</td>\n",
       "      <td>09_43.c</td>\n",
       "    </tr>\n",
       "  </tbody>\n",
       "</table>\n",
       "<p>5 rows × 21 columns</p>\n",
       "</div>"
      ],
      "text/plain": [
       "   Feature  ilevia:vlille_temps_reel    vlille_temps_reel.1  Point  geom  \\\n",
       "0  Feature  ilevia:vlille_temps_reel  vlille_temps_reel.105  Point  geom   \n",
       "1  Feature  ilevia:vlille_temps_reel  vlille_temps_reel.106  Point  geom   \n",
       "2  Feature  ilevia:vlille_temps_reel  vlille_temps_reel.109  Point  geom   \n",
       "3  Feature  ilevia:vlille_temps_reel  vlille_temps_reel.112  Point  geom   \n",
       "4  Feature  ilevia:vlille_temps_reel  vlille_temps_reel.118  Point  geom   \n",
       "\n",
       "   EPSG:4326  [3.075992, 50.641926] METROPOLE EUROPEENNE DE LILLE  \\\n",
       "0  EPSG:4326   [3.10231, 50.638126]                        VERDUN   \n",
       "1  EPSG:4326  [3.112704, 50.638123]                      CONCORDE   \n",
       "2  EPSG:4326  [3.030667, 50.623466]            SQUARE DU PORTUGAL   \n",
       "3  EPSG:4326  [3.115101, 50.626846]      SQUARE CHARLES DE GAULLE   \n",
       "4  EPSG:4326  [3.022364, 50.641834]             COLLEGE LAVOISIER   \n",
       "\n",
       "              MEL RUE DU BALLON  Unnamed: 9  ...  RÉFORMÉ  AVEC TPE  0  0.1  \\\n",
       "0           69 AVENUE DE VERDUN         NaN  ...  RÉFORMÉ  AVEC TPE  0    0   \n",
       "1   27 BOULEVARD ALPHONSE GAYET         NaN  ...  RÉFORMÉ  AVEC TPE  0    0   \n",
       "2  FACE AU 204 RUE DE LA BASSEE         NaN  ...  RÉFORMÉ  AVEC TPE  0    0   \n",
       "3      4, RUE FERDINAND BUISSON         NaN  ...  RÉFORMÉ  AVEC TPE  0    0   \n",
       "4         56, RUE PAUL VAILLANT         NaN  ...  RÉFORMÉ  AVEC TPE  0    0   \n",
       "\n",
       "   DÉCONNECTÉ  3.075992  50.641926  2022-11-29T10:47:16.181+00:00  24_12_2024  \\\n",
       "0  DÉCONNECTÉ  3.102310  50.638126  2022-11-29T10:47:16.183+00:00  24_12_2024   \n",
       "1  DÉCONNECTÉ  3.112704  50.638123  2022-11-29T10:47:16.183+00:00  24_12_2024   \n",
       "2  DÉCONNECTÉ  3.030667  50.623466  2022-11-29T10:47:16.184+00:00  24_12_2024   \n",
       "3  DÉCONNECTÉ  3.115101  50.626846  2022-11-29T10:47:16.184+00:00  24_12_2024   \n",
       "4  DÉCONNECTÉ  3.022364  50.641834  2022-11-29T10:47:16.185+00:00  24_12_2024   \n",
       "\n",
       "   09_43.c  \n",
       "0  09_43.c  \n",
       "1  09_43.c  \n",
       "2  09_43.c  \n",
       "3  09_43.c  \n",
       "4  09_43.c  \n",
       "\n",
       "[5 rows x 21 columns]"
      ]
     },
     "metadata": {},
     "output_type": "display_data"
    },
    {
     "ename": "ValueError",
     "evalue": "Length mismatch: Expected axis has 21 elements, new values have 19 elements",
     "output_type": "error",
     "traceback": [
      "\u001b[1;31m---------------------------------------------------------------------------\u001b[0m",
      "\u001b[1;31mValueError\u001b[0m                                Traceback (most recent call last)",
      "Cell \u001b[1;32mIn[37], line 17\u001b[0m\n\u001b[0;32m     15\u001b[0m sub_df \u001b[38;5;241m=\u001b[39m pd\u001b[38;5;241m.\u001b[39mread_csv(path \u001b[38;5;241m+\u001b[39m \u001b[38;5;124m\"\u001b[39m\u001b[38;5;124m/\u001b[39m\u001b[38;5;124m\"\u001b[39m \u001b[38;5;241m+\u001b[39m file)\n\u001b[0;32m     16\u001b[0m display(sub_df\u001b[38;5;241m.\u001b[39mhead())\n\u001b[1;32m---> 17\u001b[0m sub_df\u001b[38;5;241m.\u001b[39mcolumns \u001b[38;5;241m=\u001b[39m columns_name\n\u001b[0;32m     18\u001b[0m \u001b[38;5;28mprint\u001b[39m(file)\n\u001b[0;32m     19\u001b[0m \u001b[38;5;28mprint\u001b[39m(sub_df\u001b[38;5;241m.\u001b[39mshape)\n",
      "File \u001b[1;32mc:\\Users\\Mart1\\anaconda3\\Lib\\site-packages\\pandas\\core\\generic.py:6313\u001b[0m, in \u001b[0;36mNDFrame.__setattr__\u001b[1;34m(self, name, value)\u001b[0m\n\u001b[0;32m   6311\u001b[0m \u001b[38;5;28;01mtry\u001b[39;00m:\n\u001b[0;32m   6312\u001b[0m     \u001b[38;5;28mobject\u001b[39m\u001b[38;5;241m.\u001b[39m\u001b[38;5;21m__getattribute__\u001b[39m(\u001b[38;5;28mself\u001b[39m, name)\n\u001b[1;32m-> 6313\u001b[0m     \u001b[38;5;28;01mreturn\u001b[39;00m \u001b[38;5;28mobject\u001b[39m\u001b[38;5;241m.\u001b[39m\u001b[38;5;21m__setattr__\u001b[39m(\u001b[38;5;28mself\u001b[39m, name, value)\n\u001b[0;32m   6314\u001b[0m \u001b[38;5;28;01mexcept\u001b[39;00m \u001b[38;5;167;01mAttributeError\u001b[39;00m:\n\u001b[0;32m   6315\u001b[0m     \u001b[38;5;28;01mpass\u001b[39;00m\n",
      "File \u001b[1;32mproperties.pyx:69\u001b[0m, in \u001b[0;36mpandas._libs.properties.AxisProperty.__set__\u001b[1;34m()\u001b[0m\n",
      "File \u001b[1;32mc:\\Users\\Mart1\\anaconda3\\Lib\\site-packages\\pandas\\core\\generic.py:814\u001b[0m, in \u001b[0;36mNDFrame._set_axis\u001b[1;34m(self, axis, labels)\u001b[0m\n\u001b[0;32m    809\u001b[0m \u001b[38;5;250m\u001b[39m\u001b[38;5;124;03m\"\"\"\u001b[39;00m\n\u001b[0;32m    810\u001b[0m \u001b[38;5;124;03mThis is called from the cython code when we set the `index` attribute\u001b[39;00m\n\u001b[0;32m    811\u001b[0m \u001b[38;5;124;03mdirectly, e.g. `series.index = [1, 2, 3]`.\u001b[39;00m\n\u001b[0;32m    812\u001b[0m \u001b[38;5;124;03m\"\"\"\u001b[39;00m\n\u001b[0;32m    813\u001b[0m labels \u001b[38;5;241m=\u001b[39m ensure_index(labels)\n\u001b[1;32m--> 814\u001b[0m \u001b[38;5;28mself\u001b[39m\u001b[38;5;241m.\u001b[39m_mgr\u001b[38;5;241m.\u001b[39mset_axis(axis, labels)\n\u001b[0;32m    815\u001b[0m \u001b[38;5;28mself\u001b[39m\u001b[38;5;241m.\u001b[39m_clear_item_cache()\n",
      "File \u001b[1;32mc:\\Users\\Mart1\\anaconda3\\Lib\\site-packages\\pandas\\core\\internals\\managers.py:238\u001b[0m, in \u001b[0;36mBaseBlockManager.set_axis\u001b[1;34m(self, axis, new_labels)\u001b[0m\n\u001b[0;32m    236\u001b[0m \u001b[38;5;28;01mdef\u001b[39;00m \u001b[38;5;21mset_axis\u001b[39m(\u001b[38;5;28mself\u001b[39m, axis: AxisInt, new_labels: Index) \u001b[38;5;241m-\u001b[39m\u001b[38;5;241m>\u001b[39m \u001b[38;5;28;01mNone\u001b[39;00m:\n\u001b[0;32m    237\u001b[0m     \u001b[38;5;66;03m# Caller is responsible for ensuring we have an Index object.\u001b[39;00m\n\u001b[1;32m--> 238\u001b[0m     \u001b[38;5;28mself\u001b[39m\u001b[38;5;241m.\u001b[39m_validate_set_axis(axis, new_labels)\n\u001b[0;32m    239\u001b[0m     \u001b[38;5;28mself\u001b[39m\u001b[38;5;241m.\u001b[39maxes[axis] \u001b[38;5;241m=\u001b[39m new_labels\n",
      "File \u001b[1;32mc:\\Users\\Mart1\\anaconda3\\Lib\\site-packages\\pandas\\core\\internals\\base.py:98\u001b[0m, in \u001b[0;36mDataManager._validate_set_axis\u001b[1;34m(self, axis, new_labels)\u001b[0m\n\u001b[0;32m     95\u001b[0m     \u001b[38;5;28;01mpass\u001b[39;00m\n\u001b[0;32m     97\u001b[0m \u001b[38;5;28;01melif\u001b[39;00m new_len \u001b[38;5;241m!=\u001b[39m old_len:\n\u001b[1;32m---> 98\u001b[0m     \u001b[38;5;28;01mraise\u001b[39;00m \u001b[38;5;167;01mValueError\u001b[39;00m(\n\u001b[0;32m     99\u001b[0m         \u001b[38;5;124mf\u001b[39m\u001b[38;5;124m\"\u001b[39m\u001b[38;5;124mLength mismatch: Expected axis has \u001b[39m\u001b[38;5;132;01m{\u001b[39;00mold_len\u001b[38;5;132;01m}\u001b[39;00m\u001b[38;5;124m elements, new \u001b[39m\u001b[38;5;124m\"\u001b[39m\n\u001b[0;32m    100\u001b[0m         \u001b[38;5;124mf\u001b[39m\u001b[38;5;124m\"\u001b[39m\u001b[38;5;124mvalues have \u001b[39m\u001b[38;5;132;01m{\u001b[39;00mnew_len\u001b[38;5;132;01m}\u001b[39;00m\u001b[38;5;124m elements\u001b[39m\u001b[38;5;124m\"\u001b[39m\n\u001b[0;32m    101\u001b[0m     )\n",
      "\u001b[1;31mValueError\u001b[0m: Length mismatch: Expected axis has 21 elements, new values have 19 elements"
     ]
    }
   ],
   "source": [
    "path = os.getcwd()\n",
    "path = path + \"/Data_Frame\"\n",
    "\n",
    "df = pd.DataFrame()\n",
    "columns_name = ['type', '@typeName', '@id', 'geometry.type', 'geometry.@name',\n",
    "       'geometry.@srs', 'geometry.coordinates', 'properties.nom',\n",
    "       'properties.adresse', 'properties.code_insee', 'properties.commune',\n",
    "       'properties.etat', 'properties.type', 'properties.nb_places_dispo',\n",
    "       'properties.nb_velos_dispo', 'properties.etat_connexion',\n",
    "       'properties.x', 'properties.y', 'properties.date_modification']\n",
    "\n",
    "cols_to_drop = [\"geometry.type\", \"@typeName\", \"@id\"]\n",
    "for file in os.listdir(path):\n",
    "    if file.endswith(\".csv\"):\n",
    "        sub_df = pd.read_csv(path + \"/\" + file, names=columns_name)\n",
    "        display(sub_df.head())\n",
    "        sub_df.columns = columns_name\n",
    "        print(file)\n",
    "        print(sub_df.shape)\n",
    "        print(sub_df.columns)\n",
    "    df = pd.concat([df, sub_df], ignore_index=True)\n",
    "\n",
    "print(df.shape)\n"
   ]
  },
  {
   "cell_type": "code",
   "execution_count": 22,
   "metadata": {},
   "outputs": [
    {
     "name": "stderr",
     "output_type": "stream",
     "text": [
      "<>:1: SyntaxWarning: invalid escape sequence '\\d'\n",
      "<>:1: SyntaxWarning: invalid escape sequence '\\d'\n",
      "C:\\Users\\Mart1\\AppData\\Local\\Temp\\ipykernel_5508\\1411215352.py:1: SyntaxWarning: invalid escape sequence '\\d'\n",
      "  file_path = os.getcwd() + \"\\data\\\\\" + \"vlille_data_19_03_2025_19_12.csv\"\n"
     ]
    }
   ],
   "source": [
    "file_path = os.getcwd() + \"\\data\\\\\" + \"vlille_data_19_03_2025_19_12.csv\"\n",
    "test_df = pd.read_csv(file_path)\n"
   ]
  },
  {
   "cell_type": "code",
   "execution_count": 34,
   "metadata": {},
   "outputs": [
    {
     "name": "stdout",
     "output_type": "stream",
     "text": [
      "geometry.@srs\n",
      "EPSG:4326    302\n",
      "Name: count, dtype: int64\n"
     ]
    },
    {
     "data": {
      "text/plain": [
       "Index(['type', '@typeName', '@id', 'geometry.type', 'geometry.@name',\n",
       "       'geometry.@srs', 'geometry.coordinates', 'properties.nom',\n",
       "       'properties.adresse', 'properties.code_insee', 'properties.commune',\n",
       "       'properties.etat', 'properties.type', 'properties.nb_places_dispo',\n",
       "       'properties.nb_velos_dispo', 'properties.etat_connexion',\n",
       "       'properties.x', 'properties.y', 'properties.date_modification'],\n",
       "      dtype='object')"
      ]
     },
     "execution_count": 34,
     "metadata": {},
     "output_type": "execute_result"
    }
   ],
   "source": [
    "print(test_df[\"geometry.@srs\"].value_counts() ) \n",
    "# df[\"geometry.@srs\"].value_counts()\n",
    "test_df.columns"
   ]
  }
 ],
 "metadata": {
  "kernelspec": {
   "display_name": "base",
   "language": "python",
   "name": "python3"
  },
  "language_info": {
   "codemirror_mode": {
    "name": "ipython",
    "version": 3
   },
   "file_extension": ".py",
   "mimetype": "text/x-python",
   "name": "python",
   "nbconvert_exporter": "python",
   "pygments_lexer": "ipython3",
   "version": "3.12.7"
  }
 },
 "nbformat": 4,
 "nbformat_minor": 2
}
